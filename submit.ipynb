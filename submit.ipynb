{
 "cells": [
  {
   "cell_type": "code",
   "execution_count": 5,
   "metadata": {},
   "outputs": [
    {
     "name": "stdout",
     "output_type": "stream",
     "text": [
      "\n",
      "\n",
      "\n",
      "\n",
      "\n",
      "\n",
      "\n",
      "\n",
      "\n",
      "\n",
      "\n",
      "\n",
      "\n",
      "\n",
      "\n",
      "\n",
      "\n",
      "\n",
      "\n",
      "\n"
     ]
    }
   ],
   "source": [
    "import numpy as np\n",
    "from matplotlib import pyplot as plt\n",
    "import pandas as pd\n",
    "pd.set_option('display.float_format', lambda x: \"%.2E\" % x )\n",
    "import glob\n",
    "import tRecX_IO as io\n",
    "sim = io.tRecX_sim\n",
    "from scipy import constants\n",
    "import time\n",
    "#time.sleep(600)\n",
    "for i in [900, 950, 1000, 1050, 1100]:\n",
    "    for j in [8e13, 9e13, 1e14, 1.1e14]:\n",
    "        Inj_lam=i\n",
    "        Drive_lam=250\n",
    "        intensity=j\n",
    "        name=f'new_data/{Inj_lam}nm/{Drive_lam}_nm/I_{intensity:.2e}'\n",
    "        rex= sim(name)\n",
    "        rex.injection_Intensity_Wcm2=intensity\n",
    "        factor=1\n",
    "        BOX=60//factor\n",
    "        rex.upper_trunk=BOX\n",
    "        rex.boundary_au=BOX\n",
    "        rex.eta_coeff=90//factor\n",
    "        rex.phi_coeff=1\n",
    "        rex.lower_trunc=np.asarray(BOX)-10\n",
    "        rex.cutEnergy=200//factor\n",
    "        rex.grid_spacing=10\n",
    "        rex.fixStep=0.01*factor\n",
    "        rex.store=0.1\n",
    "        rex.expecVal_inside=f'\\'Occupation[0,1,2,3,4,5]\\''\n",
    "        ### injection ###\n",
    "        rex.injection_wavelength_nm=Inj_lam\n",
    "        rex.injection_CEPhase='cos'\n",
    "        rex.injection_FWHM=np.asarray([1])\n",
    "        ### drive ###\n",
    "        rex.drive_wavelength_nm=lamb=Drive_lam\n",
    "        rex.drive_Intensity_Wcm2=6e8\n",
    "        rex.drive_FWHM_OptCyc=0.7\n",
    "\n",
    "        rex.convergence_test_bool=False\n",
    "        rex.order=20\n",
    "        rex.Rn_coeff_outer=20\n",
    "        rex.R_density_Spectrum=256\n",
    "        rex.drive_polar_angle=0 \n",
    "        rex.calc()\n",
    "        rex.expecVals_outside='<1><1><GridWeight>, <1><Q><GridWeight*Q>, <cos(Q)><sqrt(1-Q*Q)><GridWeight*Q>, <sin(Q)><sqrt(1-Q*Q)><GridWeight*Q>'\n",
    "        #print(rex.end_sim, rex.N_drive, rex.N_injection)\n",
    "        rex.ecs_coeff=0.1\n",
    "        rex.N_drive=int(1.5*rex.N_drive)\n",
    "        rex.csv_populate_self()\n",
    "        for file in glob.glob(name+f'/list.csv'):\n",
    "            print(\"\")\n",
    "            #io.tRecX_write_inp(file)\n",
    "            #io.row_wise_submit_local(file, ncores=1)\n",
    "        del rex\n"
   ]
  },
  {
   "cell_type": "code",
   "execution_count": 3,
   "metadata": {},
   "outputs": [
    {
     "data": {
      "text/plain": [
       "'/home/user/tRecX/tRecX'"
      ]
     },
     "execution_count": 3,
     "metadata": {},
     "output_type": "execute_result"
    }
   ],
   "source": [
    "import os\n",
    "os.path.join(os.environ['HOME'],'tRecX','tRecX')"
   ]
  },
  {
   "cell_type": "code",
   "execution_count": 18,
   "metadata": {},
   "outputs": [
    {
     "name": "stdout",
     "output_type": "stream",
     "text": [
      "Defaulting to user installation because normal site-packages is not writeable\n",
      "Requirement already satisfied: SciPy in /usr/lib/python3/dist-packages (1.8.0)\n",
      "Collecting SciPy\n",
      "  Downloading scipy-1.13.0-cp310-cp310-manylinux_2_17_x86_64.manylinux2014_x86_64.whl (38.6 MB)\n",
      "\u001b[2K     \u001b[90m━━━━━━━━━━━━━━━━━━━━━━━━━━━━━━━━━━━━━━━━\u001b[0m \u001b[32m38.6/38.6 MB\u001b[0m \u001b[31m39.5 MB/s\u001b[0m eta \u001b[36m0:00:00\u001b[0m00:01\u001b[0m00:01\u001b[0m\n",
      "\u001b[?25hRequirement already satisfied: numpy<2.3,>=1.22.4 in /home/user/.local/lib/python3.10/site-packages (from SciPy) (1.26.4)\n",
      "Installing collected packages: SciPy\n",
      "Successfully installed SciPy-1.13.0\n"
     ]
    }
   ],
   "source": [
    "!pip install --upgrade SciPy"
   ]
  },
  {
   "cell_type": "code",
   "execution_count": null,
   "metadata": {},
   "outputs": [],
   "source": []
  }
 ],
 "metadata": {
  "interpreter": {
   "hash": "3699c021a0a25705708625bfe5548ee4d88ee455e175e31591814fe1bc974a73"
  },
  "kernelspec": {
   "display_name": "Python 3 (ipykernel)",
   "language": "python",
   "name": "python3"
  },
  "language_info": {
   "codemirror_mode": {
    "name": "ipython",
    "version": 3
   },
   "file_extension": ".py",
   "mimetype": "text/x-python",
   "name": "python",
   "nbconvert_exporter": "python",
   "pygments_lexer": "ipython3",
   "version": "3.10.12"
  }
 },
 "nbformat": 4,
 "nbformat_minor": 2
}
