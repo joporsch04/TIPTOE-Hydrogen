{
 "cells": [
  {
   "cell_type": "code",
   "execution_count": 1,
   "metadata": {},
   "outputs": [],
   "source": [
    "from lmfit import minimize, Parameters\n",
    "import kernel as kern\n",
    "import numpy as np\n",
    "import pandas as pd\n",
    "import plotly.graph_objects as go\n",
    "\n",
    "class AU:\n",
    "    meter = 5.2917720859e-11 # atomic unit of length in meters\n",
    "    nm = 5.2917721e-2 # atomic unit of length in nanometres\n",
    "    second = 2.418884328e-17 # atomic unit of time in seconds\n",
    "    fs = 2.418884328e-2 # atomic unit of time in femtoseconds\n",
    "    Joule = 4.359743935e-18 # atomic unit of energy in Joules\n",
    "    eV = 27.21138383 # atomic unit of energy in electronvolts\n",
    "    Volts_per_meter = 5.142206313e+11 # atomic unit of electric field in V/m\n",
    "    Volts_per_Angstrom = 51.42206313 # atomic unit of electric field in V/Angström\n",
    "    speed_of_light = 137.035999 # vacuum speed of light in atomic units\n",
    "    Coulomb = 1.60217646e-19 # atomic unit of electric charge in Coulombs\n",
    "    PW_per_cm2_au = 0.02849451308 # PW/cm^2 in atomic units\n",
    "AtomicUnits=AU\n",
    "\n",
    "IpEV_dict = {\n",
    "    \"H\": 0.5*27.2114, \"He\": 24.587, \"He_Hacc5\": 24.59, \"Ne\": 21.564, \"Kr\": 14.0, \"Xe\": 12.13,\n",
    "    \"Ar\": 15.7596, \"H2_Hacc5\": 15.439, \"CO_Hacc5\": 14.3, \"N2_Hacc5\": 14.531, \"Rb\": 4.1771,\n",
    "    \"Cs\": 3.8939, \"Fr\": 4.0727, \"K\": 4.3407, 'SiO2': 8.96\n",
    "}\n",
    "\n",
    "αPol_dict = {\n",
    "    \"H\": 4.51, \"He\": 1.38, \"Ne\": 2.66, \"Kr\": 16.8, \"Xe\": 27.3, \"Ar\": 11.1,\n",
    "    \"He_Hacc5\": 1.38, \"H2_Hacc5\": 0, \"CO_Hacc5\": 13.08, \"N2_Hacc5\": 11.5, \"Rb\": 320,\n",
    "    \"Cs\": 401, \"Fr\": 318, \"K\": 290, \"SiO2\": 6.16\n",
    "}"
   ]
  },
  {
   "cell_type": "markdown",
   "metadata": {},
   "source": [
    "## get input data to fit against"
   ]
  },
  {
   "cell_type": "code",
   "execution_count": 53,
   "metadata": {},
   "outputs": [],
   "source": [
    "import glob\n",
    "from scipy.integrate import simpson\n",
    "from field_functions import LaserField\n",
    "\n",
    "\n",
    "file_params = [\n",
    "    {\"name\":\"850nm_350nm_1.25e+14\", \"Pump_wavel\": 850, \"Pump_Int\": 1.25e14, \"Probe_wavel\": 350, \"Probe_Int\": 1e10, \"Probe_FWHM\": 0.93/AtomicUnits.fs},\n",
    "    {\"name\": \"850nm_350nm_7.50e+13\", \"Pump_wavel\": 850, \"Pump_Int\": 7.50e13, \"Probe_wavel\": 350, \"Probe_Int\": 6.00e09, \"Probe_FWHM\": 0.93/AtomicUnits.fs},\n",
    "    #{\"name\": \"900nm_320nm_5.00e+14\", \"Pump_wavel\": 900, \"Pump_Int\": 5e14, \"Probe_wavel\": 320, \"Probe_Int\": 4e10, \"Probe_FWHM\": 0.75/AtomicUnits.fs},\n",
    "    # {\"name\": \"1200nm_320nm_1.00e+14\", \"Pump_wavel\": 1200, \"Pump_Int\": 1e14, \"Probe_wavel\": 320, \"Probe_Int\": 4e10, \"Probe_FWHM\": 0.75/AtomicUnits.fs},\n",
    "    #{\"name\": \"1200nm_320nm_5.00e+14\", \"Pump_wavel\": 1200, \"Pump_Int\": 5e14, \"Probe_wavel\": 320, \"Probe_Int\": 4e10, \"Probe_FWHM\": 0.75/AtomicUnits.fs},\n",
    "]\n",
    "tmpFrame=pd.DataFrame()\n",
    "for currentFile in file_params:\n",
    "    tmp=pd.read_csv(f\"/home/user/TIPTOE/plot_ion_tau_calc_output_data/ion_prob_QS_NA_{currentFile['name']}.csv\")\n",
    "    TipToe_data=pd.DataFrame({\"delay\":tmp.delay, \n",
    "                            \"Y\":tmp.ion_y})\n",
    "    TipToe_data[\"Function_to_fit\"]=\"IonProb\"\n",
    "    pulses=[]\n",
    "    for dat in TipToe_data.iterrows():\n",
    "        dat=dat[1]\n",
    "        # pulse=LaserField()\n",
    "        # pulse.add_pulse(central_wavelength=currentFile[\"Pump_wavel\"], peak_intensity=currentFile[\"Pump_Int\"], CEP=0, FWHM=currentFile[\"Pump_wavel\"]*1/ AtomicUnits.nm / AtomicUnits.speed_of_light, t0=0)\n",
    "        # pulse.add_pulse(central_wavelength=currentFile[\"Probe_wavel\"], peak_intensity=currentFile[\"Probe_Int\"], CEP=-np.pi/2, FWHM=currentFile[\"Probe_FWHM\"], t0=-dat.delay)\n",
    "        laser_pulses = LaserField()\n",
    "        tau=dat.delay\n",
    "        laser_pulses.add_pulse(currentFile[\"Pump_wavel\"], currentFile[\"Pump_Int\"], 0, currentFile[\"Pump_wavel\"] / AtomicUnits.nm / AtomicUnits.speed_of_light)\n",
    "        laser_pulses.add_pulse(currentFile[\"Probe_wavel\"], currentFile[\"Probe_Int\"], -np.pi/2, currentFile[\"Probe_FWHM\"], t0=-tau)\n",
    "        pulses.append(laser_pulses)\n",
    "    TipToe_data[\"pulses\"]=pulses\n",
    "    TipToe_data[\"Function_to_fit\"]=\"IonProb\"\n",
    "    tmpFrame=pd.concat([tmpFrame, TipToe_data])\n",
    "TipToe_data=tmpFrame"
   ]
  },
  {
   "cell_type": "markdown",
   "metadata": {},
   "source": [
    "# Fitting"
   ]
  },
  {
   "cell_type": "markdown",
   "metadata": {},
   "source": [
    "## define models for Kernel, rate and ionization probability.\n",
    "### The residual function needs to be defined appropriately for the use-case"
   ]
  },
  {
   "cell_type": "markdown",
   "metadata": {},
   "source": [
    "##### provide list of indipendent variables that are NOT fit parameters and create corresponding models"
   ]
  },
  {
   "cell_type": "code",
   "execution_count": 30,
   "metadata": {},
   "outputs": [
    {
     "name": "stdout",
     "output_type": "stream",
     "text": [
      "The autoreload extension is already loaded. To reload it, use:\n",
      "  %reload_ext autoreload\n"
     ]
    }
   ],
   "source": [
    "%load_ext autoreload\n",
    "%autoreload\n",
    "independent_vars = ['t_grid', 'T_grid', 'I', 'wavel', 'cep', 'fwhmau']\n",
    "# Kernel = Model(kern.Kernel_jit, independent_vars=independent_vars)\n",
    "# Rate = Model(kern.IonRate, independent_vars=independent_vars)\n",
    "# @Script: kernels.py(kern.IonProb, independent_vars=independent_vars)\n",
    "\n",
    "from lmfit import Model\n",
    "\n",
    "# @Last Modified By: Manoram AgarwalIonRate\", \"analyticalRate\", \"IonProb\"]\n",
    "# @Last Modified At: 2024-07-21 16:40:43den_vars=None, params=None):\n",
    "\n",
    "IonProb=np.vectorize(kern.IonProb)\n",
    "def model_unified(params, data):\n",
    "    from field_functions import LaserField\n",
    "    try:\n",
    "        params=params.valuesdict()\n",
    "    except:\n",
    "        print(\"\")\n",
    "    Function_to_fit=data.Function_to_fit.to_numpy()\n",
    "    gamma=params['gamma']\n",
    "    Multiplier,  e0, a0, a1, b0, b1, b2, p1, d1, Ip, αPol= params['Multiplier'], gamma/2*params['e0'], 4*gamma*params['a0'], params['a1'], 4*gamma**2*params['b0'], 2*gamma*params['b1']*params['a1'], params['b2'], params['p1'], params['d1'], params['Ip'], params['αPol']\n",
    "    model=np.zeros(Function_to_fit.shape)\n",
    "    \n",
    "    if np.any(Function_to_fit) == \"Log_QSRate\":\n",
    "        model = kern.QSRate(data.field.to_numpy(), Multiplier,  e0, a0, a1, b0, b1, b2, p1, d1, Ip, αPol)\n",
    "        #print(model)\n",
    "        model = np.log(model) # calculate QS rate at peak, c2 is not required here\n",
    "    elif np.any(Function_to_fit) == \"QSRate\":\n",
    "        model = kern.QSRate(data.field.to_numpy(), Multiplier,  e0, a0, a1, b0, b1, b2, p1, d1, Ip, αPol)\n",
    "    else:\n",
    "        pulses=data.pulses\n",
    "        if np.any(Function_to_fit) == \"Kernel\":\n",
    "            c2=-16/9*params['b2']*params['c2']\n",
    "            model = kern.Kernel_jit(data.t_grid, data.T_grid, pulses, Multiplier,  e0, a0, a1, b0, b1, b2, c2, p1, d1, Ip, αPol)\n",
    "        if np.any(Function_to_fit) == \"IonRate\":\n",
    "            c2=-16/9*params['b2']*params['c2']\n",
    "            model = kern.IonRate(data.t_grid, pulses, Multiplier,  e0, a0, a1, b0, b1, b2, c2, p1, d1, Ip, αPol, dT=0.25)\n",
    "        if np.any(Function_to_fit) == \"IonProb\":\n",
    "            c2=-16/9*params['b2']*params['c2']\n",
    "            # print(e0, a0, a1, b0, b1, b2, c2, p1, d1, Ip, αPol)\n",
    "            model = 1-np.exp(-IonProb(pulses, Multiplier,  e0, a0, a1, b0, b1, b2, c2, p1, d1, Ip, αPol))\n",
    "    #print(model)\n",
    "    return np.nan_to_num(model)\n",
    "\n",
    "\n",
    "def residuals(params, data_Nadiabatic=None, uncertainty_adiabatic=None, data_QS=None, uncertainty_QS=None):\n",
    "    \"\"\"this function will calculate the residuals automatically providing the right input data for a given function\n",
    "    prams is a special object that allows manipulation of fit parameters, including fixing them and providing a mathematical expression based on another new parameter\n",
    "\n",
    "    Args:\n",
    "        params (lmfit.Parameters()): a dictionary like object containing all information about the fit parameters like bounds, initial guess, fixed mathematical expressions etc. \n",
    "        x (an array of dictionaryies of lenght(data)): contains all input data relevant for obtaining data given parameters\n",
    "        data (a 1d array of numbers with corresponding x): the data can combine numbers from different funcitons as long as the corresponding x is the same\n",
    "        uncertainty (array, len(data)): to be used to weight the dataset according to needs\n",
    "    \"\"\"\n",
    "    res_QS=[0.]\n",
    "    res_Nad=[0.]\n",
    "    if data_Nadiabatic is not None:\n",
    "        res_Nad= (model_unified(params, data_Nadiabatic)-data_Nadiabatic.Y.to_numpy())/uncertainty_adiabatic\n",
    "    if data_QS is not None:\n",
    "        res_QS= (model_unified(params, data_QS)-data_QS.Y.to_numpy())/uncertainty_QS\n",
    "    return np.concatenate((res_QS,res_Nad))\n"
   ]
  },
  {
   "cell_type": "markdown",
   "metadata": {},
   "source": [
    "## fit for Numerical QS rates"
   ]
  },
  {
   "cell_type": "code",
   "execution_count": 70,
   "metadata": {},
   "outputs": [
    {
     "data": {
      "application/vnd.plotly.v1+json": {
       "config": {
        "plotlyServerURL": "https://plot.ly"
       },
       "data": [
        {
         "line": {
          "color": "red"
         },
         "mode": "lines+markers",
         "name": "numerical dataQS",
         "type": "scatter",
         "x": [
          0.04,
          0.05,
          0.0599999999999999,
          0.07,
          0.08,
          0.0899999999999999,
          0.1,
          0.11,
          0.12,
          0.13,
          0.14,
          0.1499999999999999,
          0.16,
          0.17,
          0.1799999999999999,
          0.19,
          0.2,
          0.2099999999999999,
          0.22,
          0.23,
          0.2399999999999999,
          0.25,
          0.26,
          0.27,
          0.28,
          0.2899999999999999,
          0.2999999999999999,
          0.31,
          0.32,
          0.33,
          0.34,
          0.3499999999999999,
          0.3599999999999999,
          0.37,
          0.38,
          0.39,
          0.4,
          0.4099999999999999,
          0.4199999999999999,
          0.4299999999999999,
          0.44,
          0.45,
          0.46,
          0.4699999999999999,
          0.4799999999999999,
          0.4899999999999999,
          0.5,
          0.51,
          0.52,
          0.53,
          0.54,
          0.55,
          0.56,
          0.57,
          0.5799999999999998,
          0.5899999999999999,
          0.5999999999999999,
          0.6099999999999999,
          0.62,
          0.63,
          0.64,
          0.65,
          0.66,
          0.67,
          0.68,
          0.69,
          0.6999999999999998,
          0.7099999999999999,
          0.7199999999999999,
          0.7299999999999999,
          0.7399999999999999,
          0.75,
          0.76,
          0.77,
          0.78,
          0.79,
          0.8,
          0.81,
          0.82,
          0.8299999999999998,
          0.8399999999999999,
          0.8499999999999999,
          0.8599999999999999,
          0.87,
          0.88,
          0.89,
          0.9,
          0.91,
          0.92,
          0.93,
          0.94,
          0.95,
          0.96,
          0.97,
          0.98,
          0.99,
          1
         ],
         "y": [
          -12.456407556174076,
          -9.469316230412156,
          -7.571193194908448,
          -6.293993048989321,
          -5.394903699292521,
          -4.734826297706174,
          -4.2309815587743245,
          -3.832992190325799,
          -3.509366867534558,
          -3.239781410209568,
          -3.0106739426750755,
          -2.812700204609626,
          -2.6392294850310654,
          -2.4854304474553874,
          -2.347699010105167,
          -2.2232899444697645,
          -2.110073206748589,
          -2.00636872914243,
          -1.910831840158242,
          -1.8223721406474096,
          -1.7400949774596093,
          -1.663258491752981,
          -1.5912416024218647,
          -1.5235197976272192,
          -1.4596465912626542,
          -1.3992391468271248,
          -1.341967009160954,
          -1.2875431827643569,
          -1.2357170006919955,
          -1.1862683731053714,
          -1.1390031176660669,
          -1.0937491300998126,
          -1.0503532284651902,
          -1.0086785338738882,
          -0.968602282472791,
          -0.9300139870763517,
          -0.8928138841486138,
          -0.8569116172543325,
          -0.8222251118863686,
          -0.7886796096700527,
          -0.7562068421551287,
          -0.7247443258599235,
          -0.694234709462519,
          -0.6646252581787434,
          -0.6358673874682299,
          -0.6079162219776792,
          -0.58073025083406,
          -0.554270996099721,
          -0.5285027385550727,
          -0.5033922657611386,
          -0.4789086181921112,
          -0.4550229484550484,
          -0.4317082784938693,
          -0.408939362269425,
          -0.3866925812252377,
          -0.364945762007392,
          -0.343678062080371,
          -0.322869913068698,
          -0.3025028863790382,
          -0.2825595837141768,
          -0.2630236539608047,
          -0.2438795538015858,
          -0.2251126828185573,
          -0.2067091964949281,
          -0.188655952244983,
          -0.1709405199953851,
          -0.1535511103304063,
          -0.1364764869214444,
          -0.1197060175874196,
          -0.1032295579238443,
          -0.0870374562692599,
          -0.0711205012621069,
          -0.055469989781513,
          -0.0400775137618955,
          -0.0249351068459141,
          -0.0100351366913184,
          0.0046296860435108,
          0.0190663257619108,
          0.0332814419047097,
          0.0472814543621743,
          0.0610724694842106,
          0.0746603719602109,
          0.0880507836671534,
          0.101249123345522,
          0.1142605709525222,
          0.1270901160291236,
          0.1397425589755574,
          0.1522225174273342,
          0.1645344180235209,
          0.1766825379334801,
          0.1886710231157639,
          0.2005038075866908,
          0.2121846871693489,
          0.2237173777178327,
          0.2351054790326552,
          0.2463523174970199,
          0.2574613443196641
         ]
        },
        {
         "line": {
          "color": "blue"
         },
         "mode": "lines",
         "name": "fit QS",
         "type": "scatter",
         "x": [
          0.04,
          0.05,
          0.0599999999999999,
          0.07,
          0.08,
          0.0899999999999999,
          0.1,
          0.11,
          0.12,
          0.13,
          0.14,
          0.1499999999999999,
          0.16,
          0.17,
          0.1799999999999999,
          0.19,
          0.2,
          0.2099999999999999,
          0.22,
          0.23,
          0.2399999999999999,
          0.25,
          0.26,
          0.27,
          0.28,
          0.2899999999999999,
          0.2999999999999999,
          0.31,
          0.32,
          0.33,
          0.34,
          0.3499999999999999,
          0.3599999999999999,
          0.37,
          0.38,
          0.39,
          0.4,
          0.4099999999999999,
          0.4199999999999999,
          0.4299999999999999,
          0.44,
          0.45,
          0.46,
          0.4699999999999999,
          0.4799999999999999,
          0.4899999999999999,
          0.5,
          0.51,
          0.52,
          0.53,
          0.54,
          0.55,
          0.56,
          0.57,
          0.5799999999999998,
          0.5899999999999999,
          0.5999999999999999,
          0.6099999999999999,
          0.62,
          0.63,
          0.64,
          0.65,
          0.66,
          0.67,
          0.68,
          0.69,
          0.6999999999999998,
          0.7099999999999999,
          0.7199999999999999,
          0.7299999999999999,
          0.7399999999999999,
          0.75,
          0.76,
          0.77,
          0.78,
          0.79,
          0.8,
          0.81,
          0.82,
          0.8299999999999998,
          0.8399999999999999,
          0.8499999999999999,
          0.8599999999999999,
          0.87,
          0.88,
          0.89,
          0.9,
          0.91,
          0.92,
          0.93,
          0.94,
          0.95,
          0.96,
          0.97,
          0.98,
          0.99,
          1
         ],
         "y": [
          -12.29078540715574,
          -9.422698142423515,
          -7.613469876669346,
          -6.382093173325025,
          -5.494632438545903,
          -4.825836896121198,
          -4.303697270721253,
          -3.884370594396166,
          -3.5398293621509844,
          -3.251381228769857,
          -3.0060925416882527,
          -2.794726170638082,
          -2.6105040958011445,
          -2.448336926502854,
          -2.3043275016450675,
          -2.175440982711922,
          -2.059279404740278,
          -1.9539237614823943,
          -1.857820967433118,
          -1.7697013881699388,
          -1.688517658054029,
          -1.6133986162945642,
          -1.543614168909206,
          -1.4785481698056782,
          -1.4176772694686959,
          -1.360554259746068,
          -1.306794844085782,
          -1.2560670441276935,
          -1.2080826541313483,
          -1.162590299605661,
          -1.1193697627408468,
          -1.078227315116263,
          -1.0389918572663095,
          -1.0015117083316107,
          -0.9656519227544001,
          -0.9312920367827543,
          -0.8983241671393724,
          -0.8666513999850052,
          -0.8361864199950267,
          -0.8068503393571137,
          -0.7785716935772233,
          -0.751285577203315,
          -0.7249328975515296,
          -0.6994597279543694,
          -0.674816745671738,
          -0.650958741693385,
          -0.6278441920703729,
          -0.6054348820675576,
          -0.5836955754988916,
          -0.5625937232027922,
          -0.5420992054166948,
          -0.5221841033822536,
          -0.5028224965334779,
          -0.48399028188013027,
          -0.4656650128951434,
          -0.4478257553822279,
          -0.43045295839613706,
          -0.413528338281094,
          -0.3970347744065876,
          -0.38095621511144245,
          -0.3652775929530752,
          -0.34998474771420235,
          -0.3350643570742645,
          -0.32050387328812313,
          -0.30629146584707717,
          -0.2924159691127668,
          -0.2788668348228306,
          -0.2656340884683027,
          -0.2527082893412632,
          -0.24008049427786002,
          -0.22774222413717368,
          -0.21568543300784962,
          -0.20390247988685506,
          -0.19238610300577139,
          -0.18112939548622614,
          -0.17012578342018272,
          -0.15936900526866887,
          -0.1488530931185543,
          -0.13857235497296588,
          -0.1285213586397648,
          -0.11869491662669235,
          -0.10908807206398859,
          -0.09969608574719868,
          -0.09051442397455325,
          -0.08153874715794811,
          -0.07276489962246667,
          -0.06418889922225435,
          -0.05580692858589478,
          -0.04761532634092111,
          -0.03961057920370701,
          -0.03178931406505103,
          -0.024148291315705974,
          -0.016684398173158976,
          -0.009394642190415817,
          -0.0022761456410490466,
          0.004673860187472642,
          0.011458039785119736
         ]
        }
       ],
       "layout": {
        "template": {
         "data": {
          "bar": [
           {
            "error_x": {
             "color": "#2a3f5f"
            },
            "error_y": {
             "color": "#2a3f5f"
            },
            "marker": {
             "line": {
              "color": "#E5ECF6",
              "width": 0.5
             },
             "pattern": {
              "fillmode": "overlay",
              "size": 10,
              "solidity": 0.2
             }
            },
            "type": "bar"
           }
          ],
          "barpolar": [
           {
            "marker": {
             "line": {
              "color": "#E5ECF6",
              "width": 0.5
             },
             "pattern": {
              "fillmode": "overlay",
              "size": 10,
              "solidity": 0.2
             }
            },
            "type": "barpolar"
           }
          ],
          "carpet": [
           {
            "aaxis": {
             "endlinecolor": "#2a3f5f",
             "gridcolor": "white",
             "linecolor": "white",
             "minorgridcolor": "white",
             "startlinecolor": "#2a3f5f"
            },
            "baxis": {
             "endlinecolor": "#2a3f5f",
             "gridcolor": "white",
             "linecolor": "white",
             "minorgridcolor": "white",
             "startlinecolor": "#2a3f5f"
            },
            "type": "carpet"
           }
          ],
          "choropleth": [
           {
            "colorbar": {
             "outlinewidth": 0,
             "ticks": ""
            },
            "type": "choropleth"
           }
          ],
          "contour": [
           {
            "colorbar": {
             "outlinewidth": 0,
             "ticks": ""
            },
            "colorscale": [
             [
              0,
              "#0d0887"
             ],
             [
              0.1111111111111111,
              "#46039f"
             ],
             [
              0.2222222222222222,
              "#7201a8"
             ],
             [
              0.3333333333333333,
              "#9c179e"
             ],
             [
              0.4444444444444444,
              "#bd3786"
             ],
             [
              0.5555555555555556,
              "#d8576b"
             ],
             [
              0.6666666666666666,
              "#ed7953"
             ],
             [
              0.7777777777777778,
              "#fb9f3a"
             ],
             [
              0.8888888888888888,
              "#fdca26"
             ],
             [
              1,
              "#f0f921"
             ]
            ],
            "type": "contour"
           }
          ],
          "contourcarpet": [
           {
            "colorbar": {
             "outlinewidth": 0,
             "ticks": ""
            },
            "type": "contourcarpet"
           }
          ],
          "heatmap": [
           {
            "colorbar": {
             "outlinewidth": 0,
             "ticks": ""
            },
            "colorscale": [
             [
              0,
              "#0d0887"
             ],
             [
              0.1111111111111111,
              "#46039f"
             ],
             [
              0.2222222222222222,
              "#7201a8"
             ],
             [
              0.3333333333333333,
              "#9c179e"
             ],
             [
              0.4444444444444444,
              "#bd3786"
             ],
             [
              0.5555555555555556,
              "#d8576b"
             ],
             [
              0.6666666666666666,
              "#ed7953"
             ],
             [
              0.7777777777777778,
              "#fb9f3a"
             ],
             [
              0.8888888888888888,
              "#fdca26"
             ],
             [
              1,
              "#f0f921"
             ]
            ],
            "type": "heatmap"
           }
          ],
          "heatmapgl": [
           {
            "colorbar": {
             "outlinewidth": 0,
             "ticks": ""
            },
            "colorscale": [
             [
              0,
              "#0d0887"
             ],
             [
              0.1111111111111111,
              "#46039f"
             ],
             [
              0.2222222222222222,
              "#7201a8"
             ],
             [
              0.3333333333333333,
              "#9c179e"
             ],
             [
              0.4444444444444444,
              "#bd3786"
             ],
             [
              0.5555555555555556,
              "#d8576b"
             ],
             [
              0.6666666666666666,
              "#ed7953"
             ],
             [
              0.7777777777777778,
              "#fb9f3a"
             ],
             [
              0.8888888888888888,
              "#fdca26"
             ],
             [
              1,
              "#f0f921"
             ]
            ],
            "type": "heatmapgl"
           }
          ],
          "histogram": [
           {
            "marker": {
             "pattern": {
              "fillmode": "overlay",
              "size": 10,
              "solidity": 0.2
             }
            },
            "type": "histogram"
           }
          ],
          "histogram2d": [
           {
            "colorbar": {
             "outlinewidth": 0,
             "ticks": ""
            },
            "colorscale": [
             [
              0,
              "#0d0887"
             ],
             [
              0.1111111111111111,
              "#46039f"
             ],
             [
              0.2222222222222222,
              "#7201a8"
             ],
             [
              0.3333333333333333,
              "#9c179e"
             ],
             [
              0.4444444444444444,
              "#bd3786"
             ],
             [
              0.5555555555555556,
              "#d8576b"
             ],
             [
              0.6666666666666666,
              "#ed7953"
             ],
             [
              0.7777777777777778,
              "#fb9f3a"
             ],
             [
              0.8888888888888888,
              "#fdca26"
             ],
             [
              1,
              "#f0f921"
             ]
            ],
            "type": "histogram2d"
           }
          ],
          "histogram2dcontour": [
           {
            "colorbar": {
             "outlinewidth": 0,
             "ticks": ""
            },
            "colorscale": [
             [
              0,
              "#0d0887"
             ],
             [
              0.1111111111111111,
              "#46039f"
             ],
             [
              0.2222222222222222,
              "#7201a8"
             ],
             [
              0.3333333333333333,
              "#9c179e"
             ],
             [
              0.4444444444444444,
              "#bd3786"
             ],
             [
              0.5555555555555556,
              "#d8576b"
             ],
             [
              0.6666666666666666,
              "#ed7953"
             ],
             [
              0.7777777777777778,
              "#fb9f3a"
             ],
             [
              0.8888888888888888,
              "#fdca26"
             ],
             [
              1,
              "#f0f921"
             ]
            ],
            "type": "histogram2dcontour"
           }
          ],
          "mesh3d": [
           {
            "colorbar": {
             "outlinewidth": 0,
             "ticks": ""
            },
            "type": "mesh3d"
           }
          ],
          "parcoords": [
           {
            "line": {
             "colorbar": {
              "outlinewidth": 0,
              "ticks": ""
             }
            },
            "type": "parcoords"
           }
          ],
          "pie": [
           {
            "automargin": true,
            "type": "pie"
           }
          ],
          "scatter": [
           {
            "fillpattern": {
             "fillmode": "overlay",
             "size": 10,
             "solidity": 0.2
            },
            "type": "scatter"
           }
          ],
          "scatter3d": [
           {
            "line": {
             "colorbar": {
              "outlinewidth": 0,
              "ticks": ""
             }
            },
            "marker": {
             "colorbar": {
              "outlinewidth": 0,
              "ticks": ""
             }
            },
            "type": "scatter3d"
           }
          ],
          "scattercarpet": [
           {
            "marker": {
             "colorbar": {
              "outlinewidth": 0,
              "ticks": ""
             }
            },
            "type": "scattercarpet"
           }
          ],
          "scattergeo": [
           {
            "marker": {
             "colorbar": {
              "outlinewidth": 0,
              "ticks": ""
             }
            },
            "type": "scattergeo"
           }
          ],
          "scattergl": [
           {
            "marker": {
             "colorbar": {
              "outlinewidth": 0,
              "ticks": ""
             }
            },
            "type": "scattergl"
           }
          ],
          "scattermapbox": [
           {
            "marker": {
             "colorbar": {
              "outlinewidth": 0,
              "ticks": ""
             }
            },
            "type": "scattermapbox"
           }
          ],
          "scatterpolar": [
           {
            "marker": {
             "colorbar": {
              "outlinewidth": 0,
              "ticks": ""
             }
            },
            "type": "scatterpolar"
           }
          ],
          "scatterpolargl": [
           {
            "marker": {
             "colorbar": {
              "outlinewidth": 0,
              "ticks": ""
             }
            },
            "type": "scatterpolargl"
           }
          ],
          "scatterternary": [
           {
            "marker": {
             "colorbar": {
              "outlinewidth": 0,
              "ticks": ""
             }
            },
            "type": "scatterternary"
           }
          ],
          "surface": [
           {
            "colorbar": {
             "outlinewidth": 0,
             "ticks": ""
            },
            "colorscale": [
             [
              0,
              "#0d0887"
             ],
             [
              0.1111111111111111,
              "#46039f"
             ],
             [
              0.2222222222222222,
              "#7201a8"
             ],
             [
              0.3333333333333333,
              "#9c179e"
             ],
             [
              0.4444444444444444,
              "#bd3786"
             ],
             [
              0.5555555555555556,
              "#d8576b"
             ],
             [
              0.6666666666666666,
              "#ed7953"
             ],
             [
              0.7777777777777778,
              "#fb9f3a"
             ],
             [
              0.8888888888888888,
              "#fdca26"
             ],
             [
              1,
              "#f0f921"
             ]
            ],
            "type": "surface"
           }
          ],
          "table": [
           {
            "cells": {
             "fill": {
              "color": "#EBF0F8"
             },
             "line": {
              "color": "white"
             }
            },
            "header": {
             "fill": {
              "color": "#C8D4E3"
             },
             "line": {
              "color": "white"
             }
            },
            "type": "table"
           }
          ]
         },
         "layout": {
          "annotationdefaults": {
           "arrowcolor": "#2a3f5f",
           "arrowhead": 0,
           "arrowwidth": 1
          },
          "autotypenumbers": "strict",
          "coloraxis": {
           "colorbar": {
            "outlinewidth": 0,
            "ticks": ""
           }
          },
          "colorscale": {
           "diverging": [
            [
             0,
             "#8e0152"
            ],
            [
             0.1,
             "#c51b7d"
            ],
            [
             0.2,
             "#de77ae"
            ],
            [
             0.3,
             "#f1b6da"
            ],
            [
             0.4,
             "#fde0ef"
            ],
            [
             0.5,
             "#f7f7f7"
            ],
            [
             0.6,
             "#e6f5d0"
            ],
            [
             0.7,
             "#b8e186"
            ],
            [
             0.8,
             "#7fbc41"
            ],
            [
             0.9,
             "#4d9221"
            ],
            [
             1,
             "#276419"
            ]
           ],
           "sequential": [
            [
             0,
             "#0d0887"
            ],
            [
             0.1111111111111111,
             "#46039f"
            ],
            [
             0.2222222222222222,
             "#7201a8"
            ],
            [
             0.3333333333333333,
             "#9c179e"
            ],
            [
             0.4444444444444444,
             "#bd3786"
            ],
            [
             0.5555555555555556,
             "#d8576b"
            ],
            [
             0.6666666666666666,
             "#ed7953"
            ],
            [
             0.7777777777777778,
             "#fb9f3a"
            ],
            [
             0.8888888888888888,
             "#fdca26"
            ],
            [
             1,
             "#f0f921"
            ]
           ],
           "sequentialminus": [
            [
             0,
             "#0d0887"
            ],
            [
             0.1111111111111111,
             "#46039f"
            ],
            [
             0.2222222222222222,
             "#7201a8"
            ],
            [
             0.3333333333333333,
             "#9c179e"
            ],
            [
             0.4444444444444444,
             "#bd3786"
            ],
            [
             0.5555555555555556,
             "#d8576b"
            ],
            [
             0.6666666666666666,
             "#ed7953"
            ],
            [
             0.7777777777777778,
             "#fb9f3a"
            ],
            [
             0.8888888888888888,
             "#fdca26"
            ],
            [
             1,
             "#f0f921"
            ]
           ]
          },
          "colorway": [
           "#636efa",
           "#EF553B",
           "#00cc96",
           "#ab63fa",
           "#FFA15A",
           "#19d3f3",
           "#FF6692",
           "#B6E880",
           "#FF97FF",
           "#FECB52"
          ],
          "font": {
           "color": "#2a3f5f"
          },
          "geo": {
           "bgcolor": "white",
           "lakecolor": "white",
           "landcolor": "#E5ECF6",
           "showlakes": true,
           "showland": true,
           "subunitcolor": "white"
          },
          "hoverlabel": {
           "align": "left"
          },
          "hovermode": "closest",
          "mapbox": {
           "style": "light"
          },
          "paper_bgcolor": "white",
          "plot_bgcolor": "#E5ECF6",
          "polar": {
           "angularaxis": {
            "gridcolor": "white",
            "linecolor": "white",
            "ticks": ""
           },
           "bgcolor": "#E5ECF6",
           "radialaxis": {
            "gridcolor": "white",
            "linecolor": "white",
            "ticks": ""
           }
          },
          "scene": {
           "xaxis": {
            "backgroundcolor": "#E5ECF6",
            "gridcolor": "white",
            "gridwidth": 2,
            "linecolor": "white",
            "showbackground": true,
            "ticks": "",
            "zerolinecolor": "white"
           },
           "yaxis": {
            "backgroundcolor": "#E5ECF6",
            "gridcolor": "white",
            "gridwidth": 2,
            "linecolor": "white",
            "showbackground": true,
            "ticks": "",
            "zerolinecolor": "white"
           },
           "zaxis": {
            "backgroundcolor": "#E5ECF6",
            "gridcolor": "white",
            "gridwidth": 2,
            "linecolor": "white",
            "showbackground": true,
            "ticks": "",
            "zerolinecolor": "white"
           }
          },
          "shapedefaults": {
           "line": {
            "color": "#2a3f5f"
           }
          },
          "ternary": {
           "aaxis": {
            "gridcolor": "white",
            "linecolor": "white",
            "ticks": ""
           },
           "baxis": {
            "gridcolor": "white",
            "linecolor": "white",
            "ticks": ""
           },
           "bgcolor": "#E5ECF6",
           "caxis": {
            "gridcolor": "white",
            "linecolor": "white",
            "ticks": ""
           }
          },
          "title": {
           "x": 0.05
          },
          "xaxis": {
           "automargin": true,
           "gridcolor": "white",
           "linecolor": "white",
           "ticks": "",
           "title": {
            "standoff": 15
           },
           "zerolinecolor": "white",
           "zerolinewidth": 2
          },
          "yaxis": {
           "automargin": true,
           "gridcolor": "white",
           "linecolor": "white",
           "ticks": "",
           "title": {
            "standoff": 15
           },
           "zerolinecolor": "white",
           "zerolinewidth": 2
          }
         }
        },
        "title": {
         "text": "Gas=H"
        },
        "xaxis": {
         "title": {
          "text": "Field Strength"
         }
        },
        "yaxis": {
         "title": {
          "text": "Log(Rate)"
         }
        }
       }
      }
     },
     "metadata": {},
     "output_type": "display_data"
    },
    {
     "name": "stdout",
     "output_type": "stream",
     "text": [
      "{'Multiplier': 0.4386088877184498, 'Ip': 0.5, 'αPol': 4.51, 'gamma': 1.8870123015328923, 'e0': 4.111296042707333, 'a0': 1, 'a1': 1.0, 'b0': 1.0, 'b1': 1, 'b2': 1, 'p1': 3.5, 'd1': 0.26496912584715576}\n",
      "Name           Value      Min      Max   Stderr     Vary     Expr Brute_Step\n",
      "Ip               0.5     0.45     0.55     None    False     None     None\n",
      "Multiplier    0.4386    0.001     1000     None     True     None     None\n",
      "a0                 1      0.9      1.1     None    False     None     None\n",
      "a1                 1     -inf      inf     None    False     None     None\n",
      "b0                 1     -inf      inf     None    False     None     None\n",
      "b1                 1      0.9      1.1     None    False     None     None\n",
      "b2                 1      0.9      1.1     None    False     None     None\n",
      "d1             0.265     -inf      inf     None    False 0.5/gamma     None\n",
      "e0             4.111        0       10     None     True     None     None\n",
      "gamma          1.887      0.3        6     None     True     None     None\n",
      "p1               3.5      2.5      4.5     None    False     None     None\n",
      "αPol            4.51     -inf      inf     None    False     None     None\n"
     ]
    },
    {
     "data": {
      "application/vnd.plotly.v1+json": {
       "config": {
        "plotlyServerURL": "https://plot.ly"
       },
       "data": [
        {
         "line": {
          "color": "red"
         },
         "mode": "lines+markers",
         "name": "numerical dataQS",
         "type": "scatter",
         "x": [
          0.0699916527,
          0.0750035612,
          0.0800042736,
          0.084995766,
          0.0899954073,
          0.0950019111,
          0.0999999987,
          0.1050044429,
          0.1100014235,
          0.1150043041,
          0.1200004734,
          0.1250021357,
          0.1299976965,
          0.1349983886,
          0.1400036622,
          0.1450032164,
          0.1499976232,
          0.1549965736,
          0.1599996417,
          0.1649978173,
          0.1699915319,
          0.17503002,
          0.1800066471,
          0.1850034443,
          0.1900188204,
          0.1949782755,
          0.2000284935,
          0.2050238197,
          0.2099681719,
          0.214997661,
          0.2199769383,
          0.2249726847,
          0.2299838268,
          0.2350093799,
          0.2399890723,
          0.2449838715,
          0.2499928721,
          0.2550152371,
          0.259995393,
          0.2649894977,
          0.2699967772,
          0.2750165119,
          0.2799971465,
          0.2849907342,
          0.2899966059,
          0.2950141362,
          0.2999952463,
          0.3049884447,
          0.3099931471,
          0.3150088053,
          0.3199903775,
          0.3249832801,
          0.3299869985,
          0.3350010483,
          0.3399830639,
          0.3450170423,
          0.3500193329,
          0.3549912752,
          0.3600132942,
          0.3650052556,
          0.3700068886,
          0.375017806,
          0.380000145,
          0.3849920283,
          0.3899930895,
          0.3950029799,
          0.3999857454,
          0.4050127571,
          0.4100128881,
          0.4149871101,
          0.4200042013,
          0.424995594,
          0.429995322,
          0.435003098,
          0.4399862631,
          0.4450096882,
          0.4500087018,
          0.4550154251,
          0.459998631,
          0.4649897207,
          0.4699884429,
          0.4749945566,
          0.4800078306,
          0.4849986642,
          0.4899968239,
          0.4950020877,
          0.5000142423
         ],
         "y": [
          -15.7469043337,
          -14.542105667,
          -13.49286153,
          -12.5716958895,
          -11.7572758051,
          -11.0327884468,
          -10.3848037385,
          -9.8024608705,
          -9.2768760699,
          -8.800704875,
          -8.3678144527,
          -7.9730356599,
          -7.6119737366,
          -7.2808626035,
          -6.9764518621,
          -6.6959184664,
          -6.4367970819,
          -6.1969246445,
          -5.9743957471,
          -5.7675263206,
          -5.5748237116,
          -5.394961741,
          -5.2267596813,
          -5.069164366,
          -4.9212348337,
          -4.7821290578,
          -4.651092415,
          -4.5274476228,
          -4.4105859307,
          -4.2999593891,
          -4.1950740542,
          -4.0954840051,
          -4.000786072,
          -3.9106151859,
          -3.824640274,
          -3.7425606332,
          -3.6641027246,
          -3.5890173366,
          -3.5170770735,
          -3.4480741289,
          -3.3818183107,
          -3.3181352871,
          -3.2568650271,
          -3.1978604126,
          -3.1409860019,
          -3.0861169262,
          -3.0331379041,
          -2.9819423602,
          -2.932431636,
          -2.8845142818,
          -2.8381054216,
          -2.7931261815,
          -2.7495031755,
          -2.7071680417,
          -2.666057024,
          -2.6261105938,
          -2.5872731075,
          -2.5494924966,
          -2.5127199861,
          -2.4769098388,
          -2.442019123,
          -2.4080075003,
          -2.3748370328,
          -2.3424720069,
          -2.3108787718,
          -2.2800255922,
          -2.2498825136,
          -2.2204212377,
          -2.1916150094,
          -2.1634385117,
          -2.1358677698,
          -2.1088800624,
          -2.0824538398,
          -2.056568649,
          -2.0312050634,
          -2.0063446187,
          -1.9819697534,
          -1.9580637533,
          -1.9346107001,
          -1.9115954243,
          -1.8890034605,
          -1.8668210068,
          -1.8450348863,
          -1.8236325113,
          -1.8026018507,
          -1.7819313983,
          -1.7616101446
         ]
        },
        {
         "line": {
          "color": "blue"
         },
         "mode": "lines",
         "name": "fit QS",
         "type": "scatter",
         "x": [
          0.0699916527,
          0.0750035612,
          0.0800042736,
          0.084995766,
          0.0899954073,
          0.0950019111,
          0.0999999987,
          0.1050044429,
          0.1100014235,
          0.1150043041,
          0.1200004734,
          0.1250021357,
          0.1299976965,
          0.1349983886,
          0.1400036622,
          0.1450032164,
          0.1499976232,
          0.1549965736,
          0.1599996417,
          0.1649978173,
          0.1699915319,
          0.17503002,
          0.1800066471,
          0.1850034443,
          0.1900188204,
          0.1949782755,
          0.2000284935,
          0.2050238197,
          0.2099681719,
          0.214997661,
          0.2199769383,
          0.2249726847,
          0.2299838268,
          0.2350093799,
          0.2399890723,
          0.2449838715,
          0.2499928721,
          0.2550152371,
          0.259995393,
          0.2649894977,
          0.2699967772,
          0.2750165119,
          0.2799971465,
          0.2849907342,
          0.2899966059,
          0.2950141362,
          0.2999952463,
          0.3049884447,
          0.3099931471,
          0.3150088053,
          0.3199903775,
          0.3249832801,
          0.3299869985,
          0.3350010483,
          0.3399830639,
          0.3450170423,
          0.3500193329,
          0.3549912752,
          0.3600132942,
          0.3650052556,
          0.3700068886,
          0.375017806,
          0.380000145,
          0.3849920283,
          0.3899930895,
          0.3950029799,
          0.3999857454,
          0.4050127571,
          0.4100128881,
          0.4149871101,
          0.4200042013,
          0.424995594,
          0.429995322,
          0.435003098,
          0.4399862631,
          0.4450096882,
          0.4500087018,
          0.4550154251,
          0.459998631,
          0.4649897207,
          0.4699884429,
          0.4749945566,
          0.4800078306,
          0.4849986642,
          0.4899968239,
          0.4950020877,
          0.5000142423
         ],
         "y": [
          -15.794080451167202,
          -14.559097322232581,
          -13.49097332145481,
          -12.55908068506466,
          -11.737379842755466,
          -11.00854816897167,
          -10.360348628682168,
          -9.779128565409371,
          -9.256932524579389,
          -8.784452230867739,
          -8.356316111722126,
          -7.965960967637282,
          -7.609646587920785,
          -7.282615090902244,
          -6.981607917259452,
          -6.704333027221135,
          -6.448182239537936,
          -6.210484768094288,
          -5.989415253967147,
          -5.783712429683657,
          -5.591865795827721,
          -5.410852889766779,
          -5.243312299792677,
          -5.085340463883268,
          -4.936212101176329,
          -4.797251888927748,
          -4.663719777530989,
          -4.538912143522582,
          -4.421938615855002,
          -4.309131100578173,
          -4.20312718316187,
          -4.1020297643815,
          -4.005528522650933,
          -3.9133358781515852,
          -3.826199990461305,
          -3.7427285803872308,
          -3.6627086171351273,
          -3.585941557646686,
          -3.5130276305179824,
          -3.442916141630698,
          -3.375456703428217,
          -3.3105084334387627,
          -3.2485599282828233,
          -3.1887991107179094,
          -3.1311171550984933,
          -3.0754116461312506,
          -3.022085514120983,
          -2.970498050169825,
          -2.9205687564356997,
          -2.8722215610858655,
          -2.825792662951453,
          -2.7807674390331107,
          -2.7370851707546646,
          -2.6946882647068398,
          -2.653860223539833,
          -2.6138579428746023,
          -2.5752953453794256,
          -2.5380859888951526,
          -2.5015832691113498,
          -2.466327997594399,
          -2.431987912348781,
          -2.398528389415648,
          -2.3661567050998156,
          -2.3345822055782923,
          -2.303776215118341,
          -2.273711297337358,
          -2.244566906832175,
          -2.2158988805168884,
          -2.188087765088677,
          -2.161089962562219,
          -2.1345096723860633,
          -2.1086889815553267,
          -2.083425253790812,
          -2.0587006672705703,
          -2.0346526081706795,
          -2.0109504454182683,
          -1.9878827263245433,
          -1.9652803598102284,
          -1.9432646928098125,
          -1.9216782870114517,
          -1.9005086605973023,
          -1.8797437741397347,
          -1.8593720143755934,
          -1.839497993310694,
          -1.81998820138052,
          -1.800832622130742,
          -1.7820215784235156
         ]
        }
       ],
       "layout": {
        "template": {
         "data": {
          "bar": [
           {
            "error_x": {
             "color": "#2a3f5f"
            },
            "error_y": {
             "color": "#2a3f5f"
            },
            "marker": {
             "line": {
              "color": "#E5ECF6",
              "width": 0.5
             },
             "pattern": {
              "fillmode": "overlay",
              "size": 10,
              "solidity": 0.2
             }
            },
            "type": "bar"
           }
          ],
          "barpolar": [
           {
            "marker": {
             "line": {
              "color": "#E5ECF6",
              "width": 0.5
             },
             "pattern": {
              "fillmode": "overlay",
              "size": 10,
              "solidity": 0.2
             }
            },
            "type": "barpolar"
           }
          ],
          "carpet": [
           {
            "aaxis": {
             "endlinecolor": "#2a3f5f",
             "gridcolor": "white",
             "linecolor": "white",
             "minorgridcolor": "white",
             "startlinecolor": "#2a3f5f"
            },
            "baxis": {
             "endlinecolor": "#2a3f5f",
             "gridcolor": "white",
             "linecolor": "white",
             "minorgridcolor": "white",
             "startlinecolor": "#2a3f5f"
            },
            "type": "carpet"
           }
          ],
          "choropleth": [
           {
            "colorbar": {
             "outlinewidth": 0,
             "ticks": ""
            },
            "type": "choropleth"
           }
          ],
          "contour": [
           {
            "colorbar": {
             "outlinewidth": 0,
             "ticks": ""
            },
            "colorscale": [
             [
              0,
              "#0d0887"
             ],
             [
              0.1111111111111111,
              "#46039f"
             ],
             [
              0.2222222222222222,
              "#7201a8"
             ],
             [
              0.3333333333333333,
              "#9c179e"
             ],
             [
              0.4444444444444444,
              "#bd3786"
             ],
             [
              0.5555555555555556,
              "#d8576b"
             ],
             [
              0.6666666666666666,
              "#ed7953"
             ],
             [
              0.7777777777777778,
              "#fb9f3a"
             ],
             [
              0.8888888888888888,
              "#fdca26"
             ],
             [
              1,
              "#f0f921"
             ]
            ],
            "type": "contour"
           }
          ],
          "contourcarpet": [
           {
            "colorbar": {
             "outlinewidth": 0,
             "ticks": ""
            },
            "type": "contourcarpet"
           }
          ],
          "heatmap": [
           {
            "colorbar": {
             "outlinewidth": 0,
             "ticks": ""
            },
            "colorscale": [
             [
              0,
              "#0d0887"
             ],
             [
              0.1111111111111111,
              "#46039f"
             ],
             [
              0.2222222222222222,
              "#7201a8"
             ],
             [
              0.3333333333333333,
              "#9c179e"
             ],
             [
              0.4444444444444444,
              "#bd3786"
             ],
             [
              0.5555555555555556,
              "#d8576b"
             ],
             [
              0.6666666666666666,
              "#ed7953"
             ],
             [
              0.7777777777777778,
              "#fb9f3a"
             ],
             [
              0.8888888888888888,
              "#fdca26"
             ],
             [
              1,
              "#f0f921"
             ]
            ],
            "type": "heatmap"
           }
          ],
          "heatmapgl": [
           {
            "colorbar": {
             "outlinewidth": 0,
             "ticks": ""
            },
            "colorscale": [
             [
              0,
              "#0d0887"
             ],
             [
              0.1111111111111111,
              "#46039f"
             ],
             [
              0.2222222222222222,
              "#7201a8"
             ],
             [
              0.3333333333333333,
              "#9c179e"
             ],
             [
              0.4444444444444444,
              "#bd3786"
             ],
             [
              0.5555555555555556,
              "#d8576b"
             ],
             [
              0.6666666666666666,
              "#ed7953"
             ],
             [
              0.7777777777777778,
              "#fb9f3a"
             ],
             [
              0.8888888888888888,
              "#fdca26"
             ],
             [
              1,
              "#f0f921"
             ]
            ],
            "type": "heatmapgl"
           }
          ],
          "histogram": [
           {
            "marker": {
             "pattern": {
              "fillmode": "overlay",
              "size": 10,
              "solidity": 0.2
             }
            },
            "type": "histogram"
           }
          ],
          "histogram2d": [
           {
            "colorbar": {
             "outlinewidth": 0,
             "ticks": ""
            },
            "colorscale": [
             [
              0,
              "#0d0887"
             ],
             [
              0.1111111111111111,
              "#46039f"
             ],
             [
              0.2222222222222222,
              "#7201a8"
             ],
             [
              0.3333333333333333,
              "#9c179e"
             ],
             [
              0.4444444444444444,
              "#bd3786"
             ],
             [
              0.5555555555555556,
              "#d8576b"
             ],
             [
              0.6666666666666666,
              "#ed7953"
             ],
             [
              0.7777777777777778,
              "#fb9f3a"
             ],
             [
              0.8888888888888888,
              "#fdca26"
             ],
             [
              1,
              "#f0f921"
             ]
            ],
            "type": "histogram2d"
           }
          ],
          "histogram2dcontour": [
           {
            "colorbar": {
             "outlinewidth": 0,
             "ticks": ""
            },
            "colorscale": [
             [
              0,
              "#0d0887"
             ],
             [
              0.1111111111111111,
              "#46039f"
             ],
             [
              0.2222222222222222,
              "#7201a8"
             ],
             [
              0.3333333333333333,
              "#9c179e"
             ],
             [
              0.4444444444444444,
              "#bd3786"
             ],
             [
              0.5555555555555556,
              "#d8576b"
             ],
             [
              0.6666666666666666,
              "#ed7953"
             ],
             [
              0.7777777777777778,
              "#fb9f3a"
             ],
             [
              0.8888888888888888,
              "#fdca26"
             ],
             [
              1,
              "#f0f921"
             ]
            ],
            "type": "histogram2dcontour"
           }
          ],
          "mesh3d": [
           {
            "colorbar": {
             "outlinewidth": 0,
             "ticks": ""
            },
            "type": "mesh3d"
           }
          ],
          "parcoords": [
           {
            "line": {
             "colorbar": {
              "outlinewidth": 0,
              "ticks": ""
             }
            },
            "type": "parcoords"
           }
          ],
          "pie": [
           {
            "automargin": true,
            "type": "pie"
           }
          ],
          "scatter": [
           {
            "fillpattern": {
             "fillmode": "overlay",
             "size": 10,
             "solidity": 0.2
            },
            "type": "scatter"
           }
          ],
          "scatter3d": [
           {
            "line": {
             "colorbar": {
              "outlinewidth": 0,
              "ticks": ""
             }
            },
            "marker": {
             "colorbar": {
              "outlinewidth": 0,
              "ticks": ""
             }
            },
            "type": "scatter3d"
           }
          ],
          "scattercarpet": [
           {
            "marker": {
             "colorbar": {
              "outlinewidth": 0,
              "ticks": ""
             }
            },
            "type": "scattercarpet"
           }
          ],
          "scattergeo": [
           {
            "marker": {
             "colorbar": {
              "outlinewidth": 0,
              "ticks": ""
             }
            },
            "type": "scattergeo"
           }
          ],
          "scattergl": [
           {
            "marker": {
             "colorbar": {
              "outlinewidth": 0,
              "ticks": ""
             }
            },
            "type": "scattergl"
           }
          ],
          "scattermapbox": [
           {
            "marker": {
             "colorbar": {
              "outlinewidth": 0,
              "ticks": ""
             }
            },
            "type": "scattermapbox"
           }
          ],
          "scatterpolar": [
           {
            "marker": {
             "colorbar": {
              "outlinewidth": 0,
              "ticks": ""
             }
            },
            "type": "scatterpolar"
           }
          ],
          "scatterpolargl": [
           {
            "marker": {
             "colorbar": {
              "outlinewidth": 0,
              "ticks": ""
             }
            },
            "type": "scatterpolargl"
           }
          ],
          "scatterternary": [
           {
            "marker": {
             "colorbar": {
              "outlinewidth": 0,
              "ticks": ""
             }
            },
            "type": "scatterternary"
           }
          ],
          "surface": [
           {
            "colorbar": {
             "outlinewidth": 0,
             "ticks": ""
            },
            "colorscale": [
             [
              0,
              "#0d0887"
             ],
             [
              0.1111111111111111,
              "#46039f"
             ],
             [
              0.2222222222222222,
              "#7201a8"
             ],
             [
              0.3333333333333333,
              "#9c179e"
             ],
             [
              0.4444444444444444,
              "#bd3786"
             ],
             [
              0.5555555555555556,
              "#d8576b"
             ],
             [
              0.6666666666666666,
              "#ed7953"
             ],
             [
              0.7777777777777778,
              "#fb9f3a"
             ],
             [
              0.8888888888888888,
              "#fdca26"
             ],
             [
              1,
              "#f0f921"
             ]
            ],
            "type": "surface"
           }
          ],
          "table": [
           {
            "cells": {
             "fill": {
              "color": "#EBF0F8"
             },
             "line": {
              "color": "white"
             }
            },
            "header": {
             "fill": {
              "color": "#C8D4E3"
             },
             "line": {
              "color": "white"
             }
            },
            "type": "table"
           }
          ]
         },
         "layout": {
          "annotationdefaults": {
           "arrowcolor": "#2a3f5f",
           "arrowhead": 0,
           "arrowwidth": 1
          },
          "autotypenumbers": "strict",
          "coloraxis": {
           "colorbar": {
            "outlinewidth": 0,
            "ticks": ""
           }
          },
          "colorscale": {
           "diverging": [
            [
             0,
             "#8e0152"
            ],
            [
             0.1,
             "#c51b7d"
            ],
            [
             0.2,
             "#de77ae"
            ],
            [
             0.3,
             "#f1b6da"
            ],
            [
             0.4,
             "#fde0ef"
            ],
            [
             0.5,
             "#f7f7f7"
            ],
            [
             0.6,
             "#e6f5d0"
            ],
            [
             0.7,
             "#b8e186"
            ],
            [
             0.8,
             "#7fbc41"
            ],
            [
             0.9,
             "#4d9221"
            ],
            [
             1,
             "#276419"
            ]
           ],
           "sequential": [
            [
             0,
             "#0d0887"
            ],
            [
             0.1111111111111111,
             "#46039f"
            ],
            [
             0.2222222222222222,
             "#7201a8"
            ],
            [
             0.3333333333333333,
             "#9c179e"
            ],
            [
             0.4444444444444444,
             "#bd3786"
            ],
            [
             0.5555555555555556,
             "#d8576b"
            ],
            [
             0.6666666666666666,
             "#ed7953"
            ],
            [
             0.7777777777777778,
             "#fb9f3a"
            ],
            [
             0.8888888888888888,
             "#fdca26"
            ],
            [
             1,
             "#f0f921"
            ]
           ],
           "sequentialminus": [
            [
             0,
             "#0d0887"
            ],
            [
             0.1111111111111111,
             "#46039f"
            ],
            [
             0.2222222222222222,
             "#7201a8"
            ],
            [
             0.3333333333333333,
             "#9c179e"
            ],
            [
             0.4444444444444444,
             "#bd3786"
            ],
            [
             0.5555555555555556,
             "#d8576b"
            ],
            [
             0.6666666666666666,
             "#ed7953"
            ],
            [
             0.7777777777777778,
             "#fb9f3a"
            ],
            [
             0.8888888888888888,
             "#fdca26"
            ],
            [
             1,
             "#f0f921"
            ]
           ]
          },
          "colorway": [
           "#636efa",
           "#EF553B",
           "#00cc96",
           "#ab63fa",
           "#FFA15A",
           "#19d3f3",
           "#FF6692",
           "#B6E880",
           "#FF97FF",
           "#FECB52"
          ],
          "font": {
           "color": "#2a3f5f"
          },
          "geo": {
           "bgcolor": "white",
           "lakecolor": "white",
           "landcolor": "#E5ECF6",
           "showlakes": true,
           "showland": true,
           "subunitcolor": "white"
          },
          "hoverlabel": {
           "align": "left"
          },
          "hovermode": "closest",
          "mapbox": {
           "style": "light"
          },
          "paper_bgcolor": "white",
          "plot_bgcolor": "#E5ECF6",
          "polar": {
           "angularaxis": {
            "gridcolor": "white",
            "linecolor": "white",
            "ticks": ""
           },
           "bgcolor": "#E5ECF6",
           "radialaxis": {
            "gridcolor": "white",
            "linecolor": "white",
            "ticks": ""
           }
          },
          "scene": {
           "xaxis": {
            "backgroundcolor": "#E5ECF6",
            "gridcolor": "white",
            "gridwidth": 2,
            "linecolor": "white",
            "showbackground": true,
            "ticks": "",
            "zerolinecolor": "white"
           },
           "yaxis": {
            "backgroundcolor": "#E5ECF6",
            "gridcolor": "white",
            "gridwidth": 2,
            "linecolor": "white",
            "showbackground": true,
            "ticks": "",
            "zerolinecolor": "white"
           },
           "zaxis": {
            "backgroundcolor": "#E5ECF6",
            "gridcolor": "white",
            "gridwidth": 2,
            "linecolor": "white",
            "showbackground": true,
            "ticks": "",
            "zerolinecolor": "white"
           }
          },
          "shapedefaults": {
           "line": {
            "color": "#2a3f5f"
           }
          },
          "ternary": {
           "aaxis": {
            "gridcolor": "white",
            "linecolor": "white",
            "ticks": ""
           },
           "baxis": {
            "gridcolor": "white",
            "linecolor": "white",
            "ticks": ""
           },
           "bgcolor": "#E5ECF6",
           "caxis": {
            "gridcolor": "white",
            "linecolor": "white",
            "ticks": ""
           }
          },
          "title": {
           "x": 0.05
          },
          "xaxis": {
           "automargin": true,
           "gridcolor": "white",
           "linecolor": "white",
           "ticks": "",
           "title": {
            "standoff": 15
           },
           "zerolinecolor": "white",
           "zerolinewidth": 2
          },
          "yaxis": {
           "automargin": true,
           "gridcolor": "white",
           "linecolor": "white",
           "ticks": "",
           "title": {
            "standoff": 15
           },
           "zerolinecolor": "white",
           "zerolinewidth": 2
          }
         }
        },
        "title": {
         "text": "Gas=Ne"
        },
        "xaxis": {
         "title": {
          "text": "Field Strength"
         }
        },
        "yaxis": {
         "title": {
          "text": "Log(Rate)"
         }
        }
       }
      }
     },
     "metadata": {},
     "output_type": "display_data"
    },
    {
     "name": "stdout",
     "output_type": "stream",
     "text": [
      "{'Multiplier': 0.22231835546551748, 'Ip': 0.792461982845425, 'αPol': 2.66, 'gamma': 1.2793787330153525, 'e0': 2.9239078657468824, 'a0': 1, 'a1': 1.0, 'b0': 1.0, 'b1': 1, 'b2': 1, 'p1': 3.5, 'd1': 0.3908146877051457}\n",
      "Name           Value      Min      Max   Stderr     Vary     Expr Brute_Step\n",
      "Ip            0.7925   0.7132   0.8717     None    False     None     None\n",
      "Multiplier    0.2223    0.001     1000     None     True     None     None\n",
      "a0                 1      0.9      1.1     None    False     None     None\n",
      "a1                 1     -inf      inf     None    False     None     None\n",
      "b0                 1     -inf      inf     None    False     None     None\n",
      "b1                 1      0.9      1.1     None    False     None     None\n",
      "b2                 1      0.9      1.1     None    False     None     None\n",
      "d1            0.3908     -inf      inf     None    False 0.5/gamma     None\n",
      "e0             2.924        0       10     None     True     None     None\n",
      "gamma          1.279   0.1893    3.786     None     True     None     None\n",
      "p1               3.5      2.5      4.5     None    False     None     None\n",
      "αPol            2.66     -inf      inf     None    False     None     None\n"
     ]
    },
    {
     "data": {
      "application/vnd.plotly.v1+json": {
       "config": {
        "plotlyServerURL": "https://plot.ly"
       },
       "data": [
        {
         "line": {
          "color": "red"
         },
         "mode": "lines+markers",
         "name": "numerical dataQS",
         "type": "scatter",
         "x": [
          0.08,
          0.09,
          0.1,
          0.11,
          0.12,
          0.13,
          0.14,
          0.15,
          0.16,
          0.17,
          0.18,
          0.19,
          0.2,
          0.21,
          0.22,
          0.23,
          0.24,
          0.25,
          0.26,
          0.27,
          0.28,
          0.29,
          0.3,
          0.31,
          0.32,
          0.33,
          0.34,
          0.35,
          0.36,
          0.37,
          0.38,
          0.39,
          0.4,
          0.41,
          0.42,
          0.43,
          0.44,
          0.45,
          0.46,
          0.47,
          0.48,
          0.49,
          0.5,
          0.55,
          0.6,
          0.65,
          0.7,
          0.75,
          0.8,
          0.85,
          0.9,
          0.95,
          1,
          1.1,
          1.2,
          1.3,
          1.4,
          1.5,
          1.6,
          1.7
         ],
         "y": [
          -16.88812,
          -14.49082,
          -12.75772,
          -11.37316,
          -10.22645,
          -9.26903,
          -8.458924,
          -7.768138,
          -7.171721,
          -6.653113,
          -6.199719,
          -5.802498,
          -5.446817,
          -5.132803,
          -4.849793,
          -4.59522,
          -4.366153,
          -4.154095,
          -3.963316,
          -3.789805,
          -3.626844,
          -3.476999,
          -3.33541,
          -3.206453,
          -3.083471,
          -2.970064,
          -2.861201,
          -2.75987,
          -2.664991,
          -2.573082,
          -2.486508,
          -2.404618,
          -2.325854,
          -2.253795,
          -2.180367,
          -2.111965,
          -2.047943,
          -1.980502,
          -1.924149,
          -1.86433,
          -1.807889,
          -1.7487,
          -1.698269,
          -1.456717,
          -1.248273,
          -1.064211,
          -0.9014022,
          -0.7550226,
          -0.6236211,
          -0.5041811,
          -0.39601,
          -0.2957142,
          -0.2008929,
          -0.03045918,
          0.1222176,
          0.2546422,
          0.3715636,
          0.4762342,
          0.5709795,
          0.6523252
         ]
        },
        {
         "line": {
          "color": "blue"
         },
         "mode": "lines",
         "name": "fit QS",
         "type": "scatter",
         "x": [
          0.08,
          0.09,
          0.1,
          0.11,
          0.12,
          0.13,
          0.14,
          0.15,
          0.16,
          0.17,
          0.18,
          0.19,
          0.2,
          0.21,
          0.22,
          0.23,
          0.24,
          0.25,
          0.26,
          0.27,
          0.28,
          0.29,
          0.3,
          0.31,
          0.32,
          0.33,
          0.34,
          0.35,
          0.36,
          0.37,
          0.38,
          0.39,
          0.4,
          0.41,
          0.42,
          0.43,
          0.44,
          0.45,
          0.46,
          0.47,
          0.48,
          0.49,
          0.5,
          0.55,
          0.6,
          0.65,
          0.7,
          0.75,
          0.8,
          0.85,
          0.9,
          0.95,
          1,
          1.1,
          1.2,
          1.3,
          1.4,
          1.5,
          1.6,
          1.7
         ],
         "y": [
          -16.596334127695457,
          -14.43302706758585,
          -12.729735359596285,
          -11.358517810940837,
          -10.234065865161433,
          -9.297386997168184,
          -8.50645102528259,
          -7.830560591587205,
          -7.246822100258274,
          -6.737855319136737,
          -6.29026176272241,
          -5.893573473173683,
          -5.539514889234738,
          -5.221474082316709,
          -4.93411726421951,
          -4.673103389151227,
          -4.43486999848927,
          -4.216470623942067,
          -4.015450059066093,
          -3.8297478086992216,
          -3.65762274595471,
          -3.49759389004302,
          -3.3483935448446416,
          -3.208929987382246,
          -3.0782575843064595,
          -2.9555527209906374,
          -2.8400943044574394,
          -2.731247884063047,
          -2.628452647964177,
          -2.5312107165936495,
          -2.4390782796103934,
          -2.3516582193634883,
          -2.2685939387598117,
          -2.1895641696413644,
          -2.1142785832763527,
          -2.042474060213973,
          -1.9739115048479725,
          -1.908373112115907,
          -1.845660011395452,
          -1.7855902265476917,
          -1.7279969022460846,
          -1.6727267555976302,
          -1.619638719304058,
          -1.3827086769173607,
          -1.1844473498138577,
          -1.0157653384263785,
          -0.8701898677234656,
          -0.7430000604089693,
          -0.6306812564612969,
          -0.53056904455806,
          -0.44061066542725574,
          -0.35920136745389364,
          -0.28506989778555253,
          -0.15475604390072062,
          -0.043580028679296695,
          0.052607056254670936,
          0.1367304589945997,
          0.21091404394141747,
          0.27673937691408423,
          0.3354103718751816
         ]
        }
       ],
       "layout": {
        "template": {
         "data": {
          "bar": [
           {
            "error_x": {
             "color": "#2a3f5f"
            },
            "error_y": {
             "color": "#2a3f5f"
            },
            "marker": {
             "line": {
              "color": "#E5ECF6",
              "width": 0.5
             },
             "pattern": {
              "fillmode": "overlay",
              "size": 10,
              "solidity": 0.2
             }
            },
            "type": "bar"
           }
          ],
          "barpolar": [
           {
            "marker": {
             "line": {
              "color": "#E5ECF6",
              "width": 0.5
             },
             "pattern": {
              "fillmode": "overlay",
              "size": 10,
              "solidity": 0.2
             }
            },
            "type": "barpolar"
           }
          ],
          "carpet": [
           {
            "aaxis": {
             "endlinecolor": "#2a3f5f",
             "gridcolor": "white",
             "linecolor": "white",
             "minorgridcolor": "white",
             "startlinecolor": "#2a3f5f"
            },
            "baxis": {
             "endlinecolor": "#2a3f5f",
             "gridcolor": "white",
             "linecolor": "white",
             "minorgridcolor": "white",
             "startlinecolor": "#2a3f5f"
            },
            "type": "carpet"
           }
          ],
          "choropleth": [
           {
            "colorbar": {
             "outlinewidth": 0,
             "ticks": ""
            },
            "type": "choropleth"
           }
          ],
          "contour": [
           {
            "colorbar": {
             "outlinewidth": 0,
             "ticks": ""
            },
            "colorscale": [
             [
              0,
              "#0d0887"
             ],
             [
              0.1111111111111111,
              "#46039f"
             ],
             [
              0.2222222222222222,
              "#7201a8"
             ],
             [
              0.3333333333333333,
              "#9c179e"
             ],
             [
              0.4444444444444444,
              "#bd3786"
             ],
             [
              0.5555555555555556,
              "#d8576b"
             ],
             [
              0.6666666666666666,
              "#ed7953"
             ],
             [
              0.7777777777777778,
              "#fb9f3a"
             ],
             [
              0.8888888888888888,
              "#fdca26"
             ],
             [
              1,
              "#f0f921"
             ]
            ],
            "type": "contour"
           }
          ],
          "contourcarpet": [
           {
            "colorbar": {
             "outlinewidth": 0,
             "ticks": ""
            },
            "type": "contourcarpet"
           }
          ],
          "heatmap": [
           {
            "colorbar": {
             "outlinewidth": 0,
             "ticks": ""
            },
            "colorscale": [
             [
              0,
              "#0d0887"
             ],
             [
              0.1111111111111111,
              "#46039f"
             ],
             [
              0.2222222222222222,
              "#7201a8"
             ],
             [
              0.3333333333333333,
              "#9c179e"
             ],
             [
              0.4444444444444444,
              "#bd3786"
             ],
             [
              0.5555555555555556,
              "#d8576b"
             ],
             [
              0.6666666666666666,
              "#ed7953"
             ],
             [
              0.7777777777777778,
              "#fb9f3a"
             ],
             [
              0.8888888888888888,
              "#fdca26"
             ],
             [
              1,
              "#f0f921"
             ]
            ],
            "type": "heatmap"
           }
          ],
          "heatmapgl": [
           {
            "colorbar": {
             "outlinewidth": 0,
             "ticks": ""
            },
            "colorscale": [
             [
              0,
              "#0d0887"
             ],
             [
              0.1111111111111111,
              "#46039f"
             ],
             [
              0.2222222222222222,
              "#7201a8"
             ],
             [
              0.3333333333333333,
              "#9c179e"
             ],
             [
              0.4444444444444444,
              "#bd3786"
             ],
             [
              0.5555555555555556,
              "#d8576b"
             ],
             [
              0.6666666666666666,
              "#ed7953"
             ],
             [
              0.7777777777777778,
              "#fb9f3a"
             ],
             [
              0.8888888888888888,
              "#fdca26"
             ],
             [
              1,
              "#f0f921"
             ]
            ],
            "type": "heatmapgl"
           }
          ],
          "histogram": [
           {
            "marker": {
             "pattern": {
              "fillmode": "overlay",
              "size": 10,
              "solidity": 0.2
             }
            },
            "type": "histogram"
           }
          ],
          "histogram2d": [
           {
            "colorbar": {
             "outlinewidth": 0,
             "ticks": ""
            },
            "colorscale": [
             [
              0,
              "#0d0887"
             ],
             [
              0.1111111111111111,
              "#46039f"
             ],
             [
              0.2222222222222222,
              "#7201a8"
             ],
             [
              0.3333333333333333,
              "#9c179e"
             ],
             [
              0.4444444444444444,
              "#bd3786"
             ],
             [
              0.5555555555555556,
              "#d8576b"
             ],
             [
              0.6666666666666666,
              "#ed7953"
             ],
             [
              0.7777777777777778,
              "#fb9f3a"
             ],
             [
              0.8888888888888888,
              "#fdca26"
             ],
             [
              1,
              "#f0f921"
             ]
            ],
            "type": "histogram2d"
           }
          ],
          "histogram2dcontour": [
           {
            "colorbar": {
             "outlinewidth": 0,
             "ticks": ""
            },
            "colorscale": [
             [
              0,
              "#0d0887"
             ],
             [
              0.1111111111111111,
              "#46039f"
             ],
             [
              0.2222222222222222,
              "#7201a8"
             ],
             [
              0.3333333333333333,
              "#9c179e"
             ],
             [
              0.4444444444444444,
              "#bd3786"
             ],
             [
              0.5555555555555556,
              "#d8576b"
             ],
             [
              0.6666666666666666,
              "#ed7953"
             ],
             [
              0.7777777777777778,
              "#fb9f3a"
             ],
             [
              0.8888888888888888,
              "#fdca26"
             ],
             [
              1,
              "#f0f921"
             ]
            ],
            "type": "histogram2dcontour"
           }
          ],
          "mesh3d": [
           {
            "colorbar": {
             "outlinewidth": 0,
             "ticks": ""
            },
            "type": "mesh3d"
           }
          ],
          "parcoords": [
           {
            "line": {
             "colorbar": {
              "outlinewidth": 0,
              "ticks": ""
             }
            },
            "type": "parcoords"
           }
          ],
          "pie": [
           {
            "automargin": true,
            "type": "pie"
           }
          ],
          "scatter": [
           {
            "fillpattern": {
             "fillmode": "overlay",
             "size": 10,
             "solidity": 0.2
            },
            "type": "scatter"
           }
          ],
          "scatter3d": [
           {
            "line": {
             "colorbar": {
              "outlinewidth": 0,
              "ticks": ""
             }
            },
            "marker": {
             "colorbar": {
              "outlinewidth": 0,
              "ticks": ""
             }
            },
            "type": "scatter3d"
           }
          ],
          "scattercarpet": [
           {
            "marker": {
             "colorbar": {
              "outlinewidth": 0,
              "ticks": ""
             }
            },
            "type": "scattercarpet"
           }
          ],
          "scattergeo": [
           {
            "marker": {
             "colorbar": {
              "outlinewidth": 0,
              "ticks": ""
             }
            },
            "type": "scattergeo"
           }
          ],
          "scattergl": [
           {
            "marker": {
             "colorbar": {
              "outlinewidth": 0,
              "ticks": ""
             }
            },
            "type": "scattergl"
           }
          ],
          "scattermapbox": [
           {
            "marker": {
             "colorbar": {
              "outlinewidth": 0,
              "ticks": ""
             }
            },
            "type": "scattermapbox"
           }
          ],
          "scatterpolar": [
           {
            "marker": {
             "colorbar": {
              "outlinewidth": 0,
              "ticks": ""
             }
            },
            "type": "scatterpolar"
           }
          ],
          "scatterpolargl": [
           {
            "marker": {
             "colorbar": {
              "outlinewidth": 0,
              "ticks": ""
             }
            },
            "type": "scatterpolargl"
           }
          ],
          "scatterternary": [
           {
            "marker": {
             "colorbar": {
              "outlinewidth": 0,
              "ticks": ""
             }
            },
            "type": "scatterternary"
           }
          ],
          "surface": [
           {
            "colorbar": {
             "outlinewidth": 0,
             "ticks": ""
            },
            "colorscale": [
             [
              0,
              "#0d0887"
             ],
             [
              0.1111111111111111,
              "#46039f"
             ],
             [
              0.2222222222222222,
              "#7201a8"
             ],
             [
              0.3333333333333333,
              "#9c179e"
             ],
             [
              0.4444444444444444,
              "#bd3786"
             ],
             [
              0.5555555555555556,
              "#d8576b"
             ],
             [
              0.6666666666666666,
              "#ed7953"
             ],
             [
              0.7777777777777778,
              "#fb9f3a"
             ],
             [
              0.8888888888888888,
              "#fdca26"
             ],
             [
              1,
              "#f0f921"
             ]
            ],
            "type": "surface"
           }
          ],
          "table": [
           {
            "cells": {
             "fill": {
              "color": "#EBF0F8"
             },
             "line": {
              "color": "white"
             }
            },
            "header": {
             "fill": {
              "color": "#C8D4E3"
             },
             "line": {
              "color": "white"
             }
            },
            "type": "table"
           }
          ]
         },
         "layout": {
          "annotationdefaults": {
           "arrowcolor": "#2a3f5f",
           "arrowhead": 0,
           "arrowwidth": 1
          },
          "autotypenumbers": "strict",
          "coloraxis": {
           "colorbar": {
            "outlinewidth": 0,
            "ticks": ""
           }
          },
          "colorscale": {
           "diverging": [
            [
             0,
             "#8e0152"
            ],
            [
             0.1,
             "#c51b7d"
            ],
            [
             0.2,
             "#de77ae"
            ],
            [
             0.3,
             "#f1b6da"
            ],
            [
             0.4,
             "#fde0ef"
            ],
            [
             0.5,
             "#f7f7f7"
            ],
            [
             0.6,
             "#e6f5d0"
            ],
            [
             0.7,
             "#b8e186"
            ],
            [
             0.8,
             "#7fbc41"
            ],
            [
             0.9,
             "#4d9221"
            ],
            [
             1,
             "#276419"
            ]
           ],
           "sequential": [
            [
             0,
             "#0d0887"
            ],
            [
             0.1111111111111111,
             "#46039f"
            ],
            [
             0.2222222222222222,
             "#7201a8"
            ],
            [
             0.3333333333333333,
             "#9c179e"
            ],
            [
             0.4444444444444444,
             "#bd3786"
            ],
            [
             0.5555555555555556,
             "#d8576b"
            ],
            [
             0.6666666666666666,
             "#ed7953"
            ],
            [
             0.7777777777777778,
             "#fb9f3a"
            ],
            [
             0.8888888888888888,
             "#fdca26"
            ],
            [
             1,
             "#f0f921"
            ]
           ],
           "sequentialminus": [
            [
             0,
             "#0d0887"
            ],
            [
             0.1111111111111111,
             "#46039f"
            ],
            [
             0.2222222222222222,
             "#7201a8"
            ],
            [
             0.3333333333333333,
             "#9c179e"
            ],
            [
             0.4444444444444444,
             "#bd3786"
            ],
            [
             0.5555555555555556,
             "#d8576b"
            ],
            [
             0.6666666666666666,
             "#ed7953"
            ],
            [
             0.7777777777777778,
             "#fb9f3a"
            ],
            [
             0.8888888888888888,
             "#fdca26"
            ],
            [
             1,
             "#f0f921"
            ]
           ]
          },
          "colorway": [
           "#636efa",
           "#EF553B",
           "#00cc96",
           "#ab63fa",
           "#FFA15A",
           "#19d3f3",
           "#FF6692",
           "#B6E880",
           "#FF97FF",
           "#FECB52"
          ],
          "font": {
           "color": "#2a3f5f"
          },
          "geo": {
           "bgcolor": "white",
           "lakecolor": "white",
           "landcolor": "#E5ECF6",
           "showlakes": true,
           "showland": true,
           "subunitcolor": "white"
          },
          "hoverlabel": {
           "align": "left"
          },
          "hovermode": "closest",
          "mapbox": {
           "style": "light"
          },
          "paper_bgcolor": "white",
          "plot_bgcolor": "#E5ECF6",
          "polar": {
           "angularaxis": {
            "gridcolor": "white",
            "linecolor": "white",
            "ticks": ""
           },
           "bgcolor": "#E5ECF6",
           "radialaxis": {
            "gridcolor": "white",
            "linecolor": "white",
            "ticks": ""
           }
          },
          "scene": {
           "xaxis": {
            "backgroundcolor": "#E5ECF6",
            "gridcolor": "white",
            "gridwidth": 2,
            "linecolor": "white",
            "showbackground": true,
            "ticks": "",
            "zerolinecolor": "white"
           },
           "yaxis": {
            "backgroundcolor": "#E5ECF6",
            "gridcolor": "white",
            "gridwidth": 2,
            "linecolor": "white",
            "showbackground": true,
            "ticks": "",
            "zerolinecolor": "white"
           },
           "zaxis": {
            "backgroundcolor": "#E5ECF6",
            "gridcolor": "white",
            "gridwidth": 2,
            "linecolor": "white",
            "showbackground": true,
            "ticks": "",
            "zerolinecolor": "white"
           }
          },
          "shapedefaults": {
           "line": {
            "color": "#2a3f5f"
           }
          },
          "ternary": {
           "aaxis": {
            "gridcolor": "white",
            "linecolor": "white",
            "ticks": ""
           },
           "baxis": {
            "gridcolor": "white",
            "linecolor": "white",
            "ticks": ""
           },
           "bgcolor": "#E5ECF6",
           "caxis": {
            "gridcolor": "white",
            "linecolor": "white",
            "ticks": ""
           }
          },
          "title": {
           "x": 0.05
          },
          "xaxis": {
           "automargin": true,
           "gridcolor": "white",
           "linecolor": "white",
           "ticks": "",
           "title": {
            "standoff": 15
           },
           "zerolinecolor": "white",
           "zerolinewidth": 2
          },
          "yaxis": {
           "automargin": true,
           "gridcolor": "white",
           "linecolor": "white",
           "ticks": "",
           "title": {
            "standoff": 15
           },
           "zerolinecolor": "white",
           "zerolinewidth": 2
          }
         }
        },
        "title": {
         "text": "Gas=He"
        },
        "xaxis": {
         "title": {
          "text": "Field Strength"
         }
        },
        "yaxis": {
         "title": {
          "text": "Log(Rate)"
         }
        }
       }
      }
     },
     "metadata": {},
     "output_type": "display_data"
    },
    {
     "name": "stdout",
     "output_type": "stream",
     "text": [
      "{'Multiplier': 0.692211325582528, 'Ip': 0.9035551276303314, 'αPol': 1.38, 'gamma': 0.725225876709, 'e0': 4.99606402117029, 'a0': 1, 'a1': 1.0, 'b0': 1.0, 'b1': 1, 'b2': 1, 'p1': 3.5, 'd1': 0.6894403744512652}\n",
      "Name           Value      Min      Max   Stderr     Vary     Expr Brute_Step\n",
      "Ip            0.9036   0.8132   0.9939     None    False     None     None\n",
      "Multiplier    0.6922    0.001     1000     None     True     None     None\n",
      "a0                 1      0.9      1.1     None    False     None     None\n",
      "a1                 1     -inf      inf     None    False     None     None\n",
      "b0                 1     -inf      inf     None    False     None     None\n",
      "b1                 1      0.9      1.1     None    False     None     None\n",
      "b2                 1      0.9      1.1     None    False     None     None\n",
      "d1            0.6894     -inf      inf     None    False 0.5/gamma     None\n",
      "e0             4.996        0       10     None     True     None     None\n",
      "gamma         0.7252    0.166     3.32     None     True     None     None\n",
      "p1               3.5      2.5      4.5     None    False     None     None\n",
      "αPol            1.38     -inf      inf     None    False     None     None\n"
     ]
    },
    {
     "data": {
      "application/vnd.plotly.v1+json": {
       "config": {
        "plotlyServerURL": "https://plot.ly"
       },
       "data": [
        {
         "line": {
          "color": "red"
         },
         "mode": "lines+markers",
         "name": "numerical dataQS",
         "type": "scatter",
         "x": [
          0.03,
          0.04,
          0.05,
          0.06,
          0.07,
          0.08,
          0.09,
          0.1,
          0.11,
          0.12,
          0.13,
          0.14
         ],
         "y": [
          -20.9717272,
          -14.64791981,
          -11.03669129,
          -8.778557956,
          -7.28755264,
          -6.255430093,
          -5.506572305,
          -4.947660495,
          -4.509860006,
          -4.160484365,
          -3.877621579,
          -3.626844063
         ]
        },
        {
         "line": {
          "color": "blue"
         },
         "mode": "lines",
         "name": "fit QS",
         "type": "scatter",
         "x": [
          0.03,
          0.04,
          0.05,
          0.06,
          0.07,
          0.08,
          0.09,
          0.1,
          0.11,
          0.12,
          0.13,
          0.14
         ],
         "y": [
          -20.696856788823155,
          -14.644674223218484,
          -11.149964335722334,
          -8.9243100664563,
          -7.412448884797952,
          -6.336466067395238,
          -5.542590987872088,
          -4.939427056896085,
          -4.469665720559925,
          -4.095851993578941,
          -3.792682062740147,
          -3.5425897714139225
         ]
        }
       ],
       "layout": {
        "template": {
         "data": {
          "bar": [
           {
            "error_x": {
             "color": "#2a3f5f"
            },
            "error_y": {
             "color": "#2a3f5f"
            },
            "marker": {
             "line": {
              "color": "#E5ECF6",
              "width": 0.5
             },
             "pattern": {
              "fillmode": "overlay",
              "size": 10,
              "solidity": 0.2
             }
            },
            "type": "bar"
           }
          ],
          "barpolar": [
           {
            "marker": {
             "line": {
              "color": "#E5ECF6",
              "width": 0.5
             },
             "pattern": {
              "fillmode": "overlay",
              "size": 10,
              "solidity": 0.2
             }
            },
            "type": "barpolar"
           }
          ],
          "carpet": [
           {
            "aaxis": {
             "endlinecolor": "#2a3f5f",
             "gridcolor": "white",
             "linecolor": "white",
             "minorgridcolor": "white",
             "startlinecolor": "#2a3f5f"
            },
            "baxis": {
             "endlinecolor": "#2a3f5f",
             "gridcolor": "white",
             "linecolor": "white",
             "minorgridcolor": "white",
             "startlinecolor": "#2a3f5f"
            },
            "type": "carpet"
           }
          ],
          "choropleth": [
           {
            "colorbar": {
             "outlinewidth": 0,
             "ticks": ""
            },
            "type": "choropleth"
           }
          ],
          "contour": [
           {
            "colorbar": {
             "outlinewidth": 0,
             "ticks": ""
            },
            "colorscale": [
             [
              0,
              "#0d0887"
             ],
             [
              0.1111111111111111,
              "#46039f"
             ],
             [
              0.2222222222222222,
              "#7201a8"
             ],
             [
              0.3333333333333333,
              "#9c179e"
             ],
             [
              0.4444444444444444,
              "#bd3786"
             ],
             [
              0.5555555555555556,
              "#d8576b"
             ],
             [
              0.6666666666666666,
              "#ed7953"
             ],
             [
              0.7777777777777778,
              "#fb9f3a"
             ],
             [
              0.8888888888888888,
              "#fdca26"
             ],
             [
              1,
              "#f0f921"
             ]
            ],
            "type": "contour"
           }
          ],
          "contourcarpet": [
           {
            "colorbar": {
             "outlinewidth": 0,
             "ticks": ""
            },
            "type": "contourcarpet"
           }
          ],
          "heatmap": [
           {
            "colorbar": {
             "outlinewidth": 0,
             "ticks": ""
            },
            "colorscale": [
             [
              0,
              "#0d0887"
             ],
             [
              0.1111111111111111,
              "#46039f"
             ],
             [
              0.2222222222222222,
              "#7201a8"
             ],
             [
              0.3333333333333333,
              "#9c179e"
             ],
             [
              0.4444444444444444,
              "#bd3786"
             ],
             [
              0.5555555555555556,
              "#d8576b"
             ],
             [
              0.6666666666666666,
              "#ed7953"
             ],
             [
              0.7777777777777778,
              "#fb9f3a"
             ],
             [
              0.8888888888888888,
              "#fdca26"
             ],
             [
              1,
              "#f0f921"
             ]
            ],
            "type": "heatmap"
           }
          ],
          "heatmapgl": [
           {
            "colorbar": {
             "outlinewidth": 0,
             "ticks": ""
            },
            "colorscale": [
             [
              0,
              "#0d0887"
             ],
             [
              0.1111111111111111,
              "#46039f"
             ],
             [
              0.2222222222222222,
              "#7201a8"
             ],
             [
              0.3333333333333333,
              "#9c179e"
             ],
             [
              0.4444444444444444,
              "#bd3786"
             ],
             [
              0.5555555555555556,
              "#d8576b"
             ],
             [
              0.6666666666666666,
              "#ed7953"
             ],
             [
              0.7777777777777778,
              "#fb9f3a"
             ],
             [
              0.8888888888888888,
              "#fdca26"
             ],
             [
              1,
              "#f0f921"
             ]
            ],
            "type": "heatmapgl"
           }
          ],
          "histogram": [
           {
            "marker": {
             "pattern": {
              "fillmode": "overlay",
              "size": 10,
              "solidity": 0.2
             }
            },
            "type": "histogram"
           }
          ],
          "histogram2d": [
           {
            "colorbar": {
             "outlinewidth": 0,
             "ticks": ""
            },
            "colorscale": [
             [
              0,
              "#0d0887"
             ],
             [
              0.1111111111111111,
              "#46039f"
             ],
             [
              0.2222222222222222,
              "#7201a8"
             ],
             [
              0.3333333333333333,
              "#9c179e"
             ],
             [
              0.4444444444444444,
              "#bd3786"
             ],
             [
              0.5555555555555556,
              "#d8576b"
             ],
             [
              0.6666666666666666,
              "#ed7953"
             ],
             [
              0.7777777777777778,
              "#fb9f3a"
             ],
             [
              0.8888888888888888,
              "#fdca26"
             ],
             [
              1,
              "#f0f921"
             ]
            ],
            "type": "histogram2d"
           }
          ],
          "histogram2dcontour": [
           {
            "colorbar": {
             "outlinewidth": 0,
             "ticks": ""
            },
            "colorscale": [
             [
              0,
              "#0d0887"
             ],
             [
              0.1111111111111111,
              "#46039f"
             ],
             [
              0.2222222222222222,
              "#7201a8"
             ],
             [
              0.3333333333333333,
              "#9c179e"
             ],
             [
              0.4444444444444444,
              "#bd3786"
             ],
             [
              0.5555555555555556,
              "#d8576b"
             ],
             [
              0.6666666666666666,
              "#ed7953"
             ],
             [
              0.7777777777777778,
              "#fb9f3a"
             ],
             [
              0.8888888888888888,
              "#fdca26"
             ],
             [
              1,
              "#f0f921"
             ]
            ],
            "type": "histogram2dcontour"
           }
          ],
          "mesh3d": [
           {
            "colorbar": {
             "outlinewidth": 0,
             "ticks": ""
            },
            "type": "mesh3d"
           }
          ],
          "parcoords": [
           {
            "line": {
             "colorbar": {
              "outlinewidth": 0,
              "ticks": ""
             }
            },
            "type": "parcoords"
           }
          ],
          "pie": [
           {
            "automargin": true,
            "type": "pie"
           }
          ],
          "scatter": [
           {
            "fillpattern": {
             "fillmode": "overlay",
             "size": 10,
             "solidity": 0.2
            },
            "type": "scatter"
           }
          ],
          "scatter3d": [
           {
            "line": {
             "colorbar": {
              "outlinewidth": 0,
              "ticks": ""
             }
            },
            "marker": {
             "colorbar": {
              "outlinewidth": 0,
              "ticks": ""
             }
            },
            "type": "scatter3d"
           }
          ],
          "scattercarpet": [
           {
            "marker": {
             "colorbar": {
              "outlinewidth": 0,
              "ticks": ""
             }
            },
            "type": "scattercarpet"
           }
          ],
          "scattergeo": [
           {
            "marker": {
             "colorbar": {
              "outlinewidth": 0,
              "ticks": ""
             }
            },
            "type": "scattergeo"
           }
          ],
          "scattergl": [
           {
            "marker": {
             "colorbar": {
              "outlinewidth": 0,
              "ticks": ""
             }
            },
            "type": "scattergl"
           }
          ],
          "scattermapbox": [
           {
            "marker": {
             "colorbar": {
              "outlinewidth": 0,
              "ticks": ""
             }
            },
            "type": "scattermapbox"
           }
          ],
          "scatterpolar": [
           {
            "marker": {
             "colorbar": {
              "outlinewidth": 0,
              "ticks": ""
             }
            },
            "type": "scatterpolar"
           }
          ],
          "scatterpolargl": [
           {
            "marker": {
             "colorbar": {
              "outlinewidth": 0,
              "ticks": ""
             }
            },
            "type": "scatterpolargl"
           }
          ],
          "scatterternary": [
           {
            "marker": {
             "colorbar": {
              "outlinewidth": 0,
              "ticks": ""
             }
            },
            "type": "scatterternary"
           }
          ],
          "surface": [
           {
            "colorbar": {
             "outlinewidth": 0,
             "ticks": ""
            },
            "colorscale": [
             [
              0,
              "#0d0887"
             ],
             [
              0.1111111111111111,
              "#46039f"
             ],
             [
              0.2222222222222222,
              "#7201a8"
             ],
             [
              0.3333333333333333,
              "#9c179e"
             ],
             [
              0.4444444444444444,
              "#bd3786"
             ],
             [
              0.5555555555555556,
              "#d8576b"
             ],
             [
              0.6666666666666666,
              "#ed7953"
             ],
             [
              0.7777777777777778,
              "#fb9f3a"
             ],
             [
              0.8888888888888888,
              "#fdca26"
             ],
             [
              1,
              "#f0f921"
             ]
            ],
            "type": "surface"
           }
          ],
          "table": [
           {
            "cells": {
             "fill": {
              "color": "#EBF0F8"
             },
             "line": {
              "color": "white"
             }
            },
            "header": {
             "fill": {
              "color": "#C8D4E3"
             },
             "line": {
              "color": "white"
             }
            },
            "type": "table"
           }
          ]
         },
         "layout": {
          "annotationdefaults": {
           "arrowcolor": "#2a3f5f",
           "arrowhead": 0,
           "arrowwidth": 1
          },
          "autotypenumbers": "strict",
          "coloraxis": {
           "colorbar": {
            "outlinewidth": 0,
            "ticks": ""
           }
          },
          "colorscale": {
           "diverging": [
            [
             0,
             "#8e0152"
            ],
            [
             0.1,
             "#c51b7d"
            ],
            [
             0.2,
             "#de77ae"
            ],
            [
             0.3,
             "#f1b6da"
            ],
            [
             0.4,
             "#fde0ef"
            ],
            [
             0.5,
             "#f7f7f7"
            ],
            [
             0.6,
             "#e6f5d0"
            ],
            [
             0.7,
             "#b8e186"
            ],
            [
             0.8,
             "#7fbc41"
            ],
            [
             0.9,
             "#4d9221"
            ],
            [
             1,
             "#276419"
            ]
           ],
           "sequential": [
            [
             0,
             "#0d0887"
            ],
            [
             0.1111111111111111,
             "#46039f"
            ],
            [
             0.2222222222222222,
             "#7201a8"
            ],
            [
             0.3333333333333333,
             "#9c179e"
            ],
            [
             0.4444444444444444,
             "#bd3786"
            ],
            [
             0.5555555555555556,
             "#d8576b"
            ],
            [
             0.6666666666666666,
             "#ed7953"
            ],
            [
             0.7777777777777778,
             "#fb9f3a"
            ],
            [
             0.8888888888888888,
             "#fdca26"
            ],
            [
             1,
             "#f0f921"
            ]
           ],
           "sequentialminus": [
            [
             0,
             "#0d0887"
            ],
            [
             0.1111111111111111,
             "#46039f"
            ],
            [
             0.2222222222222222,
             "#7201a8"
            ],
            [
             0.3333333333333333,
             "#9c179e"
            ],
            [
             0.4444444444444444,
             "#bd3786"
            ],
            [
             0.5555555555555556,
             "#d8576b"
            ],
            [
             0.6666666666666666,
             "#ed7953"
            ],
            [
             0.7777777777777778,
             "#fb9f3a"
            ],
            [
             0.8888888888888888,
             "#fdca26"
            ],
            [
             1,
             "#f0f921"
            ]
           ]
          },
          "colorway": [
           "#636efa",
           "#EF553B",
           "#00cc96",
           "#ab63fa",
           "#FFA15A",
           "#19d3f3",
           "#FF6692",
           "#B6E880",
           "#FF97FF",
           "#FECB52"
          ],
          "font": {
           "color": "#2a3f5f"
          },
          "geo": {
           "bgcolor": "white",
           "lakecolor": "white",
           "landcolor": "#E5ECF6",
           "showlakes": true,
           "showland": true,
           "subunitcolor": "white"
          },
          "hoverlabel": {
           "align": "left"
          },
          "hovermode": "closest",
          "mapbox": {
           "style": "light"
          },
          "paper_bgcolor": "white",
          "plot_bgcolor": "#E5ECF6",
          "polar": {
           "angularaxis": {
            "gridcolor": "white",
            "linecolor": "white",
            "ticks": ""
           },
           "bgcolor": "#E5ECF6",
           "radialaxis": {
            "gridcolor": "white",
            "linecolor": "white",
            "ticks": ""
           }
          },
          "scene": {
           "xaxis": {
            "backgroundcolor": "#E5ECF6",
            "gridcolor": "white",
            "gridwidth": 2,
            "linecolor": "white",
            "showbackground": true,
            "ticks": "",
            "zerolinecolor": "white"
           },
           "yaxis": {
            "backgroundcolor": "#E5ECF6",
            "gridcolor": "white",
            "gridwidth": 2,
            "linecolor": "white",
            "showbackground": true,
            "ticks": "",
            "zerolinecolor": "white"
           },
           "zaxis": {
            "backgroundcolor": "#E5ECF6",
            "gridcolor": "white",
            "gridwidth": 2,
            "linecolor": "white",
            "showbackground": true,
            "ticks": "",
            "zerolinecolor": "white"
           }
          },
          "shapedefaults": {
           "line": {
            "color": "#2a3f5f"
           }
          },
          "ternary": {
           "aaxis": {
            "gridcolor": "white",
            "linecolor": "white",
            "ticks": ""
           },
           "baxis": {
            "gridcolor": "white",
            "linecolor": "white",
            "ticks": ""
           },
           "bgcolor": "#E5ECF6",
           "caxis": {
            "gridcolor": "white",
            "linecolor": "white",
            "ticks": ""
           }
          },
          "title": {
           "x": 0.05
          },
          "xaxis": {
           "automargin": true,
           "gridcolor": "white",
           "linecolor": "white",
           "ticks": "",
           "title": {
            "standoff": 15
           },
           "zerolinecolor": "white",
           "zerolinewidth": 2
          },
          "yaxis": {
           "automargin": true,
           "gridcolor": "white",
           "linecolor": "white",
           "ticks": "",
           "title": {
            "standoff": 15
           },
           "zerolinecolor": "white",
           "zerolinewidth": 2
          }
         }
        },
        "title": {
         "text": "Gas=N2_Hacc5"
        },
        "xaxis": {
         "title": {
          "text": "Field Strength"
         }
        },
        "yaxis": {
         "title": {
          "text": "Log(Rate)"
         }
        }
       }
      }
     },
     "metadata": {},
     "output_type": "display_data"
    },
    {
     "name": "stdout",
     "output_type": "stream",
     "text": [
      "{'Multiplier': 0.04121520325938956, 'Ip': 0.5340041306217247, 'αPol': 11.5, 'gamma': 5.617934071984035, 'e0': 0.8817268721327964, 'a0': 1, 'a1': 1.0, 'b0': 1.0, 'b1': 1, 'b2': 1, 'p1': 3.5, 'd1': 0.0890006884369541}\n",
      "Name           Value      Min      Max   Stderr     Vary     Expr Brute_Step\n",
      "Ip             0.534   0.4806   0.5874     None    False     None     None\n",
      "Multiplier   0.04122    0.001     1000     None     True     None     None\n",
      "a0                 1      0.9      1.1     None    False     None     None\n",
      "a1                 1     -inf      inf     None    False     None     None\n",
      "b0                 1     -inf      inf     None    False     None     None\n",
      "b1                 1      0.9      1.1     None    False     None     None\n",
      "b2                 1      0.9      1.1     None    False     None     None\n",
      "d1             0.089     -inf      inf     None    False 0.5/gamma     None\n",
      "e0            0.8817        0       10     None     True     None     None\n",
      "gamma          5.618   0.2809    5.618     None     True     None     None\n",
      "p1               3.5      2.5      4.5     None    False     None     None\n",
      "αPol            11.5     -inf      inf     None    False     None     None\n"
     ]
    },
    {
     "data": {
      "application/vnd.plotly.v1+json": {
       "config": {
        "plotlyServerURL": "https://plot.ly"
       },
       "data": [
        {
         "line": {
          "color": "red"
         },
         "mode": "lines+markers",
         "name": "numerical dataQS",
         "type": "scatter",
         "x": [
          0.07,
          0.08,
          0.09,
          0.1,
          0.11,
          0.12,
          0.13,
          0.14,
          0.15,
          0.16,
          0.18,
          0.2
         ],
         "y": [
          -19.40017755,
          -16.6128839,
          -14.4612018,
          -12.75494634,
          -11.36795969,
          -10.22838701,
          -9.268393303,
          -8.465549958,
          -7.773115282,
          -7.169769605,
          -6.19725946,
          -5.44728152
         ]
        },
        {
         "line": {
          "color": "blue"
         },
         "mode": "lines",
         "name": "fit QS",
         "type": "scatter",
         "x": [
          0.07,
          0.08,
          0.09,
          0.1,
          0.11,
          0.12,
          0.13,
          0.14,
          0.15,
          0.16,
          0.18,
          0.2
         ],
         "y": [
          -19.422281791219756,
          -16.60068759238337,
          -14.437446997251431,
          -12.731915505117065,
          -11.356283880385698,
          -10.22537548750309,
          -9.280330265168777,
          -8.479252540134325,
          -7.791583013229881,
          -7.19457067358256,
          -6.20757154559834,
          -5.4222172582026555
         ]
        }
       ],
       "layout": {
        "template": {
         "data": {
          "bar": [
           {
            "error_x": {
             "color": "#2a3f5f"
            },
            "error_y": {
             "color": "#2a3f5f"
            },
            "marker": {
             "line": {
              "color": "#E5ECF6",
              "width": 0.5
             },
             "pattern": {
              "fillmode": "overlay",
              "size": 10,
              "solidity": 0.2
             }
            },
            "type": "bar"
           }
          ],
          "barpolar": [
           {
            "marker": {
             "line": {
              "color": "#E5ECF6",
              "width": 0.5
             },
             "pattern": {
              "fillmode": "overlay",
              "size": 10,
              "solidity": 0.2
             }
            },
            "type": "barpolar"
           }
          ],
          "carpet": [
           {
            "aaxis": {
             "endlinecolor": "#2a3f5f",
             "gridcolor": "white",
             "linecolor": "white",
             "minorgridcolor": "white",
             "startlinecolor": "#2a3f5f"
            },
            "baxis": {
             "endlinecolor": "#2a3f5f",
             "gridcolor": "white",
             "linecolor": "white",
             "minorgridcolor": "white",
             "startlinecolor": "#2a3f5f"
            },
            "type": "carpet"
           }
          ],
          "choropleth": [
           {
            "colorbar": {
             "outlinewidth": 0,
             "ticks": ""
            },
            "type": "choropleth"
           }
          ],
          "contour": [
           {
            "colorbar": {
             "outlinewidth": 0,
             "ticks": ""
            },
            "colorscale": [
             [
              0,
              "#0d0887"
             ],
             [
              0.1111111111111111,
              "#46039f"
             ],
             [
              0.2222222222222222,
              "#7201a8"
             ],
             [
              0.3333333333333333,
              "#9c179e"
             ],
             [
              0.4444444444444444,
              "#bd3786"
             ],
             [
              0.5555555555555556,
              "#d8576b"
             ],
             [
              0.6666666666666666,
              "#ed7953"
             ],
             [
              0.7777777777777778,
              "#fb9f3a"
             ],
             [
              0.8888888888888888,
              "#fdca26"
             ],
             [
              1,
              "#f0f921"
             ]
            ],
            "type": "contour"
           }
          ],
          "contourcarpet": [
           {
            "colorbar": {
             "outlinewidth": 0,
             "ticks": ""
            },
            "type": "contourcarpet"
           }
          ],
          "heatmap": [
           {
            "colorbar": {
             "outlinewidth": 0,
             "ticks": ""
            },
            "colorscale": [
             [
              0,
              "#0d0887"
             ],
             [
              0.1111111111111111,
              "#46039f"
             ],
             [
              0.2222222222222222,
              "#7201a8"
             ],
             [
              0.3333333333333333,
              "#9c179e"
             ],
             [
              0.4444444444444444,
              "#bd3786"
             ],
             [
              0.5555555555555556,
              "#d8576b"
             ],
             [
              0.6666666666666666,
              "#ed7953"
             ],
             [
              0.7777777777777778,
              "#fb9f3a"
             ],
             [
              0.8888888888888888,
              "#fdca26"
             ],
             [
              1,
              "#f0f921"
             ]
            ],
            "type": "heatmap"
           }
          ],
          "heatmapgl": [
           {
            "colorbar": {
             "outlinewidth": 0,
             "ticks": ""
            },
            "colorscale": [
             [
              0,
              "#0d0887"
             ],
             [
              0.1111111111111111,
              "#46039f"
             ],
             [
              0.2222222222222222,
              "#7201a8"
             ],
             [
              0.3333333333333333,
              "#9c179e"
             ],
             [
              0.4444444444444444,
              "#bd3786"
             ],
             [
              0.5555555555555556,
              "#d8576b"
             ],
             [
              0.6666666666666666,
              "#ed7953"
             ],
             [
              0.7777777777777778,
              "#fb9f3a"
             ],
             [
              0.8888888888888888,
              "#fdca26"
             ],
             [
              1,
              "#f0f921"
             ]
            ],
            "type": "heatmapgl"
           }
          ],
          "histogram": [
           {
            "marker": {
             "pattern": {
              "fillmode": "overlay",
              "size": 10,
              "solidity": 0.2
             }
            },
            "type": "histogram"
           }
          ],
          "histogram2d": [
           {
            "colorbar": {
             "outlinewidth": 0,
             "ticks": ""
            },
            "colorscale": [
             [
              0,
              "#0d0887"
             ],
             [
              0.1111111111111111,
              "#46039f"
             ],
             [
              0.2222222222222222,
              "#7201a8"
             ],
             [
              0.3333333333333333,
              "#9c179e"
             ],
             [
              0.4444444444444444,
              "#bd3786"
             ],
             [
              0.5555555555555556,
              "#d8576b"
             ],
             [
              0.6666666666666666,
              "#ed7953"
             ],
             [
              0.7777777777777778,
              "#fb9f3a"
             ],
             [
              0.8888888888888888,
              "#fdca26"
             ],
             [
              1,
              "#f0f921"
             ]
            ],
            "type": "histogram2d"
           }
          ],
          "histogram2dcontour": [
           {
            "colorbar": {
             "outlinewidth": 0,
             "ticks": ""
            },
            "colorscale": [
             [
              0,
              "#0d0887"
             ],
             [
              0.1111111111111111,
              "#46039f"
             ],
             [
              0.2222222222222222,
              "#7201a8"
             ],
             [
              0.3333333333333333,
              "#9c179e"
             ],
             [
              0.4444444444444444,
              "#bd3786"
             ],
             [
              0.5555555555555556,
              "#d8576b"
             ],
             [
              0.6666666666666666,
              "#ed7953"
             ],
             [
              0.7777777777777778,
              "#fb9f3a"
             ],
             [
              0.8888888888888888,
              "#fdca26"
             ],
             [
              1,
              "#f0f921"
             ]
            ],
            "type": "histogram2dcontour"
           }
          ],
          "mesh3d": [
           {
            "colorbar": {
             "outlinewidth": 0,
             "ticks": ""
            },
            "type": "mesh3d"
           }
          ],
          "parcoords": [
           {
            "line": {
             "colorbar": {
              "outlinewidth": 0,
              "ticks": ""
             }
            },
            "type": "parcoords"
           }
          ],
          "pie": [
           {
            "automargin": true,
            "type": "pie"
           }
          ],
          "scatter": [
           {
            "fillpattern": {
             "fillmode": "overlay",
             "size": 10,
             "solidity": 0.2
            },
            "type": "scatter"
           }
          ],
          "scatter3d": [
           {
            "line": {
             "colorbar": {
              "outlinewidth": 0,
              "ticks": ""
             }
            },
            "marker": {
             "colorbar": {
              "outlinewidth": 0,
              "ticks": ""
             }
            },
            "type": "scatter3d"
           }
          ],
          "scattercarpet": [
           {
            "marker": {
             "colorbar": {
              "outlinewidth": 0,
              "ticks": ""
             }
            },
            "type": "scattercarpet"
           }
          ],
          "scattergeo": [
           {
            "marker": {
             "colorbar": {
              "outlinewidth": 0,
              "ticks": ""
             }
            },
            "type": "scattergeo"
           }
          ],
          "scattergl": [
           {
            "marker": {
             "colorbar": {
              "outlinewidth": 0,
              "ticks": ""
             }
            },
            "type": "scattergl"
           }
          ],
          "scattermapbox": [
           {
            "marker": {
             "colorbar": {
              "outlinewidth": 0,
              "ticks": ""
             }
            },
            "type": "scattermapbox"
           }
          ],
          "scatterpolar": [
           {
            "marker": {
             "colorbar": {
              "outlinewidth": 0,
              "ticks": ""
             }
            },
            "type": "scatterpolar"
           }
          ],
          "scatterpolargl": [
           {
            "marker": {
             "colorbar": {
              "outlinewidth": 0,
              "ticks": ""
             }
            },
            "type": "scatterpolargl"
           }
          ],
          "scatterternary": [
           {
            "marker": {
             "colorbar": {
              "outlinewidth": 0,
              "ticks": ""
             }
            },
            "type": "scatterternary"
           }
          ],
          "surface": [
           {
            "colorbar": {
             "outlinewidth": 0,
             "ticks": ""
            },
            "colorscale": [
             [
              0,
              "#0d0887"
             ],
             [
              0.1111111111111111,
              "#46039f"
             ],
             [
              0.2222222222222222,
              "#7201a8"
             ],
             [
              0.3333333333333333,
              "#9c179e"
             ],
             [
              0.4444444444444444,
              "#bd3786"
             ],
             [
              0.5555555555555556,
              "#d8576b"
             ],
             [
              0.6666666666666666,
              "#ed7953"
             ],
             [
              0.7777777777777778,
              "#fb9f3a"
             ],
             [
              0.8888888888888888,
              "#fdca26"
             ],
             [
              1,
              "#f0f921"
             ]
            ],
            "type": "surface"
           }
          ],
          "table": [
           {
            "cells": {
             "fill": {
              "color": "#EBF0F8"
             },
             "line": {
              "color": "white"
             }
            },
            "header": {
             "fill": {
              "color": "#C8D4E3"
             },
             "line": {
              "color": "white"
             }
            },
            "type": "table"
           }
          ]
         },
         "layout": {
          "annotationdefaults": {
           "arrowcolor": "#2a3f5f",
           "arrowhead": 0,
           "arrowwidth": 1
          },
          "autotypenumbers": "strict",
          "coloraxis": {
           "colorbar": {
            "outlinewidth": 0,
            "ticks": ""
           }
          },
          "colorscale": {
           "diverging": [
            [
             0,
             "#8e0152"
            ],
            [
             0.1,
             "#c51b7d"
            ],
            [
             0.2,
             "#de77ae"
            ],
            [
             0.3,
             "#f1b6da"
            ],
            [
             0.4,
             "#fde0ef"
            ],
            [
             0.5,
             "#f7f7f7"
            ],
            [
             0.6,
             "#e6f5d0"
            ],
            [
             0.7,
             "#b8e186"
            ],
            [
             0.8,
             "#7fbc41"
            ],
            [
             0.9,
             "#4d9221"
            ],
            [
             1,
             "#276419"
            ]
           ],
           "sequential": [
            [
             0,
             "#0d0887"
            ],
            [
             0.1111111111111111,
             "#46039f"
            ],
            [
             0.2222222222222222,
             "#7201a8"
            ],
            [
             0.3333333333333333,
             "#9c179e"
            ],
            [
             0.4444444444444444,
             "#bd3786"
            ],
            [
             0.5555555555555556,
             "#d8576b"
            ],
            [
             0.6666666666666666,
             "#ed7953"
            ],
            [
             0.7777777777777778,
             "#fb9f3a"
            ],
            [
             0.8888888888888888,
             "#fdca26"
            ],
            [
             1,
             "#f0f921"
            ]
           ],
           "sequentialminus": [
            [
             0,
             "#0d0887"
            ],
            [
             0.1111111111111111,
             "#46039f"
            ],
            [
             0.2222222222222222,
             "#7201a8"
            ],
            [
             0.3333333333333333,
             "#9c179e"
            ],
            [
             0.4444444444444444,
             "#bd3786"
            ],
            [
             0.5555555555555556,
             "#d8576b"
            ],
            [
             0.6666666666666666,
             "#ed7953"
            ],
            [
             0.7777777777777778,
             "#fb9f3a"
            ],
            [
             0.8888888888888888,
             "#fdca26"
            ],
            [
             1,
             "#f0f921"
            ]
           ]
          },
          "colorway": [
           "#636efa",
           "#EF553B",
           "#00cc96",
           "#ab63fa",
           "#FFA15A",
           "#19d3f3",
           "#FF6692",
           "#B6E880",
           "#FF97FF",
           "#FECB52"
          ],
          "font": {
           "color": "#2a3f5f"
          },
          "geo": {
           "bgcolor": "white",
           "lakecolor": "white",
           "landcolor": "#E5ECF6",
           "showlakes": true,
           "showland": true,
           "subunitcolor": "white"
          },
          "hoverlabel": {
           "align": "left"
          },
          "hovermode": "closest",
          "mapbox": {
           "style": "light"
          },
          "paper_bgcolor": "white",
          "plot_bgcolor": "#E5ECF6",
          "polar": {
           "angularaxis": {
            "gridcolor": "white",
            "linecolor": "white",
            "ticks": ""
           },
           "bgcolor": "#E5ECF6",
           "radialaxis": {
            "gridcolor": "white",
            "linecolor": "white",
            "ticks": ""
           }
          },
          "scene": {
           "xaxis": {
            "backgroundcolor": "#E5ECF6",
            "gridcolor": "white",
            "gridwidth": 2,
            "linecolor": "white",
            "showbackground": true,
            "ticks": "",
            "zerolinecolor": "white"
           },
           "yaxis": {
            "backgroundcolor": "#E5ECF6",
            "gridcolor": "white",
            "gridwidth": 2,
            "linecolor": "white",
            "showbackground": true,
            "ticks": "",
            "zerolinecolor": "white"
           },
           "zaxis": {
            "backgroundcolor": "#E5ECF6",
            "gridcolor": "white",
            "gridwidth": 2,
            "linecolor": "white",
            "showbackground": true,
            "ticks": "",
            "zerolinecolor": "white"
           }
          },
          "shapedefaults": {
           "line": {
            "color": "#2a3f5f"
           }
          },
          "ternary": {
           "aaxis": {
            "gridcolor": "white",
            "linecolor": "white",
            "ticks": ""
           },
           "baxis": {
            "gridcolor": "white",
            "linecolor": "white",
            "ticks": ""
           },
           "bgcolor": "#E5ECF6",
           "caxis": {
            "gridcolor": "white",
            "linecolor": "white",
            "ticks": ""
           }
          },
          "title": {
           "x": 0.05
          },
          "xaxis": {
           "automargin": true,
           "gridcolor": "white",
           "linecolor": "white",
           "ticks": "",
           "title": {
            "standoff": 15
           },
           "zerolinecolor": "white",
           "zerolinewidth": 2
          },
          "yaxis": {
           "automargin": true,
           "gridcolor": "white",
           "linecolor": "white",
           "ticks": "",
           "title": {
            "standoff": 15
           },
           "zerolinecolor": "white",
           "zerolinewidth": 2
          }
         }
        },
        "title": {
         "text": "Gas=He_Hacc5"
        },
        "xaxis": {
         "title": {
          "text": "Field Strength"
         }
        },
        "yaxis": {
         "title": {
          "text": "Log(Rate)"
         }
        }
       }
      }
     },
     "metadata": {},
     "output_type": "display_data"
    },
    {
     "name": "stdout",
     "output_type": "stream",
     "text": [
      "{'Multiplier': 3.6597333578882734, 'Ip': 0.9036653755411335, 'αPol': 1.38, 'gamma': 0.4243905841058913, 'e0': 8.746694626936057, 'a0': 1, 'a1': 1.0, 'b0': 1.0, 'b1': 1, 'b2': 1, 'p1': 3.5, 'd1': 1.1781599750932341}\n",
      "Name           Value      Min      Max   Stderr     Vary     Expr Brute_Step\n",
      "Ip            0.9037   0.8133    0.994     None    False     None     None\n",
      "Multiplier      3.66    0.001     1000     None     True     None     None\n",
      "a0                 1      0.9      1.1     None    False     None     None\n",
      "a1                 1     -inf      inf     None    False     None     None\n",
      "b0                 1     -inf      inf     None    False     None     None\n",
      "b1                 1      0.9      1.1     None    False     None     None\n",
      "b2                 1      0.9      1.1     None    False     None     None\n",
      "d1             1.178     -inf      inf     None    False 0.5/gamma     None\n",
      "e0             8.747        0       10     None     True     None     None\n",
      "gamma         0.4244    0.166     3.32     None     True     None     None\n",
      "p1               3.5      2.5      4.5     None    False     None     None\n",
      "αPol            1.38     -inf      inf     None    False     None     None\n"
     ]
    },
    {
     "data": {
      "application/vnd.plotly.v1+json": {
       "config": {
        "plotlyServerURL": "https://plot.ly"
       },
       "data": [
        {
         "line": {
          "color": "red"
         },
         "mode": "lines+markers",
         "name": "numerical dataQS",
         "type": "scatter",
         "x": [
          0.06,
          0.08,
          0.1,
          0.12
         ],
         "y": [
          -10.30098449,
          -7.125911289,
          -5.381698975,
          -4.319991244
         ]
        },
        {
         "line": {
          "color": "blue"
         },
         "mode": "lines",
         "name": "fit QS",
         "type": "scatter",
         "x": [
          0.06,
          0.08,
          0.1,
          0.12
         ],
         "y": [
          -10.298621347733764,
          -7.136464851890974,
          -5.382539176423514,
          -4.311566037213389
         ]
        }
       ],
       "layout": {
        "template": {
         "data": {
          "bar": [
           {
            "error_x": {
             "color": "#2a3f5f"
            },
            "error_y": {
             "color": "#2a3f5f"
            },
            "marker": {
             "line": {
              "color": "#E5ECF6",
              "width": 0.5
             },
             "pattern": {
              "fillmode": "overlay",
              "size": 10,
              "solidity": 0.2
             }
            },
            "type": "bar"
           }
          ],
          "barpolar": [
           {
            "marker": {
             "line": {
              "color": "#E5ECF6",
              "width": 0.5
             },
             "pattern": {
              "fillmode": "overlay",
              "size": 10,
              "solidity": 0.2
             }
            },
            "type": "barpolar"
           }
          ],
          "carpet": [
           {
            "aaxis": {
             "endlinecolor": "#2a3f5f",
             "gridcolor": "white",
             "linecolor": "white",
             "minorgridcolor": "white",
             "startlinecolor": "#2a3f5f"
            },
            "baxis": {
             "endlinecolor": "#2a3f5f",
             "gridcolor": "white",
             "linecolor": "white",
             "minorgridcolor": "white",
             "startlinecolor": "#2a3f5f"
            },
            "type": "carpet"
           }
          ],
          "choropleth": [
           {
            "colorbar": {
             "outlinewidth": 0,
             "ticks": ""
            },
            "type": "choropleth"
           }
          ],
          "contour": [
           {
            "colorbar": {
             "outlinewidth": 0,
             "ticks": ""
            },
            "colorscale": [
             [
              0,
              "#0d0887"
             ],
             [
              0.1111111111111111,
              "#46039f"
             ],
             [
              0.2222222222222222,
              "#7201a8"
             ],
             [
              0.3333333333333333,
              "#9c179e"
             ],
             [
              0.4444444444444444,
              "#bd3786"
             ],
             [
              0.5555555555555556,
              "#d8576b"
             ],
             [
              0.6666666666666666,
              "#ed7953"
             ],
             [
              0.7777777777777778,
              "#fb9f3a"
             ],
             [
              0.8888888888888888,
              "#fdca26"
             ],
             [
              1,
              "#f0f921"
             ]
            ],
            "type": "contour"
           }
          ],
          "contourcarpet": [
           {
            "colorbar": {
             "outlinewidth": 0,
             "ticks": ""
            },
            "type": "contourcarpet"
           }
          ],
          "heatmap": [
           {
            "colorbar": {
             "outlinewidth": 0,
             "ticks": ""
            },
            "colorscale": [
             [
              0,
              "#0d0887"
             ],
             [
              0.1111111111111111,
              "#46039f"
             ],
             [
              0.2222222222222222,
              "#7201a8"
             ],
             [
              0.3333333333333333,
              "#9c179e"
             ],
             [
              0.4444444444444444,
              "#bd3786"
             ],
             [
              0.5555555555555556,
              "#d8576b"
             ],
             [
              0.6666666666666666,
              "#ed7953"
             ],
             [
              0.7777777777777778,
              "#fb9f3a"
             ],
             [
              0.8888888888888888,
              "#fdca26"
             ],
             [
              1,
              "#f0f921"
             ]
            ],
            "type": "heatmap"
           }
          ],
          "heatmapgl": [
           {
            "colorbar": {
             "outlinewidth": 0,
             "ticks": ""
            },
            "colorscale": [
             [
              0,
              "#0d0887"
             ],
             [
              0.1111111111111111,
              "#46039f"
             ],
             [
              0.2222222222222222,
              "#7201a8"
             ],
             [
              0.3333333333333333,
              "#9c179e"
             ],
             [
              0.4444444444444444,
              "#bd3786"
             ],
             [
              0.5555555555555556,
              "#d8576b"
             ],
             [
              0.6666666666666666,
              "#ed7953"
             ],
             [
              0.7777777777777778,
              "#fb9f3a"
             ],
             [
              0.8888888888888888,
              "#fdca26"
             ],
             [
              1,
              "#f0f921"
             ]
            ],
            "type": "heatmapgl"
           }
          ],
          "histogram": [
           {
            "marker": {
             "pattern": {
              "fillmode": "overlay",
              "size": 10,
              "solidity": 0.2
             }
            },
            "type": "histogram"
           }
          ],
          "histogram2d": [
           {
            "colorbar": {
             "outlinewidth": 0,
             "ticks": ""
            },
            "colorscale": [
             [
              0,
              "#0d0887"
             ],
             [
              0.1111111111111111,
              "#46039f"
             ],
             [
              0.2222222222222222,
              "#7201a8"
             ],
             [
              0.3333333333333333,
              "#9c179e"
             ],
             [
              0.4444444444444444,
              "#bd3786"
             ],
             [
              0.5555555555555556,
              "#d8576b"
             ],
             [
              0.6666666666666666,
              "#ed7953"
             ],
             [
              0.7777777777777778,
              "#fb9f3a"
             ],
             [
              0.8888888888888888,
              "#fdca26"
             ],
             [
              1,
              "#f0f921"
             ]
            ],
            "type": "histogram2d"
           }
          ],
          "histogram2dcontour": [
           {
            "colorbar": {
             "outlinewidth": 0,
             "ticks": ""
            },
            "colorscale": [
             [
              0,
              "#0d0887"
             ],
             [
              0.1111111111111111,
              "#46039f"
             ],
             [
              0.2222222222222222,
              "#7201a8"
             ],
             [
              0.3333333333333333,
              "#9c179e"
             ],
             [
              0.4444444444444444,
              "#bd3786"
             ],
             [
              0.5555555555555556,
              "#d8576b"
             ],
             [
              0.6666666666666666,
              "#ed7953"
             ],
             [
              0.7777777777777778,
              "#fb9f3a"
             ],
             [
              0.8888888888888888,
              "#fdca26"
             ],
             [
              1,
              "#f0f921"
             ]
            ],
            "type": "histogram2dcontour"
           }
          ],
          "mesh3d": [
           {
            "colorbar": {
             "outlinewidth": 0,
             "ticks": ""
            },
            "type": "mesh3d"
           }
          ],
          "parcoords": [
           {
            "line": {
             "colorbar": {
              "outlinewidth": 0,
              "ticks": ""
             }
            },
            "type": "parcoords"
           }
          ],
          "pie": [
           {
            "automargin": true,
            "type": "pie"
           }
          ],
          "scatter": [
           {
            "fillpattern": {
             "fillmode": "overlay",
             "size": 10,
             "solidity": 0.2
            },
            "type": "scatter"
           }
          ],
          "scatter3d": [
           {
            "line": {
             "colorbar": {
              "outlinewidth": 0,
              "ticks": ""
             }
            },
            "marker": {
             "colorbar": {
              "outlinewidth": 0,
              "ticks": ""
             }
            },
            "type": "scatter3d"
           }
          ],
          "scattercarpet": [
           {
            "marker": {
             "colorbar": {
              "outlinewidth": 0,
              "ticks": ""
             }
            },
            "type": "scattercarpet"
           }
          ],
          "scattergeo": [
           {
            "marker": {
             "colorbar": {
              "outlinewidth": 0,
              "ticks": ""
             }
            },
            "type": "scattergeo"
           }
          ],
          "scattergl": [
           {
            "marker": {
             "colorbar": {
              "outlinewidth": 0,
              "ticks": ""
             }
            },
            "type": "scattergl"
           }
          ],
          "scattermapbox": [
           {
            "marker": {
             "colorbar": {
              "outlinewidth": 0,
              "ticks": ""
             }
            },
            "type": "scattermapbox"
           }
          ],
          "scatterpolar": [
           {
            "marker": {
             "colorbar": {
              "outlinewidth": 0,
              "ticks": ""
             }
            },
            "type": "scatterpolar"
           }
          ],
          "scatterpolargl": [
           {
            "marker": {
             "colorbar": {
              "outlinewidth": 0,
              "ticks": ""
             }
            },
            "type": "scatterpolargl"
           }
          ],
          "scatterternary": [
           {
            "marker": {
             "colorbar": {
              "outlinewidth": 0,
              "ticks": ""
             }
            },
            "type": "scatterternary"
           }
          ],
          "surface": [
           {
            "colorbar": {
             "outlinewidth": 0,
             "ticks": ""
            },
            "colorscale": [
             [
              0,
              "#0d0887"
             ],
             [
              0.1111111111111111,
              "#46039f"
             ],
             [
              0.2222222222222222,
              "#7201a8"
             ],
             [
              0.3333333333333333,
              "#9c179e"
             ],
             [
              0.4444444444444444,
              "#bd3786"
             ],
             [
              0.5555555555555556,
              "#d8576b"
             ],
             [
              0.6666666666666666,
              "#ed7953"
             ],
             [
              0.7777777777777778,
              "#fb9f3a"
             ],
             [
              0.8888888888888888,
              "#fdca26"
             ],
             [
              1,
              "#f0f921"
             ]
            ],
            "type": "surface"
           }
          ],
          "table": [
           {
            "cells": {
             "fill": {
              "color": "#EBF0F8"
             },
             "line": {
              "color": "white"
             }
            },
            "header": {
             "fill": {
              "color": "#C8D4E3"
             },
             "line": {
              "color": "white"
             }
            },
            "type": "table"
           }
          ]
         },
         "layout": {
          "annotationdefaults": {
           "arrowcolor": "#2a3f5f",
           "arrowhead": 0,
           "arrowwidth": 1
          },
          "autotypenumbers": "strict",
          "coloraxis": {
           "colorbar": {
            "outlinewidth": 0,
            "ticks": ""
           }
          },
          "colorscale": {
           "diverging": [
            [
             0,
             "#8e0152"
            ],
            [
             0.1,
             "#c51b7d"
            ],
            [
             0.2,
             "#de77ae"
            ],
            [
             0.3,
             "#f1b6da"
            ],
            [
             0.4,
             "#fde0ef"
            ],
            [
             0.5,
             "#f7f7f7"
            ],
            [
             0.6,
             "#e6f5d0"
            ],
            [
             0.7,
             "#b8e186"
            ],
            [
             0.8,
             "#7fbc41"
            ],
            [
             0.9,
             "#4d9221"
            ],
            [
             1,
             "#276419"
            ]
           ],
           "sequential": [
            [
             0,
             "#0d0887"
            ],
            [
             0.1111111111111111,
             "#46039f"
            ],
            [
             0.2222222222222222,
             "#7201a8"
            ],
            [
             0.3333333333333333,
             "#9c179e"
            ],
            [
             0.4444444444444444,
             "#bd3786"
            ],
            [
             0.5555555555555556,
             "#d8576b"
            ],
            [
             0.6666666666666666,
             "#ed7953"
            ],
            [
             0.7777777777777778,
             "#fb9f3a"
            ],
            [
             0.8888888888888888,
             "#fdca26"
            ],
            [
             1,
             "#f0f921"
            ]
           ],
           "sequentialminus": [
            [
             0,
             "#0d0887"
            ],
            [
             0.1111111111111111,
             "#46039f"
            ],
            [
             0.2222222222222222,
             "#7201a8"
            ],
            [
             0.3333333333333333,
             "#9c179e"
            ],
            [
             0.4444444444444444,
             "#bd3786"
            ],
            [
             0.5555555555555556,
             "#d8576b"
            ],
            [
             0.6666666666666666,
             "#ed7953"
            ],
            [
             0.7777777777777778,
             "#fb9f3a"
            ],
            [
             0.8888888888888888,
             "#fdca26"
            ],
            [
             1,
             "#f0f921"
            ]
           ]
          },
          "colorway": [
           "#636efa",
           "#EF553B",
           "#00cc96",
           "#ab63fa",
           "#FFA15A",
           "#19d3f3",
           "#FF6692",
           "#B6E880",
           "#FF97FF",
           "#FECB52"
          ],
          "font": {
           "color": "#2a3f5f"
          },
          "geo": {
           "bgcolor": "white",
           "lakecolor": "white",
           "landcolor": "#E5ECF6",
           "showlakes": true,
           "showland": true,
           "subunitcolor": "white"
          },
          "hoverlabel": {
           "align": "left"
          },
          "hovermode": "closest",
          "mapbox": {
           "style": "light"
          },
          "paper_bgcolor": "white",
          "plot_bgcolor": "#E5ECF6",
          "polar": {
           "angularaxis": {
            "gridcolor": "white",
            "linecolor": "white",
            "ticks": ""
           },
           "bgcolor": "#E5ECF6",
           "radialaxis": {
            "gridcolor": "white",
            "linecolor": "white",
            "ticks": ""
           }
          },
          "scene": {
           "xaxis": {
            "backgroundcolor": "#E5ECF6",
            "gridcolor": "white",
            "gridwidth": 2,
            "linecolor": "white",
            "showbackground": true,
            "ticks": "",
            "zerolinecolor": "white"
           },
           "yaxis": {
            "backgroundcolor": "#E5ECF6",
            "gridcolor": "white",
            "gridwidth": 2,
            "linecolor": "white",
            "showbackground": true,
            "ticks": "",
            "zerolinecolor": "white"
           },
           "zaxis": {
            "backgroundcolor": "#E5ECF6",
            "gridcolor": "white",
            "gridwidth": 2,
            "linecolor": "white",
            "showbackground": true,
            "ticks": "",
            "zerolinecolor": "white"
           }
          },
          "shapedefaults": {
           "line": {
            "color": "#2a3f5f"
           }
          },
          "ternary": {
           "aaxis": {
            "gridcolor": "white",
            "linecolor": "white",
            "ticks": ""
           },
           "baxis": {
            "gridcolor": "white",
            "linecolor": "white",
            "ticks": ""
           },
           "bgcolor": "#E5ECF6",
           "caxis": {
            "gridcolor": "white",
            "linecolor": "white",
            "ticks": ""
           }
          },
          "title": {
           "x": 0.05
          },
          "xaxis": {
           "automargin": true,
           "gridcolor": "white",
           "linecolor": "white",
           "ticks": "",
           "title": {
            "standoff": 15
           },
           "zerolinecolor": "white",
           "zerolinewidth": 2
          },
          "yaxis": {
           "automargin": true,
           "gridcolor": "white",
           "linecolor": "white",
           "ticks": "",
           "title": {
            "standoff": 15
           },
           "zerolinecolor": "white",
           "zerolinewidth": 2
          }
         }
        },
        "title": {
         "text": "Gas=H2_Hacc5"
        },
        "xaxis": {
         "title": {
          "text": "Field Strength"
         }
        },
        "yaxis": {
         "title": {
          "text": "Log(Rate)"
         }
        }
       }
      }
     },
     "metadata": {},
     "output_type": "display_data"
    },
    {
     "name": "stdout",
     "output_type": "stream",
     "text": [
      "{'Multiplier': 0.033458731474331586, 'Ip': 0.5673724982911573, 'αPol': 0, 'gamma': 5.287531575879267, 'e0': 0.7424394008796571, 'a0': 1, 'a1': 1.0, 'b0': 1.0, 'b1': 1, 'b2': 1, 'p1': 3.5, 'd1': 0.09456208304852622}\n",
      "Name           Value      Min      Max   Stderr     Vary     Expr Brute_Step\n",
      "Ip            0.5674   0.5106   0.6241     None    False     None     None\n",
      "Multiplier   0.03346    0.001     1000     None     True     None     None\n",
      "a0                 1      0.9      1.1     None    False     None     None\n",
      "a1                 1     -inf      inf     None    False     None     None\n",
      "b0                 1     -inf      inf     None    False     None     None\n",
      "b1                 1      0.9      1.1     None    False     None     None\n",
      "b2                 1      0.9      1.1     None    False     None     None\n",
      "d1           0.09456     -inf      inf     None    False 0.5/gamma     None\n",
      "e0            0.7424        0       10     None     True     None     None\n",
      "gamma          5.288   0.2644    5.288     None     True     None     None\n",
      "p1               3.5      2.5      4.5     None    False     None     None\n",
      "αPol               0     -inf      inf     None    False     None     None\n"
     ]
    },
    {
     "data": {
      "application/vnd.plotly.v1+json": {
       "config": {
        "plotlyServerURL": "https://plot.ly"
       },
       "data": [
        {
         "line": {
          "color": "red"
         },
         "mode": "lines+markers",
         "name": "numerical dataQS",
         "type": "scatter",
         "x": [
          0.025,
          0.03,
          0.035,
          0.04,
          0.045,
          0.05,
          0.055,
          0.06,
          0.065,
          0.07,
          0.075,
          0.08,
          0.085,
          0.09
         ],
         "y": [
          -21.8752789,
          -17.5965053,
          -14.58553878,
          -12.39481477,
          -10.74745762,
          -9.47560885,
          -8.482791765,
          -7.695213139,
          -7.062072639,
          -6.550080835,
          -6.133028111,
          -5.782825682,
          -5.499210309,
          -5.247624252
         ]
        },
        {
         "line": {
          "color": "blue"
         },
         "mode": "lines",
         "name": "fit QS",
         "type": "scatter",
         "x": [
          0.025,
          0.03,
          0.035,
          0.04,
          0.045,
          0.05,
          0.055,
          0.06,
          0.065,
          0.07,
          0.075,
          0.08,
          0.085,
          0.09
         ],
         "y": [
          -21.88783378923109,
          -17.542497850444846,
          -14.554244069349833,
          -12.39857693499891,
          -10.78570918535438,
          -9.543285860753699,
          -8.562931373648905,
          -7.7734725658890875,
          -7.126506519434135,
          -6.588154370141783,
          -6.134120333836966,
          -5.7466126391849945,
          -5.412360799203221,
          -5.121303043437845
         ]
        }
       ],
       "layout": {
        "template": {
         "data": {
          "bar": [
           {
            "error_x": {
             "color": "#2a3f5f"
            },
            "error_y": {
             "color": "#2a3f5f"
            },
            "marker": {
             "line": {
              "color": "#E5ECF6",
              "width": 0.5
             },
             "pattern": {
              "fillmode": "overlay",
              "size": 10,
              "solidity": 0.2
             }
            },
            "type": "bar"
           }
          ],
          "barpolar": [
           {
            "marker": {
             "line": {
              "color": "#E5ECF6",
              "width": 0.5
             },
             "pattern": {
              "fillmode": "overlay",
              "size": 10,
              "solidity": 0.2
             }
            },
            "type": "barpolar"
           }
          ],
          "carpet": [
           {
            "aaxis": {
             "endlinecolor": "#2a3f5f",
             "gridcolor": "white",
             "linecolor": "white",
             "minorgridcolor": "white",
             "startlinecolor": "#2a3f5f"
            },
            "baxis": {
             "endlinecolor": "#2a3f5f",
             "gridcolor": "white",
             "linecolor": "white",
             "minorgridcolor": "white",
             "startlinecolor": "#2a3f5f"
            },
            "type": "carpet"
           }
          ],
          "choropleth": [
           {
            "colorbar": {
             "outlinewidth": 0,
             "ticks": ""
            },
            "type": "choropleth"
           }
          ],
          "contour": [
           {
            "colorbar": {
             "outlinewidth": 0,
             "ticks": ""
            },
            "colorscale": [
             [
              0,
              "#0d0887"
             ],
             [
              0.1111111111111111,
              "#46039f"
             ],
             [
              0.2222222222222222,
              "#7201a8"
             ],
             [
              0.3333333333333333,
              "#9c179e"
             ],
             [
              0.4444444444444444,
              "#bd3786"
             ],
             [
              0.5555555555555556,
              "#d8576b"
             ],
             [
              0.6666666666666666,
              "#ed7953"
             ],
             [
              0.7777777777777778,
              "#fb9f3a"
             ],
             [
              0.8888888888888888,
              "#fdca26"
             ],
             [
              1,
              "#f0f921"
             ]
            ],
            "type": "contour"
           }
          ],
          "contourcarpet": [
           {
            "colorbar": {
             "outlinewidth": 0,
             "ticks": ""
            },
            "type": "contourcarpet"
           }
          ],
          "heatmap": [
           {
            "colorbar": {
             "outlinewidth": 0,
             "ticks": ""
            },
            "colorscale": [
             [
              0,
              "#0d0887"
             ],
             [
              0.1111111111111111,
              "#46039f"
             ],
             [
              0.2222222222222222,
              "#7201a8"
             ],
             [
              0.3333333333333333,
              "#9c179e"
             ],
             [
              0.4444444444444444,
              "#bd3786"
             ],
             [
              0.5555555555555556,
              "#d8576b"
             ],
             [
              0.6666666666666666,
              "#ed7953"
             ],
             [
              0.7777777777777778,
              "#fb9f3a"
             ],
             [
              0.8888888888888888,
              "#fdca26"
             ],
             [
              1,
              "#f0f921"
             ]
            ],
            "type": "heatmap"
           }
          ],
          "heatmapgl": [
           {
            "colorbar": {
             "outlinewidth": 0,
             "ticks": ""
            },
            "colorscale": [
             [
              0,
              "#0d0887"
             ],
             [
              0.1111111111111111,
              "#46039f"
             ],
             [
              0.2222222222222222,
              "#7201a8"
             ],
             [
              0.3333333333333333,
              "#9c179e"
             ],
             [
              0.4444444444444444,
              "#bd3786"
             ],
             [
              0.5555555555555556,
              "#d8576b"
             ],
             [
              0.6666666666666666,
              "#ed7953"
             ],
             [
              0.7777777777777778,
              "#fb9f3a"
             ],
             [
              0.8888888888888888,
              "#fdca26"
             ],
             [
              1,
              "#f0f921"
             ]
            ],
            "type": "heatmapgl"
           }
          ],
          "histogram": [
           {
            "marker": {
             "pattern": {
              "fillmode": "overlay",
              "size": 10,
              "solidity": 0.2
             }
            },
            "type": "histogram"
           }
          ],
          "histogram2d": [
           {
            "colorbar": {
             "outlinewidth": 0,
             "ticks": ""
            },
            "colorscale": [
             [
              0,
              "#0d0887"
             ],
             [
              0.1111111111111111,
              "#46039f"
             ],
             [
              0.2222222222222222,
              "#7201a8"
             ],
             [
              0.3333333333333333,
              "#9c179e"
             ],
             [
              0.4444444444444444,
              "#bd3786"
             ],
             [
              0.5555555555555556,
              "#d8576b"
             ],
             [
              0.6666666666666666,
              "#ed7953"
             ],
             [
              0.7777777777777778,
              "#fb9f3a"
             ],
             [
              0.8888888888888888,
              "#fdca26"
             ],
             [
              1,
              "#f0f921"
             ]
            ],
            "type": "histogram2d"
           }
          ],
          "histogram2dcontour": [
           {
            "colorbar": {
             "outlinewidth": 0,
             "ticks": ""
            },
            "colorscale": [
             [
              0,
              "#0d0887"
             ],
             [
              0.1111111111111111,
              "#46039f"
             ],
             [
              0.2222222222222222,
              "#7201a8"
             ],
             [
              0.3333333333333333,
              "#9c179e"
             ],
             [
              0.4444444444444444,
              "#bd3786"
             ],
             [
              0.5555555555555556,
              "#d8576b"
             ],
             [
              0.6666666666666666,
              "#ed7953"
             ],
             [
              0.7777777777777778,
              "#fb9f3a"
             ],
             [
              0.8888888888888888,
              "#fdca26"
             ],
             [
              1,
              "#f0f921"
             ]
            ],
            "type": "histogram2dcontour"
           }
          ],
          "mesh3d": [
           {
            "colorbar": {
             "outlinewidth": 0,
             "ticks": ""
            },
            "type": "mesh3d"
           }
          ],
          "parcoords": [
           {
            "line": {
             "colorbar": {
              "outlinewidth": 0,
              "ticks": ""
             }
            },
            "type": "parcoords"
           }
          ],
          "pie": [
           {
            "automargin": true,
            "type": "pie"
           }
          ],
          "scatter": [
           {
            "fillpattern": {
             "fillmode": "overlay",
             "size": 10,
             "solidity": 0.2
            },
            "type": "scatter"
           }
          ],
          "scatter3d": [
           {
            "line": {
             "colorbar": {
              "outlinewidth": 0,
              "ticks": ""
             }
            },
            "marker": {
             "colorbar": {
              "outlinewidth": 0,
              "ticks": ""
             }
            },
            "type": "scatter3d"
           }
          ],
          "scattercarpet": [
           {
            "marker": {
             "colorbar": {
              "outlinewidth": 0,
              "ticks": ""
             }
            },
            "type": "scattercarpet"
           }
          ],
          "scattergeo": [
           {
            "marker": {
             "colorbar": {
              "outlinewidth": 0,
              "ticks": ""
             }
            },
            "type": "scattergeo"
           }
          ],
          "scattergl": [
           {
            "marker": {
             "colorbar": {
              "outlinewidth": 0,
              "ticks": ""
             }
            },
            "type": "scattergl"
           }
          ],
          "scattermapbox": [
           {
            "marker": {
             "colorbar": {
              "outlinewidth": 0,
              "ticks": ""
             }
            },
            "type": "scattermapbox"
           }
          ],
          "scatterpolar": [
           {
            "marker": {
             "colorbar": {
              "outlinewidth": 0,
              "ticks": ""
             }
            },
            "type": "scatterpolar"
           }
          ],
          "scatterpolargl": [
           {
            "marker": {
             "colorbar": {
              "outlinewidth": 0,
              "ticks": ""
             }
            },
            "type": "scatterpolargl"
           }
          ],
          "scatterternary": [
           {
            "marker": {
             "colorbar": {
              "outlinewidth": 0,
              "ticks": ""
             }
            },
            "type": "scatterternary"
           }
          ],
          "surface": [
           {
            "colorbar": {
             "outlinewidth": 0,
             "ticks": ""
            },
            "colorscale": [
             [
              0,
              "#0d0887"
             ],
             [
              0.1111111111111111,
              "#46039f"
             ],
             [
              0.2222222222222222,
              "#7201a8"
             ],
             [
              0.3333333333333333,
              "#9c179e"
             ],
             [
              0.4444444444444444,
              "#bd3786"
             ],
             [
              0.5555555555555556,
              "#d8576b"
             ],
             [
              0.6666666666666666,
              "#ed7953"
             ],
             [
              0.7777777777777778,
              "#fb9f3a"
             ],
             [
              0.8888888888888888,
              "#fdca26"
             ],
             [
              1,
              "#f0f921"
             ]
            ],
            "type": "surface"
           }
          ],
          "table": [
           {
            "cells": {
             "fill": {
              "color": "#EBF0F8"
             },
             "line": {
              "color": "white"
             }
            },
            "header": {
             "fill": {
              "color": "#C8D4E3"
             },
             "line": {
              "color": "white"
             }
            },
            "type": "table"
           }
          ]
         },
         "layout": {
          "annotationdefaults": {
           "arrowcolor": "#2a3f5f",
           "arrowhead": 0,
           "arrowwidth": 1
          },
          "autotypenumbers": "strict",
          "coloraxis": {
           "colorbar": {
            "outlinewidth": 0,
            "ticks": ""
           }
          },
          "colorscale": {
           "diverging": [
            [
             0,
             "#8e0152"
            ],
            [
             0.1,
             "#c51b7d"
            ],
            [
             0.2,
             "#de77ae"
            ],
            [
             0.3,
             "#f1b6da"
            ],
            [
             0.4,
             "#fde0ef"
            ],
            [
             0.5,
             "#f7f7f7"
            ],
            [
             0.6,
             "#e6f5d0"
            ],
            [
             0.7,
             "#b8e186"
            ],
            [
             0.8,
             "#7fbc41"
            ],
            [
             0.9,
             "#4d9221"
            ],
            [
             1,
             "#276419"
            ]
           ],
           "sequential": [
            [
             0,
             "#0d0887"
            ],
            [
             0.1111111111111111,
             "#46039f"
            ],
            [
             0.2222222222222222,
             "#7201a8"
            ],
            [
             0.3333333333333333,
             "#9c179e"
            ],
            [
             0.4444444444444444,
             "#bd3786"
            ],
            [
             0.5555555555555556,
             "#d8576b"
            ],
            [
             0.6666666666666666,
             "#ed7953"
            ],
            [
             0.7777777777777778,
             "#fb9f3a"
            ],
            [
             0.8888888888888888,
             "#fdca26"
            ],
            [
             1,
             "#f0f921"
            ]
           ],
           "sequentialminus": [
            [
             0,
             "#0d0887"
            ],
            [
             0.1111111111111111,
             "#46039f"
            ],
            [
             0.2222222222222222,
             "#7201a8"
            ],
            [
             0.3333333333333333,
             "#9c179e"
            ],
            [
             0.4444444444444444,
             "#bd3786"
            ],
            [
             0.5555555555555556,
             "#d8576b"
            ],
            [
             0.6666666666666666,
             "#ed7953"
            ],
            [
             0.7777777777777778,
             "#fb9f3a"
            ],
            [
             0.8888888888888888,
             "#fdca26"
            ],
            [
             1,
             "#f0f921"
            ]
           ]
          },
          "colorway": [
           "#636efa",
           "#EF553B",
           "#00cc96",
           "#ab63fa",
           "#FFA15A",
           "#19d3f3",
           "#FF6692",
           "#B6E880",
           "#FF97FF",
           "#FECB52"
          ],
          "font": {
           "color": "#2a3f5f"
          },
          "geo": {
           "bgcolor": "white",
           "lakecolor": "white",
           "landcolor": "#E5ECF6",
           "showlakes": true,
           "showland": true,
           "subunitcolor": "white"
          },
          "hoverlabel": {
           "align": "left"
          },
          "hovermode": "closest",
          "mapbox": {
           "style": "light"
          },
          "paper_bgcolor": "white",
          "plot_bgcolor": "#E5ECF6",
          "polar": {
           "angularaxis": {
            "gridcolor": "white",
            "linecolor": "white",
            "ticks": ""
           },
           "bgcolor": "#E5ECF6",
           "radialaxis": {
            "gridcolor": "white",
            "linecolor": "white",
            "ticks": ""
           }
          },
          "scene": {
           "xaxis": {
            "backgroundcolor": "#E5ECF6",
            "gridcolor": "white",
            "gridwidth": 2,
            "linecolor": "white",
            "showbackground": true,
            "ticks": "",
            "zerolinecolor": "white"
           },
           "yaxis": {
            "backgroundcolor": "#E5ECF6",
            "gridcolor": "white",
            "gridwidth": 2,
            "linecolor": "white",
            "showbackground": true,
            "ticks": "",
            "zerolinecolor": "white"
           },
           "zaxis": {
            "backgroundcolor": "#E5ECF6",
            "gridcolor": "white",
            "gridwidth": 2,
            "linecolor": "white",
            "showbackground": true,
            "ticks": "",
            "zerolinecolor": "white"
           }
          },
          "shapedefaults": {
           "line": {
            "color": "#2a3f5f"
           }
          },
          "ternary": {
           "aaxis": {
            "gridcolor": "white",
            "linecolor": "white",
            "ticks": ""
           },
           "baxis": {
            "gridcolor": "white",
            "linecolor": "white",
            "ticks": ""
           },
           "bgcolor": "#E5ECF6",
           "caxis": {
            "gridcolor": "white",
            "linecolor": "white",
            "ticks": ""
           }
          },
          "title": {
           "x": 0.05
          },
          "xaxis": {
           "automargin": true,
           "gridcolor": "white",
           "linecolor": "white",
           "ticks": "",
           "title": {
            "standoff": 15
           },
           "zerolinecolor": "white",
           "zerolinewidth": 2
          },
          "yaxis": {
           "automargin": true,
           "gridcolor": "white",
           "linecolor": "white",
           "ticks": "",
           "title": {
            "standoff": 15
           },
           "zerolinecolor": "white",
           "zerolinewidth": 2
          }
         }
        },
        "title": {
         "text": "Gas=CO_Hacc5"
        },
        "xaxis": {
         "title": {
          "text": "Field Strength"
         }
        },
        "yaxis": {
         "title": {
          "text": "Log(Rate)"
         }
        }
       }
      }
     },
     "metadata": {},
     "output_type": "display_data"
    },
    {
     "name": "stdout",
     "output_type": "stream",
     "text": [
      "{'Multiplier': 0.22163618709285832, 'Ip': 0.5255150414899638, 'αPol': 13.08, 'gamma': 2.433064448398187, 'e0': 3.6785676524221063, 'a0': 1, 'a1': 1.0, 'b0': 1.0, 'b1': 1, 'b2': 1, 'p1': 3.5, 'd1': 0.2055021601787721}\n",
      "Name           Value      Min      Max   Stderr     Vary     Expr Brute_Step\n",
      "Ip            0.5255    0.473   0.5781     None    False     None     None\n",
      "Multiplier    0.2216    0.001     1000     None     True     None     None\n",
      "a0                 1      0.9      1.1     None    False     None     None\n",
      "a1                 1     -inf      inf     None    False     None     None\n",
      "b0                 1     -inf      inf     None    False     None     None\n",
      "b1                 1      0.9      1.1     None    False     None     None\n",
      "b2                 1      0.9      1.1     None    False     None     None\n",
      "d1            0.2055     -inf      inf     None    False 0.5/gamma     None\n",
      "e0             3.679        0       10     None     True     None     None\n",
      "gamma          2.433   0.2854    5.709     None     True     None     None\n",
      "p1               3.5      2.5      4.5     None    False     None     None\n",
      "αPol           13.08     -inf      inf     None    False     None     None\n"
     ]
    },
    {
     "data": {
      "application/vnd.plotly.v1+json": {
       "config": {
        "plotlyServerURL": "https://plot.ly"
       },
       "data": [
        {
         "line": {
          "color": "red"
         },
         "mode": "lines+markers",
         "name": "numerical dataQS",
         "type": "scatter",
         "x": [
          0.004,
          0.005,
          0.006,
          0.007,
          0.008,
          0.009,
          0.01,
          0.011,
          0.012,
          0.013,
          0.014,
          0.015,
          0.016,
          0.017,
          0.018,
          0.019,
          0.02,
          0.021,
          0.022,
          0.023,
          0.024,
          0.025,
          0.026,
          0.027,
          0.028,
          0.029,
          0.03
         ],
         "y": [
          -14.93698214,
          -10.859039,
          -8.355925044,
          -6.819744402,
          -5.842010594,
          -5.175215169,
          -4.690619148,
          -4.319239647,
          -4.022396063,
          -3.777929271,
          -3.571274212,
          -3.393526875,
          -3.237803835,
          -3.099760344,
          -2.97632188,
          -2.864704011,
          -2.762876043,
          -2.669599015,
          -2.583490181,
          -2.503722564,
          -2.42939626,
          -2.359790567,
          -2.294517722,
          -2.23305903,
          -2.174983748,
          -2.120013567,
          -2.067750153
         ]
        },
        {
         "line": {
          "color": "blue"
         },
         "mode": "lines",
         "name": "fit QS",
         "type": "scatter",
         "x": [
          0.004,
          0.005,
          0.006,
          0.007,
          0.008,
          0.009,
          0.01,
          0.011,
          0.012,
          0.013,
          0.014,
          0.015,
          0.016,
          0.017,
          0.018,
          0.019,
          0.02,
          0.021,
          0.022,
          0.023,
          0.024,
          0.025,
          0.026,
          0.027,
          0.028,
          0.029,
          0.03
         ],
         "y": [
          -14.51898422715304,
          -10.768458546542657,
          -8.504089325109913,
          -7.0315413013019645,
          -6.01848426841741,
          -5.2895109446762145,
          -4.745160077317804,
          -4.325811918451637,
          -3.994086440479313,
          -3.725651505065162,
          -3.5041521533350415,
          -3.3182842217453614,
          -3.1600399526297545,
          -3.023621168162941,
          -2.9047463783234484,
          -2.800197631834714,
          -2.707517303472764,
          -2.6248009666154575,
          -2.550553211367551,
          -2.483585532452411,
          -2.4229428546362177,
          -2.3678498837011417,
          -2.317671398033803,
          -2.271882485439345,
          -2.2300459709067084,
          -2.1917951094154824,
          -2.1568201791128203
         ]
        }
       ],
       "layout": {
        "template": {
         "data": {
          "bar": [
           {
            "error_x": {
             "color": "#2a3f5f"
            },
            "error_y": {
             "color": "#2a3f5f"
            },
            "marker": {
             "line": {
              "color": "#E5ECF6",
              "width": 0.5
             },
             "pattern": {
              "fillmode": "overlay",
              "size": 10,
              "solidity": 0.2
             }
            },
            "type": "bar"
           }
          ],
          "barpolar": [
           {
            "marker": {
             "line": {
              "color": "#E5ECF6",
              "width": 0.5
             },
             "pattern": {
              "fillmode": "overlay",
              "size": 10,
              "solidity": 0.2
             }
            },
            "type": "barpolar"
           }
          ],
          "carpet": [
           {
            "aaxis": {
             "endlinecolor": "#2a3f5f",
             "gridcolor": "white",
             "linecolor": "white",
             "minorgridcolor": "white",
             "startlinecolor": "#2a3f5f"
            },
            "baxis": {
             "endlinecolor": "#2a3f5f",
             "gridcolor": "white",
             "linecolor": "white",
             "minorgridcolor": "white",
             "startlinecolor": "#2a3f5f"
            },
            "type": "carpet"
           }
          ],
          "choropleth": [
           {
            "colorbar": {
             "outlinewidth": 0,
             "ticks": ""
            },
            "type": "choropleth"
           }
          ],
          "contour": [
           {
            "colorbar": {
             "outlinewidth": 0,
             "ticks": ""
            },
            "colorscale": [
             [
              0,
              "#0d0887"
             ],
             [
              0.1111111111111111,
              "#46039f"
             ],
             [
              0.2222222222222222,
              "#7201a8"
             ],
             [
              0.3333333333333333,
              "#9c179e"
             ],
             [
              0.4444444444444444,
              "#bd3786"
             ],
             [
              0.5555555555555556,
              "#d8576b"
             ],
             [
              0.6666666666666666,
              "#ed7953"
             ],
             [
              0.7777777777777778,
              "#fb9f3a"
             ],
             [
              0.8888888888888888,
              "#fdca26"
             ],
             [
              1,
              "#f0f921"
             ]
            ],
            "type": "contour"
           }
          ],
          "contourcarpet": [
           {
            "colorbar": {
             "outlinewidth": 0,
             "ticks": ""
            },
            "type": "contourcarpet"
           }
          ],
          "heatmap": [
           {
            "colorbar": {
             "outlinewidth": 0,
             "ticks": ""
            },
            "colorscale": [
             [
              0,
              "#0d0887"
             ],
             [
              0.1111111111111111,
              "#46039f"
             ],
             [
              0.2222222222222222,
              "#7201a8"
             ],
             [
              0.3333333333333333,
              "#9c179e"
             ],
             [
              0.4444444444444444,
              "#bd3786"
             ],
             [
              0.5555555555555556,
              "#d8576b"
             ],
             [
              0.6666666666666666,
              "#ed7953"
             ],
             [
              0.7777777777777778,
              "#fb9f3a"
             ],
             [
              0.8888888888888888,
              "#fdca26"
             ],
             [
              1,
              "#f0f921"
             ]
            ],
            "type": "heatmap"
           }
          ],
          "heatmapgl": [
           {
            "colorbar": {
             "outlinewidth": 0,
             "ticks": ""
            },
            "colorscale": [
             [
              0,
              "#0d0887"
             ],
             [
              0.1111111111111111,
              "#46039f"
             ],
             [
              0.2222222222222222,
              "#7201a8"
             ],
             [
              0.3333333333333333,
              "#9c179e"
             ],
             [
              0.4444444444444444,
              "#bd3786"
             ],
             [
              0.5555555555555556,
              "#d8576b"
             ],
             [
              0.6666666666666666,
              "#ed7953"
             ],
             [
              0.7777777777777778,
              "#fb9f3a"
             ],
             [
              0.8888888888888888,
              "#fdca26"
             ],
             [
              1,
              "#f0f921"
             ]
            ],
            "type": "heatmapgl"
           }
          ],
          "histogram": [
           {
            "marker": {
             "pattern": {
              "fillmode": "overlay",
              "size": 10,
              "solidity": 0.2
             }
            },
            "type": "histogram"
           }
          ],
          "histogram2d": [
           {
            "colorbar": {
             "outlinewidth": 0,
             "ticks": ""
            },
            "colorscale": [
             [
              0,
              "#0d0887"
             ],
             [
              0.1111111111111111,
              "#46039f"
             ],
             [
              0.2222222222222222,
              "#7201a8"
             ],
             [
              0.3333333333333333,
              "#9c179e"
             ],
             [
              0.4444444444444444,
              "#bd3786"
             ],
             [
              0.5555555555555556,
              "#d8576b"
             ],
             [
              0.6666666666666666,
              "#ed7953"
             ],
             [
              0.7777777777777778,
              "#fb9f3a"
             ],
             [
              0.8888888888888888,
              "#fdca26"
             ],
             [
              1,
              "#f0f921"
             ]
            ],
            "type": "histogram2d"
           }
          ],
          "histogram2dcontour": [
           {
            "colorbar": {
             "outlinewidth": 0,
             "ticks": ""
            },
            "colorscale": [
             [
              0,
              "#0d0887"
             ],
             [
              0.1111111111111111,
              "#46039f"
             ],
             [
              0.2222222222222222,
              "#7201a8"
             ],
             [
              0.3333333333333333,
              "#9c179e"
             ],
             [
              0.4444444444444444,
              "#bd3786"
             ],
             [
              0.5555555555555556,
              "#d8576b"
             ],
             [
              0.6666666666666666,
              "#ed7953"
             ],
             [
              0.7777777777777778,
              "#fb9f3a"
             ],
             [
              0.8888888888888888,
              "#fdca26"
             ],
             [
              1,
              "#f0f921"
             ]
            ],
            "type": "histogram2dcontour"
           }
          ],
          "mesh3d": [
           {
            "colorbar": {
             "outlinewidth": 0,
             "ticks": ""
            },
            "type": "mesh3d"
           }
          ],
          "parcoords": [
           {
            "line": {
             "colorbar": {
              "outlinewidth": 0,
              "ticks": ""
             }
            },
            "type": "parcoords"
           }
          ],
          "pie": [
           {
            "automargin": true,
            "type": "pie"
           }
          ],
          "scatter": [
           {
            "fillpattern": {
             "fillmode": "overlay",
             "size": 10,
             "solidity": 0.2
            },
            "type": "scatter"
           }
          ],
          "scatter3d": [
           {
            "line": {
             "colorbar": {
              "outlinewidth": 0,
              "ticks": ""
             }
            },
            "marker": {
             "colorbar": {
              "outlinewidth": 0,
              "ticks": ""
             }
            },
            "type": "scatter3d"
           }
          ],
          "scattercarpet": [
           {
            "marker": {
             "colorbar": {
              "outlinewidth": 0,
              "ticks": ""
             }
            },
            "type": "scattercarpet"
           }
          ],
          "scattergeo": [
           {
            "marker": {
             "colorbar": {
              "outlinewidth": 0,
              "ticks": ""
             }
            },
            "type": "scattergeo"
           }
          ],
          "scattergl": [
           {
            "marker": {
             "colorbar": {
              "outlinewidth": 0,
              "ticks": ""
             }
            },
            "type": "scattergl"
           }
          ],
          "scattermapbox": [
           {
            "marker": {
             "colorbar": {
              "outlinewidth": 0,
              "ticks": ""
             }
            },
            "type": "scattermapbox"
           }
          ],
          "scatterpolar": [
           {
            "marker": {
             "colorbar": {
              "outlinewidth": 0,
              "ticks": ""
             }
            },
            "type": "scatterpolar"
           }
          ],
          "scatterpolargl": [
           {
            "marker": {
             "colorbar": {
              "outlinewidth": 0,
              "ticks": ""
             }
            },
            "type": "scatterpolargl"
           }
          ],
          "scatterternary": [
           {
            "marker": {
             "colorbar": {
              "outlinewidth": 0,
              "ticks": ""
             }
            },
            "type": "scatterternary"
           }
          ],
          "surface": [
           {
            "colorbar": {
             "outlinewidth": 0,
             "ticks": ""
            },
            "colorscale": [
             [
              0,
              "#0d0887"
             ],
             [
              0.1111111111111111,
              "#46039f"
             ],
             [
              0.2222222222222222,
              "#7201a8"
             ],
             [
              0.3333333333333333,
              "#9c179e"
             ],
             [
              0.4444444444444444,
              "#bd3786"
             ],
             [
              0.5555555555555556,
              "#d8576b"
             ],
             [
              0.6666666666666666,
              "#ed7953"
             ],
             [
              0.7777777777777778,
              "#fb9f3a"
             ],
             [
              0.8888888888888888,
              "#fdca26"
             ],
             [
              1,
              "#f0f921"
             ]
            ],
            "type": "surface"
           }
          ],
          "table": [
           {
            "cells": {
             "fill": {
              "color": "#EBF0F8"
             },
             "line": {
              "color": "white"
             }
            },
            "header": {
             "fill": {
              "color": "#C8D4E3"
             },
             "line": {
              "color": "white"
             }
            },
            "type": "table"
           }
          ]
         },
         "layout": {
          "annotationdefaults": {
           "arrowcolor": "#2a3f5f",
           "arrowhead": 0,
           "arrowwidth": 1
          },
          "autotypenumbers": "strict",
          "coloraxis": {
           "colorbar": {
            "outlinewidth": 0,
            "ticks": ""
           }
          },
          "colorscale": {
           "diverging": [
            [
             0,
             "#8e0152"
            ],
            [
             0.1,
             "#c51b7d"
            ],
            [
             0.2,
             "#de77ae"
            ],
            [
             0.3,
             "#f1b6da"
            ],
            [
             0.4,
             "#fde0ef"
            ],
            [
             0.5,
             "#f7f7f7"
            ],
            [
             0.6,
             "#e6f5d0"
            ],
            [
             0.7,
             "#b8e186"
            ],
            [
             0.8,
             "#7fbc41"
            ],
            [
             0.9,
             "#4d9221"
            ],
            [
             1,
             "#276419"
            ]
           ],
           "sequential": [
            [
             0,
             "#0d0887"
            ],
            [
             0.1111111111111111,
             "#46039f"
            ],
            [
             0.2222222222222222,
             "#7201a8"
            ],
            [
             0.3333333333333333,
             "#9c179e"
            ],
            [
             0.4444444444444444,
             "#bd3786"
            ],
            [
             0.5555555555555556,
             "#d8576b"
            ],
            [
             0.6666666666666666,
             "#ed7953"
            ],
            [
             0.7777777777777778,
             "#fb9f3a"
            ],
            [
             0.8888888888888888,
             "#fdca26"
            ],
            [
             1,
             "#f0f921"
            ]
           ],
           "sequentialminus": [
            [
             0,
             "#0d0887"
            ],
            [
             0.1111111111111111,
             "#46039f"
            ],
            [
             0.2222222222222222,
             "#7201a8"
            ],
            [
             0.3333333333333333,
             "#9c179e"
            ],
            [
             0.4444444444444444,
             "#bd3786"
            ],
            [
             0.5555555555555556,
             "#d8576b"
            ],
            [
             0.6666666666666666,
             "#ed7953"
            ],
            [
             0.7777777777777778,
             "#fb9f3a"
            ],
            [
             0.8888888888888888,
             "#fdca26"
            ],
            [
             1,
             "#f0f921"
            ]
           ]
          },
          "colorway": [
           "#636efa",
           "#EF553B",
           "#00cc96",
           "#ab63fa",
           "#FFA15A",
           "#19d3f3",
           "#FF6692",
           "#B6E880",
           "#FF97FF",
           "#FECB52"
          ],
          "font": {
           "color": "#2a3f5f"
          },
          "geo": {
           "bgcolor": "white",
           "lakecolor": "white",
           "landcolor": "#E5ECF6",
           "showlakes": true,
           "showland": true,
           "subunitcolor": "white"
          },
          "hoverlabel": {
           "align": "left"
          },
          "hovermode": "closest",
          "mapbox": {
           "style": "light"
          },
          "paper_bgcolor": "white",
          "plot_bgcolor": "#E5ECF6",
          "polar": {
           "angularaxis": {
            "gridcolor": "white",
            "linecolor": "white",
            "ticks": ""
           },
           "bgcolor": "#E5ECF6",
           "radialaxis": {
            "gridcolor": "white",
            "linecolor": "white",
            "ticks": ""
           }
          },
          "scene": {
           "xaxis": {
            "backgroundcolor": "#E5ECF6",
            "gridcolor": "white",
            "gridwidth": 2,
            "linecolor": "white",
            "showbackground": true,
            "ticks": "",
            "zerolinecolor": "white"
           },
           "yaxis": {
            "backgroundcolor": "#E5ECF6",
            "gridcolor": "white",
            "gridwidth": 2,
            "linecolor": "white",
            "showbackground": true,
            "ticks": "",
            "zerolinecolor": "white"
           },
           "zaxis": {
            "backgroundcolor": "#E5ECF6",
            "gridcolor": "white",
            "gridwidth": 2,
            "linecolor": "white",
            "showbackground": true,
            "ticks": "",
            "zerolinecolor": "white"
           }
          },
          "shapedefaults": {
           "line": {
            "color": "#2a3f5f"
           }
          },
          "ternary": {
           "aaxis": {
            "gridcolor": "white",
            "linecolor": "white",
            "ticks": ""
           },
           "baxis": {
            "gridcolor": "white",
            "linecolor": "white",
            "ticks": ""
           },
           "bgcolor": "#E5ECF6",
           "caxis": {
            "gridcolor": "white",
            "linecolor": "white",
            "ticks": ""
           }
          },
          "title": {
           "x": 0.05
          },
          "xaxis": {
           "automargin": true,
           "gridcolor": "white",
           "linecolor": "white",
           "ticks": "",
           "title": {
            "standoff": 15
           },
           "zerolinecolor": "white",
           "zerolinewidth": 2
          },
          "yaxis": {
           "automargin": true,
           "gridcolor": "white",
           "linecolor": "white",
           "ticks": "",
           "title": {
            "standoff": 15
           },
           "zerolinecolor": "white",
           "zerolinewidth": 2
          }
         }
        },
        "title": {
         "text": "Gas=Cs"
        },
        "xaxis": {
         "title": {
          "text": "Field Strength"
         }
        },
        "yaxis": {
         "title": {
          "text": "Log(Rate)"
         }
        }
       }
      }
     },
     "metadata": {},
     "output_type": "display_data"
    },
    {
     "name": "stdout",
     "output_type": "stream",
     "text": [
      "{'Multiplier': 0.5003935100264955, 'Ip': 0.14309811329075314, 'αPol': 401, 'gamma': 20.964636996327588, 'e0': 2.260251651628675, 'a0': 1, 'a1': 1.0, 'b0': 1.0, 'b1': 1, 'b2': 1, 'p1': 3.5, 'd1': 0.023849685548458857}\n",
      "Name           Value      Min      Max   Stderr     Vary     Expr Brute_Step\n",
      "Ip            0.1431   0.1288   0.1574     None    False     None     None\n",
      "Multiplier    0.5004    0.001     1000     None     True     None     None\n",
      "a0                 1      0.9      1.1     None    False     None     None\n",
      "a1                 1     -inf      inf     None    False     None     None\n",
      "b0                 1     -inf      inf     None    False     None     None\n",
      "b1                 1      0.9      1.1     None    False     None     None\n",
      "b2                 1      0.9      1.1     None    False     None     None\n",
      "d1           0.02385     -inf      inf     None    False 0.5/gamma     None\n",
      "e0              2.26        0       10     None     True     None     None\n",
      "gamma          20.96    1.048    20.96     None     True     None     None\n",
      "p1               3.5      2.5      4.5     None    False     None     None\n",
      "αPol             401     -inf      inf     None    False     None     None\n"
     ]
    },
    {
     "data": {
      "application/vnd.plotly.v1+json": {
       "config": {
        "plotlyServerURL": "https://plot.ly"
       },
       "data": [
        {
         "line": {
          "color": "red"
         },
         "mode": "lines+markers",
         "name": "numerical dataQS",
         "type": "scatter",
         "x": [
          0.005,
          0.006,
          0.007,
          0.008,
          0.009,
          0.01,
          0.011,
          0.012,
          0.013,
          0.014,
          0.015,
          0.016,
          0.017,
          0.018,
          0.019,
          0.02,
          0.021,
          0.022,
          0.023,
          0.024,
          0.025,
          0.026,
          0.027,
          0.028,
          0.029,
          0.03
         ],
         "y": [
          -14.31886417,
          -11.01944948,
          -8.846391944,
          -7.38273125,
          -6.377127028,
          -5.6621608,
          -5.131278667,
          -4.721030072,
          -4.392481093,
          -4.122126943,
          -3.894183087,
          -3.698122035,
          -3.527441108,
          -3.37669991,
          -3.241888599,
          -3.120388878,
          -3.010034058,
          -2.909187672,
          -2.816248072,
          -2.73029581,
          -2.650441888,
          -2.575969861,
          -2.506171145,
          -2.440583591,
          -2.378710483,
          -2.320240028
         ]
        },
        {
         "line": {
          "color": "blue"
         },
         "mode": "lines",
         "name": "fit QS",
         "type": "scatter",
         "x": [
          0.005,
          0.006,
          0.007,
          0.008,
          0.009,
          0.01,
          0.011,
          0.012,
          0.013,
          0.014,
          0.015,
          0.016,
          0.017,
          0.018,
          0.019,
          0.02,
          0.021,
          0.022,
          0.023,
          0.024,
          0.025,
          0.026,
          0.027,
          0.028,
          0.029,
          0.03
         ],
         "y": [
          -13.930481794582173,
          -10.923171222269827,
          -8.936759515482992,
          -7.555679350929353,
          -6.5559591221605045,
          -5.8079682773537025,
          -5.232492156720184,
          -4.778993558673617,
          -4.41407222223003,
          -4.114987940136406,
          -3.8658575161605593,
          -3.655336274615913,
          -3.4751589029559664,
          -3.3191955686311134,
          -3.1828265041138546,
          -3.0625186841706578,
          -2.9555337655605607,
          -2.8597230727442984,
          -2.773381397779652,
          -2.695141220362535,
          -2.6238951422891073,
          -2.5587383005662367,
          -2.4989251163885116,
          -2.443836458574086,
          -2.392954460366021,
          -2.3458430214810675
         ]
        }
       ],
       "layout": {
        "template": {
         "data": {
          "bar": [
           {
            "error_x": {
             "color": "#2a3f5f"
            },
            "error_y": {
             "color": "#2a3f5f"
            },
            "marker": {
             "line": {
              "color": "#E5ECF6",
              "width": 0.5
             },
             "pattern": {
              "fillmode": "overlay",
              "size": 10,
              "solidity": 0.2
             }
            },
            "type": "bar"
           }
          ],
          "barpolar": [
           {
            "marker": {
             "line": {
              "color": "#E5ECF6",
              "width": 0.5
             },
             "pattern": {
              "fillmode": "overlay",
              "size": 10,
              "solidity": 0.2
             }
            },
            "type": "barpolar"
           }
          ],
          "carpet": [
           {
            "aaxis": {
             "endlinecolor": "#2a3f5f",
             "gridcolor": "white",
             "linecolor": "white",
             "minorgridcolor": "white",
             "startlinecolor": "#2a3f5f"
            },
            "baxis": {
             "endlinecolor": "#2a3f5f",
             "gridcolor": "white",
             "linecolor": "white",
             "minorgridcolor": "white",
             "startlinecolor": "#2a3f5f"
            },
            "type": "carpet"
           }
          ],
          "choropleth": [
           {
            "colorbar": {
             "outlinewidth": 0,
             "ticks": ""
            },
            "type": "choropleth"
           }
          ],
          "contour": [
           {
            "colorbar": {
             "outlinewidth": 0,
             "ticks": ""
            },
            "colorscale": [
             [
              0,
              "#0d0887"
             ],
             [
              0.1111111111111111,
              "#46039f"
             ],
             [
              0.2222222222222222,
              "#7201a8"
             ],
             [
              0.3333333333333333,
              "#9c179e"
             ],
             [
              0.4444444444444444,
              "#bd3786"
             ],
             [
              0.5555555555555556,
              "#d8576b"
             ],
             [
              0.6666666666666666,
              "#ed7953"
             ],
             [
              0.7777777777777778,
              "#fb9f3a"
             ],
             [
              0.8888888888888888,
              "#fdca26"
             ],
             [
              1,
              "#f0f921"
             ]
            ],
            "type": "contour"
           }
          ],
          "contourcarpet": [
           {
            "colorbar": {
             "outlinewidth": 0,
             "ticks": ""
            },
            "type": "contourcarpet"
           }
          ],
          "heatmap": [
           {
            "colorbar": {
             "outlinewidth": 0,
             "ticks": ""
            },
            "colorscale": [
             [
              0,
              "#0d0887"
             ],
             [
              0.1111111111111111,
              "#46039f"
             ],
             [
              0.2222222222222222,
              "#7201a8"
             ],
             [
              0.3333333333333333,
              "#9c179e"
             ],
             [
              0.4444444444444444,
              "#bd3786"
             ],
             [
              0.5555555555555556,
              "#d8576b"
             ],
             [
              0.6666666666666666,
              "#ed7953"
             ],
             [
              0.7777777777777778,
              "#fb9f3a"
             ],
             [
              0.8888888888888888,
              "#fdca26"
             ],
             [
              1,
              "#f0f921"
             ]
            ],
            "type": "heatmap"
           }
          ],
          "heatmapgl": [
           {
            "colorbar": {
             "outlinewidth": 0,
             "ticks": ""
            },
            "colorscale": [
             [
              0,
              "#0d0887"
             ],
             [
              0.1111111111111111,
              "#46039f"
             ],
             [
              0.2222222222222222,
              "#7201a8"
             ],
             [
              0.3333333333333333,
              "#9c179e"
             ],
             [
              0.4444444444444444,
              "#bd3786"
             ],
             [
              0.5555555555555556,
              "#d8576b"
             ],
             [
              0.6666666666666666,
              "#ed7953"
             ],
             [
              0.7777777777777778,
              "#fb9f3a"
             ],
             [
              0.8888888888888888,
              "#fdca26"
             ],
             [
              1,
              "#f0f921"
             ]
            ],
            "type": "heatmapgl"
           }
          ],
          "histogram": [
           {
            "marker": {
             "pattern": {
              "fillmode": "overlay",
              "size": 10,
              "solidity": 0.2
             }
            },
            "type": "histogram"
           }
          ],
          "histogram2d": [
           {
            "colorbar": {
             "outlinewidth": 0,
             "ticks": ""
            },
            "colorscale": [
             [
              0,
              "#0d0887"
             ],
             [
              0.1111111111111111,
              "#46039f"
             ],
             [
              0.2222222222222222,
              "#7201a8"
             ],
             [
              0.3333333333333333,
              "#9c179e"
             ],
             [
              0.4444444444444444,
              "#bd3786"
             ],
             [
              0.5555555555555556,
              "#d8576b"
             ],
             [
              0.6666666666666666,
              "#ed7953"
             ],
             [
              0.7777777777777778,
              "#fb9f3a"
             ],
             [
              0.8888888888888888,
              "#fdca26"
             ],
             [
              1,
              "#f0f921"
             ]
            ],
            "type": "histogram2d"
           }
          ],
          "histogram2dcontour": [
           {
            "colorbar": {
             "outlinewidth": 0,
             "ticks": ""
            },
            "colorscale": [
             [
              0,
              "#0d0887"
             ],
             [
              0.1111111111111111,
              "#46039f"
             ],
             [
              0.2222222222222222,
              "#7201a8"
             ],
             [
              0.3333333333333333,
              "#9c179e"
             ],
             [
              0.4444444444444444,
              "#bd3786"
             ],
             [
              0.5555555555555556,
              "#d8576b"
             ],
             [
              0.6666666666666666,
              "#ed7953"
             ],
             [
              0.7777777777777778,
              "#fb9f3a"
             ],
             [
              0.8888888888888888,
              "#fdca26"
             ],
             [
              1,
              "#f0f921"
             ]
            ],
            "type": "histogram2dcontour"
           }
          ],
          "mesh3d": [
           {
            "colorbar": {
             "outlinewidth": 0,
             "ticks": ""
            },
            "type": "mesh3d"
           }
          ],
          "parcoords": [
           {
            "line": {
             "colorbar": {
              "outlinewidth": 0,
              "ticks": ""
             }
            },
            "type": "parcoords"
           }
          ],
          "pie": [
           {
            "automargin": true,
            "type": "pie"
           }
          ],
          "scatter": [
           {
            "fillpattern": {
             "fillmode": "overlay",
             "size": 10,
             "solidity": 0.2
            },
            "type": "scatter"
           }
          ],
          "scatter3d": [
           {
            "line": {
             "colorbar": {
              "outlinewidth": 0,
              "ticks": ""
             }
            },
            "marker": {
             "colorbar": {
              "outlinewidth": 0,
              "ticks": ""
             }
            },
            "type": "scatter3d"
           }
          ],
          "scattercarpet": [
           {
            "marker": {
             "colorbar": {
              "outlinewidth": 0,
              "ticks": ""
             }
            },
            "type": "scattercarpet"
           }
          ],
          "scattergeo": [
           {
            "marker": {
             "colorbar": {
              "outlinewidth": 0,
              "ticks": ""
             }
            },
            "type": "scattergeo"
           }
          ],
          "scattergl": [
           {
            "marker": {
             "colorbar": {
              "outlinewidth": 0,
              "ticks": ""
             }
            },
            "type": "scattergl"
           }
          ],
          "scattermapbox": [
           {
            "marker": {
             "colorbar": {
              "outlinewidth": 0,
              "ticks": ""
             }
            },
            "type": "scattermapbox"
           }
          ],
          "scatterpolar": [
           {
            "marker": {
             "colorbar": {
              "outlinewidth": 0,
              "ticks": ""
             }
            },
            "type": "scatterpolar"
           }
          ],
          "scatterpolargl": [
           {
            "marker": {
             "colorbar": {
              "outlinewidth": 0,
              "ticks": ""
             }
            },
            "type": "scatterpolargl"
           }
          ],
          "scatterternary": [
           {
            "marker": {
             "colorbar": {
              "outlinewidth": 0,
              "ticks": ""
             }
            },
            "type": "scatterternary"
           }
          ],
          "surface": [
           {
            "colorbar": {
             "outlinewidth": 0,
             "ticks": ""
            },
            "colorscale": [
             [
              0,
              "#0d0887"
             ],
             [
              0.1111111111111111,
              "#46039f"
             ],
             [
              0.2222222222222222,
              "#7201a8"
             ],
             [
              0.3333333333333333,
              "#9c179e"
             ],
             [
              0.4444444444444444,
              "#bd3786"
             ],
             [
              0.5555555555555556,
              "#d8576b"
             ],
             [
              0.6666666666666666,
              "#ed7953"
             ],
             [
              0.7777777777777778,
              "#fb9f3a"
             ],
             [
              0.8888888888888888,
              "#fdca26"
             ],
             [
              1,
              "#f0f921"
             ]
            ],
            "type": "surface"
           }
          ],
          "table": [
           {
            "cells": {
             "fill": {
              "color": "#EBF0F8"
             },
             "line": {
              "color": "white"
             }
            },
            "header": {
             "fill": {
              "color": "#C8D4E3"
             },
             "line": {
              "color": "white"
             }
            },
            "type": "table"
           }
          ]
         },
         "layout": {
          "annotationdefaults": {
           "arrowcolor": "#2a3f5f",
           "arrowhead": 0,
           "arrowwidth": 1
          },
          "autotypenumbers": "strict",
          "coloraxis": {
           "colorbar": {
            "outlinewidth": 0,
            "ticks": ""
           }
          },
          "colorscale": {
           "diverging": [
            [
             0,
             "#8e0152"
            ],
            [
             0.1,
             "#c51b7d"
            ],
            [
             0.2,
             "#de77ae"
            ],
            [
             0.3,
             "#f1b6da"
            ],
            [
             0.4,
             "#fde0ef"
            ],
            [
             0.5,
             "#f7f7f7"
            ],
            [
             0.6,
             "#e6f5d0"
            ],
            [
             0.7,
             "#b8e186"
            ],
            [
             0.8,
             "#7fbc41"
            ],
            [
             0.9,
             "#4d9221"
            ],
            [
             1,
             "#276419"
            ]
           ],
           "sequential": [
            [
             0,
             "#0d0887"
            ],
            [
             0.1111111111111111,
             "#46039f"
            ],
            [
             0.2222222222222222,
             "#7201a8"
            ],
            [
             0.3333333333333333,
             "#9c179e"
            ],
            [
             0.4444444444444444,
             "#bd3786"
            ],
            [
             0.5555555555555556,
             "#d8576b"
            ],
            [
             0.6666666666666666,
             "#ed7953"
            ],
            [
             0.7777777777777778,
             "#fb9f3a"
            ],
            [
             0.8888888888888888,
             "#fdca26"
            ],
            [
             1,
             "#f0f921"
            ]
           ],
           "sequentialminus": [
            [
             0,
             "#0d0887"
            ],
            [
             0.1111111111111111,
             "#46039f"
            ],
            [
             0.2222222222222222,
             "#7201a8"
            ],
            [
             0.3333333333333333,
             "#9c179e"
            ],
            [
             0.4444444444444444,
             "#bd3786"
            ],
            [
             0.5555555555555556,
             "#d8576b"
            ],
            [
             0.6666666666666666,
             "#ed7953"
            ],
            [
             0.7777777777777778,
             "#fb9f3a"
            ],
            [
             0.8888888888888888,
             "#fdca26"
            ],
            [
             1,
             "#f0f921"
            ]
           ]
          },
          "colorway": [
           "#636efa",
           "#EF553B",
           "#00cc96",
           "#ab63fa",
           "#FFA15A",
           "#19d3f3",
           "#FF6692",
           "#B6E880",
           "#FF97FF",
           "#FECB52"
          ],
          "font": {
           "color": "#2a3f5f"
          },
          "geo": {
           "bgcolor": "white",
           "lakecolor": "white",
           "landcolor": "#E5ECF6",
           "showlakes": true,
           "showland": true,
           "subunitcolor": "white"
          },
          "hoverlabel": {
           "align": "left"
          },
          "hovermode": "closest",
          "mapbox": {
           "style": "light"
          },
          "paper_bgcolor": "white",
          "plot_bgcolor": "#E5ECF6",
          "polar": {
           "angularaxis": {
            "gridcolor": "white",
            "linecolor": "white",
            "ticks": ""
           },
           "bgcolor": "#E5ECF6",
           "radialaxis": {
            "gridcolor": "white",
            "linecolor": "white",
            "ticks": ""
           }
          },
          "scene": {
           "xaxis": {
            "backgroundcolor": "#E5ECF6",
            "gridcolor": "white",
            "gridwidth": 2,
            "linecolor": "white",
            "showbackground": true,
            "ticks": "",
            "zerolinecolor": "white"
           },
           "yaxis": {
            "backgroundcolor": "#E5ECF6",
            "gridcolor": "white",
            "gridwidth": 2,
            "linecolor": "white",
            "showbackground": true,
            "ticks": "",
            "zerolinecolor": "white"
           },
           "zaxis": {
            "backgroundcolor": "#E5ECF6",
            "gridcolor": "white",
            "gridwidth": 2,
            "linecolor": "white",
            "showbackground": true,
            "ticks": "",
            "zerolinecolor": "white"
           }
          },
          "shapedefaults": {
           "line": {
            "color": "#2a3f5f"
           }
          },
          "ternary": {
           "aaxis": {
            "gridcolor": "white",
            "linecolor": "white",
            "ticks": ""
           },
           "baxis": {
            "gridcolor": "white",
            "linecolor": "white",
            "ticks": ""
           },
           "bgcolor": "#E5ECF6",
           "caxis": {
            "gridcolor": "white",
            "linecolor": "white",
            "ticks": ""
           }
          },
          "title": {
           "x": 0.05
          },
          "xaxis": {
           "automargin": true,
           "gridcolor": "white",
           "linecolor": "white",
           "ticks": "",
           "title": {
            "standoff": 15
           },
           "zerolinecolor": "white",
           "zerolinewidth": 2
          },
          "yaxis": {
           "automargin": true,
           "gridcolor": "white",
           "linecolor": "white",
           "ticks": "",
           "title": {
            "standoff": 15
           },
           "zerolinecolor": "white",
           "zerolinewidth": 2
          }
         }
        },
        "title": {
         "text": "Gas=K"
        },
        "xaxis": {
         "title": {
          "text": "Field Strength"
         }
        },
        "yaxis": {
         "title": {
          "text": "Log(Rate)"
         }
        }
       }
      }
     },
     "metadata": {},
     "output_type": "display_data"
    },
    {
     "name": "stdout",
     "output_type": "stream",
     "text": [
      "{'Multiplier': 0.41031319598945015, 'Ip': 0.15951770213954444, 'αPol': 290, 'gamma': 18.806690165180733, 'e0': 2.0885269425313933, 'a0': 1, 'a1': 1.0, 'b0': 1.0, 'b1': 1, 'b2': 1, 'p1': 3.5, 'd1': 0.026586283689924075}\n",
      "Name           Value      Min      Max   Stderr     Vary     Expr Brute_Step\n",
      "Ip            0.1595   0.1436   0.1755     None    False     None     None\n",
      "Multiplier    0.4103    0.001     1000     None     True     None     None\n",
      "a0                 1      0.9      1.1     None    False     None     None\n",
      "a1                 1     -inf      inf     None    False     None     None\n",
      "b0                 1     -inf      inf     None    False     None     None\n",
      "b1                 1      0.9      1.1     None    False     None     None\n",
      "b2                 1      0.9      1.1     None    False     None     None\n",
      "d1           0.02659     -inf      inf     None    False 0.5/gamma     None\n",
      "e0             2.089        0       10     None     True     None     None\n",
      "gamma          18.81   0.9403    18.81     None     True     None     None\n",
      "p1               3.5      2.5      4.5     None    False     None     None\n",
      "αPol             290     -inf      inf     None    False     None     None\n"
     ]
    },
    {
     "data": {
      "application/vnd.plotly.v1+json": {
       "config": {
        "plotlyServerURL": "https://plot.ly"
       },
       "data": [
        {
         "line": {
          "color": "red"
         },
         "mode": "lines+markers",
         "name": "numerical dataQS",
         "type": "scatter",
         "x": [
          0.004,
          0.005,
          0.006,
          0.007,
          0.008,
          0.009,
          0.01,
          0.011,
          0.012,
          0.013,
          0.014,
          0.015,
          0.016,
          0.017,
          0.018,
          0.019,
          0.02,
          0.021,
          0.022,
          0.023,
          0.024,
          0.025,
          0.026,
          0.027,
          0.028,
          0.029,
          0.03
         ],
         "y": [
          -16.5689243,
          -12.17943071,
          -9.355713025,
          -7.563606675,
          -6.399733583,
          -5.610565393,
          -5.044916228,
          -4.617850239,
          -4.281638461,
          -4.00743319,
          -3.777929271,
          -3.582359611,
          -3.412157222,
          -3.262566513,
          -3.129035121,
          -3.009020168,
          -2.900058523,
          -2.800494491,
          -2.709050701,
          -2.624306658,
          -2.545803809,
          -2.472424872,
          -2.403732275,
          -2.339145348,
          -2.2782828,
          -2.220728647,
          -2.16613297
         ]
        },
        {
         "line": {
          "color": "blue"
         },
         "mode": "lines",
         "name": "fit QS",
         "type": "scatter",
         "x": [
          0.004,
          0.005,
          0.006,
          0.007,
          0.008,
          0.009,
          0.01,
          0.011,
          0.012,
          0.013,
          0.014,
          0.015,
          0.016,
          0.017,
          0.018,
          0.019,
          0.02,
          0.021,
          0.022,
          0.023,
          0.024,
          0.025,
          0.026,
          0.027,
          0.028,
          0.029,
          0.03
         ],
         "y": [
          -16.181967017789454,
          -11.98459896880865,
          -9.428845660352973,
          -7.756818318117462,
          -6.602343565926382,
          -5.770303555081266,
          -5.14905071553504,
          -4.671105101407023,
          -4.293852867925936,
          -3.9893875625972033,
          -3.7388611270591228,
          -3.529198263317772,
          -3.3511121567159865,
          -3.197866972508137,
          -3.0644841978984223,
          -2.9472209219719336,
          -2.843219232995067,
          -2.7502658764317345,
          -2.6666244911479753,
          -2.5909165520192032,
          -2.522035581030732,
          -2.4590844538269025,
          -2.401328981546873,
          -2.3481631223054875,
          -2.2990826109866678,
          -2.2536647569346044,
          -2.211552811985447
         ]
        }
       ],
       "layout": {
        "template": {
         "data": {
          "bar": [
           {
            "error_x": {
             "color": "#2a3f5f"
            },
            "error_y": {
             "color": "#2a3f5f"
            },
            "marker": {
             "line": {
              "color": "#E5ECF6",
              "width": 0.5
             },
             "pattern": {
              "fillmode": "overlay",
              "size": 10,
              "solidity": 0.2
             }
            },
            "type": "bar"
           }
          ],
          "barpolar": [
           {
            "marker": {
             "line": {
              "color": "#E5ECF6",
              "width": 0.5
             },
             "pattern": {
              "fillmode": "overlay",
              "size": 10,
              "solidity": 0.2
             }
            },
            "type": "barpolar"
           }
          ],
          "carpet": [
           {
            "aaxis": {
             "endlinecolor": "#2a3f5f",
             "gridcolor": "white",
             "linecolor": "white",
             "minorgridcolor": "white",
             "startlinecolor": "#2a3f5f"
            },
            "baxis": {
             "endlinecolor": "#2a3f5f",
             "gridcolor": "white",
             "linecolor": "white",
             "minorgridcolor": "white",
             "startlinecolor": "#2a3f5f"
            },
            "type": "carpet"
           }
          ],
          "choropleth": [
           {
            "colorbar": {
             "outlinewidth": 0,
             "ticks": ""
            },
            "type": "choropleth"
           }
          ],
          "contour": [
           {
            "colorbar": {
             "outlinewidth": 0,
             "ticks": ""
            },
            "colorscale": [
             [
              0,
              "#0d0887"
             ],
             [
              0.1111111111111111,
              "#46039f"
             ],
             [
              0.2222222222222222,
              "#7201a8"
             ],
             [
              0.3333333333333333,
              "#9c179e"
             ],
             [
              0.4444444444444444,
              "#bd3786"
             ],
             [
              0.5555555555555556,
              "#d8576b"
             ],
             [
              0.6666666666666666,
              "#ed7953"
             ],
             [
              0.7777777777777778,
              "#fb9f3a"
             ],
             [
              0.8888888888888888,
              "#fdca26"
             ],
             [
              1,
              "#f0f921"
             ]
            ],
            "type": "contour"
           }
          ],
          "contourcarpet": [
           {
            "colorbar": {
             "outlinewidth": 0,
             "ticks": ""
            },
            "type": "contourcarpet"
           }
          ],
          "heatmap": [
           {
            "colorbar": {
             "outlinewidth": 0,
             "ticks": ""
            },
            "colorscale": [
             [
              0,
              "#0d0887"
             ],
             [
              0.1111111111111111,
              "#46039f"
             ],
             [
              0.2222222222222222,
              "#7201a8"
             ],
             [
              0.3333333333333333,
              "#9c179e"
             ],
             [
              0.4444444444444444,
              "#bd3786"
             ],
             [
              0.5555555555555556,
              "#d8576b"
             ],
             [
              0.6666666666666666,
              "#ed7953"
             ],
             [
              0.7777777777777778,
              "#fb9f3a"
             ],
             [
              0.8888888888888888,
              "#fdca26"
             ],
             [
              1,
              "#f0f921"
             ]
            ],
            "type": "heatmap"
           }
          ],
          "heatmapgl": [
           {
            "colorbar": {
             "outlinewidth": 0,
             "ticks": ""
            },
            "colorscale": [
             [
              0,
              "#0d0887"
             ],
             [
              0.1111111111111111,
              "#46039f"
             ],
             [
              0.2222222222222222,
              "#7201a8"
             ],
             [
              0.3333333333333333,
              "#9c179e"
             ],
             [
              0.4444444444444444,
              "#bd3786"
             ],
             [
              0.5555555555555556,
              "#d8576b"
             ],
             [
              0.6666666666666666,
              "#ed7953"
             ],
             [
              0.7777777777777778,
              "#fb9f3a"
             ],
             [
              0.8888888888888888,
              "#fdca26"
             ],
             [
              1,
              "#f0f921"
             ]
            ],
            "type": "heatmapgl"
           }
          ],
          "histogram": [
           {
            "marker": {
             "pattern": {
              "fillmode": "overlay",
              "size": 10,
              "solidity": 0.2
             }
            },
            "type": "histogram"
           }
          ],
          "histogram2d": [
           {
            "colorbar": {
             "outlinewidth": 0,
             "ticks": ""
            },
            "colorscale": [
             [
              0,
              "#0d0887"
             ],
             [
              0.1111111111111111,
              "#46039f"
             ],
             [
              0.2222222222222222,
              "#7201a8"
             ],
             [
              0.3333333333333333,
              "#9c179e"
             ],
             [
              0.4444444444444444,
              "#bd3786"
             ],
             [
              0.5555555555555556,
              "#d8576b"
             ],
             [
              0.6666666666666666,
              "#ed7953"
             ],
             [
              0.7777777777777778,
              "#fb9f3a"
             ],
             [
              0.8888888888888888,
              "#fdca26"
             ],
             [
              1,
              "#f0f921"
             ]
            ],
            "type": "histogram2d"
           }
          ],
          "histogram2dcontour": [
           {
            "colorbar": {
             "outlinewidth": 0,
             "ticks": ""
            },
            "colorscale": [
             [
              0,
              "#0d0887"
             ],
             [
              0.1111111111111111,
              "#46039f"
             ],
             [
              0.2222222222222222,
              "#7201a8"
             ],
             [
              0.3333333333333333,
              "#9c179e"
             ],
             [
              0.4444444444444444,
              "#bd3786"
             ],
             [
              0.5555555555555556,
              "#d8576b"
             ],
             [
              0.6666666666666666,
              "#ed7953"
             ],
             [
              0.7777777777777778,
              "#fb9f3a"
             ],
             [
              0.8888888888888888,
              "#fdca26"
             ],
             [
              1,
              "#f0f921"
             ]
            ],
            "type": "histogram2dcontour"
           }
          ],
          "mesh3d": [
           {
            "colorbar": {
             "outlinewidth": 0,
             "ticks": ""
            },
            "type": "mesh3d"
           }
          ],
          "parcoords": [
           {
            "line": {
             "colorbar": {
              "outlinewidth": 0,
              "ticks": ""
             }
            },
            "type": "parcoords"
           }
          ],
          "pie": [
           {
            "automargin": true,
            "type": "pie"
           }
          ],
          "scatter": [
           {
            "fillpattern": {
             "fillmode": "overlay",
             "size": 10,
             "solidity": 0.2
            },
            "type": "scatter"
           }
          ],
          "scatter3d": [
           {
            "line": {
             "colorbar": {
              "outlinewidth": 0,
              "ticks": ""
             }
            },
            "marker": {
             "colorbar": {
              "outlinewidth": 0,
              "ticks": ""
             }
            },
            "type": "scatter3d"
           }
          ],
          "scattercarpet": [
           {
            "marker": {
             "colorbar": {
              "outlinewidth": 0,
              "ticks": ""
             }
            },
            "type": "scattercarpet"
           }
          ],
          "scattergeo": [
           {
            "marker": {
             "colorbar": {
              "outlinewidth": 0,
              "ticks": ""
             }
            },
            "type": "scattergeo"
           }
          ],
          "scattergl": [
           {
            "marker": {
             "colorbar": {
              "outlinewidth": 0,
              "ticks": ""
             }
            },
            "type": "scattergl"
           }
          ],
          "scattermapbox": [
           {
            "marker": {
             "colorbar": {
              "outlinewidth": 0,
              "ticks": ""
             }
            },
            "type": "scattermapbox"
           }
          ],
          "scatterpolar": [
           {
            "marker": {
             "colorbar": {
              "outlinewidth": 0,
              "ticks": ""
             }
            },
            "type": "scatterpolar"
           }
          ],
          "scatterpolargl": [
           {
            "marker": {
             "colorbar": {
              "outlinewidth": 0,
              "ticks": ""
             }
            },
            "type": "scatterpolargl"
           }
          ],
          "scatterternary": [
           {
            "marker": {
             "colorbar": {
              "outlinewidth": 0,
              "ticks": ""
             }
            },
            "type": "scatterternary"
           }
          ],
          "surface": [
           {
            "colorbar": {
             "outlinewidth": 0,
             "ticks": ""
            },
            "colorscale": [
             [
              0,
              "#0d0887"
             ],
             [
              0.1111111111111111,
              "#46039f"
             ],
             [
              0.2222222222222222,
              "#7201a8"
             ],
             [
              0.3333333333333333,
              "#9c179e"
             ],
             [
              0.4444444444444444,
              "#bd3786"
             ],
             [
              0.5555555555555556,
              "#d8576b"
             ],
             [
              0.6666666666666666,
              "#ed7953"
             ],
             [
              0.7777777777777778,
              "#fb9f3a"
             ],
             [
              0.8888888888888888,
              "#fdca26"
             ],
             [
              1,
              "#f0f921"
             ]
            ],
            "type": "surface"
           }
          ],
          "table": [
           {
            "cells": {
             "fill": {
              "color": "#EBF0F8"
             },
             "line": {
              "color": "white"
             }
            },
            "header": {
             "fill": {
              "color": "#C8D4E3"
             },
             "line": {
              "color": "white"
             }
            },
            "type": "table"
           }
          ]
         },
         "layout": {
          "annotationdefaults": {
           "arrowcolor": "#2a3f5f",
           "arrowhead": 0,
           "arrowwidth": 1
          },
          "autotypenumbers": "strict",
          "coloraxis": {
           "colorbar": {
            "outlinewidth": 0,
            "ticks": ""
           }
          },
          "colorscale": {
           "diverging": [
            [
             0,
             "#8e0152"
            ],
            [
             0.1,
             "#c51b7d"
            ],
            [
             0.2,
             "#de77ae"
            ],
            [
             0.3,
             "#f1b6da"
            ],
            [
             0.4,
             "#fde0ef"
            ],
            [
             0.5,
             "#f7f7f7"
            ],
            [
             0.6,
             "#e6f5d0"
            ],
            [
             0.7,
             "#b8e186"
            ],
            [
             0.8,
             "#7fbc41"
            ],
            [
             0.9,
             "#4d9221"
            ],
            [
             1,
             "#276419"
            ]
           ],
           "sequential": [
            [
             0,
             "#0d0887"
            ],
            [
             0.1111111111111111,
             "#46039f"
            ],
            [
             0.2222222222222222,
             "#7201a8"
            ],
            [
             0.3333333333333333,
             "#9c179e"
            ],
            [
             0.4444444444444444,
             "#bd3786"
            ],
            [
             0.5555555555555556,
             "#d8576b"
            ],
            [
             0.6666666666666666,
             "#ed7953"
            ],
            [
             0.7777777777777778,
             "#fb9f3a"
            ],
            [
             0.8888888888888888,
             "#fdca26"
            ],
            [
             1,
             "#f0f921"
            ]
           ],
           "sequentialminus": [
            [
             0,
             "#0d0887"
            ],
            [
             0.1111111111111111,
             "#46039f"
            ],
            [
             0.2222222222222222,
             "#7201a8"
            ],
            [
             0.3333333333333333,
             "#9c179e"
            ],
            [
             0.4444444444444444,
             "#bd3786"
            ],
            [
             0.5555555555555556,
             "#d8576b"
            ],
            [
             0.6666666666666666,
             "#ed7953"
            ],
            [
             0.7777777777777778,
             "#fb9f3a"
            ],
            [
             0.8888888888888888,
             "#fdca26"
            ],
            [
             1,
             "#f0f921"
            ]
           ]
          },
          "colorway": [
           "#636efa",
           "#EF553B",
           "#00cc96",
           "#ab63fa",
           "#FFA15A",
           "#19d3f3",
           "#FF6692",
           "#B6E880",
           "#FF97FF",
           "#FECB52"
          ],
          "font": {
           "color": "#2a3f5f"
          },
          "geo": {
           "bgcolor": "white",
           "lakecolor": "white",
           "landcolor": "#E5ECF6",
           "showlakes": true,
           "showland": true,
           "subunitcolor": "white"
          },
          "hoverlabel": {
           "align": "left"
          },
          "hovermode": "closest",
          "mapbox": {
           "style": "light"
          },
          "paper_bgcolor": "white",
          "plot_bgcolor": "#E5ECF6",
          "polar": {
           "angularaxis": {
            "gridcolor": "white",
            "linecolor": "white",
            "ticks": ""
           },
           "bgcolor": "#E5ECF6",
           "radialaxis": {
            "gridcolor": "white",
            "linecolor": "white",
            "ticks": ""
           }
          },
          "scene": {
           "xaxis": {
            "backgroundcolor": "#E5ECF6",
            "gridcolor": "white",
            "gridwidth": 2,
            "linecolor": "white",
            "showbackground": true,
            "ticks": "",
            "zerolinecolor": "white"
           },
           "yaxis": {
            "backgroundcolor": "#E5ECF6",
            "gridcolor": "white",
            "gridwidth": 2,
            "linecolor": "white",
            "showbackground": true,
            "ticks": "",
            "zerolinecolor": "white"
           },
           "zaxis": {
            "backgroundcolor": "#E5ECF6",
            "gridcolor": "white",
            "gridwidth": 2,
            "linecolor": "white",
            "showbackground": true,
            "ticks": "",
            "zerolinecolor": "white"
           }
          },
          "shapedefaults": {
           "line": {
            "color": "#2a3f5f"
           }
          },
          "ternary": {
           "aaxis": {
            "gridcolor": "white",
            "linecolor": "white",
            "ticks": ""
           },
           "baxis": {
            "gridcolor": "white",
            "linecolor": "white",
            "ticks": ""
           },
           "bgcolor": "#E5ECF6",
           "caxis": {
            "gridcolor": "white",
            "linecolor": "white",
            "ticks": ""
           }
          },
          "title": {
           "x": 0.05
          },
          "xaxis": {
           "automargin": true,
           "gridcolor": "white",
           "linecolor": "white",
           "ticks": "",
           "title": {
            "standoff": 15
           },
           "zerolinecolor": "white",
           "zerolinewidth": 2
          },
          "yaxis": {
           "automargin": true,
           "gridcolor": "white",
           "linecolor": "white",
           "ticks": "",
           "title": {
            "standoff": 15
           },
           "zerolinecolor": "white",
           "zerolinewidth": 2
          }
         }
        },
        "title": {
         "text": "Gas=Fr"
        },
        "xaxis": {
         "title": {
          "text": "Field Strength"
         }
        },
        "yaxis": {
         "title": {
          "text": "Log(Rate)"
         }
        }
       }
      }
     },
     "metadata": {},
     "output_type": "display_data"
    },
    {
     "name": "stdout",
     "output_type": "stream",
     "text": [
      "{'Multiplier': 0.43652876279009273, 'Ip': 0.14966888877455772, 'αPol': 318, 'gamma': 20.044245832003337, 'e0': 2.187644470705131, 'a0': 1, 'a1': 1.0, 'b0': 1.0, 'b1': 1, 'b2': 1, 'p1': 3.5, 'd1': 0.024944814795759624}\n",
      "Name           Value      Min      Max   Stderr     Vary     Expr Brute_Step\n",
      "Ip            0.1497   0.1347   0.1646     None    False     None     None\n",
      "Multiplier    0.4365    0.001     1000     None     True     None     None\n",
      "a0                 1      0.9      1.1     None    False     None     None\n",
      "a1                 1     -inf      inf     None    False     None     None\n",
      "b0                 1     -inf      inf     None    False     None     None\n",
      "b1                 1      0.9      1.1     None    False     None     None\n",
      "b2                 1      0.9      1.1     None    False     None     None\n",
      "d1           0.02494     -inf      inf     None    False 0.5/gamma     None\n",
      "e0             2.188        0       10     None     True     None     None\n",
      "gamma          20.04    1.002    20.04     None     True     None     None\n",
      "p1               3.5      2.5      4.5     None    False     None     None\n",
      "αPol             318     -inf      inf     None    False     None     None\n"
     ]
    },
    {
     "data": {
      "application/vnd.plotly.v1+json": {
       "config": {
        "plotlyServerURL": "https://plot.ly"
       },
       "data": [
        {
         "line": {
          "color": "red"
         },
         "mode": "lines+markers",
         "name": "numerical dataQS",
         "type": "scatter",
         "x": [
          0.004,
          0.005,
          0.006,
          0.007,
          0.008,
          0.009,
          0.01,
          0.011,
          0.012,
          0.013,
          0.014,
          0.015,
          0.016,
          0.017,
          0.018,
          0.019,
          0.02,
          0.021,
          0.022,
          0.023,
          0.024,
          0.025,
          0.026,
          0.027,
          0.028,
          0.029,
          0.03
         ],
         "y": [
          -17.84406738,
          -12.99397016,
          -9.978642226,
          -8.03230095,
          -6.752462395,
          -5.882430786,
          -5.261985437,
          -4.797299684,
          -4.43374107,
          -4.140179099,
          -3.895657651,
          -3.687680174,
          -3.508225954,
          -3.350409215,
          -3.210411746,
          -3.084563487,
          -2.970844558,
          -2.866987318,
          -2.771789042,
          -2.683991936,
          -2.602339747,
          -2.526478926,
          -2.455386683,
          -2.388687792,
          -2.32585372,
          -2.266446046,
          -2.210279422
         ]
        },
        {
         "line": {
          "color": "blue"
         },
         "mode": "lines",
         "name": "fit QS",
         "type": "scatter",
         "x": [
          0.004,
          0.005,
          0.006,
          0.007,
          0.008,
          0.009,
          0.01,
          0.011,
          0.012,
          0.013,
          0.014,
          0.015,
          0.016,
          0.017,
          0.018,
          0.019,
          0.02,
          0.021,
          0.022,
          0.023,
          0.024,
          0.025,
          0.026,
          0.027,
          0.028,
          0.029,
          0.03
         ],
         "y": [
          -17.291971773047777,
          -12.799617514561577,
          -10.046856896399765,
          -8.237081959667886,
          -6.983155231700444,
          -6.077528264072053,
          -5.400725551247996,
          -4.880124805569207,
          -4.469626302955408,
          -4.138901756271448,
          -3.8673862092854554,
          -3.640766056643799,
          -3.4488477135891373,
          -3.284222229496988,
          -3.141405155339588,
          -3.016268899004888,
          -2.905659914316335,
          -2.8071354634288403,
          -2.7187793754198686,
          -2.6390709940542356,
          -2.5667905636017925,
          -2.5009499766102348,
          -2.4407414348596568,
          -2.3854989354656295,
          -2.334669056109767,
          -2.2877885628751424,
          -2.2444670793861015
         ]
        }
       ],
       "layout": {
        "template": {
         "data": {
          "bar": [
           {
            "error_x": {
             "color": "#2a3f5f"
            },
            "error_y": {
             "color": "#2a3f5f"
            },
            "marker": {
             "line": {
              "color": "#E5ECF6",
              "width": 0.5
             },
             "pattern": {
              "fillmode": "overlay",
              "size": 10,
              "solidity": 0.2
             }
            },
            "type": "bar"
           }
          ],
          "barpolar": [
           {
            "marker": {
             "line": {
              "color": "#E5ECF6",
              "width": 0.5
             },
             "pattern": {
              "fillmode": "overlay",
              "size": 10,
              "solidity": 0.2
             }
            },
            "type": "barpolar"
           }
          ],
          "carpet": [
           {
            "aaxis": {
             "endlinecolor": "#2a3f5f",
             "gridcolor": "white",
             "linecolor": "white",
             "minorgridcolor": "white",
             "startlinecolor": "#2a3f5f"
            },
            "baxis": {
             "endlinecolor": "#2a3f5f",
             "gridcolor": "white",
             "linecolor": "white",
             "minorgridcolor": "white",
             "startlinecolor": "#2a3f5f"
            },
            "type": "carpet"
           }
          ],
          "choropleth": [
           {
            "colorbar": {
             "outlinewidth": 0,
             "ticks": ""
            },
            "type": "choropleth"
           }
          ],
          "contour": [
           {
            "colorbar": {
             "outlinewidth": 0,
             "ticks": ""
            },
            "colorscale": [
             [
              0,
              "#0d0887"
             ],
             [
              0.1111111111111111,
              "#46039f"
             ],
             [
              0.2222222222222222,
              "#7201a8"
             ],
             [
              0.3333333333333333,
              "#9c179e"
             ],
             [
              0.4444444444444444,
              "#bd3786"
             ],
             [
              0.5555555555555556,
              "#d8576b"
             ],
             [
              0.6666666666666666,
              "#ed7953"
             ],
             [
              0.7777777777777778,
              "#fb9f3a"
             ],
             [
              0.8888888888888888,
              "#fdca26"
             ],
             [
              1,
              "#f0f921"
             ]
            ],
            "type": "contour"
           }
          ],
          "contourcarpet": [
           {
            "colorbar": {
             "outlinewidth": 0,
             "ticks": ""
            },
            "type": "contourcarpet"
           }
          ],
          "heatmap": [
           {
            "colorbar": {
             "outlinewidth": 0,
             "ticks": ""
            },
            "colorscale": [
             [
              0,
              "#0d0887"
             ],
             [
              0.1111111111111111,
              "#46039f"
             ],
             [
              0.2222222222222222,
              "#7201a8"
             ],
             [
              0.3333333333333333,
              "#9c179e"
             ],
             [
              0.4444444444444444,
              "#bd3786"
             ],
             [
              0.5555555555555556,
              "#d8576b"
             ],
             [
              0.6666666666666666,
              "#ed7953"
             ],
             [
              0.7777777777777778,
              "#fb9f3a"
             ],
             [
              0.8888888888888888,
              "#fdca26"
             ],
             [
              1,
              "#f0f921"
             ]
            ],
            "type": "heatmap"
           }
          ],
          "heatmapgl": [
           {
            "colorbar": {
             "outlinewidth": 0,
             "ticks": ""
            },
            "colorscale": [
             [
              0,
              "#0d0887"
             ],
             [
              0.1111111111111111,
              "#46039f"
             ],
             [
              0.2222222222222222,
              "#7201a8"
             ],
             [
              0.3333333333333333,
              "#9c179e"
             ],
             [
              0.4444444444444444,
              "#bd3786"
             ],
             [
              0.5555555555555556,
              "#d8576b"
             ],
             [
              0.6666666666666666,
              "#ed7953"
             ],
             [
              0.7777777777777778,
              "#fb9f3a"
             ],
             [
              0.8888888888888888,
              "#fdca26"
             ],
             [
              1,
              "#f0f921"
             ]
            ],
            "type": "heatmapgl"
           }
          ],
          "histogram": [
           {
            "marker": {
             "pattern": {
              "fillmode": "overlay",
              "size": 10,
              "solidity": 0.2
             }
            },
            "type": "histogram"
           }
          ],
          "histogram2d": [
           {
            "colorbar": {
             "outlinewidth": 0,
             "ticks": ""
            },
            "colorscale": [
             [
              0,
              "#0d0887"
             ],
             [
              0.1111111111111111,
              "#46039f"
             ],
             [
              0.2222222222222222,
              "#7201a8"
             ],
             [
              0.3333333333333333,
              "#9c179e"
             ],
             [
              0.4444444444444444,
              "#bd3786"
             ],
             [
              0.5555555555555556,
              "#d8576b"
             ],
             [
              0.6666666666666666,
              "#ed7953"
             ],
             [
              0.7777777777777778,
              "#fb9f3a"
             ],
             [
              0.8888888888888888,
              "#fdca26"
             ],
             [
              1,
              "#f0f921"
             ]
            ],
            "type": "histogram2d"
           }
          ],
          "histogram2dcontour": [
           {
            "colorbar": {
             "outlinewidth": 0,
             "ticks": ""
            },
            "colorscale": [
             [
              0,
              "#0d0887"
             ],
             [
              0.1111111111111111,
              "#46039f"
             ],
             [
              0.2222222222222222,
              "#7201a8"
             ],
             [
              0.3333333333333333,
              "#9c179e"
             ],
             [
              0.4444444444444444,
              "#bd3786"
             ],
             [
              0.5555555555555556,
              "#d8576b"
             ],
             [
              0.6666666666666666,
              "#ed7953"
             ],
             [
              0.7777777777777778,
              "#fb9f3a"
             ],
             [
              0.8888888888888888,
              "#fdca26"
             ],
             [
              1,
              "#f0f921"
             ]
            ],
            "type": "histogram2dcontour"
           }
          ],
          "mesh3d": [
           {
            "colorbar": {
             "outlinewidth": 0,
             "ticks": ""
            },
            "type": "mesh3d"
           }
          ],
          "parcoords": [
           {
            "line": {
             "colorbar": {
              "outlinewidth": 0,
              "ticks": ""
             }
            },
            "type": "parcoords"
           }
          ],
          "pie": [
           {
            "automargin": true,
            "type": "pie"
           }
          ],
          "scatter": [
           {
            "fillpattern": {
             "fillmode": "overlay",
             "size": 10,
             "solidity": 0.2
            },
            "type": "scatter"
           }
          ],
          "scatter3d": [
           {
            "line": {
             "colorbar": {
              "outlinewidth": 0,
              "ticks": ""
             }
            },
            "marker": {
             "colorbar": {
              "outlinewidth": 0,
              "ticks": ""
             }
            },
            "type": "scatter3d"
           }
          ],
          "scattercarpet": [
           {
            "marker": {
             "colorbar": {
              "outlinewidth": 0,
              "ticks": ""
             }
            },
            "type": "scattercarpet"
           }
          ],
          "scattergeo": [
           {
            "marker": {
             "colorbar": {
              "outlinewidth": 0,
              "ticks": ""
             }
            },
            "type": "scattergeo"
           }
          ],
          "scattergl": [
           {
            "marker": {
             "colorbar": {
              "outlinewidth": 0,
              "ticks": ""
             }
            },
            "type": "scattergl"
           }
          ],
          "scattermapbox": [
           {
            "marker": {
             "colorbar": {
              "outlinewidth": 0,
              "ticks": ""
             }
            },
            "type": "scattermapbox"
           }
          ],
          "scatterpolar": [
           {
            "marker": {
             "colorbar": {
              "outlinewidth": 0,
              "ticks": ""
             }
            },
            "type": "scatterpolar"
           }
          ],
          "scatterpolargl": [
           {
            "marker": {
             "colorbar": {
              "outlinewidth": 0,
              "ticks": ""
             }
            },
            "type": "scatterpolargl"
           }
          ],
          "scatterternary": [
           {
            "marker": {
             "colorbar": {
              "outlinewidth": 0,
              "ticks": ""
             }
            },
            "type": "scatterternary"
           }
          ],
          "surface": [
           {
            "colorbar": {
             "outlinewidth": 0,
             "ticks": ""
            },
            "colorscale": [
             [
              0,
              "#0d0887"
             ],
             [
              0.1111111111111111,
              "#46039f"
             ],
             [
              0.2222222222222222,
              "#7201a8"
             ],
             [
              0.3333333333333333,
              "#9c179e"
             ],
             [
              0.4444444444444444,
              "#bd3786"
             ],
             [
              0.5555555555555556,
              "#d8576b"
             ],
             [
              0.6666666666666666,
              "#ed7953"
             ],
             [
              0.7777777777777778,
              "#fb9f3a"
             ],
             [
              0.8888888888888888,
              "#fdca26"
             ],
             [
              1,
              "#f0f921"
             ]
            ],
            "type": "surface"
           }
          ],
          "table": [
           {
            "cells": {
             "fill": {
              "color": "#EBF0F8"
             },
             "line": {
              "color": "white"
             }
            },
            "header": {
             "fill": {
              "color": "#C8D4E3"
             },
             "line": {
              "color": "white"
             }
            },
            "type": "table"
           }
          ]
         },
         "layout": {
          "annotationdefaults": {
           "arrowcolor": "#2a3f5f",
           "arrowhead": 0,
           "arrowwidth": 1
          },
          "autotypenumbers": "strict",
          "coloraxis": {
           "colorbar": {
            "outlinewidth": 0,
            "ticks": ""
           }
          },
          "colorscale": {
           "diverging": [
            [
             0,
             "#8e0152"
            ],
            [
             0.1,
             "#c51b7d"
            ],
            [
             0.2,
             "#de77ae"
            ],
            [
             0.3,
             "#f1b6da"
            ],
            [
             0.4,
             "#fde0ef"
            ],
            [
             0.5,
             "#f7f7f7"
            ],
            [
             0.6,
             "#e6f5d0"
            ],
            [
             0.7,
             "#b8e186"
            ],
            [
             0.8,
             "#7fbc41"
            ],
            [
             0.9,
             "#4d9221"
            ],
            [
             1,
             "#276419"
            ]
           ],
           "sequential": [
            [
             0,
             "#0d0887"
            ],
            [
             0.1111111111111111,
             "#46039f"
            ],
            [
             0.2222222222222222,
             "#7201a8"
            ],
            [
             0.3333333333333333,
             "#9c179e"
            ],
            [
             0.4444444444444444,
             "#bd3786"
            ],
            [
             0.5555555555555556,
             "#d8576b"
            ],
            [
             0.6666666666666666,
             "#ed7953"
            ],
            [
             0.7777777777777778,
             "#fb9f3a"
            ],
            [
             0.8888888888888888,
             "#fdca26"
            ],
            [
             1,
             "#f0f921"
            ]
           ],
           "sequentialminus": [
            [
             0,
             "#0d0887"
            ],
            [
             0.1111111111111111,
             "#46039f"
            ],
            [
             0.2222222222222222,
             "#7201a8"
            ],
            [
             0.3333333333333333,
             "#9c179e"
            ],
            [
             0.4444444444444444,
             "#bd3786"
            ],
            [
             0.5555555555555556,
             "#d8576b"
            ],
            [
             0.6666666666666666,
             "#ed7953"
            ],
            [
             0.7777777777777778,
             "#fb9f3a"
            ],
            [
             0.8888888888888888,
             "#fdca26"
            ],
            [
             1,
             "#f0f921"
            ]
           ]
          },
          "colorway": [
           "#636efa",
           "#EF553B",
           "#00cc96",
           "#ab63fa",
           "#FFA15A",
           "#19d3f3",
           "#FF6692",
           "#B6E880",
           "#FF97FF",
           "#FECB52"
          ],
          "font": {
           "color": "#2a3f5f"
          },
          "geo": {
           "bgcolor": "white",
           "lakecolor": "white",
           "landcolor": "#E5ECF6",
           "showlakes": true,
           "showland": true,
           "subunitcolor": "white"
          },
          "hoverlabel": {
           "align": "left"
          },
          "hovermode": "closest",
          "mapbox": {
           "style": "light"
          },
          "paper_bgcolor": "white",
          "plot_bgcolor": "#E5ECF6",
          "polar": {
           "angularaxis": {
            "gridcolor": "white",
            "linecolor": "white",
            "ticks": ""
           },
           "bgcolor": "#E5ECF6",
           "radialaxis": {
            "gridcolor": "white",
            "linecolor": "white",
            "ticks": ""
           }
          },
          "scene": {
           "xaxis": {
            "backgroundcolor": "#E5ECF6",
            "gridcolor": "white",
            "gridwidth": 2,
            "linecolor": "white",
            "showbackground": true,
            "ticks": "",
            "zerolinecolor": "white"
           },
           "yaxis": {
            "backgroundcolor": "#E5ECF6",
            "gridcolor": "white",
            "gridwidth": 2,
            "linecolor": "white",
            "showbackground": true,
            "ticks": "",
            "zerolinecolor": "white"
           },
           "zaxis": {
            "backgroundcolor": "#E5ECF6",
            "gridcolor": "white",
            "gridwidth": 2,
            "linecolor": "white",
            "showbackground": true,
            "ticks": "",
            "zerolinecolor": "white"
           }
          },
          "shapedefaults": {
           "line": {
            "color": "#2a3f5f"
           }
          },
          "ternary": {
           "aaxis": {
            "gridcolor": "white",
            "linecolor": "white",
            "ticks": ""
           },
           "baxis": {
            "gridcolor": "white",
            "linecolor": "white",
            "ticks": ""
           },
           "bgcolor": "#E5ECF6",
           "caxis": {
            "gridcolor": "white",
            "linecolor": "white",
            "ticks": ""
           }
          },
          "title": {
           "x": 0.05
          },
          "xaxis": {
           "automargin": true,
           "gridcolor": "white",
           "linecolor": "white",
           "ticks": "",
           "title": {
            "standoff": 15
           },
           "zerolinecolor": "white",
           "zerolinewidth": 2
          },
          "yaxis": {
           "automargin": true,
           "gridcolor": "white",
           "linecolor": "white",
           "ticks": "",
           "title": {
            "standoff": 15
           },
           "zerolinecolor": "white",
           "zerolinewidth": 2
          }
         }
        },
        "title": {
         "text": "Gas=Rb"
        },
        "xaxis": {
         "title": {
          "text": "Field Strength"
         }
        },
        "yaxis": {
         "title": {
          "text": "Log(Rate)"
         }
        }
       }
      }
     },
     "metadata": {},
     "output_type": "display_data"
    },
    {
     "name": "stdout",
     "output_type": "stream",
     "text": [
      "{'Multiplier': 0.44503458237990395, 'Ip': 0.15350551607047047, 'αPol': 320, 'gamma': 19.543271647793922, 'e0': 2.110242042872672, 'a0': 1, 'a1': 1.0, 'b0': 1.0, 'b1': 1, 'b2': 1, 'p1': 3.5, 'd1': 0.025584252678411745}\n",
      "Name           Value      Min      Max   Stderr     Vary     Expr Brute_Step\n",
      "Ip            0.1535   0.1382   0.1689     None    False     None     None\n",
      "Multiplier     0.445    0.001     1000     None     True     None     None\n",
      "a0                 1      0.9      1.1     None    False     None     None\n",
      "a1                 1     -inf      inf     None    False     None     None\n",
      "b0                 1     -inf      inf     None    False     None     None\n",
      "b1                 1      0.9      1.1     None    False     None     None\n",
      "b2                 1      0.9      1.1     None    False     None     None\n",
      "d1           0.02558     -inf      inf     None    False 0.5/gamma     None\n",
      "e0              2.11        0       10     None     True     None     None\n",
      "gamma          19.54   0.9772    19.54     None     True     None     None\n",
      "p1               3.5      2.5      4.5     None    False     None     None\n",
      "αPol             320     -inf      inf     None    False     None     None\n"
     ]
    }
   ],
   "source": [
    "gasAr = [\"H\", \"Ne\", \"He\", \"N2_Hacc5\", \"He_Hacc5\", \"H2_Hacc5\", \"CO_Hacc5\", \"Cs\", \"K\", \"Fr\", \"Rb\"]\n",
    "for gas in gasAr:\n",
    "    params = Parameters()\n",
    "    # add with tuples: (NAME VALUE  VARY   MIN   MAX  EXPR  BRUTE_STEP)\n",
    "    params.add('Multiplier', min=1e-3, max=1e3, vary=True, expr=None, brute_step=None)\n",
    "    IpInit=IpEV_dict.get(gas)/27.2114\n",
    "    params.add('Ip', value=IpInit, min=IpInit*0.9, vary=False, max=IpInit*1.1, expr=None, brute_step=None)\n",
    "    params.add('αPol', value= αPol_dict.get(gas), vary=False, expr=None, brute_step=None)\n",
    "    gammaInit=3/2/params['Ip'].value\n",
    "    params.add('gamma', value=gammaInit, vary=True, min=gammaInit*0.1, max=gammaInit*2) \n",
    "    # gamma is a common parameter, usually used to simultaneously change all vars\n",
    "    # the following variables are all defined via gamma in the funciton residuals. And the fit parameters here act as more precise tuning tool\n",
    "    params.add('e0', value=1, vary=True, brute_step=None, min=0., max=10)\n",
    "    params.add('a0', value=1, min=0.9, vary=False, max=1.1, expr=None, brute_step=None)\n",
    "    params.add('a1', value=1+0*(params[\"gamma\"]/2-0.25), vary=False, expr=None, brute_step=None)\n",
    "    params.add('b0', value=1+0*(-1+4*params['Ip']-5*params['Ip']**2+2*params['Ip']**3), vary=False)\n",
    "    params.add('b1', value=1, min=0.9, vary=False, max=1.1, expr=None, brute_step=None)\n",
    "    params.add('b2', value=1, min=0.9, max=1.1, vary=False, expr=None, brute_step=None)\n",
    "    params.add('p1', value=3.5, min=2.5, vary=False, max=4.5, expr=None, brute_step=None)\n",
    "    params.add('d1',  expr='0.5/gamma')\n",
    "    ArminRate=pd.read_table(f\"/home/manoram/Mathematica/{gas}.rate\", comment='#', sep=\" +\", engine='python', names=[\"field\", \"Y\"], usecols=[0,1], skiprows=1)\n",
    "    ArminRate[\"Function_to_fit\"]=\"Log_QSRate\"\n",
    "    dataQS=ArminRate[ArminRate.field<=4*params['Ip']/4] #only field 4 times the ABI limit\n",
    "    #dataQS[\"Function_to_fit\"]=\"Log_QSRate\"\n",
    "    uncertaintyQS=dataQS.Y.to_numpy()*np.linspace(1e-2,0.05, len(dataQS.field))\n",
    "    ## create array of dictionaries as x\n",
    "    out = minimize(residuals, params, args=(None, None, dataQS, uncertaintyQS), method='dual_annealing', nan_policy='omit')\n",
    "    fig = go.Figure()\n",
    "    fig.add_trace(go.Scatter(x=ArminRate.field, y=ArminRate.Y, mode='lines+markers', name='numerical dataQS', line=dict(color='red')))\n",
    "    fig.add_trace(go.Scatter(x=ArminRate.field, y=model_unified(out.params, ArminRate), mode='lines', name='fit QS', line=dict(color='blue')))\n",
    "    fig.update_layout(title=rf'Gas={gas}',\n",
    "                              xaxis_title='Field Strength',\n",
    "                              yaxis_title='Log(Rate)')\n",
    "    fig.show()\n",
    "    print(out.params.valuesdict())\n",
    "    out.params.pretty_print()\n",
    "    #break\n",
    "    "
   ]
  },
  {
   "cell_type": "markdown",
   "metadata": {},
   "source": [
    "## fit for ionization probabilities"
   ]
  },
  {
   "cell_type": "code",
   "execution_count": 55,
   "metadata": {},
   "outputs": [
    {
     "name": "stdout",
     "output_type": "stream",
     "text": [
      "The autoreload extension is already loaded. To reload it, use:\n",
      "  %reload_ext autoreload\n",
      "{'Multiplier': 0.4, 'Ip': 0.5, 'αPol': 4.51, 'gamma': 3, 'e0': 1, 'a0': 1, 'a1': 1.0, 'b0': 1.0, 'b1': 1, 'b2': 1, 'c2': 1, 'p1': 3.5, 'd1': 0.22496851712539684}\n",
      "Name           Value      Min      Max   Stderr     Vary     Expr Brute_Step\n",
      "Ip               0.5     0.45     0.55     None    False     None     None\n",
      "Multiplier       0.4     0.32     0.48     None     True     None     None\n",
      "a0                 1      0.5      1.5     None    False     None     None\n",
      "a1                 1     -inf      inf     None    False     None     None\n",
      "b0                 1     -inf      inf     None    False     None     None\n",
      "b1                 1        0      inf     None    False     None     None\n",
      "b2                 1        0      inf     None    False     None     None\n",
      "c2                 1        0       10     None     True     None     None\n",
      "d1             0.225        0      inf     None    False     None     None\n",
      "e0                 1      0.5        5     None     True     None     None\n",
      "gamma              3      1.5        6     None     True     None     None\n",
      "p1               3.5     -inf      inf     None    False     None     None\n",
      "αPol            4.51     -inf      inf     None    False     None     None\n",
      "None\n",
      "current iteration=5\n",
      "residual=5.468188953690991\n",
      "params={'Multiplier': 0.4706649705404162, 'Ip': 0.5, 'αPol': 4.51, 'gamma': 1.8169099912047386, 'e0': 2.1682867780327797, 'a0': 1, 'a1': 1.0, 'b0': 1.0, 'b1': 1, 'b2': 1, 'c2': 4.761511020362377, 'p1': 3.5, 'd1': 0.22496851712539684}\n"
     ]
    },
    {
     "data": {
      "application/vnd.plotly.v1+json": {
       "config": {
        "plotlyServerURL": "https://plot.ly"
       },
       "data": [
        {
         "line": {
          "color": "red"
         },
         "mode": "markers",
         "name": "numerical data",
         "type": "scatter",
         "x": [
          481.8,
          444,
          406.2,
          368.39,
          330.59,
          292.79,
          254.99,
          217.18,
          179.38,
          141.58,
          103.77,
          101.27,
          98.77,
          96.27,
          93.77,
          91.27,
          88.77,
          86.27,
          83.77,
          81.27,
          78.77,
          76.27,
          73.77,
          71.27,
          68.77,
          66.26,
          63.76,
          61.26,
          58.76,
          56.26,
          53.76,
          51.26,
          48.76,
          46.26,
          43.76,
          41.26,
          38.76,
          36.26,
          33.76,
          31.26,
          28.76,
          26.26,
          23.76,
          21.25,
          18.75,
          16.25,
          13.75,
          11.25,
          8.75,
          6.25,
          3.75,
          1.25,
          0,
          -1.25,
          -3.75,
          -6.25,
          -8.75,
          -11.25,
          -13.75,
          -16.25,
          -18.75,
          -21.25,
          -23.76,
          -26.26,
          -28.76,
          -31.26,
          -33.76,
          -36.26,
          -38.76,
          -41.26,
          -43.76,
          -46.26,
          -48.76,
          -51.26,
          -53.76,
          -56.26,
          -58.76,
          -61.26,
          -63.76,
          -66.26,
          -68.77,
          -71.27,
          -73.77,
          -76.27,
          -78.77,
          -81.27,
          -83.77,
          -86.27,
          -88.77,
          -91.27,
          -93.77,
          -96.27,
          -98.77,
          -101.27,
          -103.77,
          -141.58,
          -179.38,
          -217.18,
          -254.99,
          -292.79,
          -330.59,
          -368.39,
          -406.2,
          -444,
          -481.8,
          481.8,
          444,
          406.2,
          368.39,
          330.59,
          292.79,
          254.99,
          217.18,
          179.38,
          141.58,
          103.77,
          101.27,
          98.77,
          96.27,
          93.77,
          91.27,
          88.77,
          86.27,
          83.77,
          81.27,
          78.77,
          76.27,
          73.77,
          71.27,
          68.77,
          66.26,
          63.76,
          61.26,
          58.76,
          56.26,
          53.76,
          51.26,
          48.76,
          46.26,
          43.76,
          41.26,
          38.76,
          36.26,
          33.76,
          31.26,
          28.76,
          26.26,
          23.76,
          21.25,
          18.75,
          16.25,
          13.75,
          11.25,
          8.75,
          6.25,
          3.75,
          1.25,
          0,
          -1.25,
          -3.75,
          -6.25,
          -8.75,
          -11.25,
          -13.75,
          -16.25,
          -18.75,
          -21.25,
          -23.76,
          -26.26,
          -28.76,
          -31.26,
          -33.76,
          -36.26,
          -38.76,
          -41.26,
          -43.76,
          -46.26,
          -48.76,
          -51.26,
          -53.76,
          -56.26,
          -58.76,
          -61.26,
          -63.76,
          -66.26,
          -68.77,
          -71.27,
          -73.77,
          -76.27,
          -78.77,
          -81.27,
          -83.77,
          -86.27,
          -88.77,
          -91.27,
          -93.77,
          -96.27,
          -98.77,
          -101.27,
          -103.77,
          -141.58,
          -179.38,
          -217.18,
          -254.99,
          -292.79,
          -330.59,
          -368.39,
          -406.2,
          -444,
          -481.8
         ],
         "y": [
          0.01484237932,
          0.01484228537,
          0.01484246561,
          0.01484254209,
          0.01484235537,
          0.01484228719,
          0.01484249906,
          0.01484250332,
          0.01484233051,
          0.01484252199,
          0.01485905484,
          0.0148632988,
          0.01486401343,
          0.01485951562,
          0.0148488598,
          0.01483230601,
          0.01481162783,
          0.01479014736,
          0.01477239929,
          0.01476338109,
          0.01476745389,
          0.01478709684,
          0.01482183451,
          0.01486768832,
          0.01491741609,
          0.01496177018,
          0.0149906358,
          0.01499636747,
          0.01497514801,
          0.01492873601,
          0.01486496835,
          0.01479688431,
          0.01474041323,
          0.01471094658,
          0.01471950233,
          0.01476943655,
          0.01485463246,
          0.01495977346,
          0.01506278449,
          0.01513899206,
          0.01516617633,
          0.01512953167,
          0.01502557238,
          0.01486341196,
          0.01466713069,
          0.0144685185,
          0.01430385861,
          0.01420631572,
          0.01419893396,
          0.01428934864,
          0.01446754611,
          0.01470729493,
          0.01483875309,
          0.01497097248,
          0.01521669734,
          0.01540618407,
          0.01551167553,
          0.01552063552,
          0.01543743965,
          0.01528190534,
          0.01508504139,
          0.01488284664,
          0.01470874167,
          0.01458986125,
          0.01453832837,
          0.01455279809,
          0.01461934117,
          0.01471568838,
          0.01481685623,
          0.01490069053,
          0.01495206359,
          0.01496498719,
          0.01494251632,
          0.0148948132,
          0.01483603237,
          0.01478080169,
          0.01474105646,
          0.01472384948,
          0.01473050415,
          0.01475713893,
          0.01479642971,
          0.01483906778,
          0.01487687472,
          0.01490380768,
          0.01491695296,
          0.01491656375,
          0.01490541692,
          0.01488775349,
          0.01486811493,
          0.01485035533,
          0.01483701727,
          0.01482913515,
          0.0148264119,
          0.01482763527,
          0.01483117752,
          0.01484459509,
          0.01484576933,
          0.01484086576,
          0.01483963434,
          0.01484220562,
          0.01484520588,
          0.01484287873,
          0.01483988713,
          0.01484219138,
          0.01484483685,
          0.001335718541,
          0.001335699113,
          0.001335675168,
          0.001335696866,
          0.001335717348,
          0.001335694027,
          0.001335676809,
          0.001335699534,
          0.001335712833,
          0.001335781798,
          0.001337312932,
          0.001338453641,
          0.001339458487,
          0.001339947841,
          0.001339537689,
          0.001337951475,
          0.001335136284,
          0.001331355354,
          0.001327223104,
          0.001323650218,
          0.001321682363,
          0.001322248055,
          0.00132586998,
          0.001332423074,
          0.001341025888,
          0.001350158325,
          0.001357793443,
          0.001362057523,
          0.001361559762,
          0.001355847933,
          0.001345654187,
          0.001332885141,
          0.00132032358,
          0.001311075274,
          0.001307864123,
          0.001312331781,
          0.001324514126,
          0.001342637648,
          0.001363310935,
          0.001382099617,
          0.001394389714,
          0.001396380021,
          0.001386006003,
          0.001363478964,
          0.00133190205,
          0.001296362159,
          0.001263361397,
          0.001239480837,
          0.001229991905,
          0.001237667178,
          0.001262081762,
          0.00129958843,
          0.00132138307,
          0.001343987886,
          0.001387745688,
          0.001423479852,
          0.001445392499,
          0.001450349722,
          0.001438404064,
          0.001412672351,
          0.001378605376,
          0.001342803742,
          0.001311525225,
          0.001289887355,
          0.001280218518,
          0.001282332321,
          0.001293744828,
          0.001310509089,
          0.001328266043,
          0.001343226694,
          0.001352867995,
          0.001356239151,
          0.001353885722,
          0.001347475771,
          0.001339252489,
          0.001331450915,
          0.001325807814,
          0.001323261608,
          0.001323884961,
          0.001327029493,
          0.001331630021,
          0.001336453612,
          0.001340501659,
          0.001343118672,
          0.001344070598,
          0.001343502765,
          0.001341828602,
          0.001339588299,
          0.001337311548,
          0.001335410509,
          0.001334119968,
          0.001333490293,
          0.001333425271,
          0.001333745746,
          0.001334255863,
          0.001335747209,
          0.001335750644,
          0.00133569334,
          0.001335657766,
          0.001335571888,
          0.001335814875,
          0.001335924825,
          0.001335562476,
          0.001335526475,
          0.001335914894
         ]
        },
        {
         "line": {
          "color": "blue"
         },
         "mode": "markers",
         "name": "fit",
         "type": "scatter",
         "x": [
          481.8,
          444,
          406.2,
          368.39,
          330.59,
          292.79,
          254.99,
          217.18,
          179.38,
          141.58,
          103.77,
          101.27,
          98.77,
          96.27,
          93.77,
          91.27,
          88.77,
          86.27,
          83.77,
          81.27,
          78.77,
          76.27,
          73.77,
          71.27,
          68.77,
          66.26,
          63.76,
          61.26,
          58.76,
          56.26,
          53.76,
          51.26,
          48.76,
          46.26,
          43.76,
          41.26,
          38.76,
          36.26,
          33.76,
          31.26,
          28.76,
          26.26,
          23.76,
          21.25,
          18.75,
          16.25,
          13.75,
          11.25,
          8.75,
          6.25,
          3.75,
          1.25,
          0,
          -1.25,
          -3.75,
          -6.25,
          -8.75,
          -11.25,
          -13.75,
          -16.25,
          -18.75,
          -21.25,
          -23.76,
          -26.26,
          -28.76,
          -31.26,
          -33.76,
          -36.26,
          -38.76,
          -41.26,
          -43.76,
          -46.26,
          -48.76,
          -51.26,
          -53.76,
          -56.26,
          -58.76,
          -61.26,
          -63.76,
          -66.26,
          -68.77,
          -71.27,
          -73.77,
          -76.27,
          -78.77,
          -81.27,
          -83.77,
          -86.27,
          -88.77,
          -91.27,
          -93.77,
          -96.27,
          -98.77,
          -101.27,
          -103.77,
          -141.58,
          -179.38,
          -217.18,
          -254.99,
          -292.79,
          -330.59,
          -368.39,
          -406.2,
          -444,
          -481.8,
          481.8,
          444,
          406.2,
          368.39,
          330.59,
          292.79,
          254.99,
          217.18,
          179.38,
          141.58,
          103.77,
          101.27,
          98.77,
          96.27,
          93.77,
          91.27,
          88.77,
          86.27,
          83.77,
          81.27,
          78.77,
          76.27,
          73.77,
          71.27,
          68.77,
          66.26,
          63.76,
          61.26,
          58.76,
          56.26,
          53.76,
          51.26,
          48.76,
          46.26,
          43.76,
          41.26,
          38.76,
          36.26,
          33.76,
          31.26,
          28.76,
          26.26,
          23.76,
          21.25,
          18.75,
          16.25,
          13.75,
          11.25,
          8.75,
          6.25,
          3.75,
          1.25,
          0,
          -1.25,
          -3.75,
          -6.25,
          -8.75,
          -11.25,
          -13.75,
          -16.25,
          -18.75,
          -21.25,
          -23.76,
          -26.26,
          -28.76,
          -31.26,
          -33.76,
          -36.26,
          -38.76,
          -41.26,
          -43.76,
          -46.26,
          -48.76,
          -51.26,
          -53.76,
          -56.26,
          -58.76,
          -61.26,
          -63.76,
          -66.26,
          -68.77,
          -71.27,
          -73.77,
          -76.27,
          -78.77,
          -81.27,
          -83.77,
          -86.27,
          -88.77,
          -91.27,
          -93.77,
          -96.27,
          -98.77,
          -101.27,
          -103.77,
          -141.58,
          -179.38,
          -217.18,
          -254.99,
          -292.79,
          -330.59,
          -368.39,
          -406.2,
          -444,
          -481.8
         ],
         "y": [
          0.003252784746156645,
          0.0032538731817555178,
          0.0032508115620614175,
          0.0032536298492501503,
          0.0032504580979609843,
          0.0032536265104238238,
          0.0032515564455549706,
          0.003253709497590407,
          0.0032538852860751755,
          0.0032540782161966098,
          0.003256694120328363,
          0.003257030148046236,
          0.00325675951769111,
          0.0032556740698608255,
          0.0032536963439648847,
          0.003250942536766388,
          0.0032477587126508167,
          0.003244717196025926,
          0.003242559690090907,
          0.003242077070341187,
          0.0032439280172250617,
          0.003248420818704578,
          0.0032553094380824987,
          0.0032636745963420255,
          0.003271959748786246,
          0.0032782212538565725,
          0.003280452684136237,
          0.003277273799740299,
          0.0032683215606147398,
          0.0032546246421306657,
          0.00323865889419761,
          0.0032240498607725154,
          0.003214935978428257,
          0.003215082631426891,
          0.0032269022754429777,
          0.003250584863564554,
          0.003283566056373588,
          0.0033205390135651047,
          0.003354129470233058,
          0.0033762023641067396,
          0.0033795833011436294,
          0.00335982086683817,
          0.003316551742417073,
          0.0032538172271942,
          0.0031807826615989354,
          0.003108873498223197,
          0.0030507243941482187,
          0.003017641427575768,
          0.0030173891799644137,
          0.0030524985906804636,
          0.0031194423933016413,
          0.0032089095010571222,
          0.003257927920724324,
          0.0033072328917184146,
          0.0033987910027530877,
          0.0034689511412335783,
          0.0035069319710014923,
          0.003507914847267979,
          0.003473878751822923,
          0.0034129498415049753,
          0.0033374503160121805,
          0.003261170142568881,
          0.0031963339619928144,
          0.0031523375176395474,
          0.0031328994282795453,
          0.0031370869172004934,
          0.0031599063244572845,
          0.003193839037153534,
          0.0032306323224224887,
          0.0032629646455828443,
          0.0032856859919150327,
          0.0032964493258226257,
          0.00329568487777554,
          0.0032860091641000455,
          0.0032712784691115715,
          0.0032555569362644476,
          0.003242250037085559,
          0.003233564915960274,
          0.0032303402061408804,
          0.0032321870727660684,
          0.0032378575972841217,
          0.0032455605454756453,
          0.0032535210087623057,
          0.0032602367185294856,
          0.0032647206434895937,
          0.003266595281066653,
          0.003266054761014936,
          0.003263718125737336,
          0.003260418577674562,
          0.0032569850141435097,
          0.0032540684814846843,
          0.0032520477211557264,
          0.0032510209526372957,
          0.0032508653385175945,
          0.0032513302105534603,
          0.0032539049962858613,
          0.0032540241430187855,
          0.0032542039427856384,
          0.003251876380136798,
          0.003253633315176585,
          0.0032504577751961694,
          0.0032536295887597433,
          0.003250811722042557,
          0.00325387325398252,
          0.0032527848208092625,
          0.00022430173261756003,
          0.00022431426715285863,
          0.0002242924573673255,
          0.00022431578433024235,
          0.00022429098196341535,
          0.00022431531363564794,
          0.00022430589171384963,
          0.0002243387799122365,
          0.00022432060518029484,
          0.00022430636745607302,
          0.00022445657171243916,
          0.00022451227164899112,
          0.00022454254711878896,
          0.0002245248243784026,
          0.0002244406053172332,
          0.00022428242928107522,
          0.0002240605576711019,
          0.00022380700224344796,
          0.00022357468715561435,
          0.00022343055357920694,
          0.00022344258555306862,
          0.000223661815771381,
          0.0002241019128497168,
          0.0002247212579107316,
          0.00022541463058645128,
          0.00022602389539083667,
          0.0002263582018939836,
          0.000226257434445154,
          0.0002256356192195108,
          0.0002245283584956237,
          0.0002231128758165557,
          0.00022169469105648432,
          0.00022066010633003952,
          0.0002204000695625874,
          0.00022121586689793915,
          0.0002232225037690494,
          0.00022627198666347326,
          0.00022992291301349166,
          0.00023347947129248592,
          0.00023610830377984726,
          0.00023701760146799256,
          0.00023565776219514056,
          0.00023188870718637844,
          0.00022603732278425603,
          0.00021897397918413386,
          0.00021183446952632856,
          0.0002058995408619202,
          0.0002023359805888303,
          0.00020197009690614554,
          0.00020511145187418478,
          0.00021145785618748025,
          0.00022010652624815386,
          0.00022487769268753066,
          0.00022968510950649446,
          0.00023859441897799982,
          0.000245323400211217,
          0.00024876675828466865,
          0.00024846231253461415,
          0.00024467976474396025,
          0.00023833411235874014,
          0.0002307506134177073,
          0.000223352243032382,
          0.00021733762576214843,
          0.00021355243031051518,
          0.00021224529787500224,
          0.00021320091356735738,
          0.00021583127561886073,
          0.00021934514148957973,
          0.0002229280148946522,
          0.00022589967440245218,
          0.00022782434101309423,
          0.00022855737537841314,
          0.0002282242785421884,
          0.0002271432426768083,
          0.00022571705952034726,
          0.00022432686897888576,
          0.00022325496476627293,
          0.0002226495464900946,
          0.0002225285478160144,
          0.00022280956422138232,
          0.00022335326739286732,
          0.00022399411808138314,
          0.00022458815113091113,
          0.0002250286975686855,
          0.0002252610993150883,
          0.00022528375494834663,
          0.00022513808424051707,
          0.0002248907823131363,
          0.00022461371006199382,
          0.00022436683807314228,
          0.00022418786771083443,
          0.00022408961100339742,
          0.00022406397293484037,
          0.00022408997083256388,
          0.00022414279593652164,
          0.0002242914848132882,
          0.00022430059166178573,
          0.00022428395742690732,
          0.0002242870259580032,
          0.00022431628058605657,
          0.00022429098222476185,
          0.00022431578498238736,
          0.00022429245878763382,
          0.0002243142704019263,
          0.00022430173566934108
         ]
        }
       ],
       "layout": {
        "template": {
         "data": {
          "bar": [
           {
            "error_x": {
             "color": "#2a3f5f"
            },
            "error_y": {
             "color": "#2a3f5f"
            },
            "marker": {
             "line": {
              "color": "#E5ECF6",
              "width": 0.5
             },
             "pattern": {
              "fillmode": "overlay",
              "size": 10,
              "solidity": 0.2
             }
            },
            "type": "bar"
           }
          ],
          "barpolar": [
           {
            "marker": {
             "line": {
              "color": "#E5ECF6",
              "width": 0.5
             },
             "pattern": {
              "fillmode": "overlay",
              "size": 10,
              "solidity": 0.2
             }
            },
            "type": "barpolar"
           }
          ],
          "carpet": [
           {
            "aaxis": {
             "endlinecolor": "#2a3f5f",
             "gridcolor": "white",
             "linecolor": "white",
             "minorgridcolor": "white",
             "startlinecolor": "#2a3f5f"
            },
            "baxis": {
             "endlinecolor": "#2a3f5f",
             "gridcolor": "white",
             "linecolor": "white",
             "minorgridcolor": "white",
             "startlinecolor": "#2a3f5f"
            },
            "type": "carpet"
           }
          ],
          "choropleth": [
           {
            "colorbar": {
             "outlinewidth": 0,
             "ticks": ""
            },
            "type": "choropleth"
           }
          ],
          "contour": [
           {
            "colorbar": {
             "outlinewidth": 0,
             "ticks": ""
            },
            "colorscale": [
             [
              0,
              "#0d0887"
             ],
             [
              0.1111111111111111,
              "#46039f"
             ],
             [
              0.2222222222222222,
              "#7201a8"
             ],
             [
              0.3333333333333333,
              "#9c179e"
             ],
             [
              0.4444444444444444,
              "#bd3786"
             ],
             [
              0.5555555555555556,
              "#d8576b"
             ],
             [
              0.6666666666666666,
              "#ed7953"
             ],
             [
              0.7777777777777778,
              "#fb9f3a"
             ],
             [
              0.8888888888888888,
              "#fdca26"
             ],
             [
              1,
              "#f0f921"
             ]
            ],
            "type": "contour"
           }
          ],
          "contourcarpet": [
           {
            "colorbar": {
             "outlinewidth": 0,
             "ticks": ""
            },
            "type": "contourcarpet"
           }
          ],
          "heatmap": [
           {
            "colorbar": {
             "outlinewidth": 0,
             "ticks": ""
            },
            "colorscale": [
             [
              0,
              "#0d0887"
             ],
             [
              0.1111111111111111,
              "#46039f"
             ],
             [
              0.2222222222222222,
              "#7201a8"
             ],
             [
              0.3333333333333333,
              "#9c179e"
             ],
             [
              0.4444444444444444,
              "#bd3786"
             ],
             [
              0.5555555555555556,
              "#d8576b"
             ],
             [
              0.6666666666666666,
              "#ed7953"
             ],
             [
              0.7777777777777778,
              "#fb9f3a"
             ],
             [
              0.8888888888888888,
              "#fdca26"
             ],
             [
              1,
              "#f0f921"
             ]
            ],
            "type": "heatmap"
           }
          ],
          "heatmapgl": [
           {
            "colorbar": {
             "outlinewidth": 0,
             "ticks": ""
            },
            "colorscale": [
             [
              0,
              "#0d0887"
             ],
             [
              0.1111111111111111,
              "#46039f"
             ],
             [
              0.2222222222222222,
              "#7201a8"
             ],
             [
              0.3333333333333333,
              "#9c179e"
             ],
             [
              0.4444444444444444,
              "#bd3786"
             ],
             [
              0.5555555555555556,
              "#d8576b"
             ],
             [
              0.6666666666666666,
              "#ed7953"
             ],
             [
              0.7777777777777778,
              "#fb9f3a"
             ],
             [
              0.8888888888888888,
              "#fdca26"
             ],
             [
              1,
              "#f0f921"
             ]
            ],
            "type": "heatmapgl"
           }
          ],
          "histogram": [
           {
            "marker": {
             "pattern": {
              "fillmode": "overlay",
              "size": 10,
              "solidity": 0.2
             }
            },
            "type": "histogram"
           }
          ],
          "histogram2d": [
           {
            "colorbar": {
             "outlinewidth": 0,
             "ticks": ""
            },
            "colorscale": [
             [
              0,
              "#0d0887"
             ],
             [
              0.1111111111111111,
              "#46039f"
             ],
             [
              0.2222222222222222,
              "#7201a8"
             ],
             [
              0.3333333333333333,
              "#9c179e"
             ],
             [
              0.4444444444444444,
              "#bd3786"
             ],
             [
              0.5555555555555556,
              "#d8576b"
             ],
             [
              0.6666666666666666,
              "#ed7953"
             ],
             [
              0.7777777777777778,
              "#fb9f3a"
             ],
             [
              0.8888888888888888,
              "#fdca26"
             ],
             [
              1,
              "#f0f921"
             ]
            ],
            "type": "histogram2d"
           }
          ],
          "histogram2dcontour": [
           {
            "colorbar": {
             "outlinewidth": 0,
             "ticks": ""
            },
            "colorscale": [
             [
              0,
              "#0d0887"
             ],
             [
              0.1111111111111111,
              "#46039f"
             ],
             [
              0.2222222222222222,
              "#7201a8"
             ],
             [
              0.3333333333333333,
              "#9c179e"
             ],
             [
              0.4444444444444444,
              "#bd3786"
             ],
             [
              0.5555555555555556,
              "#d8576b"
             ],
             [
              0.6666666666666666,
              "#ed7953"
             ],
             [
              0.7777777777777778,
              "#fb9f3a"
             ],
             [
              0.8888888888888888,
              "#fdca26"
             ],
             [
              1,
              "#f0f921"
             ]
            ],
            "type": "histogram2dcontour"
           }
          ],
          "mesh3d": [
           {
            "colorbar": {
             "outlinewidth": 0,
             "ticks": ""
            },
            "type": "mesh3d"
           }
          ],
          "parcoords": [
           {
            "line": {
             "colorbar": {
              "outlinewidth": 0,
              "ticks": ""
             }
            },
            "type": "parcoords"
           }
          ],
          "pie": [
           {
            "automargin": true,
            "type": "pie"
           }
          ],
          "scatter": [
           {
            "fillpattern": {
             "fillmode": "overlay",
             "size": 10,
             "solidity": 0.2
            },
            "type": "scatter"
           }
          ],
          "scatter3d": [
           {
            "line": {
             "colorbar": {
              "outlinewidth": 0,
              "ticks": ""
             }
            },
            "marker": {
             "colorbar": {
              "outlinewidth": 0,
              "ticks": ""
             }
            },
            "type": "scatter3d"
           }
          ],
          "scattercarpet": [
           {
            "marker": {
             "colorbar": {
              "outlinewidth": 0,
              "ticks": ""
             }
            },
            "type": "scattercarpet"
           }
          ],
          "scattergeo": [
           {
            "marker": {
             "colorbar": {
              "outlinewidth": 0,
              "ticks": ""
             }
            },
            "type": "scattergeo"
           }
          ],
          "scattergl": [
           {
            "marker": {
             "colorbar": {
              "outlinewidth": 0,
              "ticks": ""
             }
            },
            "type": "scattergl"
           }
          ],
          "scattermapbox": [
           {
            "marker": {
             "colorbar": {
              "outlinewidth": 0,
              "ticks": ""
             }
            },
            "type": "scattermapbox"
           }
          ],
          "scatterpolar": [
           {
            "marker": {
             "colorbar": {
              "outlinewidth": 0,
              "ticks": ""
             }
            },
            "type": "scatterpolar"
           }
          ],
          "scatterpolargl": [
           {
            "marker": {
             "colorbar": {
              "outlinewidth": 0,
              "ticks": ""
             }
            },
            "type": "scatterpolargl"
           }
          ],
          "scatterternary": [
           {
            "marker": {
             "colorbar": {
              "outlinewidth": 0,
              "ticks": ""
             }
            },
            "type": "scatterternary"
           }
          ],
          "surface": [
           {
            "colorbar": {
             "outlinewidth": 0,
             "ticks": ""
            },
            "colorscale": [
             [
              0,
              "#0d0887"
             ],
             [
              0.1111111111111111,
              "#46039f"
             ],
             [
              0.2222222222222222,
              "#7201a8"
             ],
             [
              0.3333333333333333,
              "#9c179e"
             ],
             [
              0.4444444444444444,
              "#bd3786"
             ],
             [
              0.5555555555555556,
              "#d8576b"
             ],
             [
              0.6666666666666666,
              "#ed7953"
             ],
             [
              0.7777777777777778,
              "#fb9f3a"
             ],
             [
              0.8888888888888888,
              "#fdca26"
             ],
             [
              1,
              "#f0f921"
             ]
            ],
            "type": "surface"
           }
          ],
          "table": [
           {
            "cells": {
             "fill": {
              "color": "#EBF0F8"
             },
             "line": {
              "color": "white"
             }
            },
            "header": {
             "fill": {
              "color": "#C8D4E3"
             },
             "line": {
              "color": "white"
             }
            },
            "type": "table"
           }
          ]
         },
         "layout": {
          "annotationdefaults": {
           "arrowcolor": "#2a3f5f",
           "arrowhead": 0,
           "arrowwidth": 1
          },
          "autotypenumbers": "strict",
          "coloraxis": {
           "colorbar": {
            "outlinewidth": 0,
            "ticks": ""
           }
          },
          "colorscale": {
           "diverging": [
            [
             0,
             "#8e0152"
            ],
            [
             0.1,
             "#c51b7d"
            ],
            [
             0.2,
             "#de77ae"
            ],
            [
             0.3,
             "#f1b6da"
            ],
            [
             0.4,
             "#fde0ef"
            ],
            [
             0.5,
             "#f7f7f7"
            ],
            [
             0.6,
             "#e6f5d0"
            ],
            [
             0.7,
             "#b8e186"
            ],
            [
             0.8,
             "#7fbc41"
            ],
            [
             0.9,
             "#4d9221"
            ],
            [
             1,
             "#276419"
            ]
           ],
           "sequential": [
            [
             0,
             "#0d0887"
            ],
            [
             0.1111111111111111,
             "#46039f"
            ],
            [
             0.2222222222222222,
             "#7201a8"
            ],
            [
             0.3333333333333333,
             "#9c179e"
            ],
            [
             0.4444444444444444,
             "#bd3786"
            ],
            [
             0.5555555555555556,
             "#d8576b"
            ],
            [
             0.6666666666666666,
             "#ed7953"
            ],
            [
             0.7777777777777778,
             "#fb9f3a"
            ],
            [
             0.8888888888888888,
             "#fdca26"
            ],
            [
             1,
             "#f0f921"
            ]
           ],
           "sequentialminus": [
            [
             0,
             "#0d0887"
            ],
            [
             0.1111111111111111,
             "#46039f"
            ],
            [
             0.2222222222222222,
             "#7201a8"
            ],
            [
             0.3333333333333333,
             "#9c179e"
            ],
            [
             0.4444444444444444,
             "#bd3786"
            ],
            [
             0.5555555555555556,
             "#d8576b"
            ],
            [
             0.6666666666666666,
             "#ed7953"
            ],
            [
             0.7777777777777778,
             "#fb9f3a"
            ],
            [
             0.8888888888888888,
             "#fdca26"
            ],
            [
             1,
             "#f0f921"
            ]
           ]
          },
          "colorway": [
           "#636efa",
           "#EF553B",
           "#00cc96",
           "#ab63fa",
           "#FFA15A",
           "#19d3f3",
           "#FF6692",
           "#B6E880",
           "#FF97FF",
           "#FECB52"
          ],
          "font": {
           "color": "#2a3f5f"
          },
          "geo": {
           "bgcolor": "white",
           "lakecolor": "white",
           "landcolor": "#E5ECF6",
           "showlakes": true,
           "showland": true,
           "subunitcolor": "white"
          },
          "hoverlabel": {
           "align": "left"
          },
          "hovermode": "closest",
          "mapbox": {
           "style": "light"
          },
          "paper_bgcolor": "white",
          "plot_bgcolor": "#E5ECF6",
          "polar": {
           "angularaxis": {
            "gridcolor": "white",
            "linecolor": "white",
            "ticks": ""
           },
           "bgcolor": "#E5ECF6",
           "radialaxis": {
            "gridcolor": "white",
            "linecolor": "white",
            "ticks": ""
           }
          },
          "scene": {
           "xaxis": {
            "backgroundcolor": "#E5ECF6",
            "gridcolor": "white",
            "gridwidth": 2,
            "linecolor": "white",
            "showbackground": true,
            "ticks": "",
            "zerolinecolor": "white"
           },
           "yaxis": {
            "backgroundcolor": "#E5ECF6",
            "gridcolor": "white",
            "gridwidth": 2,
            "linecolor": "white",
            "showbackground": true,
            "ticks": "",
            "zerolinecolor": "white"
           },
           "zaxis": {
            "backgroundcolor": "#E5ECF6",
            "gridcolor": "white",
            "gridwidth": 2,
            "linecolor": "white",
            "showbackground": true,
            "ticks": "",
            "zerolinecolor": "white"
           }
          },
          "shapedefaults": {
           "line": {
            "color": "#2a3f5f"
           }
          },
          "ternary": {
           "aaxis": {
            "gridcolor": "white",
            "linecolor": "white",
            "ticks": ""
           },
           "baxis": {
            "gridcolor": "white",
            "linecolor": "white",
            "ticks": ""
           },
           "bgcolor": "#E5ECF6",
           "caxis": {
            "gridcolor": "white",
            "linecolor": "white",
            "ticks": ""
           }
          },
          "title": {
           "x": 0.05
          },
          "xaxis": {
           "automargin": true,
           "gridcolor": "white",
           "linecolor": "white",
           "ticks": "",
           "title": {
            "standoff": 15
           },
           "zerolinecolor": "white",
           "zerolinewidth": 2
          },
          "yaxis": {
           "automargin": true,
           "gridcolor": "white",
           "linecolor": "white",
           "ticks": "",
           "title": {
            "standoff": 15
           },
           "zerolinecolor": "white",
           "zerolinewidth": 2
          }
         }
        },
        "title": {
         "text": "Gas=H"
        },
        "xaxis": {
         "title": {
          "text": "wavelengths"
         }
        },
        "yaxis": {
         "title": {
          "text": "ionization probability"
         }
        }
       }
      }
     },
     "metadata": {},
     "output_type": "display_data"
    },
    {
     "name": "stdout",
     "output_type": "stream",
     "text": [
      "current iteration=10\n",
      "residual=0.020438937566758443\n",
      "params={'Multiplier': 0.41211652632465756, 'Ip': 0.5, 'αPol': 4.51, 'gamma': 2.586940199136734, 'e0': 2.938316985964775, 'a0': 1, 'a1': 1.0, 'b0': 1.0, 'b1': 1, 'b2': 1, 'c2': 0.5315412282943726, 'p1': 3.5, 'd1': 0.22496851712539684}\n"
     ]
    },
    {
     "data": {
      "application/vnd.plotly.v1+json": {
       "config": {
        "plotlyServerURL": "https://plot.ly"
       },
       "data": [
        {
         "line": {
          "color": "red"
         },
         "mode": "markers",
         "name": "numerical data",
         "type": "scatter",
         "x": [
          481.8,
          444,
          406.2,
          368.39,
          330.59,
          292.79,
          254.99,
          217.18,
          179.38,
          141.58,
          103.77,
          101.27,
          98.77,
          96.27,
          93.77,
          91.27,
          88.77,
          86.27,
          83.77,
          81.27,
          78.77,
          76.27,
          73.77,
          71.27,
          68.77,
          66.26,
          63.76,
          61.26,
          58.76,
          56.26,
          53.76,
          51.26,
          48.76,
          46.26,
          43.76,
          41.26,
          38.76,
          36.26,
          33.76,
          31.26,
          28.76,
          26.26,
          23.76,
          21.25,
          18.75,
          16.25,
          13.75,
          11.25,
          8.75,
          6.25,
          3.75,
          1.25,
          0,
          -1.25,
          -3.75,
          -6.25,
          -8.75,
          -11.25,
          -13.75,
          -16.25,
          -18.75,
          -21.25,
          -23.76,
          -26.26,
          -28.76,
          -31.26,
          -33.76,
          -36.26,
          -38.76,
          -41.26,
          -43.76,
          -46.26,
          -48.76,
          -51.26,
          -53.76,
          -56.26,
          -58.76,
          -61.26,
          -63.76,
          -66.26,
          -68.77,
          -71.27,
          -73.77,
          -76.27,
          -78.77,
          -81.27,
          -83.77,
          -86.27,
          -88.77,
          -91.27,
          -93.77,
          -96.27,
          -98.77,
          -101.27,
          -103.77,
          -141.58,
          -179.38,
          -217.18,
          -254.99,
          -292.79,
          -330.59,
          -368.39,
          -406.2,
          -444,
          -481.8,
          481.8,
          444,
          406.2,
          368.39,
          330.59,
          292.79,
          254.99,
          217.18,
          179.38,
          141.58,
          103.77,
          101.27,
          98.77,
          96.27,
          93.77,
          91.27,
          88.77,
          86.27,
          83.77,
          81.27,
          78.77,
          76.27,
          73.77,
          71.27,
          68.77,
          66.26,
          63.76,
          61.26,
          58.76,
          56.26,
          53.76,
          51.26,
          48.76,
          46.26,
          43.76,
          41.26,
          38.76,
          36.26,
          33.76,
          31.26,
          28.76,
          26.26,
          23.76,
          21.25,
          18.75,
          16.25,
          13.75,
          11.25,
          8.75,
          6.25,
          3.75,
          1.25,
          0,
          -1.25,
          -3.75,
          -6.25,
          -8.75,
          -11.25,
          -13.75,
          -16.25,
          -18.75,
          -21.25,
          -23.76,
          -26.26,
          -28.76,
          -31.26,
          -33.76,
          -36.26,
          -38.76,
          -41.26,
          -43.76,
          -46.26,
          -48.76,
          -51.26,
          -53.76,
          -56.26,
          -58.76,
          -61.26,
          -63.76,
          -66.26,
          -68.77,
          -71.27,
          -73.77,
          -76.27,
          -78.77,
          -81.27,
          -83.77,
          -86.27,
          -88.77,
          -91.27,
          -93.77,
          -96.27,
          -98.77,
          -101.27,
          -103.77,
          -141.58,
          -179.38,
          -217.18,
          -254.99,
          -292.79,
          -330.59,
          -368.39,
          -406.2,
          -444,
          -481.8
         ],
         "y": [
          0.01484237932,
          0.01484228537,
          0.01484246561,
          0.01484254209,
          0.01484235537,
          0.01484228719,
          0.01484249906,
          0.01484250332,
          0.01484233051,
          0.01484252199,
          0.01485905484,
          0.0148632988,
          0.01486401343,
          0.01485951562,
          0.0148488598,
          0.01483230601,
          0.01481162783,
          0.01479014736,
          0.01477239929,
          0.01476338109,
          0.01476745389,
          0.01478709684,
          0.01482183451,
          0.01486768832,
          0.01491741609,
          0.01496177018,
          0.0149906358,
          0.01499636747,
          0.01497514801,
          0.01492873601,
          0.01486496835,
          0.01479688431,
          0.01474041323,
          0.01471094658,
          0.01471950233,
          0.01476943655,
          0.01485463246,
          0.01495977346,
          0.01506278449,
          0.01513899206,
          0.01516617633,
          0.01512953167,
          0.01502557238,
          0.01486341196,
          0.01466713069,
          0.0144685185,
          0.01430385861,
          0.01420631572,
          0.01419893396,
          0.01428934864,
          0.01446754611,
          0.01470729493,
          0.01483875309,
          0.01497097248,
          0.01521669734,
          0.01540618407,
          0.01551167553,
          0.01552063552,
          0.01543743965,
          0.01528190534,
          0.01508504139,
          0.01488284664,
          0.01470874167,
          0.01458986125,
          0.01453832837,
          0.01455279809,
          0.01461934117,
          0.01471568838,
          0.01481685623,
          0.01490069053,
          0.01495206359,
          0.01496498719,
          0.01494251632,
          0.0148948132,
          0.01483603237,
          0.01478080169,
          0.01474105646,
          0.01472384948,
          0.01473050415,
          0.01475713893,
          0.01479642971,
          0.01483906778,
          0.01487687472,
          0.01490380768,
          0.01491695296,
          0.01491656375,
          0.01490541692,
          0.01488775349,
          0.01486811493,
          0.01485035533,
          0.01483701727,
          0.01482913515,
          0.0148264119,
          0.01482763527,
          0.01483117752,
          0.01484459509,
          0.01484576933,
          0.01484086576,
          0.01483963434,
          0.01484220562,
          0.01484520588,
          0.01484287873,
          0.01483988713,
          0.01484219138,
          0.01484483685,
          0.001335718541,
          0.001335699113,
          0.001335675168,
          0.001335696866,
          0.001335717348,
          0.001335694027,
          0.001335676809,
          0.001335699534,
          0.001335712833,
          0.001335781798,
          0.001337312932,
          0.001338453641,
          0.001339458487,
          0.001339947841,
          0.001339537689,
          0.001337951475,
          0.001335136284,
          0.001331355354,
          0.001327223104,
          0.001323650218,
          0.001321682363,
          0.001322248055,
          0.00132586998,
          0.001332423074,
          0.001341025888,
          0.001350158325,
          0.001357793443,
          0.001362057523,
          0.001361559762,
          0.001355847933,
          0.001345654187,
          0.001332885141,
          0.00132032358,
          0.001311075274,
          0.001307864123,
          0.001312331781,
          0.001324514126,
          0.001342637648,
          0.001363310935,
          0.001382099617,
          0.001394389714,
          0.001396380021,
          0.001386006003,
          0.001363478964,
          0.00133190205,
          0.001296362159,
          0.001263361397,
          0.001239480837,
          0.001229991905,
          0.001237667178,
          0.001262081762,
          0.00129958843,
          0.00132138307,
          0.001343987886,
          0.001387745688,
          0.001423479852,
          0.001445392499,
          0.001450349722,
          0.001438404064,
          0.001412672351,
          0.001378605376,
          0.001342803742,
          0.001311525225,
          0.001289887355,
          0.001280218518,
          0.001282332321,
          0.001293744828,
          0.001310509089,
          0.001328266043,
          0.001343226694,
          0.001352867995,
          0.001356239151,
          0.001353885722,
          0.001347475771,
          0.001339252489,
          0.001331450915,
          0.001325807814,
          0.001323261608,
          0.001323884961,
          0.001327029493,
          0.001331630021,
          0.001336453612,
          0.001340501659,
          0.001343118672,
          0.001344070598,
          0.001343502765,
          0.001341828602,
          0.001339588299,
          0.001337311548,
          0.001335410509,
          0.001334119968,
          0.001333490293,
          0.001333425271,
          0.001333745746,
          0.001334255863,
          0.001335747209,
          0.001335750644,
          0.00133569334,
          0.001335657766,
          0.001335571888,
          0.001335814875,
          0.001335924825,
          0.001335562476,
          0.001335526475,
          0.001335914894
         ]
        },
        {
         "line": {
          "color": "blue"
         },
         "mode": "markers",
         "name": "fit",
         "type": "scatter",
         "x": [
          481.8,
          444,
          406.2,
          368.39,
          330.59,
          292.79,
          254.99,
          217.18,
          179.38,
          141.58,
          103.77,
          101.27,
          98.77,
          96.27,
          93.77,
          91.27,
          88.77,
          86.27,
          83.77,
          81.27,
          78.77,
          76.27,
          73.77,
          71.27,
          68.77,
          66.26,
          63.76,
          61.26,
          58.76,
          56.26,
          53.76,
          51.26,
          48.76,
          46.26,
          43.76,
          41.26,
          38.76,
          36.26,
          33.76,
          31.26,
          28.76,
          26.26,
          23.76,
          21.25,
          18.75,
          16.25,
          13.75,
          11.25,
          8.75,
          6.25,
          3.75,
          1.25,
          0,
          -1.25,
          -3.75,
          -6.25,
          -8.75,
          -11.25,
          -13.75,
          -16.25,
          -18.75,
          -21.25,
          -23.76,
          -26.26,
          -28.76,
          -31.26,
          -33.76,
          -36.26,
          -38.76,
          -41.26,
          -43.76,
          -46.26,
          -48.76,
          -51.26,
          -53.76,
          -56.26,
          -58.76,
          -61.26,
          -63.76,
          -66.26,
          -68.77,
          -71.27,
          -73.77,
          -76.27,
          -78.77,
          -81.27,
          -83.77,
          -86.27,
          -88.77,
          -91.27,
          -93.77,
          -96.27,
          -98.77,
          -101.27,
          -103.77,
          -141.58,
          -179.38,
          -217.18,
          -254.99,
          -292.79,
          -330.59,
          -368.39,
          -406.2,
          -444,
          -481.8,
          481.8,
          444,
          406.2,
          368.39,
          330.59,
          292.79,
          254.99,
          217.18,
          179.38,
          141.58,
          103.77,
          101.27,
          98.77,
          96.27,
          93.77,
          91.27,
          88.77,
          86.27,
          83.77,
          81.27,
          78.77,
          76.27,
          73.77,
          71.27,
          68.77,
          66.26,
          63.76,
          61.26,
          58.76,
          56.26,
          53.76,
          51.26,
          48.76,
          46.26,
          43.76,
          41.26,
          38.76,
          36.26,
          33.76,
          31.26,
          28.76,
          26.26,
          23.76,
          21.25,
          18.75,
          16.25,
          13.75,
          11.25,
          8.75,
          6.25,
          3.75,
          1.25,
          0,
          -1.25,
          -3.75,
          -6.25,
          -8.75,
          -11.25,
          -13.75,
          -16.25,
          -18.75,
          -21.25,
          -23.76,
          -26.26,
          -28.76,
          -31.26,
          -33.76,
          -36.26,
          -38.76,
          -41.26,
          -43.76,
          -46.26,
          -48.76,
          -51.26,
          -53.76,
          -56.26,
          -58.76,
          -61.26,
          -63.76,
          -66.26,
          -68.77,
          -71.27,
          -73.77,
          -76.27,
          -78.77,
          -81.27,
          -83.77,
          -86.27,
          -88.77,
          -91.27,
          -93.77,
          -96.27,
          -98.77,
          -101.27,
          -103.77,
          -141.58,
          -179.38,
          -217.18,
          -254.99,
          -292.79,
          -330.59,
          -368.39,
          -406.2,
          -444,
          -481.8
         ],
         "y": [
          0.015594310609833406,
          0.015584257553175829,
          0.015599830043485863,
          0.015582427851678071,
          0.01560063428060432,
          0.015582428610075638,
          0.015597572395826709,
          0.015587101398792824,
          0.015587092372812528,
          0.01558738703250595,
          0.015598371929851917,
          0.015598542525342873,
          0.015595684655607123,
          0.015589109305983007,
          0.015578826433850779,
          0.015565786313184282,
          0.015551955882356583,
          0.015540172068144953,
          0.015533741833997916,
          0.01553579892731205,
          0.015548488930896331,
          0.015572134708656038,
          0.01560460885452053,
          0.01564116665999915,
          0.015674935766059828,
          0.015698171580943332,
          0.01570367049419996,
          0.015687300972528573,
          0.01564918550130523,
          0.015594673036071871,
          0.015534068895846076,
          0.015481130687963085,
          0.01545049509317209,
          0.015454455656572219,
          0.015499705123553142,
          0.015584758509121,
          0.015698754330341735,
          0.01582215738789583,
          0.015929543282986458,
          0.015994171929124112,
          0.015993561960552127,
          0.015914910719197595,
          0.01575910034356298,
          0.015541292547351149,
          0.015293228385275914,
          0.015053416271653353,
          0.014863800789502113,
          0.01476127261622795,
          0.014770338770209501,
          0.014897683364784253,
          0.015129850960956981,
          0.015434736703166418,
          0.015600536444149271,
          0.015766803756130265,
          0.01607512753826401,
          0.016312694257218707,
          0.016445042720243497,
          0.016456434335341164,
          0.01635225695600606,
          0.01615719904755697,
          0.015909678025803564,
          0.015653839032130912,
          0.015430164939192026,
          0.015271535430515515,
          0.015193028999896496,
          0.015194561292530384,
          0.015261949622556448,
          0.015371426958592505,
          0.01549540701731078,
          0.015608203116137975,
          0.01569058809151591,
          0.015732449277221505,
          0.015733259526487298,
          0.015700567674408417,
          0.015647111605531117,
          0.015587380240595694,
          0.015534447116188677,
          0.015497690582118584,
          0.015481692799594438,
          0.015486286453954556,
          0.015507595812895847,
          0.01553906955672435,
          0.015573629309864612,
          0.015604814353340823,
          0.015627909452321287,
          0.01564051859640625,
          0.015642605092798023,
          0.01563606146002061,
          0.015623961864211111,
          0.015609705761367443,
          0.015596263580695435,
          0.015585680679762182,
          0.015578903004743627,
          0.01557589027038353,
          0.0155759134922967,
          0.015586952181883107,
          0.015587111847611412,
          0.01558710975525146,
          0.015597582876701876,
          0.015582428700890216,
          0.015600634215639175,
          0.015582427999172643,
          0.015599830168317563,
          0.01558425765478233,
          0.01559431069822792,
          0.0013998128211312189,
          0.0013997224998576474,
          0.001399854167524528,
          0.0013997034189783264,
          0.0013998597923980949,
          0.001399703393110907,
          0.0013998377831078157,
          0.0013997503293132763,
          0.0013997527098763562,
          0.0013997781003570742,
          0.0014007564532637629,
          0.0014009344460592654,
          0.0014008952182320566,
          0.0014005439031339328,
          0.0013998305011531098,
          0.0013987793239857993,
          0.0013975093686462436,
          0.0013962380457966939,
          0.0013952615501935384,
          0.0013949079922180863,
          0.0013954646574950713,
          0.0013970886062407706,
          0.0013997194822606973,
          0.001403021989501374,
          0.0014063880373600401,
          0.001409028120350042,
          0.001410097760575546,
          0.0014089871448426106,
          0.00140549481628649,
          0.0013999993916918863,
          0.001393498502039181,
          0.001387496891141926,
          0.0013837471047796202,
          0.0013838784390368675,
          0.0013889761627813302,
          0.0013991940923724355,
          0.001413497847951084,
          0.0014296347448147229,
          0.0014443963866880294,
          0.0014541756678980722,
          0.0014557325832703638,
          0.0014470024550462535,
          0.0014277407779272888,
          0.0013996978599890575,
          0.0013669597750605167,
          0.0013346675865026913,
          0.001308530554475884,
          0.0012936680575927895,
          0.0012935976895304124,
          0.0013094629768793942,
          0.0013396589071589249,
          0.0013799603288797702,
          0.001402015282353064,
          0.0014241774155343556,
          0.0014652541543677122,
          0.0014966093377488665,
          0.0015134319435599064,
          0.0015136239484704328,
          0.0014981547077164148,
          0.0014707397119593235,
          0.0014369375692063757,
          0.0014029113156368567,
          0.0013740738484063764,
          0.0013545408110907653,
          0.0013458927341520877,
          0.0013476596894090864,
          0.0013576006447489908,
          0.0013723890503468672,
          0.0013884020642440653,
          0.0014024506816598947,
          0.0014123199614949344,
          0.0014170357783371834,
          0.0014168357685295785,
          0.0014128896794507462,
          0.001406870310389663,
          0.001400500877637656,
          0.0013951894178505508,
          0.0013918149806024793,
          0.0013906754340556882,
          0.0013915642221287161,
          0.0013939356856490503,
          0.001397041777387753,
          0.0014001642057265284,
          0.0014027150294421142,
          0.0014043295109822385,
          0.0014048952618237465,
          0.001404526609422918,
          0.0014034964929608984,
          0.001402146740610788,
          0.001400800693943216,
          0.001399698447015818,
          0.0013989659933675291,
          0.0013986186417135338,
          0.0013985897934926106,
          0.0013987712117451423,
          0.001399721021505651,
          0.0013997476777263262,
          0.001399749011254836,
          0.0013998375065881197,
          0.0013997034315068602,
          0.0013998597858533302,
          0.0013997034214436876,
          0.0013998541763771133,
          0.0013997225071316066,
          0.0013998128277286082
         ]
        }
       ],
       "layout": {
        "template": {
         "data": {
          "bar": [
           {
            "error_x": {
             "color": "#2a3f5f"
            },
            "error_y": {
             "color": "#2a3f5f"
            },
            "marker": {
             "line": {
              "color": "#E5ECF6",
              "width": 0.5
             },
             "pattern": {
              "fillmode": "overlay",
              "size": 10,
              "solidity": 0.2
             }
            },
            "type": "bar"
           }
          ],
          "barpolar": [
           {
            "marker": {
             "line": {
              "color": "#E5ECF6",
              "width": 0.5
             },
             "pattern": {
              "fillmode": "overlay",
              "size": 10,
              "solidity": 0.2
             }
            },
            "type": "barpolar"
           }
          ],
          "carpet": [
           {
            "aaxis": {
             "endlinecolor": "#2a3f5f",
             "gridcolor": "white",
             "linecolor": "white",
             "minorgridcolor": "white",
             "startlinecolor": "#2a3f5f"
            },
            "baxis": {
             "endlinecolor": "#2a3f5f",
             "gridcolor": "white",
             "linecolor": "white",
             "minorgridcolor": "white",
             "startlinecolor": "#2a3f5f"
            },
            "type": "carpet"
           }
          ],
          "choropleth": [
           {
            "colorbar": {
             "outlinewidth": 0,
             "ticks": ""
            },
            "type": "choropleth"
           }
          ],
          "contour": [
           {
            "colorbar": {
             "outlinewidth": 0,
             "ticks": ""
            },
            "colorscale": [
             [
              0,
              "#0d0887"
             ],
             [
              0.1111111111111111,
              "#46039f"
             ],
             [
              0.2222222222222222,
              "#7201a8"
             ],
             [
              0.3333333333333333,
              "#9c179e"
             ],
             [
              0.4444444444444444,
              "#bd3786"
             ],
             [
              0.5555555555555556,
              "#d8576b"
             ],
             [
              0.6666666666666666,
              "#ed7953"
             ],
             [
              0.7777777777777778,
              "#fb9f3a"
             ],
             [
              0.8888888888888888,
              "#fdca26"
             ],
             [
              1,
              "#f0f921"
             ]
            ],
            "type": "contour"
           }
          ],
          "contourcarpet": [
           {
            "colorbar": {
             "outlinewidth": 0,
             "ticks": ""
            },
            "type": "contourcarpet"
           }
          ],
          "heatmap": [
           {
            "colorbar": {
             "outlinewidth": 0,
             "ticks": ""
            },
            "colorscale": [
             [
              0,
              "#0d0887"
             ],
             [
              0.1111111111111111,
              "#46039f"
             ],
             [
              0.2222222222222222,
              "#7201a8"
             ],
             [
              0.3333333333333333,
              "#9c179e"
             ],
             [
              0.4444444444444444,
              "#bd3786"
             ],
             [
              0.5555555555555556,
              "#d8576b"
             ],
             [
              0.6666666666666666,
              "#ed7953"
             ],
             [
              0.7777777777777778,
              "#fb9f3a"
             ],
             [
              0.8888888888888888,
              "#fdca26"
             ],
             [
              1,
              "#f0f921"
             ]
            ],
            "type": "heatmap"
           }
          ],
          "heatmapgl": [
           {
            "colorbar": {
             "outlinewidth": 0,
             "ticks": ""
            },
            "colorscale": [
             [
              0,
              "#0d0887"
             ],
             [
              0.1111111111111111,
              "#46039f"
             ],
             [
              0.2222222222222222,
              "#7201a8"
             ],
             [
              0.3333333333333333,
              "#9c179e"
             ],
             [
              0.4444444444444444,
              "#bd3786"
             ],
             [
              0.5555555555555556,
              "#d8576b"
             ],
             [
              0.6666666666666666,
              "#ed7953"
             ],
             [
              0.7777777777777778,
              "#fb9f3a"
             ],
             [
              0.8888888888888888,
              "#fdca26"
             ],
             [
              1,
              "#f0f921"
             ]
            ],
            "type": "heatmapgl"
           }
          ],
          "histogram": [
           {
            "marker": {
             "pattern": {
              "fillmode": "overlay",
              "size": 10,
              "solidity": 0.2
             }
            },
            "type": "histogram"
           }
          ],
          "histogram2d": [
           {
            "colorbar": {
             "outlinewidth": 0,
             "ticks": ""
            },
            "colorscale": [
             [
              0,
              "#0d0887"
             ],
             [
              0.1111111111111111,
              "#46039f"
             ],
             [
              0.2222222222222222,
              "#7201a8"
             ],
             [
              0.3333333333333333,
              "#9c179e"
             ],
             [
              0.4444444444444444,
              "#bd3786"
             ],
             [
              0.5555555555555556,
              "#d8576b"
             ],
             [
              0.6666666666666666,
              "#ed7953"
             ],
             [
              0.7777777777777778,
              "#fb9f3a"
             ],
             [
              0.8888888888888888,
              "#fdca26"
             ],
             [
              1,
              "#f0f921"
             ]
            ],
            "type": "histogram2d"
           }
          ],
          "histogram2dcontour": [
           {
            "colorbar": {
             "outlinewidth": 0,
             "ticks": ""
            },
            "colorscale": [
             [
              0,
              "#0d0887"
             ],
             [
              0.1111111111111111,
              "#46039f"
             ],
             [
              0.2222222222222222,
              "#7201a8"
             ],
             [
              0.3333333333333333,
              "#9c179e"
             ],
             [
              0.4444444444444444,
              "#bd3786"
             ],
             [
              0.5555555555555556,
              "#d8576b"
             ],
             [
              0.6666666666666666,
              "#ed7953"
             ],
             [
              0.7777777777777778,
              "#fb9f3a"
             ],
             [
              0.8888888888888888,
              "#fdca26"
             ],
             [
              1,
              "#f0f921"
             ]
            ],
            "type": "histogram2dcontour"
           }
          ],
          "mesh3d": [
           {
            "colorbar": {
             "outlinewidth": 0,
             "ticks": ""
            },
            "type": "mesh3d"
           }
          ],
          "parcoords": [
           {
            "line": {
             "colorbar": {
              "outlinewidth": 0,
              "ticks": ""
             }
            },
            "type": "parcoords"
           }
          ],
          "pie": [
           {
            "automargin": true,
            "type": "pie"
           }
          ],
          "scatter": [
           {
            "fillpattern": {
             "fillmode": "overlay",
             "size": 10,
             "solidity": 0.2
            },
            "type": "scatter"
           }
          ],
          "scatter3d": [
           {
            "line": {
             "colorbar": {
              "outlinewidth": 0,
              "ticks": ""
             }
            },
            "marker": {
             "colorbar": {
              "outlinewidth": 0,
              "ticks": ""
             }
            },
            "type": "scatter3d"
           }
          ],
          "scattercarpet": [
           {
            "marker": {
             "colorbar": {
              "outlinewidth": 0,
              "ticks": ""
             }
            },
            "type": "scattercarpet"
           }
          ],
          "scattergeo": [
           {
            "marker": {
             "colorbar": {
              "outlinewidth": 0,
              "ticks": ""
             }
            },
            "type": "scattergeo"
           }
          ],
          "scattergl": [
           {
            "marker": {
             "colorbar": {
              "outlinewidth": 0,
              "ticks": ""
             }
            },
            "type": "scattergl"
           }
          ],
          "scattermapbox": [
           {
            "marker": {
             "colorbar": {
              "outlinewidth": 0,
              "ticks": ""
             }
            },
            "type": "scattermapbox"
           }
          ],
          "scatterpolar": [
           {
            "marker": {
             "colorbar": {
              "outlinewidth": 0,
              "ticks": ""
             }
            },
            "type": "scatterpolar"
           }
          ],
          "scatterpolargl": [
           {
            "marker": {
             "colorbar": {
              "outlinewidth": 0,
              "ticks": ""
             }
            },
            "type": "scatterpolargl"
           }
          ],
          "scatterternary": [
           {
            "marker": {
             "colorbar": {
              "outlinewidth": 0,
              "ticks": ""
             }
            },
            "type": "scatterternary"
           }
          ],
          "surface": [
           {
            "colorbar": {
             "outlinewidth": 0,
             "ticks": ""
            },
            "colorscale": [
             [
              0,
              "#0d0887"
             ],
             [
              0.1111111111111111,
              "#46039f"
             ],
             [
              0.2222222222222222,
              "#7201a8"
             ],
             [
              0.3333333333333333,
              "#9c179e"
             ],
             [
              0.4444444444444444,
              "#bd3786"
             ],
             [
              0.5555555555555556,
              "#d8576b"
             ],
             [
              0.6666666666666666,
              "#ed7953"
             ],
             [
              0.7777777777777778,
              "#fb9f3a"
             ],
             [
              0.8888888888888888,
              "#fdca26"
             ],
             [
              1,
              "#f0f921"
             ]
            ],
            "type": "surface"
           }
          ],
          "table": [
           {
            "cells": {
             "fill": {
              "color": "#EBF0F8"
             },
             "line": {
              "color": "white"
             }
            },
            "header": {
             "fill": {
              "color": "#C8D4E3"
             },
             "line": {
              "color": "white"
             }
            },
            "type": "table"
           }
          ]
         },
         "layout": {
          "annotationdefaults": {
           "arrowcolor": "#2a3f5f",
           "arrowhead": 0,
           "arrowwidth": 1
          },
          "autotypenumbers": "strict",
          "coloraxis": {
           "colorbar": {
            "outlinewidth": 0,
            "ticks": ""
           }
          },
          "colorscale": {
           "diverging": [
            [
             0,
             "#8e0152"
            ],
            [
             0.1,
             "#c51b7d"
            ],
            [
             0.2,
             "#de77ae"
            ],
            [
             0.3,
             "#f1b6da"
            ],
            [
             0.4,
             "#fde0ef"
            ],
            [
             0.5,
             "#f7f7f7"
            ],
            [
             0.6,
             "#e6f5d0"
            ],
            [
             0.7,
             "#b8e186"
            ],
            [
             0.8,
             "#7fbc41"
            ],
            [
             0.9,
             "#4d9221"
            ],
            [
             1,
             "#276419"
            ]
           ],
           "sequential": [
            [
             0,
             "#0d0887"
            ],
            [
             0.1111111111111111,
             "#46039f"
            ],
            [
             0.2222222222222222,
             "#7201a8"
            ],
            [
             0.3333333333333333,
             "#9c179e"
            ],
            [
             0.4444444444444444,
             "#bd3786"
            ],
            [
             0.5555555555555556,
             "#d8576b"
            ],
            [
             0.6666666666666666,
             "#ed7953"
            ],
            [
             0.7777777777777778,
             "#fb9f3a"
            ],
            [
             0.8888888888888888,
             "#fdca26"
            ],
            [
             1,
             "#f0f921"
            ]
           ],
           "sequentialminus": [
            [
             0,
             "#0d0887"
            ],
            [
             0.1111111111111111,
             "#46039f"
            ],
            [
             0.2222222222222222,
             "#7201a8"
            ],
            [
             0.3333333333333333,
             "#9c179e"
            ],
            [
             0.4444444444444444,
             "#bd3786"
            ],
            [
             0.5555555555555556,
             "#d8576b"
            ],
            [
             0.6666666666666666,
             "#ed7953"
            ],
            [
             0.7777777777777778,
             "#fb9f3a"
            ],
            [
             0.8888888888888888,
             "#fdca26"
            ],
            [
             1,
             "#f0f921"
            ]
           ]
          },
          "colorway": [
           "#636efa",
           "#EF553B",
           "#00cc96",
           "#ab63fa",
           "#FFA15A",
           "#19d3f3",
           "#FF6692",
           "#B6E880",
           "#FF97FF",
           "#FECB52"
          ],
          "font": {
           "color": "#2a3f5f"
          },
          "geo": {
           "bgcolor": "white",
           "lakecolor": "white",
           "landcolor": "#E5ECF6",
           "showlakes": true,
           "showland": true,
           "subunitcolor": "white"
          },
          "hoverlabel": {
           "align": "left"
          },
          "hovermode": "closest",
          "mapbox": {
           "style": "light"
          },
          "paper_bgcolor": "white",
          "plot_bgcolor": "#E5ECF6",
          "polar": {
           "angularaxis": {
            "gridcolor": "white",
            "linecolor": "white",
            "ticks": ""
           },
           "bgcolor": "#E5ECF6",
           "radialaxis": {
            "gridcolor": "white",
            "linecolor": "white",
            "ticks": ""
           }
          },
          "scene": {
           "xaxis": {
            "backgroundcolor": "#E5ECF6",
            "gridcolor": "white",
            "gridwidth": 2,
            "linecolor": "white",
            "showbackground": true,
            "ticks": "",
            "zerolinecolor": "white"
           },
           "yaxis": {
            "backgroundcolor": "#E5ECF6",
            "gridcolor": "white",
            "gridwidth": 2,
            "linecolor": "white",
            "showbackground": true,
            "ticks": "",
            "zerolinecolor": "white"
           },
           "zaxis": {
            "backgroundcolor": "#E5ECF6",
            "gridcolor": "white",
            "gridwidth": 2,
            "linecolor": "white",
            "showbackground": true,
            "ticks": "",
            "zerolinecolor": "white"
           }
          },
          "shapedefaults": {
           "line": {
            "color": "#2a3f5f"
           }
          },
          "ternary": {
           "aaxis": {
            "gridcolor": "white",
            "linecolor": "white",
            "ticks": ""
           },
           "baxis": {
            "gridcolor": "white",
            "linecolor": "white",
            "ticks": ""
           },
           "bgcolor": "#E5ECF6",
           "caxis": {
            "gridcolor": "white",
            "linecolor": "white",
            "ticks": ""
           }
          },
          "title": {
           "x": 0.05
          },
          "xaxis": {
           "automargin": true,
           "gridcolor": "white",
           "linecolor": "white",
           "ticks": "",
           "title": {
            "standoff": 15
           },
           "zerolinecolor": "white",
           "zerolinewidth": 2
          },
          "yaxis": {
           "automargin": true,
           "gridcolor": "white",
           "linecolor": "white",
           "ticks": "",
           "title": {
            "standoff": 15
           },
           "zerolinecolor": "white",
           "zerolinewidth": 2
          }
         }
        },
        "title": {
         "text": "Gas=H"
        },
        "xaxis": {
         "title": {
          "text": "wavelengths"
         }
        },
        "yaxis": {
         "title": {
          "text": "ionization probability"
         }
        }
       }
      }
     },
     "metadata": {},
     "output_type": "display_data"
    },
    {
     "name": "stdout",
     "output_type": "stream",
     "text": [
      "current iteration=15\n",
      "residual=8.29729339189516\n",
      "params={'Multiplier': 0.32000000000000006, 'Ip': 0.5, 'αPol': 4.51, 'gamma': 1.5, 'e0': 0.5, 'a0': 1, 'a1': 1.0, 'b0': 1.0, 'b1': 1, 'b2': 1, 'c2': 0.0, 'p1': 3.5, 'd1': 0.22496851712539684}\n"
     ]
    },
    {
     "data": {
      "application/vnd.plotly.v1+json": {
       "config": {
        "plotlyServerURL": "https://plot.ly"
       },
       "data": [
        {
         "line": {
          "color": "red"
         },
         "mode": "markers",
         "name": "numerical data",
         "type": "scatter",
         "x": [
          481.8,
          444,
          406.2,
          368.39,
          330.59,
          292.79,
          254.99,
          217.18,
          179.38,
          141.58,
          103.77,
          101.27,
          98.77,
          96.27,
          93.77,
          91.27,
          88.77,
          86.27,
          83.77,
          81.27,
          78.77,
          76.27,
          73.77,
          71.27,
          68.77,
          66.26,
          63.76,
          61.26,
          58.76,
          56.26,
          53.76,
          51.26,
          48.76,
          46.26,
          43.76,
          41.26,
          38.76,
          36.26,
          33.76,
          31.26,
          28.76,
          26.26,
          23.76,
          21.25,
          18.75,
          16.25,
          13.75,
          11.25,
          8.75,
          6.25,
          3.75,
          1.25,
          0,
          -1.25,
          -3.75,
          -6.25,
          -8.75,
          -11.25,
          -13.75,
          -16.25,
          -18.75,
          -21.25,
          -23.76,
          -26.26,
          -28.76,
          -31.26,
          -33.76,
          -36.26,
          -38.76,
          -41.26,
          -43.76,
          -46.26,
          -48.76,
          -51.26,
          -53.76,
          -56.26,
          -58.76,
          -61.26,
          -63.76,
          -66.26,
          -68.77,
          -71.27,
          -73.77,
          -76.27,
          -78.77,
          -81.27,
          -83.77,
          -86.27,
          -88.77,
          -91.27,
          -93.77,
          -96.27,
          -98.77,
          -101.27,
          -103.77,
          -141.58,
          -179.38,
          -217.18,
          -254.99,
          -292.79,
          -330.59,
          -368.39,
          -406.2,
          -444,
          -481.8,
          481.8,
          444,
          406.2,
          368.39,
          330.59,
          292.79,
          254.99,
          217.18,
          179.38,
          141.58,
          103.77,
          101.27,
          98.77,
          96.27,
          93.77,
          91.27,
          88.77,
          86.27,
          83.77,
          81.27,
          78.77,
          76.27,
          73.77,
          71.27,
          68.77,
          66.26,
          63.76,
          61.26,
          58.76,
          56.26,
          53.76,
          51.26,
          48.76,
          46.26,
          43.76,
          41.26,
          38.76,
          36.26,
          33.76,
          31.26,
          28.76,
          26.26,
          23.76,
          21.25,
          18.75,
          16.25,
          13.75,
          11.25,
          8.75,
          6.25,
          3.75,
          1.25,
          0,
          -1.25,
          -3.75,
          -6.25,
          -8.75,
          -11.25,
          -13.75,
          -16.25,
          -18.75,
          -21.25,
          -23.76,
          -26.26,
          -28.76,
          -31.26,
          -33.76,
          -36.26,
          -38.76,
          -41.26,
          -43.76,
          -46.26,
          -48.76,
          -51.26,
          -53.76,
          -56.26,
          -58.76,
          -61.26,
          -63.76,
          -66.26,
          -68.77,
          -71.27,
          -73.77,
          -76.27,
          -78.77,
          -81.27,
          -83.77,
          -86.27,
          -88.77,
          -91.27,
          -93.77,
          -96.27,
          -98.77,
          -101.27,
          -103.77,
          -141.58,
          -179.38,
          -217.18,
          -254.99,
          -292.79,
          -330.59,
          -368.39,
          -406.2,
          -444,
          -481.8
         ],
         "y": [
          0.01484237932,
          0.01484228537,
          0.01484246561,
          0.01484254209,
          0.01484235537,
          0.01484228719,
          0.01484249906,
          0.01484250332,
          0.01484233051,
          0.01484252199,
          0.01485905484,
          0.0148632988,
          0.01486401343,
          0.01485951562,
          0.0148488598,
          0.01483230601,
          0.01481162783,
          0.01479014736,
          0.01477239929,
          0.01476338109,
          0.01476745389,
          0.01478709684,
          0.01482183451,
          0.01486768832,
          0.01491741609,
          0.01496177018,
          0.0149906358,
          0.01499636747,
          0.01497514801,
          0.01492873601,
          0.01486496835,
          0.01479688431,
          0.01474041323,
          0.01471094658,
          0.01471950233,
          0.01476943655,
          0.01485463246,
          0.01495977346,
          0.01506278449,
          0.01513899206,
          0.01516617633,
          0.01512953167,
          0.01502557238,
          0.01486341196,
          0.01466713069,
          0.0144685185,
          0.01430385861,
          0.01420631572,
          0.01419893396,
          0.01428934864,
          0.01446754611,
          0.01470729493,
          0.01483875309,
          0.01497097248,
          0.01521669734,
          0.01540618407,
          0.01551167553,
          0.01552063552,
          0.01543743965,
          0.01528190534,
          0.01508504139,
          0.01488284664,
          0.01470874167,
          0.01458986125,
          0.01453832837,
          0.01455279809,
          0.01461934117,
          0.01471568838,
          0.01481685623,
          0.01490069053,
          0.01495206359,
          0.01496498719,
          0.01494251632,
          0.0148948132,
          0.01483603237,
          0.01478080169,
          0.01474105646,
          0.01472384948,
          0.01473050415,
          0.01475713893,
          0.01479642971,
          0.01483906778,
          0.01487687472,
          0.01490380768,
          0.01491695296,
          0.01491656375,
          0.01490541692,
          0.01488775349,
          0.01486811493,
          0.01485035533,
          0.01483701727,
          0.01482913515,
          0.0148264119,
          0.01482763527,
          0.01483117752,
          0.01484459509,
          0.01484576933,
          0.01484086576,
          0.01483963434,
          0.01484220562,
          0.01484520588,
          0.01484287873,
          0.01483988713,
          0.01484219138,
          0.01484483685,
          0.001335718541,
          0.001335699113,
          0.001335675168,
          0.001335696866,
          0.001335717348,
          0.001335694027,
          0.001335676809,
          0.001335699534,
          0.001335712833,
          0.001335781798,
          0.001337312932,
          0.001338453641,
          0.001339458487,
          0.001339947841,
          0.001339537689,
          0.001337951475,
          0.001335136284,
          0.001331355354,
          0.001327223104,
          0.001323650218,
          0.001321682363,
          0.001322248055,
          0.00132586998,
          0.001332423074,
          0.001341025888,
          0.001350158325,
          0.001357793443,
          0.001362057523,
          0.001361559762,
          0.001355847933,
          0.001345654187,
          0.001332885141,
          0.00132032358,
          0.001311075274,
          0.001307864123,
          0.001312331781,
          0.001324514126,
          0.001342637648,
          0.001363310935,
          0.001382099617,
          0.001394389714,
          0.001396380021,
          0.001386006003,
          0.001363478964,
          0.00133190205,
          0.001296362159,
          0.001263361397,
          0.001239480837,
          0.001229991905,
          0.001237667178,
          0.001262081762,
          0.00129958843,
          0.00132138307,
          0.001343987886,
          0.001387745688,
          0.001423479852,
          0.001445392499,
          0.001450349722,
          0.001438404064,
          0.001412672351,
          0.001378605376,
          0.001342803742,
          0.001311525225,
          0.001289887355,
          0.001280218518,
          0.001282332321,
          0.001293744828,
          0.001310509089,
          0.001328266043,
          0.001343226694,
          0.001352867995,
          0.001356239151,
          0.001353885722,
          0.001347475771,
          0.001339252489,
          0.001331450915,
          0.001325807814,
          0.001323261608,
          0.001323884961,
          0.001327029493,
          0.001331630021,
          0.001336453612,
          0.001340501659,
          0.001343118672,
          0.001344070598,
          0.001343502765,
          0.001341828602,
          0.001339588299,
          0.001337311548,
          0.001335410509,
          0.001334119968,
          0.001333490293,
          0.001333425271,
          0.001333745746,
          0.001334255863,
          0.001335747209,
          0.001335750644,
          0.00133569334,
          0.001335657766,
          0.001335571888,
          0.001335814875,
          0.001335924825,
          0.001335562476,
          0.001335526475,
          0.001335914894
         ]
        },
        {
         "line": {
          "color": "blue"
         },
         "mode": "markers",
         "name": "fit",
         "type": "scatter",
         "x": [
          481.8,
          444,
          406.2,
          368.39,
          330.59,
          292.79,
          254.99,
          217.18,
          179.38,
          141.58,
          103.77,
          101.27,
          98.77,
          96.27,
          93.77,
          91.27,
          88.77,
          86.27,
          83.77,
          81.27,
          78.77,
          76.27,
          73.77,
          71.27,
          68.77,
          66.26,
          63.76,
          61.26,
          58.76,
          56.26,
          53.76,
          51.26,
          48.76,
          46.26,
          43.76,
          41.26,
          38.76,
          36.26,
          33.76,
          31.26,
          28.76,
          26.26,
          23.76,
          21.25,
          18.75,
          16.25,
          13.75,
          11.25,
          8.75,
          6.25,
          3.75,
          1.25,
          0,
          -1.25,
          -3.75,
          -6.25,
          -8.75,
          -11.25,
          -13.75,
          -16.25,
          -18.75,
          -21.25,
          -23.76,
          -26.26,
          -28.76,
          -31.26,
          -33.76,
          -36.26,
          -38.76,
          -41.26,
          -43.76,
          -46.26,
          -48.76,
          -51.26,
          -53.76,
          -56.26,
          -58.76,
          -61.26,
          -63.76,
          -66.26,
          -68.77,
          -71.27,
          -73.77,
          -76.27,
          -78.77,
          -81.27,
          -83.77,
          -86.27,
          -88.77,
          -91.27,
          -93.77,
          -96.27,
          -98.77,
          -101.27,
          -103.77,
          -141.58,
          -179.38,
          -217.18,
          -254.99,
          -292.79,
          -330.59,
          -368.39,
          -406.2,
          -444,
          -481.8,
          481.8,
          444,
          406.2,
          368.39,
          330.59,
          292.79,
          254.99,
          217.18,
          179.38,
          141.58,
          103.77,
          101.27,
          98.77,
          96.27,
          93.77,
          91.27,
          88.77,
          86.27,
          83.77,
          81.27,
          78.77,
          76.27,
          73.77,
          71.27,
          68.77,
          66.26,
          63.76,
          61.26,
          58.76,
          56.26,
          53.76,
          51.26,
          48.76,
          46.26,
          43.76,
          41.26,
          38.76,
          36.26,
          33.76,
          31.26,
          28.76,
          26.26,
          23.76,
          21.25,
          18.75,
          16.25,
          13.75,
          11.25,
          8.75,
          6.25,
          3.75,
          1.25,
          0,
          -1.25,
          -3.75,
          -6.25,
          -8.75,
          -11.25,
          -13.75,
          -16.25,
          -18.75,
          -21.25,
          -23.76,
          -26.26,
          -28.76,
          -31.26,
          -33.76,
          -36.26,
          -38.76,
          -41.26,
          -43.76,
          -46.26,
          -48.76,
          -51.26,
          -53.76,
          -56.26,
          -58.76,
          -61.26,
          -63.76,
          -66.26,
          -68.77,
          -71.27,
          -73.77,
          -76.27,
          -78.77,
          -81.27,
          -83.77,
          -86.27,
          -88.77,
          -91.27,
          -93.77,
          -96.27,
          -98.77,
          -101.27,
          -103.77,
          -141.58,
          -179.38,
          -217.18,
          -254.99,
          -292.79,
          -330.59,
          -368.39,
          -406.2,
          -444,
          -481.8
         ],
         "y": [
          0.00011320137099646299,
          0.00011305600488353829,
          0.00011329121370140527,
          0.00011303273145146786,
          0.0001133047814287913,
          0.00011303281105956575,
          0.00011325717718591033,
          0.00011309916804325137,
          0.0001130953179626637,
          0.00011309680805871025,
          0.00011315998047056741,
          0.00011319319314562204,
          0.00011321158329946623,
          0.00011320306528195268,
          0.00011315900527919531,
          0.0001130777649375192,
          0.0001129672830773032,
          0.00011284591855065251,
          0.00011274110119585679,
          0.00011268561398691812,
          0.00011271143174063081,
          0.00011284124486687919,
          0.00011307859557230238,
          0.00011339907523910675,
          0.00011374651922579915,
          0.00011403916184771212,
          0.00011418118504757935,
          0.00011409482176760743,
          0.00011374144098841299,
          0.00011314301258413817,
          0.00011238948752889666,
          0.00011163089082233402,
          0.00011105524575438785,
          0.00011085510796071674,
          0.00011118574353852217,
          0.00011211929554444389,
          0.00011360338042532003,
          0.00011543788804457833,
          0.00011728559212720313,
          0.0001187259449587641,
          0.00011934696233129038,
          0.00011885316696913506,
          0.00011715701934633671,
          0.00011441111508003754,
          0.00011103990140615139,
          0.00010759828165829433,
          0.0001047051534007748,
          0.00010291943718854224,
          0.0001026383724828106,
          0.00010402068190984437,
          0.0001069418267662936,
          0.00011099058768249126,
          0.00011324190767747488,
          0.00011551865912728942,
          0.00011974907220313469,
          0.00012293167790378146,
          0.0001245111770454832,
          0.00012425861759846057,
          0.00012232222613817179,
          0.00011917899102531493,
          0.00011550368716672921,
          0.0001120001829242323,
          0.00010923895394665539,
          0.00010759827553485923,
          0.00010716421507450669,
          0.00010780572681867717,
          0.00010922395313395228,
          0.00011103082195285108,
          0.00011283017233376658,
          0.00011429103124227513,
          0.00011520246274909773,
          0.0001154994832860412,
          0.000115254285828148,
          0.00011463656836874225,
          0.0001138566407252739,
          0.00011310966446254067,
          0.00011253639711683583,
          0.00011220722395177685,
          0.00011212693042472743,
          0.00011225201071729529,
          0.00011251299773895607,
          0.00011282893481112666,
          0.00011312921903294804,
          0.00011336031539876945,
          0.00011349282454931053,
          0.00011352282259391444,
          0.00011346809456724838,
          0.00011336019570440392,
          0.000113234573040355,
          0.00011312156160170339,
          0.00011304054233962635,
          0.00011299823260957353,
          0.00011299062690695028,
          0.00011300712455508677,
          0.00011303513262606035,
          0.00011309432686334997,
          0.00011309330681619212,
          0.00011308941937704375,
          0.00011325049882415783,
          0.00011303275126206547,
          0.00011330479472071442,
          0.00011303274729468349,
          0.00011329122009717807,
          0.00011305601189093295,
          0.00011320137687909071,
          0.000006203934793447274,
          0.000006204995034897465,
          0.00000620342896739956,
          0.000006205213172738588,
          0.0000062033586873955215,
          0.00000620522625893738,
          0.000006203437963869796,
          0.000006204118025876504,
          0.000006204550273336551,
          0.000006205040060880407,
          0.000006207292480908677,
          0.000006209717198335518,
          0.000006211902198627328,
          0.000006212985670939197,
          0.00000621209485074381,
          0.000006208640608074134,
          0.000006202601088300952,
          0.000006194692236394239,
          0.000006186377382810804,
          0.000006179722069732385,
          0.000006177103574978027,
          0.000006180747791018071,
          0.000006192063743970522,
          0.000006210848626397869,
          0.000006234615449685066,
          0.000006258518421287107,
          0.0000062756449562551,
          0.000006279190760571929,
          0.000006264125116062225,
          0.000006229240560040594,
          0.00000617836243232972,
          0.000006120464963510486,
          0.000006068647626977786,
          0.0000060380807281879,
          0.000006043028631830261,
          0.000006093124516381998,
          0.000006189424645253183,
          0.000006321363036576599,
          0.000006466144901406956,
          0.000006591835384095468,
          0.000006664228707764508,
          0.000006655933130650382,
          0.000006554838005490282,
          0.000006368137722367884,
          0.000006125329233275245,
          0.000005868117943896856,
          0.000005644510267521774,
          0.000005498871170073194,
          0.000005463698120156124,
          0.000005553404184399646,
          0.00000576049175349258,
          0.000006054777591968374,
          0.000006219720020794739,
          0.000006386799260016396,
          0.000006696224459812328,
          0.000006924532677810014,
          0.000007029032970451432,
          0.00000699378920976379,
          0.000006833445532650195,
          0.00000658840259537552,
          0.000006313132207447225,
          0.00000606190990593003,
          0.000005876103331692306,
          0.000005779908307301795,
          0.000005774660889357186,
          0.0000058455413628477615,
          0.000005966379617805551,
          0.000006106127190541599,
          0.000006235147807398533,
          0.0000063306305599919455,
          0.000006380308075981667,
          0.000006383647945362725,
          0.000006350171530389304,
          0.000006295455814209205,
          0.0000062362009674021834,
          0.000006185989619544863,
          0.000006152888386123934,
          0.000006139146420780506,
          0.000006142435993505835,
          0.0000061577328945849885,
          0.000006179174659948217,
          0.000006200999387862005,
          0.000006218926027923288,
          0.00000623027794499631,
          0.000006234223375312098,
          0.000006231615479412866,
          0.000006224512517860603,
          0.000006215487106553397,
          0.000006206924910268086,
          0.000006200511759701932,
          0.000006197013305397903,
          0.0000061963339779147475,
          0.000006197764178428322,
          0.000006200304138448409,
          0.000006202973714009019,
          0.000006204856372482581,
          0.0000062048241394885295,
          0.0000062051714823097015,
          0.000006203791752534826,
          0.000006205198108677479,
          0.000006203357703404855,
          0.000006205213211041283,
          0.000006203429307682917,
          0.00000620499526227114,
          0.0000062039350184894815
         ]
        }
       ],
       "layout": {
        "template": {
         "data": {
          "bar": [
           {
            "error_x": {
             "color": "#2a3f5f"
            },
            "error_y": {
             "color": "#2a3f5f"
            },
            "marker": {
             "line": {
              "color": "#E5ECF6",
              "width": 0.5
             },
             "pattern": {
              "fillmode": "overlay",
              "size": 10,
              "solidity": 0.2
             }
            },
            "type": "bar"
           }
          ],
          "barpolar": [
           {
            "marker": {
             "line": {
              "color": "#E5ECF6",
              "width": 0.5
             },
             "pattern": {
              "fillmode": "overlay",
              "size": 10,
              "solidity": 0.2
             }
            },
            "type": "barpolar"
           }
          ],
          "carpet": [
           {
            "aaxis": {
             "endlinecolor": "#2a3f5f",
             "gridcolor": "white",
             "linecolor": "white",
             "minorgridcolor": "white",
             "startlinecolor": "#2a3f5f"
            },
            "baxis": {
             "endlinecolor": "#2a3f5f",
             "gridcolor": "white",
             "linecolor": "white",
             "minorgridcolor": "white",
             "startlinecolor": "#2a3f5f"
            },
            "type": "carpet"
           }
          ],
          "choropleth": [
           {
            "colorbar": {
             "outlinewidth": 0,
             "ticks": ""
            },
            "type": "choropleth"
           }
          ],
          "contour": [
           {
            "colorbar": {
             "outlinewidth": 0,
             "ticks": ""
            },
            "colorscale": [
             [
              0,
              "#0d0887"
             ],
             [
              0.1111111111111111,
              "#46039f"
             ],
             [
              0.2222222222222222,
              "#7201a8"
             ],
             [
              0.3333333333333333,
              "#9c179e"
             ],
             [
              0.4444444444444444,
              "#bd3786"
             ],
             [
              0.5555555555555556,
              "#d8576b"
             ],
             [
              0.6666666666666666,
              "#ed7953"
             ],
             [
              0.7777777777777778,
              "#fb9f3a"
             ],
             [
              0.8888888888888888,
              "#fdca26"
             ],
             [
              1,
              "#f0f921"
             ]
            ],
            "type": "contour"
           }
          ],
          "contourcarpet": [
           {
            "colorbar": {
             "outlinewidth": 0,
             "ticks": ""
            },
            "type": "contourcarpet"
           }
          ],
          "heatmap": [
           {
            "colorbar": {
             "outlinewidth": 0,
             "ticks": ""
            },
            "colorscale": [
             [
              0,
              "#0d0887"
             ],
             [
              0.1111111111111111,
              "#46039f"
             ],
             [
              0.2222222222222222,
              "#7201a8"
             ],
             [
              0.3333333333333333,
              "#9c179e"
             ],
             [
              0.4444444444444444,
              "#bd3786"
             ],
             [
              0.5555555555555556,
              "#d8576b"
             ],
             [
              0.6666666666666666,
              "#ed7953"
             ],
             [
              0.7777777777777778,
              "#fb9f3a"
             ],
             [
              0.8888888888888888,
              "#fdca26"
             ],
             [
              1,
              "#f0f921"
             ]
            ],
            "type": "heatmap"
           }
          ],
          "heatmapgl": [
           {
            "colorbar": {
             "outlinewidth": 0,
             "ticks": ""
            },
            "colorscale": [
             [
              0,
              "#0d0887"
             ],
             [
              0.1111111111111111,
              "#46039f"
             ],
             [
              0.2222222222222222,
              "#7201a8"
             ],
             [
              0.3333333333333333,
              "#9c179e"
             ],
             [
              0.4444444444444444,
              "#bd3786"
             ],
             [
              0.5555555555555556,
              "#d8576b"
             ],
             [
              0.6666666666666666,
              "#ed7953"
             ],
             [
              0.7777777777777778,
              "#fb9f3a"
             ],
             [
              0.8888888888888888,
              "#fdca26"
             ],
             [
              1,
              "#f0f921"
             ]
            ],
            "type": "heatmapgl"
           }
          ],
          "histogram": [
           {
            "marker": {
             "pattern": {
              "fillmode": "overlay",
              "size": 10,
              "solidity": 0.2
             }
            },
            "type": "histogram"
           }
          ],
          "histogram2d": [
           {
            "colorbar": {
             "outlinewidth": 0,
             "ticks": ""
            },
            "colorscale": [
             [
              0,
              "#0d0887"
             ],
             [
              0.1111111111111111,
              "#46039f"
             ],
             [
              0.2222222222222222,
              "#7201a8"
             ],
             [
              0.3333333333333333,
              "#9c179e"
             ],
             [
              0.4444444444444444,
              "#bd3786"
             ],
             [
              0.5555555555555556,
              "#d8576b"
             ],
             [
              0.6666666666666666,
              "#ed7953"
             ],
             [
              0.7777777777777778,
              "#fb9f3a"
             ],
             [
              0.8888888888888888,
              "#fdca26"
             ],
             [
              1,
              "#f0f921"
             ]
            ],
            "type": "histogram2d"
           }
          ],
          "histogram2dcontour": [
           {
            "colorbar": {
             "outlinewidth": 0,
             "ticks": ""
            },
            "colorscale": [
             [
              0,
              "#0d0887"
             ],
             [
              0.1111111111111111,
              "#46039f"
             ],
             [
              0.2222222222222222,
              "#7201a8"
             ],
             [
              0.3333333333333333,
              "#9c179e"
             ],
             [
              0.4444444444444444,
              "#bd3786"
             ],
             [
              0.5555555555555556,
              "#d8576b"
             ],
             [
              0.6666666666666666,
              "#ed7953"
             ],
             [
              0.7777777777777778,
              "#fb9f3a"
             ],
             [
              0.8888888888888888,
              "#fdca26"
             ],
             [
              1,
              "#f0f921"
             ]
            ],
            "type": "histogram2dcontour"
           }
          ],
          "mesh3d": [
           {
            "colorbar": {
             "outlinewidth": 0,
             "ticks": ""
            },
            "type": "mesh3d"
           }
          ],
          "parcoords": [
           {
            "line": {
             "colorbar": {
              "outlinewidth": 0,
              "ticks": ""
             }
            },
            "type": "parcoords"
           }
          ],
          "pie": [
           {
            "automargin": true,
            "type": "pie"
           }
          ],
          "scatter": [
           {
            "fillpattern": {
             "fillmode": "overlay",
             "size": 10,
             "solidity": 0.2
            },
            "type": "scatter"
           }
          ],
          "scatter3d": [
           {
            "line": {
             "colorbar": {
              "outlinewidth": 0,
              "ticks": ""
             }
            },
            "marker": {
             "colorbar": {
              "outlinewidth": 0,
              "ticks": ""
             }
            },
            "type": "scatter3d"
           }
          ],
          "scattercarpet": [
           {
            "marker": {
             "colorbar": {
              "outlinewidth": 0,
              "ticks": ""
             }
            },
            "type": "scattercarpet"
           }
          ],
          "scattergeo": [
           {
            "marker": {
             "colorbar": {
              "outlinewidth": 0,
              "ticks": ""
             }
            },
            "type": "scattergeo"
           }
          ],
          "scattergl": [
           {
            "marker": {
             "colorbar": {
              "outlinewidth": 0,
              "ticks": ""
             }
            },
            "type": "scattergl"
           }
          ],
          "scattermapbox": [
           {
            "marker": {
             "colorbar": {
              "outlinewidth": 0,
              "ticks": ""
             }
            },
            "type": "scattermapbox"
           }
          ],
          "scatterpolar": [
           {
            "marker": {
             "colorbar": {
              "outlinewidth": 0,
              "ticks": ""
             }
            },
            "type": "scatterpolar"
           }
          ],
          "scatterpolargl": [
           {
            "marker": {
             "colorbar": {
              "outlinewidth": 0,
              "ticks": ""
             }
            },
            "type": "scatterpolargl"
           }
          ],
          "scatterternary": [
           {
            "marker": {
             "colorbar": {
              "outlinewidth": 0,
              "ticks": ""
             }
            },
            "type": "scatterternary"
           }
          ],
          "surface": [
           {
            "colorbar": {
             "outlinewidth": 0,
             "ticks": ""
            },
            "colorscale": [
             [
              0,
              "#0d0887"
             ],
             [
              0.1111111111111111,
              "#46039f"
             ],
             [
              0.2222222222222222,
              "#7201a8"
             ],
             [
              0.3333333333333333,
              "#9c179e"
             ],
             [
              0.4444444444444444,
              "#bd3786"
             ],
             [
              0.5555555555555556,
              "#d8576b"
             ],
             [
              0.6666666666666666,
              "#ed7953"
             ],
             [
              0.7777777777777778,
              "#fb9f3a"
             ],
             [
              0.8888888888888888,
              "#fdca26"
             ],
             [
              1,
              "#f0f921"
             ]
            ],
            "type": "surface"
           }
          ],
          "table": [
           {
            "cells": {
             "fill": {
              "color": "#EBF0F8"
             },
             "line": {
              "color": "white"
             }
            },
            "header": {
             "fill": {
              "color": "#C8D4E3"
             },
             "line": {
              "color": "white"
             }
            },
            "type": "table"
           }
          ]
         },
         "layout": {
          "annotationdefaults": {
           "arrowcolor": "#2a3f5f",
           "arrowhead": 0,
           "arrowwidth": 1
          },
          "autotypenumbers": "strict",
          "coloraxis": {
           "colorbar": {
            "outlinewidth": 0,
            "ticks": ""
           }
          },
          "colorscale": {
           "diverging": [
            [
             0,
             "#8e0152"
            ],
            [
             0.1,
             "#c51b7d"
            ],
            [
             0.2,
             "#de77ae"
            ],
            [
             0.3,
             "#f1b6da"
            ],
            [
             0.4,
             "#fde0ef"
            ],
            [
             0.5,
             "#f7f7f7"
            ],
            [
             0.6,
             "#e6f5d0"
            ],
            [
             0.7,
             "#b8e186"
            ],
            [
             0.8,
             "#7fbc41"
            ],
            [
             0.9,
             "#4d9221"
            ],
            [
             1,
             "#276419"
            ]
           ],
           "sequential": [
            [
             0,
             "#0d0887"
            ],
            [
             0.1111111111111111,
             "#46039f"
            ],
            [
             0.2222222222222222,
             "#7201a8"
            ],
            [
             0.3333333333333333,
             "#9c179e"
            ],
            [
             0.4444444444444444,
             "#bd3786"
            ],
            [
             0.5555555555555556,
             "#d8576b"
            ],
            [
             0.6666666666666666,
             "#ed7953"
            ],
            [
             0.7777777777777778,
             "#fb9f3a"
            ],
            [
             0.8888888888888888,
             "#fdca26"
            ],
            [
             1,
             "#f0f921"
            ]
           ],
           "sequentialminus": [
            [
             0,
             "#0d0887"
            ],
            [
             0.1111111111111111,
             "#46039f"
            ],
            [
             0.2222222222222222,
             "#7201a8"
            ],
            [
             0.3333333333333333,
             "#9c179e"
            ],
            [
             0.4444444444444444,
             "#bd3786"
            ],
            [
             0.5555555555555556,
             "#d8576b"
            ],
            [
             0.6666666666666666,
             "#ed7953"
            ],
            [
             0.7777777777777778,
             "#fb9f3a"
            ],
            [
             0.8888888888888888,
             "#fdca26"
            ],
            [
             1,
             "#f0f921"
            ]
           ]
          },
          "colorway": [
           "#636efa",
           "#EF553B",
           "#00cc96",
           "#ab63fa",
           "#FFA15A",
           "#19d3f3",
           "#FF6692",
           "#B6E880",
           "#FF97FF",
           "#FECB52"
          ],
          "font": {
           "color": "#2a3f5f"
          },
          "geo": {
           "bgcolor": "white",
           "lakecolor": "white",
           "landcolor": "#E5ECF6",
           "showlakes": true,
           "showland": true,
           "subunitcolor": "white"
          },
          "hoverlabel": {
           "align": "left"
          },
          "hovermode": "closest",
          "mapbox": {
           "style": "light"
          },
          "paper_bgcolor": "white",
          "plot_bgcolor": "#E5ECF6",
          "polar": {
           "angularaxis": {
            "gridcolor": "white",
            "linecolor": "white",
            "ticks": ""
           },
           "bgcolor": "#E5ECF6",
           "radialaxis": {
            "gridcolor": "white",
            "linecolor": "white",
            "ticks": ""
           }
          },
          "scene": {
           "xaxis": {
            "backgroundcolor": "#E5ECF6",
            "gridcolor": "white",
            "gridwidth": 2,
            "linecolor": "white",
            "showbackground": true,
            "ticks": "",
            "zerolinecolor": "white"
           },
           "yaxis": {
            "backgroundcolor": "#E5ECF6",
            "gridcolor": "white",
            "gridwidth": 2,
            "linecolor": "white",
            "showbackground": true,
            "ticks": "",
            "zerolinecolor": "white"
           },
           "zaxis": {
            "backgroundcolor": "#E5ECF6",
            "gridcolor": "white",
            "gridwidth": 2,
            "linecolor": "white",
            "showbackground": true,
            "ticks": "",
            "zerolinecolor": "white"
           }
          },
          "shapedefaults": {
           "line": {
            "color": "#2a3f5f"
           }
          },
          "ternary": {
           "aaxis": {
            "gridcolor": "white",
            "linecolor": "white",
            "ticks": ""
           },
           "baxis": {
            "gridcolor": "white",
            "linecolor": "white",
            "ticks": ""
           },
           "bgcolor": "#E5ECF6",
           "caxis": {
            "gridcolor": "white",
            "linecolor": "white",
            "ticks": ""
           }
          },
          "title": {
           "x": 0.05
          },
          "xaxis": {
           "automargin": true,
           "gridcolor": "white",
           "linecolor": "white",
           "ticks": "",
           "title": {
            "standoff": 15
           },
           "zerolinecolor": "white",
           "zerolinewidth": 2
          },
          "yaxis": {
           "automargin": true,
           "gridcolor": "white",
           "linecolor": "white",
           "ticks": "",
           "title": {
            "standoff": 15
           },
           "zerolinecolor": "white",
           "zerolinewidth": 2
          }
         }
        },
        "title": {
         "text": "Gas=H"
        },
        "xaxis": {
         "title": {
          "text": "wavelengths"
         }
        },
        "yaxis": {
         "title": {
          "text": "ionization probability"
         }
        }
       }
      }
     },
     "metadata": {},
     "output_type": "display_data"
    }
   ],
   "source": [
    "%load_ext autoreload\n",
    "%autoreload\n",
    "from plotly.subplots import make_subplots\n",
    "gas=\"H\"\n",
    "\n",
    "# del params\n",
    "params = Parameters()\n",
    "tmp={'Multiplier': 0.4, 'Ip': 0.5, 'αPol': 4.51, 'gamma': 3, 'e0': 1, 'a0': 1, 'a1': 1.0, 'b0': 1.0, 'b1': 1, 'b2': 1, 'p1': 3.5, 'd1': 0.22496851712539684, 'c2': 1}\n",
    "# @Script: field_functions.pyE  VARY   MIN   MAX  EXPR  BRUTE_STEP)\n",
    "params.add('Multiplier', min=tmp['Multiplier']*0.8, max=tmp['Multiplier']*1.2, value=tmp['Multiplier'], vary=True, expr=None, brute_step=None)\n",
    "IpInit=IpEV_dict.get(gas)/27.2114\n",
    "params.add('Ip', value=IpInit, min=IpInit*0.9, vary=False, max=IpInit*1.1, expr=None, brute_step=None)\n",
    "params.add('αPol', value= αPol_dict.get(gas), vary=False, expr=None, brute_step=None)\n",
    "# @Last Modified By: Manoram Agarwalget(gas), vary=True, expr=None, brute_step=None)\n",
    "# @Last Modified At: 2024-08-07 11:13:46\n",
    "params.add('gamma', value=tmp['gamma'], vary=True, min=tmp['gamma']*0.5, max=tmp['gamma']*2) \n",
    "# gamma is a common parameter, usually used to simultaneously change all vars\n",
    "# the following variables are all defined via gamma in the funciton residuals. And the fit parameters here act as more precise tuning tool\n",
    "params.add('e0', value=tmp[\"e0\"], vary=True, expr=None, brute_step=None, min=0.5, max=5)\n",
    "params.add('a0', value=tmp[\"a0\"], vary=False, expr=None, brute_step=None, min=tmp['a0']*0.5, max=tmp['a0']*1.5)\n",
    "params.add('a1', value=tmp[\"a1\"], vary=False, expr=None, brute_step=None)#, min=0., max=2)\n",
    "params.add('b0', value=tmp['b0'], vary=False)\n",
    "params.add('b1', value=tmp[\"b1\"], min=0, vary=False)#tmp['b1']*0.7, vary=True, max=tmp['b1']*1.3, expr=None, brute_step=None)\n",
    "params.add('b2', value=tmp[\"b2\"], vary=False, expr=None, brute_step=None,min=0)#, min=tmp[\"b2\"]*0.7, max=tmp[\"b2\"]*1.3)\n",
    "params.add('c2', value=tmp['c2'], vary=True, expr=None, brute_step=None, min=0, max=10)\n",
    "params.add('p1', value=tmp[\"p1\"], vary=False)#, expr=None, brute_step=None, min=3.2, max=3.8)\n",
    "params.add('d1', value=tmp[\"d1\"], vary=False, min=0.)\n",
    "\n",
    "\n",
    "# params.add('Multiplier', value=0.4386088877184498, min=0.10, max=0.9, vary=True, expr=None, brute_step=None)\n",
    "# IpInit=IpEV_dict.get(gas)/27.2114\n",
    "# params.add('Ip', value=IpInit, min=IpInit*0.9, vary=False, max=IpInit*1.1, expr=None, brute_step=None)\n",
    "# params.add('αPol', value= αPol_dict.get(gas), vary=False, expr=None, brute_step=None)\n",
    "# gammaInit=2 #3/2/params['Ip'].value\n",
    "# params.add('gamma', value=gammaInit, vary=True, min=gammaInit*0.1, max=gammaInit*3) \n",
    "# # gamma is a common parameter, usually used to simultaneously change all vars\n",
    "# # the following variables are all defined via gamma in the funciton residuals. And the fit parameters here act as more precise tuning tool\n",
    "# params.add('e0', value=4, vary=True, brute_step=None, min=0., max=10)\n",
    "# params.add('a0', value=1, min=0.9, vary=False, max=1.1, expr=None, brute_step=None)\n",
    "# params.add('a1', value=1+0*(params[\"gamma\"]/2-0.25), vary=False, expr=None, brute_step=None)\n",
    "# params.add('b0', value=1+0*(-1+4*params['Ip']-5*params['Ip']**2+2*params['Ip']**3), vary=False)\n",
    "# params.add('b1', value=1, min=0.9, vary=False, max=1.1, expr=None, brute_step=None)\n",
    "# params.add('b2', value=1, min=0.9, max=1.1, vary=False, expr=None, brute_step=None)\n",
    "# params.add('p1', value=3.5, min=2.5, vary=False, max=4.5, expr=None, brute_step=None)\n",
    "# params.add('d1',  expr='0.5/gamma')\n",
    "# params.add('c2', value=1, vary=True, expr=None, brute_step=None, min=0, max=5)\n",
    "\n",
    "\n",
    "\n",
    "print(params.valuesdict())\n",
    "print(params.pretty_print())\n",
    "dataNA=TipToe_data\n",
    "uncertaintyNA=0.05*dataNA.Y.to_numpy()\n",
    "\n",
    "def iterator(params, iter, resid, dummy1, dummy2, dummy3, dummy4):\n",
    "    if iter%5==0 or iter==0:\n",
    "        print(f\"current iteration={iter}\", f\"residual={np.sum((resid*0.01)**2)}\", f\"params={params.valuesdict()}\", sep='\\n')\n",
    "        fig = go.Figure()\n",
    "        data=TipToe_data\n",
    "        fig.add_trace(go.Scatter(x=data.delay, y=data.Y, mode='markers', name='numerical data', line=dict(color='red')))\n",
    "        fig.add_trace(go.Scatter(x=data.delay, y=model_unified(params, data), mode='markers', name='fit', line=dict(color='blue')))\n",
    "        fig.update_layout(title=rf'Gas={gas}',\n",
    "                                    xaxis_title='wavelengths',\n",
    "                                    yaxis_title='ionization probability')\n",
    "        fig.show()\n",
    "        del data\n",
    "        \n",
    "    \n",
    "out = minimize(residuals, params, args=(dataNA, uncertaintyNA, None, None), nan_policy='omit', iter_cb=iterator, method='dual_annealing')\n",
    "fig = go.Figure()\n",
    "data=TipToe_data\n",
    "fig.add_trace(go.Scatter(x=data.delay, y=data.Y, mode='markers', name='numerical data', line=dict(color='red')))\n",
    "fig.add_trace(go.Scatter(x=data.delay, y=model_unified(params, data), mode='markers', name='fit', line=dict(color='blue')))\n",
    "fig.update_layout(title=rf'Gas={gas}',\n",
    "                            xaxis_title='delay',\n",
    "                            yaxis_title='ionization probability')\n",
    "fig.show()\n",
    "out.params.pretty_print()\n",
    "print(out.params.valuesdict())"
   ]
  },
  {
   "cell_type": "code",
   "execution_count": 27,
   "metadata": {},
   "outputs": [
    {
     "name": "stdout",
     "output_type": "stream",
     "text": [
      "Name           Value      Min      Max   Stderr     Vary     Expr Brute_Step\n",
      "Ip               0.5     0.45     0.55     None    False     None     None\n",
      "Multiplier    0.3538    0.283   0.4245     None    False     None     None\n",
      "a0                 1      0.5      1.5     None    False     None     None\n",
      "a1                 1     -inf      inf     None    False     None     None\n",
      "b0                 1     -inf      inf     None    False     None     None\n",
      "b1                 1        0      inf     None     True     None     None\n",
      "b2                 1        0      inf     None    False     None     None\n",
      "c2               2.5       -5       10     None     True     None     None\n",
      "d1             0.225        0      inf     None    False     None     None\n",
      "e0             3.754        0      inf     None    False     None     None\n",
      "gamma          2.223        2    2.445     None    False     None     None\n",
      "p1               3.5     -inf      inf     None    False     None     None\n",
      "αPol            4.51     -inf      inf     None    False     None     None\n"
     ]
    }
   ],
   "source": [
    "params.pretty_print()"
   ]
  },
  {
   "cell_type": "code",
   "execution_count": null,
   "metadata": {},
   "outputs": [
    {
     "name": "stdout",
     "output_type": "stream",
     "text": [
      "{'Multiplier': 0.6165745119213167, 'Ip': 0.5, 'αPol': 4.51, 'gamma': 1.656383091791583, 'e0': 5.000000000000009, 'a0': 1, 'a1': 1.0, 'b0': 1.0, 'b1': 1, 'b2': 1, 'p1': 3.5, 'd1': 0.30186253559204607, 'c2': 4.9999999999999885}\n"
     ]
    }
   ],
   "source": [
    "print(out.params.valuesdict())"
   ]
  },
  {
   "cell_type": "code",
   "execution_count": 79,
   "metadata": {},
   "outputs": [
    {
     "name": "stdout",
     "output_type": "stream",
     "text": [
      "{'Multiplier': 0.3537672860419956, 'Ip': 0.5, 'αPol': 4.51, 'gamma': 2.2225332077079094, 'e0': 3.7538886827392335, 'a0': 1, 'a1': 1.0, 'b0': 1.0, 'b1': 1, 'b2': 1, 'p1': 3.5, 'd1': 0.22496851712539684, 'c2': 5.0}\n"
     ]
    },
    {
     "data": {
      "text/plain": [
       "{'Multiplier': 0.13344736091053536,\n",
       " 'Ip': 0.5,\n",
       " 'αPol': 4.51,\n",
       " 'gamma': 4.0,\n",
       " 'e0': 1.5671052947385071,\n",
       " 'a0': 1,\n",
       " 'a1': 1.0,\n",
       " 'b0': 1.0,\n",
       " 'b1': 1,\n",
       " 'b2': 1,\n",
       " 'p1': 3.5,\n",
       " 'd1': 0.125,\n",
       " 'c2': 2.0}"
      ]
     },
     "execution_count": 79,
     "metadata": {},
     "output_type": "execute_result"
    }
   ],
   "source": [
    "print(out.params.valuesdict())\n",
    "{'Multiplier': 0.13344736091053536, 'Ip': 0.5, 'αPol': 4.51, 'gamma': 4.0, 'e0': 1.5671052947385071, 'a0': 1, 'a1': 1.0, 'b0': 1.0, 'b1': 1, 'b2': 1, 'p1': 3.5, 'd1': 0.125, 'c2': 2.0}"
   ]
  },
  {
   "cell_type": "code",
   "execution_count": null,
   "metadata": {},
   "outputs": [],
   "source": []
  },
  {
   "cell_type": "code",
   "execution_count": 37,
   "metadata": {},
   "outputs": [
    {
     "name": "stdout",
     "output_type": "stream",
     "text": [
      "The autoreload extension is already loaded. To reload it, use:\n",
      "  %reload_ext autoreload\n"
     ]
    },
    {
     "ename": "FileNotFoundError",
     "evalue": "[Errno 2] No such file or directory: '/home/manoram/Mathematica/H.rate'",
     "output_type": "error",
     "traceback": [
      "\u001b[0;31m---------------------------------------------------------------------------\u001b[0m",
      "\u001b[0;31mFileNotFoundError\u001b[0m                         Traceback (most recent call last)",
      "Cell \u001b[0;32mIn[37], line 6\u001b[0m\n\u001b[1;32m      4\u001b[0m params\u001b[38;5;241m=\u001b[39mout\u001b[38;5;241m.\u001b[39mparams\u001b[38;5;241m.\u001b[39mvaluesdict()\n\u001b[1;32m      5\u001b[0m gas\u001b[38;5;241m=\u001b[39m\u001b[38;5;124m\"\u001b[39m\u001b[38;5;124mH\u001b[39m\u001b[38;5;124m\"\u001b[39m\n\u001b[0;32m----> 6\u001b[0m ArminRate\u001b[38;5;241m=\u001b[39m\u001b[43mpd\u001b[49m\u001b[38;5;241;43m.\u001b[39;49m\u001b[43mread_table\u001b[49m\u001b[43m(\u001b[49m\u001b[38;5;124;43mf\u001b[39;49m\u001b[38;5;124;43m\"\u001b[39;49m\u001b[38;5;124;43m/home/manoram/Mathematica/\u001b[39;49m\u001b[38;5;132;43;01m{\u001b[39;49;00m\u001b[43mgas\u001b[49m\u001b[38;5;132;43;01m}\u001b[39;49;00m\u001b[38;5;124;43m.rate\u001b[39;49m\u001b[38;5;124;43m\"\u001b[39;49m\u001b[43m,\u001b[49m\u001b[43m \u001b[49m\u001b[43mcomment\u001b[49m\u001b[38;5;241;43m=\u001b[39;49m\u001b[38;5;124;43m'\u001b[39;49m\u001b[38;5;124;43m#\u001b[39;49m\u001b[38;5;124;43m'\u001b[39;49m\u001b[43m,\u001b[49m\u001b[43m \u001b[49m\u001b[43msep\u001b[49m\u001b[38;5;241;43m=\u001b[39;49m\u001b[38;5;124;43m\"\u001b[39;49m\u001b[38;5;124;43m +\u001b[39;49m\u001b[38;5;124;43m\"\u001b[39;49m\u001b[43m,\u001b[49m\u001b[43m \u001b[49m\u001b[43mengine\u001b[49m\u001b[38;5;241;43m=\u001b[39;49m\u001b[38;5;124;43m'\u001b[39;49m\u001b[38;5;124;43mpython\u001b[39;49m\u001b[38;5;124;43m'\u001b[39;49m\u001b[43m,\u001b[49m\u001b[43m \u001b[49m\u001b[43mnames\u001b[49m\u001b[38;5;241;43m=\u001b[39;49m\u001b[43m[\u001b[49m\u001b[38;5;124;43m\"\u001b[39;49m\u001b[38;5;124;43mfield\u001b[39;49m\u001b[38;5;124;43m\"\u001b[39;49m\u001b[43m,\u001b[49m\u001b[43m \u001b[49m\u001b[38;5;124;43m\"\u001b[39;49m\u001b[38;5;124;43mY\u001b[39;49m\u001b[38;5;124;43m\"\u001b[39;49m\u001b[43m]\u001b[49m\u001b[43m,\u001b[49m\u001b[43m \u001b[49m\u001b[43musecols\u001b[49m\u001b[38;5;241;43m=\u001b[39;49m\u001b[43m[\u001b[49m\u001b[38;5;241;43m0\u001b[39;49m\u001b[43m,\u001b[49m\u001b[38;5;241;43m1\u001b[39;49m\u001b[43m]\u001b[49m\u001b[43m,\u001b[49m\u001b[43m \u001b[49m\u001b[43mskiprows\u001b[49m\u001b[38;5;241;43m=\u001b[39;49m\u001b[38;5;241;43m1\u001b[39;49m\u001b[43m)\u001b[49m\n\u001b[1;32m      7\u001b[0m ArminRate[\u001b[38;5;124m\"\u001b[39m\u001b[38;5;124mFunction_to_fit\u001b[39m\u001b[38;5;124m\"\u001b[39m]\u001b[38;5;241m=\u001b[39m\u001b[38;5;124m\"\u001b[39m\u001b[38;5;124mLog_QSRate\u001b[39m\u001b[38;5;124m\"\u001b[39m\n\u001b[1;32m      8\u001b[0m fig \u001b[38;5;241m=\u001b[39m go\u001b[38;5;241m.\u001b[39mFigure()\n",
      "File \u001b[0;32m~/.local/lib/python3.10/site-packages/pandas/io/parsers/readers.py:1405\u001b[0m, in \u001b[0;36mread_table\u001b[0;34m(filepath_or_buffer, sep, delimiter, header, names, index_col, usecols, dtype, engine, converters, true_values, false_values, skipinitialspace, skiprows, skipfooter, nrows, na_values, keep_default_na, na_filter, verbose, skip_blank_lines, parse_dates, infer_datetime_format, keep_date_col, date_parser, date_format, dayfirst, cache_dates, iterator, chunksize, compression, thousands, decimal, lineterminator, quotechar, quoting, doublequote, escapechar, comment, encoding, encoding_errors, dialect, on_bad_lines, delim_whitespace, low_memory, memory_map, float_precision, storage_options, dtype_backend)\u001b[0m\n\u001b[1;32m   1392\u001b[0m kwds_defaults \u001b[38;5;241m=\u001b[39m _refine_defaults_read(\n\u001b[1;32m   1393\u001b[0m     dialect,\n\u001b[1;32m   1394\u001b[0m     delimiter,\n\u001b[0;32m   (...)\u001b[0m\n\u001b[1;32m   1401\u001b[0m     dtype_backend\u001b[38;5;241m=\u001b[39mdtype_backend,\n\u001b[1;32m   1402\u001b[0m )\n\u001b[1;32m   1403\u001b[0m kwds\u001b[38;5;241m.\u001b[39mupdate(kwds_defaults)\n\u001b[0;32m-> 1405\u001b[0m \u001b[38;5;28;01mreturn\u001b[39;00m \u001b[43m_read\u001b[49m\u001b[43m(\u001b[49m\u001b[43mfilepath_or_buffer\u001b[49m\u001b[43m,\u001b[49m\u001b[43m \u001b[49m\u001b[43mkwds\u001b[49m\u001b[43m)\u001b[49m\n",
      "File \u001b[0;32m~/.local/lib/python3.10/site-packages/pandas/io/parsers/readers.py:620\u001b[0m, in \u001b[0;36m_read\u001b[0;34m(filepath_or_buffer, kwds)\u001b[0m\n\u001b[1;32m    617\u001b[0m _validate_names(kwds\u001b[38;5;241m.\u001b[39mget(\u001b[38;5;124m\"\u001b[39m\u001b[38;5;124mnames\u001b[39m\u001b[38;5;124m\"\u001b[39m, \u001b[38;5;28;01mNone\u001b[39;00m))\n\u001b[1;32m    619\u001b[0m \u001b[38;5;66;03m# Create the parser.\u001b[39;00m\n\u001b[0;32m--> 620\u001b[0m parser \u001b[38;5;241m=\u001b[39m \u001b[43mTextFileReader\u001b[49m\u001b[43m(\u001b[49m\u001b[43mfilepath_or_buffer\u001b[49m\u001b[43m,\u001b[49m\u001b[43m \u001b[49m\u001b[38;5;241;43m*\u001b[39;49m\u001b[38;5;241;43m*\u001b[39;49m\u001b[43mkwds\u001b[49m\u001b[43m)\u001b[49m\n\u001b[1;32m    622\u001b[0m \u001b[38;5;28;01mif\u001b[39;00m chunksize \u001b[38;5;129;01mor\u001b[39;00m iterator:\n\u001b[1;32m    623\u001b[0m     \u001b[38;5;28;01mreturn\u001b[39;00m parser\n",
      "File \u001b[0;32m~/.local/lib/python3.10/site-packages/pandas/io/parsers/readers.py:1620\u001b[0m, in \u001b[0;36mTextFileReader.__init__\u001b[0;34m(self, f, engine, **kwds)\u001b[0m\n\u001b[1;32m   1617\u001b[0m     \u001b[38;5;28mself\u001b[39m\u001b[38;5;241m.\u001b[39moptions[\u001b[38;5;124m\"\u001b[39m\u001b[38;5;124mhas_index_names\u001b[39m\u001b[38;5;124m\"\u001b[39m] \u001b[38;5;241m=\u001b[39m kwds[\u001b[38;5;124m\"\u001b[39m\u001b[38;5;124mhas_index_names\u001b[39m\u001b[38;5;124m\"\u001b[39m]\n\u001b[1;32m   1619\u001b[0m \u001b[38;5;28mself\u001b[39m\u001b[38;5;241m.\u001b[39mhandles: IOHandles \u001b[38;5;241m|\u001b[39m \u001b[38;5;28;01mNone\u001b[39;00m \u001b[38;5;241m=\u001b[39m \u001b[38;5;28;01mNone\u001b[39;00m\n\u001b[0;32m-> 1620\u001b[0m \u001b[38;5;28mself\u001b[39m\u001b[38;5;241m.\u001b[39m_engine \u001b[38;5;241m=\u001b[39m \u001b[38;5;28;43mself\u001b[39;49m\u001b[38;5;241;43m.\u001b[39;49m\u001b[43m_make_engine\u001b[49m\u001b[43m(\u001b[49m\u001b[43mf\u001b[49m\u001b[43m,\u001b[49m\u001b[43m \u001b[49m\u001b[38;5;28;43mself\u001b[39;49m\u001b[38;5;241;43m.\u001b[39;49m\u001b[43mengine\u001b[49m\u001b[43m)\u001b[49m\n",
      "File \u001b[0;32m~/.local/lib/python3.10/site-packages/pandas/io/parsers/readers.py:1880\u001b[0m, in \u001b[0;36mTextFileReader._make_engine\u001b[0;34m(self, f, engine)\u001b[0m\n\u001b[1;32m   1878\u001b[0m     \u001b[38;5;28;01mif\u001b[39;00m \u001b[38;5;124m\"\u001b[39m\u001b[38;5;124mb\u001b[39m\u001b[38;5;124m\"\u001b[39m \u001b[38;5;129;01mnot\u001b[39;00m \u001b[38;5;129;01min\u001b[39;00m mode:\n\u001b[1;32m   1879\u001b[0m         mode \u001b[38;5;241m+\u001b[39m\u001b[38;5;241m=\u001b[39m \u001b[38;5;124m\"\u001b[39m\u001b[38;5;124mb\u001b[39m\u001b[38;5;124m\"\u001b[39m\n\u001b[0;32m-> 1880\u001b[0m \u001b[38;5;28mself\u001b[39m\u001b[38;5;241m.\u001b[39mhandles \u001b[38;5;241m=\u001b[39m \u001b[43mget_handle\u001b[49m\u001b[43m(\u001b[49m\n\u001b[1;32m   1881\u001b[0m \u001b[43m    \u001b[49m\u001b[43mf\u001b[49m\u001b[43m,\u001b[49m\n\u001b[1;32m   1882\u001b[0m \u001b[43m    \u001b[49m\u001b[43mmode\u001b[49m\u001b[43m,\u001b[49m\n\u001b[1;32m   1883\u001b[0m \u001b[43m    \u001b[49m\u001b[43mencoding\u001b[49m\u001b[38;5;241;43m=\u001b[39;49m\u001b[38;5;28;43mself\u001b[39;49m\u001b[38;5;241;43m.\u001b[39;49m\u001b[43moptions\u001b[49m\u001b[38;5;241;43m.\u001b[39;49m\u001b[43mget\u001b[49m\u001b[43m(\u001b[49m\u001b[38;5;124;43m\"\u001b[39;49m\u001b[38;5;124;43mencoding\u001b[39;49m\u001b[38;5;124;43m\"\u001b[39;49m\u001b[43m,\u001b[49m\u001b[43m \u001b[49m\u001b[38;5;28;43;01mNone\u001b[39;49;00m\u001b[43m)\u001b[49m\u001b[43m,\u001b[49m\n\u001b[1;32m   1884\u001b[0m \u001b[43m    \u001b[49m\u001b[43mcompression\u001b[49m\u001b[38;5;241;43m=\u001b[39;49m\u001b[38;5;28;43mself\u001b[39;49m\u001b[38;5;241;43m.\u001b[39;49m\u001b[43moptions\u001b[49m\u001b[38;5;241;43m.\u001b[39;49m\u001b[43mget\u001b[49m\u001b[43m(\u001b[49m\u001b[38;5;124;43m\"\u001b[39;49m\u001b[38;5;124;43mcompression\u001b[39;49m\u001b[38;5;124;43m\"\u001b[39;49m\u001b[43m,\u001b[49m\u001b[43m \u001b[49m\u001b[38;5;28;43;01mNone\u001b[39;49;00m\u001b[43m)\u001b[49m\u001b[43m,\u001b[49m\n\u001b[1;32m   1885\u001b[0m \u001b[43m    \u001b[49m\u001b[43mmemory_map\u001b[49m\u001b[38;5;241;43m=\u001b[39;49m\u001b[38;5;28;43mself\u001b[39;49m\u001b[38;5;241;43m.\u001b[39;49m\u001b[43moptions\u001b[49m\u001b[38;5;241;43m.\u001b[39;49m\u001b[43mget\u001b[49m\u001b[43m(\u001b[49m\u001b[38;5;124;43m\"\u001b[39;49m\u001b[38;5;124;43mmemory_map\u001b[39;49m\u001b[38;5;124;43m\"\u001b[39;49m\u001b[43m,\u001b[49m\u001b[43m \u001b[49m\u001b[38;5;28;43;01mFalse\u001b[39;49;00m\u001b[43m)\u001b[49m\u001b[43m,\u001b[49m\n\u001b[1;32m   1886\u001b[0m \u001b[43m    \u001b[49m\u001b[43mis_text\u001b[49m\u001b[38;5;241;43m=\u001b[39;49m\u001b[43mis_text\u001b[49m\u001b[43m,\u001b[49m\n\u001b[1;32m   1887\u001b[0m \u001b[43m    \u001b[49m\u001b[43merrors\u001b[49m\u001b[38;5;241;43m=\u001b[39;49m\u001b[38;5;28;43mself\u001b[39;49m\u001b[38;5;241;43m.\u001b[39;49m\u001b[43moptions\u001b[49m\u001b[38;5;241;43m.\u001b[39;49m\u001b[43mget\u001b[49m\u001b[43m(\u001b[49m\u001b[38;5;124;43m\"\u001b[39;49m\u001b[38;5;124;43mencoding_errors\u001b[39;49m\u001b[38;5;124;43m\"\u001b[39;49m\u001b[43m,\u001b[49m\u001b[43m \u001b[49m\u001b[38;5;124;43m\"\u001b[39;49m\u001b[38;5;124;43mstrict\u001b[39;49m\u001b[38;5;124;43m\"\u001b[39;49m\u001b[43m)\u001b[49m\u001b[43m,\u001b[49m\n\u001b[1;32m   1888\u001b[0m \u001b[43m    \u001b[49m\u001b[43mstorage_options\u001b[49m\u001b[38;5;241;43m=\u001b[39;49m\u001b[38;5;28;43mself\u001b[39;49m\u001b[38;5;241;43m.\u001b[39;49m\u001b[43moptions\u001b[49m\u001b[38;5;241;43m.\u001b[39;49m\u001b[43mget\u001b[49m\u001b[43m(\u001b[49m\u001b[38;5;124;43m\"\u001b[39;49m\u001b[38;5;124;43mstorage_options\u001b[39;49m\u001b[38;5;124;43m\"\u001b[39;49m\u001b[43m,\u001b[49m\u001b[43m \u001b[49m\u001b[38;5;28;43;01mNone\u001b[39;49;00m\u001b[43m)\u001b[49m\u001b[43m,\u001b[49m\n\u001b[1;32m   1889\u001b[0m \u001b[43m\u001b[49m\u001b[43m)\u001b[49m\n\u001b[1;32m   1890\u001b[0m \u001b[38;5;28;01massert\u001b[39;00m \u001b[38;5;28mself\u001b[39m\u001b[38;5;241m.\u001b[39mhandles \u001b[38;5;129;01mis\u001b[39;00m \u001b[38;5;129;01mnot\u001b[39;00m \u001b[38;5;28;01mNone\u001b[39;00m\n\u001b[1;32m   1891\u001b[0m f \u001b[38;5;241m=\u001b[39m \u001b[38;5;28mself\u001b[39m\u001b[38;5;241m.\u001b[39mhandles\u001b[38;5;241m.\u001b[39mhandle\n",
      "File \u001b[0;32m~/.local/lib/python3.10/site-packages/pandas/io/common.py:873\u001b[0m, in \u001b[0;36mget_handle\u001b[0;34m(path_or_buf, mode, encoding, compression, memory_map, is_text, errors, storage_options)\u001b[0m\n\u001b[1;32m    868\u001b[0m \u001b[38;5;28;01melif\u001b[39;00m \u001b[38;5;28misinstance\u001b[39m(handle, \u001b[38;5;28mstr\u001b[39m):\n\u001b[1;32m    869\u001b[0m     \u001b[38;5;66;03m# Check whether the filename is to be opened in binary mode.\u001b[39;00m\n\u001b[1;32m    870\u001b[0m     \u001b[38;5;66;03m# Binary mode does not support 'encoding' and 'newline'.\u001b[39;00m\n\u001b[1;32m    871\u001b[0m     \u001b[38;5;28;01mif\u001b[39;00m ioargs\u001b[38;5;241m.\u001b[39mencoding \u001b[38;5;129;01mand\u001b[39;00m \u001b[38;5;124m\"\u001b[39m\u001b[38;5;124mb\u001b[39m\u001b[38;5;124m\"\u001b[39m \u001b[38;5;129;01mnot\u001b[39;00m \u001b[38;5;129;01min\u001b[39;00m ioargs\u001b[38;5;241m.\u001b[39mmode:\n\u001b[1;32m    872\u001b[0m         \u001b[38;5;66;03m# Encoding\u001b[39;00m\n\u001b[0;32m--> 873\u001b[0m         handle \u001b[38;5;241m=\u001b[39m \u001b[38;5;28;43mopen\u001b[39;49m\u001b[43m(\u001b[49m\n\u001b[1;32m    874\u001b[0m \u001b[43m            \u001b[49m\u001b[43mhandle\u001b[49m\u001b[43m,\u001b[49m\n\u001b[1;32m    875\u001b[0m \u001b[43m            \u001b[49m\u001b[43mioargs\u001b[49m\u001b[38;5;241;43m.\u001b[39;49m\u001b[43mmode\u001b[49m\u001b[43m,\u001b[49m\n\u001b[1;32m    876\u001b[0m \u001b[43m            \u001b[49m\u001b[43mencoding\u001b[49m\u001b[38;5;241;43m=\u001b[39;49m\u001b[43mioargs\u001b[49m\u001b[38;5;241;43m.\u001b[39;49m\u001b[43mencoding\u001b[49m\u001b[43m,\u001b[49m\n\u001b[1;32m    877\u001b[0m \u001b[43m            \u001b[49m\u001b[43merrors\u001b[49m\u001b[38;5;241;43m=\u001b[39;49m\u001b[43merrors\u001b[49m\u001b[43m,\u001b[49m\n\u001b[1;32m    878\u001b[0m \u001b[43m            \u001b[49m\u001b[43mnewline\u001b[49m\u001b[38;5;241;43m=\u001b[39;49m\u001b[38;5;124;43m\"\u001b[39;49m\u001b[38;5;124;43m\"\u001b[39;49m\u001b[43m,\u001b[49m\n\u001b[1;32m    879\u001b[0m \u001b[43m        \u001b[49m\u001b[43m)\u001b[49m\n\u001b[1;32m    880\u001b[0m     \u001b[38;5;28;01melse\u001b[39;00m:\n\u001b[1;32m    881\u001b[0m         \u001b[38;5;66;03m# Binary mode\u001b[39;00m\n\u001b[1;32m    882\u001b[0m         handle \u001b[38;5;241m=\u001b[39m \u001b[38;5;28mopen\u001b[39m(handle, ioargs\u001b[38;5;241m.\u001b[39mmode)\n",
      "\u001b[0;31mFileNotFoundError\u001b[0m: [Errno 2] No such file or directory: '/home/manoram/Mathematica/H.rate'"
     ]
    }
   ],
   "source": [
    "%load_ext autoreload\n",
    "%autoreload\n",
    "#params={'Multiplier': 0.281726606169747, 'Ip': 0.5, 'αPol': 4.51, 'gamma': 3.0, 'e0': 2.0, 'a0': 1, 'a1': 1.25, 'b0': 0.0, 'b1': 1, 'b2': 5.279312202389168, 'c2': 0.14300061958645038, 'p1': 3.5, 'd1': 0.22769889212516264}\n",
    "params=out.params.valuesdict()\n",
    "gas=\"H\"\n",
    "ArminRate=pd.read_table(f\"/home/manoram/Mathematica/{gas}.rate\", comment='#', sep=\" +\", engine='python', names=[\"field\", \"Y\"], usecols=[0,1], skiprows=1)\n",
    "ArminRate[\"Function_to_fit\"]=\"Log_QSRate\"\n",
    "fig = go.Figure()\n",
    "fig.add_trace(go.Scatter(x=ArminRate.field, y=ArminRate.Y, mode='lines+markers', name='numerical data', line=dict(color='red')))\n",
    "fig.add_trace(go.Scatter(x=ArminRate.field, y=model_unified(out.params, ArminRate), mode='lines', name='numerical data', line=dict(color='blue')))\n",
    "fig.update_layout(title=rf'Gas={gas}',\n",
    "                        xaxis_title='Field Strength',\n",
    "                        yaxis_title='Log(Rate)')\n",
    "fig.show()\n",
    "data=tRecX_data\n",
    "data[\"Function_to_fit\"]=\"IonProb\"\n",
    "groups=data.groupby([\"intens\", \"cep\", \"FWHM_OC\"])\n",
    "for name1, group1 in groups:\n",
    "    # print(name1)\n",
    "    # print(group1.wavel)\n",
    "    fig = go.Figure()\n",
    "    fig.add_trace(go.Scatter(x=group1.wavel, y=group1.Y, mode='lines+markers', name='numerical data', line=dict(color='red')))\n",
    "    fig.add_trace(go.Scatter(x=group1.wavel, y=model_unified(params, group1), mode='lines+markers', name='fit', line=dict(color='blue')))\n",
    "    fig.update_layout(title=rf'Intensity={name1[0]:.2e} W/cm2, cep={name1[1]/np.pi*180:.0f} deg, FWHM_OC={name1[2]:.0f}',\n",
    "                                xaxis_title='wavelengths',\n",
    "                                yaxis_title='ionization probability')\n",
    "    fig.show()\n"
   ]
  },
  {
   "cell_type": "markdown",
   "metadata": {},
   "source": [
    "## Fit for solids"
   ]
  },
  {
   "cell_type": "code",
   "execution_count": 69,
   "metadata": {},
   "outputs": [
    {
     "name": "stdout",
     "output_type": "stream",
     "text": [
      "for consistancy please check that the 2d array was translated correctly into the desired data format\n",
      "          E0    omega0             Y       wavel        intens     fwhmau  \\\n",
      "0   0.009723  0.065090  8.997844e-11  700.000037  3.318024e+12  96.529990   \n",
      "1   0.009723  0.075939  2.539965e-10  600.000006  3.318024e+12  82.739988   \n",
      "2   0.009723  0.091127  1.075815e-09  500.000027  3.318024e+12  68.949993   \n",
      "3   0.009723  0.113908  6.597930e-09  400.000004  3.318024e+12  55.159992   \n",
      "4   0.019447  0.065090  4.203481e-08  700.000037  1.327210e+13  96.529990   \n",
      "5   0.019447  0.075939  6.674729e-08  600.000006  1.327210e+13  82.739988   \n",
      "6   0.019447  0.091127  1.360423e-07  500.000027  1.327210e+13  68.949993   \n",
      "7   0.019447  0.113908  3.234956e-07  400.000004  1.327210e+13  55.159992   \n",
      "8   0.029170  0.065090  9.817439e-07  700.000037  2.986224e+13  96.529990   \n",
      "9   0.029170  0.075939  1.213673e-06  600.000006  2.986224e+13  82.739988   \n",
      "10  0.029170  0.091127  1.685194e-06  500.000027  2.986224e+13  68.949993   \n",
      "11  0.029170  0.113908  2.805124e-06  400.000004  2.986224e+13  55.159992   \n",
      "12  0.038894  0.065090  7.354107e-06  700.000037  5.308841e+13  96.529990   \n",
      "13  0.038894  0.075939  8.188090e-06  600.000006  5.308841e+13  82.739988   \n",
      "14  0.038894  0.091127  1.037454e-05  500.000027  5.308841e+13  68.949993   \n",
      "15  0.038894  0.113908  1.407916e-05  400.000004  5.308841e+13  55.159992   \n",
      "\n",
      "    FWHM_OC  cep  \n",
      "0       1.0    0  \n",
      "1       1.0    0  \n",
      "2       1.0    0  \n",
      "3       1.0    0  \n",
      "4       1.0    0  \n",
      "5       1.0    0  \n",
      "6       1.0    0  \n",
      "7       1.0    0  \n",
      "8       1.0    0  \n",
      "9       1.0    0  \n",
      "10      1.0    0  \n",
      "11      1.0    0  \n",
      "12      1.0    0  \n",
      "13      1.0    0  \n",
      "14      1.0    0  \n",
      "15      1.0    0  \n"
     ]
    }
   ],
   "source": [
    "E0 = np.array([0.00972345, 0.0194469,  0.02917036, 0.03889381]) # peak electric field in atomic units\n",
    "omega0 = np.array([0.0650905,  0.07593892, 0.0911267,  0.11390838]) # atomic units\n",
    "fwhm = 2*np.pi / omega0\n",
    "n_e = np.array([[8.99784392e-11, 2.53996521e-10, 1.07581469e-09, 6.59793050e-09],\n",
    " [4.20348094e-08, 6.67472929e-08, 1.36042333e-07, 3.23495614e-07],\n",
    " [9.81743929e-07, 1.21367327e-06, 1.68519371e-06, 2.80512395e-06],\n",
    " [7.35410652e-06, 8.18809011e-06, 1.03745443e-05, 1.40791601e-05]]) # n_e(E0, omega0)\n",
    "df=pd.DataFrame(n_e, columns=omega0, index=E0)\n",
    "df=df.stack().reset_index(name='Y').rename(columns={'level_0':'E0', 'level_1': 'omega0'})\n",
    "print(\"for consistancy please check that the 2d array was translated correctly into the desired data format\")\n",
    "df[\"wavel\"]=137.035999/(df.omega0/2/np.pi)*5.2917721e-2 \n",
    "df[\"intens\"]= df.E0**2*1e15/0.02849451308\n",
    "df[\"fwhmau\"]=2*np.pi/df.omega0\n",
    "df[\"FWHM_OC\"]= df.fwhmau*df.omega0/2/np.pi\n",
    "df[\"cep\"]= 0\n",
    "SiO2_data=df\n",
    "print(SiO2_data)"
   ]
  },
  {
   "cell_type": "code",
   "execution_count": 82,
   "metadata": {},
   "outputs": [
    {
     "name": "stdout",
     "output_type": "stream",
     "text": [
      "current iteration=1\n",
      "residual=2864.903890051612\n",
      "params={'Multiplier': 0.9999999999999999, 'Ip': 0.32927376026224303, 'αPol': 6.16, 'gamma': 4.555479910714285, 'e0': 2.5184933035714288, 'a0': 1.0, 'a1': 2.0277399553571427, 'b0': -0.15361048644810626, 'b1': 1.0, 'b2': 0.0, 'c2': 1.0, 'p1': 3.5, 'd1': 0.9999999999999998}\n",
      "current iteration=2\n",
      "residual=3245.8182507987417\n",
      "params={'Multiplier': 1.0754516956324216, 'Ip': 0.32927376026224303, 'αPol': 6.16, 'gamma': 4.555479910714285, 'e0': 2.5184933035714288, 'a0': 1.0, 'a1': 2.0277399553571427, 'b0': -0.15361048644810626, 'b1': 1.0, 'b2': 0.0, 'c2': 1.0, 'p1': 3.5, 'd1': 0.9999999999999998}\n",
      "current iteration=3\n",
      "residual=2865.723669372871\n",
      "params={'Multiplier': 0.9999999999999999, 'Ip': 0.32927376026224303, 'αPol': 6.16, 'gamma': 4.555707684707449, 'e0': 2.5184933035714288, 'a0': 1.0, 'a1': 2.0277399553571427, 'b0': -0.15361048644810626, 'b1': 1.0, 'b2': 0.0, 'c2': 1.0, 'p1': 3.5, 'd1': 0.9999999999999998}\n",
      "current iteration=4\n",
      "residual=3188.5691288299295\n",
      "params={'Multiplier': 0.9999999999999999, 'Ip': 0.32927376026224303, 'αPol': 6.16, 'gamma': 4.555479910714285, 'e0': 2.6805195459096365, 'a0': 1.0, 'a1': 2.0277399553571427, 'b0': -0.15361048644810626, 'b1': 1.0, 'b2': 0.0, 'c2': 1.0, 'p1': 3.5, 'd1': 0.9999999999999998}\n",
      "current iteration=5\n",
      "residual=2864.9345815116903\n",
      "params={'Multiplier': 0.9999999999999999, 'Ip': 0.32927376026224303, 'αPol': 6.16, 'gamma': 4.555479910714285, 'e0': 2.5184933035714288, 'a0': 1.0000499999994792, 'a1': 2.0277399553571427, 'b0': -0.15361048644810626, 'b1': 1.0, 'b2': 0.0, 'c2': 1.0, 'p1': 3.5, 'd1': 0.9999999999999998}\n",
      "current iteration=6\n",
      "residual=2857.1099081691473\n",
      "params={'Multiplier': 0.9999999999999999, 'Ip': 0.32927376026224303, 'αPol': 6.16, 'gamma': 4.555479910714285, 'e0': 2.5184933035714288, 'a0': 1.0, 'a1': 2.0277399553571427, 'b0': -0.16129101077051158, 'b1': 1.0, 'b2': 0.0, 'c2': 1.0, 'p1': 3.5, 'd1': 0.9999999999999998}\n",
      "current iteration=7\n",
      "residual=2864.9853998112294\n",
      "params={'Multiplier': 0.9999999999999999, 'Ip': 0.32927376026224303, 'αPol': 6.16, 'gamma': 4.555479910714285, 'e0': 2.5184933035714288, 'a0': 1.0, 'a1': 2.0277399553571427, 'b0': -0.15361048644810626, 'b1': 1.0000249999997397, 'b2': 0.0, 'c2': 1.0, 'p1': 3.5, 'd1': 0.9999999999999998}\n",
      "current iteration=8\n",
      "residual=2864.903916066556\n",
      "params={'Multiplier': 0.9999999999999999, 'Ip': 0.32927376026224303, 'αPol': 6.16, 'gamma': 4.555479910714285, 'e0': 2.5184933035714288, 'a0': 1.0, 'a1': 2.0277399553571427, 'b0': -0.15361048644810626, 'b1': 1.0, 'b2': 3.1249999477012125e-08, 'c2': 1.0, 'p1': 3.5, 'd1': 0.9999999999999998}\n",
      "current iteration=9\n",
      "residual=2864.903890051612\n",
      "params={'Multiplier': 0.9999999999999999, 'Ip': 0.32927376026224303, 'αPol': 6.16, 'gamma': 4.555479910714285, 'e0': 2.5184933035714288, 'a0': 1.0, 'a1': 2.0277399553571427, 'b0': -0.15361048644810626, 'b1': 1.0, 'b2': 0.0, 'c2': 0.9880216184860638, 'p1': 3.5, 'd1': 0.9999999999999998}\n",
      "current iteration=10\n",
      "residual=2864.29541565666\n",
      "params={'Multiplier': 0.9999999999999999, 'Ip': 0.32927376026224303, 'αPol': 6.16, 'gamma': 4.555479910714285, 'e0': 2.5184933035714288, 'a0': 1.0, 'a1': 2.0277399553571427, 'b0': -0.15361048644810626, 'b1': 1.0, 'b2': 0.0, 'c2': 1.0, 'p1': 3.5001999999979168, 'd1': 0.9999999999999998}\n",
      "current iteration=11\n",
      "residual=2332.330692766209\n",
      "params={'Multiplier': 0.9999999999999999, 'Ip': 0.32927376026224303, 'αPol': 6.16, 'gamma': 4.555479910714285, 'e0': 2.5184933035714288, 'a0': 1.0, 'a1': 2.0277399553571427, 'b0': -0.15361048644810626, 'b1': 1.0, 'b2': 0.0, 'c2': 1.0, 'p1': 3.5, 'd1': 1.0754517580517255}\n",
      "current iteration=12\n",
      "residual=2455.7623123802473\n",
      "params={'Multiplier': 0.9254870139717718, 'Ip': 0.32927376026224303, 'αPol': 6.16, 'gamma': 4.555525465513374, 'e0': 2.5508490547100493, 'a0': 1.0000099999999958, 'a1': 2.0277399553571427, 'b0': -0.1551465913125873, 'b1': 1.000004999999998, 'b2': 1.2499998813808588e-09, 'c2': 0.9975984384063045, 'p1': 3.5000399999999834, 'd1': 1.0150186103358942}\n",
      "current iteration=13\n",
      "residual=2373.3284894034887\n",
      "params={'Multiplier': 0.9850189041008627, 'Ip': 0.32927376026224303, 'αPol': 6.16, 'gamma': 4.555534576473182, 'e0': 2.363562671191313, 'a0': 1.0000119999999928, 'a1': 2.0277399553571427, 'b0': -0.15545381228548355, 'b1': 1.0000059999999964, 'b2': 1.7999999268880629e-09, 'c2': 0.9971184749959123, 'p1': 3.500047999999971, 'd1': 1.0180267589900778}\n",
      "current iteration=14\n",
      "residual=2568.545191383195\n",
      "params={'Multiplier': 0.9820272600240635, 'Ip': 0.32927376026224303, 'αPol': 6.16, 'gamma': 4.555272180832157, 'e0': 2.4939203680549054, 'a0': 1.0000143999999875, 'a1': 2.0277399553571427, 'b0': -0.15582247745295896, 'b1': 1.0000071999999938, 'b2': 2.5919999480095157e-09, 'c2': 0.9965426731256927, 'p1': 3.50005759999995, 'd1': 1.0216384642165863}\n",
      "current iteration=15\n",
      "residual=2513.2479429192726\n",
      "params={'Multiplier': 0.9784393221044655, 'Ip': 0.32927376026224303, 'αPol': 6.16, 'gamma': 4.555458408849109, 'e0': 2.4890076199096045, 'a0': 1.0000172799999785, 'a1': 2.0277399553571427, 'b0': -0.15626487565392955, 'b1': 0.9999786400001625, 'b2': 3.732479880724782e-09, 'c2': 0.995851933472678, 'p1': 3.500069119999914, 'd1': 1.0259752701353486}\n",
      "current iteration=16\n",
      "residual=2447.6773133847905\n",
      "params={'Multiplier': 0.974136743115598, 'Ip': 0.32927376026224303, 'αPol': 6.16, 'gamma': 4.5554541084760745, 'e0': 2.4831131394947525, 'a0': 0.9999607360002523, 'a1': 2.0277399553571427, 'b0': -0.15679575349509423, 'b1': 0.9999993680000001, 'b2': 5.3747710726526066e-09, 'c2': 0.9950233673035372, 'p1': 3.5000829439998515, 'd1': 1.0311833853908903}\n",
      "current iteration=17\n",
      "residual=2370.9641942333883\n",
      "params={'Multiplier': 0.9689779194322808, 'Ip': 0.32927376026224303, 'αPol': 6.16, 'gamma': 4.555448948028435, 'e0': 2.4760409460487307, 'a0': 1.0000028831999999, 'a1': 2.0277399553571427, 'b0': -0.1574328069044918, 'b1': 0.9999992416000001, 'b2': 1.5414870269125913e-08, 'c2': 0.9940295522627727, 'p1': 3.500099532799743, 'd1': 1.0374387649514074}\n",
      "current iteration=18\n",
      "residual=2281.6793768949924\n",
      "params={'Multiplier': 0.9627935304312168, 'Ip': 0.32927376026224303, 'αPol': 6.16, 'gamma': 4.555442755491267, 'e0': 2.4675560280473494, 'a0': 1.0000034598399998, 'a1': 2.0277399553571427, 'b0': -0.1581972709957689, 'b1': 0.9999990899200001, 'b2': 7.722134043319784e-10, 'c2': 1.007255697536065, 'p1': 3.5001194393595565, 'd1': 1.0449532684475886}\n",
      "current iteration=19\n",
      "residual=2031.3486935269805\n",
      "params={'Multiplier': 0.9442815649164648, 'Ip': 0.32927376026224303, 'αPol': 6.16, 'gamma': 4.555424177879777, 'e0': 2.442112627488556, 'a0': 1.0000051897599995, 'a1': 2.0277399553571427, 'b0': -0.16049066326960026, 'b1': 0.9999986348800001, 'b2': 1.7374803817915563e-09, 'c2': 1.0169411481693846, 'p1': 3.5001791590385025, 'd1': 1.0675485309425197}\n",
      "current iteration=20\n",
      "residual=2128.4073117078647\n",
      "params={'Multiplier': 0.9516788691594481, 'Ip': 0.32927376026224303, 'αPol': 6.16, 'gamma': 4.555431608924371, 'e0': 2.452287930032783, 'a0': 1.0000044977919995, 'a1': 2.0277399553571427, 'b0': -0.15957330636006772, 'b1': 0.9999988168960001, 'b2': 1.3050409641834904e-09, 'c2': 0.9986024683889166, 'p1': 3.500155271167025, 'd1': 1.0585012059572043}\n",
      "current iteration=21\n",
      "residual=2003.5616375319514\n",
      "params={'Multiplier': 0.9420643397094041, 'Ip': 0.32927376026224303, 'αPol': 6.16, 'gamma': 4.5554219485664005, 'e0': 2.439060576154434, 'a0': 1.0000053973503993, 'a1': 2.0277399553571427, 'b0': -0.16076587034245998, 'b1': 0.9999985802752, 'b2': 1.8792589706606577e-09, 'c2': 0.9983230798152458, 'p1': 3.4999463254016403, 'd1': 1.0702650963138178}\n",
      "current iteration=22\n",
      "residual=1666.131207763723\n",
      "params={'Multiplier': 0.9133246437778512, 'Ip': 0.32927376026224303, 'αPol': 6.16, 'gamma': 4.555392967492531, 'e0': 2.399406917342878, 'a0': 1.0000080960255977, 'a1': 2.0277399553571427, 'b0': -0.16434356228963687, 'b1': 0.9999978704128002, 'b2': 4.2283325729641774e-09, 'c2': 0.9974851503776987, 'p1': 3.499819488103932, 'd1': 1.1056776708424159}\n",
      "current iteration=23\n",
      "residual=1800.060960815132\n",
      "params={'Multiplier': 0.9248015606469752, 'Ip': 0.32927376026224303, 'αPol': 6.16, 'gamma': 4.55540455992207, 'e0': 2.4152632129457947, 'a0': 1.0000070165555186, 'a1': 2.0277399553571427, 'b0': -0.1536958563238797, 'b1': 0.9999981543577602, 'b2': 3.175947504985288e-09, 'c2': 0.9978202795776687, 'p1': 3.500110223021731, 'd1': 1.0914912219992203}\n",
      "current iteration=24\n",
      "residual=1871.9454548014314\n",
      "params={'Multiplier': 0.9311801446959053, 'Ip': 0.32927376026224303, 'αPol': 6.16, 'gamma': 4.555638765623433, 'e0': 2.4240635810105333, 'a0': 0.9999911398666269, 'a1': 2.0277399553571427, 'b0': -0.15873906541561644, 'b1': 0.9999891452293334, 'b2': 4.267519670975162e-11, 'c2': 1.0015358935039642, 'p1': 3.5000631476264306, 'd1': 1.08363254150537}\n",
      "current iteration=25\n",
      "residual=1803.132251093315\n",
      "params={'Multiplier': 0.9253287791959549, 'Ip': 0.32927376026224303, 'αPol': 6.16, 'gamma': 4.5554886089605136, 'e0': 2.415990929385139, 'a0': 0.9999830318399692, 'a1': 2.0277399553571427, 'b0': -0.15879150516698332, 'b1': 1.000019806275045, 'b2': 2.1205148748038027e-10, 'c2': 1.0033677314887206, 'p1': 3.500050433151762, 'd1': 1.0908409697362833}\n",
      "current iteration=26\n",
      "residual=1726.059796038227\n",
      "params={'Multiplier': 0.9782475976572195, 'Ip': 0.32927376026224303, 'αPol': 6.16, 'gamma': 4.555414180985709, 'e0': 2.3275039781825857, 'a0': 0.9999849182079529, 'a1': 2.0277399553571427, 'b0': -0.16063877227920476, 'b1': 0.9999964075302101, 'b2': 1.4237500067793007e-12, 'c2': 1.0027710169568893, 'p1': 3.5000816397820125, 'd1': 1.1172131968690264}\n",
      "current iteration=27\n",
      "residual=1620.8054123380969\n",
      "params={'Multiplier': 0.9303768147010884, 'Ip': 0.32927376026224303, 'αPol': 6.16, 'gamma': 4.55547755252489, 'e0': 2.3638567407017628, 'a0': 1.0000390186492787, 'a1': 2.0277399553571427, 'b0': -0.15975821385351985, 'b1': 1.000001447436251, 'b2': 2.6202293668120546e-09, 'c2': 1.0069111668314399, 'p1': 3.5000384349385705, 'd1': 1.1181347403596957}\n",
      "current iteration=28\n",
      "residual=1310.305777381683\n",
      "params={'Multiplier': 0.9086307166224118, 'Ip': 0.32927376026224303, 'αPol': 6.16, 'gamma': 4.5554892745492985, 'e0': 2.3043791559855507, 'a0': 1.0000781599722999, 'a1': 2.0277399553571427, 'b0': -0.16123944403273266, 'b1': 1.0000024871543765, 'b2': 1.2868334398064007e-08, 'c2': 1.012881017481277, 'p1': 3.5000161804078767, 'd1': 1.162007630224231}\n",
      "current iteration=29\n",
      "residual=1491.814465009359\n",
      "params={'Multiplier': 0.9044243527568, 'Ip': 0.32927376026224303, 'αPol': 6.16, 'gamma': 4.555388024143119, 'e0': 2.4715242209978663, 'a0': 1.0000009866443842, 'a1': 2.0277399553571427, 'b0': -0.1622572814125804, 'b1': 0.9999941128671299, 'b2': 2.6496520533214607e-09, 'c2': 1.007960543102476, 'p1': 3.500067015020082, 'd1': 1.1605072877709466}\n",
      "current iteration=30\n",
      "residual=1353.4178608488771\n",
      "params={'Multiplier': 0.9074195388096601, 'Ip': 0.32927376026224303, 'αPol': 6.16, 'gamma': 4.555461467810658, 'e0': 2.3581593584266676, 'a0': 1.000009724133257, 'a1': 2.0277399553571427, 'b0': -0.16124318169518992, 'b1': 0.9999998455205519, 'b2': 1.6807734093404747e-08, 'c2': 1.0138725578049084, 'p1': 3.5000089786641926, 'd1': 1.1655485159468792}\n",
      "current iteration=31\n",
      "residual=1214.9272254029859\n",
      "params={'Multiplier': 0.8587231778646286, 'Ip': 0.32927376026224303, 'αPol': 6.16, 'gamma': 4.555426816544104, 'e0': 2.2839528041593518, 'a0': 1.0000145521599004, 'a1': 2.0277399553571427, 'b0': -0.16659204120099214, 'b1': 0.9999990562246622, 'b2': 9.87024018073157e-10, 'c2': 1.0106390775035403, 'p1': 3.5001103071966817, 'd1': 1.1451140968323217}\n",
      "current iteration=32\n",
      "residual=849.4900411491991\n",
      "params={'Multiplier': 0.7896255146262569, 'Ip': 0.32927376026224303, 'αPol': 6.16, 'gamma': 4.555400269459069, 'e0': 2.167299765021819, 'a0': 1.0000218282398263, 'a1': 2.0277399553571427, 'b0': -0.17308281857743507, 'b1': 0.9999985843369933, 'b2': 2.2208039851534522e-09, 'c2': 1.0159789801728376, 'p1': 3.500165460794367, 'd1': 1.1801871022257422}\n",
      "current iteration=33\n",
      "residual=1127.4431530462975\n",
      "params={'Multiplier': 0.8736320192492731, 'Ip': 0.32927376026224303, 'αPol': 6.16, 'gamma': 4.555468850440935, 'e0': 2.292824928131332, 'a0': 1.000013520457477, 'a1': 2.0277399553571427, 'b0': -0.1633311237325042, 'b1': 1.000000192816861, 'b2': 6.292077969760612e-12, 'c2': 1.0155309608649812, 'p1': 3.4999570739545613, 'd1': 1.1867825845708646}\n",
      "current iteration=34\n",
      "residual=1049.5186435166368\n",
      "params={'Multiplier': 0.866897177812379, 'Ip': 0.32927376026224303, 'αPol': 6.16, 'gamma': 4.555485215997779, 'e0': 2.2731692289718346, 'a0': 1.000014494628972, 'a1': 2.0277399553571427, 'b0': -0.1629818589155524, 'b1': 1.0000006864202329, 'b2': 2.8576030430826904e-10, 'c2': 0.9969252674612956, 'p1': 3.499888769065807, 'd1': 1.2016284200897362}\n",
      "current iteration=35\n",
      "residual=1016.3916186573215\n",
      "params={'Multiplier': 0.8670418374983121, 'Ip': 0.32927376026224303, 'αPol': 6.16, 'gamma': 4.555239918330767, 'e0': 2.261025943304571, 'a0': 1.00003321547468, 'a1': 2.0277399553571427, 'b0': -0.16558201546952334, 'b1': 1.0000124843090727, 'b2': 1.838358354433467e-10, 'c2': 1.0113683357178327, 'p1': 3.4999699047667505, 'd1': 1.2090549722059598}\n",
      "current iteration=36\n",
      "residual=939.9338010477969\n",
      "params={'Multiplier': 0.8612374227795901, 'Ip': 0.32927376026224303, 'αPol': 6.16, 'gamma': 4.555340336865758, 'e0': 2.238148839449742, 'a0': 1.0000513602279202, 'a1': 2.0277399553571427, 'b0': -0.16688767777866453, 'b1': 0.9999803588701552, 'b2': 1.6222643228758216e-09, 'c2': 1.0111317932920343, 'p1': 3.4999665135644435, 'd1': 1.2255656960970094}\n",
      "current iteration=37\n",
      "residual=823.4190155219712\n",
      "params={'Multiplier': 0.8491451319545934, 'Ip': 0.32927376026224303, 'αPol': 6.16, 'gamma': 4.555411541292452, 'e0': 2.203565843233499, 'a0': 1.000036244247308, 'a1': 2.0277399553571427, 'b0': -0.17462169091272514, 'b1': 0.9999984516898971, 'b2': 1.1462173432619238e-09, 'c2': 1.019394491603322, 'p1': 3.4998779818030927, 'd1': 1.2519792891819779}\n",
      "current iteration=38\n",
      "residual=546.6589807239175\n",
      "params={'Multiplier': 0.8117799999298013, 'Ip': 0.32927376026224303, 'αPol': 6.16, 'gamma': 4.555415031977644, 'e0': 2.09826291680132, 'a0': 1.0000508580929515, 'a1': 2.0277399553571427, 'b0': -0.18508460820714784, 'b1': 0.9999986003559657, 'b2': 6.23492191209607e-09, 'c2': 1.0302626780025985, 'p1': 3.4997618611964065, 'd1': 1.3333398586482819}\n",
      "current iteration=39\n",
      "residual=671.81771258762\n",
      "params={'Multiplier': 0.7646575471789486, 'Ip': 0.32927376026224303, 'αPol': 6.16, 'gamma': 4.555402090427201, 'e0': 2.2450608226545947, 'a0': 1.000071530570675, 'a1': 2.0277399553571427, 'b0': -0.17256794214298876, 'b1': 1.0000006370825991, 'b2': 2.7831070781303424e-11, 'c2': 1.0199046101258729, 'p1': 3.4998426093257082, 'd1': 1.2691720415001546}\n",
      "current iteration=40\n",
      "residual=585.531359045549\n",
      "params={'Multiplier': 0.7979582413946332, 'Ip': 0.32927376026224303, 'αPol': 6.16, 'gamma': 4.555425128507334, 'e0': 2.1427960855707195, 'a0': 1.000061039662911, 'a1': 2.0277399553571427, 'b0': -0.17050802810322696, 'b1': 0.9999997275339682, 'b2': 4.971221212457522e-09, 'c2': 1.0297695657023465, 'p1': 3.5001093852485647, 'd1': 1.3140444360262173}\n",
      "current iteration=41\n",
      "residual=530.8185444894449\n",
      "params={'Multiplier': 0.7856279268856535, 'Ip': 0.32927376026224303, 'αPol': 6.16, 'gamma': 4.555437492729619, 'e0': 2.006284375532069, 'a0': 1.0000801596468232, 'a1': 2.0277399553571427, 'b0': -0.1742444583184128, 'b1': 1.0000046080130083, 'b2': 1.7797505691419246e-09, 'c2': 1.0235542048000041, 'p1': 3.499870332377461, 'd1': 1.28905830085791}\n",
      "current iteration=42\n",
      "residual=296.55304304421736\n",
      "params={'Multiplier': 0.727507114883024, 'Ip': 0.32927376026224303, 'αPol': 6.16, 'gamma': 4.555462227022924, 'e0': 1.7767657739563072, 'a0': 1.0001197461441076, 'a1': 2.0277399553571427, 'b0': -0.18023804677132904, 'b1': 1.0000098555859358, 'b2': 7.924207734433253e-09, 'c2': 1.0313921816542204, 'p1': 3.4997719910583474, 'd1': 1.3540013014862429}\n",
      "current iteration=43\n",
      "residual=438.1510971154129\n",
      "params={'Multiplier': 0.7471805666158268, 'Ip': 0.32927376026224303, 'αPol': 6.16, 'gamma': 4.555364200904675, 'e0': 2.0020329736364952, 'a0': 1.0000934265602948, 'a1': 2.0277399553571427, 'b0': -0.17905753105103106, 'b1': 1.0000008773726645, 'b2': 2.1625953028348022e-08, 'c2': 1.021114650652582, 'p1': 3.499880971211514, 'd1': 1.321815568967363}\n",
      "current iteration=44\n",
      "residual=361.5395328225441\n",
      "params={'Multiplier': 0.7145171457949923, 'Ip': 0.32927376026224303, 'αPol': 6.16, 'gamma': 4.555311379437696, 'e0': 1.9950668875040356, 'a0': 1.000028044040453, 'a1': 2.0277399553571427, 'b0': -0.18262488611714794, 'b1': 0.9999979137824974, 'b2': 7.974825910750383e-09, 'c2': 1.02376109040262, 'p1': 3.4998467276289675, 'd1': 1.3577164955121481}\n",
      "current iteration=45\n",
      "residual=336.77142322863773\n",
      "params={'Multiplier': 0.716859053875878, 'Ip': 0.32927376026224303, 'αPol': 6.16, 'gamma': 4.555300309345423, 'e0': 1.9473270428272267, 'a0': 1.0000955882703195, 'a1': 2.0277399553571427, 'b0': -0.18439195889430515, 'b1': 0.9999997523131405, 'b2': 1.066902122204283e-11, 'c2': 1.0227489280069006, 'p1': 3.4998837648164733, 'd1': 1.366938692857775}\n",
      "current iteration=46\n",
      "residual=285.87998949079406\n",
      "params={'Multiplier': 0.6940047107841946, 'Ip': 0.32927376026224303, 'αPol': 6.16, 'gamma': 4.5552469624592495, 'e0': 1.9020336521161623, 'a0': 1.0001108328257833, 'a1': 2.0277399553571427, 'b0': -0.18902324370700763, 'b1': 0.9999990718883498, 'b2': 1.920252845621917e-10, 'c2': 1.0468176368179356, 'p1': 3.49995106885531, 'd1': 1.3851730938295432}\n",
      "current iteration=47\n",
      "residual=138.73917890411158\n",
      "params={'Multiplier': 0.610784853512622, 'Ip': 0.32927376026224303, 'αPol': 6.16, 'gamma': 4.5551278356949405, 'e0': 1.7187033507906926, 'a0': 1.0001590019159425, 'a1': 2.0277399553571427, 'b0': -0.2020439361027353, 'b1': 0.9999982646224084, 'b2': 8.548726171397902e-10, 'c2': 1.072150836308689, 'p1': 3.499982218750196, 'd1': 1.4781454205525253}\n",
      "current iteration=48\n",
      "residual=194.6504747347909\n",
      "params={'Multiplier': 0.6436170382009611, 'Ip': 0.32927376026224303, 'αPol': 6.16, 'gamma': 4.555469843598136, 'e0': 1.8061220984728803, 'a0': 1.0001172692704603, 'a1': 2.0277399553571427, 'b0': -0.19371547127967903, 'b1': 0.9999844300622012, 'b2': 1.8143575530871203e-10, 'c2': 1.0442878134978408, 'p1': 3.499872395951216, 'd1': 1.4317521526350867}\n",
      "current iteration=49\n",
      "residual=150.3128734058211\n",
      "params={'Multiplier': 0.6072003068362285, 'Ip': 0.32927376026224303, 'αPol': 6.16, 'gamma': 4.555395326407622, 'e0': 1.7431108360731202, 'a0': 1.000112306327365, 'a1': 2.0277399553571427, 'b0': -0.19777536767074066, 'b1': 1.0000173697395491, 'b2': 2.5946775839003067e-09, 'c2': 1.0512147892215031, 'p1': 3.499856963630995, 'd1': 1.456548939169052}\n",
      "current iteration=50\n",
      "residual=123.85349382135706\n",
      "params={'Multiplier': 0.6390340496937216, 'Ip': 0.32927376026224303, 'αPol': 6.16, 'gamma': 4.55533440520407, 'e0': 1.7285787736040241, 'a0': 1.0001599339235157, 'a1': 2.0277399553571427, 'b0': -0.1965187366906313, 'b1': 1.0000029013532004, 'b2': 5.990561824376073e-09, 'c2': 1.0533885681658655, 'p1': 3.4995963169831885, 'd1': 1.5594621472173285}\n",
      "current iteration=51\n",
      "residual=44.051041104829125\n",
      "params={'Multiplier': 0.5665531261668592, 'Ip': 0.32927376026224303, 'αPol': 6.16, 'gamma': 4.555301473076833, 'e0': 1.5129825616031334, 'a0': 1.0002289867408782, 'a1': 2.0277399553571427, 'b0': -0.20823669574722936, 'b1': 1.0000050598613022, 'b2': 1.950513439652468e-08, 'c2': 1.0722996862458156, 'p1': 3.4993117451362137, 'd1': 1.7533879347100885}\n",
      "current iteration=52\n",
      "residual=86.21143140861443\n",
      "params={'Multiplier': 0.6236921351412182, 'Ip': 0.32927376026224303, 'αPol': 6.16, 'gamma': 4.555312460765972, 'e0': 1.5084876017112685, 'a0': 1.0001417228401117, 'a1': 2.0277399553571427, 'b0': -0.20416736384592576, 'b1': 1.000001733163336, 'b2': 4.164908640191811e-09, 'c2': 1.0599238235616597, 'p1': 3.4998129955839383, 'd1': 1.5650448770737322}\n",
      "current iteration=53\n",
      "residual=65.99786326032553\n",
      "params={'Multiplier': 0.5589550855904047, 'Ip': 0.32927376026224303, 'αPol': 6.16, 'gamma': 4.555266889138321, 'e0': 1.482740276380123, 'a0': 1.0001683503780558, 'a1': 2.0277399553571427, 'b0': -0.21295914503422725, 'b1': 1.00000304383784, 'b2': 1.5476531167735175e-10, 'c2': 1.0559879885692605, 'p1': 3.499486941759858, 'd1': 1.5698178755793468}\n",
      "current iteration=54\n",
      "residual=43.73307519986697\n",
      "params={'Multiplier': 0.498780378007459, 'Ip': 0.32927376026224303, 'αPol': 6.16, 'gamma': 4.5552473571003755, 'e0': 1.405194986631218, 'a0': 1.000202030394824, 'a1': 2.0277399553571427, 'b0': -0.2039574722957223, 'b1': 1.0000050597122159, 'b2': 1.534719906715054e-09, 'c2': 1.0606646151004648, 'p1': 3.499779481889856, 'd1': 1.5978849286898575}\n",
      "current iteration=55\n",
      "residual=9.001921182444564\n",
      "params={'Multiplier': 0.3582752899521652, 'Ip': 0.32927376026224303, 'αPol': 6.16, 'gamma': 4.555163519664339, 'e0': 1.072217265172256, 'a0': 1.000277616507874, 'a1': 2.0277399553571427, 'b0': -0.2133939043400096, 'b1': 1.0000082893903346, 'b2': 9.651886179184999e-09, 'c2': 1.0759950254536033, 'p1': 3.499788292236622, 'd1': 1.7320571774289681}\n",
      "current iteration=56\n",
      "residual=27.23797154404548\n",
      "params={'Multiplier': 0.48055024685924386, 'Ip': 0.32927376026224303, 'αPol': 6.16, 'gamma': 4.555258051923991, 'e0': 1.3134824653529638, 'a0': 1.000196299934139, 'a1': 2.0277399553571427, 'b0': -0.21685182410963472, 'b1': 1.0000042650990535, 'b2': 2.44396833881666e-08, 'c2': 1.0810414823248053, 'p1': 3.4996418360854586, 'd1': 1.6924691052675405}\n",
      "current iteration=57\n",
      "residual=19.085144640995978\n",
      "params={'Multiplier': 0.4657490744280003, 'Ip': 0.32927376026224303, 'αPol': 6.16, 'gamma': 4.555300207887605, 'e0': 1.1880639089999696, 'a0': 1.0002953335664948, 'a1': 2.0277399553571427, 'b0': -0.22012985664201523, 'b1': 1.0000084989525235, 'b2': 4.438430956099637e-09, 'c2': 1.0899218185253283, 'p1': 3.499635101358285, 'd1': 1.723356240762194}\n",
      "current iteration=58\n",
      "residual=10.814086866155083\n",
      "params={'Multiplier': 0.41702866224516344, 'Ip': 0.32927376026224303, 'αPol': 6.16, 'gamma': 4.555311257688315, 'e0': 1.0868204351247752, 'a0': 1.000267738440417, 'a1': 2.0277399553571427, 'b0': -0.2255103634144, 'b1': 1.0000084097497592, 'b2': 1.7624235404412048e-10, 'c2': 1.1045817954202577, 'p1': 3.499548331487506, 'd1': 1.7861389073651015}\n",
      "current iteration=59\n",
      "residual=6.243406504550883\n",
      "params={'Multiplier': 0.3520488172330124, 'Ip': 0.32927376026224303, 'αPol': 6.16, 'gamma': 4.555119146151001, 'e0': 1.1134476564600697, 'a0': 1.000273179031964, 'a1': 2.0277399553571427, 'b0': -0.23871873886599027, 'b1': 0.9999980173097216, 'b2': 8.865579603778428e-09, 'c2': 1.1105158604731769, 'p1': 3.4996153733207827, 'd1': 1.887365854523821}\n",
      "current iteration=60\n",
      "residual=0.528538293664325\n",
      "params={'Multiplier': 0.1985096191168464, 'Ip': 0.32927376026224303, 'αPol': 6.16, 'gamma': 4.554947605731181, 'e0': 0.800796688619613, 'a0': 1.0003498954212446, 'a1': 2.0277399553571427, 'b0': -0.2679590849133209, 'b1': 0.9999920981716146, 'b2': 3.4501137946563176e-08, 'c2': 1.1507544262129676, 'p1': 3.4995370644571535, 'd1': 2.1598898182612745}\n",
      "current iteration=61\n",
      "residual=3.0787971713308573\n",
      "params={'Multiplier': 0.33567056793834793, 'Ip': 0.32927376026224303, 'αPol': 6.16, 'gamma': 4.555007082008139, 'e0': 0.8915469630031532, 'a0': 1.0003221811161556, 'a1': 2.0277399553571427, 'b0': -0.2400900370843687, 'b1': 1.0000249764551687, 'b2': 6.824831810803289e-10, 'c2': 1.1187031396612597, 'p1': 3.4994479021505027, 'd1': 1.9536849621563457}\n",
      "current iteration=62\n",
      "residual=1.8086290521876733\n",
      "params={'Multiplier': 0.3170437668869196, 'Ip': 0.32927376026224303, 'αPol': 6.16, 'gamma': 4.555003950315081, 'e0': 0.7889899107888798, 'a0': 1.0003691189743091, 'a1': 2.0277399553571427, 'b0': -0.24449307457603253, 'b1': 0.9999935581210933, 'b2': 2.659021891560087e-10, 'c2': 1.1252545451363614, 'p1': 3.4993815221840183, 'd1': 2.029002004283524}\n",
      "current iteration=63\n",
      "residual=0.6923756176051712\n",
      "params={'Multiplier': 0.26294139894356816, 'Ip': 0.32927376026224303, 'αPol': 6.16, 'gamma': 4.555246663938753, 'e0': 0.6406695204475834, 'a0': 1.0003644468329744, 'a1': 2.0277399553571427, 'b0': -0.24871433383869757, 'b1': 1.0000117219380262, 'b2': 4.41640168880042e-09, 'c2': 1.1146344950945664, 'p1': 3.4991361278447783, 'd1': 2.1185734061969614}\n",
      "current iteration=64\n",
      "residual=0.3791795263956694\n",
      "params={'Multiplier': 0.19453478427748416, 'Ip': 0.32927376026224303, 'αPol': 6.16, 'gamma': 4.555048879507668, 'e0': 0.6626313463820597, 'a0': 1.0004262706291918, 'a1': 2.0277399553571427, 'b0': -0.25550030009406144, 'b1': 1.0000102511520508, 'b2': 7.254570277837047e-10, 'c2': 1.1381321906418926, 'p1': 3.4991699774126968, 'd1': 2.14102843477286}\n",
      "current iteration=65\n",
      "residual=0.005102174518048654\n",
      "params={'Multiplier': 0.056372834448536246, 'Ip': 0.32927376026224303, 'αPol': 6.16, 'gamma': 4.554917088890666, 'e0': 0.30737385534005623, 'a0': 1.0005685442361607, 'a1': 2.0277399553571427, 'b0': -0.28116676821812925, 'b1': 1.0000145101463842, 'b2': 5.280859083356404e-09, 'c2': 1.1777679424156693, 'p1': 3.498848468502201, 'd1': 2.4341661935883643}\n",
      "current iteration=66\n",
      "residual=0.08434987996709055\n",
      "params={'Multiplier': 0.1488349671372905, 'Ip': 0.32927376026224303, 'αPol': 6.16, 'gamma': 4.555024491082902, 'e0': 0.4647890768684362, 'a0': 1.0004796818668702, 'a1': 2.0277399553571427, 'b0': -0.2603500435425404, 'b1': 1.0000112337392595, 'b2': 1.4437302464642698e-09, 'c2': 1.1667366478181271, 'p1': 3.4993683364629353, 'd1': 2.3106645953418883}\n",
      "current iteration=67\n",
      "residual=0.017676113622392603\n",
      "params={'Multiplier': 0.08757555472012435, 'Ip': 0.32927376026224303, 'αPol': 6.16, 'gamma': 4.554934510754848, 'e0': 0.274590691864532, 'a0': 1.000469184610606, 'a1': 2.0277399553571427, 'b0': -0.27549516238860045, 'b1': 1.000010452491396, 'b2': 1.8073486929282012e-08, 'c2': 1.1690794167033842, 'p1': 3.4995548513628476, 'd1': 2.2345157310777464}\n",
      "current iteration=68\n",
      "residual=0.008936323341048925\n",
      "params={'Multiplier': 0.08032650618442327, 'Ip': 0.32927376026224303, 'αPol': 6.16, 'gamma': 4.554913223672801, 'e0': 0.25022805377768353, 'a0': 1.0005564481633649, 'a1': 2.0277399553571427, 'b0': -0.2786087016819881, 'b1': 1.0000124847321041, 'b2': 2.753407191136148e-08, 'c2': 1.177916507236446, 'p1': 3.4992073635006564, 'd1': 2.4068506267992547}\n",
      "current iteration=69\n",
      "residual=0.001493681460608693\n",
      "params={'Multiplier': 0.04299371768174309, 'Ip': 0.32927376026224303, 'αPol': 6.16, 'gamma': 4.554793670886471, 'e0': 0.19335727509912237, 'a0': 1.0005096376630467, 'a1': 2.0277399553571427, 'b0': -0.2870264381576022, 'b1': 1.0000090480345658, 'b2': 1.3806500387403275e-09, 'c2': 1.1866035745111376, 'p1': 3.499128550676244, 'd1': 2.513588726899774}\n",
      "current iteration=70\n",
      "residual=8.964343722580546e-07\n",
      "params={'Multiplier': 0.004157437215778548, 'Ip': 0.32927376026224303, 'αPol': 6.16, 'gamma': 4.554540402455661, 'e0': 7.051214607756151e-06, 'a0': 1.0006167895072713, 'a1': 2.0277399553571427, 'b0': -0.32047472891539575, 'b1': 1.000009322575587, 'b2': 7.929265466444235e-09, 'c2': 1.235452267521259, 'p1': 3.4988752754535515, 'd1': 2.9157054547057024}\n",
      "current iteration=71\n",
      "residual=1.8920570470372298e-05\n",
      "params={'Multiplier': 0.010456693404996886, 'Ip': 0.32927376026224303, 'αPol': 6.16, 'gamma': 4.554628450064976, 'e0': 0.07711607472507787, 'a0': 1.000607042828869, 'a1': 2.0277399553571427, 'b0': -0.3006388044854167, 'b1': 1.0000093198024955, 'b2': 7.6098327639329e-10, 'c2': 1.1979548914390021, 'p1': 3.499080709312241, 'd1': 2.676581886063467}\n",
      "current iteration=72\n",
      "residual=1.4830896069157146e-06\n",
      "params={'Multiplier': 0.002804384724460207, 'Ip': 0.32927376026224303, 'αPol': 6.16, 'gamma': 4.554669174134011, 'e0': 0.00892897448766461, 'a0': 1.0006630499024936, 'a1': 2.0277399553571427, 'b0': -0.33020424358888845, 'b1': 1.000009646244352, 'b2': 1.8966879622439592e-08, 'c2': 1.2518766160484671, 'p1': 3.4986992322875916, 'd1': 2.924640108392103}\n",
      "current iteration=73\n",
      "residual=2.631367032686708e-06\n",
      "params={'Multiplier': 0.0014272533490876649, 'Ip': 0.32927376026224303, 'αPol': 6.16, 'gamma': 4.554758030181633, 'e0': 0.0011978104576029214, 'a0': 1.0006866590819166, 'a1': 2.0277399553571427, 'b0': -0.32153095214543326, 'b1': 0.9999898931370876, 'b2': 1.272426386478287e-09, 'c2': 1.2350201695149543, 'p1': 3.498889888119728, 'd1': 2.89214092691197}\n",
      "current iteration=74\n",
      "residual=3.0915190915865004e-05\n",
      "params={'Multiplier': 0.02123630353785455, 'Ip': 0.32927376026224303, 'αPol': 6.16, 'gamma': 4.554711977853046, 'e0': 0.00667473511913852, 'a0': 1.0007032293029325, 'a1': 2.0277399553571427, 'b0': -0.3325354901676496, 'b1': 1.0000205784744611, 'b2': 7.83180609253975e-09, 'c2': 1.2504395800598553, 'p1': 3.49885794126386, 'd1': 2.989396393227847}\n",
      "current iteration=75\n",
      "residual=0.00021611091409938995\n",
      "params={'Multiplier': 0.04909444812216701, 'Ip': 0.32927376026224303, 'αPol': 6.16, 'gamma': 4.554362327164789, 'e0': 0.023126472781550556, 'a0': 1.0007756577001583, 'a1': 2.0277399553571427, 'b0': -0.3450784621707752, 'b1': 1.0000041859649518, 'b2': 1.0288569995964281e-10, 'c2': 1.288516349878968, 'p1': 3.4990476981861782, 'd1': 3.073581540986993}\n",
      "current iteration=76\n",
      "residual=0.001548019088524853\n",
      "params={'Multiplier': 0.07777007592002494, 'Ip': 0.32927376026224303, 'αPol': 6.16, 'gamma': 4.554544329520986, 'e0': 0.25362140073945927, 'a0': 1.0008753610937267, 'a1': 2.0277399553571427, 'b0': -0.3412575865476426, 'b1': 1.0000262272897682, 'b2': 2.0812635836975346e-08, 'c2': 1.27956589297288, 'p1': 3.4985488887085827, 'd1': 3.2159490895498744}\n",
      "current iteration=77\n",
      "residual=0.0029630009111544847\n",
      "params={'Multiplier': 0.11820556241618452, 'Ip': 0.32927376026224303, 'αPol': 6.16, 'gamma': 4.554371411925529, 'e0': 0.21722453546388065, 'a0': 1.000824711136673, 'a1': 2.0277399553571427, 'b0': -0.3650481365194435, 'b1': 1.0000100904325322, 'b2': 1.0870169209198366e-09, 'c2': 1.2860592522474783, 'p1': 3.498553727037773, 'd1': 3.2444951191691533}\n",
      "current iteration=78\n",
      "residual=0.002670296143906865\n",
      "params={'Multiplier': 0.14031883604487272, 'Ip': 0.32927376026224303, 'αPol': 6.16, 'gamma': 4.554348772470249, 'e0': 0.2269010550724737, 'a0': 1.000906313344368, 'a1': 2.0277399553571427, 'b0': -0.3678136124995521, 'b1': 1.0000107992686234, 'b2': 2.552253008936134e-08, 'c2': 1.3070912620520507, 'p1': 3.498166987893266, 'd1': 3.5266202018237864}\n",
      "current iteration=79\n",
      "residual=0.013227865422361613\n",
      "params={'Multiplier': 0.23257907276943002, 'Ip': 0.32927376026224303, 'αPol': 6.16, 'gamma': 4.554257169341408, 'e0': 0.3884034456029166, 'a0': 1.000889023191223, 'a1': 2.0277399553571427, 'b0': -0.38254105536967714, 'b1': 1.0000084299352143, 'b2': 2.0121175170473293e-08, 'c2': 1.324010710596982, 'p1': 3.4983064001070354, 'd1': 3.57624592846133}\n",
      "current iteration=80\n",
      "residual=6.278513097993595e-06\n",
      "params={'Multiplier': 0.007962797691038026, 'Ip': 0.32927376026224303, 'αPol': 6.16, 'gamma': 4.554749210049119, 'e0': 0.050562651587457985, 'a0': 1.0006395921005045, 'a1': 2.0277399553571427, 'b0': -0.30459179010391035, 'b1': 1.0000114710328833, 'b2': 7.918894873171212e-09, 'c2': 1.2144000211291526, 'p1': 3.4989821225133637, 'd1': 2.6968195872570404}\n",
      "current iteration=81\n",
      "residual=0.017934446200144602\n",
      "params={'Multiplier': 0.21784493646701442, 'Ip': 0.32927376026224303, 'αPol': 6.16, 'gamma': 4.554219728380746, 'e0': 0.5307482385034625, 'a0': 1.0008911366874118, 'a1': 2.0277399553571427, 'b0': -0.3846679932106921, 'b1': 1.000005796698217, 'b2': 1.666316173931648e-08, 'c2': 1.331465729496771, 'p1': 3.498692025517982, 'd1': 3.601784221516489}\n",
      "current iteration=82\n",
      "residual=6.937291619750422e-07\n",
      "params={'Multiplier': 0.003323367515318698, 'Ip': 0.32927376026224303, 'αPol': 6.16, 'gamma': 4.554742748716315, 'e0': 0.05682526616279704, 'a0': 1.0006491925204302, 'a1': 2.0277399553571427, 'b0': -0.30704207446626997, 'b1': 1.0000123317843501, 'b2': 4.942026787801979e-10, 'c2': 1.2161600446636993, 'p1': 3.4988093577517843, 'd1': 2.723749162336987}\n",
      "current iteration=83\n",
      "residual=0.0005110654421402511\n",
      "params={'Multiplier': 0.0337942140951214, 'Ip': 0.32927376026224303, 'αPol': 6.16, 'gamma': 4.554839672631216, 'e0': 0.15822633145373755, 'a0': 1.0005998663020097, 'a1': 2.0277399553571427, 'b0': -0.28918541249874324, 'b1': 1.0000106646824525, 'b2': 8.378499671835016e-09, 'c2': 1.2092445947641874, 'p1': 3.499037893234215, 'd1': 2.682900404120047}\n",
      "current iteration=84\n",
      "residual=0.03037846497179039\n",
      "params={'Multiplier': 0.10572608755222046, 'Ip': 0.32927376026224303, 'αPol': 6.16, 'gamma': 4.554960492158814, 'e0': 0.31909943382590344, 'a0': 1.000456973982438, 'a1': 2.0277399553571427, 'b0': -0.27069429651847304, 'b1': 1.000009928929127, 'b2': 1.3187820391280525e-08, 'c2': 1.1687266308555335, 'p1': 3.4995988143222436, 'd1': 2.2389590829480985}\n",
      "current iteration=85\n",
      "residual=0.0001387003761945058\n",
      "params={'Multiplier': 0.04205740414750936, 'Ip': 0.32927376026224303, 'αPol': 6.16, 'gamma': 4.554501702355358, 'e0': 0.049364143706393415, 'a0': 1.0007939788441746, 'a1': 2.0277399553571427, 'b0': -0.3435337835042823, 'b1': 1.0000105816837492, 'b2': 8.300801379590439e-09, 'c2': 1.2724982113467758, 'p1': 3.4985249441291995, 'd1': 3.201991937968522}\n",
      "current iteration=86\n",
      "residual=0.006269026599723887\n",
      "params={'Multiplier': 0.058684374975427445, 'Ip': 0.32927376026224303, 'αPol': 6.16, 'gamma': 4.554756409591993, 'e0': 0.40928842597077875, 'a0': 1.0004716499088384, 'a1': 2.0277399553571427, 'b0': -0.2977055618617104, 'b1': 0.9999913717864695, 'b2': 5.5818907496174575e-08, 'c2': 1.1947753381543245, 'p1': 3.4992121238854725, 'd1': 2.5411266117211206}\n",
      "current iteration=87\n",
      "residual=4.4992151150335885e-05\n",
      "params={'Multiplier': 0.0227660672710549, 'Ip': 0.32927376026224303, 'αPol': 6.16, 'gamma': 4.5545973495344345, 'e0': 0.04957498228379298, 'a0': 1.000774433567632, 'a1': 2.0277399553571427, 'b0': -0.33036958037615954, 'b1': 1.0000175134140767, 'b2': 2.4141817434042423e-09, 'c2': 1.2583613221124699, 'p1': 3.498714697427108, 'd1': 3.046485660200352}\n",
      "current iteration=88\n",
      "residual=0.001077375013676747\n",
      "params={'Multiplier': 0.08151407254771137, 'Ip': 0.32927376026224303, 'αPol': 6.16, 'gamma': 4.5544126019016815, 'e0': 0.13083028661265028, 'a0': 1.0007820587004335, 'a1': 2.0277399553571427, 'b0': -0.35801456948609295, 'b1': 1.0000083041403842, 'b2': 7.658189637993473e-10, 'c2': 1.2748971808535496, 'p1': 3.4986584800717546, 'd1': 3.145790396936719}\n",
      "current iteration=89\n",
      "residual=7.128751754138019e-07\n",
      "params={'Multiplier': 0.004375942431736113, 'Ip': 0.32927376026224303, 'αPol': 6.16, 'gamma': 4.554732904931979, 'e0': 0.045852225638113975, 'a0': 1.000645414454191, 'a1': 2.0277399553571427, 'b0': -0.30639270174558064, 'b1': 1.0000100745469358, 'b2': 3.81087073009212e-09, 'c2': 1.225648102571396, 'p1': 3.498943039919978, 'd1': 2.798252173071844}\n",
      "current iteration=90\n",
      "residual=0.00024037729387309186\n",
      "params={'Multiplier': 0.030676423345572856, 'Ip': 0.32927376026224303, 'αPol': 6.16, 'gamma': 4.554964062971876, 'e0': 0.06877423961673657, 'a0': 1.0005802186222934, 'a1': 2.0277399553571427, 'b0': -0.2943843677290221, 'b1': 1.0000159605742456, 'b2': 4.100512152049873e-09, 'c2': 1.183104089647844, 'p1': 3.498627743487227, 'd1': 2.6997555343848223}\n",
      "current iteration=91\n",
      "residual=1.2235960980770398e-05\n",
      "params={'Multiplier': 0.015281218875124458, 'Ip': 0.32927376026224303, 'αPol': 6.16, 'gamma': 4.554512761081111, 'e0': 0.002304526408291707, 'a0': 1.0007267979928418, 'a1': 2.0277399553571427, 'b0': -0.3324049385603369, 'b1': 1.000007129617287, 'b2': 5.57727641847805e-10, 'c2': 1.2621532107921274, 'p1': 3.498942709482318, 'd1': 2.979891063968483}\n",
      "current iteration=92\n",
      "residual=0.0005101279575998185\n",
      "params={'Multiplier': 0.030531259145605394, 'Ip': 0.32927376026224303, 'αPol': 6.16, 'gamma': 4.554826899463745, 'e0': 0.1312935454088462, 'a0': 1.000548461196231, 'a1': 2.0277399553571427, 'b0': -0.29370327740672597, 'b1': 1.0000088744421904, 'b2': 9.25906906701357e-10, 'c2': 1.1970213723379663, 'p1': 3.4992340507753967, 'd1': 2.5285695528619465}\n",
      "current iteration=93\n",
      "residual=5.577883358913705e-06\n",
      "params={'Multiplier': 0.01233528242456583, 'Ip': 0.32927376026224303, 'αPol': 6.16, 'gamma': 4.554583001622389, 'e0': 0.005634209861701267, 'a0': 1.0007325995299095, 'a1': 2.0277399553571427, 'b0': -0.33107615697989323, 'b1': 1.0000101548733598, 'b2': 3.6874490128013804e-09, 'c2': 1.2536204798088773, 'p1': 3.498702220703863, 'd1': 3.0328735255910297}\n",
      "current iteration=94\n",
      "residual=9.653828167969938e-05\n",
      "params={'Multiplier': 0.016414665448273635, 'Ip': 0.32927376026224303, 'αPol': 6.16, 'gamma': 4.554728382680291, 'e0': 0.1521198002181543, 'a0': 1.0005596397131946, 'a1': 2.0277399553571427, 'b0': -0.30700879585559543, 'b1': 1.000000471003647, 'b2': 1.736756982673171e-08, 'c2': 1.2101878268807855, 'p1': 3.4990418019588336, 'd1': 2.6798651663154827}\n",
      "current iteration=95\n",
      "residual=9.665726043957765e-07\n",
      "params={'Multiplier': 0.006644481616317033, 'Ip': 0.32927376026224303, 'αPol': 6.16, 'gamma': 4.554630107819293, 'e0': 0.004599995172964055, 'a0': 1.0007207351780871, 'a1': 2.0277399553571427, 'b0': -0.3245293842460185, 'b1': 1.0000132528114978, 'b2': 1.524291803889355e-11, 'c2': 1.246313412850681, 'p1': 3.4987964735420305, 'd1': 2.9546011086491935}\n",
      "current iteration=96\n",
      "residual=6.694831881732655e-05\n",
      "params={'Multiplier': 0.018427626878519843, 'Ip': 0.32927376026224303, 'αPol': 6.16, 'gamma': 4.554597380354159, 'e0': 0.06732974276129888, 'a0': 1.0006343453280975, 'a1': 2.0277399553571427, 'b0': -0.3032416648797792, 'b1': 0.999995940810594, 'b2': 5.917581979986153e-10, 'c2': 1.2172761766684819, 'p1': 3.4988862645301237, 'd1': 2.729697564606249}\n",
      "current iteration=97\n",
      "residual=7.804030457752667e-07\n",
      "params={'Multiplier': 0.005727072927307009, 'Ip': 0.32927376026224303, 'αPol': 6.16, 'gamma': 4.554683328477115, 'e0': 2.094292399523745e-05, 'a0': 1.0006860083167253, 'a1': 2.0277399553571427, 'b0': -0.325212033845682, 'b1': 1.0000144190585532, 'b2': 3.6350766841053428e-09, 'c2': 1.242146274822237, 'p1': 3.4988650220802926, 'd1': 2.9243555923462097}\n",
      "current iteration=98\n",
      "residual=2.926631165206036e-05\n",
      "params={'Multiplier': 0.021759018867988034, 'Ip': 0.32927376026224303, 'αPol': 6.16, 'gamma': 4.5546918838224055, 'e0': 0.02426360597308297, 'a0': 1.000746324830795, 'a1': 2.0277399553571427, 'b0': -0.3400529964340653, 'b1': 1.0000082193338997, 'b2': 1.8599048967615772e-09, 'c2': 1.278631995281009, 'p1': 3.4986203591381666, 'd1': 3.0926145551956017}\n",
      "current iteration=99\n",
      "residual=2.116043690884988e-06\n",
      "params={'Multiplier': 0.0015848578904186228, 'Ip': 0.32927376026224303, 'αPol': 6.16, 'gamma': 4.554644308503958, 'e0': 0.029518668213444066, 'a0': 1.0006418633595902, 'a1': 2.0277399553571427, 'b0': -0.31049235247257884, 'b1': 1.0000090446853467, 'b2': 9.904299602681021e-10, 'c2': 1.2181041339308694, 'p1': 3.4989656217342304, 'd1': 2.7802844198278085}\n",
      "current iteration=100\n",
      "residual=1.8915855428813174e-05\n",
      "params={'Multiplier': 0.012264111993246174, 'Ip': 0.32927376026224303, 'αPol': 6.16, 'gamma': 4.554833882317315, 'e0': 0.04667295516760106, 'a0': 1.0006095827612866, 'a1': 2.0277399553571427, 'b0': -0.30390434514159326, 'b1': 1.0000107925327173, 'b2': 2.3685011729668304e-09, 'c2': 1.2056123497858553, 'p1': 3.4987629413369943, 'd1': 2.748842269059017}\n",
      "current iteration=101\n",
      "residual=8.762829990351714e-07\n",
      "params={'Multiplier': 0.004255242807225668, 'Ip': 0.32927376026224303, 'αPol': 6.16, 'gamma': 4.554593041380457, 'e0': 0.0003463289528014002, 'a0': 1.0006974942067848, 'a1': 2.0277399553571427, 'b0': -0.325279790205651, 'b1': 1.0000080453461457, 'b2': 8.927549810522351e-10, 'c2': 1.248011908405192, 'p1': 3.498897767440627, 'd1': 2.9220371897821154}\n",
      "current iteration=102\n",
      "residual=1.5083656250404304e-05\n",
      "params={'Multiplier': 0.017628643738102467, 'Ip': 0.32927376026224303, 'αPol': 6.16, 'gamma': 4.554566199598952, 'e0': 0.00975119923375134, 'a0': 1.00070836911188, 'a1': 2.0277399553571427, 'b0': -0.33585509361836796, 'b1': 1.0000057659797688, 'b2': 8.137608364933158e-10, 'c2': 1.260078249621381, 'p1': 3.4987066573138277, 'd1': 3.0774291907388136}\n",
      "current iteration=103\n",
      "residual=2.7106532337451753e-06\n",
      "params={'Multiplier': 0.0011371578033253504, 'Ip': 0.32927376026224303, 'αPol': 6.16, 'gamma': 4.554703457433525, 'e0': 0.021098506686306973, 'a0': 1.0006567863607572, 'a1': 2.0277399553571427, 'b0': -0.31240761598252476, 'b1': 1.0000100447696074, 'b2': 3.5532932152193553e-09, 'c2': 1.2258138117308073, 'p1': 3.4989132562008898, 'd1': 2.7917174476166173}\n",
      "current iteration=104\n",
      "residual=1.1033288079769686e-05\n",
      "params={'Multiplier': 0.009266233022772075, 'Ip': 0.32927376026224303, 'αPol': 6.16, 'gamma': 4.5547564991874685, 'e0': 0.05976817600669859, 'a0': 1.000600198989129, 'a1': 2.0277399553571427, 'b0': -0.30563701854291137, 'b1': 1.0000070601185467, 'b2': 2.3581137043038325e-13, 'c2': 1.21529492034315, 'p1': 3.499028766239495, 'd1': 2.693051027200598}\n",
      "current iteration=105\n",
      "residual=1.1799845253764087e-06\n",
      "params={'Multiplier': 0.0035269010359589847, 'Ip': 0.32927376026224303, 'αPol': 6.16, 'gamma': 4.554626376010856, 'e0': 3.1922823458874205e-05, 'a0': 1.0006994994225475, 'a1': 2.0277399553571427, 'b0': -0.32471637237064777, 'b1': 1.0000093811846573, 'b2': 2.0631454322739273e-09, 'c2': 1.2440360640392454, 'p1': 3.498783857069625, 'd1': 2.947720491418223}\n",
      "current iteration=106\n",
      "residual=8.601481364220886e-07\n",
      "params={'Multiplier': 0.004515940279240627, 'Ip': 0.32927376026224303, 'αPol': 6.16, 'gamma': 4.554620627086125, 'e0': 1.337518212185529e-06, 'a0': 1.000684554841818, 'a1': 2.0277399553571427, 'b0': -0.32676731081790444, 'b1': 1.0000070375053092, 'b2': 4.876765657968463e-12, 'c2': 1.246738686275095, 'p1': 3.498791850875053, 'd1': 2.965008569869461}\n",
      "current iteration=107\n",
      "residual=4.396828783875772e-06\n",
      "params={'Multiplier': 3.793356228132261e-06, 'Ip': 0.32927376026224303, 'αPol': 6.16, 'gamma': 4.554538573730175, 'e0': 0.010570825425500807, 'a0': 1.0006542612713654, 'a1': 2.0277399553571427, 'b0': -0.3186912463894902, 'b1': 1.0000306180110394, 'b2': 2.003415211504489e-10, 'c2': 1.2398733285814245, 'p1': 3.498795611504438, 'd1': 2.8790093071076694}\n",
      "current iteration=108\n",
      "residual=3.296338003491505e-06\n",
      "params={'Multiplier': 0.000827350939864302, 'Ip': 0.32927376026224303, 'αPol': 6.16, 'gamma': 4.554703166064344, 'e0': 0.0026730708474178577, 'a0': 1.0006785596309347, 'a1': 2.0277399553571427, 'b0': -0.3208210257064475, 'b1': 1.0000000743556823, 'b2': 9.175971094066426e-10, 'c2': 1.2362334084012276, 'p1': 3.498866318964409, 'd1': 2.8888577270850835}\n",
      "current iteration=109\n",
      "residual=6.772435434736741e-07\n",
      "params={'Multiplier': 0.003831681571495049, 'Ip': 0.32927376026224303, 'αPol': 6.16, 'gamma': 4.554737826824136, 'e0': 0.051202389596127995, 'a0': 1.0006473034873395, 'a1': 2.0277399553571427, 'b0': -0.3067173881059253, 'b1': 1.0000112031656436, 'b2': 3.9009351304741813e-10, 'c2': 1.2209034906538374, 'p1': 3.4988761988319586, 'd1': 2.760986631824529}\n",
      "current iteration=110\n",
      "residual=4.269212220433009e-06\n",
      "params={'Multiplier': 8.281979359658909e-05, 'Ip': 0.32927376026224303, 'αPol': 6.16, 'gamma': 4.554713038596307, 'e0': 0.015055017543104565, 'a0': 1.0006676004214055, 'a1': 2.0277399553571427, 'b0': -0.316127054155976, 'b1': 1.0000133754214524, 'b2': 3.621585253910098e-10, 'c2': 1.22915002827552, 'p1': 3.498837189915335, 'd1': 2.823955740878837}\n",
      "current iteration=111\n",
      "residual=4.364634323340033e-06\n",
      "params={'Multiplier': 2.3949913882659324e-05, 'Ip': 0.32927376026224303, 'αPol': 6.16, 'gamma': 4.554681687899427, 'e0': 0.014367290792533849, 'a0': 1.00066687368373, 'a1': 2.0277399553571427, 'b0': -0.3169046926420872, 'b1': 1.000009684644833, 'b2': 1.4931611502788655e-10, 'c2': 1.2314455072760353, 'p1': 3.4988006043133466, 'd1': 2.8442413584706103}\n",
      "current iteration=112\n",
      "residual=4.3773046466281144e-06\n",
      "params={'Multiplier': 1.5462905417096273e-05, 'Ip': 0.32927376026224303, 'αPol': 6.16, 'gamma': 4.554667895045645, 'e0': 0.016804955278055367, 'a0': 1.0006733433685167, 'a1': 2.0277399553571427, 'b0': -0.3161609323359605, 'b1': 1.0000101885652501, 'b2': 1.4624301769572412e-11, 'c2': 1.2320819340788345, 'p1': 3.4988535625944555, 'd1': 2.8227986719156473}\n",
      "current iteration=113\n",
      "residual=4.38182758923564e-06\n",
      "params={'Multiplier': 1.2729037165759571e-05, 'Ip': 0.32927376026224303, 'αPol': 6.16, 'gamma': 4.554641575580819, 'e0': 0.014822824773406351, 'a0': 1.0006329910159277, 'a1': 2.0277399553571427, 'b0': -0.31375840169083286, 'b1': 1.0000108271799697, 'b2': 3.0956479601940146e-09, 'c2': 1.2258041527136425, 'p1': 3.498842316601685, 'd1': 2.81963851648938}\n",
      "current iteration=114\n",
      "residual=4.1806965989641465e-06\n",
      "params={'Multiplier': 0.0001444499715362868, 'Ip': 0.32927376026224303, 'αPol': 6.16, 'gamma': 4.554686428266288, 'e0': 0.007526939851309589, 'a0': 1.0006849638602147, 'a1': 2.0277399553571427, 'b0': -0.31578572935614424, 'b1': 1.000012792297924, 'b2': 1.7075807434707713e-10, 'c2': 1.231232934109603, 'p1': 3.4988029156468685, 'd1': 2.839048709941144}\n",
      "current iteration=115\n",
      "residual=4.399737347301841e-06\n",
      "params={'Multiplier': 1.7601910323739034e-06, 'Ip': 0.32927376026224303, 'αPol': 6.16, 'gamma': 4.554684562361963, 'e0': 0.015185569201170646, 'a0': 1.0006743459768221, 'a1': 2.0277399553571427, 'b0': -0.31587922341845887, 'b1': 1.000010856484505, 'b2': 1.3445777824472316e-10, 'c2': 1.2300946143141713, 'p1': 3.4987966074105517, 'd1': 2.8356154964139915}\n",
      "current iteration=116\n",
      "residual=1.0380135607831225e-06\n",
      "params={'Multiplier': 0.0030583952593669084, 'Ip': 0.32927376026224303, 'αPol': 6.16, 'gamma': 4.554705961424532, 'e0': 0.027909711174707308, 'a0': 1.0006561212118557, 'a1': 2.0277399553571427, 'b0': -0.3186231590275792, 'b1': 1.000010989014352, 'b2': 3.3344631500398236e-09, 'c2': 1.2340137958360955, 'p1': 3.498754295016737, 'd1': 2.8240977357212254}\n",
      "current iteration=117\n",
      "residual=1.2485849575274796e-06\n",
      "params={'Multiplier': 0.0023748086275864333, 'Ip': 0.32927376026224303, 'αPol': 6.16, 'gamma': 4.554693528608989, 'e0': 0.04213069088528454, 'a0': 1.0006455279401185, 'a1': 2.0277399553571427, 'b0': -0.3087672134694244, 'b1': 1.0000106882348498, 'b2': 2.1346258094467885e-11, 'c2': 1.217132061638861, 'p1': 3.4988874897377014, 'd1': 2.752008648090921}\n",
      "current iteration=118\n",
      "residual=4.23693052256853e-06\n",
      "params={'Multiplier': 0.00010008322275523174, 'Ip': 0.32927376026224303, 'αPol': 6.16, 'gamma': 4.554750389448948, 'e0': 0.018915241721189968, 'a0': 1.0006679258041034, 'a1': 2.0277399553571427, 'b0': -0.3142865133058516, 'b1': 1.000001112460726, 'b2': 4.516120810649227e-11, 'c2': 1.2255881753238809, 'p1': 3.498849622934299, 'd1': 2.8078760584780795}\n",
      "current iteration=119\n",
      "residual=1.9542073520918208e-06\n",
      "params={'Multiplier': 0.0016805633972466483, 'Ip': 0.32927376026224303, 'αPol': 6.16, 'gamma': 4.554719653719577, 'e0': 0.035396225424300765, 'a0': 1.000644022685733, 'a1': 2.0277399553571427, 'b0': -0.3109554082927515, 'b1': 1.0000097820693736, 'b2': 9.778622356293454e-11, 'c2': 1.2226067840206372, 'p1': 3.4988661032578605, 'd1': 2.768057038133451}\n",
      "current iteration=120\n",
      "residual=1.048169205391801e-06\n",
      "params={'Multiplier': 0.0027469173779958167, 'Ip': 0.32927376026224303, 'αPol': 6.16, 'gamma': 4.554778256132897, 'e0': 0.04110366337603022, 'a0': 1.0006875839713174, 'a1': 2.0277399553571427, 'b0': -0.31251563134076116, 'b1': 1.0000096023517893, 'b2': 4.421639943075206e-09, 'c2': 1.226257127641642, 'p1': 3.498825151395705, 'd1': 2.773704657214624}\n",
      "current iteration=121\n",
      "residual=6.969265828054087e-07\n",
      "params={'Multiplier': 0.004096783740267562, 'Ip': 0.32927376026224303, 'αPol': 6.16, 'gamma': 4.554774008883622, 'e0': 0.04388048953829782, 'a0': 1.0006500797502802, 'a1': 2.0277399553571427, 'b0': -0.3093840404965937, 'b1': 1.000010123723817, 'b2': 3.828652950232936e-10, 'c2': 1.2188164624823856, 'p1': 3.498808223164062, 'd1': 2.7607350904286925}\n",
      "current iteration=122\n",
      "residual=2.552397336762242e-06\n",
      "params={'Multiplier': 0.006194774196926711, 'Ip': 0.32927376026224303, 'αPol': 6.16, 'gamma': 4.554778680226199, 'e0': 0.05600303631622028, 'a0': 1.0006531906499743, 'a1': 2.0277399553571427, 'b0': -0.30713614976136816, 'b1': 1.0000107154600308, 'b2': 1.7613051017661974e-09, 'c2': 1.2169275848362417, 'p1': 3.4988627052162107, 'd1': 2.722650372845391}\n",
      "current iteration=123\n",
      "residual=1.3558164513927876e-05\n",
      "params={'Multiplier': 0.010080796061412989, 'Ip': 0.32927376026224303, 'αPol': 6.16, 'gamma': 4.554760457853534, 'e0': 0.06566746866998163, 'a0': 1.0006495819573964, 'a1': 2.0277399553571427, 'b0': -0.3061156073685578, 'b1': 1.0000064926911145, 'b2': 2.3425617001748833e-10, 'c2': 1.2167779066854847, 'p1': 3.498831222672497, 'd1': 2.722650710677032}\n",
      "current iteration=124\n",
      "residual=3.842442818643131e-06\n",
      "params={'Multiplier': 0.00033871246275396505, 'Ip': 0.32927376026224303, 'αPol': 6.16, 'gamma': 4.554724893410424, 'e0': 0.02449899167772429, 'a0': 1.0006630958059055, 'a1': 2.0277399553571427, 'b0': -0.31362419245912143, 'b1': 1.0000116547388727, 'b2': 3.2758107337826914e-10, 'c2': 1.226056333552379, 'p1': 3.498835698104619, 'd1': 2.7986103459864227}\n",
      "current iteration=125\n",
      "residual=3.7223066907588863e-06\n",
      "params={'Multiplier': 0.006921904777522525, 'Ip': 0.32927376026224303, 'αPol': 6.16, 'gamma': 4.55471800779293, 'e0': 0.060315107781960364, 'a0': 1.000648290574695, 'a1': 2.0277399553571427, 'b0': -0.3078236840493361, 'b1': 1.0000208641073687, 'b2': 8.935008288801782e-10, 'c2': 1.220431856766907, 'p1': 3.498816004688142, 'd1': 2.7368522592539293}\n",
      "current iteration=126\n",
      "residual=6.127099920816463e-05\n",
      "params={'Multiplier': 0.015341345558606334, 'Ip': 0.32927376026224303, 'αPol': 6.16, 'gamma': 4.554788284883198, 'e0': 0.10533870987325811, 'a0': 1.0006239178465568, 'a1': 2.0277399553571427, 'b0': -0.30473205893768185, 'b1': 1.0000107986321782, 'b2': 3.3955012135322704e-09, 'c2': 1.2126312018589247, 'p1': 3.4988653297852017, 'd1': 2.6853427486631256}\n",
      "current iteration=127\n",
      "residual=3.616358145257459e-06\n",
      "params={'Multiplier': 0.0004892661690903966, 'Ip': 0.32927376026224303, 'αPol': 6.16, 'gamma': 4.554711892419635, 'e0': 0.021796871811983642, 'a0': 1.0006697023625608, 'a1': 2.0277399553571427, 'b0': -0.3130223117515286, 'b1': 1.0000122938814882, 'b2': 2.272559918026218e-11, 'c2': 1.2265809694252716, 'p1': 3.4988185191807837, 'd1': 2.80057789462365}\n",
      "current iteration=128\n",
      "residual=9.33350342698081e-06\n",
      "params={'Multiplier': 0.008932693742982667, 'Ip': 0.32927376026224303, 'αPol': 6.16, 'gamma': 4.554747219538653, 'e0': 0.06576694081969614, 'a0': 1.0006471072266472, 'a1': 2.0277399553571427, 'b0': -0.30677321969318616, 'b1': 1.000012064019754, 'b2': 5.972091710049199e-10, 'c2': 1.2179092131287619, 'p1': 3.498829111540891, 'd1': 2.7260814961165445}\n",
      "current iteration=129\n",
      "residual=2.3035616511268925e-06\n",
      "params={'Multiplier': 0.0014035293546758032, 'Ip': 0.32927376026224303, 'αPol': 6.16, 'gamma': 4.554730474942439, 'e0': 0.03304066393294436, 'a0': 1.0006590986614843, 'a1': 2.0277399553571427, 'b0': -0.3119114492676376, 'b1': 1.000011757059093, 'b2': 3.8745473496248906e-10, 'c2': 1.2240192505846954, 'p1': 3.4988340514636795, 'd1': 2.7804682161969443}\n",
      "current iteration=130\n",
      "residual=3.707358486471995e-06\n",
      "params={'Multiplier': 0.00042472182698138905, 'Ip': 0.32927376026224303, 'αPol': 6.16, 'gamma': 4.554756598586297, 'e0': 0.023938255390833607, 'a0': 1.0006640740751718, 'a1': 2.0277399553571427, 'b0': -0.3133912811466318, 'b1': 1.0000010332414822, 'b2': 1.1244605246929495e-10, 'c2': 1.2242505189040433, 'p1': 3.4988524143131143, 'd1': 2.796555184803748}\n",
      "current iteration=131\n",
      "residual=2.4190542767647335e-06\n",
      "params={'Multiplier': 0.0013159357712398956, 'Ip': 0.32927376026224303, 'αPol': 6.16, 'gamma': 4.554746950887831, 'e0': 0.03156054283647225, 'a0': 1.0006601282004366, 'a1': 2.0277399553571427, 'b0': -0.3119993818723079, 'b1': 1.0000059909579881, 'b2': 2.3795876380461323e-10, 'c2': 1.2232957868313787, 'p1': 3.4988433119066453, 'd1': 2.7816227524925865}\n",
      "current iteration=132\n",
      "residual=4.515552903671915e-06\n",
      "params={'Multiplier': 0.007142466200782738, 'Ip': 0.32927376026224303, 'αPol': 6.16, 'gamma': 4.5547697256537045, 'e0': 0.06672823725717425, 'a0': 1.0006407474521781, 'a1': 2.0277399553571427, 'b0': -0.3079880674685951, 'b1': 1.000008342882768, 'b2': 1.4333911835251456e-09, 'c2': 1.2174453147027935, 'p1': 3.4988548583656827, 'd1': 2.7290482887143184}\n",
      "current iteration=133\n",
      "residual=2.2950996227530326e-06\n",
      "params={'Multiplier': 0.0014242243631544804, 'Ip': 0.32927376026224303, 'αPol': 6.16, 'gamma': 4.554726350727871, 'e0': 0.030845482936696866, 'a0': 1.0006624636362573, 'a1': 2.0277399553571427, 'b0': -0.3117637506807952, 'b1': 1.0000113061318097, 'b2': 1.7005197250341553e-10, 'c2': 1.2242966764978735, 'p1': 3.4988276039767827, 'd1': 2.7826858664818084}\n",
      "current iteration=134\n",
      "residual=3.7742108402623707e-06\n",
      "params={'Multiplier': 0.0003897408924934398, 'Ip': 0.32927376026224303, 'αPol': 6.16, 'gamma': 4.554692471948528, 'e0': 0.0248142403306022, 'a0': 1.0006591137653762, 'a1': 2.0277399553571427, 'b0': -0.3147997496426409, 'b1': 1.000010039438585, 'b2': 2.627698059143313e-11, 'c2': 1.228573260984603, 'p1': 3.498803652083489, 'd1': 2.819007400853703}\n",
      "current iteration=135\n",
      "residual=7.038085901091957e-07\n",
      "params={'Multiplier': 0.004094554478103141, 'Ip': 0.32927376026224303, 'αPol': 6.16, 'gamma': 4.554757128156162, 'e0': 0.04710585047260141, 'a0': 1.0006546714288787, 'a1': 2.0277399553571427, 'b0': -0.3090520497316863, 'b1': 1.0000105464546694, 'b2': 9.11701825145883e-10, 'c2': 1.2198383651268652, 'p1': 3.4988479419324365, 'd1': 2.746722052065914}\n",
      "current iteration=136\n",
      "residual=8.408324305225002e-07\n",
      "params={'Multiplier': 0.004590191113129083, 'Ip': 0.32927376026224303, 'αPol': 6.16, 'gamma': 4.554726236738963, 'e0': 0.050480579623493504, 'a0': 1.0006510848603838, 'a1': 2.0277399553571427, 'b0': -0.30934705110357696, 'b1': 1.000015675039937, 'b2': 5.938762814849952e-10, 'c2': 1.2215119336576703, 'p1': 3.4988239713967726, 'd1': 2.7530117311069127}\n",
      "current iteration=137\n",
      "residual=1.2804321324434083e-06\n",
      "params={'Multiplier': 0.005272869490648424, 'Ip': 0.32927376026224303, 'αPol': 6.16, 'gamma': 4.554741865043587, 'e0': 0.05250396311434935, 'a0': 1.0006505116391522, 'a1': 2.0277399553571427, 'b0': -0.3089221040754351, 'b1': 1.0000106925350285, 'b2': 4.430504851882233e-10, 'c2': 1.2202871517769158, 'p1': 3.498831215826175, 'd1': 2.7486760339059844}\n",
      "current iteration=138\n",
      "residual=2.631317197484423e-06\n",
      "params={'Multiplier': 0.006288852726993199, 'Ip': 0.32927376026224303, 'αPol': 6.16, 'gamma': 4.554749092121392, 'e0': 0.0603980331906353, 'a0': 1.0006447562638892, 'a1': 2.0277399553571427, 'b0': -0.30850147334120537, 'b1': 1.000011020742956, 'b2': 8.581333421631143e-10, 'c2': 1.2192079864085397, 'p1': 3.4988383856830043, 'd1': 2.739661061101282}\n",
      "current iteration=139\n",
      "residual=1.3589837715213398e-06\n",
      "params={'Multiplier': 0.0023176476091987253, 'Ip': 0.32927376026224303, 'αPol': 6.16, 'gamma': 4.554732036076208, 'e0': 0.03736377040479266, 'a0': 1.0006580367936468, 'a1': 2.0277399553571427, 'b0': -0.31094818134589775, 'b1': 1.0000112347845962, 'b2': 2.925391040520253e-10, 'c2': 1.2230243837229526, 'p1': 3.498830299403318, 'd1': 2.7719261652460148}\n",
      "current iteration=140\n",
      "residual=2.0038564765105547e-06\n",
      "params={'Multiplier': 0.006003483402520993, 'Ip': 0.32927376026224303, 'αPol': 6.16, 'gamma': 4.554758265601258, 'e0': 0.05498240703703994, 'a0': 1.0006660000351504, 'a1': 2.0277399553571427, 'b0': -0.30930837033987835, 'b1': 1.0000128353484337, 'b2': 3.3202376403806966e-09, 'c2': 1.2209811021495343, 'p1': 3.4987927256336473, 'd1': 2.7550550750717018}\n",
      "current iteration=141\n",
      "residual=1.1872552778801957e-06\n",
      "params={'Multiplier': 0.0025126405021526077, 'Ip': 0.32927376026224303, 'αPol': 6.16, 'gamma': 4.554729306689872, 'e0': 0.03991393859913939, 'a0': 1.0006495170238268, 'a1': 2.0277399553571427, 'b0': -0.3105436488045332, 'b1': 1.0000105453891395, 'b2': 4.884403992377884e-11, 'c2': 1.2222003511709878, 'p1': 3.4988477588508884, 'd1': 2.76480622722412}\n",
      "current iteration=142\n",
      "residual=1.0870788686323166e-06\n",
      "params={'Multiplier': 0.005005335599094329, 'Ip': 0.32927376026224303, 'αPol': 6.16, 'gamma': 4.554745337367062, 'e0': 0.05321005138286061, 'a0': 1.0006502819750265, 'a1': 2.0277399553571427, 'b0': -0.30923469077845933, 'b1': 1.0000112447541223, 'b2': 8.183056454669213e-10, 'c2': 1.2203987565650576, 'p1': 3.498832021375187, 'd1': 2.7497637956771546}\n",
      "current iteration=143\n",
      "residual=1.5320148690396282e-06\n",
      "params={'Multiplier': 0.0021066250413562804, 'Ip': 0.32927376026224303, 'αPol': 6.16, 'gamma': 4.554736202864343, 'e0': 0.038087347252212744, 'a0': 1.0006577611967298, 'a1': 2.0277399553571427, 'b0': -0.3113232853895268, 'b1': 1.0000118974475085, 'b2': 6.850002787217591e-10, 'c2': 1.2231583280037452, 'p1': 3.4988312660621315, 'd1': 2.7732320963265913}\n",
      "current iteration=144\n",
      "residual=7.509617957763884e-07\n",
      "params={'Multiplier': 0.004348245595643729, 'Ip': 0.32927376026224303, 'αPol': 6.16, 'gamma': 4.554740449498773, 'e0': 0.048697929218951774, 'a0': 1.0006523240286271, 'a1': 2.0277399553571427, 'b0': -0.309522399403958, 'b1': 1.0000109937631487, 'b2': 4.986155932584779e-10, 'c2': 1.2210049065976885, 'p1': 3.498831228385164, 'd1': 2.7548139041236412}\n",
      "current iteration=145\n",
      "residual=1.224496688038721e-06\n",
      "params={'Multiplier': 0.0053616886454385115, 'Ip': 0.32927376026224303, 'αPol': 6.16, 'gamma': 4.554793923479334, 'e0': 0.049367853359848723, 'a0': 1.000664104112145, 'a1': 2.0277399553571427, 'b0': -0.3116292131824443, 'b1': 1.0000119628533466, 'b2': 2.1291728380390396e-09, 'c2': 1.2270892308184211, 'p1': 3.4987637398877496, 'd1': 2.7704592925526}\n",
      "current iteration=146\n",
      "residual=7.784582694953838e-07\n",
      "params={'Multiplier': 0.004503177749272669, 'Ip': 0.32927376026224303, 'αPol': 6.16, 'gamma': 4.554768824760918, 'e0': 0.04750839609850588, 'a0': 1.0006594600696692, 'a1': 2.0277399553571427, 'b0': -0.3109137132541893, 'b1': 1.0000116441987226, 'b2': 1.2789400649637628e-09, 'c2': 1.2245994907516151, 'p1': 3.49879467734758, 'd1': 2.765845986804886}\n",
      "current iteration=147\n",
      "residual=1.5879128690508866e-06\n",
      "params={'Multiplier': 0.005658536790100199, 'Ip': 0.32927376026224303, 'αPol': 6.16, 'gamma': 4.5547660490107, 'e0': 0.05347068853671488, 'a0': 1.0006621036383414, 'a1': 2.0277399553571427, 'b0': -0.3099267907372666, 'b1': 1.0000123254609732, 'b2': 2.45312237190376e-09, 'c2': 1.2224995126678364, 'p1': 3.4987928544682285, 'd1': 2.7578681705907373}\n",
      "current iteration=148\n",
      "residual=8.18613795799613e-07\n",
      "params={'Multiplier': 0.0031815875242923175, 'Ip': 0.32927376026224303, 'αPol': 6.16, 'gamma': 4.5547384922699665, 'e0': 0.043129336891709835, 'a0': 1.0006526636776987, 'a1': 2.0277399553571427, 'b0': -0.3103894342877166, 'b1': 1.0000109904070982, 'b2': 3.106015444842569e-10, 'c2': 1.2222751411318304, 'p1': 3.4988340327547047, 'd1': 2.763071621852822}\n",
      "current iteration=149\n",
      "residual=1.1090393877164196e-06\n",
      "params={'Multiplier': 0.002676849845139162, 'Ip': 0.32927376026224303, 'αPol': 6.16, 'gamma': 4.5547486493137885, 'e0': 0.03830858635655687, 'a0': 1.0006618150277453, 'a1': 2.0277399553571427, 'b0': -0.31146669746519196, 'b1': 1.0000115752265863, 'b2': 6.612808078898524e-10, 'c2': 1.224676627633225, 'p1': 3.498808994218679, 'd1': 2.7755755898914267}\n",
      "current iteration=150\n",
      "residual=7.523689865693123e-07\n",
      "params={'Multiplier': 0.004355855446689039, 'Ip': 0.32927376026224303, 'αPol': 6.16, 'gamma': 4.554746165353743, 'e0': 0.04927128150392046, 'a0': 1.0006531652384105, 'a1': 2.0277399553571427, 'b0': -0.3097926924501425, 'b1': 1.0000113273722384, 'b2': 7.774827448514543e-10, 'c2': 1.2214681393695126, 'p1': 3.498826264585969, 'd1': 2.7562154804154986}\n",
      "current iteration=151\n",
      "residual=1.2967581033644302e-06\n",
      "params={'Multiplier': 0.005298558512349394, 'Ip': 0.32927376026224303, 'αPol': 6.16, 'gamma': 4.5547093123932685, 'e0': 0.051778167964221966, 'a0': 1.0006176292636204, 'a1': 2.0277399553571427, 'b0': -0.3076411691247664, 'b1': 1.0000135626330042, 'b2': 3.95866450730864e-10, 'c2': 1.2178611820384289, 'p1': 3.4988160868360056, 'd1': 2.7481370572913826}\n",
      "current iteration=152\n",
      "residual=7.800260178640579e-07\n",
      "params={'Multiplier': 0.0033073364562620222, 'Ip': 0.32927376026224303, 'αPol': 6.16, 'gamma': 4.554761020197597, 'e0': 0.043664223119763035, 'a0': 1.0006700953019452, 'a1': 2.0277399553571427, 'b0': -0.3112970157867625, 'b1': 1.0000105924220948, 'b2': 2.0157819857757886e-09, 'c2': 1.2241578207414718, 'p1': 3.498822885255766, 'd1': 2.7673115196332856}\n",
      "current iteration=153\n",
      "residual=1.536275878834161e-06\n",
      "params={'Multiplier': 0.004948388104586532, 'Ip': 0.32927376026224303, 'αPol': 6.16, 'gamma': 4.554792618856975, 'e0': 0.07330460224167767, 'a0': 1.0006518868614387, 'a1': 2.0277399553571427, 'b0': -0.300068412789785, 'b1': 1.0000120966519943, 'b2': 1.8810841773131415e-10, 'c2': 1.2081416979371422, 'p1': 3.4989006612734648, 'd1': 2.6864881847353743}\n",
      "current iteration=154\n",
      "residual=7.769394295357927e-07\n",
      "params={'Multiplier': 0.003488688812376517, 'Ip': 0.32927376026224303, 'αPol': 6.16, 'gamma': 4.554727625782017, 'e0': 0.037359906843660085, 'a0': 1.000655062624279, 'a1': 2.0277399553571427, 'b0': -0.31398447246813066, 'b1': 1.0000112659237628, 'b2': 1.5903978134446106e-09, 'c2': 1.2275427801754417, 'p1': 3.4987908865772015, 'd1': 2.789659580353698}\n",
      "current iteration=155\n",
      "residual=8.306139273429687e-07\n",
      "params={'Multiplier': 0.003154099297158486, 'Ip': 0.32927376026224303, 'αPol': 6.16, 'gamma': 4.554772621349981, 'e0': 0.043131944608383765, 'a0': 1.000657718765568, 'a1': 2.0277399553571427, 'b0': -0.31027200498669805, 'b1': 1.0000065288031494, 'b2': 5.181093332140563e-10, 'c2': 1.2218409319549457, 'p1': 3.4988243679194775, 'd1': 2.764806108552572}\n",
      "current iteration=156\n",
      "residual=7.255275791908757e-07\n",
      "params={'Multiplier': 0.0034880664406046202, 'Ip': 0.32927376026224303, 'αPol': 6.16, 'gamma': 4.554761025197051, 'e0': 0.044918449492592494, 'a0': 1.0006560602893395, 'a1': 2.0277399553571427, 'b0': -0.3100407665159178, 'b1': 1.0000088153623545, 'b2': 5.365665689538446e-10, 'c2': 1.2217586818694357, 'p1': 3.498824268788801, 'd1': 2.7618572501476604}\n",
      "current iteration=157\n",
      "residual=8.558630304737164e-07\n",
      "params={'Multiplier': 0.004629085124042143, 'Ip': 0.32927376026224303, 'αPol': 6.16, 'gamma': 4.554764872404077, 'e0': 0.0508654942781257, 'a0': 1.0006568192706886, 'a1': 2.0277399553571427, 'b0': -0.3091598882481986, 'b1': 1.000010778427063, 'b2': 9.373213316621332e-10, 'c2': 1.220974454525054, 'p1': 3.4988123537686002, 'd1': 2.754503028529494}\n",
      "current iteration=158\n",
      "residual=7.188954977074804e-07\n",
      "params={'Multiplier': 0.0035182243850119255, 'Ip': 0.32927376026224303, 'αPol': 6.16, 'gamma': 4.554745087303437, 'e0': 0.04500746859915705, 'a0': 1.0006537025759725, 'a1': 2.0277399553571427, 'b0': -0.3100820477778371, 'b1': 1.0000109374120896, 'b2': 4.356337512945174e-10, 'c2': 1.221949961498476, 'p1': 3.4988286130080977, 'd1': 2.760929334116046}\n",
      "current iteration=159\n",
      "residual=8.245065858111949e-07\n",
      "params={'Multiplier': 0.004528654787785524, 'Ip': 0.32927376026224303, 'αPol': 6.16, 'gamma': 4.554739157897572, 'e0': 0.05057628149482274, 'a0': 1.0006361090961722, 'a1': 2.0277399553571427, 'b0': -0.3080093131473677, 'b1': 1.0000112454100654, 'b2': 2.1402879468723768e-12, 'c2': 1.2186506011115252, 'p1': 3.498824646817786, 'd1': 2.748988169394696}\n",
      "current iteration=160\n",
      "residual=7.065342050026746e-07\n",
      "params={'Multiplier': 0.0035948049472372956, 'Ip': 0.32927376026224303, 'αPol': 6.16, 'gamma': 4.554755554622552, 'e0': 0.04534775640423083, 'a0': 1.0006615987522778, 'a1': 2.0277399553571427, 'b0': -0.31047509012691377, 'b1': 1.0000107556690874, 'b2': 1.1093794771710463e-09, 'c2': 1.2227808733962053, 'p1': 3.4988233256462706, 'd1': 2.7627300446547007}\n",
      "current iteration=161\n",
      "residual=7.950835452361738e-07\n",
      "params={'Multiplier': 0.0031661506469137235, 'Ip': 0.32927376026224303, 'αPol': 6.16, 'gamma': 4.554728699306857, 'e0': 0.04618363069066089, 'a0': 1.0006471720691197, 'a1': 2.0277399553571427, 'b0': -0.3083048910544856, 'b1': 1.0000100159275098, 'b2': 5.156985949383852e-11, 'c2': 1.2178454481458951, 'p1': 3.4988585843877527, 'd1': 2.7498301918036208}\n",
      "current iteration=162\n",
      "residual=7.022170585090328e-07\n",
      "params={'Multiplier': 0.004147026882055038, 'Ip': 0.32927376026224303, 'αPol': 6.16, 'gamma': 4.554758793397271, 'e0': 0.04717556606599471, 'a0': 1.0006563880697634, 'a1': 2.0277399553571427, 'b0': -0.3102615077042634, 'b1': 1.0000112371309198, 'b2': 8.189331435204394e-10, 'c2': 1.2229107652686457, 'p1': 3.4988106541069177, 'd1': 2.7618415508721457}\n",
      "current iteration=163\n",
      "residual=8.066541597194601e-07\n",
      "params={'Multiplier': 0.004274189948332396, 'Ip': 0.32927376026224303, 'αPol': 6.16, 'gamma': 4.55477613180901, 'e0': 0.05960703841564263, 'a0': 1.0006518346041908, 'a1': 2.0277399553571427, 'b0': -0.30448953888777097, 'b1': 1.0000103884439016, 'b2': 6.579181643928678e-13, 'c2': 1.2139777528780726, 'p1': 3.4988663286650032, 'd1': 2.720478176586651}\n",
      "current iteration=164\n",
      "residual=7.082149432839128e-07\n",
      "params={'Multiplier': 0.0036776332610769513, 'Ip': 0.32927376026224303, 'αPol': 6.16, 'gamma': 4.554739752288571, 'e0': 0.04246728291595714, 'a0': 1.0006542556192728, 'a1': 2.0277399553571427, 'b0': -0.3116107390730407, 'b1': 1.0000110465537975, 'b2': 9.06770436515103e-10, 'c2': 1.224150659920652, 'p1': 3.49880974709817, 'd1': 2.772355149317952}\n",
      "current iteration=165\n",
      "residual=7.68078543257078e-07\n",
      "params={'Multiplier': 0.0032914938220794943, 'Ip': 0.32927376026224303, 'αPol': 6.16, 'gamma': 4.5547563096237464, 'e0': 0.04514773281362916, 'a0': 1.0006539500662726, 'a1': 2.0277399553571427, 'b0': -0.3090449282303386, 'b1': 1.0000102708317375, 'b2': 1.756526035734396e-10, 'c2': 1.2205864615096556, 'p1': 3.4988276471560136, 'd1': 2.7571253397375486}\n",
      "current iteration=166\n",
      "residual=6.959932135619226e-07\n",
      "params={'Multiplier': 0.004075888481030465, 'Ip': 0.32927376026224303, 'αPol': 6.16, 'gamma': 4.554748701421236, 'e0': 0.048224651565270005, 'a0': 1.000653361445377, 'a1': 2.0277399553571427, 'b0': -0.30960575139519153, 'b1': 1.0000110632371133, 'b2': 5.868934227493128e-10, 'c2': 1.2212477161547879, 'p1': 3.4988266102284795, 'd1': 2.756442943670378}\n",
      "current iteration=167\n",
      "residual=7.803390110900547e-07\n",
      "params={'Multiplier': 0.0032500572882575574, 'Ip': 0.32927376026224303, 'αPol': 6.16, 'gamma': 4.554763675863315, 'e0': 0.04560919761877513, 'a0': 1.0006549987593767, 'a1': 2.0277399553571427, 'b0': -0.30933189167476993, 'b1': 1.0000106183356205, 'b2': 3.6811464987351883e-10, 'c2': 1.2210982460633804, 'p1': 3.4988217597255247, 'd1': 2.7588528099499894}\n",
      "current iteration=168\n",
      "residual=6.942978426192802e-07\n",
      "params={'Multiplier': 0.00405882435463234, 'Ip': 0.32927376026224303, 'αPol': 6.16, 'gamma': 4.554746256089864, 'e0': 0.04791690209066979, 'a0': 1.0006529927113255, 'a1': 2.0277399553571427, 'b0': -0.309474772471661, 'b1': 1.0000108999062667, 'b2': 4.641376172287437e-10, 'c2': 1.221028241422003, 'p1': 3.4988288612202387, 'd1': 2.7558235995299687}\n",
      "current iteration=169\n",
      "residual=7.222813225379639e-07\n",
      "params={'Multiplier': 0.004201819624931269, 'Ip': 0.32927376026224303, 'αPol': 6.16, 'gamma': 4.554740146343584, 'e0': 0.05003440349117105, 'a0': 1.0006506489829607, 'a1': 2.0277399553571427, 'b0': -0.3087003257539587, 'b1': 1.0000132136451916, 'b2': 3.250124613884964e-10, 'c2': 1.220198416865622, 'p1': 3.498829637808148, 'd1': 2.750603350510301}\n",
      "current iteration=170\n",
      "residual=6.907501415629721e-07\n",
      "params={'Multiplier': 0.004017192236094647, 'Ip': 0.32927376026224303, 'αPol': 6.16, 'gamma': 4.554745366056914, 'e0': 0.04873132765950672, 'a0': 1.0006520018096003, 'a1': 2.0277399553571427, 'b0': -0.3090354359444485, 'b1': 1.0000121140744842, 'b2': 3.7295544430548944e-10, 'c2': 1.2205884712709745, 'p1': 3.4988282955533063, 'd1': 2.7534165841107514}\n",
      "current iteration=171\n",
      "residual=7.409207877445739e-07\n",
      "params={'Multiplier': 0.004274528149394219, 'Ip': 0.32927376026224303, 'αPol': 6.16, 'gamma': 4.554756139987824, 'e0': 0.05071087144837283, 'a0': 1.0006526665431708, 'a1': 2.0277399553571427, 'b0': -0.3084497221253618, 'b1': 1.000011326927941, 'b2': 4.003282150222276e-10, 'c2': 1.2197348764153189, 'p1': 3.4988252300978853, 'd1': 2.750028717349094}\n",
      "current iteration=172\n",
      "residual=6.899980130565742e-07\n",
      "params={'Multiplier': 0.003700439680316303, 'Ip': 0.32927376026224303, 'αPol': 6.16, 'gamma': 4.554747850474524, 'e0': 0.04640355656680417, 'a0': 1.0006534435677739, 'a1': 2.0277399553571427, 'b0': -0.3096739663647183, 'b1': 1.0000110347910522, 'b2': 4.2666759014764466e-10, 'c2': 1.2213961664986295, 'p1': 3.4988277672805426, 'd1': 2.7582039537190264}\n",
      "current iteration=173\n",
      "residual=7.206130582150161e-07\n",
      "params={'Multiplier': 0.004107413060305931, 'Ip': 0.32927376026224303, 'αPol': 6.16, 'gamma': 4.554763094639984, 'e0': 0.05432807129239858, 'a0': 1.0006519510895515, 'a1': 2.0277399553571427, 'b0': -0.3065336762884936, 'b1': 1.0000112154336838, 'b2': 7.878475649647498e-11, 'c2': 1.2169839455789306, 'p1': 3.4988477000450016, 'd1': 2.7357794654533762}\n",
      "current iteration=174\n",
      "residual=6.881481046432468e-07\n",
      "params={'Multiplier': 0.0037828642886722497, 'Ip': 0.32927376026224303, 'αPol': 6.16, 'gamma': 4.554745587876379, 'e0': 0.045304716201568285, 'a0': 1.0006536794868506, 'a1': 2.0277399553571427, 'b0': -0.31034147337690393, 'b1': 1.0000110887737692, 'b2': 6.152132137060562e-10, 'c2': 1.222358734110066, 'p1': 3.49881923533463, 'd1': 2.763208682871144}\n",
      "current iteration=175\n",
      "residual=7.370539134644955e-07\n",
      "params={'Multiplier': 0.0042360825495079135, 'Ip': 0.32927376026224303, 'αPol': 6.16, 'gamma': 4.5547452989566715, 'e0': 0.05118116250317195, 'a0': 1.0006430241019484, 'a1': 2.0277399553571427, 'b0': -0.30764260188461867, 'b1': 1.00001157293933, 'b2': 1.5845103007450234e-11, 'c2': 1.2182689070785897, 'p1': 3.4988333034339485, 'd1': 2.7454949868554257}\n",
      "current iteration=176\n",
      "residual=6.859867220717578e-07\n",
      "params={'Multiplier': 0.0037502195503561486, 'Ip': 0.32927376026224303, 'αPol': 6.16, 'gamma': 4.554752990706073, 'e0': 0.046775250598338314, 'a0': 1.000656955090224, 'a1': 2.0277399553571427, 'b0': -0.30976696806633996, 'b1': 1.0000109599866482, 'b2': 6.747349345914699e-10, 'c2': 1.2216527829309016, 'p1': 3.498825820093173, 'd1': 2.758420714300762}\n",
      "current iteration=177\n",
      "residual=6.889623271365408e-07\n",
      "params={'Multiplier': 0.0036606798865740364, 'Ip': 0.32927376026224303, 'αPol': 6.16, 'gamma': 4.554742897933068, 'e0': 0.04928543020875886, 'a0': 1.0006504081589742, 'a1': 2.0277399553571427, 'b0': -0.3092086259467768, 'b1': 1.0000118648601433, 'b2': 3.905986645236226e-11, 'c2': 1.2215740687125733, 'p1': 3.498804262780837, 'd1': 2.7638427918923316}\n",
      "current iteration=178\n",
      "residual=6.981042099422494e-07\n",
      "params={'Multiplier': 0.0035183575980218817, 'Ip': 0.32927376026224303, 'αPol': 6.16, 'gamma': 4.5547380535991735, 'e0': 0.04964111738048471, 'a0': 1.000647495535661, 'a1': 2.0277399553571427, 'b0': -0.30778859162270233, 'b1': 1.0000112997297383, 'b2': 1.1247447417872536e-11, 'c2': 1.218234598161788, 'p1': 3.498840272340624, 'd1': 2.749122813241626}\n",
      "current iteration=179\n",
      "residual=6.848591230322334e-07\n",
      "params={'Multiplier': 0.003670708687309676, 'Ip': 0.32927376026224303, 'αPol': 6.16, 'gamma': 4.554743238548662, 'e0': 0.04901924991432183, 'a0': 1.0006497186693073, 'a1': 2.0277399553571427, 'b0': -0.3084068206430926, 'b1': 1.0000112840800337, 'b2': 9.350031859867158e-11, 'c2': 1.2194035311044233, 'p1': 3.498832867782047, 'd1': 2.752302189209219}\n",
      "current iteration=180\n",
      "residual=6.904063437653808e-07\n",
      "params={'Multiplier': 0.0034837232779604266, 'Ip': 0.32927376026224303, 'αPol': 6.16, 'gamma': 4.554716684046526, 'e0': 0.05422681760632142, 'a0': 1.00065373163922, 'a1': 2.0277399553571427, 'b0': -0.3084706148596719, 'b1': 1.0000126452080822, 'b2': 1.0866640920426107e-10, 'c2': 1.2224462098824844, 'p1': 3.4988476322074415, 'd1': 2.7485426772540738}\n",
      "current iteration=181\n",
      "residual=7.181776430969359e-07\n",
      "params={'Multiplier': 0.0033898516731113437, 'Ip': 0.32927376026224303, 'αPol': 6.16, 'gamma': 4.5547355880332185, 'e0': 0.05082280041882492, 'a0': 1.0006505239829153, 'a1': 2.0277399553571427, 'b0': -0.3080218766539702, 'b1': 1.0000120220889817, 'b2': 9.030332037696098e-12, 'c2': 1.2202544814182898, 'p1': 3.498833449538064, 'd1': 2.7512540955783247}\n",
      "current iteration=182\n",
      "residual=6.817515561589138e-07\n",
      "params={'Multiplier': 0.0038984890391412508, 'Ip': 0.32927376026224303, 'αPol': 6.16, 'gamma': 4.554745423074217, 'e0': 0.04886824326629213, 'a0': 1.0006526520797738, 'a1': 2.0277399553571427, 'b0': -0.3092097827098862, 'b1': 1.0000113029500806, 'b2': 3.579920804241965e-10, 'c2': 1.2209994026678852, 'p1': 3.4988283200558676, 'd1': 2.755145680301999}\n",
      "current iteration=183\n",
      "residual=7.197943241070233e-07\n",
      "params={'Multiplier': 0.003375838701272893, 'Ip': 0.32927376026224303, 'αPol': 6.16, 'gamma': 4.554737866761438, 'e0': 0.051334463110315864, 'a0': 1.0006508245906691, 'a1': 2.0277399553571427, 'b0': -0.3080998576251458, 'b1': 1.0000122660285906, 'b2': 2.6650903706126883e-11, 'c2': 1.2204681797196502, 'p1': 3.498831090313411, 'd1': 2.7517378084381434}\n",
      "current iteration=184\n",
      "residual=6.813312316781587e-07\n",
      "params={'Multiplier': 0.003882215435987324, 'Ip': 0.32927376026224303, 'αPol': 6.16, 'gamma': 4.554744158757751, 'e0': 0.048761024502615546, 'a0': 1.0006524506811685, 'a1': 2.0277399553571427, 'b0': -0.3091310437600322, 'b1': 1.0000112414368478, 'b2': 3.044504648386237e-10, 'c2': 1.220888224467298, 'p1': 3.498829418493531, 'd1': 2.7548021199173696}\n",
      "current iteration=185\n",
      "residual=6.992762076895421e-07\n",
      "params={'Multiplier': 0.004237144031424722, 'Ip': 0.32927376026224303, 'αPol': 6.16, 'gamma': 4.55474165614326, 'e0': 0.04140330196553865, 'a0': 1.000655276413567, 'a1': 2.0277399553571427, 'b0': -0.3109503494892891, 'b1': 1.0000106160810063, 'b2': 3.2345186529170178e-09, 'c2': 1.2262834480112161, 'p1': 3.4988546059312324, 'd1': 2.7900471027557665}\n",
      "current iteration=186\n",
      "residual=6.83549794196544e-07\n",
      "params={'Multiplier': 0.003541473095420078, 'Ip': 0.32927376026224303, 'αPol': 6.16, 'gamma': 4.55474247557305, 'e0': 0.05275797001202087, 'a0': 1.000650713493771, 'a1': 2.0277399553571427, 'b0': -0.3080191432220247, 'b1': 1.0000119028585146, 'b2': 6.026068533060425e-12, 'c2': 1.218690388780026, 'p1': 3.4988206697962947, 'd1': 2.7403152459335636}\n",
      "current iteration=187\n",
      "residual=7.17919917124383e-07\n",
      "params={'Multiplier': 0.0034324557729165095, 'Ip': 0.32927376026224303, 'αPol': 6.16, 'gamma': 4.554738460705898, 'e0': 0.04972537292867929, 'a0': 1.0006522094613852, 'a1': 2.0277399553571427, 'b0': -0.30875372946662594, 'b1': 1.0000107915476786, 'b2': 1.204885080596796e-10, 'c2': 1.2214740723796051, 'p1': 3.49883414297737, 'd1': 2.7577367022409622}\n",
      "current iteration=188\n",
      "residual=6.806991918707569e-07\n",
      "params={'Multiplier': 0.0038667220292539772, 'Ip': 0.32927376026224303, 'αPol': 6.16, 'gamma': 4.554743639719156, 'e0': 0.04897896354441178, 'a0': 1.0006520537225465, 'a1': 2.0277399553571427, 'b0': -0.3089650093249928, 'b1': 1.000011783442783, 'b2': 2.968116863399928e-10, 'c2': 1.2208098677461683, 'p1': 3.4988297574093163, 'd1': 2.754496578080558}\n",
      "current iteration=189\n",
      "residual=6.917414225851025e-07\n",
      "params={'Multiplier': 0.004042087084940138, 'Ip': 0.32927376026224303, 'αPol': 6.16, 'gamma': 4.554772533851556, 'e0': 0.04347886154963776, 'a0': 1.0006501440483737, 'a1': 2.0277399553571427, 'b0': -0.30941742944446665, 'b1': 1.0000100880610192, 'b2': 4.5051096186909945e-10, 'c2': 1.2192891957569314, 'p1': 3.4988112313642543, 'd1': 2.763802582346207}\n",
      "current iteration=190\n",
      "residual=6.837288994962433e-07\n",
      "params={'Multiplier': 0.0036194453624590617, 'Ip': 0.32927376026224303, 'αPol': 6.16, 'gamma': 4.554730646497523, 'e0': 0.05143659965141412, 'a0': 1.000652834741528, 'a1': 2.0277399553571427, 'b0': -0.30870731850587063, 'b1': 1.0000120059213173, 'b2': 1.7225376680585214e-10, 'c2': 1.2216569083231623, 'p1': 3.4988385319964177, 'd1': 2.752357209705142}\n",
      "current iteration=191\n",
      "residual=6.759195793281231e-07\n",
      "params={'Multiplier': 0.0037989729966992902, 'Ip': 0.32927376026224303, 'αPol': 6.16, 'gamma': 4.5547379266274755, 'e0': 0.05211045054001873, 'a0': 1.0006503103545807, 'a1': 2.0277399553571427, 'b0': -0.30802074836765087, 'b1': 1.000011892704104, 'b2': 9.000977740925009e-11, 'c2': 1.220391269620399, 'p1': 3.4988332492337233, 'd1': 2.7529708995999886}\n",
      "current iteration=192\n",
      "residual=6.750326126956389e-07\n",
      "params={'Multiplier': 0.0038487225178410744, 'Ip': 0.32927376026224303, 'αPol': 6.16, 'gamma': 4.554732964703984, 'e0': 0.05507868322827214, 'a0': 1.0006487437479243, 'a1': 2.0277399553571427, 'b0': -0.3071941393691172, 'b1': 1.0000123216606294, 'b2': 1.5233814210091623e-11, 'c2': 1.2198888410313793, 'p1': 3.4988359902103343, 'd1': 2.7503545814947556}\n",
      "current iteration=193\n",
      "residual=6.814913988296971e-07\n",
      "params={'Multiplier': 0.0038775958726554594, 'Ip': 0.32927376026224303, 'αPol': 6.16, 'gamma': 4.5547408925230854, 'e0': 0.05028501253507178, 'a0': 1.0006530128811948, 'a1': 2.0277399553571427, 'b0': -0.30808319147006036, 'b1': 1.0000111539951102, 'b2': 5.48691092561171e-10, 'c2': 1.219876344907142, 'p1': 3.4988630992210314, 'd1': 2.7446362756600835}\n",
      "current iteration=194\n",
      "residual=6.724898559379241e-07\n",
      "params={'Multiplier': 0.0037726680002362345, 'Ip': 0.32927376026224303, 'αPol': 6.16, 'gamma': 4.554737263509131, 'e0': 0.05552231074836089, 'a0': 1.0006496082321437, 'a1': 2.0277399553571427, 'b0': -0.3064986876585644, 'b1': 1.0000119431257526, 'b2': 2.1110224679432577e-11, 'c2': 1.2185953633144422, 'p1': 3.4988568994435023, 'd1': 2.741556460537009}\n",
      "current iteration=195\n",
      "residual=6.712105249123084e-07\n",
      "params={'Multiplier': 0.003767574988335798, 'Ip': 0.32927376026224303, 'αPol': 6.16, 'gamma': 4.554733101325531, 'e0': 0.060989103444456516, 'a0': 1.000647572604689, 'a1': 2.0277399553571427, 'b0': -0.30457729479939466, 'b1': 1.0000123703017438, 'b2': 3.0358604519165056e-11, 'c2': 1.2167139689678361, 'p1': 3.498875731498894, 'd1': 2.7307339520537606}\n",
      "current iteration=196\n",
      "residual=6.73607497195313e-07\n",
      "params={'Multiplier': 0.003808902740852882, 'Ip': 0.32927376026224303, 'αPol': 6.16, 'gamma': 4.554725882803487, 'e0': 0.05681338600995556, 'a0': 1.000644456131062, 'a1': 2.0277399553571427, 'b0': -0.3060352583157394, 'b1': 1.0000123539758923, 'b2': 8.26383406149489e-12, 'c2': 1.2183134570317973, 'p1': 3.498860296965815, 'd1': 2.7408055427076783}\n",
      "current iteration=197\n",
      "residual=6.825837982140297e-07\n",
      "params={'Multiplier': 0.003918117362434859, 'Ip': 0.32927376026224303, 'αPol': 6.16, 'gamma': 4.554732163811713, 'e0': 0.05599914602459477, 'a0': 1.0006506400450188, 'a1': 2.0277399553571427, 'b0': -0.3069210932735161, 'b1': 1.0000122438616788, 'b2': 1.19302567824775e-10, 'c2': 1.2203445441809366, 'p1': 3.498858735113438, 'd1': 2.7446233386391405}\n",
      "current iteration=198\n",
      "residual=6.997371994775178e-07\n",
      "params={'Multiplier': 0.004032993036183652, 'Ip': 0.32927376026224303, 'αPol': 6.16, 'gamma': 4.554745059325711, 'e0': 0.05439798548561159, 'a0': 1.0006470850333533, 'a1': 2.0277399553571427, 'b0': -0.3062633503642671, 'b1': 1.000011569608468, 'b2': 4.938116582309249e-11, 'c2': 1.217828896094595, 'p1': 3.4988571115223115, 'd1': 2.7430217012989195}\n",
      "current iteration=199\n",
      "residual=6.762366693615313e-07\n",
      "params={'Multiplier': 0.0037207467714092113, 'Ip': 0.32927376026224303, 'αPol': 6.16, 'gamma': 4.554734249704553, 'e0': 0.05216975171341476, 'a0': 1.0006513973145348, 'a1': 2.0277399553571427, 'b0': -0.30809632647046975, 'b1': 1.0000118968431049, 'b2': 1.3456480374429702e-10, 'c2': 1.2206998320292715, 'p1': 3.498843176877833, 'd1': 2.750023165585273}\n",
      "current iteration=200\n",
      "residual=7.10114326637454e-07\n",
      "params={'Multiplier': 0.004154394521752258, 'Ip': 0.32927376026224303, 'αPol': 6.16, 'gamma': 4.554731585076466, 'e0': 0.05293944245433391, 'a0': 1.0006493430453922, 'a1': 2.0277399553571427, 'b0': -0.3069669622978022, 'b1': 1.0000116714681886, 'b2': 6.460505463934396e-10, 'c2': 1.2211971943136781, 'p1': 3.498879475140279, 'd1': 2.757006346395001}\n",
      "current iteration=201\n",
      "residual=6.753539474202233e-07\n",
      "params={'Multiplier': 0.003690144187899702, 'Ip': 0.32927376026224303, 'αPol': 6.16, 'gamma': 4.554739752948894, 'e0': 0.05280331109207714, 'a0': 1.0006503708816792, 'a1': 2.0277399553571427, 'b0': -0.3077560979909691, 'b1': 1.000011845010933, 'b2': 2.0369705922007597e-11, 'c2': 1.2193170584143547, 'p1': 3.498835371131706, 'd1': 2.744487486658086}\n",
      "current iteration=202\n",
      "residual=6.817463228330709e-07\n",
      "params={'Multiplier': 0.003721101522700443, 'Ip': 0.32927376026224303, 'αPol': 6.16, 'gamma': 4.554743414665243, 'e0': 0.04917103983769744, 'a0': 1.0006493626614772, 'a1': 2.0277399553571427, 'b0': -0.30823201318980126, 'b1': 1.0000112506948748, 'b2': 1.157409723617775e-10, 'c2': 1.2193374706008582, 'p1': 3.4988367370254383, 'd1': 2.752669988389633}\n",
      "current iteration=203\n",
      "residual=6.699167997336881e-07\n",
      "params={'Multiplier': 0.003705206797876781, 'Ip': 0.32927376026224303, 'αPol': 6.16, 'gamma': 4.554729753720974, 'e0': 0.05638621307161662, 'a0': 1.0006466927429125, 'a1': 2.0277399553571427, 'b0': -0.3057477698494141, 'b1': 1.0000121811554321, 'b2': 1.2716494524056543e-12, 'c2': 1.218350314052742, 'p1': 3.4988688354774906, 'd1': 2.74165316225266}\n",
      "current iteration=204\n",
      "residual=6.644986985025799e-07\n",
      "params={'Multiplier': 0.0036103987777501567, 'Ip': 0.32927376026224303, 'αPol': 6.16, 'gamma': 4.554721919044435, 'e0': 0.06033050518494498, 'a0': 1.0006437130742663, 'a1': 2.0277399553571427, 'b0': -0.30401676341917805, 'b1': 1.0000126202581077, 'b2': 6.035372202006783e-11, 'c2': 1.2170259159902255, 'p1': 3.498889093189397, 'd1': 2.734908303821016}\n",
      "current iteration=205\n",
      "residual=6.774517178654909e-07\n",
      "params={'Multiplier': 0.003859472719905388, 'Ip': 0.32927376026224303, 'αPol': 6.16, 'gamma': 4.554727463005773, 'e0': 0.05834368423903391, 'a0': 1.0006488522439625, 'a1': 2.0277399553571427, 'b0': -0.3058824894153745, 'b1': 1.0000125073232842, 'b2': 3.118860725237482e-11, 'c2': 1.219549805584085, 'p1': 3.498870889740279, 'd1': 2.740576063774567}\n",
      "current iteration=206\n",
      "residual=6.66706058986369e-07\n",
      "params={'Multiplier': 0.003699800333952008, 'Ip': 0.32927376026224303, 'αPol': 6.16, 'gamma': 4.554727299244451, 'e0': 0.05881202355292392, 'a0': 1.000644369896469, 'a1': 2.0277399553571427, 'b0': -0.3055911707241782, 'b1': 1.0000128746886832, 'b2': 1.1340262062731199e-10, 'c2': 1.2189456356066024, 'p1': 3.4988460856481067, 'd1': 2.7477969731486422}\n",
      "current iteration=207\n",
      "residual=6.621257286733117e-07\n",
      "params={'Multiplier': 0.003659352843070063, 'Ip': 0.32927376026224303, 'αPol': 6.16, 'gamma': 4.554720661107215, 'e0': 0.06261332780858875, 'a0': 1.000643315939517, 'a1': 2.0277399553571427, 'b0': -0.3038353438270356, 'b1': 1.0000131138973125, 'b2': 1.0594436439248511e-10, 'c2': 1.2175453921890953, 'p1': 3.4988830998077862, 'd1': 2.736231970579588}\n",
      "current iteration=208\n",
      "residual=6.518581823468039e-07\n",
      "params={'Multiplier': 0.003550379073952059, 'Ip': 0.32927376026224303, 'αPol': 6.16, 'gamma': 4.554708912282136, 'e0': 0.07012944742848992, 'a0': 1.0006387485681867, 'a1': 2.0277399553571427, 'b0': -0.3011874938605372, 'b1': 1.000014050127543, 'b2': 5.838822758619244e-10, 'c2': 1.2158742140775702, 'p1': 3.498909940466815, 'd1': 2.7269495591127253}\n",
      "current iteration=209\n",
      "residual=6.568787519898013e-07\n",
      "params={'Multiplier': 0.0036117036534563107, 'Ip': 0.32927376026224303, 'αPol': 6.16, 'gamma': 4.55471423465845, 'e0': 0.06677444673548494, 'a0': 1.0006410518671933, 'a1': 2.0277399553571427, 'b0': -0.30244587516918375, 'b1': 1.0000130252283301, 'b2': 3.36760175301265e-10, 'c2': 1.2166366711723997, 'p1': 3.4988987975040624, 'd1': 2.7310287802452384}\n",
      "current iteration=210\n",
      "residual=6.702254678260204e-07\n",
      "params={'Multiplier': 0.0035700981058294223, 'Ip': 0.32927376026224303, 'αPol': 6.16, 'gamma': 4.554727765702155, 'e0': 0.058406507013852416, 'a0': 1.0006426932707901, 'a1': 2.0277399553571427, 'b0': -0.30484107222956397, 'b1': 1.0000124049288388, 'b2': 1.3212630989301033e-10, 'c2': 1.2173139179278438, 'p1': 3.49886324672358, 'd1': 2.7430367858335902}\n",
      "current iteration=211\n",
      "residual=6.551157095089051e-07\n",
      "params={'Multiplier': 0.003545526149261069, 'Ip': 0.32927376026224303, 'αPol': 6.16, 'gamma': 4.5547153896595205, 'e0': 0.06755489719296714, 'a0': 1.0006433199842004, 'a1': 2.0277399553571427, 'b0': -0.3036309103637409, 'b1': 1.0000139494391156, 'b2': 1.0182363840982589e-09, 'c2': 1.2152427371826757, 'p1': 3.498855347210406, 'd1': 2.7190460861824035}\n",
      "current iteration=212\n",
      "residual=6.563691296712155e-07\n",
      "params={'Multiplier': 0.003618788592727129, 'Ip': 0.32927376026224303, 'αPol': 6.16, 'gamma': 4.554715194770062, 'e0': 0.06973448673918115, 'a0': 1.0006376106901724, 'a1': 2.0277399553571427, 'b0': -0.3013588887778507, 'b1': 1.000013666280858, 'b2': 1.0537322125969695e-09, 'c2': 1.214355111675104, 'p1': 3.498890803231932, 'd1': 2.7238081224024095}\n",
      "current iteration=213\n",
      "residual=6.55940468975124e-07\n",
      "params={'Multiplier': 0.0036348490169707537, 'Ip': 0.32927376026224303, 'αPol': 6.16, 'gamma': 4.5547047798901685, 'e0': 0.07263922895679342, 'a0': 1.0006360850846665, 'a1': 2.0277399553571427, 'b0': -0.30041967541472764, 'b1': 1.0000140823670143, 'b2': 1.0738219202721666e-09, 'c2': 1.2147451931325688, 'p1': 3.4989096953996666, 'd1': 2.7252061545444737}\n",
      "current iteration=214\n",
      "residual=6.461696739816018e-07\n",
      "params={'Multiplier': 0.0034396179945953564, 'Ip': 0.32927376026224303, 'αPol': 6.16, 'gamma': 4.554705931172193, 'e0': 0.0737681459940136, 'a0': 1.0006351804858589, 'a1': 2.0277399553571427, 'b0': -0.29962674124570166, 'b1': 1.0000139578585958, 'b2': 1.5597334535044638e-09, 'c2': 1.2131450829989214, 'p1': 3.4989238173599393, 'd1': 2.7143146145021704}\n",
      "current iteration=215\n",
      "residual=6.324171716201983e-07\n",
      "params={'Multiplier': 0.0032436428193037825, 'Ip': 0.32927376026224303, 'αPol': 6.16, 'gamma': 4.554692414406551, 'e0': 0.08402693516123438, 'a0': 1.0006283988537266, 'a1': 2.0277399553571427, 'b0': -0.29584304218399393, 'b1': 1.000014775957578, 'b2': 3.744427212737378e-09, 'c2': 1.2097742894766101, 'p1': 3.4989677309396723, 'd1': 2.6963048224395365}\n",
      "current iteration=216\n",
      "residual=6.414695641088313e-07\n",
      "params={'Multiplier': 0.0033660156123539453, 'Ip': 0.32927376026224303, 'αPol': 6.16, 'gamma': 4.554706319393171, 'e0': 0.07742270796318507, 'a0': 1.0006362566479652, 'a1': 2.0277399553571427, 'b0': -0.2987471790727304, 'b1': 1.0000144099396697, 'b2': 1.9695061137525727e-09, 'c2': 1.2130121584634577, 'p1': 3.4989209973964064, 'd1': 2.7149580963774476}\n",
      "current iteration=217\n",
      "residual=6.463453080693589e-07\n",
      "params={'Multiplier': 0.003327036368244829, 'Ip': 0.32927376026224303, 'αPol': 6.16, 'gamma': 4.554693744484948, 'e0': 0.07616279480103305, 'a0': 1.0006308769820713, 'a1': 2.0277399553571427, 'b0': -0.2990391194437423, 'b1': 1.0000148015414025, 'b2': 2.452011260700715e-09, 'c2': 1.2138709506004892, 'p1': 3.4989146160418017, 'd1': 2.7218711710232797}\n",
      "current iteration=218\n",
      "residual=6.422495333689889e-07\n",
      "params={'Multiplier': 0.003468865580918634, 'Ip': 0.32927376026224303, 'αPol': 6.16, 'gamma': 4.554692275864811, 'e0': 0.08293874552657265, 'a0': 1.0006333930590645, 'a1': 2.0277399553571427, 'b0': -0.29761495145640865, 'b1': 1.0000152462368195, 'b2': 2.615060390454005e-09, 'c2': 1.2125826521795156, 'p1': 3.498937374682626, 'd1': 2.7053428495017586}\n",
      "current iteration=219\n",
      "residual=6.291518858191305e-07\n",
      "params={'Multiplier': 0.003298820933735791, 'Ip': 0.32927376026224303, 'αPol': 6.16, 'gamma': 4.554685737646706, 'e0': 0.08771813564494235, 'a0': 1.000629521065323, 'a1': 2.0277399553571427, 'b0': -0.2952696091082406, 'b1': 1.0000152507866034, 'b2': 3.6097187461336944e-09, 'c2': 1.2096794390084535, 'p1': 3.4989727935699055, 'd1': 2.69210145241561}\n",
      "current iteration=220\n",
      "residual=6.09576957793436e-07\n",
      "params={'Multiplier': 0.003106914278909856, 'Ip': 0.32927376026224303, 'αPol': 6.16, 'gamma': 4.554664956848447, 'e0': 0.10406106507609558, 'a0': 1.0006220966484436, 'a1': 2.0277399553571427, 'b0': -0.29010882830027185, 'b1': 1.0000164388355601, 'b2': 7.190508632959336e-09, 'c2': 1.2050485653922984, 'p1': 3.4990361475406666, 'd1': 2.664278421527929}\n",
      "current iteration=221\n",
      "residual=6.230989804270142e-07\n",
      "params={'Multiplier': 0.0032839231810831704, 'Ip': 0.32927376026224303, 'αPol': 6.16, 'gamma': 4.5546797254074285, 'e0': 0.09511975600869094, 'a0': 1.0006258546021745, 'a1': 2.0277399553571427, 'b0': -0.2940624293894595, 'b1': 1.0000162689326668, 'b2': 6.141364528033932e-09, 'c2': 1.2092028739271172, 'p1': 3.498959196891903, 'd1': 2.69085304785705}\n",
      "current iteration=222\n",
      "residual=6.207820568691774e-07\n",
      "params={'Multiplier': 0.0032189967232704175, 'Ip': 0.32927376026224303, 'αPol': 6.16, 'gamma': 4.554680507943045, 'e0': 0.09351701120229983, 'a0': 1.0006254763565756, 'a1': 2.0277399553571427, 'b0': -0.2939566284835088, 'b1': 1.000016512703312, 'b2': 6.3660874349835694e-09, 'c2': 1.208105585218042, 'p1': 3.498961572454353, 'd1': 2.6866975915676385}\n",
      "current iteration=223\n",
      "residual=6.173658604706993e-07\n",
      "params={'Multiplier': 0.0031352294954521964, 'Ip': 0.32927376026224303, 'αPol': 6.16, 'gamma': 4.554672610466205, 'e0': 0.09518054873374981, 'a0': 1.0006264906673912, 'a1': 2.0277399553571427, 'b0': -0.29356316281597344, 'b1': 1.0000164409352768, 'b2': 5.646448641982715e-09, 'c2': 1.2091364090722454, 'p1': 3.4989837205730874, 'd1': 2.6864928563576265}\n",
      "current iteration=224\n",
      "residual=6.177297083425592e-07\n",
      "params={'Multiplier': 0.003025025100390155, 'Ip': 0.32927376026224303, 'αPol': 6.16, 'gamma': 4.554676591461043, 'e0': 0.09665606010395922, 'a0': 1.0006260973895456, 'a1': 2.0277399553571427, 'b0': -0.2931310736593456, 'b1': 1.0000164965627738, 'b2': 6.94048951643822e-09, 'c2': 1.2076250172969134, 'p1': 3.498979633438334, 'd1': 2.6773573850909913}\n",
      "current iteration=225\n",
      "residual=5.990461864924007e-07\n",
      "params={'Multiplier': 0.003007088803947622, 'Ip': 0.32927376026224303, 'αPol': 6.16, 'gamma': 4.554658222052641, 'e0': 0.10912368895317126, 'a0': 1.0006154179681668, 'a1': 2.0277399553571427, 'b0': -0.2878198713694534, 'b1': 1.0000171389154022, 'b2': 8.920606475726345e-09, 'c2': 1.2056047508207302, 'p1': 3.4990588388894404, 'd1': 2.6751776208553806}\n",
      "current iteration=226\n",
      "residual=5.683132882915655e-07\n",
      "params={'Multiplier': 0.002754422347672647, 'Ip': 0.32927376026224303, 'αPol': 6.16, 'gamma': 4.5546296382504, 'e0': 0.1330603896235516, 'a0': 1.0006014669556242, 'a1': 2.0277399553571427, 'b0': -0.27991435187230973, 'b1': 1.000018733653539, 'b2': 1.580514985555226e-08, 'c2': 1.2007884148808348, 'p1': 3.499160584752616, 'd1': 2.653258981725895}\n",
      "current iteration=227\n",
      "residual=5.855986874986503e-07\n",
      "params={'Multiplier': 0.0028489405314279237, 'Ip': 0.32927376026224303, 'αPol': 6.16, 'gamma': 4.554648844623555, 'e0': 0.11928880313413215, 'a0': 1.0006125330628923, 'a1': 2.0277399553571427, 'b0': -0.28600865947501164, 'b1': 1.000017974932173, 'b2': 1.5007743714434696e-08, 'c2': 1.2019576768180178, 'p1': 3.499054374476691, 'd1': 2.6525543809746712}\n",
      "current iteration=228\n",
      "residual=5.921949469583097e-07\n",
      "params={'Multiplier': 0.002961499146237556, 'Ip': 0.32927376026224303, 'αPol': 6.16, 'gamma': 4.55465503244791, 'e0': 0.1212720949464634, 'a0': 1.0006167358672509, 'a1': 2.0277399553571427, 'b0': -0.2855509418980604, 'b1': 1.00001785819647, 'b2': 1.2487979539343996e-08, 'c2': 1.2015774900847358, 'p1': 3.499077650591052, 'd1': 2.643772869370854}\n",
      "current iteration=229\n",
      "residual=5.872011004327553e-07\n",
      "params={'Multiplier': 0.0027360091288523014, 'Ip': 0.32927376026224303, 'αPol': 6.16, 'gamma': 4.554649052384766, 'e0': 0.12141838303618502, 'a0': 1.0006108883505958, 'a1': 2.0277399553571427, 'b0': -0.28456230797372445, 'b1': 1.000017935892984, 'b2': 1.4945587878401057e-08, 'c2': 1.2006646195338737, 'p1': 3.4990829471295286, 'd1': 2.6479706954281483}\n",
      "current iteration=230\n",
      "residual=5.625492269135541e-07\n",
      "params={'Multiplier': 0.0027086453215564577, 'Ip': 0.32927376026224303, 'αPol': 6.16, 'gamma': 4.554623555456059, 'e0': 0.13810949491666702, 'a0': 1.0006029510996783, 'a1': 2.0277399553571427, 'b0': -0.28059310613760136, 'b1': 1.0000194773807882, 'b2': 2.0904908248908782e-08, 'c2': 1.1977676142403249, 'p1': 3.499131714371937, 'd1': 2.624986648037708}\n",
      "current iteration=231\n",
      "residual=5.197391371251258e-07\n",
      "params={'Multiplier': 0.002406620021246586, 'Ip': 0.32927376026224303, 'αPol': 6.16, 'gamma': 4.554582173490111, 'e0': 0.1737631378298139, 'a0': 1.0005862983192069, 'a1': 2.0277399553571427, 'b0': -0.27151606967003683, 'b1': 1.0000220111013296, 'b2': 3.790356783994753e-08, 'c2': 1.1901530685470962, 'p1': 3.4992370728832056, 'd1': 2.5800689394620506}\n",
      "current iteration=232\n",
      "residual=5.510114909122463e-07\n",
      "params={'Multiplier': 0.002655362671182604, 'Ip': 0.32927376026224303, 'αPol': 6.16, 'gamma': 4.554615412258682, 'e0': 0.14868093684715, 'a0': 1.0006023887899997, 'a1': 2.0277399553571427, 'b0': -0.2786318485235465, 'b1': 1.0000205583916297, 'b2': 2.386160558032202e-08, 'c2': 1.197078363152477, 'p1': 3.499138849206678, 'd1': 2.620366677005776}\n",
      "current iteration=233\n",
      "residual=5.530109402134392e-07\n",
      "params={'Multiplier': 0.0025022145518168726, 'Ip': 0.32927376026224303, 'αPol': 6.16, 'gamma': 4.554615238627581, 'e0': 0.1466252487116202, 'a0': 1.0006002398792093, 'a1': 2.0277399553571427, 'b0': -0.2773263451448984, 'b1': 1.0000199233083429, 'b2': 2.326171655298026e-08, 'c2': 1.1952257322639355, 'p1': 3.499183313725574, 'd1': 2.6117243171313578}\n",
      "current iteration=234\n",
      "residual=5.34062621517722e-07\n",
      "params={'Multiplier': 0.0024254248387242106, 'Ip': 0.32927376026224303, 'αPol': 6.16, 'gamma': 4.554601402229454, 'e0': 0.16040831366888875, 'a0': 1.0005955708283503, 'a1': 2.0277399553571427, 'b0': -0.27410608938312697, 'b1': 1.000020361658703, 'b2': 2.7437619287695725e-08, 'c2': 1.193747389969356, 'p1': 3.4992252864245463, 'd1': 2.6008919960889028}\n",
      "current iteration=235\n",
      "residual=5.261986733520813e-07\n",
      "params={'Multiplier': 0.0024835108975215237, 'Ip': 0.32927376026224303, 'αPol': 6.16, 'gamma': 4.5545902808654795, 'e0': 0.1706814839084354, 'a0': 1.000588844481108, 'a1': 2.0277399553571427, 'b0': -0.27112664735204656, 'b1': 1.0000211508184234, 'b2': 3.1893638396951474e-08, 'c2': 1.191453880371482, 'p1': 3.4992563560399774, 'd1': 2.594935838282426}\n",
      "current iteration=236\n",
      "residual=4.983066792734975e-07\n",
      "params={'Multiplier': 0.002266660257488895, 'Ip': 0.32927376026224303, 'αPol': 6.16, 'gamma': 4.554577795940618, 'e0': 0.18981306140015364, 'a0': 1.0005809219631914, 'a1': 2.0277399553571427, 'b0': -0.26620725510263327, 'b1': 1.000022148422544, 'b2': 4.3032870156167746e-08, 'c2': 1.1864125787331705, 'p1': 3.4993067960081934, 'd1': 2.567534660441196}\n",
      "current iteration=237\n",
      "residual=4.3242136352328046e-07\n",
      "params={'Multiplier': 0.0018849419745338158, 'Ip': 0.32927376026224303, 'αPol': 6.16, 'gamma': 4.554530388681425, 'e0': 0.24628225288786543, 'a0': 1.0005581375996346, 'a1': 2.0277399553571427, 'b0': -0.2525293012459632, 'b1': 1.0000250021661516, 'b2': 7.485370656645784e-08, 'c2': 1.1750713518693523, 'p1': 3.4994683337714356, 'd1': 2.5081800481995558}\n",
      "current iteration=238\n",
      "residual=4.788094152445722e-07\n",
      "params={'Multiplier': 0.002060958010118852, 'Ip': 0.32927376026224303, 'αPol': 6.16, 'gamma': 4.554558535925007, 'e0': 0.20847111644946437, 'a0': 1.0005725241729624, 'a1': 2.0277399553571427, 'b0': -0.2621456842074731, 'b1': 1.0000238631883707, 'b2': 5.548336901028961e-08, 'c2': 1.1844991665621363, 'p1': 3.499340806273268, 'd1': 2.5584889981120216}\n",
      "current iteration=239\n",
      "residual=4.923655356601154e-07\n",
      "params={'Multiplier': 0.0020172473429570514, 'Ip': 0.32927376026224303, 'αPol': 6.16, 'gamma': 4.554549161020954, 'e0': 0.20566446521783122, 'a0': 1.0005690426160865, 'a1': 2.0277399553571427, 'b0': -0.26202251907156704, 'b1': 1.0000236448258526, 'b2': 5.445512063495528e-08, 'c2': 1.184551156097231, 'p1': 3.4993519343527164, 'd1': 2.561909786798364}\n",
      "current iteration=240\n",
      "residual=4.601967736072046e-07\n",
      "params={'Multiplier': 0.002074688958567328, 'Ip': 0.32927376026224303, 'αPol': 6.16, 'gamma': 4.554535162811873, 'e0': 0.22433350481840209, 'a0': 1.0005665209871135, 'a1': 2.0277399553571427, 'b0': -0.25850319521547155, 'b1': 1.0000247089159047, 'b2': 6.00615113199865e-08, 'c2': 1.182242894735163, 'p1': 3.499400435266617, 'd1': 2.5405307945787756}\n",
      "current iteration=241\n",
      "residual=4.2719425112114897e-07\n",
      "params={'Multiplier': 0.0018415883466561533, 'Ip': 0.32927376026224303, 'αPol': 6.16, 'gamma': 4.554512634212425, 'e0': 0.2511024239238977, 'a0': 1.000555673854659, 'a1': 2.0277399553571427, 'b0': -0.25155575086227644, 'b1': 1.0000260166734505, 'b2': 7.2540929707543e-08, 'c2': 1.1770154031058107, 'p1': 3.4994982201063918, 'd1': 2.5135927763526382}\n",
      "current iteration=242\n",
      "residual=3.5457751450467665e-07\n",
      "params={'Multiplier': 0.001419827279005026, 'Ip': 0.32927376026224303, 'αPol': 6.16, 'gamma': 4.554444529014776, 'e0': 0.32966030538831315, 'a0': 1.000527244233413, 'a1': 2.0277399553571427, 'b0': -0.23432929655590884, 'b1': 1.0000300375440292, 'b2': 1.1747639683257205e-07, 'c2': 1.1645730023857517, 'p1': 3.499720142987701, 'd1': 2.4442896509326735}\n",
      "current iteration=243\n",
      "residual=4.0167829407892726e-07\n",
      "params={'Multiplier': 0.0016684163720029899, 'Ip': 0.32927376026224303, 'αPol': 6.16, 'gamma': 4.554494818736971, 'e0': 0.274775488292639, 'a0': 1.0005518954237524, 'a1': 2.0277399553571427, 'b0': -0.24853304740169802, 'b1': 1.000027518730184, 'b2': 9.580742754700111e-08, 'c2': 1.1709454035772415, 'p1': 3.499503921439863, 'd1': 2.471154106933795}\n",
      "current iteration=244\n",
      "residual=3.912741361738143e-07\n",
      "params={'Multiplier': 0.00171997328325324, 'Ip': 0.32927376026224303, 'αPol': 6.16, 'gamma': 4.554485134381335, 'e0': 0.28579209250952475, 'a0': 1.0005434536061335, 'a1': 2.0277399553571427, 'b0': -0.24536239458046927, 'b1': 1.0000278481597569, 'b2': 9.867786254780242e-08, 'c2': 1.1716419178729602, 'p1': 3.499545314012286, 'd1': 2.4844641347005547}\n",
      "current iteration=245\n",
      "residual=3.7721181900480396e-07\n",
      "params={'Multiplier': 0.0014403006852431455, 'Ip': 0.32927376026224303, 'αPol': 6.16, 'gamma': 4.5544589051771505, 'e0': 0.314166376823636, 'a0': 1.000529517650593, 'a1': 2.0277399553571427, 'b0': -0.23740300041320572, 'b1': 1.0000286710300925, 'b2': 1.1841023805914119e-07, 'c2': 1.164718948498737, 'p1': 3.49967107152991, 'd1': 2.4487311130671263}\n",
      "current iteration=246\n",
      "residual=3.431440888061455e-07\n",
      "params={'Multiplier': 0.001442051866375249, 'Ip': 0.32927376026224303, 'αPol': 6.16, 'gamma': 4.554444415796041, 'e0': 0.3333818704106226, 'a0': 1.0005231249770867, 'a1': 2.0277399553571427, 'b0': -0.23458814175964104, 'b1': 1.0000305296372705, 'b2': 1.358879506696553e-07, 'c2': 1.1622433385196271, 'p1': 3.49967379131003, 'd1': 2.4377561374966707}\n",
      "current iteration=247\n",
      "residual=2.7891864993824774e-07\n",
      "params={'Multiplier': 0.0010455638553480417, 'Ip': 0.32927376026224303, 'αPol': 6.16, 'gamma': 4.554365922590573, 'e0': 0.4346111435759237, 'a0': 1.0004869020251208, 'a1': 2.0277399553571427, 'b0': -0.21482916794789808, 'b1': 1.0000356136264423, 'b2': 2.210158343007862e-07, 'c2': 1.146546422340617, 'p1': 3.499898043800031, 'd1': 2.3564495359785136}\n",
      "current iteration=248\n",
      "residual=3.60380910044873e-07\n",
      "params={'Multiplier': 0.0011483262061581234, 'Ip': 0.32927376026224303, 'αPol': 6.16, 'gamma': 4.554410665505547, 'e0': 0.37654739773620216, 'a0': 1.0005094628341917, 'a1': 2.0277399553571427, 'b0': -0.22630808790989176, 'b1': 1.0000326330391507, 'b2': 1.713894064447885e-07, 'c2': 1.1555577425720926, 'p1': 3.499771059248067, 'd1': 2.3960599296213947}\n",
      "current iteration=249\n",
      "residual=3.695217297862283e-07\n",
      "params={'Multiplier': 0.0010004568989444573, 'Ip': 0.32927376026224303, 'αPol': 6.16, 'gamma': 4.554384471286352, 'e0': 0.4187143156083377, 'a0': 1.0004966418928816, 'a1': 2.0277399553571427, 'b0': -0.2168770692398725, 'b1': 1.000033897143799, 'b2': 1.9514507743068066e-07, 'c2': 1.1499537438465883, 'p1': 3.4998971397060217, 'd1': 2.3741483759337245}\n",
      "current iteration=250\n",
      "residual=2.7023746466210874e-07\n",
      "params={'Multiplier': 0.0010968562407213112, 'Ip': 0.32927376026224303, 'αPol': 6.16, 'gamma': 4.55438454580475, 'e0': 0.4241426915522275, 'a0': 1.0004994174632702, 'a1': 2.0277399553571427, 'b0': -0.2173415298720034, 'b1': 1.0000343138828844, 'b2': 1.9781472504476483e-07, 'c2': 1.1486248281066977, 'p1': 3.49989131927658, 'd1': 2.3547624702309777}\n",
      "current iteration=251\n",
      "residual=2.4007357109911375e-07\n",
      "params={'Multiplier': 0.0007409223845548096, 'Ip': 0.32927376026224303, 'αPol': 6.16, 'gamma': 4.554302238209722, 'e0': 0.5499686003716482, 'a0': 1.0004646048636376, 'a1': 2.0277399553571427, 'b0': -0.19500103527222157, 'b1': 1.0000396484112615, 'b2': 3.030143527205098e-07, 'c2': 1.1307447895494873, 'p1': 3.5001610117723634, 'd1': 2.2516408422912315}\n",
      "current iteration=252\n",
      "residual=2.822802900565081e-07\n",
      "params={'Multiplier': 0.0008409058501995803, 'Ip': 0.32927376026224303, 'αPol': 6.16, 'gamma': 4.55432391136491, 'e0': 0.4941121750986046, 'a0': 1.0004743520318284, 'a1': 2.0277399553571427, 'b0': -0.203789434949047, 'b1': 1.0000372525649126, 'b2': 2.5558531557834385e-07, 'c2': 1.1379509958007044, 'p1': 3.5000664884742876, 'd1': 2.2969257698679693}\n",
      "current iteration=253\n",
      "residual=4.7304762461003263e-07\n",
      "params={'Multiplier': 0.0006521162326368346, 'Ip': 0.32927376026224303, 'αPol': 6.16, 'gamma': 4.554305034188181, 'e0': 0.5338112037334826, 'a0': 1.0004619214224404, 'a1': 2.0277399553571427, 'b0': -0.19648917188776366, 'b1': 1.0000389155671565, 'b2': 3.00441048928235e-07, 'c2': 1.131371369387434, 'p1': 3.5001400701146075, 'd1': 2.2662226957716713}\n",
      "current iteration=254\n",
      "residual=3.814747874486828e-07\n",
      "params={'Multiplier': 0.001644059383903218, 'Ip': 0.32927376026224303, 'αPol': 6.16, 'gamma': 4.554477630649726, 'e0': 0.29355956049211596, 'a0': 1.0005403711093552, 'a1': 2.0277399553571427, 'b0': -0.24299968938354458, 'b1': 1.0000282605787756, 'b2': 1.029364695703805e-07, 'c2': 1.1694860098079207, 'p1': 3.499585343955264, 'd1': 2.471761405432751}\n",
      "current iteration=255\n",
      "residual=3.826263091505665e-07\n",
      "params={'Multiplier': 0.0007342182625243998, 'Ip': 0.32927376026224303, 'αPol': 6.16, 'gamma': 4.554299256713642, 'e0': 0.5171665164841899, 'a0': 1.0004667515185826, 'a1': 2.0277399553571427, 'b0': -0.20055714348478831, 'b1': 1.000039273999421, 'b2': 2.7989823858654006e-07, 'c2': 1.1373797730886508, 'p1': 3.500095573634166, 'd1': 2.2911122214477375}\n",
      "current iteration=256\n",
      "residual=3.562946311448026e-07\n",
      "params={'Multiplier': 0.0007245185017011879, 'Ip': 0.32927376026224303, 'αPol': 6.16, 'gamma': 4.554295714248762, 'e0': 0.5347327345596518, 'a0': 1.0004559649108207, 'a1': 2.0277399553571427, 'b0': -0.19495821654567158, 'b1': 1.0000391084892943, 'b2': 2.883965755096085e-07, 'c2': 1.1347888376502357, 'p1': 3.500178316402409, 'd1': 2.292017896104138}\n",
      "current iteration=257\n",
      "residual=6.046654442741095e-07\n",
      "params={'Multiplier': 0.000546580285887388, 'Ip': 0.32927376026224303, 'αPol': 6.16, 'gamma': 4.554267514580836, 'e0': 0.5757421276358299, 'a0': 1.0004469089893426, 'a1': 2.0277399553571427, 'b0': -0.18804803375994072, 'b1': 1.0000410311255894, 'b2': 3.329314961497687e-07, 'c2': 1.1267583688238056, 'p1': 3.5002635243026003, 'd1': 2.240437663759492}\n",
      "current iteration=258\n",
      "residual=3.2603350773835034e-07\n",
      "params={'Multiplier': 0.0013652941547420694, 'Ip': 0.32927376026224303, 'αPol': 6.16, 'gamma': 4.5544307294254045, 'e0': 0.352494432411131, 'a0': 1.0005193174629292, 'a1': 2.0277399553571427, 'b0': -0.23103380437533713, 'b1': 1.0000311439012692, 'b2': 1.4428472350225263e-07, 'c2': 1.160387819868364, 'p1': 3.49972486657312, 'd1': 2.4232990328359256}\n",
      "current iteration=259\n",
      "residual=3.694228492731081e-07\n",
      "params={'Multiplier': 0.001578180846007915, 'Ip': 0.32927376026224303, 'αPol': 6.16, 'gamma': 4.554479686786483, 'e0': 0.30533463270552486, 'a0': 1.0005341242798211, 'a1': 2.0277399553571427, 'b0': -0.23894861703373144, 'b1': 1.0000279792663302, 'b2': 1.1038158076459581e-07, 'c2': 1.1655669405080735, 'p1': 3.4996391232596786, 'd1': 2.460009474140896}\n",
      "current iteration=260\n",
      "residual=4.220220898414093e-07\n",
      "params={'Multiplier': 0.000681803812639159, 'Ip': 0.32927376026224303, 'αPol': 6.16, 'gamma': 4.554301724077174, 'e0': 0.5338770935404378, 'a0': 1.0004592553161833, 'a1': 2.0277399553571427, 'b0': -0.19569585666501263, 'b1': 1.000038936424499, 'b2': 2.9456042516251557e-07, 'c2': 1.1327041100871849, 'p1': 3.500160108806215, 'd1': 2.277082942272601}\n",
      "current iteration=261\n",
      "residual=3.2993639872066644e-07\n",
      "params={'Multiplier': 0.0013644605702919366, 'Ip': 0.32927376026224303, 'αPol': 6.16, 'gamma': 4.554433654002828, 'e0': 0.3495059939475882, 'a0': 1.0005200921688742, 'a1': 2.0277399553571427, 'b0': -0.2311737312039116, 'b1': 1.0000309295402414, 'b2': 1.4161027728221143e-07, 'c2': 1.1602685318234935, 'p1': 3.4997290351595254, 'd1': 2.422991754906909}\n",
      "current iteration=262\n",
      "residual=2.64354683175233e-07\n",
      "params={'Multiplier': 0.000812543732567117, 'Ip': 0.32927376026224303, 'αPol': 6.16, 'gamma': 4.554315399311876, 'e0': 0.5177051651942868, 'a0': 1.0004682236868272, 'a1': 2.0277399553571427, 'b0': -0.2000466917934926, 'b1': 1.0000389776752123, 'b2': 2.7657519652279916e-07, 'c2': 1.136557937853564, 'p1': 3.500085973949914, 'd1': 2.294873098227417}\n",
      "current iteration=263\n",
      "residual=2.6046417318829546e-07\n",
      "params={'Multiplier': 0.0011697739720651912, 'Ip': 0.32927376026224303, 'αPol': 6.16, 'gamma': 4.554376018800396, 'e0': 0.4248954506340672, 'a0': 1.000495415816078, 'a1': 2.0277399553571427, 'b0': -0.21720654747754986, 'b1': 1.000034767667886, 'b2': 1.981052515365178e-07, 'c2': 1.1486050064301119, 'p1': 3.4998976726141304, 'd1': 2.353418996615715}\n",
      "current iteration=264\n",
      "residual=3.883076583505278e-07\n",
      "params={'Multiplier': 0.0006249858476005121, 'Ip': 0.32927376026224303, 'αPol': 6.16, 'gamma': 4.554260069720559, 'e0': 0.5756351594519218, 'a0': 1.000450191712694, 'a1': 2.0277399553571427, 'b0': -0.1907865857724546, 'b1': 1.000042043225479, 'b2': 3.331318814137063e-07, 'c2': 1.129664217731522, 'p1': 3.5002073989431093, 'd1': 2.2465974042915597}\n",
      "current iteration=265\n",
      "residual=3.124972104821749e-07\n",
      "params={'Multiplier': 0.0012992511818871177, 'Ip': 0.32927376026224303, 'αPol': 6.16, 'gamma': 4.554424782514055, 'e0': 0.36810021241274016, 'a0': 1.000513141146281, 'a1': 2.0277399553571427, 'b0': -0.22690810921841223, 'b1': 1.0000314952561802, 'b2': 1.5482011672673934e-07, 'c2': 1.156569491792806, 'p1': 3.499781192174666, 'd1': 2.4065339606480762}\n",
      "current iteration=266\n",
      "residual=2.0837897778022466e-07\n",
      "params={'Multiplier': 0.0009779157698387442, 'Ip': 0.32927376026224303, 'αPol': 6.16, 'gamma': 4.5543319143889684, 'e0': 0.4926612763993059, 'a0': 1.0004755888390537, 'a1': 2.0277399553571427, 'b0': -0.20354711915799822, 'b1': 1.0000371618962218, 'b2': 2.4139235121900526e-07, 'c2': 1.1398271331553045, 'p1': 3.5000774895332087, 'd1': 2.3123580129817833}\n",
      "current iteration=267\n",
      "residual=1.7261315327035244e-07\n",
      "params={'Multiplier': 0.0008978380088594529, 'Ip': 0.32927376026224303, 'αPol': 6.16, 'gamma': 4.554292538833859, 'e0': 0.5538157652090503, 'a0': 1.000458651836308, 'a1': 2.0277399553571427, 'b0': -0.19216663478205143, 'b1': 1.0000394263247294, 'b2': 2.808781793817161e-07, 'c2': 1.1319799082149151, 'p1': 3.5002307046743257, 'd1': 2.270585435328939}\n",
      "current iteration=268\n",
      "residual=3.5346298773684436e-07\n",
      "params={'Multiplier': 0.001509355812964297, 'Ip': 0.32927376026224303, 'αPol': 6.16, 'gamma': 4.554446230568202, 'e0': 0.3419835525558448, 'a0': 1.000529624134118, 'a1': 2.0277399553571427, 'b0': -0.2343386741694945, 'b1': 1.0000307500131231, 'b2': 1.3459657721703877e-07, 'c2': 1.1600508566517322, 'p1': 3.49968071003759, 'd1': 2.4121585152775107}\n",
      "current iteration=269\n",
      "residual=1.8174047870552775e-07\n",
      "params={'Multiplier': 0.0008020777394200929, 'Ip': 0.32927376026224303, 'αPol': 6.16, 'gamma': 4.554297756112468, 'e0': 0.5517206124436012, 'a0': 1.0004588207941667, 'a1': 2.0277399553571427, 'b0': -0.19496946968197437, 'b1': 1.0000399634521797, 'b2': 3.2032949537352806e-07, 'c2': 1.1293927389246887, 'p1': 3.5001309968598444, 'd1': 2.2536352622055964}\n",
      "current iteration=270\n",
      "residual=3.779074393765985e-07\n",
      "params={'Multiplier': 0.0006272459686215148, 'Ip': 0.32927376026224303, 'αPol': 6.16, 'gamma': 4.554266359671946, 'e0': 0.5823067015575301, 'a0': 1.0004422802158306, 'a1': 2.0277399553571427, 'b0': -0.18708625117088462, 'b1': 1.0000410936708872, 'b2': 3.3834153456702154e-07, 'c2': 1.127774348076543, 'p1': 3.5002604871749705, 'd1': 2.2539731747546976}\n",
      "current iteration=271\n",
      "residual=2.83429849117049e-07\n",
      "params={'Multiplier': 0.0012531180855507307, 'Ip': 0.32927376026224303, 'αPol': 6.16, 'gamma': 4.554401262840087, 'e0': 0.3985822151845677, 'a0': 1.0005077881633653, 'a1': 2.0277399553571427, 'b0': -0.22252556841984203, 'b1': 1.0000333359275992, 'b2': 1.7688196929377398e-07, 'c2': 1.1519634035967852, 'p1': 3.4998256543181085, 'd1': 2.3725433284049506}\n",
      "current iteration=272\n",
      "residual=1.956767103062262e-07\n",
      "params={'Multiplier': 0.0007101777962669198, 'Ip': 0.32927376026224303, 'αPol': 6.16, 'gamma': 4.554272458003177, 'e0': 0.5846919214540909, 'a0': 1.0004493513871031, 'a1': 2.0277399553571427, 'b0': -0.1885215615796536, 'b1': 1.0000413954212313, 'b2': 3.3766137530477636e-07, 'c2': 1.1259065948885711, 'p1': 3.500231485883589, 'd1': 2.23315293486982}\n",
      "current iteration=273\n",
      "residual=2.2401751424224226e-07\n",
      "params={'Multiplier': 0.0006040632832645665, 'Ip': 0.32927376026224303, 'αPol': 6.16, 'gamma': 4.55424372829961, 'e0': 0.631120061502517, 'a0': 1.0004361328717866, 'a1': 2.0277399553571427, 'b0': -0.1801590398490914, 'b1': 1.0000432313641567, 'b2': 3.8167326721350037e-07, 'c2': 1.1189218040506903, 'p1': 3.5003369783273266, 'd1': 2.194953445488984}\n",
      "current iteration=274\n",
      "residual=2.5091860687602847e-07\n",
      "params={'Multiplier': 0.0005377360417418986, 'Ip': 0.32927376026224303, 'αPol': 6.16, 'gamma': 4.554213464371893, 'e0': 0.6692800763372071, 'a0': 1.0004269075321182, 'a1': 2.0277399553571427, 'b0': -0.17493492113215217, 'b1': 1.0000452272307938, 'b2': 4.212510624768129e-07, 'c2': 1.1152123743831508, 'p1': 3.500391809950457, 'd1': 2.169442997170601}\n",
      "current iteration=275\n",
      "residual=4.338626130518254e-07\n",
      "params={'Multiplier': 0.0004576635092022885, 'Ip': 0.32927376026224303, 'αPol': 6.16, 'gamma': 4.554199424350892, 'e0': 0.6914963792073558, 'a0': 1.000416084385983, 'a1': 2.0277399553571427, 'b0': -0.16979933247318443, 'b1': 1.0000457648200463, 'b2': 4.4572994983838043e-07, 'c2': 1.1124617456324053, 'p1': 3.500460578925765, 'd1': 2.162715083987967}\n",
      "current iteration=276\n",
      "residual=2.2715581404212585e-07\n",
      "params={'Multiplier': 0.0010174745099370552, 'Ip': 0.32927376026224303, 'αPol': 6.16, 'gamma': 4.554350803212438, 'e0': 0.46775634919012643, 'a0': 1.0004848622282752, 'a1': 2.0277399553571427, 'b0': -0.20934400943317763, 'b1': 1.000036443150767, 'b2': 2.326495271987028e-07, 'c2': 1.1420574434137118, 'p1': 3.4999843854753494, 'd1': 2.3199576365198955}\n",
      "current iteration=277\n",
      "residual=1.4990340640513187e-07\n",
      "params={'Multiplier': 0.0008050732374517144, 'Ip': 0.32927376026224303, 'αPol': 6.16, 'gamma': 4.554282154181452, 'e0': 0.5811376241349007, 'a0': 1.0004516225800184, 'a1': 2.0277399553571427, 'b0': -0.1896463808408056, 'b1': 1.0000416863000388, 'b2': 3.340905307958053e-07, 'c2': 1.1272165142944401, 'p1': 3.5002033241915806, 'd1': 2.2426080903768466}\n",
      "current iteration=278\n",
      "residual=1.4532929740325426e-07\n",
      "params={'Multiplier': 0.000787449497010706, 'Ip': 0.32927376026224303, 'αPol': 6.16, 'gamma': 4.554261275590661, 'e0': 0.6259342520567313, 'a0': 1.0004402578519078, 'a1': 2.0277399553571427, 'b0': -0.18257485378668492, 'b1': 1.0000439031675719, 'b2': 3.7728001722747706e-07, 'c2': 1.1218588020092348, 'p1': 3.500271742048247, 'd1': 2.2154847581773756}\n",
      "current iteration=279\n",
      "residual=1.234774200001162e-07\n",
      "params={'Multiplier': 0.0005847845675973629, 'Ip': 0.32927376026224303, 'αPol': 6.16, 'gamma': 4.554219213563343, 'e0': 0.685581776166228, 'a0': 1.0004297437438834, 'a1': 2.0277399553571427, 'b0': -0.1721557850097119, 'b1': 1.0000449831466656, 'b2': 4.124959831486308e-07, 'c2': 1.113739028516275, 'p1': 3.50044650849594, 'd1': 2.1552122392734168}\n",
      "current iteration=280\n",
      "residual=1.5476820346811837e-07\n",
      "params={'Multiplier': 0.00040427226020922635, 'Ip': 0.32927376026224303, 'αPol': 6.16, 'gamma': 4.554145859061748, 'e0': 0.8203130699347161, 'a0': 1.0004011645898103, 'a1': 2.0277399553571427, 'b0': -0.15081909354061884, 'b1': 1.0000496679066342, 'b2': 5.304589614230082e-07, 'c2': 1.0974316621497302, 'p1': 3.500720740781306, 'd1': 2.0551120005588626}\n",
      "current iteration=281\n",
      "residual=1.284061272538919e-07\n",
      "params={'Multiplier': 0.0007369983774533351, 'Ip': 0.32927376026224303, 'αPol': 6.16, 'gamma': 4.554250499685576, 'e0': 0.629769381166343, 'a0': 1.0004407261014334, 'a1': 2.0277399553571427, 'b0': -0.18136007980736113, 'b1': 1.0000428201922666, 'b2': 3.7179312895041505e-07, 'c2': 1.119117721528394, 'p1': 3.5003306852731897, 'd1': 2.1886015534958188}\n",
      "current iteration=282\n",
      "residual=3.2014300456113286e-07\n",
      "params={'Multiplier': 0.00040162943335142476, 'Ip': 0.32927376026224303, 'αPol': 6.16, 'gamma': 4.554164776390119, 'e0': 0.7761683848113246, 'a0': 1.0004025960051364, 'a1': 2.0277399553571427, 'b0': -0.15703093058926615, 'b1': 1.0000486407042677, 'b2': 5.234436517564944e-07, 'c2': 1.1012935528933026, 'p1': 3.5006055890947487, 'd1': 2.097579623796809}\n",
      "current iteration=283\n",
      "residual=1.96768269372382e-07\n",
      "params={'Multiplier': 0.0009401302848154325, 'Ip': 0.32927376026224303, 'αPol': 6.16, 'gamma': 4.5543232081918195, 'e0': 0.5076422395976461, 'a0': 1.0004722108725654, 'a1': 2.0277399553571427, 'b0': -0.20216264325547895, 'b1': 1.0000382359270545, 'b2': 2.6490697102588e-07, 'c2': 1.1367306337035628, 'p1': 3.5000746517484265, 'd1': 2.2892603946899355}\n",
      "current iteration=284\n",
      "residual=2.3185187815534143e-07\n",
      "params={'Multiplier': 0.0010593394832206782, 'Ip': 0.32927376026224303, 'αPol': 6.16, 'gamma': 4.554349279573265, 'e0': 0.4900879874826263, 'a0': 1.0004801649731678, 'a1': 2.0277399553571427, 'b0': -0.20474810135932922, 'b1': 1.000036782880737, 'b2': 2.427298158025337e-07, 'c2': 1.1388934216440747, 'p1': 3.5000480201567705, 'd1': 2.3051305725755475}\n",
      "current iteration=285\n",
      "residual=1.9856914141959084e-07\n",
      "params={'Multiplier': 0.0008751035189932255, 'Ip': 0.32927376026224303, 'αPol': 6.16, 'gamma': 4.554269914001304, 'e0': 0.5938890895993909, 'a0': 1.000445579671217, 'a1': 2.0277399553571427, 'b0': -0.18663140043668136, 'b1': 1.000041788594239, 'b2': 3.3603946691940223e-07, 'c2': 1.1249585094176278, 'p1': 3.5002562200217593, 'd1': 2.2334702000997884}\n",
      "current iteration=286\n",
      "residual=1.8132438599946837e-07\n",
      "params={'Multiplier': 0.000559868579734224, 'Ip': 0.32927376026224303, 'αPol': 6.16, 'gamma': 4.554206999530937, 'e0': 0.6784108916493685, 'a0': 1.0004231024923733, 'a1': 2.0277399553571427, 'b0': -0.17326099416504412, 'b1': 1.0000456552673807, 'b2': 4.288716268785464e-07, 'c2': 1.1140587171989695, 'p1': 3.5004108515985983, 'd1': 2.165818020400532}\n",
      "current iteration=287\n",
      "residual=1.0687496345871898e-07\n",
      "params={'Multiplier': 0.0005136566242865959, 'Ip': 0.32927376026224303, 'αPol': 6.16, 'gamma': 4.554176715159539, 'e0': 0.747437265731596, 'a0': 1.0004060532811787, 'a1': 2.0277399553571427, 'b0': -0.161448483037569, 'b1': 1.0000478374206139, 'b2': 4.896228940065583e-07, 'c2': 1.1053414847283887, 'p1': 3.500559779480692, 'd1': 2.1203493939010456}\n",
      "current iteration=288\n",
      "residual=2.5683998687197194e-07\n",
      "params={'Multiplier': 0.0003257428615989211, 'Ip': 0.32927376026224303, 'αPol': 6.16, 'gamma': 4.554089671150534, 'e0': 0.8972644250929582, 'a0': 1.0003666487832223, 'a1': 2.0277399553571427, 'b0': -0.1375007198397647, 'b1': 1.0000535345553137, 'b2': 6.535543430885582e-07, 'c2': 1.0871116796105467, 'p1': 3.500847476393375, 'd1': 2.021073796892116}\n",
      "current iteration=289\n",
      "residual=2.0949483111680148e-07\n",
      "params={'Multiplier': 0.0008762340666043089, 'Ip': 0.32927376026224303, 'αPol': 6.16, 'gamma': 4.554270387432503, 'e0': 0.5989533225247776, 'a0': 1.0004487667378776, 'a1': 2.0277399553571427, 'b0': -0.18689134125935078, 'b1': 1.0000419704186634, 'b2': 3.371634231807974e-07, 'c2': 1.1256785984479685, 'p1': 3.500251746898089, 'd1': 2.2300824068581813}\n",
      "current iteration=290\n",
      "residual=1.4860567031346479e-07\n",
      "params={'Multiplier': 0.0008034586231057128, 'Ip': 0.32927376026224303, 'αPol': 6.16, 'gamma': 4.554263722649182, 'e0': 0.6069574658762427, 'a0': 1.0004456082715207, 'a1': 2.0277399553571427, 'b0': -0.1852082659067859, 'b1': 1.0000422856550373, 'b2': 3.480322594562324e-07, 'c2': 1.1239884035611292, 'p1': 3.5002730547557044, 'd1': 2.221296312989661}\n",
      "current iteration=291\n",
      "residual=2.2221304729136818e-07\n",
      "params={'Multiplier': 0.0005928959259374755, 'Ip': 0.32927376026224303, 'αPol': 6.16, 'gamma': 4.554242963460409, 'e0': 0.6389085027377059, 'a0': 1.0004393256588413, 'a1': 2.0277399553571427, 'b0': -0.18013435376578169, 'b1': 1.000043512600739, 'b2': 3.8541305480421784e-07, 'c2': 1.1194470802125314, 'p1': 3.5003358721505027, 'd1': 2.1891382502134897}\n",
      "current iteration=292\n",
      "residual=1.4559282173286785e-07\n",
      "params={'Multiplier': 0.0007994164903856182, 'Ip': 0.32927376026224303, 'αPol': 6.16, 'gamma': 4.55426317636598, 'e0': 0.6050705046351639, 'a0': 1.0004440161681636, 'a1': 2.0277399553571427, 'b0': -0.18500713876895644, 'b1': 1.0000422195958651, 'b2': 3.4806571580503487e-07, 'c2': 1.123579988165504, 'p1': 3.500276133054214, 'd1': 2.222381072352179}\n",
      "current iteration=293\n",
      "residual=9.56036788432125e-08\n",
      "params={'Multiplier': 0.0005195061486759078, 'Ip': 0.32927376026224303, 'αPol': 6.16, 'gamma': 4.554177662912993, 'e0': 0.7505480700509382, 'a0': 1.0004070555039697, 'a1': 2.0277399553571427, 'b0': -0.16117201004967963, 'b1': 1.0000478620015802, 'b2': 4.912192692607675e-07, 'c2': 1.1051072907329718, 'p1': 3.500557736655025, 'd1': 2.1202173115040552}\n",
      "current iteration=294\n",
      "residual=1.8863280680172664e-07\n",
      "params={'Multiplier': 0.0003556683002533534, 'Ip': 0.32927376026224303, 'αPol': 6.16, 'gamma': 4.554104890285809, 'e0': 0.8792375840661859, 'a0': 1.000374477803039, 'a1': 2.0277399553571427, 'b0': -0.14067669344678002, 'b1': 1.0000526750386824, 'b2': 6.303724253697851e-07, 'c2': 1.08939156456661, 'p1': 3.500799279043069, 'd1': 2.0360768492092443}\n",
      "current iteration=295\n",
      "residual=1.2390988577466506e-07\n",
      "params={'Multiplier': 0.0006777442096669306, 'Ip': 0.32927376026224303, 'αPol': 6.16, 'gamma': 4.554209454076641, 'e0': 0.7019978425409863, 'a0': 1.0004214558231892, 'a1': 2.0277399553571427, 'b0': -0.16934318141951016, 'b1': 1.0000459958235575, 'b2': 4.3353261580669766e-07, 'c2': 1.1117198935102546, 'p1': 3.500466152698221, 'd1': 2.1535332744366746}\n",
      "current iteration=296\n",
      "residual=7.229040513375683e-08\n",
      "params={'Multiplier': 0.0005714156853443564, 'Ip': 0.32927376026224303, 'αPol': 6.16, 'gamma': 4.55416649556562, 'e0': 0.7681411623121848, 'a0': 1.000404513415541, 'a1': 2.0277399553571427, 'b0': -0.1577700156646965, 'b1': 1.0000486342668193, 'b2': 4.789093885904094e-07, 'c2': 1.1047263365005033, 'p1': 3.500633672857561, 'd1': 2.113156445473026}\n",
      "current iteration=297\n",
      "residual=5.075495594307463e-08\n",
      "params={'Multiplier': 0.00047072484031029926, 'Ip': 0.32927376026224303, 'αPol': 6.16, 'gamma': 4.5541008653022494, 'e0': 0.8817330445864957, 'a0': 1.0003773597147934, 'a1': 2.0277399553571427, 'b0': -0.13917028865605752, 'b1': 1.0000529696740061, 'b2': 5.701169518701477e-07, 'c2': 1.0924522584059817, 'p1': 3.500885010775004, 'd1': 2.043183442329604}\n",
      "current iteration=298\n",
      "residual=2.7971319562160387e-07\n",
      "params={'Multiplier': 0.0007935846684860026, 'Ip': 0.32927376026224303, 'αPol': 6.16, 'gamma': 4.554236025292843, 'e0': 0.6767675977470329, 'a0': 1.0004310831723513, 'a1': 2.0277399553571427, 'b0': -0.17266035007982947, 'b1': 1.0000444053330573, 'b2': 3.88330965828132e-07, 'c2': 1.1156877140360812, 'p1': 3.5004486500118492, 'd1': 2.1762132101299594}\n",
      "current iteration=299\n",
      "residual=1.1357270807935881e-07\n",
      "params={'Multiplier': 0.0006144832570497138, 'Ip': 0.32927376026224303, 'αPol': 6.16, 'gamma': 4.554214255971293, 'e0': 0.6779999850166354, 'a0': 1.0004250976624314, 'a1': 2.0277399553571427, 'b0': -0.17311083314374046, 'b1': 1.0000453427838005, 'b2': 4.1854779708749845e-07, 'c2': 1.114465904578336, 'p1': 3.5004203012020003, 'd1': 2.168416464738751}\n",
      "current iteration=300\n",
      "residual=6.976791215857553e-08\n",
      "params={'Multiplier': 0.000434040580316819, 'Ip': 0.32927376026224303, 'αPol': 6.16, 'gamma': 4.554134829427409, 'e0': 0.833092663955094, 'a0': 1.0003888229796922, 'a1': 2.0277399553571427, 'b0': -0.14994354913516, 'b1': 1.000051817567334, 'b2': 5.951508543766693e-07, 'c2': 1.09436032038363, 'p1': 3.5006667162060863, 'd1': 2.0514709502180306}\n",
      "current iteration=301\n",
      "residual=8.62914505146058e-08\n",
      "params={'Multiplier': 0.00043889215995662756, 'Ip': 0.32927376026224303, 'αPol': 6.16, 'gamma': 4.554137866964012, 'e0': 0.8222467642021696, 'a0': 1.0003905094914955, 'a1': 2.0277399553571427, 'b0': -0.1498489746561003, 'b1': 1.0000508646195843, 'b2': 5.592056864234252e-07, 'c2': 1.0963820099509096, 'p1': 3.5007030984137186, 'd1': 2.0665656063574565}\n",
      "current iteration=302\n",
      "residual=1.1514030091301961e-07\n",
      "params={'Multiplier': 0.0003824612100719049, 'Ip': 0.32927376026224303, 'αPol': 6.16, 'gamma': 4.554113351369662, 'e0': 0.8692994177515312, 'a0': 1.000381400257097, 'a1': 2.0277399553571427, 'b0': -0.14301846897135853, 'b1': 1.0000526596834534, 'b2': 6.07367924176927e-07, 'c2': 1.0913712781898517, 'p1': 3.500785413168277, 'd1': 2.0344331915834317}\n",
      "current iteration=303\n",
      "residual=2.24421336146124e-07\n",
      "params={'Multiplier': 0.00032647210557101847, 'Ip': 0.32927376026224303, 'αPol': 6.16, 'gamma': 4.554085667304448, 'e0': 0.8971687075737924, 'a0': 1.0003733870529636, 'a1': 2.0277399553571427, 'b0': -0.1375394769905648, 'b1': 1.0000527274149622, 'b2': 6.211003742429e-07, 'c2': 1.0870090919346045, 'p1': 3.5008925383637077, 'd1': 2.0052135823661086}\n",
      "current iteration=304\n",
      "residual=9.631332465623502e-08\n",
      "params={'Multiplier': 0.0006534615669603339, 'Ip': 0.32927376026224303, 'αPol': 6.16, 'gamma': 4.554217373514609, 'e0': 0.6917800601358772, 'a0': 1.0004235401564938, 'a1': 2.0277399553571427, 'b0': -0.1713160095876549, 'b1': 1.0000461092294541, 'b2': 4.325669715754543e-07, 'c2': 1.113116353857762, 'p1': 3.5004269411570554, 'd1': 2.1627656645235493}\n",
      "current iteration=305\n",
      "residual=1.5696802148322709e-07\n",
      "params={'Multiplier': 0.0003483853300528805, 'Ip': 0.32927376026224303, 'αPol': 6.16, 'gamma': 4.554089817974024, 'e0': 0.9062493676360555, 'a0': 1.0003694816120252, 'a1': 2.0277399553571427, 'b0': -0.13674543692594737, 'b1': 1.0000544681976218, 'b2': 6.434799246779477e-07, 'c2': 1.0885351060742443, 'p1': 3.5008528463371373, 'd1': 2.0267752289076224}\n",
      "current iteration=306\n",
      "residual=9.100817393481222e-08\n",
      "params={'Multiplier': 0.0006263388220891786, 'Ip': 0.32927376026224303, 'αPol': 6.16, 'gamma': 4.554210329253907, 'e0': 0.6968772265671115, 'a0': 1.0004229149839714, 'a1': 2.0277399553571427, 'b0': -0.17020641908700768, 'b1': 1.000045732193666, 'b2': 4.32772300440476e-07, 'c2': 1.1114487871985987, 'p1': 3.5004612255610734, 'd1': 2.148054818608439}\n",
      "current iteration=307\n",
      "residual=2.1643045032542972e-07\n",
      "params={'Multiplier': 0.000383280465789837, 'Ip': 0.32927376026224303, 'αPol': 6.16, 'gamma': 4.554131038610642, 'e0': 0.8289009969360757, 'a0': 1.0003890437326677, 'a1': 2.0277399553571427, 'b0': -0.1489349828472979, 'b1': 1.0000512398404848, 'b2': 5.675708243391142e-07, 'c2': 1.0958326934630929, 'p1': 3.500716393533343, 'd1': 2.0605863555950075}\n",
      "current iteration=308\n",
      "residual=7.869029376909589e-08\n",
      "params={'Multiplier': 0.0005963046712001985, 'Ip': 0.32927376026224303, 'αPol': 6.16, 'gamma': 4.554189850209236, 'e0': 0.7333110353996077, 'a0': 1.0004133528015633, 'a1': 2.0277399553571427, 'b0': -0.1642411317764571, 'b1': 1.0000473068278017, 'b2': 4.6535208175768616e-07, 'c2': 1.1077417565482959, 'p1': 3.500528712912234, 'd1': 2.130266637860131}\n",
      "current iteration=309\n",
      "residual=3.738418010452678e-08\n",
      "params={'Multiplier': 0.0004612059039456051, 'Ip': 0.32927376026224303, 'αPol': 6.16, 'gamma': 4.5541154064552805, 'e0': 0.8558691312270108, 'a0': 1.0003774776186989, 'a1': 2.0277399553571427, 'b0': -0.14453944861044515, 'b1': 1.000052717253559, 'b2': 6.045500022811012e-07, 'c2': 1.092629584703694, 'p1': 3.5007524786099307, 'd1': 2.0539402891712295}\n",
      "current iteration=310\n",
      "residual=2.3140927698189673e-08\n",
      "params={'Multiplier': 0.0004049178598756198, 'Ip': 0.32927376026224303, 'αPol': 6.16, 'gamma': 4.554063502907808, 'e0': 0.9436476438211212, 'a0': 1.0003513445462164, 'a1': 2.0277399553571427, 'b0': -0.13073128041081178, 'b1': 1.0000565843068903, 'b2': 7.143004039367185e-07, 'c2': 1.082122393628513, 'p1': 3.5009054636284467, 'd1': 2.0034526036234555}\n",
      "current iteration=311\n",
      "residual=1.1415964433441132e-07\n",
      "params={'Multiplier': 0.000687231399629451, 'Ip': 0.32927376026224303, 'αPol': 6.16, 'gamma': 4.554211298954894, 'e0': 0.686827821724739, 'a0': 1.0004198099685644, 'a1': 2.0277399553571427, 'b0': -0.17121932693668915, 'b1': 1.0000458256414966, 'b2': 4.272105686986549e-07, 'c2': 1.1131411519333263, 'p1': 3.5004375840292044, 'd1': 2.168575581663012}\n",
      "current iteration=312\n",
      "residual=8.016933625564904e-08\n",
      "params={'Multiplier': 0.0006027168903249835, 'Ip': 0.32927376026224303, 'αPol': 6.16, 'gamma': 4.554186812057168, 'e0': 0.7316072120861352, 'a0': 1.0004102075420938, 'a1': 2.0277399553571427, 'b0': -0.16416911244535648, 'b1': 1.000047534152007, 'b2': 4.6928615526908857e-07, 'c2': 1.1076866894305222, 'p1': 3.500524541324296, 'd1': 2.134977518075304}\n",
      "current iteration=313\n",
      "residual=3.1216355934802194e-08\n",
      "params={'Multiplier': 0.0004382687333904789, 'Ip': 0.32927376026224303, 'αPol': 6.16, 'gamma': 4.554104905571726, 'e0': 0.889804108669465, 'a0': 1.0003731345355786, 'a1': 2.0277399553571427, 'b0': -0.13933861862463046, 'b1': 1.0000535808147584, 'b2': 6.298283981021058e-07, 'c2': 1.0887071468103493, 'p1': 3.5008235440067916, 'd1': 2.0279341158671524}\n",
      "current iteration=314\n",
      "residual=8.723274930334745e-08\n",
      "params={'Multiplier': 0.0005159083689932897, 'Ip': 0.32927376026224303, 'αPol': 6.16, 'gamma': 4.554128084461755, 'e0': 0.8463585407510896, 'a0': 1.0003855951739142, 'a1': 2.0277399553571427, 'b0': -0.14657899584821418, 'b1': 1.0000522348568393, 'b2': 5.770176014774364e-07, 'c2': 1.0944638261127762, 'p1': 3.500736818668214, 'd1': 2.057356530993251}\n",
      "current iteration=315\n",
      "residual=3.350632548765077e-08\n",
      "params={'Multiplier': 0.00037038812769274454, 'Ip': 0.32927376026224303, 'αPol': 6.16, 'gamma': 4.554069568304659, 'e0': 0.9362519669895357, 'a0': 1.00036051929257, 'a1': 2.0277399553571427, 'b0': -0.13176406655024012, 'b1': 1.0000551881733888, 'b2': 6.757379085176041e-07, 'c2': 1.0830188701491417, 'p1': 3.5009316324298756, 'd1': 1.9941141827226394}\n",
      "current iteration=316\n",
      "residual=7.337305317882976e-08\n",
      "params={'Multiplier': 0.0004539304489131757, 'Ip': 0.32927376026224303, 'αPol': 6.16, 'gamma': 4.554087659978581, 'e0': 0.9123567543192939, 'a0': 1.0003676967093067, 'a1': 2.0277399553571427, 'b0': -0.13602647738832746, 'b1': 1.0000549006356692, 'b2': 6.449586114065653e-07, 'c2': 1.0865672127692818, 'p1': 3.500875616130785, 'd1': 2.0112691859828433}\n",
      "current iteration=317\n",
      "residual=1.282264246629273e-08\n",
      "params={'Multiplier': 0.0003359198157687482, 'Ip': 0.32927376026224303, 'αPol': 6.16, 'gamma': 4.5540304597934345, 'e0': 1.0136493782522016, 'a0': 1.0003407935608417, 'a1': 2.0277399553571427, 'b0': -0.12015608001126343, 'b1': 1.0000588641318087, 'b2': 7.658997014381441e-07, 'c2': 1.0753258115439097, 'p1': 3.501055005257195, 'd1': 1.9563428652105843}\n",
      "current iteration=318\n",
      "residual=8.721585282261146e-08\n",
      "params={'Multiplier': 0.00022442306662762146, 'Ip': 0.32927376026224303, 'αPol': 6.16, 'gamma': 4.553940525083944, 'e0': 1.179222593984171, 'a0': 1.0002997328268652, 'a1': 2.0277399553571427, 'b0': -0.09513091047339128, 'b1': 1.0000654301005134, 'b2': 9.67878686974899e-07, 'c2': 1.0574177687221833, 'p1': 3.5013518949077507, 'd1': 1.8610669492069047}\n",
      "current iteration=319\n",
      "residual=6.206859260741016e-08\n",
      "params={'Multiplier': 0.00039059506104288655, 'Ip': 0.32927376026224303, 'αPol': 6.16, 'gamma': 4.55409317963799, 'e0': 0.8916596041106228, 'a0': 1.0003691530650893, 'a1': 2.0277399553571427, 'b0': -0.1384989200826667, 'b1': 1.0000536873238732, 'b2': 6.344163663296598e-07, 'c2': 1.0883821320902773, 'p1': 3.500843049579314, 'd1': 2.0264522418358273}\n",
      "current iteration=320\n",
      "residual=9.344815358690758e-08\n",
      "params={'Multiplier': 0.0004532603843313554, 'Ip': 0.32927376026224303, 'αPol': 6.16, 'gamma': 4.554074459671795, 'e0': 0.930209119544573, 'a0': 1.0003599674605326, 'a1': 2.0277399553571427, 'b0': -0.13295893036009387, 'b1': 1.000055622101956, 'b2': 6.692208005532052e-07, 'c2': 1.0848717045074272, 'p1': 3.5009047600568564, 'd1': 2.0092459309670043}\n",
      "current iteration=321\n",
      "residual=4.7457482740551616e-08\n",
      "params={'Multiplier': 0.0004424624863857973, 'Ip': 0.32927376026224303, 'αPol': 6.16, 'gamma': 4.554122015140336, 'e0': 0.8490024910238136, 'a0': 1.0003828739845806, 'a1': 2.0277399553571427, 'b0': -0.1456264635820987, 'b1': 1.0000520539901885, 'b2': 5.857839149303601e-07, 'c2': 1.0935007700248305, 'p1': 3.500753513829192, 'd1': 2.052223422444373}\n",
      "current iteration=322\n",
      "residual=4.8761555819913974e-08\n",
      "params={'Multiplier': 0.00028857712947349956, 'Ip': 0.32927376026224303, 'αPol': 6.16, 'gamma': 4.554012555207315, 'e0': 1.0494857416093653, 'a0': 1.000334802686184, 'a1': 2.0277399553571427, 'b0': -0.11493026279818619, 'b1': 1.000059856536979, 'b2': 8.043922965494943e-07, 'c2': 1.0708304239479198, 'p1': 3.501129111532957, 'd1': 1.9247352187353735}\n",
      "current iteration=323\n",
      "residual=1.0098577912573154e-07\n",
      "params={'Multiplier': 0.00024438634297030415, 'Ip': 0.32927376026224303, 'αPol': 6.16, 'gamma': 4.553974058062403, 'e0': 1.1131143632728975, 'a0': 1.0003159473943508, 'a1': 2.0277399553571427, 'b0': -0.10499606967143132, 'b1': 1.000062593802894, 'b2': 8.886814681918764e-07, 'c2': 1.0634454386934835, 'p1': 3.5012450196078335, 'd1': 1.8885075658418935}\n",
      "current iteration=324\n",
      "residual=4.665118634542643e-08\n",
      "params={'Multiplier': 0.0004938216306592524, 'Ip': 0.32927376026224303, 'αPol': 6.16, 'gamma': 4.554135902165271, 'e0': 0.8254674658264369, 'a0': 1.0003890014580494, 'a1': 2.0277399553571427, 'b0': -0.14942986625020066, 'b1': 1.0000511285716924, 'b2': 5.584575324402152e-07, 'c2': 1.096612426040834, 'p1': 3.5007077896483048, 'd1': 2.0696048541947216}\n",
      "current iteration=325\n",
      "residual=1.0860017188938374e-07\n",
      "params={'Multiplier': 0.00035826972066621554, 'Ip': 0.32927376026224303, 'αPol': 6.16, 'gamma': 4.554085896710353, 'e0': 0.9094376689405212, 'a0': 1.0003658644584743, 'a1': 2.0277399553571427, 'b0': -0.13589140183193565, 'b1': 1.0000542455825587, 'b2': 6.570958666074489e-07, 'c2': 1.0864749618886353, 'p1': 3.500864551274238, 'd1': 2.018555394506209}\n",
      "current iteration=326\n",
      "residual=3.242139574241387e-08\n",
      "params={'Multiplier': 0.0004289533402951351, 'Ip': 0.32927376026224303, 'αPol': 6.16, 'gamma': 4.554087219161524, 'e0': 0.911626825371058, 'a0': 1.0003672386466014, 'a1': 2.0277399553571427, 'b0': -0.1359927084992295, 'b1': 1.0000547368723918, 'b2': 6.479823182470312e-07, 'c2': 1.0865441498056916, 'p1': 3.5008728499166635, 'd1': 2.013090533925379}\n",
      "current iteration=327\n",
      "residual=2.6984159662893344e-08\n",
      "params={'Multiplier': 0.00037540790167234217, 'Ip': 0.32927376026224303, 'αPol': 6.16, 'gamma': 4.554029205213465, 'e0': 1.006003349745983, 'a0': 1.0003404213156426, 'a1': 2.0277399553571427, 'b0': -0.11918416195791703, 'b1': 1.0000579125118503, 'b2': 7.207162662226096e-07, 'c2': 1.0771433778134125, 'p1': 3.501114677865509, 'd1': 1.9707500782985092}\n",
      "current iteration=328\n",
      "residual=6.735908089766796e-08\n",
      "params={'Multiplier': 0.00041485367362448233, 'Ip': 0.32927376026224303, 'αPol': 6.16, 'gamma': 4.554058060113418, 'e0': 0.9690340554027386, 'a0': 1.0003543448856276, 'a1': 2.0277399553571427, 'b0': -0.1267658393854604, 'b1': 1.000056887792947, 'b2': 6.962187304448975e-07, 'c2': 1.0808537518669732, 'p1': 3.5009926702175314, 'd1': 1.9845748865095647}\n",
      "current iteration=329\n",
      "residual=3.24863911517674e-08\n",
      "params={'Multiplier': 0.00039659107295675344, 'Ip': 0.32927376026224303, 'αPol': 6.16, 'gamma': 4.554084399756652, 'e0': 0.9108954018714572, 'a0': 1.0003654510204103, 'a1': 2.0277399553571427, 'b0': -0.13556564990836512, 'b1': 1.000054487441147, 'b2': 6.495977067366709e-07, 'c2': 1.086498401172653, 'p1': 3.5008804547418375, 'd1': 2.015976116529667}\n",
      "current iteration=330\n",
      "residual=4.635066842737659e-08\n",
      "params={'Multiplier': 0.00032685965034018327, 'Ip': 0.32927376026224303, 'αPol': 6.16, 'gamma': 4.5540470813408405, 'e0': 0.9850540144631119, 'a0': 1.0003437564947741, 'a1': 2.0277399553571427, 'b0': -0.12537354306253107, 'b1': 1.0000579089962198, 'b2': 7.850349525995171e-07, 'c2': 1.0756123364375534, 'p1': 3.5009497978217756, 'd1': 1.962457404090936}\n",
      "current iteration=331\n",
      "residual=5.907490440593677e-08\n",
      "params={'Multiplier': 0.0005293161040135219, 'Ip': 0.32927376026224303, 'αPol': 6.16, 'gamma': 4.5541422966689105, 'e0': 0.806933515232146, 'a0': 1.0003881042808875, 'a1': 2.0277399553571427, 'b0': -0.15170222497327135, 'b1': 1.0000506326250038, 'b2': 5.506118314624331e-07, 'c2': 1.0982300076450677, 'p1': 3.500669834241752, 'd1': 2.088680399422515}\n",
      "current iteration=332\n",
      "residual=2.1950148543609082e-08\n",
      "params={'Multiplier': 0.0003419545929280732, 'Ip': 0.32927376026224303, 'αPol': 6.16, 'gamma': 4.554044990570027, 'e0': 0.9878194851571593, 'a0': 1.000348128087237, 'a1': 2.0277399553571427, 'b0': -0.12412325334195748, 'b1': 1.0000575505590297, 'b2': 7.364513883167945e-07, 'c2': 1.0776582501425034, 'p1': 3.501014292239131, 'd1': 1.9656157390424807}\n",
      "current iteration=333\n",
      "residual=1.012252479757884e-08\n",
      "params={'Multiplier': 0.00034041546559160363, 'Ip': 0.32927376026224303, 'αPol': 6.16, 'gamma': 4.5540174318196165, 'e0': 1.0340417951123424, 'a0': 1.0003330838035205, 'a1': 2.0277399553571427, 'b0': -0.1167053821413307, 'b1': 1.0000595344855976, 'b2': 7.958542982411387e-07, 'c2': 1.07236975662326, 'p1': 3.501097587656951, 'd1': 1.9437199375836158}\n",
      "current iteration=334\n",
      "residual=9.275355708237714e-09\n",
      "params={'Multiplier': 0.00029441196538615433, 'Ip': 0.32927376026224303, 'αPol': 6.16, 'gamma': 4.553965140166397, 'e0': 1.1287496528455607, 'a0': 1.0003081887050562, 'a1': 2.0277399553571427, 'b0': -0.1022448414209467, 'b1': 1.00006327473318, 'b2': 9.129370206473197e-07, 'c2': 1.0618587896866176, 'p1': 3.501269624498671, 'd1': 1.8896595490908}\n",
      "current iteration=335\n",
      "residual=2.851804942984322e-08\n",
      "params={'Multiplier': 0.0002641005898985638, 'Ip': 0.32927376026224303, 'αPol': 6.16, 'gamma': 4.5539693924015054, 'e0': 1.1203384919060526, 'a0': 1.0003107937722735, 'a1': 2.0277399553571427, 'b0': -0.1034649745073779, 'b1': 1.0000628891362846, 'b2': 9.059368570873971e-07, 'c2': 1.0623612191908176, 'p1': 3.5012556787438616, 'd1': 1.8905516809694234}\n",
      "current iteration=336\n",
      "residual=4.975964103001666e-08\n",
      "params={'Multiplier': 0.0004010955050411935, 'Ip': 0.32927376026224303, 'αPol': 6.16, 'gamma': 4.554042675425054, 'e0': 0.9836370693210321, 'a0': 1.0003494462055147, 'a1': 2.0277399553571427, 'b0': -0.12313958398401686, 'b1': 1.0000571047399849, 'b2': 6.826764722411838e-07, 'c2': 1.0806106534009734, 'p1': 3.5010748468747193, 'd1': 1.9829491469192093}\n",
      "current iteration=337\n",
      "residual=2.146584194171228e-08\n",
      "params={'Multiplier': 0.00034470543107600893, 'Ip': 0.32927376026224303, 'αPol': 6.16, 'gamma': 4.554045979861891, 'e0': 0.9846997458936955, 'a0': 1.0003451789224855, 'a1': 2.0277399553571427, 'b0': -0.12481505329290252, 'b1': 1.0000577079321615, 'b2': 7.587752832716177e-07, 'c2': 1.0768611584431853, 'p1': 3.500981060087306, 'd1': 1.9675786470770347}\n",
      "current iteration=338\n",
      "residual=2.295146597683897e-08\n",
      "params={'Multiplier': 0.00035063344907826366, 'Ip': 0.32927376026224303, 'αPol': 6.16, 'gamma': 4.554015470774055, 'e0': 1.0426552776477442, 'a0': 1.0003296153315233, 'a1': 2.0277399553571427, 'b0': -0.11535925784484027, 'b1': 1.0000603295145298, 'b2': 8.100727759696724e-07, 'c2': 1.071981265523902, 'p1': 3.501102897791745, 'd1': 1.9460078048700833}\n",
      "current iteration=339\n",
      "residual=1.811727333007123e-08\n",
      "params={'Multiplier': 0.0003174933679942482, 'Ip': 0.32927376026224303, 'αPol': 6.16, 'gamma': 4.55398685352867, 'e0': 1.0953905845516982, 'a0': 1.0003175164627884, 'a1': 2.0277399553571427, 'b0': -0.10751639607401028, 'b1': 1.0000621986613956, 'b2': 8.740563515186039e-07, 'c2': 1.0656263015775902, 'p1': 3.5011985640578938, 'd1': 1.9102570789079234}\n",
      "current iteration=340\n",
      "residual=1.1913628222714963e-08\n",
      "params={'Multiplier': 0.0002703944167633532, 'Ip': 0.32927376026224303, 'αPol': 6.16, 'gamma': 4.553963960999957, 'e0': 1.132018129622057, 'a0': 1.000305784396484, 'a1': 2.0277399553571427, 'b0': -0.10139407499810205, 'b1': 1.0000634415879244, 'b2': 9.25251274930261e-07, 'c2': 1.0614150023487783, 'p1': 3.5012713116842207, 'd1': 1.8926169079002038}\n",
      "current iteration=341\n",
      "residual=2.1838090942481363e-08\n",
      "params={'Multiplier': 0.00023477361682477937, 'Ip': 0.32927376026224303, 'αPol': 6.16, 'gamma': 4.553918085684939, 'e0': 1.2043663720883337, 'a0': 1.0002864184713538, 'a1': 2.0277399553571427, 'b0': -0.09045925614739544, 'b1': 1.000066569800038, 'b2': 1.0138728390174379e-06, 'c2': 1.0538477661684846, 'p1': 3.501410171040042, 'd1': 1.8509157608279394}\n",
      "current iteration=342\n",
      "residual=3.835030433243664e-08\n",
      "params={'Multiplier': 0.00039281226692600146, 'Ip': 0.32927376026224303, 'αPol': 6.16, 'gamma': 4.554043337497624, 'e0': 0.9872206783432806, 'a0': 1.0003438841888757, 'a1': 2.0277399553571427, 'b0': -0.12373175659265151, 'b1': 1.0000579976115003, 'b2': 7.391593161987231e-07, 'c2': 1.0784027913373362, 'p1': 3.5010089348978215, 'd1': 1.9800869391531193}\n",
      "current iteration=343\n",
      "residual=8.781773006266928e-09\n",
      "params={'Multiplier': 0.000293884741554451, 'Ip': 0.32927376026224303, 'αPol': 6.16, 'gamma': 4.553987878674621, 'e0': 1.086811221046033, 'a0': 1.000319066377257, 'a1': 2.0277399553571427, 'b0': -0.1085316700286963, 'b1': 1.000061666255102, 'b2': 8.626532856936819e-07, 'c2': 1.0663633783119995, 'p1': 3.501193992792633, 'd1': 1.9129016089290536}\n",
      "current iteration=344\n",
      "residual=2.8881244790227606e-08\n",
      "params={'Multiplier': 0.00026401925941221815, 'Ip': 0.32927376026224303, 'αPol': 6.16, 'gamma': 4.553975259376826, 'e0': 1.117538941800683, 'a0': 1.0003099856580628, 'a1': 2.0277399553571427, 'b0': -0.10588207075626821, 'b1': 1.0000637249845659, 'b2': 9.575973762832035e-07, 'c2': 1.0614651727258488, 'p1': 3.5011657987878833, 'd1': 1.8883104799055217}\n",
      "current iteration=345\n",
      "residual=1.199816373976788e-08\n",
      "params={'Multiplier': 0.00034572268652943716, 'Ip': 0.32927376026224303, 'αPol': 6.16, 'gamma': 4.554015718753821, 'e0': 1.033710631635187, 'a0': 1.0003328124019593, 'a1': 2.0277399553571427, 'b0': -0.11585863915750483, 'b1': 1.0000593656300483, 'b2': 7.767863465790725e-07, 'c2': 1.0732160237851451, 'p1': 3.5011274580965375, 'd1': 1.9501116868671784}\n",
      "current iteration=346\n",
      "residual=2.9564384985565374e-08\n",
      "params={'Multiplier': 0.0002309309541032034, 'Ip': 0.32927376026224303, 'αPol': 6.16, 'gamma': 4.553931404858848, 'e0': 1.2000940719089739, 'a0': 1.0002953559936347, 'a1': 2.0277399553571427, 'b0': -0.09136042405271214, 'b1': 1.0000656094540747, 'b2': 9.79297418268743e-07, 'c2': 1.054753356661166, 'p1': 3.501419411789785, 'd1': 1.845170478019397}\n",
      "current iteration=347\n",
      "residual=1.1919417578308403e-08\n",
      "params={'Multiplier': 0.000356858464226284, 'Ip': 0.32927376026224303, 'αPol': 6.16, 'gamma': 4.554030478392669, 'e0': 1.006820284854781, 'a0': 1.0003373474104809, 'a1': 2.0277399553571427, 'b0': -0.12088856632128686, 'b1': 1.0000588405937323, 'b2': 7.766383194329762e-07, 'c2': 1.0752563521449225, 'p1': 3.5010339507121024, 'd1': 1.9637770331015854}\n",
      "current iteration=348\n",
      "residual=3.0544937482720235e-08\n",
      "params={'Multiplier': 0.0002764262749616053, 'Ip': 0.32927376026224303, 'αPol': 6.16, 'gamma': 4.553982438508889, 'e0': 1.0915324344162176, 'a0': 1.0003186316303336, 'a1': 2.0277399553571427, 'b0': -0.1078383083139729, 'b1': 1.0000615664624002, 'b2': 8.666924418143651e-07, 'c2': 1.065487769458159, 'p1': 3.5012081883276647, 'd1': 1.9058986927252737}\n",
      "current iteration=349\n",
      "residual=9.17760535084891e-09\n",
      "params={'Multiplier': 0.0003312532003566515, 'Ip': 0.32927376026224303, 'αPol': 6.16, 'gamma': 4.554007212707581, 'e0': 1.0548412568003873, 'a0': 1.0003268694063179, 'a1': 2.0277399553571427, 'b0': -0.11347902046212344, 'b1': 1.0000606387514983, 'b2': 8.240484019594874e-07, 'c2': 1.0703565426412314, 'p1': 3.501129220427587, 'd1': 1.935973732607748}\n",
      "current iteration=350\n",
      "residual=8.930092862744893e-09\n",
      "params={'Multiplier': 0.0002822696528742563, 'Ip': 0.32927376026224303, 'αPol': 6.16, 'gamma': 4.553945363144766, 'e0': 1.1608827235963464, 'a0': 1.0002958671326752, 'a1': 2.0277399553571427, 'b0': -0.0969454662408889, 'b1': 1.0000649630563048, 'b2': 9.658110786681107e-07, 'c2': 1.0583815404998222, 'p1': 3.50131977947686, 'd1': 1.8804334125845923}\n",
      "current iteration=351\n",
      "residual=2.7364200530504633e-08\n",
      "params={'Multiplier': 0.00041075982899096974, 'Ip': 0.32927376026224303, 'αPol': 6.16, 'gamma': 4.554077723529403, 'e0': 0.9373085777688137, 'a0': 1.0003594664750952, 'a1': 2.0277399553571427, 'b0': -0.13190670545414962, 'b1': 1.0000556224664416, 'b2': 6.875405862416528e-07, 'c2': 1.0831443333590265, 'p1': 3.5009058222835576, 'd1': 2.00122640966442}\n",
      "current iteration=352\n",
      "residual=4.855426024431856e-09\n",
      "params={'Multiplier': 0.0002741726038729686, 'Ip': 0.32927376026224303, 'αPol': 6.16, 'gamma': 4.553957995141751, 'e0': 1.1366437175369657, 'a0': 1.0003046804762519, 'a1': 2.0277399553571427, 'b0': -0.10082111847408398, 'b1': 1.0000638329667086, 'b2': 9.263669189518708e-07, 'c2': 1.0611439490729762, 'p1': 3.501284083895635, 'd1': 1.8883963667432457}\n",
      "current iteration=353\n",
      "residual=1.6674516198806296e-08\n",
      "params={'Multiplier': 0.0002762531791816736, 'Ip': 0.32927376026224303, 'αPol': 6.16, 'gamma': 4.553932232403117, 'e0': 1.1862684916311261, 'a0': 1.0002926063397024, 'a1': 2.0277399553571427, 'b0': -0.09275212134487884, 'b1': 1.0000657093413075, 'b2': 9.66872244712036e-07, 'c2': 1.0569496048283724, 'p1': 3.501395538029207, 'd1': 1.8685874124964346}\n",
      "current iteration=354\n",
      "residual=9.108160706492264e-09\n",
      "params={'Multiplier': 0.00029340700729918456, 'Ip': 0.32927376026224303, 'αPol': 6.16, 'gamma': 4.553980434504903, 'e0': 1.0921676183820845, 'a0': 1.0003152867807659, 'a1': 2.0277399553571427, 'b0': -0.10709792361794479, 'b1': 1.0000619207481636, 'b2': 8.633034829230724e-07, 'c2': 1.0664116871085765, 'p1': 3.5012174289401505, 'd1': 1.9174535938912691}\n",
      "current iteration=355\n",
      "residual=2.9038015390592637e-08\n",
      "params={'Multiplier': 0.00033960520862008625, 'Ip': 0.32927376026224303, 'αPol': 6.16, 'gamma': 4.554044696056997, 'e0': 0.984066035231981, 'a0': 1.000344732986186, 'a1': 2.0277399553571427, 'b0': -0.12473135880168945, 'b1': 1.0000576523495135, 'b2': 7.567666739927148e-07, 'c2': 1.0770188137812449, 'p1': 3.5009848330652114, 'd1': 1.9690214380938036}\n",
      "current iteration=356\n",
      "residual=6.400022020574652e-09\n",
      "params={'Multiplier': 0.00029147686939257067, 'Ip': 0.32927376026224303, 'αPol': 6.16, 'gamma': 4.553960348314443, 'e0': 1.1351795996066008, 'a0': 1.000305638003325, 'a1': 2.0277399553571427, 'b0': -0.1007469307090815, 'b1': 1.0000636950933968, 'b2': 9.119358252984711e-07, 'c2': 1.0619537221819384, 'p1': 3.5012928618184618, 'd1': 1.893652441437983}\n",
      "current iteration=357\n",
      "residual=6.889857809848987e-09\n",
      "params={'Multiplier': 0.0002712630942237615, 'Ip': 0.32927376026224303, 'αPol': 6.16, 'gamma': 4.553932446369796, 'e0': 1.1805615799190914, 'a0': 1.000289514653412, 'a1': 2.0277399553571427, 'b0': -0.09344557027486841, 'b1': 1.0000654637513586, 'b2': 9.880803426565166e-07, 'c2': 1.0559681438473754, 'p1': 3.5013729371776527, 'd1': 1.8687063281624674}\n",
      "current iteration=358\n",
      "residual=6.978745358799968e-09\n",
      "params={'Multiplier': 0.00024901049547521037, 'Ip': 0.32927376026224303, 'αPol': 6.16, 'gamma': 4.553930532931459, 'e0': 1.1897189807272195, 'a0': 1.0002888362641142, 'a1': 2.0277399553571427, 'b0': -0.09326039735209976, 'b1': 1.0000661818773755, 'b2': 1.0208231266961576e-06, 'c2': 1.0546258253261187, 'p1': 3.501349580181063, 'd1': 1.8586656562716346}\n",
      "current iteration=359\n",
      "residual=1.4964578006563327e-08\n",
      "params={'Multiplier': 0.00022085823650963565, 'Ip': 0.32927376026224303, 'αPol': 6.16, 'gamma': 4.553895784205803, 'e0': 1.2545248547425758, 'a0': 1.0002745990221695, 'a1': 2.0277399553571427, 'b0': -0.08270483639448031, 'b1': 1.0000681751703493, 'b2': 1.073833360232257e-06, 'c2': 1.0484956863711643, 'p1': 3.5015062133653694, 'd1': 1.8241211159333015}\n",
      "current iteration=360\n",
      "residual=5.93909273087969e-09\n",
      "params={'Multiplier': 0.0003198046708760005, 'Ip': 0.32927376026224303, 'αPol': 6.16, 'gamma': 4.553996804842868, 'e0': 1.0679563604142293, 'a0': 1.0003216603162748, 'a1': 2.0277399553571427, 'b0': -0.11134263383958523, 'b1': 1.000061174237938, 'b2': 8.464330689683663e-07, 'c2': 1.068542502109581, 'p1': 3.501152016415628, 'd1': 1.92877833792905}\n",
      "current iteration=361\n",
      "residual=1.9245450572828698e-08\n",
      "params={'Multiplier': 0.0003096015317683998, 'Ip': 0.32927376026224303, 'αPol': 6.16, 'gamma': 4.553968870358634, 'e0': 1.1144324045369514, 'a0': 1.0003093372278018, 'a1': 2.0277399553571427, 'b0': -0.10418903948596175, 'b1': 1.000063120706301, 'b2': 8.972900991111032e-07, 'c2': 1.063697693207474, 'p1': 3.501244993452243, 'd1': 1.9022809545687722}\n",
      "current iteration=362\n",
      "residual=4.3089441870063395e-09\n",
      "params={'Multiplier': 0.00027994668266828615, 'Ip': 0.32927376026224303, 'αPol': 6.16, 'gamma': 4.553965188339622, 'e0': 1.1276178138076536, 'a0': 1.0003066726043226, 'a1': 2.0277399553571427, 'b0': -0.10209281612006697, 'b1': 1.0000633613675187, 'b2': 9.182207620916927e-07, 'c2': 1.0619855012568067, 'p1': 3.501264732126354, 'd1': 1.8950325106016654}\n",
      "current iteration=363\n",
      "residual=8.402998290971595e-09\n",
      "params={'Multiplier': 0.00028208258543782616, 'Ip': 0.32927376026224303, 'αPol': 6.16, 'gamma': 4.5539677008268304, 'e0': 1.1174685575085102, 'a0': 1.0003066296991026, 'a1': 2.0277399553571427, 'b0': -0.10330786800294117, 'b1': 1.0000633048879135, 'b2': 9.105522644770048e-07, 'c2': 1.0632789701550083, 'p1': 3.50124570216337, 'd1': 1.9063153209939894}\n",
      "current iteration=364\n",
      "residual=1.415167145186321e-08\n",
      "params={'Multiplier': 0.00023940592355675694, 'Ip': 0.32927376026224303, 'αPol': 6.16, 'gamma': 4.553917725913482, 'e0': 1.2047155708330126, 'a0': 1.0002839010525506, 'a1': 2.0277399553571427, 'b0': -0.090039458469928, 'b1': 1.0000664740968193, 'b2': 1.022578792309048e-06, 'c2': 1.0533934801497518, 'p1': 3.5014094025395974, 'd1': 1.8541512833731675}\n",
      "current iteration=365\n",
      "residual=4.492755907638342e-09\n",
      "params={'Multiplier': 0.00030689205715861423, 'Ip': 0.32927376026224303, 'αPol': 6.16, 'gamma': 4.553984841007691, 'e0': 1.0920245965642215, 'a0': 1.000316127319213, 'a1': 2.0277399553571427, 'b0': -0.10761912996407458, 'b1': 1.0000620975878487, 'b2': 8.716741914938098e-07, 'c2': 1.066106220547382, 'p1': 3.5011992659699174, 'd1': 1.9154889476062964}\n",
      "current iteration=366\n",
      "residual=7.0683746880667e-09\n",
      "params={'Multiplier': 0.0002762737024230022, 'Ip': 0.32927376026224303, 'αPol': 6.16, 'gamma': 4.553945385413588, 'e0': 1.1667982760870355, 'a0': 1.0002956517885933, 'a1': 2.0277399553571427, 'b0': -0.0965247965833326, 'b1': 1.0000652274681276, 'b2': 9.815954189473786e-07, 'c2': 1.057259136635084, 'p1': 3.501317561467369, 'd1': 1.8722244804928105}\n",
      "current iteration=367\n",
      "residual=1.075168798431459e-08\n",
      "params={'Multiplier': 0.0002860778468808389, 'Ip': 0.32927376026224303, 'αPol': 6.16, 'gamma': 4.55398046122749, 'e0': 1.0992022752398967, 'a0': 1.0003150283679059, 'a1': 2.0277399553571427, 'b0': -0.10659312002887722, 'b1': 1.000062238042357, 'b2': 8.812308702754734e-07, 'c2': 1.0650609895690895, 'p1': 3.5012147673282206, 'd1': 1.9075861652683237}\n",
      "current iteration=368\n",
      "residual=3.847951237864047e-09\n",
      "params={'Multiplier': 0.00028321930172936494, 'Ip': 0.32927376026224303, 'αPol': 6.16, 'gamma': 4.553954137665236, 'e0': 1.145415594503182, 'a0': 1.0003006574417443, 'a1': 2.0277399553571427, 'b0': -0.09935737968788598, 'b1': 1.0000642818028223, 'b2': 9.443027317868058e-07, 'c2': 1.060049904150861, 'p1': 3.5012935264417613, 'd1': 1.8872183547280064}\n",
      "current iteration=369\n",
      "residual=9.362697428949871e-09\n",
      "params={'Multiplier': 0.0002725431868663142, 'Ip': 0.32927376026224303, 'αPol': 6.16, 'gamma': 4.553931197496786, 'e0': 1.1852135991594488, 'a0': 1.0002881473349563, 'a1': 2.0277399553571427, 'b0': -0.09317205817290773, 'b1': 1.000066057953082, 'b2': 1.002595221955005e-06, 'c2': 1.0558232373629024, 'p1': 3.501360460732804, 'd1': 1.8699960616935565}\n",
      "current iteration=370\n",
      "residual=3.982220883520984e-09\n",
      "params={'Multiplier': 0.0002884737072051946, 'Ip': 0.32927376026224303, 'αPol': 6.16, 'gamma': 4.553973708379613, 'e0': 1.1112910232697417, 'a0': 1.000311336617368, 'a1': 2.0277399553571427, 'b0': -0.10469176706474917, 'b1': 1.0000627641796087, 'b2': 8.96653075788123e-07, 'c2': 1.0637246255985313, 'p1': 3.501235609782804, 'd1': 1.9021671423303372}\n",
      "current iteration=371\n",
      "residual=1.2812792877404725e-08\n",
      "params={'Multiplier': 0.0002854226378347091, 'Ip': 0.32927376026224303, 'αPol': 6.16, 'gamma': 4.553952576853743, 'e0': 1.1530404725515697, 'a0': 1.0003015253985654, 'a1': 2.0277399553571427, 'b0': -0.09867264001102449, 'b1': 1.0000643111786394, 'b2': 9.494500252671401e-07, 'c2': 1.0589883910918774, 'p1': 3.5013067328980663, 'd1': 1.8757425765057891}\n",
      "current iteration=372\n",
      "residual=3.6229964901910062e-09\n",
      "params={'Multiplier': 0.0002829157498595025, 'Ip': 0.32927376026224303, 'αPol': 6.16, 'gamma': 4.553963919833519, 'e0': 1.1263458603264862, 'a0': 1.000305353623987, 'a1': 2.0277399553571427, 'b0': -0.102149061004962, 'b1': 1.0000635564605955, 'b2': 9.202004347397263e-07, 'c2': 1.0622057078456815, 'p1': 3.5012609598477376, 'd1': 1.8986680262671345}\n",
      "current iteration=373\n",
      "residual=7.8504721493843e-09\n",
      "params={'Multiplier': 0.0002926844090999081, 'Ip': 0.32927376026224303, 'αPol': 6.16, 'gamma': 4.553978599151416, 'e0': 1.095759801810014, 'a0': 1.00031444367547, 'a1': 2.0277399553571427, 'b0': -0.10658056431495891, 'b1': 1.0000620543969032, 'b2': 8.678302507725277e-07, 'c2': 1.066003310318194, 'p1': 3.5012235532672493, 'd1': 1.9151344452990964}\n",
      "current iteration=374\n",
      "residual=3.5637452867474035e-09\n",
      "params={'Multiplier': 0.00028033185623443924, 'Ip': 0.32927376026224303, 'αPol': 6.16, 'gamma': 4.553953688847855, 'e0': 1.1489764808453788, 'a0': 1.0003003497605638, 'a1': 2.0277399553571427, 'b0': -0.09903873851623918, 'b1': 1.0000644342003275, 'b2': 9.524974318164681e-07, 'c2': 1.0594426079890038, 'p1': 3.501294059418994, 'd1': 1.8829438505931728}\n",
      "current iteration=375\n",
      "residual=1.0357318539969664e-08\n",
      "params={'Multiplier': 0.0003291435849993585, 'Ip': 0.32927376026224303, 'αPol': 6.16, 'gamma': 4.553998082818582, 'e0': 1.0650837822076977, 'a0': 1.0003235618974144, 'a1': 2.0277399553571427, 'b0': -0.11100063177901962, 'b1': 1.0000607504522108, 'b2': 8.191906024634932e-07, 'c2': 1.0696148543912638, 'p1': 3.501180430390173, 'd1': 1.9335985137481204}\n",
      "current iteration=376\n",
      "residual=2.8479796156043923e-09\n",
      "params={'Multiplier': 0.00026799424004864125, 'Ip': 0.32927376026224303, 'αPol': 6.16, 'gamma': 4.553947420402456, 'e0': 1.1583685525224543, 'a0': 1.0002975176732964, 'a1': 2.0277399553571427, 'b0': -0.09769545595882972, 'b1': 1.000064824021102, 'b2': 9.6833730700574e-07, 'c2': 1.05836552582327, 'p1': 3.5013072927387014, 'd1': 1.8773741016043979}\n",
      "current iteration=377\n",
      "residual=9.44791440995025e-09\n",
      "params={'Multiplier': 0.00030388139169279516, 'Ip': 0.32927376026224303, 'αPol': 6.16, 'gamma': 4.5539991641868625, 'e0': 1.0697203506607114, 'a0': 1.000324484111898, 'a1': 2.0277399553571427, 'b0': -0.11166543599304324, 'b1': 1.0000613406321948, 'b2': 8.453531932239855e-07, 'c2': 1.0687474026973531, 'p1': 3.5011439444920587, 'd1': 1.9252650494111352}\n",
      "current iteration=378\n",
      "residual=3.5096242974336087e-09\n",
      "params={'Multiplier': 0.0002792435685646799, 'Ip': 0.32927376026224303, 'αPol': 6.16, 'gamma': 4.553949125823299, 'e0': 1.1526989422777545, 'a0': 1.0002982570189052, 'a1': 2.0277399553571427, 'b0': -0.09800053670441211, 'b1': 1.000064432971578, 'b2': 9.513553298479138e-07, 'c2': 1.0591574789725597, 'p1': 3.5013156890160673, 'd1': 1.8828319347019709}\n",
      "current iteration=379\n",
      "residual=6.634003138405888e-09\n",
      "params={'Multiplier': 0.0002808006336195712, 'Ip': 0.32927376026224303, 'αPol': 6.16, 'gamma': 4.553969017741947, 'e0': 1.1181959645283657, 'a0': 1.000306884567497, 'a1': 2.0277399553571427, 'b0': -0.10381479675789632, 'b1': 1.00006325686582, 'b2': 9.265682126002872e-07, 'c2': 1.0621877189793125, 'p1': 3.501228585314922, 'd1': 1.8981168887736297}\n",
      "current iteration=380\n",
      "residual=3.5105112962106576e-09\n",
      "params={'Multiplier': 0.00028878907895035777, 'Ip': 0.32927376026224303, 'αPol': 6.16, 'gamma': 4.553962515671307, 'e0': 1.130930088483613, 'a0': 1.0003059496443691, 'a1': 2.0277399553571427, 'b0': -0.1015138972212852, 'b1': 1.0000635855365028, 'b2': 9.155830040796786e-07, 'c2': 1.062012219551204, 'p1': 3.5012767926933432, 'd1': 1.8947684658791912}\n",
      "current iteration=381\n",
      "residual=4.792768731351751e-09\n",
      "params={'Multiplier': 0.00024866390067790345, 'Ip': 0.32927376026224303, 'αPol': 6.16, 'gamma': 4.553925703381696, 'e0': 1.1986215055074108, 'a0': 1.0002877201177718, 'a1': 2.0277399553571427, 'b0': -0.09125334630373252, 'b1': 1.0000662599809476, 'b2': 1.0098000478020452e-06, 'c2': 1.0543126192776975, 'p1': 3.5013943859436005, 'd1': 1.856256034082286}\n",
      "current iteration=382\n",
      "residual=4.958691993317187e-09\n",
      "params={'Multiplier': 0.00028682704288052197, 'Ip': 0.32927376026224303, 'αPol': 6.16, 'gamma': 4.5539580547282785, 'e0': 1.1417166523667657, 'a0': 1.0003013078884644, 'a1': 2.0277399553571427, 'b0': -0.09986130723516351, 'b1': 1.0000640866550694, 'b2': 9.426627054498482e-07, 'c2': 1.0603251851298057, 'p1': 3.50128437890515, 'd1': 1.8901425699743544}\n",
      "current iteration=383\n",
      "residual=3.0042010280682734e-09\n",
      "params={'Multiplier': 0.00027730936509418047, 'Ip': 0.32927376026224303, 'αPol': 6.16, 'gamma': 4.553958010038382, 'e0': 1.1379116356768257, 'a0': 1.0003038373293132, 'a1': 2.0277399553571427, 'b0': -0.10058116566435386, 'b1': 1.000063896388799, 'b2': 9.30427545231538e-07, 'c2': 1.0609392355106195, 'p1': 3.501284157648014, 'd1': 1.8888329040838472}\n",
      "current iteration=384\n",
      "residual=6.209842394543707e-09\n",
      "params={'Multiplier': 0.00032048079971847, 'Ip': 0.32927376026224303, 'αPol': 6.16, 'gamma': 4.553996807822194, 'e0': 1.0682075146175878, 'a0': 1.0003214916869099, 'a1': 2.0277399553571427, 'b0': -0.11129464327763919, 'b1': 1.0000611869223561, 'b2': 8.472086945321422e-07, 'c2': 1.0685014518562574, 'p1': 3.5011520311661073, 'd1': 1.928865807329199}\n",
      "current iteration=385\n",
      "residual=2.6080512502858545e-09\n",
      "params={'Multiplier': 0.00026576245605880455, 'Ip': 0.32927376026224303, 'αPol': 6.16, 'gamma': 4.55394347949095, 'e0': 1.1658104022740918, 'a0': 1.000296163010863, 'a1': 2.0277399553571427, 'b0': -0.09626367054720919, 'b1': 1.0000649917163151, 'b2': 9.678150403313879e-07, 'c2': 1.0578530294049076, 'p1': 3.5013337972603558, 'd1': 1.8743851311140278}\n",
      "current iteration=386\n",
      "residual=4.141965934017743e-09\n",
      "params={'Multiplier': 0.00025310958034918674, 'Ip': 0.32927376026224303, 'αPol': 6.16, 'gamma': 4.5539293978920234, 'e0': 1.1893246216331068, 'a0': 1.0002890916245089, 'a1': 2.0277399553571427, 'b0': -0.09265776773392409, 'b1': 1.0000659281411646, 'b2': 1.0034444435369494e-06, 'c2': 1.055050764811364, 'p1': 3.5013740574110486, 'd1': 1.8613864588385707}\n",
      "current iteration=387\n",
      "residual=3.5497984394748784e-09\n",
      "params={'Multiplier': 0.00027329296230116373, 'Ip': 0.32927376026224303, 'αPol': 6.16, 'gamma': 4.553941892469306, 'e0': 1.1657878282416698, 'a0': 1.0002950301446643, 'a1': 2.0277399553571427, 'b0': -0.09629707190070315, 'b1': 1.0000651777162435, 'b2': 9.718288267457353e-07, 'c2': 1.057774282208325, 'p1': 3.50133045632595, 'd1': 1.8750811479205325}\n",
      "current iteration=388\n",
      "residual=5.27614317839743e-09\n",
      "params={'Multiplier': 0.0003054917483756858, 'Ip': 0.32927376026224303, 'αPol': 6.16, 'gamma': 4.553980181833381, 'e0': 1.0996065298150075, 'a0': 1.000313798827534, 'a1': 2.0277399553571427, 'b0': -0.1064599811202018, 'b1': 1.0000624608575983, 'b2': 8.82002760160816e-07, 'c2': 1.0652622383160224, 'p1': 3.501212410812199, 'd1': 1.9114933834256527}\n",
      "current iteration=389\n",
      "residual=2.495983716603635e-09\n",
      "params={'Multiplier': 0.00026574211959229377, 'Ip': 0.32927376026224303, 'αPol': 6.16, 'gamma': 4.553942093876918, 'e0': 1.1667982566093515, 'a0': 1.0002952684256934, 'a1': 2.0277399553571427, 'b0': -0.09610832108049353, 'b1': 1.0000650613202802, 'b2': 9.723499434510785e-07, 'c2': 1.0576000920860498, 'p1': 3.501333645766338, 'd1': 1.8739020177187813}\n",
      "current iteration=390\n",
      "residual=4.010707270309652e-09\n",
      "params={'Multiplier': 0.00026460065609790195, 'Ip': 0.32927376026224303, 'αPol': 6.16, 'gamma': 4.553929548445021, 'e0': 1.1886849754232824, 'a0': 1.0002883401964338, 'a1': 2.0277399553571427, 'b0': -0.09270929259252561, 'b1': 1.0000660842472888, 'b2': 1.0035735240609966e-06, 'c2': 1.0553607559852431, 'p1': 3.501370465640571, 'd1': 1.865047139691555}\n",
      "current iteration=391\n",
      "residual=2.680043205325324e-09\n",
      "params={'Multiplier': 0.00028240848303695554, 'Ip': 0.32927376026224303, 'αPol': 6.16, 'gamma': 4.553962668395629, 'e0': 1.130566714935823, 'a0': 1.0003055875125084, 'a1': 2.0277399553571427, 'b0': -0.10169614844669328, 'b1': 1.0000635941965352, 'b2': 9.228187305421187e-07, 'c2': 1.0616312931992116, 'p1': 3.5012693237506873, 'd1': 1.8928810371176423}\n",
      "current iteration=392\n",
      "residual=3.6008039324965388e-09\n",
      "params={'Multiplier': 0.0002695213485709447, 'Ip': 0.32927376026224303, 'αPol': 6.16, 'gamma': 4.553950825304564, 'e0': 1.1513950918914793, 'a0': 1.0003000053872229, 'a1': 2.0277399553571427, 'b0': -0.09851143372115025, 'b1': 1.000064429102836, 'b2': 9.500924651462128e-07, 'c2': 1.0593453310855152, 'p1': 3.501307708452753, 'd1': 1.8811122444232806}\n",
      "current iteration=393\n",
      "residual=3.264268461087277e-09\n",
      "params={'Multiplier': 0.0002671763702756236, 'Ip': 0.32927376026224303, 'αPol': 6.16, 'gamma': 4.55393842423081, 'e0': 1.1755581975428666, 'a0': 1.0002942395573757, 'a1': 2.0277399553571427, 'b0': -0.09499222694731187, 'b1': 1.000065328973505, 'b2': 9.80693501961838e-07, 'c2': 1.0566204833142945, 'p1': 3.501349624763523, 'd1': 1.8661646059611043}\n",
      "current iteration=394\n",
      "residual=4.977711893534372e-09\n",
      "params={'Multiplier': 0.00028003355690209286, 'Ip': 0.32927376026224303, 'αPol': 6.16, 'gamma': 4.55394903854469, 'e0': 1.1552575025126033, 'a0': 1.0002984346284176, 'a1': 2.0277399553571427, 'b0': -0.09792601287635598, 'b1': 1.0000646363054042, 'b2': 9.564022145358564e-07, 'c2': 1.0589328243858354, 'p1': 3.501311259425032, 'd1': 1.880717176872586}\n",
      "current iteration=395\n",
      "residual=2.4551110792427915e-09\n",
      "params={'Multiplier': 0.00027213048617513724, 'Ip': 0.32927376026224303, 'αPol': 6.16, 'gamma': 4.553950378614594, 'e0': 1.1523605158763695, 'a0': 1.0002996126975232, 'a1': 2.0277399553571427, 'b0': -0.09836507850995169, 'b1': 1.000064480903478, 'b2': 9.516679448928755e-07, 'c2': 1.0592421986239504, 'p1': 3.501308596195825, 'd1': 1.8810134768398368}\n",
      "current iteration=396\n",
      "residual=3.172400327102756e-09\n",
      "params={'Multiplier': 0.0002676119932115695, 'Ip': 0.32927376026224303, 'αPol': 6.16, 'gamma': 4.553945512954778, 'e0': 1.1583554958701825, 'a0': 1.0002979428424617, 'a1': 2.0277399553571427, 'b0': -0.09726397608000956, 'b1': 1.0000646405485427, 'b2': 9.538262639718909e-07, 'c2': 1.0587954912624615, 'p1': 3.5013278158135277, 'd1': 1.878499750224126}\n",
      "current iteration=397\n",
      "residual=4.360726563288641e-09\n",
      "params={'Multiplier': 0.00027343390038037096, 'Ip': 0.32927376026224303, 'αPol': 6.16, 'gamma': 4.553958033430519, 'e0': 1.1400776448133576, 'a0': 1.0003038449977737, 'a1': 2.0277399553571427, 'b0': -0.10019902353140688, 'b1': 1.0000637895990832, 'b2': 9.311315032345391e-07, 'c2': 1.0606688462204579, 'p1': 3.501290890803849, 'd1': 1.8870477743105103}\n",
      "current iteration=398\n",
      "residual=2.46609799272214e-09\n",
      "params={'Multiplier': 0.00027332819340364356, 'Ip': 0.32927376026224303, 'αPol': 6.16, 'gamma': 4.553945927709564, 'e0': 1.1593523871723312, 'a0': 1.000297233857996, 'a1': 2.0277399553571427, 'b0': -0.09727255980837908, 'b1': 1.0000648306869546, 'b2': 9.615728897571785e-07, 'c2': 1.0584976380138331, 'p1': 3.501320564945726, 'd1': 1.8780721655768167}\n",
      "current iteration=399\n",
      "residual=4.467280778383738e-09\n",
      "params={'Multiplier': 0.00025540644998034434, 'Ip': 0.32927376026224303, 'αPol': 6.16, 'gamma': 4.553934092636454, 'e0': 1.1806842167780864, 'a0': 1.0002911823404987, 'a1': 2.0277399553571427, 'b0': -0.09413393072824358, 'b1': 1.00006563080891, 'b2': 9.973053580747404e-07, 'c2': 1.0557311237110654, 'p1': 3.5013533088844744, 'd1': 1.8640317232188894}\n",
      "current iteration=400\n",
      "residual=2.499729463878365e-09\n",
      "params={'Multiplier': 0.00028025062992187433, 'Ip': 0.32927376026224303, 'αPol': 6.16, 'gamma': 4.5539554099124535, 'e0': 1.1433389289485354, 'a0': 1.0003022578185548, 'a1': 2.0277399553571427, 'b0': -0.0996689055980248, 'b1': 1.000064096854607, 'b2': 9.356861305764852e-07, 'c2': 1.0604406052302575, 'p1': 3.501295921742248, 'd1': 1.8870800723665826}\n",
      "current iteration=401\n",
      "residual=4.8977038820587554e-09\n",
      "params={'Multiplier': 0.00026473349499622767, 'Ip': 0.32927376026224303, 'αPol': 6.16, 'gamma': 4.553948739301912, 'e0': 1.1569634709800036, 'a0': 1.000299675126305, 'a1': 2.0277399553571427, 'b0': -0.09798096502383921, 'b1': 1.0000647161504477, 'b2': 9.575115287319136e-07, 'c2': 1.0588388342695083, 'p1': 3.5013104591100466, 'd1': 1.8768068474286097}\n",
      "current iteration=402\n",
      "residual=2.4187106239568843e-09\n",
      "params={'Multiplier': 0.0002755796394428023, 'Ip': 0.32927376026224303, 'αPol': 6.16, 'gamma': 4.553949029192951, 'e0': 1.1537648571726415, 'a0': 1.0002986115457564, 'a1': 2.0277399553571427, 'b0': -0.0979956437842689, 'b1': 1.0000645037662954, 'b2': 9.528925182245018e-07, 'c2': 1.059077814340898, 'p1': 3.5013143815395673, 'd1': 1.8813255009345058}\n",
      "current iteration=403\n",
      "residual=5.233442635086946e-09\n",
      "params={'Multiplier': 0.00027844573906665726, 'Ip': 0.32927376026224303, 'αPol': 6.16, 'gamma': 4.553961561887098, 'e0': 1.1298178369065779, 'a0': 1.0003045669852966, 'a1': 2.0277399553571427, 'b0': -0.10158995814833084, 'b1': 1.0000636551070736, 'b2': 9.230836430784706e-07, 'c2': 1.0618700128687917, 'p1': 3.5012694747142254, 'd1': 1.8965178619146563}\n",
      "current iteration=404\n",
      "residual=2.3215288397417382e-09\n",
      "params={'Multiplier': 0.0002699718175108723, 'Ip': 0.32927376026224303, 'αPol': 6.16, 'gamma': 4.553944208644789, 'e0': 1.1640981627042208, 'a0': 1.0002968214144305, 'a1': 2.0277399553571427, 'b0': -0.09664165974756661, 'b1': 1.000064910506899, 'b2': 9.661275637284916e-07, 'c2': 1.0579319268273044, 'p1': 3.501329587252437, 'd1': 1.8737488037263965}\n",
      "current iteration=405\n",
      "residual=2.652770976750167e-09\n",
      "params={'Multiplier': 0.00027848157102738913, 'Ip': 0.32927376026224303, 'αPol': 6.16, 'gamma': 4.553954212300917, 'e0': 1.1481043479073527, 'a0': 1.0003006394147937, 'a1': 2.0277399553571427, 'b0': -0.09919374574914455, 'b1': 1.0000643975237118, 'b2': 9.519657993006803e-07, 'c2': 1.0595197890849921, 'p1': 3.5012916379546337, 'd1': 1.8832216203309549}\n",
      "current iteration=406\n",
      "residual=2.676916506151491e-09\n",
      "params={'Multiplier': 0.0002689940700330018, 'Ip': 0.32927376026224303, 'αPol': 6.16, 'gamma': 4.553940955669929, 'e0': 1.170620319491877, 'a0': 1.0002941053448602, 'a1': 2.0277399553571427, 'b0': -0.09559907218175838, 'b1': 1.0000652419104352, 'b2': 9.80022867302921e-07, 'c2': 1.0570935676203346, 'p1': 3.5013367921806555, 'd1': 1.871769698097543}\n",
      "current iteration=407\n",
      "residual=3.2555440496578406e-09\n",
      "params={'Multiplier': 0.0002785301075979296, 'Ip': 0.32927376026224303, 'αPol': 6.16, 'gamma': 4.553950252359208, 'e0': 1.1525777409235443, 'a0': 1.0002997425353721, 'a1': 2.0277399553571427, 'b0': -0.09806550513186826, 'b1': 1.0000643978560015, 'b2': 9.441822301781144e-07, 'c2': 1.0594115292360873, 'p1': 3.501319556979822, 'd1': 1.8821041308773947}\n",
      "current iteration=408\n",
      "residual=2.3346031320967542e-09\n",
      "params={'Multiplier': 0.0002706091014078593, 'Ip': 0.32927376026224303, 'αPol': 6.16, 'gamma': 4.553948128391642, 'e0': 1.1569204498686458, 'a0': 1.000298073888819, 'a1': 2.0277399553571427, 'b0': -0.09778796825208935, 'b1': 1.000064717479827, 'b2': 9.622699355116282e-07, 'c2': 1.0586269893895814, 'p1': 3.5013103587990106, 'd1': 1.8785565090090848}\n",
      "current iteration=409\n",
      "residual=2.6134393192932923e-09\n",
      "params={'Multiplier': 0.0002619150740444942, 'Ip': 0.32927376026224303, 'αPol': 6.16, 'gamma': 4.553932096365704, 'e0': 1.1857546136603458, 'a0': 1.0002901699709488, 'a1': 2.0277399553571427, 'b0': -0.09328317660508392, 'b1': 1.000065852337218, 'b2': 9.983226507692677e-07, 'c2': 1.0555484708282084, 'p1': 3.501365732972367, 'd1': 1.8637430559625416}\n",
      "current iteration=410\n",
      "residual=2.518450133825371e-09\n",
      "params={'Multiplier': 0.0002737137268605805, 'Ip': 0.32927376026224303, 'αPol': 6.16, 'gamma': 4.55395203723015, 'e0': 1.1486393793030656, 'a0': 1.0003008650642047, 'a1': 2.0277399553571427, 'b0': -0.09891707375468393, 'b1': 1.000064326708682, 'b2': 9.441512609509317e-07, 'c2': 1.0597742162988157, 'p1': 3.5013040527053625, 'd1': 1.8832397309162934}\n",
      "current iteration=411\n",
      "residual=2.6762464294077393e-09\n",
      "params={'Multiplier': 0.0002633766635441459, 'Ip': 0.32927376026224303, 'αPol': 6.16, 'gamma': 4.553938345585073, 'e0': 1.171264191166569, 'a0': 1.0002943761241663, 'a1': 2.0277399553571427, 'b0': -0.09526706578840563, 'b1': 1.0000651569324, 'b2': 9.705118173553018e-07, 'c2': 1.0573986133470135, 'p1': 3.5013516898801034, 'd1': 1.8717914189242477}\n",
      "current iteration=412\n",
      "residual=2.3191864025123326e-09\n",
      "params={'Multiplier': 0.0002746657313806855, 'Ip': 0.32927376026224303, 'αPol': 6.16, 'gamma': 4.5539502456219125, 'e0': 1.1538879370189417, 'a0': 1.0002990735921642, 'a1': 2.0277399553571427, 'b0': -0.09821207575895982, 'b1': 1.0000645873758842, 'b2': 9.56585530342835e-07, 'c2': 1.0589893416340033, 'p1': 3.5013066509366966, 'd1': 1.8803634858621687}\n",
      "current iteration=413\n",
      "residual=3.0637734442472797e-09\n",
      "params={'Multiplier': 0.0002826003469930116, 'Ip': 0.32927376026224303, 'αPol': 6.16, 'gamma': 4.553964091371925, 'e0': 1.127341349139154, 'a0': 1.0003066262917784, 'a1': 2.0277399553571427, 'b0': -0.10216341476324145, 'b1': 1.0000634491266178, 'b2': 9.16710773068985e-07, 'c2': 1.0620618950842722, 'p1': 3.5012657784515313, 'd1': 1.8946048576627454}\n",
      "current iteration=414\n",
      "residual=2.2751906597632004e-09\n",
      "params={'Multiplier': 0.0002670124546996222, 'Ip': 0.32927376026224303, 'αPol': 6.16, 'gamma': 4.553940095117082, 'e0': 1.171110927280509, 'a0': 1.0002942840513447, 'a1': 2.0277399553571427, 'b0': -0.0955032361446233, 'b1': 1.0000652515345714, 'b2': 9.775934703970535e-07, 'c2': 1.0571753769044578, 'p1': 3.501340744344096, 'd1': 1.8714542403812295}\n",
      "current iteration=415\n",
      "residual=2.7779500079011543e-09\n",
      "params={'Multiplier': 0.00027888787875307575, 'Ip': 0.32927376026224303, 'αPol': 6.16, 'gamma': 4.553952031371458, 'e0': 1.14824551303701, 'a0': 1.0003002574604427, 'a1': 2.0277399553571427, 'b0': -0.099030833940599, 'b1': 1.0000643617111806, 'b2': 9.483383964781211e-07, 'c2': 1.0596181714929398, 'p1': 3.5012991035848677, 'd1': 1.8833660488193682}\n",
      "current iteration=416\n",
      "residual=2.2885762704565616e-09\n",
      "params={'Multiplier': 0.0002690140563147425, 'Ip': 0.32927376026224303, 'αPol': 6.16, 'gamma': 4.553945617461065, 'e0': 1.1614155163241233, 'a0': 1.0002971866232697, 'a1': 2.0277399553571427, 'b0': -0.09695546139555664, 'b1': 1.0000648342150318, 'b2': 9.629273194367016e-07, 'c2': 1.0582942086151896, 'p1': 3.5013251238417165, 'd1': 1.876629999856951}\n",
      "current iteration=417\n",
      "residual=2.5961708998025144e-09\n",
      "params={'Multiplier': 0.00026992275649273534, 'Ip': 0.32927376026224303, 'αPol': 6.16, 'gamma': 4.553942189678455, 'e0': 1.1679746708612342, 'a0': 1.0002948197188721, 'a1': 2.0277399553571427, 'b0': -0.09598510826129882, 'b1': 1.0000651282200832, 'b2': 9.75849502982129e-07, 'c2': 1.0574012522317768, 'p1': 3.501333062367292, 'd1': 1.8731898335359514}\n",
      "current iteration=418\n",
      "residual=2.2794110294936223e-09\n",
      "params={'Multiplier': 0.00027276349774452147, 'Ip': 0.32927376026224303, 'αPol': 6.16, 'gamma': 4.55394957534221, 'e0': 1.1534687531169014, 'a0': 1.000299353727897, 'a1': 2.0277399553571427, 'b0': -0.09818408238133766, 'b1': 1.0000645270865327, 'b2': 9.520267567619811e-07, 'c2': 1.059180783324971, 'p1': 3.501311305121007, 'd1': 1.880726805321407}\n",
      "current iteration=419\n",
      "residual=2.4513550353523517e-09\n",
      "params={'Multiplier': 0.00026204885791070165, 'Ip': 0.32927376026224303, 'αPol': 6.16, 'gamma': 4.553937650082217, 'e0': 1.1753242841479947, 'a0': 1.0002928461462801, 'a1': 2.0277399553571427, 'b0': -0.0949363117746205, 'b1': 1.0000654441205412, 'b2': 9.87834596344328e-07, 'c2': 1.0564839296873554, 'p1': 3.501344270005287, 'd1': 1.8680823039682486}\n",
      "current iteration=420\n",
      "residual=2.5360034704810538e-09\n",
      "params={'Multiplier': 0.000275701635900627, 'Ip': 0.32927376026224303, 'αPol': 6.16, 'gamma': 4.553950077358686, 'e0': 1.153540954771783, 'a0': 1.0002993510834046, 'a1': 2.0277399553571427, 'b0': -0.09826249443097718, 'b1': 1.000064556214923, 'b2': 9.53930102021161e-07, 'c2': 1.059099878203784, 'p1': 3.501308670829952, 'd1': 1.8800922152337116}\n",
      "current iteration=421\n",
      "residual=2.2701479721388313e-09\n",
      "params={'Multiplier': 0.00026821476554517165, 'Ip': 0.32927376026224303, 'αPol': 6.16, 'gamma': 4.553944089747349, 'e0': 1.1634818538326086, 'a0': 1.0002962890901328, 'a1': 2.0277399553571427, 'b0': -0.09664686441811443, 'b1': 1.000064935043941, 'b2': 9.677284698028643e-07, 'c2': 1.0579749616977878, 'p1': 3.5013274020323624, 'd1': 1.8754493954189333}\n",
      "current iteration=422\n",
      "residual=2.623521392511641e-09\n",
      "params={'Multiplier': 0.00026706573619261764, 'Ip': 0.32927376026224303, 'αPol': 6.16, 'gamma': 4.553945875933566, 'e0': 1.1618072510413926, 'a0': 1.0002971966975611, 'a1': 2.0277399553571427, 'b0': -0.09697311662503873, 'b1': 1.0000648077196463, 'b2': 9.658958797231776e-07, 'c2': 1.0580976032838811, 'p1': 3.5013231190682164, 'd1': 1.87539713861461}\n",
      "current iteration=423\n",
      "residual=2.2523822466008716e-09\n",
      "params={'Multiplier': 0.0002717557525816483, 'Ip': 0.32927376026224303, 'αPol': 6.16, 'gamma': 4.553945914765564, 'e0': 1.1599660318316998, 'a0': 1.0002972245678874, 'a1': 2.0277399553571427, 'b0': -0.09719769901254399, 'b1': 1.0000648249451276, 'b2': 9.626527281980657e-07, 'c2': 1.058397623861951, 'p1': 3.50132120347635, 'd1': 1.877403376791431}\n",
      "current iteration=424\n",
      "residual=2.4261109186561905e-09\n",
      "params={'Multiplier': 0.00026817779140830833, 'Ip': 0.32927376026224303, 'αPol': 6.16, 'gamma': 4.553940532258778, 'e0': 1.1703311349576184, 'a0': 1.0002943402320503, 'a1': 2.0277399553571427, 'b0': -0.09564712202398457, 'b1': 1.0000652263114518, 'b2': 9.780940006809402e-07, 'c2': 1.0571845339878418, 'p1': 3.5013376092737514, 'd1': 1.8717348420593343}\n",
      "current iteration=425\n",
      "residual=2.653437750478273e-09\n",
      "params={'Multiplier': 0.00027963353633475574, 'Ip': 0.32927376026224303, 'αPol': 6.16, 'gamma': 4.553953837226552, 'e0': 1.1463864300397084, 'a0': 1.0003014056003554, 'a1': 2.0277399553571427, 'b0': -0.09921805080918855, 'b1': 1.000064219532569, 'b2': 9.402015253012763e-07, 'c2': 1.0600837916302273, 'p1': 3.501300603317382, 'd1': 1.885399308734308}\n",
      "current iteration=426\n",
      "residual=2.2382929570663366e-09\n",
      "params={'Multiplier': 0.00026639131897165935, 'Ip': 0.32927376026224303, 'αPol': 6.16, 'gamma': 4.553941696868255, 'e0': 1.168079951546126, 'a0': 1.0002949860098498, 'a1': 2.0277399553571427, 'b0': -0.09600674653326252, 'b1': 1.000065137973549, 'b2': 9.758159871253724e-07, 'c2': 1.0573834514543796, 'p1': 3.5013333533336812, 'd1': 1.8724102099057593}\n",
      "current iteration=427\n",
      "residual=2.4207260141070832e-09\n",
      "params={'Multiplier': 0.000273012650302662, 'Ip': 0.32927376026224303, 'αPol': 6.16, 'gamma': 4.553951187971819, 'e0': 1.1509153058268904, 'a0': 1.0003000406702185, 'a1': 2.0277399553571427, 'b0': -0.09857916546168011, 'b1': 1.0000644196740793, 'b2': 9.493028867435527e-07, 'c2': 1.0594222605533572, 'p1': 3.5013064128613625, 'd1': 1.881879521859521}\n",
      "current iteration=428\n",
      "residual=2.256569313752327e-09\n",
      "params={'Multiplier': 0.0002717998727429505, 'Ip': 0.32927376026224303, 'αPol': 6.16, 'gamma': 4.553948524043539, 'e0': 1.1557647938914442, 'a0': 1.000298615560699, 'a1': 2.0277399553571427, 'b0': -0.09784615460225624, 'b1': 1.0000646213334228, 'b2': 9.564603433709351e-07, 'c2': 1.0588626579117835, 'p1': 3.501314211964648, 'd1': 1.879342891374697}\n",
      "current iteration=429\n",
      "residual=2.4781652033599084e-09\n",
      "params={'Multiplier': 0.0002649015004189126, 'Ip': 0.32927376026224303, 'αPol': 6.16, 'gamma': 4.55394259000773, 'e0': 1.1678762609741051, 'a0': 1.0002957701595463, 'a1': 2.0277399553571427, 'b0': -0.09620074586499322, 'b1': 1.0000651657326616, 'b2': 9.751782197309211e-07, 'c2': 1.057485734160957, 'p1': 3.5013296066809465, 'd1': 1.871892243518607}\n",
      "current iteration=430\n",
      "residual=2.2518888829646175e-09\n",
      "params={'Multiplier': 0.00027289025936705347, 'Ip': 0.32927376026224303, 'αPol': 6.16, 'gamma': 4.553947419396639, 'e0': 1.1572903495710758, 'a0': 1.0002979011992095, 'a1': 2.0277399553571427, 'b0': -0.09754691930444997, 'b1': 1.0000646692578872, 'b2': 9.584397937523192e-07, 'c2': 1.058679707701495, 'p1': 3.501318187824957, 'd1': 1.8789667882590546}\n",
      "current iteration=431\n",
      "residual=2.3462899812786633e-09\n",
      "params={'Multiplier': 0.0002702742030443739, 'Ip': 0.32927376026224303, 'αPol': 6.16, 'gamma': 4.553943349010031, 'e0': 1.1647903568073406, 'a0': 1.0002962732785705, 'a1': 2.0277399553571427, 'b0': -0.09636021160764491, 'b1': 1.0000649423747425, 'b2': 9.649699421743207e-07, 'c2': 1.0579469124420346, 'p1': 3.501335195226467, 'd1': 1.8747423936611565}\n",
      "current iteration=432\n",
      "residual=2.2342508389736598e-09\n",
      "params={'Multiplier': 0.0002705253573126454, 'Ip': 0.32927376026224303, 'αPol': 6.16, 'gamma': 4.553946933546236, 'e0': 1.1588871936099907, 'a0': 1.000297623736259, 'a1': 2.0277399553571427, 'b0': -0.09743102909097824, 'b1': 1.000064773703556, 'b2': 9.629445825165561e-07, 'c2': 1.058456954346233, 'p1': 3.501316567905994, 'd1': 1.877602915025974}\n",
      "current iteration=433\n",
      "residual=2.3839583993150655e-09\n",
      "params={'Multiplier': 0.000271022700278567, 'Ip': 0.32927376026224303, 'αPol': 6.16, 'gamma': 4.553947813737169, 'e0': 1.156570403402997, 'a0': 1.0002976862173294, 'a1': 2.0277399553571427, 'b0': -0.09766439398084997, 'b1': 1.000064721987002, 'b2': 9.604792670092621e-07, 'c2': 1.058747003440276, 'p1': 3.5013133629039292, 'd1': 1.8803213062291482}\n",
      "current iteration=434\n",
      "residual=2.225444272883305e-09\n",
      "params={'Multiplier': 0.0002702343461943313, 'Ip': 0.32927376026224303, 'αPol': 6.16, 'gamma': 4.553945109917882, 'e0': 1.1622155528559945, 'a0': 1.0002970376151559, 'a1': 2.0277399553571427, 'b0': -0.09689734330588745, 'b1': 1.0000648633769247, 'b2': 9.6471393717934e-07, 'c2': 1.0581356732681941, 'p1': 3.501325531165361, 'd1': 1.8753917358149157}\n",
      "current iteration=435\n",
      "residual=2.370553295782178e-09\n",
      "params={'Multiplier': 0.0002654846893627161, 'Ip': 0.32927376026224303, 'αPol': 6.16, 'gamma': 4.5539407496192785, 'e0': 1.16845161760294, 'a0': 1.0002950268441622, 'a1': 2.0277399553571427, 'b0': -0.09583103147884228, 'b1': 1.0000651003182246, 'b2': 9.716749520549683e-07, 'c2': 1.057519008054888, 'p1': 3.5013400752649124, 'd1': 1.8727125093996904}\n",
      "current iteration=436\n",
      "residual=2.2274579572476046e-09\n",
      "params={'Multiplier': 0.0002723557915239594, 'Ip': 0.32927376026224303, 'αPol': 6.16, 'gamma': 4.553947871621238, 'e0': 1.1575263463098753, 'a0': 1.0002980619051751, 'a1': 2.0277399553571427, 'b0': -0.09761681468893044, 'b1': 1.0000647156114695, 'b2': 9.603468156260675e-07, 'c2': 1.0586216843661778, 'p1': 3.5013150070189667, 'd1': 1.8784504796593486}\n",
      "current iteration=437\n",
      "residual=2.2845803671500627e-09\n",
      "params={'Multiplier': 0.0002717685157577199, 'Ip': 0.32927376026224303, 'αPol': 6.16, 'gamma': 4.553945828612119, 'e0': 1.160139423783583, 'a0': 1.0002970888694689, 'a1': 2.0277399553571427, 'b0': -0.09721991650092021, 'b1': 1.000064829758365, 'b2': 9.647873602247614e-07, 'c2': 1.0582794346479538, 'p1': 3.5013195789959157, 'd1': 1.8768093765376364}\n",
      "current iteration=438\n",
      "residual=2.2223234297610995e-09\n",
      "params={'Multiplier': 0.0002710785812506389, 'Ip': 0.32927376026224303, 'αPol': 6.16, 'gamma': 4.553945775824356, 'e0': 1.1604584276591359, 'a0': 1.000297113307919, 'a1': 2.0277399553571427, 'b0': -0.09715380272457931, 'b1': 1.0000648308725317, 'b2': 9.643221818844694e-07, 'c2': 1.0582831281323009, 'p1': 3.501320965207372, 'd1': 1.876764532223341}\n",
      "current iteration=439\n",
      "residual=2.284434123650319e-09\n",
      "params={'Multiplier': 0.00026769151671601765, 'Ip': 0.32927376026224303, 'αPol': 6.16, 'gamma': 4.553941110827439, 'e0': 1.1694928957200976, 'a0': 1.0002944736807977, 'a1': 2.0277399553571427, 'b0': -0.09578523958378748, 'b1': 1.0000651976440629, 'b2': 9.782436656280424e-07, 'c2': 1.0572137138328361, 'p1': 3.501335329733589, 'd1': 1.8719211267772224}\n",
      "current iteration=440\n",
      "residual=2.2204030125379256e-09\n",
      "params={'Multiplier': 0.00027149102524293145, 'Ip': 0.32927376026224303, 'αPol': 6.16, 'gamma': 4.5539474592135045, 'e0': 1.1574717501048313, 'a0': 1.0002981337161387, 'a1': 2.0277399553571427, 'b0': -0.09758437168195011, 'b1': 1.0000646947259155, 'b2': 9.585476001827686e-07, 'c2': 1.0586888837167048, 'p1': 3.5013173112742644, 'd1': 1.878525038468891}\n",
      "current iteration=441\n",
      "residual=2.3341507758938986e-09\n",
      "params={'Multiplier': 0.0002743533016219546, 'Ip': 0.32927376026224303, 'αPol': 6.16, 'gamma': 4.55395206387189, 'e0': 1.1491312443128954, 'a0': 1.0003003132902804, 'a1': 2.0277399553571427, 'b0': -0.09888231292796723, 'b1': 1.0000643618342924, 'b2': 9.488933456758275e-07, 'c2': 1.0595220082133663, 'p1': 3.501301203895958, 'd1': 1.8826085246447612}\n",
      "current iteration=442\n",
      "residual=2.2150017302837457e-09\n",
      "params={'Multiplier': 0.000268838303204455, 'Ip': 0.32927376026224303, 'αPol': 6.16, 'gamma': 4.553943087305759, 'e0': 1.1656103016862391, 'a0': 1.000295791361104, 'a1': 2.0277399553571427, 'b0': -0.09634800534045929, 'b1': 1.0000650291095021, 'b2': 9.703783530046195e-07, 'c2': 1.0577618463576741, 'p1': 3.5013308592323646, 'd1': 1.874242253796039}\n",
      "current iteration=443\n",
      "residual=2.3234010426495564e-09\n",
      "params={'Multiplier': 0.00027326304107166965, 'Ip': 0.32927376026224303, 'αPol': 6.16, 'gamma': 4.553947868753244, 'e0': 1.1571717806220954, 'a0': 1.0002982087057481, 'a1': 2.0277399553571427, 'b0': -0.09767891283894509, 'b1': 1.0000646971380363, 'b2': 9.591893170846078e-07, 'c2': 1.0586793364480522, 'p1': 3.501315237648434, 'd1': 1.8783705330268594}\n",
      "current iteration=444\n",
      "residual=2.2139507381982776e-09\n",
      "params={'Multiplier': 0.00026947240733876665, 'Ip': 0.32927376026224303, 'αPol': 6.16, 'gamma': 4.55394503449882, 'e0': 1.1619038646688704, 'a0': 1.0002967689940392, 'a1': 2.0277399553571427, 'b0': -0.0969048765233221, 'b1': 1.0000648755674648, 'b2': 9.655901340721584e-07, 'c2': 1.0581510384230945, 'p1': 3.501324360936409, 'd1': 1.8761796415974294}\n",
      "current iteration=445\n",
      "residual=2.2774776178305377e-09\n",
      "params={'Multiplier': 0.0002692037757637822, 'Ip': 0.32927376026224303, 'αPol': 6.16, 'gamma': 4.55394273654812, 'e0': 1.166119057677884, 'a0': 1.0002955129218374, 'a1': 2.0277399553571427, 'b0': -0.09629136703901647, 'b1': 1.0000650616953626, 'b2': 9.723092446733972e-07, 'c2': 1.0576494164880783, 'p1': 3.5013304575104303, 'd1': 1.873844676840621}\n",
      "current iteration=446\n",
      "residual=2.2142891454789248e-09\n",
      "params={'Multiplier': 0.00027114967671260093, 'Ip': 0.32927376026224303, 'αPol': 6.16, 'gamma': 4.553947077169679, 'e0': 1.1583520908301406, 'a0': 1.0002978399009903, 'a1': 2.0277399553571427, 'b0': -0.09745745771144629, 'b1': 1.000064731423908, 'b2': 9.60410359240882e-07, 'c2': 1.0585592972530353, 'p1': 3.5013182733511448, 'd1': 1.8779682023754942}\n",
      "current iteration=447\n",
      "residual=2.2404429205217396e-09\n",
      "params={'Multiplier': 0.00026912698093572995, 'Ip': 0.32927376026224303, 'αPol': 6.16, 'gamma': 4.5539455783069025, 'e0': 1.161591665566918, 'a0': 1.000297026981288, 'a1': 2.0277399553571427, 'b0': -0.09699177436850914, 'b1': 1.0000648393794143, 'b2': 9.656363464394246e-07, 'c2': 1.0581466542203428, 'p1': 3.501322879973825, 'd1': 1.8758968167671184}\n",
      "current iteration=448\n",
      "residual=2.2684608183320376e-09\n",
      "params={'Multiplier': 0.000267252424961284, 'Ip': 0.32927376026224303, 'αPol': 6.16, 'gamma': 4.553943705457887, 'e0': 1.165129633092541, 'a0': 1.0002961755063755, 'a1': 2.0277399553571427, 'b0': -0.09653152508941498, 'b1': 1.0000650290909598, 'b2': 9.713107453901415e-07, 'c2': 1.0577580379282245, 'p1': 3.501326834054951, 'd1': 1.873719740300869}\n",
      "current iteration=449\n",
      "residual=2.213056056276149e-09\n",
      "params={'Multiplier': 0.00027147526555026946, 'Ip': 0.32927376026224303, 'αPol': 6.16, 'gamma': 4.553946490911949, 'e0': 1.1592494435771092, 'a0': 1.000297469776003, 'a1': 2.0277399553571427, 'b0': -0.09729307075069123, 'b1': 1.0000647592161553, 'b2': 9.616494835995582e-07, 'c2': 1.0584492612179837, 'p1': 3.50132034938247, 'd1': 1.8776549029509124}\n",
      "current iteration=450\n",
      "residual=2.2420260936603053e-09\n",
      "params={'Multiplier': 0.0002714730501852669, 'Ip': 0.32927376026224303, 'αPol': 6.16, 'gamma': 4.5539457290686265, 'e0': 1.1603579444112087, 'a0': 1.0002971382832457, 'a1': 2.0277399553571427, 'b0': -0.09714692930179222, 'b1': 1.000064842936781, 'b2': 9.632956450289498e-07, 'c2': 1.0583515377530535, 'p1': 3.5013216357878507, 'd1': 1.8771410127332784}\n",
      "current iteration=451\n",
      "residual=2.211444850085029e-09\n",
      "params={'Multiplier': 0.00026971254058361094, 'Ip': 0.32927376026224303, 'αPol': 6.16, 'gamma': 4.553945615997334, 'e0': 1.1612832172872167, 'a0': 1.0002970548067776, 'a1': 2.0277399553571427, 'b0': -0.09703056310182992, 'b1': 1.000064840268756, 'b2': 9.650509047443023e-07, 'c2': 1.0581978736680395, 'p1': 3.5013225689273315, 'd1': 1.8762078588222644}\n",
      "current iteration=452\n",
      "residual=2.2730326498245446e-09\n",
      "params={'Multiplier': 0.00027490700448151717, 'Ip': 0.32927376026224303, 'αPol': 6.16, 'gamma': 4.553950394333128, 'e0': 1.1525185969883287, 'a0': 1.0002995930140264, 'a1': 2.0277399553571427, 'b0': -0.09833672045075237, 'b1': 1.000064484801687, 'b2': 9.51049085484712e-07, 'c2': 1.0592779779567016, 'p1': 3.5013090055463914, 'd1': 1.8813881807249988}\n",
      "current iteration=453\n",
      "residual=2.2071734888106387e-09\n",
      "params={'Multiplier': 0.0002685076385137153, 'Ip': 0.32927376026224303, 'αPol': 6.16, 'gamma': 4.55394387123446, 'e0': 1.1641867521432516, 'a0': 1.0002961377609088, 'a1': 2.0277399553571427, 'b0': -0.09658924001263498, 'b1': 1.0000649746805839, 'b2': 9.695944160892367e-07, 'c2': 1.057856960309632, 'p1': 3.5013272663869737, 'd1': 1.8746543413522074}\n",
      "current iteration=454\n",
      "residual=2.2391548497442576e-09\n",
      "params={'Multiplier': 0.00027033507212836927, 'Ip': 0.32927376026224303, 'αPol': 6.16, 'gamma': 4.553944545192759, 'e0': 1.162763967872952, 'a0': 1.0002966580925856, 'a1': 2.0277399553571427, 'b0': -0.09674408007736797, 'b1': 1.0000648892670865, 'b2': 9.651697598922482e-07, 'c2': 1.0580841555206164, 'p1': 3.5013279306705147, 'd1': 1.8756048283983002}\n",
      "current iteration=455\n",
      "residual=2.2098979479881666e-09\n",
      "params={'Multiplier': 0.0002704777797196689, 'Ip': 0.32927376026224303, 'αPol': 6.16, 'gamma': 4.553946336457866, 'e0': 1.1598562093803344, 'a0': 1.0002973823253414, 'a1': 2.0277399553571427, 'b0': -0.09725929183757567, 'b1': 1.0000648025944385, 'b2': 9.635006361641274e-07, 'c2': 1.0583637498890157, 'p1': 3.501319408597149, 'd1': 1.8771033754868753}\n",
      "current iteration=456\n",
      "residual=2.218668122930299e-09\n",
      "params={'Multiplier': 0.000268138024637099, 'Ip': 0.32927376026224303, 'αPol': 6.16, 'gamma': 4.5539433000850895, 'e0': 1.1645920200170132, 'a0': 1.0002960840076964, 'a1': 2.0277399553571427, 'b0': -0.0964867899091448, 'b1': 1.0000649647557667, 'b2': 9.684068202897578e-07, 'c2': 1.057867882166418, 'p1': 3.501330371873114, 'd1': 1.8744879987963312}\n",
      "current iteration=457\n",
      "residual=2.251536484316806e-09\n",
      "params={'Multiplier': 0.0002698312817103199, 'Ip': 0.32927376026224303, 'αPol': 6.16, 'gamma': 4.5539456998218775, 'e0': 1.1603765067443064, 'a0': 1.000296917576232, 'a1': 2.0277399553571427, 'b0': -0.0971241506128393, 'b1': 1.0000648372660799, 'b2': 9.64769089950579e-07, 'c2': 1.0583002812131341, 'p1': 3.5013208158683904, 'd1': 1.8773658413707603}\n",
      "current iteration=458\n",
      "residual=2.204994800337932e-09\n",
      "params={'Multiplier': 0.0002701335517784065, 'Ip': 0.32927376026224303, 'αPol': 6.16, 'gamma': 4.553945257393881, 'e0': 1.161755751375761, 'a0': 1.0002970076054247, 'a1': 2.0277399553571427, 'b0': -0.09695404513262541, 'b1': 1.0000648568492134, 'b2': 9.647277252611275e-07, 'c2': 1.0581768243276897, 'p1': 3.501324352341123, 'd1': 1.8758852447378627}\n",
      "current iteration=459\n",
      "residual=2.2487965484607232e-09\n",
      "params={'Multiplier': 0.0002688005936973825, 'Ip': 0.32927376026224303, 'αPol': 6.16, 'gamma': 4.553944930229309, 'e0': 1.1623931163344374, 'a0': 1.0002968207429697, 'a1': 2.0277399553571427, 'b0': -0.09682773967575665, 'b1': 1.0000648749658094, 'b2': 9.652420731587341e-07, 'c2': 1.0581315653463548, 'p1': 3.501326059253127, 'd1': 1.8758171515396}\n",
      "current iteration=460\n",
      "residual=2.2045182689992807e-09\n",
      "params={'Multiplier': 0.000270508180263751, 'Ip': 0.32927376026224303, 'αPol': 6.16, 'gamma': 4.553945564425594, 'e0': 1.1609420556021282, 'a0': 1.0002970401666818, 'a1': 2.0277399553571427, 'b0': -0.09707228696237365, 'b1': 1.000064841895851, 'b2': 9.645521135137614e-07, 'c2': 1.0582452366502009, 'p1': 3.5013222387188154, 'd1': 1.8765276830304685}\n",
      "current iteration=461\n",
      "residual=2.203184596862585e-09\n",
      "params={'Multiplier': 0.00026819462444482856, 'Ip': 0.32927376026224303, 'αPol': 6.16, 'gamma': 4.553942867882588, 'e0': 1.1660762777205864, 'a0': 1.0002955816248456, 'a1': 2.0277399553571427, 'b0': -0.09629475377447058, 'b1': 1.0000650405464122, 'b2': 9.72243942909401e-07, 'c2': 1.057637188275724, 'p1': 3.5013306986750576, 'd1': 1.8736574721727015}\n",
      "current iteration=462\n",
      "residual=2.2244859241025123e-09\n",
      "params={'Multiplier': 0.00026655399957953296, 'Ip': 0.32927376026224303, 'αPol': 6.16, 'gamma': 4.553940572217144, 'e0': 1.1703820240980125, 'a0': 1.0002943055791809, 'a1': 2.0277399553571427, 'b0': -0.0956499448207308, 'b1': 1.0000652134566603, 'b2': 9.791285489058055e-07, 'c2': 1.0571114921903404, 'p1': 3.5013373923753144, 'd1': 1.8712241145646238}\n",
      "current iteration=463\n",
      "residual=2.2194930802428844e-09\n",
      "params={'Multiplier': 0.0002715593704575303, 'Ip': 0.32927376026224303, 'αPol': 6.16, 'gamma': 4.553946940570499, 'e0': 1.159251296241643, 'a0': 1.0002975308567266, 'a1': 2.0277399553571427, 'b0': -0.09735392832034104, 'b1': 1.0000647856746905, 'b2': 9.631295818657293e-07, 'c2': 1.0584119704271435, 'p1': 3.501317703436607, 'd1': 1.8775282180820638}\n",
      "current iteration=464\n",
      "residual=2.2051113813816667e-09\n",
      "params={'Multiplier': 0.0002689913209664718, 'Ip': 0.32927376026224303, 'αPol': 6.16, 'gamma': 4.553944210206439, 'e0': 1.1632565026107402, 'a0': 1.0002964457199555, 'a1': 2.0277399553571427, 'b0': -0.09670357451194386, 'b1': 1.0000649199854976, 'b2': 9.67086158931707e-07, 'c2': 1.0580038941002385, 'p1': 3.5013272047640185, 'd1': 1.8752480121713893}\n",
      "current iteration=465\n",
      "residual=2.2425378254834227e-09\n",
      "params={'Multiplier': 0.00027088625782323295, 'Ip': 0.32927376026224303, 'αPol': 6.16, 'gamma': 4.553947377929968, 'e0': 1.1577634512823831, 'a0': 1.0002979543750838, 'a1': 2.0277399553571427, 'b0': -0.09756382672332348, 'b1': 1.000064699496154, 'b2': 9.605096800147095e-07, 'c2': 1.0585664525938732, 'p1': 3.501316485183655, 'd1': 1.8779751834676897}\n",
      "current iteration=466\n",
      "residual=2.2017195411989898e-09\n",
      "params={'Multiplier': 0.0002693495609241703, 'Ip': 0.32927376026224303, 'αPol': 6.16, 'gamma': 4.553944159961808, 'e0': 1.1636478626954614, 'a0': 1.0002963321146021, 'a1': 2.0277399553571427, 'b0': -0.09665196068617533, 'b1': 1.000064946706165, 'b2': 9.679064560952355e-07, 'c2': 1.0579629757611728, 'p1': 3.5013272657202275, 'd1': 1.8751754237322538}\n",
      "current iteration=467\n",
      "residual=2.203380093032795e-09\n",
      "params={'Multiplier': 0.00026821723030512334, 'Ip': 0.32927376026224303, 'αPol': 6.16, 'gamma': 4.553942804624475, 'e0': 1.1660808841341863, 'a0': 1.0002956042779187, 'a1': 2.0277399553571427, 'b0': -0.09629327494728226, 'b1': 1.0000650402381996, 'b2': 9.71982898390067e-07, 'c2': 1.0576497593506793, 'p1': 3.5013308695387115, 'd1': 1.8736907474522178}\n",
      "current iteration=468\n",
      "residual=2.2135485396933197e-09\n",
      "params={'Multiplier': 0.00026963911577138067, 'Ip': 0.32927376026224303, 'αPol': 6.16, 'gamma': 4.5539444013204555, 'e0': 1.1633625373912904, 'a0': 1.0002964422416556, 'a1': 2.0277399553571427, 'b0': -0.09672353582019848, 'b1': 1.0000649290287897, 'b2': 9.680636379183483e-07, 'c2': 1.0579576837232605, 'p1': 3.501326083673996, 'd1': 1.8749813094616563}\n",
      "current iteration=469\n",
      "residual=2.2034521148017007e-09\n",
      "params={'Multiplier': 0.00026959743381416157, 'Ip': 0.32927376026224303, 'αPol': 6.16, 'gamma': 4.553944559615046, 'e0': 1.1629978441299977, 'a0': 1.0002965239297517, 'a1': 2.0277399553571427, 'b0': -0.09676887099597939, 'b1': 1.0000649156634587, 'b2': 9.674449652496975e-07, 'c2': 1.0580060211182687, 'p1': 3.5013256529895997, 'd1': 1.8752808860543082}\n",
      "current iteration=470\n",
      "residual=2.2123239475540125e-09\n",
      "params={'Multiplier': 0.0002672696615620973, 'Ip': 0.32927376026224303, 'αPol': 6.16, 'gamma': 4.553942558647954, 'e0': 1.1667685083209434, 'a0': 1.0002955522904342, 'a1': 2.0277399553571427, 'b0': -0.096230501641887, 'b1': 1.0000650766695598, 'b2': 9.731813208624374e-07, 'c2': 1.057570886268781, 'p1': 3.5013311559492966, 'd1': 1.8730315061215452}\n",
      "current iteration=471\n",
      "residual=2.202938892479129e-09\n",
      "params={'Multiplier': 0.0002683179744517039, 'Ip': 0.32927376026224303, 'αPol': 6.16, 'gamma': 4.55394354171395, 'e0': 1.1648880765829106, 'a0': 1.000296031661829, 'a1': 2.0277399553571427, 'b0': -0.09649614391908806, 'b1': 1.0000649973062088, 'b2': 9.70291917923305e-07, 'c2': 1.0577904535767015, 'p1': 3.5013284543076124, 'd1': 1.8741872593914777}\n",
      "current iteration=472\n",
      "residual=2.2110883858613794e-09\n",
      "params={'Multiplier': 0.00026874552640865357, 'Ip': 0.32927376026224303, 'αPol': 6.16, 'gamma': 4.553943018705889, 'e0': 1.1654544858704594, 'a0': 1.0002957626306737, 'a1': 2.0277399553571427, 'b0': -0.09638612545419992, 'b1': 1.0000650270244498, 'b2': 9.70815209777598e-07, 'c2': 1.0577407385679316, 'p1': 3.5013301134805204, 'd1': 1.874074228244552}\n",
      "current iteration=473\n",
      "residual=2.202669338494742e-09\n",
      "params={'Multiplier': 0.0002689871165993951, 'Ip': 0.32927376026224303, 'αPol': 6.16, 'gamma': 4.553943668028749, 'e0': 1.1644114639382415, 'a0': 1.0002960856747007, 'a1': 2.0277399553571427, 'b0': -0.09654723486610743, 'b1': 1.0000649803355264, 'b2': 9.693725244730445e-07, 'c2': 1.0578550151841313, 'p1': 3.5013282273422344, 'd1': 1.8746076154570313}\n",
      "current iteration=474\n",
      "residual=2.2155311444995836e-09\n",
      "params={'Multiplier': 0.00026768567304913393, 'Ip': 0.32927376026224303, 'αPol': 6.16, 'gamma': 4.553941764559541, 'e0': 1.1677941431456134, 'a0': 1.000295175781975, 'a1': 2.0277399553571427, 'b0': -0.09601498532416056, 'b1': 1.0000651002469847, 'b2': 9.73549685534536e-07, 'c2': 1.0574731749290713, 'p1': 3.501335037559612, 'd1': 1.872679759363694}\n",
      "current iteration=475\n",
      "residual=2.201802389335925e-09\n",
      "params={'Multiplier': 0.00026977839045938534, 'Ip': 0.32927376026224303, 'αPol': 6.16, 'gamma': 4.553945193483281, 'e0': 1.161839950717706, 'a0': 1.0002968306895033, 'a1': 2.0277399553571427, 'b0': -0.0969482152092219, 'b1': 1.000064877007575, 'b2': 9.660080111384417e-07, 'c2': 1.058141078986455, 'p1': 3.501323315837812, 'd1': 1.875997383654512}\n",
      "current iteration=476\n",
      "residual=2.215323936522782e-09\n",
      "params={'Multiplier': 0.0002699072440340844, 'Ip': 0.32927376026224303, 'αPol': 6.16, 'gamma': 4.5539444942327005, 'e0': 1.1629922668456802, 'a0': 1.0002965589321353, 'a1': 2.0277399553571427, 'b0': -0.09675683218841861, 'b1': 1.0000649086262379, 'b2': 9.667264537771558e-07, 'c2': 1.05803671735616, 'p1': 3.5013263896600844, 'd1': 1.8753971696143417}\n",
      "current iteration=477\n",
      "residual=2.2009742962962854e-09\n",
      "params={'Multiplier': 0.00026885719767177907, 'Ip': 0.32927376026224303, 'αPol': 6.16, 'gamma': 4.55394402698402, 'e0': 1.163888114026248, 'a0': 1.0002962430537155, 'a1': 2.0277399553571427, 'b0': -0.09663113805658088, 'b1': 1.0000649581669974, 'b2': 9.688770272742175e-07, 'c2': 1.0579018984643083, 'p1': 3.5013270472052516, 'd1': 1.8748400459411592}\n",
      "current iteration=478\n",
      "residual=2.2144724549064454e-09\n",
      "params={'Multiplier': 0.0002693958867766577, 'Ip': 0.32927376026224303, 'αPol': 6.16, 'gamma': 4.553944118616237, 'e0': 1.1640488143516436, 'a0': 1.0002962104398407, 'a1': 2.0277399553571427, 'b0': -0.09662801039803712, 'b1': 1.000064970957624, 'b2': 9.695926830310952e-07, 'c2': 1.0578693832227208, 'p1': 3.5013264197712863, 'd1': 1.8747219024091106}\n",
      "current iteration=479\n",
      "residual=2.2004526349332838e-09\n",
      "params={'Multiplier': 0.00026909243382367, 'Ip': 0.32927376026224303, 'αPol': 6.16, 'gamma': 4.553944187308889, 'e0': 1.163454573156662, 'a0': 1.0002963868999268, 'a1': 2.0277399553571427, 'b0': -0.09668468348346718, 'b1': 1.0000649327285291, 'b2': 9.677124859219788e-07, 'c2': 1.0579702657610752, 'p1': 3.5013270085158354, 'd1': 1.8751164834885934}\n",
      "current iteration=480\n",
      "residual=2.2020881840469612e-09\n",
      "params={'Multiplier': 0.0002680475668003224, 'Ip': 0.32927376026224303, 'αPol': 6.16, 'gamma': 4.5539428574118, 'e0': 1.1658898948747511, 'a0': 1.0002955244132676, 'a1': 2.0277399553571427, 'b0': -0.09632366744752392, 'b1': 1.0000650492697711, 'b2': 9.72555866507463e-07, 'c2': 1.0576551667130871, 'p1': 3.5013298034291083, 'd1': 1.873930964072946}\n",
      "current iteration=481\n",
      "residual=2.2061588471306716e-09\n",
      "params={'Multiplier': 0.0002671842260099089, 'Ip': 0.32927376026224303, 'αPol': 6.16, 'gamma': 4.553942008977333, 'e0': 1.167694133052315, 'a0': 1.0002951887013254, 'a1': 2.0277399553571427, 'b0': -0.09605570171480572, 'b1': 1.0000651056979175, 'b2': 9.743370696924103e-07, 'c2': 1.0574687733868762, 'p1': 3.5013334299934193, 'd1': 1.872769316603942}\n",
      "current iteration=482\n",
      "residual=2.2009593976423566e-09\n",
      "params={'Multiplier': 0.00026967525886345545, 'Ip': 0.32927376026224303, 'αPol': 6.16, 'gamma': 4.5539446755635264, 'e0': 1.1626295385336975, 'a0': 1.0002965773003452, 'a1': 2.0277399553571427, 'b0': -0.09681814065048167, 'b1': 1.0000649078463677, 'b2': 9.669937230949444e-07, 'c2': 1.058051100178106, 'p1': 3.501325036537491, 'd1': 1.8755880280235933}\n",
      "current iteration=483\n",
      "residual=2.2031950149922392e-09\n",
      "params={'Multiplier': 0.0002681063974666609, 'Ip': 0.32927376026224303, 'αPol': 6.16, 'gamma': 4.553943036977571, 'e0': 1.1655634466816283, 'a0': 1.0002957156123793, 'a1': 2.0277399553571427, 'b0': -0.09636897161210045, 'b1': 1.0000650303668919, 'b2': 9.71343481204201e-07, 'c2': 1.0577169567076883, 'p1': 3.50132989243227, 'd1': 1.874077387926358}\n",
      "current iteration=484\n",
      "residual=2.203083037501192e-09\n",
      "params={'Multiplier': 0.0002694640942327853, 'Ip': 0.32927376026224303, 'αPol': 6.16, 'gamma': 4.553944838438762, 'e0': 1.1623771632591757, 'a0': 1.0002966575311036, 'a1': 2.0277399553571427, 'b0': -0.09685970699376123, 'b1': 1.0000649038178893, 'b2': 9.666794837936976e-07, 'c2': 1.0580866686475021, 'p1': 3.501324480461857, 'd1': 1.8757448908155916}\n",
      "current iteration=485\n",
      "residual=2.2020821014446107e-09\n",
      "params={'Multiplier': 0.00026984721669565115, 'Ip': 0.32927376026224303, 'αPol': 6.16, 'gamma': 4.553944966377905, 'e0': 1.1622572488374319, 'a0': 1.0002967345803877, 'a1': 2.0277399553571427, 'b0': -0.0968821574052752, 'b1': 1.0000648883793966, 'b2': 9.663856042063657e-07, 'c2': 1.0580934087739449, 'p1': 3.501324375174222, 'd1': 1.875691729843727}\n",
      "current iteration=486\n",
      "residual=2.2045861900374038e-09\n",
      "params={'Multiplier': 0.0002700897925068668, 'Ip': 0.32927376026224303, 'αPol': 6.16, 'gamma': 4.553945555171953, 'e0': 1.1609811268490997, 'a0': 1.0002970991590274, 'a1': 2.0277399553571427, 'b0': -0.09707385596906598, 'b1': 1.000064847766473, 'b2': 9.643188600971797e-07, 'c2': 1.058264446389309, 'p1': 3.5013223042312447, 'd1': 1.8765185699730242}\n",
      "current iteration=487\n",
      "residual=2.2005326654115077e-09\n",
      "params={'Multiplier': 0.0002686677888378286, 'Ip': 0.32927376026224303, 'αPol': 6.16, 'gamma': 4.553943539704928, 'e0': 1.1648021845674212, 'a0': 1.0002959610083926, 'a1': 2.0277399553571427, 'b0': -0.09648952932311944, 'b1': 1.0000649923514275, 'b2': 9.702596317495704e-07, 'c2': 1.0577939893230281, 'p1': 3.501328600064118, 'd1': 1.874372709878437}\n",
      "current iteration=488\n",
      "residual=2.2036546117824774e-09\n",
      "params={'Multiplier': 0.000268659678983707, 'Ip': 0.32927376026224303, 'αPol': 6.16, 'gamma': 4.553943324869009, 'e0': 1.1651646781025038, 'a0': 1.0002958839482305, 'a1': 2.0277399553571427, 'b0': -0.09643486721564695, 'b1': 1.0000650022017037, 'b2': 9.705932131343076e-07, 'c2': 1.057756404266526, 'p1': 3.5013293463649213, 'd1': 1.8741566478907434}\n",
      "current iteration=489\n",
      "residual=2.20058097631732e-09\n",
      "params={'Multiplier': 0.0002692628773127703, 'Ip': 0.32927376026224303, 'αPol': 6.16, 'gamma': 4.553944460046324, 'e0': 1.163073950503513, 'a0': 1.0002964641353858, 'a1': 2.0277399553571427, 'b0': -0.09675349704923267, 'b1': 1.000064928413843, 'b2': 9.676571748329366e-07, 'c2': 1.058004098815878, 'p1': 3.5013256969376276, 'd1': 1.8753478187640589}\n",
      "current iteration=490\n",
      "residual=2.203319653697429e-09\n",
      "params={'Multiplier': 0.0002699959020021625, 'Ip': 0.32927376026224303, 'αPol': 6.16, 'gamma': 4.553944805260295, 'e0': 1.1622909211522399, 'a0': 1.000296596312217, 'a1': 2.0277399553571427, 'b0': -0.09684990091634904, 'b1': 1.0000648949349111, 'b2': 9.6645388292238e-07, 'c2': 1.0580953474576376, 'p1': 3.5013248210451735, 'd1': 1.8759464007131852}\n",
      "current iteration=491\n",
      "residual=2.2005535397526584e-09\n",
      "params={'Multiplier': 0.00026873696438467487, 'Ip': 0.32927376026224303, 'αPol': 6.16, 'gamma': 4.553943857600537, 'e0': 1.164238708350501, 'a0': 1.0002961728244262, 'a1': 2.0277399553571427, 'b0': -0.0965845831684033, 'b1': 1.0000649717133843, 'b2': 9.693316962433585e-07, 'c2': 1.0578666738620814, 'p1': 3.5013275459920052, 'd1': 1.8746270308321251}\n",
      "current iteration=492\n",
      "residual=2.2035683144885804e-09\n",
      "params={'Multiplier': 0.0002692754299750133, 'Ip': 0.32927376026224303, 'αPol': 6.16, 'gamma': 4.553944716859855, 'e0': 1.1627328626257865, 'a0': 1.0002965597292903, 'a1': 2.0277399553571427, 'b0': -0.09680627962978887, 'b1': 1.000064910181165, 'b2': 9.673637344498331e-07, 'c2': 1.0580331120618307, 'p1': 3.501324911740507, 'd1': 1.8755299009521456}\n",
      "current iteration=493\n",
      "residual=2.200435462443707e-09\n",
      "params={'Multiplier': 0.0002690591804171971, 'Ip': 0.32927376026224303, 'αPol': 6.16, 'gamma': 4.553943930236525, 'e0': 1.163991780448196, 'a0': 1.0002962041883483, 'a1': 2.0277399553571427, 'b0': -0.09661199605702779, 'b1': 1.000064962796936, 'b2': 9.688701316790116e-07, 'c2': 1.0578995383169358, 'p1': 3.5013273984418047, 'd1': 1.8748381830131962}\n",
      "current iteration=494\n",
      "residual=2.2036769291054085e-09\n",
      "params={'Multiplier': 0.0002704201234050574, 'Ip': 0.32927376026224303, 'αPol': 6.16, 'gamma': 4.553945742041751, 'e0': 1.160875579535991, 'a0': 1.000297256945734, 'a1': 2.0277399553571427, 'b0': -0.09708751277027315, 'b1': 1.000064823952353, 'b2': 9.634543818304309e-07, 'c2': 1.0582818710260302, 'p1': 3.5013228546561512, 'd1': 1.876388064527104}\n",
      "current iteration=495\n",
      "residual=2.2002225089384596e-09\n",
      "params={'Multiplier': 0.0002686397226457915, 'Ip': 0.32927376026224303, 'αPol': 6.16, 'gamma': 4.553943578569287, 'e0': 1.1646360201460073, 'a0': 1.0002959575463863, 'a1': 2.0277399553571427, 'b0': -0.09651462877821124, 'b1': 1.0000649929404166, 'b2': 9.702764840469058e-07, 'c2': 1.0578118293354422, 'p1': 3.501328066235878, 'd1': 1.874545212089545}\n",
      "current iteration=496\n",
      "residual=2.2022372728297916e-09\n",
      "params={'Multiplier': 0.0002683773913053633, 'Ip': 0.32927376026224303, 'αPol': 6.16, 'gamma': 4.553943355513921, 'e0': 1.1649834268936048, 'a0': 1.0002958913718178, 'a1': 2.0277399553571427, 'b0': -0.09645551708710906, 'b1': 1.0000650057549318, 'b2': 9.70394143040565e-07, 'c2': 1.0577872857279158, 'p1': 3.5013290211233823, 'd1': 1.8743979431731965}\n",
      "current iteration=497\n",
      "residual=2.2003797726808603e-09\n",
      "params={'Multiplier': 0.0002694793827914266, 'Ip': 0.32927376026224303, 'αPol': 6.16, 'gamma': 4.553944563661909, 'e0': 1.1629387058450167, 'a0': 1.0002965237782457, 'a1': 2.0277399553571427, 'b0': -0.09677549732573366, 'b1': 1.0000649177232803, 'b2': 9.673869609816421e-07, 'c2': 1.0580168748026548, 'p1': 3.501325536661516, 'd1': 1.8753682756647994}\n",
      "current iteration=498\n",
      "residual=2.201987090766543e-09\n",
      "params={'Multiplier': 0.00026838637155857104, 'Ip': 0.32927376026224303, 'αPol': 6.16, 'gamma': 4.553943002444272, 'e0': 1.1656207268656478, 'a0': 1.00029573388045, 'a1': 2.0277399553571427, 'b0': -0.09635491570646473, 'b1': 1.0000650252698942, 'b2': 9.710489825565105e-07, 'c2': 1.057714784034305, 'p1': 3.5013305246245143, 'd1': 1.8739665011264623}\n",
      "current iteration=499\n",
      "residual=2.200293947895964e-09\n",
      "params={'Multiplier': 0.00026943004705437534, 'Ip': 0.32927376026224303, 'αPol': 6.16, 'gamma': 4.5539446457235275, 'e0': 1.1627849764607179, 'a0': 1.0002965564872406, 'a1': 2.0277399553571427, 'b0': -0.0967998903335326, 'b1': 1.000064914073155, 'b2': 9.67267024032381e-07, 'c2': 1.0580344990237904, 'p1': 3.5013251180344978, 'd1': 1.875489644514377}\n",
      "current iteration=500\n",
      "residual=2.203197471249657e-09\n",
      "params={'Multiplier': 0.00026883051162818195, 'Ip': 0.32927376026224303, 'αPol': 6.16, 'gamma': 4.553944133118086, 'e0': 1.1636397788552593, 'a0': 1.0002962773298807, 'a1': 2.0277399553571427, 'b0': -0.09668075615898274, 'b1': 1.0000649490447022, 'b2': 9.690194713307676e-07, 'c2': 1.0579071752430944, 'p1': 3.50132614520498, 'd1': 1.8748512560917314}\n",
      "current iteration=501\n",
      "residual=2.2001492136089478e-09\n",
      "params={'Multiplier': 0.0002692197515129502, 'Ip': 0.32927376026224303, 'αPol': 6.16, 'gamma': 4.553944153250877, 'e0': 1.1636458417346418, 'a0': 1.000296318418422, 'a1': 2.0277399553571427, 'b0': -0.09665915955437718, 'b1': 1.0000649472907994, 'b2': 9.681846500075864e-07, 'c2': 1.0579490255249886, 'p1': 3.5013269855914158, 'd1': 1.875094381350515}\n",
      "current iteration=502\n",
      "residual=2.2009178066933714e-09\n",
      "params={'Multiplier': 0.00026939540448844834, 'Ip': 0.32927376026224303, 'αPol': 6.16, 'gamma': 4.553944291349245, 'e0': 1.163351082939263, 'a0': 1.0002963814637087, 'a1': 2.0277399553571427, 'b0': -0.09670718308813647, 'b1': 1.0000649354086304, 'b2': 9.679103927240362e-07, 'c2': 1.0579776782334651, 'p1': 3.5013263513971893, 'd1': 1.875237501740886}\n",
      "current iteration=503\n",
      "residual=2.200855474418856e-09\n",
      "params={'Multiplier': 0.000268521901490959, 'Ip': 0.32927376026224303, 'αPol': 6.16, 'gamma': 4.553943565926883, 'e0': 1.164754111985736, 'a0': 1.0002960080497512, 'a1': 2.0277399553571427, 'b0': -0.09649798898176665, 'b1': 1.0000649912417126, 'b2': 9.699781535754681e-07, 'c2': 1.05781379717046, 'p1': 3.5013286250368822, 'd1': 1.8744194301689623}\n",
      "current iteration=504\n",
      "residual=2.2019095390281227e-09\n",
      "params={'Multiplier': 0.00026862667948568397, 'Ip': 0.32927376026224303, 'αPol': 6.16, 'gamma': 4.553943805056692, 'e0': 1.1643130505310642, 'a0': 1.0002961292035966, 'a1': 2.0277399553571427, 'b0': -0.09656710772283789, 'b1': 1.0000649748460664, 'b2': 9.694741260890538e-07, 'c2': 1.0578544388040527, 'p1': 3.501327764905129, 'd1': 1.8746063295089015}\n",
      "current iteration=505\n",
      "residual=2.2000018526944817e-09\n",
      "params={'Multiplier': 0.0002692031199246214, 'Ip': 0.32927376026224303, 'αPol': 6.16, 'gamma': 4.5539441697761065, 'e0': 1.1635915639475822, 'a0': 1.0002963183986806, 'a1': 2.0277399553571427, 'b0': -0.09667216424681183, 'b1': 1.0000649452679895, 'b2': 9.683012078820497e-07, 'c2': 1.0579468678557804, 'p1': 3.5013267047741747, 'd1': 1.875079706894876}\n",
      "current iteration=506\n",
      "residual=2.200734852747556e-09\n",
      "params={'Multiplier': 0.00026963677640090555, 'Ip': 0.32927376026224303, 'αPol': 6.16, 'gamma': 4.553944651248899, 'e0': 1.1626776297931505, 'a0': 1.0002965646873394, 'a1': 2.0277399553571427, 'b0': -0.09681113688221674, 'b1': 1.0000649098182395, 'b2': 9.67071842827849e-07, 'c2': 1.0580449379095715, 'p1': 3.5013251072128884, 'd1': 1.875556468429703}\n",
      "current iteration=507\n",
      "residual=2.20004141319536e-09\n",
      "params={'Multiplier': 0.00026935784042547706, 'Ip': 0.32927376026224303, 'αPol': 6.16, 'gamma': 4.553944379918395, 'e0': 1.1631966995852938, 'a0': 1.0002964255279427, 'a1': 2.0277399553571427, 'b0': -0.09673284990710421, 'b1': 1.0000649301741078, 'b2': 9.677980115085916e-07, 'c2': 1.057987150894676, 'p1': 3.5013259866688893, 'd1': 1.875272203062572}\n",
      "current iteration=508\n",
      "residual=2.2009874533481557e-09\n",
      "params={'Multiplier': 0.00026891426249930905, 'Ip': 0.32927376026224303, 'αPol': 6.16, 'gamma': 4.553943741103872, 'e0': 1.1643822613002173, 'a0': 1.0002961008802167, 'a1': 2.0277399553571427, 'b0': -0.09655149938632501, 'b1': 1.0000649729981623, 'b2': 9.694203115806488e-07, 'c2': 1.057851244016737, 'p1': 3.5013280932583988, 'd1': 1.8746129479201934}\n",
      "current iteration=509\n",
      "residual=2.199973267347544e-09\n",
      "params={'Multiplier': 0.000269175702368174, 'Ip': 0.32927376026224303, 'αPol': 6.16, 'gamma': 4.553944280310711, 'e0': 1.1634010080559163, 'a0': 1.0002963733215935, 'a1': 2.0277399553571427, 'b0': -0.09670299763350576, 'b1': 1.0000649395599228, 'b2': 9.680978085846448e-07, 'c2': 1.0579658843157, 'p1': 3.5013262960178215, 'd1': 1.8751640986294733}\n",
      "current iteration=510\n",
      "residual=2.2007506359450968e-09\n",
      "params={'Multiplier': 0.00026952818334324835, 'Ip': 0.32927376026224303, 'αPol': 6.16, 'gamma': 4.553944428091694, 'e0': 1.1630499568411623, 'a0': 1.0002964322906098, 'a1': 2.0277399553571427, 'b0': -0.09674409616017486, 'b1': 1.0000649232679286, 'b2': 9.674990752994717e-07, 'c2': 1.0580085108831123, 'p1': 3.5013259942091857, 'd1': 1.875441151454658}\n",
      "current iteration=511\n",
      "residual=2.199988340102073e-09\n",
      "params={'Multiplier': 0.0002689346597258835, 'Ip': 0.32927376026224303, 'αPol': 6.16, 'gamma': 4.553944000223326, 'e0': 1.1639415038428669, 'a0': 1.000296237690972, 'a1': 2.0277399553571427, 'b0': -0.0966244614163462, 'b1': 1.0000649596020204, 'b2': 9.688733784152248e-07, 'c2': 1.0579021324281248, 'p1': 3.501327158046301, 'd1': 1.8748305580129991}\n",
      "current iteration=512\n",
      "residual=2.2005540128208113e-09\n",
      "params={'Multiplier': 0.0002696509260230462, 'Ip': 0.32927376026224303, 'αPol': 6.16, 'gamma': 4.553944838090983, 'e0': 1.1623145110321889, 'a0': 1.0002966994431584, 'a1': 2.0277399553571427, 'b0': -0.0968661364241041, 'b1': 1.0000648960800038, 'b2': 9.662956583778026e-07, 'c2': 1.0581028316688394, 'p1': 3.501324651733502, 'd1': 1.8757870600385491}\n",
      "current iteration=513\n",
      "residual=2.200000627866099e-09\n",
      "params={'Multiplier': 0.00026891340424473054, 'Ip': 0.32927376026224303, 'αPol': 6.16, 'gamma': 4.553943864301441, 'e0': 1.1641801933552012, 'a0': 1.0002961456170845, 'a1': 2.0277399553571427, 'b0': -0.0965836810983656, 'b1': 1.0000649682835716, 'b2': 9.692678777373231e-07, 'c2': 1.0578711966417045, 'p1': 3.501327612981467, 'd1': 1.8747262884402862}\n",
      "current iteration=514\n",
      "residual=2.2009649741966498e-09\n",
      "params={'Multiplier': 0.0002691900193553254, 'Ip': 0.32927376026224303, 'αPol': 6.16, 'gamma': 4.553944125885532, 'e0': 1.1638070520581647, 'a0': 1.0002962252950565, 'a1': 2.0277399553571427, 'b0': -0.09665078178673606, 'b1': 1.0000649628139107, 'b2': 9.69152099905557e-07, 'c2': 1.0579067328982172, 'p1': 3.5013263641749193, 'd1': 1.874965223234434}\n",
      "current iteration=515\n",
      "residual=2.1999313617102176e-09\n",
      "params={'Multiplier': 0.0002691168285423595, 'Ip': 0.32927376026224303, 'αPol': 6.16, 'gamma': 4.55394417195305, 'e0': 1.1635426914196212, 'a0': 1.0002963464987094, 'a1': 2.0277399553571427, 'b0': -0.0966762080592844, 'b1': 1.0000649402498745, 'b2': 9.680722892202454e-07, 'c2': 1.0579543824070898, 'p1': 3.5013268474306063, 'd1': 1.8750786683223741}\n",
      "current iteration=516\n",
      "residual=2.20033541132051e-09\n",
      "params={'Multiplier': 0.00026923481352880696, 'Ip': 0.32927376026224303, 'αPol': 6.16, 'gamma': 4.5539444313012005, 'e0': 1.1631800455356949, 'a0': 1.0002964364687073, 'a1': 2.0277399553571427, 'b0': -0.09673631161362674, 'b1': 1.0000649282360916, 'b2': 9.678347632213757e-07, 'c2': 1.0579884295707018, 'p1': 3.5013258640467093, 'd1': 1.8752916231759134}\n",
      "current iteration=517\n",
      "residual=2.2003277279466255e-09\n",
      "params={'Multiplier': 0.0002687659403882714, 'Ip': 0.32927376026224303, 'αPol': 6.16, 'gamma': 4.553943771403676, 'e0': 1.1642814272498958, 'a0': 1.000296099416902, 'a1': 2.0277399553571427, 'b0': -0.0965649732024995, 'b1': 1.0000649754123094, 'b2': 9.694079183830695e-07, 'c2': 1.0578654055375136, 'p1': 3.501327791304035, 'd1': 1.874746202394343}\n",
      "current iteration=518\n",
      "residual=2.2001482266155883e-09\n",
      "params={'Multiplier': 0.0002689165277670602, 'Ip': 0.32927376026224303, 'αPol': 6.16, 'gamma': 4.553943771784879, 'e0': 1.164260342124372, 'a0': 1.0002961193160795, 'a1': 2.0277399553571427, 'b0': -0.09656989123238095, 'b1': 1.0000649743347418, 'b2': 9.692744638023498e-07, 'c2': 1.0578692450921119, 'p1': 3.5013278493703073, 'd1': 1.8747137700343663}\n",
      "current iteration=519\n",
      "residual=2.200609630367084e-09\n",
      "params={'Multiplier': 0.00026941568151850337, 'Ip': 0.32927376026224303, 'αPol': 6.16, 'gamma': 4.553944431758644, 'e0': 1.1631547468897456, 'a0': 1.0002964603477202, 'a1': 2.0277399553571427, 'b0': -0.0967422132494845, 'b1': 1.0000649269430104, 'b2': 9.676747489972826e-07, 'c2': 1.057993037244005, 'p1': 3.5013259337262364, 'd1': 1.87525270333377}\n",
      "current iteration=520\n",
      "residual=2.199903368151179e-09\n",
      "params={'Multiplier': 0.00026892830188629535, 'Ip': 0.32927376026224303, 'αPol': 6.16, 'gamma': 4.553943936492418, 'e0': 1.1639997422226305, 'a0': 1.0002961896496065, 'a1': 2.0277399553571427, 'b0': -0.09660928321424575, 'b1': 1.0000649632949847, 'b2': 9.689744806529177e-07, 'c2': 1.0578973129060376, 'p1': 3.501327326909586, 'd1': 1.8748728264777625}\n",
      "current iteration=521\n",
      "residual=2.2005097936510065e-09\n",
      "params={'Multiplier': 0.0002686513329633877, 'Ip': 0.32927376026224303, 'αPol': 6.16, 'gamma': 4.553943415592571, 'e0': 1.1648942623834424, 'a0': 1.0002959299098542, 'a1': 2.0277399553571427, 'b0': -0.096469174694594, 'b1': 1.0000649981265308, 'b2': 9.701579144483219e-07, 'c2': 1.0577965106571976, 'p1': 3.5013290487707844, 'd1': 1.8743859103725917}\n",
      "current iteration=522\n",
      "residual=2.1999029610379315e-09\n",
      "params={'Multiplier': 0.000269235262527423, 'Ip': 0.32927376026224303, 'αPol': 6.16, 'gamma': 4.553944338190788, 'e0': 1.1633122455794815, 'a0': 1.0002963998428942, 'a1': 2.0277399553571427, 'b0': -0.09671721142379795, 'b1': 1.000064935086499, 'b2': 9.679893422376296e-07, 'c2': 1.0579749999918286, 'p1': 3.5013261007185728, 'd1': 1.8752137055115599}\n",
      "current iteration=523\n",
      "residual=2.200522963414483e-09\n",
      "params={'Multiplier': 0.0002695609076867056, 'Ip': 0.32927376026224303, 'αPol': 6.16, 'gamma': 4.553944634671112, 'e0': 1.1627784391459048, 'a0': 1.00029661731001, 'a1': 2.0277399553571427, 'b0': -0.09679495277903269, 'b1': 1.0000649076884855, 'b2': 9.666917326622837e-07, 'c2': 1.058051814924356, 'p1': 3.501325707465948, 'd1': 1.8754640375921157}\n",
      "current iteration=524\n",
      "residual=2.199878540986508e-09\n",
      "params={'Multiplier': 0.0002688698705984871, 'Ip': 0.32927376026224303, 'αPol': 6.16, 'gamma': 4.553943842594743, 'e0': 1.1641715842951235, 'a0': 1.0002961224872926, 'a1': 2.0277399553571427, 'b0': -0.0965847097784166, 'b1': 1.000064971627434, 'b2': 9.693796740872784e-07, 'c2': 1.057871823759436, 'p1': 3.5013274765433966, 'd1': 1.8747749146758883}\n",
      "current iteration=525\n",
      "residual=2.200364889786686e-09\n",
      "params={'Multiplier': 0.0002689105467769126, 'Ip': 0.32927376026224303, 'αPol': 6.16, 'gamma': 4.553943997858294, 'e0': 1.1638736570932915, 'a0': 1.0002962172517493, 'a1': 2.0277399553571427, 'b0': -0.09663553204767467, 'b1': 1.0000649582054297, 'b2': 9.690209736845645e-07, 'c2': 1.0578991732483864, 'p1': 3.5013268863008093, 'd1': 1.8748509654361927}\n",
      "current iteration=526\n",
      "residual=2.199871814552377e-09\n",
      "params={'Multiplier': 0.0002691424336173087, 'Ip': 0.32927376026224303, 'αPol': 6.16, 'gamma': 4.553944114402731, 'e0': 1.163702794963541, 'a0': 1.0002962931267536, 'a1': 2.0277399553571427, 'b0': -0.09665325267770156, 'b1': 1.000064950019457, 'b2': 9.683936970095175e-07, 'c2': 1.057936562370696, 'p1': 3.5013269607687643, 'd1': 1.8750335271060075}\n",
      "current iteration=527\n",
      "residual=2.2002282192824716e-09\n",
      "params={'Multiplier': 0.0002692589657383726, 'Ip': 0.32927376026224303, 'αPol': 6.16, 'gamma': 4.553944447847863, 'e0': 1.1631476879897846, 'a0': 1.0002964511162264, 'a1': 2.0277399553571427, 'b0': -0.09674147265873502, 'b1': 1.0000649262984305, 'b2': 9.677552390563449e-07, 'c2': 1.0579924184168004, 'p1': 3.501325844801607, 'd1': 1.875295531860254}\n",
      "current iteration=528\n",
      "residual=2.199885988142216e-09\n",
      "params={'Multiplier': 0.00026900211676450514, 'Ip': 0.32927376026224303, 'αPol': 6.16, 'gamma': 4.553943940800625, 'e0': 1.1639821640227352, 'a0': 1.0002962022661162, 'a1': 2.0277399553571427, 'b0': -0.09661278658896946, 'b1': 1.0000649623256639, 'b2': 9.688945459274123e-07, 'c2': 1.0579000379035006, 'p1': 3.5013273482281333, 'd1': 1.8748592089717935}\n",
      "current iteration=529\n",
      "residual=2.2001321325802213e-09\n",
      "params={'Multiplier': 0.0002687466424146079, 'Ip': 0.32927376026224303, 'αPol': 6.16, 'gamma': 4.5539437518907935, 'e0': 1.1643684306810558, 'a0': 1.0002961002519979, 'a1': 2.0277399553571427, 'b0': -0.09655450132038479, 'b1': 1.0000649768893757, 'b2': 9.694510783031518e-07, 'c2': 1.0578570902843876, 'p1': 3.501327979814874, 'd1': 1.874654500853091}\n",
      "current iteration=530\n",
      "residual=2.199858637986955e-09\n",
      "params={'Multiplier': 0.00026920497562288315, 'Ip': 0.32927376026224303, 'αPol': 6.16, 'gamma': 4.553944222911494, 'e0': 1.1634896162009984, 'a0': 1.0002963442089565, 'a1': 2.0277399553571427, 'b0': -0.09668826276042436, 'b1': 1.0000649418529248, 'b2': 9.682111461462029e-07, 'c2': 1.0579546351626015, 'p1': 3.5013264849553862, 'd1': 1.8751177757977686}\n",
      "current iteration=531\n",
      "residual=2.2001985634468063e-09\n",
      "params={'Multiplier': 0.00026890160219561476, 'Ip': 0.32927376026224303, 'αPol': 6.16, 'gamma': 4.553943972660159, 'e0': 1.1639531371828356, 'a0': 1.0002962125433152, 'a1': 2.0277399553571427, 'b0': -0.09661840668339969, 'b1': 1.000064961112481, 'b2': 9.68929564582055e-07, 'c2': 1.057898925433176, 'p1': 3.5013272177458328, 'd1': 1.8748546067924297}\n",
      "current iteration=532\n",
      "residual=2.1998391673901343e-09\n",
      "params={'Multiplier': 0.00026912772460041534, 'Ip': 0.32927376026224303, 'αPol': 6.16, 'gamma': 4.553944120497119, 'e0': 1.1636819557178968, 'a0': 1.0002962919348393, 'a1': 2.0277399553571427, 'b0': -0.09665872485595879, 'b1': 1.0000649492291123, 'b2': 9.684582780167261e-07, 'c2': 1.0579348821713856, 'p1': 3.5013268330170892, 'd1': 1.875023431641849}\n",
      "current iteration=533\n",
      "residual=2.20002479306438e-09\n",
      "params={'Multiplier': 0.00026923419092927947, 'Ip': 0.32927376026224303, 'αPol': 6.16, 'gamma': 4.55394432937396, 'e0': 1.163264884733791, 'a0': 1.0002964145884623, 'a1': 2.0277399553571427, 'b0': -0.09672189858336455, 'b1': 1.000064934286007, 'b2': 9.678012253822033e-07, 'c2': 1.0579873348826827, 'p1': 3.5013261535456635, 'd1': 1.8752674570908376}\n",
      "current iteration=534\n",
      "residual=2.1998571172125877e-09\n",
      "params={'Multiplier': 0.0002689935829295331, 'Ip': 0.32927376026224303, 'αPol': 6.16, 'gamma': 4.553943980569571, 'e0': 1.163951356341343, 'a0': 1.0002962128599289, 'a1': 2.0277399553571427, 'b0': -0.09661823546961534, 'b1': 1.0000649597841804, 'b2': 9.68901110676157e-07, 'c2': 1.0579002307398424, 'p1': 3.5013272481225166, 'd1': 1.8748615792884626}\n",
      "current iteration=535\n",
      "residual=2.199778991996987e-09\n",
      "params={'Multiplier': 0.0002692247138128545, 'Ip': 0.32927376026224303, 'αPol': 6.16, 'gamma': 4.553944189521324, 'e0': 1.1635055243635994, 'a0': 1.0002963175483661, 'a1': 2.0277399553571427, 'b0': -0.09667987307603779, 'b1': 1.0000649430039903, 'b2': 9.682010511102845e-07, 'c2': 1.0579560177877585, 'p1': 3.501326626496074, 'd1': 1.8751693896874415}\n",
      "current iteration=536\n",
      "residual=2.1999161293672634e-09\n",
      "params={'Multiplier': 0.0002693697996757338, 'Ip': 0.32927376026224303, 'αPol': 6.16, 'gamma': 4.553944284170323, 'e0': 1.1632875435735075, 'a0': 1.0002963574770631, 'a1': 2.0277399553571427, 'b0': -0.0967075789058836, 'b1': 1.0000649347049753, 'b2': 9.678649748323664e-07, 'c2': 1.057982960865436, 'p1': 3.50132636072096, 'd1': 1.8753388075854693}\n",
      "current iteration=537\n",
      "residual=2.1999660711262116e-09\n",
      "params={'Multiplier': 0.0002689934475709199, 'Ip': 0.32927376026224303, 'αPol': 6.16, 'gamma': 4.553943891276062, 'e0': 1.1640669320864938, 'a0': 1.000296170763099, 'a1': 2.0277399553571427, 'b0': -0.09659671194738467, 'b1': 1.0000649637349015, 'b2': 9.68997319716891e-07, 'c2': 1.0578902928746885, 'p1': 3.501327554620203, 'd1': 1.8748369071813396}\n",
      "current iteration=538\n",
      "residual=2.1998348512810366e-09\n",
      "params={'Multiplier': 0.0002690390054645997, 'Ip': 0.32927376026224303, 'αPol': 6.16, 'gamma': 4.553943988534725, 'e0': 1.1639004458605413, 'a0': 1.0002962214027227, 'a1': 2.0277399553571427, 'b0': -0.09662328336891496, 'b1': 1.0000649576911569, 'b2': 9.687724027429567e-07, 'c2': 1.0579091905391775, 'p1': 3.501327239969608, 'd1': 1.8749187045628921}\n",
      "current iteration=539\n",
      "residual=2.1999810759844736e-09\n",
      "params={'Multiplier': 0.0002690367442085284, 'Ip': 0.32927376026224303, 'αPol': 6.16, 'gamma': 4.553943962950058, 'e0': 1.1639967924373429, 'a0': 1.000296172566786, 'a1': 2.0277399553571427, 'b0': -0.0966129165835321, 'b1': 1.000064966533206, 'b2': 9.69162922359601e-07, 'c2': 1.0578927562543354, 'p1': 3.5013270817152193, 'd1': 1.8748903438892364}\n",
      "current iteration=540\n",
      "residual=2.199821678198461e-09\n",
      "params={'Multiplier': 0.0002690968063380206, 'Ip': 0.32927376026224303, 'αPol': 6.16, 'gamma': 4.553944119702302, 'e0': 1.1636562142473514, 'a0': 1.0002963030157286, 'a1': 2.0277399553571427, 'b0': -0.09666038519034632, 'b1': 1.0000649468207075, 'b2': 9.683448898289981e-07, 'c2': 1.0579389757387934, 'p1': 3.5013269060017596, 'd1': 1.8750315870549148}\n",
      "current iteration=541\n",
      "residual=2.200110231206734e-09\n",
      "params={'Multiplier': 0.0002692590243092985, 'Ip': 0.32927376026224303, 'αPol': 6.16, 'gamma': 4.553944235052667, 'e0': 1.1634710389908425, 'a0': 1.0002963520891133, 'a1': 2.0277399553571427, 'b0': -0.09669006182379089, 'b1': 1.0000649401932404, 'b2': 9.681347550305475e-07, 'c2': 1.0579581583360587, 'p1': 3.501326518054674, 'd1': 1.875127938264887}\n",
      "current iteration=542\n",
      "residual=2.199800167493203e-09\n",
      "params={'Multiplier': 0.00026901096337550445, 'Ip': 0.32927376026224303, 'αPol': 6.16, 'gamma': 4.55394401113248, 'e0': 1.1638675631253332, 'a0': 1.0002962302594833, 'a1': 2.0277399553571427, 'b0': -0.09662947786663204, 'b1': 1.0000649575195486, 'b2': 9.68764515052456e-07, 'c2': 1.0579125241367073, 'p1': 3.501327124695858, 'd1': 1.874936604132444}\n",
      "current iteration=543\n",
      "residual=2.2000198075869307e-09\n",
      "params={'Multiplier': 0.00026890720642469557, 'Ip': 0.32927376026224303, 'αPol': 6.16, 'gamma': 4.553943767942635, 'e0': 1.1642696215481592, 'a0': 1.0002961079791433, 'a1': 2.0277399553571427, 'b0': -0.09656458690280546, 'b1': 1.0000649728883362, 'b2': 9.692750675416306e-07, 'c2': 1.0578679768748969, 'p1': 3.501327949041143, 'd1': 1.8747316411928043}\n",
      "current iteration=544\n",
      "residual=2.1998110936992346e-09\n",
      "params={'Multiplier': 0.0002691532296908994, 'Ip': 0.32927376026224303, 'αPol': 6.16, 'gamma': 4.55394419562875, 'e0': 1.163551578785007, 'a0': 1.0002963268769565, 'a1': 2.0277399553571427, 'b0': -0.09667905529354984, 'b1': 1.0000649445369583, 'b2': 9.68310693627572e-07, 'c2': 1.0579482438201995, 'p1': 3.501326562799216, 'd1': 1.8750931883889153}\n",
      "current iteration=545\n",
      "residual=2.199789458061117e-09\n",
      "params={'Multiplier': 0.0002691705378926601, 'Ip': 0.32927376026224303, 'αPol': 6.16, 'gamma': 4.553944216298423, 'e0': 1.163513564159703, 'a0': 1.0002963304780894, 'a1': 2.0277399553571427, 'b0': -0.09668226547855005, 'b1': 1.00006494209143, 'b2': 9.68252933164493e-07, 'c2': 1.057952579351476, 'p1': 3.5013265444458, 'd1': 1.8751329317496905}\n",
      "current iteration=546\n",
      "residual=2.2000098563841474e-09\n",
      "params={'Multiplier': 0.0002693630267381897, 'Ip': 0.32927376026224303, 'αPol': 6.16, 'gamma': 4.553944389245041, 'e0': 1.1631925651584742, 'a0': 1.0002964518550723, 'a1': 2.0277399553571427, 'b0': -0.0967298534291296, 'b1': 1.0000649268824593, 'b2': 9.675428738198377e-07, 'c2': 1.057996945899042, 'p1': 3.501326229711017, 'd1': 1.8752888319303245}\n",
      "current iteration=547\n",
      "residual=2.199798374692611e-09\n",
      "params={'Multiplier': 0.00026899311713102225, 'Ip': 0.32927376026224303, 'αPol': 6.16, 'gamma': 4.553943979257317, 'e0': 1.163926818231615, 'a0': 1.0002962048292376, 'a1': 2.0277399553571427, 'b0': -0.09662099569109485, 'b1': 1.0000649604411902, 'b2': 9.689203108731448e-07, 'c2': 1.0579031037579871, 'p1': 3.501327164835302, 'd1': 1.8749033928041365}\n",
      "current iteration=548\n",
      "residual=2.19986223620615e-09\n",
      "params={'Multiplier': 0.000269060487920858, 'Ip': 0.32927376026224303, 'αPol': 6.16, 'gamma': 4.5539440904079695, 'e0': 1.1637061283788035, 'a0': 1.0002962635561081, 'a1': 2.0277399553571427, 'b0': -0.09665485913252334, 'b1': 1.000064950574783, 'b2': 9.686337365533149e-07, 'c2': 1.057925514114709, 'p1': 3.501326786298958, 'd1': 1.8750041894184069}\n",
      "current iteration=549\n",
      "residual=2.1998067965046647e-09\n",
      "params={'Multiplier': 0.00026908097317146495, 'Ip': 0.32927376026224303, 'αPol': 6.16, 'gamma': 4.55394409640666, 'e0': 1.1637052950248568, 'a0': 1.0002962709487695, 'a1': 2.0277399553571427, 'b0': -0.09665445751881789, 'b1': 1.0000649504359513, 'b2': 9.68573723891808e-07, 'c2': 1.0579282761745241, 'p1': 3.5013268299164095, 'd1': 1.8750115238364438}\n",
      "current iteration=550\n",
      "residual=2.1997912599870994e-09\n",
      "params={'Multiplier': 0.00026897316954499484, 'Ip': 0.32927376026224303, 'αPol': 6.16, 'gamma': 4.55394395659824, 'e0': 1.1639624505599486, 'a0': 1.0002961978218678, 'a1': 2.0277399553571427, 'b0': -0.09661308800147925, 'b1': 1.0000649604579204, 'b2': 9.688888602532586e-07, 'c2': 1.0579021697881132, 'p1': 3.50132733110454, 'd1': 1.8748986909505136}\n",
      "current iteration=551\n",
      "residual=2.199756823876848e-09\n",
      "params={'Multiplier': 0.00026918046999935274, 'Ip': 0.32927376026224303, 'αPol': 6.16, 'gamma': 4.553944194145897, 'e0': 1.163502928493545, 'a0': 1.0002963261632831, 'a1': 2.0277399553571427, 'b0': -0.096682085798661, 'b1': 1.0000649426614128, 'b2': 9.681964507901597e-07, 'c2': 1.0579569620669518, 'p1': 3.501326584533815, 'd1': 1.875162310346341}\n",
      "current iteration=552\n",
      "residual=2.199790905554187e-09\n",
      "params={'Multiplier': 0.0002692739379522857, 'Ip': 0.32927376026224303, 'αPol': 6.16, 'gamma': 4.55394430093406, 'e0': 1.1632787240375473, 'a0': 1.0002963828149602, 'a1': 2.0277399553571427, 'b0': -0.09671401096318383, 'b1': 1.000064934100029, 'b2': 9.67844216992475e-07, 'c2': 1.0579853281715024, 'p1': 3.5013262527394633, 'd1': 1.8753126774986808}\n",
      "current iteration=553\n",
      "residual=2.1998108179601495e-09\n",
      "params={'Multiplier': 0.0002690568622026879, 'Ip': 0.32927376026224303, 'αPol': 6.16, 'gamma': 4.553944068948104, 'e0': 1.1637365168896556, 'a0': 1.0002962539340616, 'a1': 2.0277399553571427, 'b0': -0.096646268600858, 'b1': 1.000064951902941, 'b2': 9.685868505027173e-07, 'c2': 1.0579267263003966, 'p1': 3.5013269499425874, 'd1': 1.8750282325533822}\n",
      "current iteration=554\n",
      "residual=2.1999114894890054e-09\n",
      "params={'Multiplier': 0.00026914915630216196, 'Ip': 0.32927376026224303, 'αPol': 6.16, 'gamma': 4.553944216993175, 'e0': 1.1634852467530519, 'a0': 1.000296330972446, 'a1': 2.0277399553571427, 'b0': -0.09668630713429044, 'b1': 1.0000649422832533, 'b2': 9.68235653431293e-07, 'c2': 1.0579559252958899, 'p1': 3.501326484984664, 'd1': 1.8751548659582844}\n",
      "current iteration=555\n",
      "residual=2.199780157649424e-09\n",
      "params={'Multiplier': 0.0002690665410535198, 'Ip': 0.32927376026224303, 'αPol': 6.16, 'gamma': 4.553944045649337, 'e0': 1.163796644054889, 'a0': 1.0002962487951537, 'a1': 2.0277399553571427, 'b0': -0.09663903931025883, 'b1': 1.0000649538391808, 'b2': 9.686382014262307e-07, 'c2': 1.05792087415353, 'p1': 3.501327051223372, 'd1': 1.8749777446614355}\n",
      "current iteration=556\n",
      "residual=2.199723273551517e-09\n",
      "params={'Multiplier': 0.00026908529665570224, 'Ip': 0.32927376026224303, 'αPol': 6.16, 'gamma': 4.553944071015005, 'e0': 1.1637575591460907, 'a0': 1.0002962385153251, 'a1': 2.0277399553571427, 'b0': -0.09664493613684157, 'b1': 1.0000649545573974, 'b2': 9.687218105458584e-07, 'c2': 1.057922519602144, 'p1': 3.501326847996835, 'd1': 1.8750312143049306}\n",
      "current iteration=557\n",
      "residual=2.1996855450241104e-09\n",
      "params={'Multiplier': 0.0002690795419072467, 'Ip': 0.32927376026224303, 'αPol': 6.16, 'gamma': 4.553944046671356, 'e0': 1.1638082320789382, 'a0': 1.0002962062651235, 'a1': 2.0277399553571427, 'b0': -0.09663721161008917, 'b1': 1.0000649584257422, 'b2': 9.689102984378195e-07, 'c2': 1.0579142915709294, 'p1': 3.5013268189943734, 'd1': 1.8750310279299418}\n",
      "current iteration=558\n",
      "residual=2.199719351778235e-09\n",
      "params={'Multiplier': 0.00026901414549784786, 'Ip': 0.32927376026224303, 'αPol': 6.16, 'gamma': 4.553943965297078, 'e0': 1.1639135293127993, 'a0': 1.0002961905317305, 'a1': 2.0277399553571427, 'b0': -0.09661789729694595, 'b1': 1.0000649596189033, 'b2': 9.688759476933484e-07, 'c2': 1.0579064612111373, 'p1': 3.5013272424384105, 'd1': 1.8749571811206405}\n",
      "current iteration=559\n",
      "residual=2.1997950611415007e-09\n",
      "params={'Multiplier': 0.00026910196084328764, 'Ip': 0.32927376026224303, 'αPol': 6.16, 'gamma': 4.5539440712475185, 'e0': 1.1637639892335683, 'a0': 1.0002962507941593, 'a1': 2.0277399553571427, 'b0': -0.09664500972885536, 'b1': 1.000064953796113, 'b2': 9.686575661582708e-07, 'c2': 1.0579239255398798, 'p1': 3.5013269137942036, 'd1': 1.8750079264335016}\n",
      "current iteration=560\n",
      "residual=2.1997007119345767e-09\n",
      "params={'Multiplier': 0.0002690820463754351, 'Ip': 0.32927376026224303, 'αPol': 6.16, 'gamma': 4.553944038757135, 'e0': 1.1638069502680373, 'a0': 1.0002962297485294, 'a1': 2.0277399553571427, 'b0': -0.09663493125290297, 'b1': 1.0000649559351351, 'b2': 9.68687462243878e-07, 'c2': 1.0579215055426103, 'p1': 3.5013270505959406, 'd1': 1.875023915666473}\n",
      "current iteration=561\n",
      "residual=2.1997196628818113e-09\n",
      "params={'Multiplier': 0.00026916628503681483, 'Ip': 0.32927376026224303, 'αPol': 6.16, 'gamma': 4.553944129556245, 'e0': 1.1636325611329412, 'a0': 1.0002962703356248, 'a1': 2.0277399553571427, 'b0': -0.09666100158234303, 'b1': 1.000064948534655, 'b2': 9.684812698473877e-07, 'c2': 1.0579390539271853, 'p1': 3.5013267409965083, 'd1': 1.8751162980968457}\n",
      "current iteration=562\n",
      "residual=2.199703236018512e-09\n",
      "params={'Multiplier': 0.0002692187784861799, 'Ip': 0.32927376026224303, 'αPol': 6.16, 'gamma': 4.553944191491194, 'e0': 1.1635144585377257, 'a0': 1.000296308867148, 'a1': 2.0277399553571427, 'b0': -0.09667748493612986, 'b1': 1.0000649432317064, 'b2': 9.682377202224757e-07, 'c2': 1.0579556645449284, 'p1': 3.5013266160893055, 'd1': 1.8751920911502644}\n",
      "current iteration=563\n",
      "residual=2.1997027705209318e-09\n",
      "params={'Multiplier': 0.0002691332729111151, 'Ip': 0.32927376026224303, 'αPol': 6.16, 'gamma': 4.553944123549727, 'e0': 1.1636273762140505, 'a0': 1.000296274516824, 'a1': 2.0277399553571427, 'b0': -0.09665996593982425, 'b1': 1.000064947763902, 'b2': 9.684164385959093e-07, 'c2': 1.0579411903184244, 'p1': 3.5013268075894244, 'd1': 1.8751243895531995}\n",
      "current iteration=564\n",
      "residual=2.1997417630233783e-09\n",
      "params={'Multiplier': 0.0002692941367553603, 'Ip': 0.32927376026224303, 'αPol': 6.16, 'gamma': 4.5539442715893035, 'e0': 1.1633619117275784, 'a0': 1.0002963428281066, 'a1': 2.0277399553571427, 'b0': -0.09670126325486936, 'b1': 1.0000649385632912, 'b2': 9.680907415710038e-07, 'c2': 1.0579707506152705, 'p1': 3.501326285576064, 'd1': 1.8752787664655375}\n",
      "current iteration=565\n",
      "residual=2.199679101988713e-09\n",
      "params={'Multiplier': 0.00026912143703439195, 'Ip': 0.32927376026224303, 'αPol': 6.16, 'gamma': 4.553944022947296, 'e0': 1.1637804577320239, 'a0': 1.0002962126418886, 'a1': 2.0277399553571427, 'b0': -0.09663588533306242, 'b1': 1.000064956224154, 'b2': 9.686941679909467e-07, 'c2': 1.0579239749174885, 'p1': 3.501327020460857, 'd1': 1.8750736907694785}\n",
      "current iteration=566\n",
      "residual=2.1997077721843787e-09\n",
      "params={'Multiplier': 0.0002690968882904654, 'Ip': 0.32927376026224303, 'αPol': 6.16, 'gamma': 4.5539439262717325, 'e0': 1.1639139078713754, 'a0': 1.000296153723788, 'a1': 2.0277399553571427, 'b0': -0.09661269526031863, 'b1': 1.0000649632905159, 'b2': 9.68914823040734e-07, 'c2': 1.0579096728126176, 'p1': 3.5013272584683848, 'd1': 1.87504407034237}\n",
      "current iteration=567\n",
      "residual=2.199624086712608e-09\n",
      "params={'Multiplier': 0.0002692364265154401, 'Ip': 0.32927376026224303, 'αPol': 6.16, 'gamma': 4.553944189055974, 'e0': 1.1634941412665074, 'a0': 1.0002962870941714, 'a1': 2.0277399553571427, 'b0': -0.09667848070591431, 'b1': 1.0000649449533976, 'b2': 9.683200798971114e-07, 'c2': 1.0579563003117556, 'p1': 3.501326507530782, 'd1': 1.8752480679874872}\n",
      "current iteration=568\n",
      "residual=2.1995692651857926e-09\n",
      "params={'Multiplier': 0.00026932138941881956, 'Ip': 0.32927376026224303, 'αPol': 6.16, 'gamma': 4.553944260759293, 'e0': 1.1633428941811155, 'a0': 1.0002963062436803, 'a1': 2.0277399553571427, 'b0': -0.09669820140374202, 'b1': 1.0000649405105058, 'b2': 9.68161038672477e-07, 'c2': 1.0579740135628282, 'p1': 3.5013262356844868, 'd1': 1.8753832309620808}\n",
      "current iteration=569\n",
      "residual=2.1996264487126533e-09\n",
      "params={'Multiplier': 0.0002690975787545957, 'Ip': 0.32927376026224303, 'αPol': 6.16, 'gamma': 4.553944059431581, 'e0': 1.1637527330971476, 'a0': 1.0002962160800217, 'a1': 2.0277399553571427, 'b0': -0.09664131260567621, 'b1': 1.0000649552898913, 'b2': 9.687492523724472e-07, 'c2': 1.057924755773601, 'p1': 3.501326854095763, 'd1': 1.8750991900883265}\n",
      "current iteration=570\n",
      "residual=2.1996392914015703e-09\n",
      "params={'Multiplier': 0.0002691252376537667, 'Ip': 0.32927376026224303, 'αPol': 6.16, 'gamma': 4.553944027864144, 'e0': 1.1638052909256982, 'a0': 1.0002961854484522, 'a1': 2.0277399553571427, 'b0': -0.09663094524445603, 'b1': 1.0000649581581644, 'b2': 9.688644333483154e-07, 'c2': 1.0579173702945557, 'p1': 3.501326949970412, 'd1': 1.8750936453750429}\n",
      "current iteration=571\n",
      "residual=2.1996600141281702e-09\n",
      "params={'Multiplier': 0.0002689778403844878, 'Ip': 0.32927376026224303, 'αPol': 6.16, 'gamma': 4.553943901675707, 'e0': 1.1640349959120768, 'a0': 1.000296137307698, 'a1': 2.0277399553571427, 'b0': -0.09659770418616503, 'b1': 1.0000649661752607, 'b2': 9.691249687193704e-07, 'c2': 1.0578929061297924, 'p1': 3.5013273818070316, 'd1': 1.8749401664728995}\n",
      "current iteration=572\n",
      "residual=2.19959561063541e-09\n",
      "params={'Multiplier': 0.0002690679572300292, 'Ip': 0.32927376026224303, 'αPol': 6.16, 'gamma': 4.553943998132657, 'e0': 1.163844819494336, 'a0': 1.0002961831945945, 'a1': 2.0277399553571427, 'b0': -0.09662530637945577, 'b1': 1.000064959732018, 'b2': 9.688630500104267e-07, 'c2': 1.0579153727103705, 'p1': 3.501327054548693, 'd1': 1.8750674070512905}\n",
      "current iteration=573\n",
      "residual=2.199585132967787e-09\n",
      "params={'Multiplier': 0.00026923087808039536, 'Ip': 0.32927376026224303, 'αPol': 6.16, 'gamma': 4.55394416895894, 'e0': 1.1635501123298617, 'a0': 1.0002962615310615, 'a1': 2.0277399553571427, 'b0': -0.09666989248135482, 'b1': 1.0000649486703928, 'b2': 9.68465795780915e-07, 'c2': 1.0579497478571152, 'p1': 3.501326515528847, 'd1': 1.8752485702908674}\n",
      "current iteration=574\n",
      "residual=2.199577685032195e-09\n",
      "params={'Multiplier': 0.00026902865950606536, 'Ip': 0.32927376026224303, 'αPol': 6.16, 'gamma': 4.5539439382583735, 'e0': 1.1639563160258555, 'a0': 1.0002961337284266, 'a1': 2.0277399553571427, 'b0': -0.0966087863512159, 'b1': 1.000064966145327, 'b2': 9.691497315778008e-07, 'c2': 1.0578993613149557, 'p1': 3.5013271217658604, 'd1': 1.8750249553455984}\n",
      "current iteration=575\n",
      "residual=2.199598102943567e-09\n",
      "params={'Multiplier': 0.00026909322484025555, 'Ip': 0.32927376026224303, 'αPol': 6.16, 'gamma': 4.553943969141569, 'e0': 1.1639091823466137, 'a0': 1.0002961399210712, 'a1': 2.0277399553571427, 'b0': -0.09661606942979982, 'b1': 1.000064965289416, 'b2': 9.691176243720179e-07, 'c2': 1.0579054695519985, 'p1': 3.5013269931010287, 'd1': 1.8750727697712555}\n",
      "current iteration=576\n",
      "residual=2.199489305535668e-09\n",
      "params={'Multiplier': 0.0002691466883778526, 'Ip': 0.32927376026224303, 'αPol': 6.16, 'gamma': 4.553944040011048, 'e0': 1.1637500521005686, 'a0': 1.0002961667238743, 'a1': 2.0277399553571427, 'b0': -0.0966373317521005, 'b1': 1.0000649589890394, 'b2': 9.689325721762287e-07, 'c2': 1.0579219470025394, 'p1': 3.5013267385955302, 'd1': 1.8751830147746005}\n",
      "current iteration=577\n",
      "residual=2.1993853219812994e-09\n",
      "params={'Multiplier': 0.00026917901230005814, 'Ip': 0.32927376026224303, 'αPol': 6.16, 'gamma': 4.553944040638005, 'e0': 1.1637216031692224, 'a0': 1.0002961352115467, 'a1': 2.0277399553571427, 'b0': -0.09663853200169928, 'b1': 1.0000649605159915, 'b2': 9.69055138799746e-07, 'c2': 1.0579221677325306, 'p1': 3.501326582595325, 'd1': 1.8752625647830037}\n",
      "current iteration=578\n",
      "residual=2.1994456574069265e-09\n",
      "params={'Multiplier': 0.0002691690883455111, 'Ip': 0.32927376026224303, 'αPol': 6.16, 'gamma': 4.553944030890157, 'e0': 1.1637314445710416, 'a0': 1.0002961759965647, 'a1': 2.0277399553571427, 'b0': -0.09663531547323628, 'b1': 1.000064956916482, 'b2': 9.687386977041967e-07, 'c2': 1.0579307362334687, 'p1': 3.5013269229172876, 'd1': 1.8752222099458375}\n",
      "current iteration=579\n",
      "residual=2.1994511360543435e-09\n",
      "params={'Multiplier': 0.00026913671952277785, 'Ip': 0.32927376026224303, 'αPol': 6.16, 'gamma': 4.553944056202789, 'e0': 1.1637494161168962, 'a0': 1.000296162290735, 'a1': 2.0277399553571427, 'b0': -0.09663652777829784, 'b1': 1.000064959256536, 'b2': 9.689637401333329e-07, 'c2': 1.057922405123399, 'p1': 3.5013267019420904, 'd1': 1.8752092507043194}\n",
      "current iteration=580\n",
      "residual=2.19947088298193e-09\n",
      "params={'Multiplier': 0.00026931214869485576, 'Ip': 0.32927376026224303, 'αPol': 6.16, 'gamma': 4.553944208379795, 'e0': 1.1634377741553679, 'a0': 1.000296242621533, 'a1': 2.0277399553571427, 'b0': -0.09668247364362176, 'b1': 1.0000649479216843, 'b2': 9.685007382742583e-07, 'c2': 1.0579593741498854, 'p1': 3.5013262046229263, 'd1': 1.875396594326748}\n",
      "current iteration=581\n",
      "residual=2.1994502252506684e-09\n",
      "params={'Multiplier': 0.0002692020798221728, 'Ip': 0.32927376026224303, 'αPol': 6.16, 'gamma': 4.5539441182944875, 'e0': 1.1635939651057963, 'a0': 1.0002962059153948, 'a1': 2.0277399553571427, 'b0': -0.09665953826516391, 'b1': 1.0000649538914843, 'b2': 9.686884843151944e-07, 'c2': 1.057943310382939, 'p1': 3.50132648739005, 'd1': 1.875303703071499}\n",
      "current iteration=582\n",
      "residual=2.19939545828533e-09\n",
      "params={'Multiplier': 0.00026925064784266706, 'Ip': 0.32927376026224303, 'αPol': 6.16, 'gamma': 4.553944098499632, 'e0': 1.163614768458784, 'a0': 1.0002961732509, 'a1': 2.0277399553571427, 'b0': -0.09665281603584128, 'b1': 1.0000649564800763, 'b2': 9.68791507682809e-07, 'c2': 1.0579396357807669, 'p1': 3.501326509923556, 'd1': 1.8753390611299312}\n",
      "current iteration=583\n",
      "residual=2.1994690145553655e-09\n",
      "params={'Multiplier': 0.00026928649343294087, 'Ip': 0.32927376026224303, 'αPol': 6.16, 'gamma': 4.553944214661256, 'e0': 1.1633994446765037, 'a0': 1.0002962560758162, 'a1': 2.0277399553571427, 'b0': -0.09668540853292594, 'b1': 1.0000649447186836, 'b2': 9.68357993125224e-07, 'c2': 1.0579657555882553, 'p1': 3.5013262742827953, 'd1': 1.8754187405300433}\n",
      "current iteration=584\n",
      "residual=2.1993699584932527e-09\n",
      "params={'Multiplier': 0.00026935549131590353, 'Ip': 0.32927376026224303, 'αPol': 6.16, 'gamma': 4.5539442289758885, 'e0': 1.1633747312354066, 'a0': 1.0002962273785374, 'a1': 2.0277399553571427, 'b0': -0.09668819201396406, 'b1': 1.0000649472734147, 'b2': 9.68511492338564e-07, 'c2': 1.0579659288979768, 'p1': 3.5013260567819517, 'd1': 1.8754943707628078}\n",
      "current iteration=585\n",
      "residual=2.1993399902762226e-09\n",
      "params={'Multiplier': 0.00026949931613218236, 'Ip': 0.32927376026224303, 'αPol': 6.16, 'gamma': 4.553944344397505, 'e0': 1.1631396975126949, 'a0': 1.0002962494705088, 'a1': 2.0277399553571427, 'b0': -0.0967196348312182, 'b1': 1.000064941044113, 'b2': 9.683357373724277e-07, 'c2': 1.057991207341976, 'p1': 3.5013255578985802, 'd1': 1.8757078558897056}\n",
      "current iteration=586\n",
      "residual=2.1992811993688718e-09\n",
      "params={'Multiplier': 0.0002692462056740341, 'Ip': 0.32927376026224303, 'αPol': 6.16, 'gamma': 4.553944093237319, 'e0': 1.1635873460246957, 'a0': 1.0002961466299598, 'a1': 2.0277399553571427, 'b0': -0.09665355438203768, 'b1': 1.0000649568097841, 'b2': 9.688827375953224e-07, 'c2': 1.0579398453395963, 'p1': 3.501326404275745, 'd1': 1.8754050619885478}\n",
      "current iteration=587\n",
      "residual=2.1991639096613112e-09\n",
      "params={'Multiplier': 0.00026925386963483344, 'Ip': 0.32927376026224303, 'αPol': 6.16, 'gamma': 4.553944055376509, 'e0': 1.163605962937389, 'a0': 1.0002960891794088, 'a1': 2.0277399553571427, 'b0': -0.0966453853323791, 'b1': 1.0000649608794798, 'b2': 9.690912421422837e-07, 'c2': 1.0579348940942737, 'p1': 3.5013263486491946, 'd1': 1.8754833082768467}\n",
      "current iteration=588\n",
      "residual=2.199311454753888e-09\n",
      "params={'Multiplier': 0.00026949357595362766, 'Ip': 0.32927376026224303, 'αPol': 6.16, 'gamma': 4.553944347361512, 'e0': 1.1631110961166655, 'a0': 1.000296265522791, 'a1': 2.0277399553571427, 'b0': -0.09672198030840921, 'b1': 1.0000649382816804, 'b2': 9.68187203520543e-07, 'c2': 1.0579973393820237, 'p1': 3.501325643415397, 'd1': 1.8757203534316456}\n",
      "current iteration=589\n",
      "residual=2.199155670128557e-09\n",
      "params={'Multiplier': 0.0002692351772953794, 'Ip': 0.32927376026224303, 'αPol': 6.16, 'gamma': 4.553944042181037, 'e0': 1.1636781377316998, 'a0': 1.0002960848633593, 'a1': 2.0277399553571427, 'b0': -0.09663732103681652, 'b1': 1.0000649634707364, 'b2': 9.691811455603272e-07, 'c2': 1.0579273515583545, 'p1': 3.501326411042954, 'd1': 1.8754294960260456}\n",
      "current iteration=590\n",
      "residual=2.1989824781586985e-09\n",
      "params={'Multiplier': 0.0002691920764262834, 'Ip': 0.32927376026224303, 'αPol': 6.16, 'gamma': 4.553943932891909, 'e0': 1.1638457647985825, 'a0': 1.0002959741731987, 'a1': 2.0277399553571427, 'b0': -0.09660688085335378, 'b1': 1.0000649749508517, 'b2': 9.696914007317758e-07, 'c2': 1.0579040208544748, 'p1': 3.5013264987221877, 'd1': 1.8754526285964368}\n",
      "current iteration=591\n",
      "residual=2.1991972003749977e-09\n",
      "params={'Multiplier': 0.0002692204031221612, 'Ip': 0.32927376026224303, 'αPol': 6.16, 'gamma': 4.553944039462958, 'e0': 1.163664852840883, 'a0': 1.00029609479584, 'a1': 2.0277399553571427, 'b0': -0.0966379302388832, 'b1': 1.0000649614653916, 'b2': 9.690794424699334e-07, 'c2': 1.0579309201216782, 'p1': 3.5013265009243666, 'd1': 1.8754273394927368}\n",
      "current iteration=592\n",
      "residual=2.1991483172895886e-09\n",
      "params={'Multiplier': 0.0002692328375079045, 'Ip': 0.32927376026224303, 'αPol': 6.16, 'gamma': 4.553943998141836, 'e0': 1.1637562665468, 'a0': 1.0002960490855615, 'a1': 2.0277399553571427, 'b0': -0.09662549969077049, 'b1': 1.0000649680177338, 'b2': 9.693665734555879e-07, 'c2': 1.0579175717406757, 'p1': 3.5013264765928116, 'd1': 1.875406913071469}\n",
      "current iteration=593\n",
      "residual=2.199080750686551e-09\n",
      "params={'Multiplier': 0.0002694018692740441, 'Ip': 0.32927376026224303, 'αPol': 6.16, 'gamma': 4.5539441449881135, 'e0': 1.1634076648318716, 'a0': 1.0002961202296081, 'a1': 2.0277399553571427, 'b0': -0.09667217482789314, 'b1': 1.0000649552321208, 'b2': 9.688412521136058e-07, 'c2': 1.0579599554381367, 'p1': 3.501326003863661, 'd1': 1.8756559379726352}\n",
      "current iteration=594\n",
      "residual=2.1990329700710132e-09\n",
      "params={'Multiplier': 0.00026937644659053017, 'Ip': 0.32927376026224303, 'αPol': 6.16, 'gamma': 4.5539440882351405, 'e0': 1.1635258519475689, 'a0': 1.000296059467791, 'a1': 2.0277399553571427, 'b0': -0.0966516916535729, 'b1': 1.0000649608652998, 'b2': 9.691470892470022e-07, 'c2': 1.0579423790492077, 'p1': 3.501326121710424, 'd1': 1.8756319313877383}\n",
      "current iteration=595\n",
      "residual=2.1989132634019828e-09\n",
      "params={'Multiplier': 0.0002694509346253815, 'Ip': 0.32927376026224303, 'αPol': 6.16, 'gamma': 4.553944187108468, 'e0': 1.163347258853372, 'a0': 1.0002960660808662, 'a1': 2.0277399553571427, 'b0': -0.09667918968156786, 'b1': 1.0000649586300658, 'b2': 9.691785514132079e-07, 'c2': 1.057957281831962, 'p1': 3.5013255259418123, 'd1': 1.8757953716826505}\n",
      "current iteration=596\n",
      "residual=2.1986932613373666e-09\n",
      "params={'Multiplier': 0.0002695919132550406, 'Ip': 0.32927376026224303, 'αPol': 6.16, 'gamma': 4.553944265217623, 'e0': 1.1631551729459284, 'a0': 1.000296011123017, 'a1': 2.0277399553571427, 'b0': -0.09670112678573362, 'b1': 1.0000649594868578, 'b2': 9.69398515904274e-07, 'c2': 1.0579705547277598, 'p1': 3.501324827454073, 'd1': 1.876081958444059}\n",
      "current iteration=597\n",
      "residual=2.1988445383623534e-09\n",
      "params={'Multiplier': 0.0002694375955182293, 'Ip': 0.32927376026224303, 'αPol': 6.16, 'gamma': 4.55394415284259, 'e0': 1.1633720115626942, 'a0': 1.0002960364009543, 'a1': 2.0277399553571427, 'b0': -0.0966713512689413, 'b1': 1.0000649596678277, 'b2': 9.692471385491785e-07, 'c2': 1.0579545660084992, 'p1': 3.5013256024416486, 'd1': 1.8758270977110385}\n",
      "current iteration=598\n",
      "residual=2.198741720951608e-09\n",
      "params={'Multiplier': 0.0002695610040649443, 'Ip': 0.32927376026224303, 'αPol': 6.16, 'gamma': 4.553944233145133, 'e0': 1.1631952660009839, 'a0': 1.0002960546781892, 'a1': 2.0277399553571427, 'b0': -0.09669219915653171, 'b1': 1.0000649554622798, 'b2': 9.69021878294285e-07, 'c2': 1.0579785140060929, 'p1': 3.501325333739144, 'd1': 1.8760165049521138}\n",
      "current iteration=599\n",
      "residual=2.1987736993869986e-09\n",
      "params={'Multiplier': 0.0002692529945224065, 'Ip': 0.32927376026224303, 'αPol': 6.16, 'gamma': 4.55394390713516, 'e0': 1.1637882902749324, 'a0': 1.0002959014607629, 'a1': 2.0277399553571427, 'b0': -0.0966056091920755, 'b1': 1.0000649778177917, 'b2': 9.698788425716032e-07, 'c2': 1.0579069361207682, 'p1': 3.5013263136040016, 'd1': 1.8756329363151178}\n",
      "current iteration=600\n",
      "residual=2.198664004017278e-09\n",
      "params={'Multiplier': 0.0002692106282641271, 'Ip': 0.32927376026224303, 'αPol': 6.16, 'gamma': 4.553943816125882, 'e0': 1.1639523403310186, 'a0': 1.000295812596075, 'a1': 2.0277399553571427, 'b0': -0.09657998949161774, 'b1': 1.0000649884874464, 'b2': 9.703660370785627e-07, 'c2': 1.0578827240299133, 'p1': 3.5013263621249058, 'd1': 1.8756029554564537}\n",
      "current iteration=601\n",
      "residual=2.1985252031843794e-09\n",
      "params={'Multiplier': 0.00026906921033520437, 'Ip': 0.32927376026224303, 'αPol': 6.16, 'gamma': 4.553943550508067, 'e0': 1.1643729957496007, 'a0': 1.0002955861327165, 'a1': 2.0277399553571427, 'b0': -0.09650899408322203, 'b1': 1.0000650135903295, 'b2': 9.71456372012014e-07, 'c2': 1.057825418154279, 'p1': 3.5013267214796597, 'd1': 1.8755442567161058}\n",
      "current iteration=602\n",
      "residual=2.1985249216282636e-09\n",
      "params={'Multiplier': 0.00026945353931562277, 'Ip': 0.32927376026224303, 'αPol': 6.16, 'gamma': 4.5539440262334585, 'e0': 1.1635401824293181, 'a0': 1.0002958815904017, 'a1': 2.0277399553571427, 'b0': -0.09663825233001153, 'b1': 1.000064975728723, 'b2': 9.699484555536486e-07, 'c2': 1.0579280412610892, 'p1': 3.5013255487269945, 'd1': 1.8759193557735259}\n",
      "current iteration=603\n",
      "residual=2.1982560822388993e-09\n",
      "params={'Multiplier': 0.0002695701453755417, 'Ip': 0.32927376026224303, 'αPol': 6.16, 'gamma': 4.553944019618709, 'e0': 1.163477847955381, 'a0': 1.0002957749876824, 'a1': 2.0277399553571427, 'b0': -0.09663841337557572, 'b1': 1.0000649828603887, 'b2': 9.70383108089834e-07, 'c2': 1.0579266018319307, 'p1': 3.501325072628308, 'd1': 1.8761653682557413}\n",
      "current iteration=604\n",
      "residual=2.198392779479335e-09\n",
      "params={'Multiplier': 0.00026948332017917576, 'Ip': 0.32927376026224303, 'αPol': 6.16, 'gamma': 4.553944003168347, 'e0': 1.163573448707326, 'a0': 1.0002958243684876, 'a1': 2.0277399553571427, 'b0': -0.09662940284515495, 'b1': 1.0000649807108164, 'b2': 9.701950676177518e-07, 'c2': 1.0579224088505286, 'p1': 3.50132544579799, 'd1': 1.8759997985175998}\n",
      "current iteration=605\n",
      "residual=2.198258365779008e-09\n",
      "params={'Multiplier': 0.0002695544746392775, 'Ip': 0.32927376026224303, 'αPol': 6.16, 'gamma': 4.553944061408322, 'e0': 1.1633865861737132, 'a0': 1.0002958195189202, 'a1': 2.0277399553571427, 'b0': -0.09665006911764044, 'b1': 1.000064976111179, 'b2': 9.700853362826223e-07, 'c2': 1.0579406986638658, 'p1': 3.5013251116954076, 'd1': 1.8761947754293309}\n",
      "current iteration=606\n",
      "residual=2.198138658047386e-09\n",
      "params={'Multiplier': 0.0002694159115069761, 'Ip': 0.32927376026224303, 'αPol': 6.16, 'gamma': 4.553943897846087, 'e0': 1.1637309710565162, 'a0': 1.0002956882327356, 'a1': 2.0277399553571427, 'b0': -0.09659897283846725, 'b1': 1.0000649930726035, 'b2': 9.708599750801739e-07, 'c2': 1.0578944639857104, 'p1': 3.501325405990908, 'd1': 1.87605351198438}\n",
      "current iteration=607\n",
      "residual=2.1977441706131415e-09\n",
      "params={'Multiplier': 0.0002694229327609987, 'Ip': 0.32927376026224303, 'αPol': 6.16, 'gamma': 4.553943774275074, 'e0': 1.1638926290898466, 'a0': 1.000295472234299, 'a1': 2.0277399553571427, 'b0': -0.09656237184375427, 'b1': 1.000065011992845, 'b2': 9.718701243777161e-07, 'c2': 1.05786171884733, 'p1': 3.5013251070545315, 'd1': 1.8762523018247341}\n",
      "current iteration=608\n",
      "residual=2.1980522691886548e-09\n",
      "params={'Multiplier': 0.00026945063409444803, 'Ip': 0.32927376026224303, 'αPol': 6.16, 'gamma': 4.553943891807046, 'e0': 1.1636861357748738, 'a0': 1.0002956315478546, 'a1': 2.0277399553571427, 'b0': -0.09660159205082378, 'b1': 1.0000649976649336, 'b2': 9.710985640065672e-07, 'c2': 1.05789590801515, 'p1': 3.5013250852129665, 'd1': 1.876201594312191}\n",
      "current iteration=609\n",
      "residual=2.1977876458043408e-09\n",
      "params={'Multiplier': 0.0002696868372965566, 'Ip': 0.32927376026224303, 'αPol': 6.16, 'gamma': 4.553944038933305, 'e0': 1.1633343051970026, 'a0': 1.000295648317378, 'a1': 2.0277399553571427, 'b0': -0.09664534509053688, 'b1': 1.0000649881221981, 'b2': 9.70835333902187e-07, 'c2': 1.0579326435084337, 'p1': 3.501324425499357, 'd1': 1.8765307011717565}\n",
      "current iteration=610\n",
      "residual=2.1976706442764107e-09\n",
      "params={'Multiplier': 0.00026949104371143395, 'Ip': 0.32927376026224303, 'αPol': 6.16, 'gamma': 4.553943796200768, 'e0': 1.1638005144896044, 'a0': 1.0002955084729068, 'a1': 2.0277399553571427, 'b0': -0.09657567343926848, 'b1': 1.000065009096096, 'b2': 9.715978275259829e-07, 'c2': 1.057877714361403, 'p1': 3.50132508639144, 'd1': 1.8762969404709366}\n",
      "current iteration=611\n",
      "residual=2.1971119644177824e-09\n",
      "params={'Multiplier': 0.00026951776980255193, 'Ip': 0.32927376026224303, 'αPol': 6.16, 'gamma': 4.553943617879856, 'e0': 1.1640147745967728, 'a0': 1.0002952445088822, 'a1': 2.0277399553571427, 'b0': -0.09652783452443209, 'b1': 1.0000650338102302, 'b2': 9.727742398268902e-07, 'c2': 1.0578392893473758, 'p1': 3.5013248283663354, 'd1': 1.8765318658084618}\n",
      "current iteration=612\n",
      "residual=2.1974627142211778e-09\n",
      "params={'Multiplier': 0.0002697287128433645, 'Ip': 0.32927376026224303, 'αPol': 6.16, 'gamma': 4.5539439840571365, 'e0': 1.1634295291899552, 'a0': 1.0002955120227224, 'a1': 2.0277399553571427, 'b0': -0.09662586058260558, 'b1': 1.0000650021446198, 'b2': 9.715446220859292e-07, 'c2': 1.057911814160969, 'p1': 3.501324078181551, 'd1': 1.876670898215425}\n",
      "current iteration=613\n",
      "residual=2.1972691441115654e-09\n",
      "params={'Multiplier': 0.00026945413596124457, 'Ip': 0.32927376026224303, 'αPol': 6.16, 'gamma': 4.553943608229564, 'e0': 1.164069427860246, 'a0': 1.0002952502742017, 'a1': 2.0277399553571427, 'b0': -0.09652600290336413, 'b1': 1.0000650338365997, 'b2': 9.729078664921786e-07, 'c2': 1.057826898595522, 'p1': 3.5013248069348926, 'd1': 1.8764181962872346}\n",
      "current iteration=614\n",
      "residual=2.197108759979142e-09\n",
      "params={'Multiplier': 0.0002693956850629009, 'Ip': 0.32927376026224303, 'αPol': 6.16, 'gamma': 4.5539434447594624, 'e0': 1.1642923900099857, 'a0': 1.0002951416596109, 'a1': 2.0277399553571427, 'b0': -0.09648205049768838, 'b1': 1.0000650446819703, 'b2': 9.732330421563518e-07, 'c2': 1.0578061270511905, 'p1': 3.5013253091161274, 'd1': 1.8764199897499134}\n",
      "current iteration=615\n",
      "residual=2.1965715029086165e-09\n",
      "params={'Multiplier': 0.0002692975978458856, 'Ip': 0.32927376026224303, 'αPol': 6.16, 'gamma': 4.553943034530382, 'e0': 1.1648610593890698, 'a0': 1.0002947069279056, 'a1': 2.0277399553571427, 'b0': -0.09637251235366573, 'b1': 1.0000650872795265, 'b2': 9.751531437895977e-07, 'c2': 1.0577239169197903, 'p1': 3.5013255499471545, 'd1': 1.8765890074510039}\n",
      "current iteration=616\n",
      "residual=2.197013973492537e-09\n",
      "params={'Multiplier': 0.00026996444789439966, 'Ip': 0.32927376026224303, 'αPol': 6.16, 'gamma': 4.553944056273481, 'e0': 1.1631721739597523, 'a0': 1.000295390808951, 'a1': 2.0277399553571427, 'b0': -0.09664688685428868, 'b1': 1.000065005316338, 'b2': 9.71911989111618e-07, 'c2': 1.0579309611190664, 'p1': 3.501323180784033, 'd1': 1.8771666740776962}\n",
      "current iteration=617\n",
      "residual=2.1966931863145904e-09\n",
      "params={'Multiplier': 0.0002696461702084152, 'Ip': 0.32927376026224303, 'αPol': 6.16, 'gamma': 4.553943614234228, 'e0': 1.1638914201497537, 'a0': 1.0002950658612715, 'a1': 2.0277399553571427, 'b0': -0.0965299748941825, 'b1': 1.000065043116955, 'b2': 9.7351819827729e-07, 'c2': 1.0578356805158888, 'p1': 3.5013240034629174, 'd1': 1.87694448470746}\n",
      "current iteration=618\n",
      "residual=2.1964046661883653e-09\n",
      "params={'Multiplier': 0.00026959334216891673, 'Ip': 0.32927376026224303, 'αPol': 6.16, 'gamma': 4.553943466559435, 'e0': 1.1641792675272415, 'a0': 1.0002949199793087, 'a1': 2.0277399553571427, 'b0': -0.09648528977700545, 'b1': 1.000065061117748, 'b2': 9.743154623098604e-07, 'c2': 1.0577963883993127, 'p1': 3.501324115919002, 'd1': 1.8768994444910918}\n",
      "current iteration=619\n",
      "residual=2.195577021510251e-09\n",
      "params={'Multiplier': 0.0002696127769880041, 'Ip': 0.32927376026224303, 'αPol': 6.16, 'gamma': 4.553943169134991, 'e0': 1.164575637768956, 'a0': 1.0002944702095007, 'a1': 2.0277399553571427, 'b0': -0.09640290010668798, 'b1': 1.0000651036210324, 'b2': 9.764339763407293e-07, 'c2': 1.0577242361225845, 'p1': 3.5013236180307983, 'd1': 1.8772517879184747}\n",
      "current iteration=620\n",
      "residual=2.1961913848660128e-09\n",
      "params={'Multiplier': 0.00026958619692740715, 'Ip': 0.32927376026224303, 'αPol': 6.16, 'gamma': 4.553943338252304, 'e0': 1.1643075603865567, 'a0': 1.0002947035549097, 'a1': 2.0277399553571427, 'b0': -0.0964498428652926, 'b1': 1.000065078520667, 'b2': 9.752280170083338e-07, 'c2': 1.0577700119387687, 'p1': 3.5013238640666, 'd1': 1.877146140043589}\n",
      "current iteration=621\n",
      "residual=2.1957229928461116e-09\n",
      "params={'Multiplier': 0.00026973286106735106, 'Ip': 0.32927376026224303, 'αPol': 6.16, 'gamma': 4.553943355353018, 'e0': 1.164223543811619, 'a0': 1.0002946613961492, 'a1': 2.0277399553571427, 'b0': -0.0964563143529383, 'b1': 1.0000650798872688, 'b2': 9.753376792875912e-07, 'c2': 1.0577755255404062, 'p1': 3.5013236072526674, 'd1': 1.8772988262859154}\n",
      "current iteration=622\n",
      "residual=2.1957357496332178e-09\n",
      "params={'Multiplier': 0.0002695058388221261, 'Ip': 0.32927376026224303, 'αPol': 6.16, 'gamma': 4.5539430715107025, 'e0': 1.164753281127902, 'a0': 1.000294447242379, 'a1': 2.0277399553571427, 'b0': -0.09637475516570546, 'b1': 1.0000651077830185, 'b2': 9.765033601727424e-07, 'c2': 1.0577073700692357, 'p1': 3.50132410331694, 'd1': 1.877123333338151}\n",
      "current iteration=623\n",
      "residual=2.1951745732985877e-09\n",
      "params={'Multiplier': 0.0002697863749759888, 'Ip': 0.32927376026224303, 'αPol': 6.16, 'gamma': 4.55394319561606, 'e0': 1.1643670264474175, 'a0': 1.0002944183270748, 'a1': 2.0277399553571427, 'b0': -0.09642020507687832, 'b1': 1.0000651030704064, 'b2': 9.763935817641567e-07, 'c2': 1.057747421216643, 'p1': 3.5013232210142453, 'd1': 1.8775759572379287}\n",
      "current iteration=624\n",
      "residual=2.193983848898963e-09\n",
      "params={'Multiplier': 0.00026996818825242297, 'Ip': 0.32927376026224303, 'αPol': 6.16, 'gamma': 4.553942906286553, 'e0': 1.1646042357109767, 'a0': 1.0002938913734596, 'a1': 2.0277399553571427, 'b0': -0.09634912169344034, 'b1': 1.0000651486091872, 'b2': 9.786592489735568e-07, 'c2': 1.0576902741931913, 'p1': 3.5013222779940993, 'd1': 1.878237816315206}\n",
      "current iteration=625\n",
      "residual=2.195100209821948e-09\n",
      "params={'Multiplier': 0.00026952842654093256, 'Ip': 0.32927376026224303, 'αPol': 6.16, 'gamma': 4.55394277027988, 'e0': 1.1650651495411788, 'a0': 1.000294054408797, 'a1': 2.0277399553571427, 'b0': -0.09630136856019397, 'b1': 1.0000651422115447, 'b2': 9.781445220458096e-07, 'c2': 1.0576530229609826, 'p1': 3.501323889849738, 'd1': 1.8774707242718773}\n",
      "current iteration=626\n",
      "residual=2.194455406254112e-09\n",
      "params={'Multiplier': 0.00026981790832969477, 'Ip': 0.32927376026224303, 'αPol': 6.16, 'gamma': 4.553942978517515, 'e0': 1.1646243142301658, 'a0': 1.0002940769842383, 'a1': 2.0277399553571427, 'b0': -0.0963562993708014, 'b1': 1.000065132194554, 'b2': 9.778258973636156e-07, 'c2': 1.057703158246408, 'p1': 3.5013229776793637, 'd1': 1.877933953387842}\n",
      "current iteration=627\n",
      "residual=2.1941395906269476e-09\n",
      "params={'Multiplier': 0.00026981427965366844, 'Ip': 0.32927376026224303, 'αPol': 6.16, 'gamma': 4.553942840994755, 'e0': 1.164800886023376, 'a0': 1.000293849244628, 'a1': 2.0277399553571427, 'b0': -0.09632016071900729, 'b1': 1.000065151897788, 'b2': 9.789718411479242e-07, 'c2': 1.057663542828309, 'p1': 3.501322586110526, 'd1': 1.8781007035113206}\n",
      "current iteration=628\n",
      "residual=2.1948552459697537e-09\n",
      "params={'Multiplier': 0.00026933772259984945, 'Ip': 0.32927376026224303, 'αPol': 6.16, 'gamma': 4.553942159545386, 'e0': 1.1659694754754053, 'a0': 1.0002933946316905, 'a1': 2.0277399553571427, 'b0': -0.09613576316209443, 'b1': 1.0000652097079705, 'b2': 9.812528785069219e-07, 'c2': 1.0575184012999383, 'p1': 3.501324114758129, 'd1': 1.8776526721549591}\n",
      "current iteration=629\n",
      "residual=2.193979242934968e-09\n",
      "params={'Multiplier': 0.0002695941128473267, 'Ip': 0.32927376026224303, 'αPol': 6.16, 'gamma': 4.55394231064687, 'e0': 1.1656656804389258, 'a0': 1.0002933853334561, 'a1': 2.0277399553571427, 'b0': -0.09617383277578298, 'b1': 1.0000652052255563, 'b2': 9.811896330980119e-07, 'c2': 1.057550217208385, 'p1': 3.5013233143382876, 'd1': 1.8780165109020408}\n",
      "current iteration=630\n",
      "residual=2.1932302054454515e-09\n",
      "params={'Multiplier': 0.0002695680860574923, 'Ip': 0.32927376026224303, 'αPol': 6.16, 'gamma': 4.5539416588531925, 'e0': 1.1665529583956387, 'a0': 1.0002925450695408, 'a1': 2.0277399553571427, 'b0': -0.09599576171658325, 'b1': 1.0000652862798567, 'b2': 9.850366406993771e-07, 'c2': 1.057407496742681, 'p1': 3.5013229697759725, 'd1': 1.8785525445650015}\n",
      "current iteration=631\n",
      "residual=2.19289296011743e-09\n",
      "params={'Multiplier': 0.0002699970293503773, 'Ip': 0.32927376026224303, 'αPol': 6.16, 'gamma': 4.553942615215276, 'e0': 1.1650342875734605, 'a0': 1.0002933118951522, 'a1': 2.0277399553571427, 'b0': -0.09625594518888328, 'b1': 1.000065200863051, 'b2': 9.815267854040854e-07, 'c2': 1.057598688167062, 'p1': 3.501321251819804, 'd1': 1.878764738499982}\n",
      "current iteration=632\n",
      "residual=2.1910719304111796e-09\n",
      "params={'Multiplier': 0.00027034708640083505, 'Ip': 0.32927376026224303, 'αPol': 6.16, 'gamma': 4.553942405557724, 'e0': 1.1651209030753122, 'a0': 1.00029261437877, 'a1': 2.0277399553571427, 'b0': -0.09619766160649207, 'b1': 1.0000652576548132, 'b2': 9.847213915392672e-07, 'c2': 1.0575360759435923, 'p1': 3.5013191027561144, 'd1': 1.87985268868462}\n",
      "current iteration=633\n",
      "residual=2.1928151732187244e-09\n",
      "params={'Multiplier': 0.0002698603360128393, 'Ip': 0.32927376026224303, 'αPol': 6.16, 'gamma': 4.55394212495444, 'e0': 1.165750524965775, 'a0': 1.0002928974329184, 'a1': 2.0277399553571427, 'b0': -0.09612817842549631, 'b1': 1.0000652454487398, 'b2': 9.833527008229481e-07, 'c2': 1.0575058109606483, 'p1': 3.5013219854382727, 'd1': 1.8787488720572472}\n",
      "current iteration=634\n",
      "residual=2.1921837754343973e-09\n",
      "params={'Multiplier': 0.00027001168521290086, 'Ip': 0.32927376026224303, 'αPol': 6.16, 'gamma': 4.553942202384788, 'e0': 1.1655042011234595, 'a0': 1.0002928437835585, 'a1': 2.0277399553571427, 'b0': -0.09615395077704164, 'b1': 1.0000652437195328, 'b2': 9.834447389778234e-07, 'c2': 1.0575281372471403, 'p1': 3.501321322612196, 'd1': 1.8790968037519797}\n",
      "current iteration=635\n",
      "residual=2.1919135179223586e-09\n",
      "params={'Multiplier': 0.0002698403038740027, 'Ip': 0.32927376026224303, 'αPol': 6.16, 'gamma': 4.553941687948828, 'e0': 1.1662901965040606, 'a0': 1.000292266107264, 'a1': 2.0277399553571427, 'b0': -0.09601191887462943, 'b1': 1.0000653043817351, 'b2': 9.862416576744693e-07, 'c2': 1.057410514214138, 'p1': 3.501321361748376, 'd1': 1.8792809067332428}\n",
      "current iteration=636\n",
      "residual=2.1911026000417123e-09\n",
      "params={'Multiplier': 0.00027000596586990167, 'Ip': 0.32927376026224303, 'αPol': 6.16, 'gamma': 4.5539415779296215, 'e0': 1.1662809677328454, 'a0': 1.0002920164734646, 'a1': 2.0277399553571427, 'b0': -0.09598713687446805, 'b1': 1.000065320800112, 'b2': 9.871061859012542e-07, 'c2': 1.0573990565062692, 'p1': 3.5013208997137593, 'd1': 1.8797337978789495}\n",
      "current iteration=637\n",
      "residual=2.1907124259965067e-09\n",
      "params={'Multiplier': 0.00027018596499084335, 'Ip': 0.32927376026224303, 'αPol': 6.16, 'gamma': 4.5539417383146805, 'e0': 1.166034552394803, 'a0': 1.0002920246871054, 'a1': 2.0277399553571427, 'b0': -0.09602582208381688, 'b1': 1.0000653179273131, 'b2': 9.87183491174548e-07, 'c2': 1.0574194712640321, 'p1': 3.5013200298676193, 'd1': 1.8799674771869763}\n",
      "current iteration=638\n",
      "residual=2.188810893814619e-09\n",
      "params={'Multiplier': 0.0002705150356182573, 'Ip': 0.32927376026224303, 'αPol': 6.16, 'gamma': 4.553941222332082, 'e0': 1.1665192979072718, 'a0': 1.0002910098262483, 'a1': 2.0277399553571427, 'b0': -0.09588804884562835, 'b1': 1.000065405785197, 'b2': 9.917185652685845e-07, 'c2': 1.0573027029107727, 'p1': 3.5013180998765483, 'd1': 1.881215964985886}\n",
      "current iteration=639\n",
      "residual=2.1902510429909015e-09\n",
      "params={'Multiplier': 0.0002706126812995757, 'Ip': 0.32927376026224303, 'αPol': 6.16, 'gamma': 4.553942161606513, 'e0': 1.1652401690096257, 'a0': 1.000292207503131, 'a1': 2.0277399553571427, 'b0': -0.09614188461862319, 'b1': 1.0000652896463327, 'b2': 9.861574343794643e-07, 'c2': 1.0575109464409163, 'p1': 3.5013186019829057, 'd1': 1.880498191819954}\n",
      "current iteration=640\n",
      "residual=2.1896197472107727e-09\n",
      "params={'Multiplier': 0.0002702907396626708, 'Ip': 0.32927376026224303, 'αPol': 6.16, 'gamma': 4.553941179252185, 'e0': 1.1667086313238597, 'a0': 1.0002911512543475, 'a1': 2.0277399553571427, 'b0': -0.09587846545948056, 'b1': 1.000065398650105, 'b2': 9.912724312499677e-07, 'c2': 1.0572877643683323, 'p1': 3.501318863922387, 'd1': 1.8807297546080486}\n",
      "current iteration=641\n",
      "residual=2.189299050062305e-09\n",
      "params={'Multiplier': 0.0002703897148009782, 'Ip': 0.32927376026224303, 'αPol': 6.16, 'gamma': 4.553940984426431, 'e0': 1.1669136126256285, 'a0': 1.0002908393959007, 'a1': 2.0277399553571427, 'b0': -0.09582626505936936, 'b1': 1.000065428297334, 'b2': 9.925872062055419e-07, 'c2': 1.0572522237604955, 'p1': 3.501318511053597, 'd1': 1.8810888291313894}\n",
      "current iteration=642\n",
      "residual=2.188612253787359e-09\n",
      "params={'Multiplier': 0.0002703200064732014, 'Ip': 0.32927376026224303, 'αPol': 6.16, 'gamma': 4.55394053476261, 'e0': 1.1675722864927334, 'a0': 1.0002901868715481, 'a1': 2.0277399553571427, 'b0': -0.0956927327581221, 'b1': 1.0000654875235644, 'b2': 9.956998585636256e-07, 'c2': 1.0571378959008706, 'p1': 3.5013180657819225, 'd1': 1.881521942971757}\n",
      "current iteration=643\n",
      "residual=2.1872154273101455e-09\n",
      "params={'Multiplier': 0.00027049600177775357, 'Ip': 0.32927376026224303, 'αPol': 6.16, 'gamma': 4.553939349000642, 'e0': 1.1690567244073478, 'a0': 1.0002883346205549, 'a1': 2.0277399553571427, 'b0': -0.09536453829046299, 'b1': 1.000065656980753, 'b2': 1.004275318017278e-06, 'c2': 1.0568617487349736, 'p1': 3.50131595967582, 'd1': 1.883164198632898}\n",
      "current iteration=644\n",
      "residual=2.1871449378456135e-09\n",
      "params={'Multiplier': 0.00027090652040240304, 'Ip': 0.32927376026224303, 'αPol': 6.16, 'gamma': 4.553941320225457, 'e0': 1.1661239478985768, 'a0': 1.000290691085697, 'a1': 2.0277399553571427, 'b0': -0.09591984804975512, 'b1': 1.0000654239930742, 'b2': 9.93129090520739e-07, 'c2': 1.0573114865335882, 'p1': 3.501315971980004, 'd1': 1.8821295365960786}\n",
      "current iteration=645\n",
      "residual=2.1843131874536004e-09\n",
      "params={'Multiplier': 0.00027157698462787483, 'Ip': 0.32927376026224303, 'αPol': 6.16, 'gamma': 4.553941150911589, 'e0': 1.1659094512787362, 'a0': 1.0002897640937656, 'a1': 2.0277399553571427, 'b0': -0.09588189121634105, 'b1': 1.0000654928496828, 'b2': 9.971877299452814e-07, 'c2': 1.0572634826967064, 'p1': 3.501312473081982, 'd1': 1.8839182606342617}\n",
      "current iteration=646\n",
      "residual=2.1857511462124977e-09\n",
      "params={'Multiplier': 0.00027095707506596955, 'Ip': 0.32927376026224303, 'αPol': 6.16, 'gamma': 4.553940659315641, 'e0': 1.1669582084673262, 'a0': 1.0002897120544771, 'a1': 2.0277399553571427, 'b0': -0.09573817389901099, 'b1': 1.0000655143043797, 'b2': 9.97596683482982e-07, 'c2': 1.057164717146261, 'p1': 3.5013150538464535, 'd1': 1.8829671101319927}\n",
      "current iteration=647\n",
      "residual=2.185397943870779e-09\n",
      "params={'Multiplier': 0.0002709946839812849, 'Ip': 0.32927376026224303, 'αPol': 6.16, 'gamma': 4.553940273271463, 'e0': 1.1674954191945743, 'a0': 1.0002891393580136, 'a1': 2.0277399553571427, 'b0': -0.09562924617185956, 'b1': 1.000065570150556, 'b2': 1.0003463744023833e-06, 'c2': 1.0570697162247644, 'p1': 3.5013144629193818, 'd1': 1.8833932482760067}\n",
      "current iteration=648\n",
      "residual=2.184544651110561e-09\n",
      "params={'Multiplier': 0.00027139767881145804, 'Ip': 0.32927376026224303, 'αPol': 6.16, 'gamma': 4.5539405047719494, 'e0': 1.166950348079832, 'a0': 1.0002890916844653, 'a1': 2.0277399553571427, 'b0': -0.09569474353371779, 'b1': 1.000065562642118, 'b2': 1.0003584842710467e-06, 'c2': 1.0571191671296405, 'p1': 3.5013130440173903, 'd1': 1.884031666789709}\n",
      "current iteration=649\n",
      "residual=2.184052518064349e-09\n",
      "params={'Multiplier': 0.000271510276677156, 'Ip': 0.32927376026224303, 'αPol': 6.16, 'gamma': 4.553940400159621, 'e0': 1.1670934605628371, 'a0': 1.0002887563604639, 'a1': 2.0277399553571427, 'b0': -0.09566104686572913, 'b1': 1.0000655945921424, 'b2': 1.0021480774113911e-06, 'c2': 1.0570746490002934, 'p1': 3.5013119349127275, 'd1': 1.8844383436672008}\n",
      "current iteration=650\n",
      "residual=2.181307152079765e-09\n",
      "params={'Multiplier': 0.0002722640043480995, 'Ip': 0.32927376026224303, 'αPol': 6.16, 'gamma': 4.553939811274621, 'e0': 1.1674997378915846, 'a0': 1.0002871263039348, 'a1': 2.0277399553571427, 'b0': -0.09549800186135965, 'b1': 1.0000657314881574, 'b2': 1.0097116762697311e-06, 'c2': 1.0569124597362984, 'p1': 3.5013074525121497, 'd1': 1.8867910100634542}\n",
      "current iteration=651\n",
      "residual=2.1834431509837165e-09\n",
      "params={'Multiplier': 0.00027155184329175075, 'Ip': 0.32927376026224303, 'αPol': 6.16, 'gamma': 4.553939053674904, 'e0': 1.168729707644474, 'a0': 1.0002870608401566, 'a1': 2.0277399553571427, 'b0': -0.0953105901846786, 'b1': 1.0000657525041095, 'b2': 1.0095766402873352e-06, 'c2': 1.0568129455004123, 'p1': 3.5013114018216025, 'd1': 1.8857072025997512}\n",
      "current iteration=652\n",
      "residual=2.182513119741002e-09\n",
      "params={'Multiplier': 0.0002714737221286567, 'Ip': 0.32927376026224303, 'αPol': 6.16, 'gamma': 4.553938676039793, 'e0': 1.169308469336369, 'a0': 1.000286438383196, 'a1': 2.0277399553571427, 'b0': -0.09520010828575856, 'b1': 1.0000658130841453, 'b2': 1.012837068659067e-06, 'c2': 1.0566984885669894, 'p1': 3.5013104625625466, 'd1': 1.8861034644933916}\n",
      "current iteration=653\n",
      "residual=2.180395893847539e-09\n",
      "params={'Multiplier': 0.0002720334182956252, 'Ip': 0.32927376026224303, 'αPol': 6.16, 'gamma': 4.553939157751639, 'e0': 1.1683595040456405, 'a0': 1.0002865520577733, 'a1': 2.0277399553571427, 'b0': -0.09532785601015678, 'b1': 1.0000657869671814, 'b2': 1.0119963536059373e-06, 'c2': 1.0568037728345954, 'p1': 3.5013085203510745, 'd1': 1.886946736995335}\n",
      "current iteration=654\n",
      "residual=2.1762074249698177e-09\n",
      "params={'Multiplier': 0.0002729068644732324, 'Ip': 0.32927376026224303, 'αPol': 6.16, 'gamma': 4.55393814700137, 'e0': 1.1691850678070228, 'a0': 1.000284252459429, 'a1': 2.0277399553571427, 'b0': -0.09505255128549489, 'b1': 1.0000659811257193, 'b2': 1.022438713249585e-06, 'c2': 1.0565618093632705, 'p1': 3.501303348565336, 'd1': 1.8900559136460409}\n",
      "current iteration=655\n",
      "residual=2.1778644392623605e-09\n",
      "params={'Multiplier': 0.00027243807274335285, 'Ip': 0.32927376026224303, 'αPol': 6.16, 'gamma': 4.55393878509238, 'e0': 1.1686087956360587, 'a0': 1.0002855465289227, 'a1': 2.0277399553571427, 'b0': -0.09522531365549311, 'b1': 1.0000658678856296, 'b2': 1.0166574357928226e-06, 'c2': 1.0567012316472102, 'p1': 3.501305840722197, 'd1': 1.8883811420197216}\n",
      "current iteration=656\n",
      "residual=2.1767128358564842e-09\n",
      "params={'Multiplier': 0.00027269764396342655, 'Ip': 0.32927376026224303, 'αPol': 6.16, 'gamma': 4.553938059738792, 'e0': 1.1694211984916842, 'a0': 1.0002842834390762, 'a1': 2.0277399553571427, 'b0': -0.09503098283120706, 'b1': 1.0000659828178526, 'b2': 1.0225640352246046e-06, 'c2': 1.0565304875990182, 'p1': 3.5013038000683516, 'd1': 1.8896872810064926}\n",
      "current iteration=657\n",
      "residual=2.1773396303360207e-09\n",
      "params={'Multiplier': 0.0002731581736622468, 'Ip': 0.32927376026224303, 'αPol': 6.16, 'gamma': 4.5539396752178565, 'e0': 1.1669565304681973, 'a0': 1.0002861484085532, 'a1': 2.0277399553571427, 'b0': -0.09548778229452123, 'b1': 1.0000657967897175, 'b2': 1.0135478174522206e-06, 'c2': 1.0569051299452557, 'p1': 3.5013035083476134, 'd1': 1.8890431837025727}\n",
      "current iteration=658\n",
      "residual=2.17670875081339e-09\n",
      "params={'Multiplier': 0.00027313614100366035, 'Ip': 0.32927376026224303, 'αPol': 6.16, 'gamma': 4.553938168083304, 'e0': 1.169054710281629, 'a0': 1.000284058245393, 'a1': 2.0277399553571427, 'b0': -0.0950640683650753, 'b1': 1.000065995963158, 'b2': 1.0234955731824869e-06, 'c2': 1.0565502817681827, 'p1': 3.5013021050772055, 'd1': 1.8904557639607003}\n",
      "current iteration=659\n",
      "residual=2.174790967556622e-09\n",
      "params={'Multiplier': 0.0002735276595960956, 'Ip': 0.32927376026224303, 'αPol': 6.16, 'gamma': 4.553938133089849, 'e0': 1.168829268823644, 'a0': 1.0002836147193352, 'a1': 2.0277399553571427, 'b0': -0.09505996053086987, 'b1': 1.0000660252795017, 'b2': 1.0253695108541905e-06, 'c2': 1.0565413859350232, 'p1': 3.5013002244358216, 'd1': 1.8914422406461013}\n",
      "current iteration=660\n",
      "residual=2.1706694046805483e-09\n",
      "params={'Multiplier': 0.00027479858042889216, 'Ip': 0.32927376026224303, 'αPol': 6.16, 'gamma': 4.553937062999045, 'e0': 1.169496276733304, 'a0': 1.0002808523999147, 'a1': 2.0277399553571427, 'b0': -0.094775317710375, 'b1': 1.000066252843974, 'b2': 1.0379969974660952e-06, 'c2': 1.0562772593315874, 'p1': 3.501293105193887, 'd1': 1.8954678804135825}\n",
      "current iteration=661\n",
      "residual=2.1726193317936175e-09\n",
      "params={'Multiplier': 0.0002738037204138566, 'Ip': 0.32927376026224303, 'αPol': 6.16, 'gamma': 4.553937213234785, 'e0': 1.169883742452094, 'a0': 1.0002820145359501, 'a1': 2.0277399553571427, 'b0': -0.09481057800434309, 'b1': 1.000066170828311, 'b2': 1.032921962629274e-06, 'c2': 1.056323581985788, 'p1': 3.5012976555731217, 'd1': 1.8930910785168473}\n",
      "current iteration=662\n",
      "residual=2.1742588200140203e-09\n",
      "params={'Multiplier': 0.000274069972973634, 'Ip': 0.32927376026224303, 'αPol': 6.16, 'gamma': 4.553935779559793, 'e0': 1.1717203517473105, 'a0': 1.000279792214991, 'a1': 2.0277399553571427, 'b0': -0.09440916767932023, 'b1': 1.0000663762164708, 'b2': 1.0433825698985544e-06, 'c2': 1.0559913852457905, 'p1': 3.5012952630067256, 'd1': 1.895039582004793}\n",
      "current iteration=663\n",
      "residual=2.1689223961750154e-09\n",
      "params={'Multiplier': 0.000274600279413284, 'Ip': 0.32927376026224303, 'αPol': 6.16, 'gamma': 4.5539372219734435, 'e0': 1.1694970978853099, 'a0': 1.0002810417436898, 'a1': 2.0277399553571427, 'b0': -0.09480018420991104, 'b1': 1.0000662413045174, 'b2': 1.0375740318036009e-06, 'c2': 1.0562774766608596, 'p1': 3.501293106504108, 'd1': 1.895116663774568}\n",
      "current iteration=664\n",
      "residual=2.161945353906107e-09\n",
      "params={'Multiplier': 0.00027613089909561683, 'Ip': 0.32927376026224303, 'αPol': 6.16, 'gamma': 4.553936306122715, 'e0': 1.1698808204741389, 'a0': 1.0002780321953608, 'a1': 2.0277399553571427, 'b0': -0.09454498122252725, 'b1': 1.0000664857047208, 'b2': 1.051716321365248e-06, 'c2': 1.0560097818924497, 'p1': 3.501283958845107, 'd1': 1.899822951183606}\n",
      "current iteration=665\n",
      "residual=2.1675185709804506e-09\n",
      "params={'Multiplier': 0.00027561258379737996, 'Ip': 0.32927376026224303, 'αPol': 6.16, 'gamma': 4.553937125625137, 'e0': 1.1690327840223316, 'a0': 1.0002799829630904, 'a1': 2.0277399553571427, 'b0': -0.09477964069618483, 'b1': 1.0000663152485967, 'b2': 1.0420723552950761e-06, 'c2': 1.0562541760800506, 'p1': 3.5012887450196466, 'd1': 1.897464534375203}\n",
      "current iteration=666\n",
      "residual=2.1647947551441152e-09\n",
      "params={'Multiplier': 0.00027548864420590125, 'Ip': 0.32927376026224303, 'αPol': 6.16, 'gamma': 4.55393545326042, 'e0': 1.1711485738089533, 'a0': 1.0002778663740979, 'a1': 2.0277399553571427, 'b0': -0.09433807488754875, 'b1': 1.000066513596672, 'b2': 1.0517907145235483e-06, 'c2': 1.0559086296596907, 'p1': 3.501288013571595, 'd1': 1.8989119206119969}\n",
      "current iteration=667\n",
      "residual=2.1667592623020073e-09\n",
      "params={'Multiplier': 0.0002759255646304082, 'Ip': 0.32927376026224303, 'αPol': 6.16, 'gamma': 4.553935813076265, 'e0': 1.1705471474841334, 'a0': 1.0002779101181982, 'a1': 2.0277399553571427, 'b0': -0.09443331533982643, 'b1': 1.0000665063414087, 'b2': 1.0518001869463944e-06, 'c2': 1.055961291091196, 'p1': 3.50128605993142, 'd1': 1.8994276246689399}\n",
      "current iteration=668\n",
      "residual=2.166749307354409e-09\n",
      "params={'Multiplier': 0.00027575623774900304, 'Ip': 0.32927376026224303, 'αPol': 6.16, 'gamma': 4.5539341505224815, 'e0': 1.172918613467727, 'a0': 1.0002756605803977, 'a1': 2.0277399553571427, 'b0': -0.09395995330985932, 'b1': 1.0000667193476582, 'b2': 1.0627150137665353e-06, 'c2': 1.0555687496941908, 'p1': 3.5012849026227904, 'd1': 1.900842689540787}\n",
      "current iteration=669\n",
      "residual=2.1640053308010247e-09\n",
      "params={'Multiplier': 0.00027683363901809255, 'Ip': 0.32927376026224303, 'αPol': 6.16, 'gamma': 4.553934984158273, 'e0': 1.171152325434118, 'a0': 1.0002758009782122, 'a1': 2.0277399553571427, 'b0': -0.09420254686890397, 'b1': 1.0000666806254848, 'b2': 1.061610937158619e-06, 'c2': 1.0557509258689761, 'p1': 3.50128083141284, 'd1': 1.9024299675406091}\n",
      "current iteration=670\n",
      "residual=2.160076075476251e-09\n",
      "params={'Multiplier': 0.00027713407169438486, 'Ip': 0.32927376026224303, 'αPol': 6.16, 'gamma': 4.553934239028758, 'e0': 1.1719385167742145, 'a0': 1.000274374718418, 'a1': 2.0277399553571427, 'b0': -0.09399715703580147, 'b1': 1.0000668044126446, 'b2': 1.068365458989362e-06, 'c2': 1.0555712958771766, 'p1': 3.501278271671091, 'd1': 1.9040566112314732}\n",
      "current iteration=671\n",
      "residual=2.1528110752893338e-09\n",
      "params={'Multiplier': 0.0002791439648365257, 'Ip': 0.32927376026224303, 'αPol': 6.16, 'gamma': 4.553932274501495, 'e0': 1.1733808066816795, 'a0': 1.0002695329546878, 'a1': 2.0277399553571427, 'b0': -0.09346370137116455, 'b1': 1.0000672086373863, 'b2': 1.0911613608222126e-06, 'c2': 1.0550819359506802, 'p1': 3.5012663549676075, 'd1': 1.9108602578662963}\n",
      "current iteration=672\n",
      "residual=2.157976712263024e-09\n",
      "params={'Multiplier': 0.00027861700983666804, 'Ip': 0.32927376026224303, 'αPol': 6.16, 'gamma': 4.553933085610721, 'e0': 1.1726473608165837, 'a0': 1.000271236603335, 'a1': 2.0277399553571427, 'b0': -0.0936909041325158, 'b1': 1.000067064752416, 'b2': 1.0833188366365931e-06, 'c2': 1.0552638427158882, 'p1': 3.501269629463181, 'd1': 1.9086187684683105}\n",
      "current iteration=673\n",
      "residual=2.154901506473174e-09\n",
      "params={'Multiplier': 0.00027835623220984207, 'Ip': 0.32927376026224303, 'αPol': 6.16, 'gamma': 4.55393491426247, 'e0': 1.170297141637532, 'a0': 1.0002739857256986, 'a1': 2.0277399553571427, 'b0': -0.09419063502932959, 'b1': 1.0000668073688552, 'b2': 1.0699733512531395e-06, 'c2': 1.0556885976446573, 'p1': 3.5012725883134244, 'd1': 1.906348184191351}\n",
      "current iteration=674\n",
      "residual=2.153845875955133e-09\n",
      "params={'Multiplier': 0.00027954015904063656, 'Ip': 0.32927376026224303, 'αPol': 6.16, 'gamma': 4.553933020793024, 'e0': 1.1722165463448166, 'a0': 1.0002701576424882, 'a1': 2.0277399553571427, 'b0': -0.09366523610930402, 'b1': 1.0000671400651227, 'b2': 1.0881451699695788e-06, 'c2': 1.0552295155964213, 'p1': 3.5012651822947936, 'd1': 1.9109505273642613}\n",
      "current iteration=675\n",
      "residual=2.1512229407122147e-09\n",
      "params={'Multiplier': 0.0002794881993589682, 'Ip': 0.32927376026224303, 'αPol': 6.16, 'gamma': 4.5539323625875605, 'e0': 1.1731483329224202, 'a0': 1.0002691808270472, 'a1': 2.0277399553571427, 'b0': -0.0934784800830579, 'b1': 1.000067235493689, 'b2': 1.093096172244401e-06, 'c2': 1.0550663167634413, 'p1': 3.5012641480943283, 'd1': 1.91166953601265}\n",
      "current iteration=676\n",
      "residual=2.1426853897236155e-09\n",
      "params={'Multiplier': 0.00028184793565599886, 'Ip': 0.32927376026224303, 'αPol': 6.16, 'gamma': 4.553930012381834, 'e0': 1.1749749800811427, 'a0': 1.000263345040267, 'a1': 2.0277399553571427, 'b0': -0.09283006126939936, 'b1': 1.0000677268185443, 'b2': 1.1211800667876304e-06, 'c2': 1.0544610495470388, 'p1': 3.5012496695439252, 'd1': 1.9197749008770977}\n",
      "current iteration=677\n",
      "residual=2.1508165122910026e-09\n",
      "params={'Multiplier': 0.0002799168209178804, 'Ip': 0.32927376026224303, 'αPol': 6.16, 'gamma': 4.553930877312814, 'e0': 1.1748008254167086, 'a0': 1.0002667226792967, 'a1': 2.0277399553571427, 'b0': -0.09308424121189099, 'b1': 1.0000674554030557, 'b2': 1.1048574830585522e-06, 'c2': 1.0547308240664144, 'p1': 3.501260693173567, 'd1': 1.9141343191557891}\n",
      "current iteration=678\n",
      "residual=2.146454398574063e-09\n",
      "params={'Multiplier': 0.0002804028254436153, 'Ip': 0.32927376026224303, 'αPol': 6.16, 'gamma': 4.553931202708987, 'e0': 1.1741365087286937, 'a0': 1.0002665580364969, 'a1': 2.0277399553571427, 'b0': -0.09316075174266225, 'b1': 1.000067454122574, 'b2': 1.1056062887426776e-06, 'c2': 1.0547775227648089, 'p1': 3.501258304910232, 'd1': 1.9151121623664822}\n",
      "current iteration=679\n",
      "residual=2.1434801155121728e-09\n",
      "params={'Multiplier': 0.0002815078533259241, 'Ip': 0.32927376026224303, 'αPol': 6.16, 'gamma': 4.553932275700063, 'e0': 1.172008214891088, 'a0': 1.000266987065617, 'a1': 2.0277399553571427, 'b0': -0.09347427345918996, 'b1': 1.0000673880713085, 'b2': 1.1031091633473267e-06, 'c2': 1.0550117083871515, 'p1': 3.5012541426762556, 'd1': 1.916550997996771}\n",
      "current iteration=680\n",
      "residual=2.142601843629519e-09\n",
      "params={'Multiplier': 0.0002829906187701292, 'Ip': 0.32927376026224303, 'αPol': 6.16, 'gamma': 4.553930337450064, 'e0': 1.1739504197239525, 'a0': 1.0002626054099302, 'a1': 2.0277399553571427, 'b0': -0.0929233915958288, 'b1': 1.00006776871722, 'b2': 1.1247590119278783e-06, 'c2': 1.0544926158106278, 'p1': 3.501244257547861, 'd1': 1.9220131783340357}\n",
      "current iteration=681\n",
      "residual=2.135198049388834e-09\n",
      "params={'Multiplier': 0.00028677951735389673, 'Ip': 0.32927376026224303, 'αPol': 6.16, 'gamma': 4.553927779544903, 'e0': 1.1753517064716705, 'a0': 1.0002549749272673, 'a1': 2.0277399553571427, 'b0': -0.09221604994996879, 'b1': 1.00006839627749, 'b2': 1.162160758516606e-06, 'c2': 1.0537848887942367, 'p1': 3.5012223795345903, 'd1': 1.9335729388278207}\n",
      "current iteration=682\n",
      "residual=2.1344079034756033e-09\n",
      "params={'Multiplier': 0.00028362283606464533, 'Ip': 0.32927376026224303, 'αPol': 6.16, 'gamma': 4.553929365629537, 'e0': 1.174786658742053, 'a0': 1.000260505595732, 'a1': 2.0277399553571427, 'b0': -0.0926616202306865, 'b1': 1.0000679448188088, 'b2': 1.134881344011518e-06, 'c2': 1.054257084409788, 'p1': 3.5012397493313463, 'd1': 1.9247215908235256}\n",
      "current iteration=683\n",
      "residual=2.120160940641913e-09\n",
      "params={'Multiplier': 0.0002870483738522944, 'Ip': 0.32927376026224303, 'αPol': 6.16, 'gamma': 4.553926556365192, 'e0': 1.176604436829483, 'a0': 1.0002528579039152, 'a1': 2.0277399553571427, 'b0': -0.09189115691157773, 'b1': 1.000068576915467, 'b2': 1.1724333564000489e-06, 'c2': 1.0535104756034313, 'p1': 3.5012192082893665, 'd1': 1.935875877984877}\n",
      "current iteration=684\n",
      "residual=2.1348511089002072e-09\n",
      "params={'Multiplier': 0.0002865335665164226, 'Ip': 0.32927376026224303, 'αPol': 6.16, 'gamma': 4.553926093713623, 'e0': 1.1774042374507419, 'a0': 1.0002532395197115, 'a1': 2.0277399553571427, 'b0': -0.09178842101487336, 'b1': 1.0000685579817177, 'b2': 1.1697989035219791e-06, 'c2': 1.0534987242429321, 'p1': 3.5012236717871175, 'd1': 1.9345464643318655}\n",
      "current iteration=685\n",
      "residual=2.127158635246732e-09\n",
      "params={'Multiplier': 0.00028560180207815034, 'Ip': 0.32927376026224303, 'αPol': 6.16, 'gamma': 4.553927915846159, 'e0': 1.175587457028318, 'a0': 1.0002564356957298, 'a1': 2.0277399553571427, 'b0': -0.0922620014813563, 'b1': 1.0000682775798884, 'b2': 1.1543952647130595e-06, 'c2': 1.053891190815734, 'p1': 3.501228809634884, 'd1': 1.9309273636394013}\n",
      "current iteration=686\n",
      "residual=2.1307464375519348e-09\n",
      "params={'Multiplier': 0.0002873269582467364, 'Ip': 0.32927376026224303, 'αPol': 6.16, 'gamma': 4.553924687511187, 'e0': 1.1789979948337344, 'a0': 1.0002501765667517, 'a1': 2.0277399553571427, 'b0': -0.09137654387494787, 'b1': 1.0000688290056508, 'b2': 1.1856276282973255e-06, 'c2': 1.0531074407918783, 'p1': 3.5012170950481845, 'd1': 1.938120110699305}\n",
      "current iteration=687\n",
      "residual=2.1226297887954743e-09\n",
      "params={'Multiplier': 0.00028769353322444235, 'Ip': 0.32927376026224303, 'αPol': 6.16, 'gamma': 4.553924914324246, 'e0': 1.1784336329026441, 'a0': 1.0002500084351058, 'a1': 2.0277399553571427, 'b0': -0.09144420434810221, 'b1': 1.000068834097491, 'b2': 1.1864942117689736e-06, 'c2': 1.0531418737581077, 'p1': 3.501214883617788, 'd1': 1.9389488730171212}\n",
      "current iteration=688\n",
      "residual=2.117948012990536e-09\n",
      "params={'Multiplier': 0.00028982241033392864, 'Ip': 0.32927376026224303, 'αPol': 6.16, 'gamma': 4.553924188580325, 'e0': 1.1782794450638296, 'a0': 1.0002467282187921, 'a1': 2.0277399553571427, 'b0': -0.09124183968162922, 'b1': 1.0000690906172471, 'b2': 1.2028687188525566e-06, 'c2': 1.0529014817222868, 'p1': 3.5012034166742603, 'd1': 1.9446612588629755}\n",
      "current iteration=689\n",
      "residual=2.1025675146405556e-09\n",
      "params={'Multiplier': 0.00029523702751255154, 'Ip': 0.32927376026224303, 'αPol': 6.16, 'gamma': 4.553920145619786, 'e0': 1.1807298692982284, 'a0': 1.000235325849623, 'a1': 2.0277399553571427, 'b0': -0.09013090883686153, 'b1': 1.0000700316071685, 'b2': 1.2607634432004744e-06, 'c2': 1.0518119238904244, 'p1': 3.501171947524769, 'd1': 1.9615808661887497}\n",
      "current iteration=690\n",
      "residual=2.110018021221253e-09\n",
      "params={'Multiplier': 0.00029211623678404575, 'Ip': 0.32927376026224303, 'αPol': 6.16, 'gamma': 4.5539234394303865, 'e0': 1.1780445817826526, 'a0': 1.0002432591284243, 'a1': 2.0277399553571427, 'b0': -0.09103063336589692, 'b1': 1.0000693590924017, 'b2': 1.220055984685331e-06, 'c2': 1.0526686411687534, 'p1': 3.5011913293386185, 'd1': 1.9508755251699395}\n",
      "current iteration=691\n",
      "residual=2.108956181226486e-09\n",
      "params={'Multiplier': 0.0002939896644015283, 'Ip': 0.32927376026224303, 'αPol': 6.16, 'gamma': 4.5539215613785125, 'e0': 1.1794911212413535, 'a0': 1.0002387639892325, 'a1': 2.0277399553571427, 'b0': -0.09052809915977256, 'b1': 1.000069741366846, 'b2': 1.24282802627107e-06, 'c2': 1.052200410871468, 'p1': 3.501180322486979, 'd1': 1.9570553019613706}\n",
      "current iteration=692\n",
      "residual=2.109493746959645e-09\n",
      "params={'Multiplier': 0.0002953843900203035, 'Ip': 0.32927376026224303, 'αPol': 6.16, 'gamma': 4.553918345523178, 'e0': 1.183119168793021, 'a0': 1.0002326903441563, 'a1': 2.0277399553571427, 'b0': -0.08962534258336141, 'b1': 1.0000702780772133, 'b2': 1.2744523811836217e-06, 'c2': 1.0514046190454924, 'p1': 3.5011697206825723, 'd1': 1.9637229194807997}\n",
      "current iteration=693\n",
      "residual=2.0992086052941063e-09\n",
      "params={'Multiplier': 0.00029778009422376517, 'Ip': 0.32927376026224303, 'αPol': 6.16, 'gamma': 4.5539182754696474, 'e0': 1.1817786576482145, 'a0': 1.0002302014304316, 'a1': 2.0277399553571427, 'b0': -0.08962861103594441, 'b1': 1.000070449581713, 'b2': 1.286773303466049e-06, 'c2': 1.0513436555247093, 'p1': 3.501158204042012, 'd1': 1.9692912691265385}\n",
      "current iteration=694\n",
      "residual=2.0803642703466696e-09\n",
      "params={'Multiplier': 0.000305910921381769, 'Ip': 0.32927376026224303, 'αPol': 6.16, 'gamma': 4.553912407013652, 'e0': 1.1851826174446707, 'a0': 1.0002136296230864, 'a1': 2.0277399553571427, 'b0': -0.08802788591921695, 'b1': 1.0000718109632778, 'b2': 1.3738453723544097e-06, 'c2': 1.0497863374287295, 'p1': 3.501112471285303, 'd1': 1.9940894933607316}\n",
      "current iteration=695\n",
      "residual=2.0941825315562347e-09\n",
      "params={'Multiplier': 0.0002965699717581982, 'Ip': 0.32927376026224303, 'αPol': 6.16, 'gamma': 4.553917433800295, 'e0': 1.183368326205097, 'a0': 1.0002303024838666, 'a1': 2.0277399553571427, 'b0': -0.08940498954922457, 'b1': 1.0000704630599344, 'b2': 1.2859509936902214e-06, 'c2': 1.051219534106055, 'p1': 3.5011635124050517, 'd1': 1.9675735829417031}\n",
      "current iteration=696\n",
      "residual=2.0838171757560554e-09\n",
      "params={'Multiplier': 0.0002988491358532075, 'Ip': 0.32927376026224303, 'αPol': 6.16, 'gamma': 4.553917387648893, 'e0': 1.1825073368567023, 'a0': 1.0002274504841675, 'a1': 2.0277399553571427, 'b0': -0.08935593219119026, 'b1': 1.0000706823713494, 'b2': 1.3017578812668518e-06, 'c2': 1.0510498011289962, 'p1': 3.5011501882751377, 'd1': 1.9732094978938997}\n",
      "current iteration=697\n",
      "residual=2.0788276195567136e-09\n",
      "params={'Multiplier': 0.0003003684694177222, 'Ip': 0.32927376026224303, 'αPol': 6.16, 'gamma': 4.553917333878859, 'e0': 1.1816148078845838, 'a0': 1.0002259682207457, 'a1': 2.0277399553571427, 'b0': -0.08936368699436423, 'b1': 1.0000707820205574, 'b2': 1.3088946206885055e-06, 'c2': 1.0510293840186853, 'p1': 3.501143383659455, 'd1': 1.9766535619765042}\n",
      "current iteration=698\n",
      "residual=2.0526661557414107e-09\n",
      "params={'Multiplier': 0.000306998086096244, 'Ip': 0.32927376026224303, 'αPol': 6.16, 'gamma': 4.553913657062734, 'e0': 1.1829235277924752, 'a0': 1.000213864046479, 'a1': 2.0277399553571427, 'b0': -0.0883572585540724, 'b1': 1.0000717585280008, 'b2': 1.3728137260304862e-06, 'c2': 1.0499909702552912, 'p1': 3.5011065279614115, 'd1': 1.9959442822100777}\n",
      "current iteration=699\n",
      "residual=2.0722447695901802e-09\n",
      "params={'Multiplier': 0.0003064752675500104, 'Ip': 0.32927376026224303, 'αPol': 6.16, 'gamma': 4.5539112537873105, 'e0': 1.1864962364429688, 'a0': 1.0002111947598225, 'a1': 2.0277399553571427, 'b0': -0.08769728080249897, 'b1': 1.0000720296359245, 'b2': 1.3875789954820306e-06, 'c2': 1.0494670553882628, 'p1': 3.501107212734085, 'd1': 1.9968791516550577}\n",
      "current iteration=700\n",
      "residual=2.0634420324921494e-09\n",
      "params={'Multiplier': 0.0003081303256579071, 'Ip': 0.32927376026224303, 'αPol': 6.16, 'gamma': 4.553911523201785, 'e0': 1.1852601706162673, 'a0': 1.0002098592861093, 'a1': 2.0277399553571427, 'b0': -0.08776569322663241, 'b1': 1.0000721122260148, 'b2': 1.39442706670323e-06, 'c2': 1.0494807728384608, 'p1': 3.501099604575225, 'd1': 2.0004367824497}\n",
      "current iteration=701\n",
      "residual=2.059463483804948e-09\n",
      "params={'Multiplier': 0.00031310976782539246, 'Ip': 0.32927376026224303, 'αPol': 6.16, 'gamma': 4.553906874528265, 'e0': 1.1888239222680093, 'a0': 1.0001984100916819, 'a1': 2.0277399553571427, 'b0': -0.08649364792616784, 'b1': 1.0000730764701302, 'b2': 1.4567185095959445e-06, 'c2': 1.0483076513381113, 'p1': 3.5010713591566724, 'd1': 2.016453419654809}\n",
      "current iteration=702\n",
      "residual=2.0568372391539115e-09\n",
      "params={'Multiplier': 0.00031211196344738124, 'Ip': 0.32927376026224303, 'αPol': 6.16, 'gamma': 4.5539066784825915, 'e0': 1.1895390693858587, 'a0': 1.0001990390614108, 'a1': 2.0277399553571427, 'b0': -0.08644677438390286, 'b1': 1.000073037768754, 'b2': 1.4535943786420091e-06, 'c2': 1.048276483316414, 'p1': 3.501075244075161, 'd1': 2.0145406923051685}\n",
      "current iteration=703\n",
      "residual=2.043531798798823e-09\n",
      "params={'Multiplier': 0.0003121346253284196, 'Ip': 0.32927376026224303, 'αPol': 6.16, 'gamma': 4.553909438981579, 'e0': 1.1857443136105892, 'a0': 1.0002028775907466, 'a1': 2.0277399553571427, 'b0': -0.08721635152654666, 'b1': 1.0000726707222656, 'b2': 1.431954262498536e-06, 'c2': 1.0489135163450876, 'p1': 3.501077957412185, 'd1': 2.0118366366651155}\n",
      "current iteration=704\n",
      "residual=2.0097913933312434e-09\n",
      "params={'Multiplier': 0.00032068345262359355, 'Ip': 0.32927376026224303, 'αPol': 6.16, 'gamma': 4.553904985710835, 'e0': 1.187057199301746, 'a0': 1.0001879712123098, 'a1': 2.0277399553571427, 'b0': -0.08601185599813932, 'b1': 1.0000738670447762, 'b2': 1.51414534954597e-06, 'c2': 1.047668858632159, 'p1': 3.501032075771598, 'd1': 2.035929571080676}\n",
      "current iteration=705\n",
      "residual=2.0236843949143736e-09\n",
      "params={'Multiplier': 0.000318989152834237, 'Ip': 0.32927376026224303, 'αPol': 6.16, 'gamma': 4.553902907992837, 'e0': 1.1908895882470576, 'a0': 1.0001866453879598, 'a1': 2.0277399553571427, 'b0': -0.08541034631780886, 'b1': 1.0000740325681967, 'b2': 1.5224456277884713e-06, 'c2': 1.0472132039840476, 'p1': 3.501037706260072, 'd1': 2.034314179257739}\n",
      "current iteration=706\n",
      "residual=2.0131028685398754e-09\n",
      "params={'Multiplier': 0.0003225435051635861, 'Ip': 0.32927376026224303, 'αPol': 6.16, 'gamma': 4.553900876226186, 'e0': 1.1916824499058736, 'a0': 1.000180347434861, 'a1': 2.0277399553571427, 'b0': -0.08486342413690934, 'b1': 1.000074542520076, 'b2': 1.5576696812402702e-06, 'c2': 1.0466821031046323, 'p1': 3.5010192329680248, 'd1': 2.0443449026045744}\n",
      "current iteration=707\n",
      "residual=2.005158500348945e-09\n",
      "params={'Multiplier': 0.00032646760038967937, 'Ip': 0.32927376026224303, 'αPol': 6.16, 'gamma': 4.5539002765308165, 'e0': 1.1907046335081497, 'a0': 1.0001753797908934, 'a1': 2.0277399553571427, 'b0': -0.08468103034208327, 'b1': 1.0000749269593392, 'b2': 1.5868932947693537e-06, 'c2': 1.0463667212280334, 'p1': 3.500998812198675, 'd1': 2.0537124205854105}\n",
      "current iteration=708\n",
      "residual=1.954500735164233e-09\n",
      "params={'Multiplier': 0.00034195620298371754, 'Ip': 0.32927376026224303, 'αPol': 6.16, 'gamma': 4.553891697896288, 'e0': 1.1943752183922198, 'a0': 1.0001479184391882, 'a1': 2.0277399553571427, 'b0': -0.08231905073851259, 'b1': 1.000077158908986, 'b2': 1.749218882851622e-06, 'c2': 1.0439437460795657, 'p1': 3.500916462079175, 'd1': 2.096893287897956}\n",
      "current iteration=709\n",
      "residual=1.9895813599565064e-09\n",
      "params={'Multiplier': 0.00033281906285387297, 'Ip': 0.32927376026224303, 'αPol': 6.16, 'gamma': 4.553895184731761, 'e0': 1.1939412858896734, 'a0': 1.0001623253810104, 'a1': 2.0277399553571427, 'b0': -0.08332271140958206, 'b1': 1.0000760029554445, 'b2': 1.6617740234980971e-06, 'c2': 1.0451158564486454, 'p1': 3.5009653910893537, 'd1': 2.072820087129285}\n",
      "current iteration=710\n",
      "residual=1.9773882029144975e-09\n",
      "params={'Multiplier': 0.0003309073766016857, 'Ip': 0.32927376026224303, 'αPol': 6.16, 'gamma': 4.5538967209104975, 'e0': 1.1930154548291703, 'a0': 1.000165885396323, 'a1': 2.0277399553571427, 'b0': -0.08370972277962838, 'b1': 1.0000757127619755, 'b2': 1.6418066244305862e-06, 'c2': 1.0454435010581173, 'p1': 3.5009736920467738, 'd1': 2.067635881987523}\n",
      "current iteration=711\n",
      "residual=1.9651120702210057e-09\n",
      "params={'Multiplier': 0.00033531561526733977, 'Ip': 0.32927376026224303, 'αPol': 6.16, 'gamma': 4.553894967561487, 'e0': 1.1930050547215059, 'a0': 1.0001592583864038, 'a1': 2.0277399553571427, 'b0': -0.08324281629177224, 'b1': 1.000076230714534, 'b2': 1.6800333648703258e-06, 'c2': 1.044958231306288, 'p1': 3.5009522464585108, 'd1': 2.0790118659577455}\n",
      "current iteration=712\n",
      "residual=1.9535230504992736e-09\n",
      "params={'Multiplier': 0.0003391497584198655, 'Ip': 0.32927376026224303, 'αPol': 6.16, 'gamma': 4.553891387019023, 'e0': 1.1957923439513194, 'a0': 1.0001504736792142, 'a1': 2.0277399553571427, 'b0': -0.08226982848066677, 'b1': 1.0000769718221354, 'b2': 1.7326938759332222e-06, 'c2': 1.04404099411075, 'p1': 3.500930382992125, 'd1': 2.0911849699503042}\n",
      "current iteration=713\n",
      "residual=1.897037935339732e-09\n",
      "params={'Multiplier': 0.00035521868896692954, 'Ip': 0.32927376026224303, 'αPol': 6.16, 'gamma': 4.553881318927933, 'e0': 1.2010634061323024, 'a0': 1.0001207808704644, 'a1': 2.0277399553571427, 'b0': -0.07952189610768395, 'b1': 1.0000794016201284, 'b2': 1.915589239231963e-06, 'c2': 1.041325470531434, 'p1': 3.500845772184491, 'd1': 2.1366780496053233}\n",
      "current iteration=714\n",
      "residual=1.931098588711194e-09\n",
      "params={'Multiplier': 0.0003424427733708102, 'Ip': 0.32927376026224303, 'αPol': 6.16, 'gamma': 4.553890924572347, 'e0': 1.1946730698029837, 'a0': 1.0001463970314457, 'a1': 2.0277399553571427, 'b0': -0.08214752341743453, 'b1': 1.000077272608044, 'b2': 1.7573516801761002e-06, 'c2': 1.043815888988351, 'p1': 3.50091351102091, 'd1': 2.0991760071463053}\n",
      "current iteration=715\n",
      "residual=1.9093701952749914e-09\n",
      "params={'Multiplier': 0.00034973285294814804, 'Ip': 0.32927376026224303, 'αPol': 6.16, 'gamma': 4.553887969836021, 'e0': 1.1949845730717916, 'a0': 1.000135239654224, 'a1': 2.0277399553571427, 'b0': -0.08133454676640589, 'b1': 1.0000781582772607, 'b2': 1.8250562239252588e-06, 'c2': 1.0429558123679934, 'p1': 3.5008772794857297, 'd1': 2.1180564260982195}\n",
      "current iteration=716\n",
      "residual=1.874892330904915e-09\n",
      "params={'Multiplier': 0.00036414116519456474, 'Ip': 0.32927376026224303, 'αPol': 6.16, 'gamma': 4.553875853811099, 'e0': 1.2040258886575383, 'a0': 1.000104689782238, 'a1': 2.0277399553571427, 'b0': -0.07801952023870301, 'b1': 1.0000807174677533, 'b2': 2.0186189109150376e-06, 'c2': 1.0398423232795684, 'p1': 3.500800145882276, 'd1': 2.1612484656064224}\n",
      "current iteration=717\n",
      "residual=1.8053792109602763e-09\n",
      "params={'Multiplier': 0.00039454499028857004, 'Ip': 0.32927376026224303, 'αPol': 6.16, 'gamma': 4.553856952186313, 'e0': 1.2145968542667775, 'a0': 1.0000501026363862, 'a1': 2.0277399553571427, 'b0': -0.07285065108101832, 'b1': 1.000085196937391, 'b2': 2.388063106373295e-06, 'c2': 1.034783470940524, 'p1': 3.50064695479589, 'd1': 2.244273478454275}\n",
      "current iteration=718\n",
      "residual=1.863709994174159e-09\n",
      "params={'Multiplier': 0.0003664966976083539, 'Ip': 0.32927376026224303, 'αPol': 6.16, 'gamma': 4.553877411719097, 'e0': 1.2007863560402563, 'a0': 1.0001045998988065, 'a1': 2.0277399553571427, 'b0': -0.07845449342760849, 'b1': 1.000080676301514, 'b2': 2.018873135556376e-06, 'c2': 1.040125673947228, 'p1': 3.500790817313117, 'd1': 2.1646927539876324}\n",
      "current iteration=719\n",
      "residual=1.8492890426807989e-09\n",
      "params={'Multiplier': 0.0003717877595940111, 'Ip': 0.32927376026224303, 'αPol': 6.16, 'gamma': 4.553874750584347, 'e0': 1.2018144251927962, 'a0': 1.0000957483445219, 'a1': 2.0277399553571427, 'b0': -0.07771962946664782, 'b1': 1.0000813931059158, 'b2': 2.077170569547704e-06, 'c2': 1.03934589280422, 'p1': 3.5007636074729036, 'd1': 2.1787408776357067}\n",
      "current iteration=720\n",
      "residual=1.821153222103822e-09\n",
      "params={'Multiplier': 0.0003844943877219231, 'Ip': 0.32927376026224303, 'αPol': 6.16, 'gamma': 4.5538645940748985, 'e0': 1.2094039656115187, 'a0': 1.0000696799877276, 'a1': 2.0277399553571427, 'b0': -0.07491275229911953, 'b1': 1.0000835737933416, 'b2': 2.2528391696585714e-06, 'c2': 1.0367018111566748, 'p1': 3.5006970709927154, 'd1': 2.215859582116604}\n",
      "current iteration=721\n",
      "residual=1.8259535744236501e-09\n",
      "params={'Multiplier': 0.0003820396383052982, 'Ip': 0.32927376026224303, 'αPol': 6.16, 'gamma': 4.553868276922124, 'e0': 1.2056006458534099, 'a0': 1.0000767967464623, 'a1': 2.0277399553571427, 'b0': -0.0759199050655843, 'b1': 1.0000829520503507, 'b2': 2.2044044432067977e-06, 'c2': 1.0375651150721372, 'p1': 3.5007100916733616, 'd1': 2.207433509264434}\n",
      "current iteration=722\n",
      "residual=1.8083384900944842e-09\n",
      "params={'Multiplier': 0.00039479042683387977, 'Ip': 0.32927376026224303, 'αPol': 6.16, 'gamma': 4.5538610519460025, 'e0': 1.2090474126899453, 'a0': 1.0000554189977304, 'a1': 2.0277399553571427, 'b0': -0.07397493015272913, 'b1': 1.0000846901014238, 'b2': 2.350611885804099e-06, 'c2': 1.0356660598244294, 'p1': 3.500649070627763, 'd1': 2.240690222252897}\n",
      "current iteration=723\n",
      "residual=1.8040687249224795e-09\n",
      "params={'Multiplier': 0.0004024082412091845, 'Ip': 0.32927376026224303, 'αPol': 6.16, 'gamma': 4.553856022172046, 'e0': 1.2122699392166068, 'a0': 1.0000412781292964, 'a1': 2.0277399553571427, 'b0': -0.07258825941277666, 'b1': 1.000085864026215, 'b2': 2.451546269544025e-06, 'c2': 1.0342949376241102, 'p1': 3.5006098810468185, 'd1': 2.261679288899779}\n",
      "current iteration=724\n",
      "residual=1.886399958755497e-09\n",
      "params={'Multiplier': 0.00043825230458616193, 'Ip': 0.32927376026224303, 'αPol': 6.16, 'gamma': 4.553836549478435, 'e0': 1.2219186447455619, 'a0': 0.9999822879927902, 'a1': 2.0277399553571427, 'b0': -0.06726098097327887, 'b1': 1.0000906806817622, 'b2': 2.891807718174988e-06, 'c2': 1.028980892691419, 'p1': 3.5004386982951665, 'd1': 2.3534257011902517}\n",
      "current iteration=725\n",
      "residual=1.8148287136845857e-09\n",
      "params={'Multiplier': 0.00040776886361182374, 'Ip': 0.32927376026224303, 'αPol': 6.16, 'gamma': 4.553852156692423, 'e0': 1.2144797554840143, 'a0': 1.000031290015406, 'a1': 2.0277399553571427, 'b0': -0.07156586670088916, 'b1': 1.0000866768552121, 'b2': 2.5215987902171833e-06, 'c2': 1.0333794757802244, 'p1': 3.5005843492229296, 'd1': 2.276741846577917}\n",
      "current iteration=726\n",
      "residual=1.813374909015115e-09\n",
      "params={'Multiplier': 0.00042097943738783616, 'Ip': 0.32927376026224303, 'αPol': 6.16, 'gamma': 4.553845176440661, 'e0': 1.2181479078541395, 'a0': 1.000009790017887, 'a1': 2.0277399553571427, 'b0': -0.06962106267865814, 'b1': 1.0000884440055091, 'b2': 2.6808947346523837e-06, 'c2': 1.0314247926061566, 'p1': 3.500521467909251, 'd1': 2.3100805895853913}\n",
      "current iteration=727\n",
      "residual=1.8204243218576547e-09\n",
      "params={'Multiplier': 0.00042787619236761554, 'Ip': 0.32927376026224303, 'αPol': 6.16, 'gamma': 4.553839572498048, 'e0': 1.2224755458905214, 'a0': 0.9999958574685522, 'a1': 2.0277399553571427, 'b0': -0.06809134251213719, 'b1': 1.0000896154819252, 'b2': 2.786656900122253e-06, 'c2': 1.029980412363108, 'p1': 3.500486537130988, 'd1': 2.3296020910008424}\n",
      "current iteration=728\n",
      "residual=1.877525538107089e-09\n",
      "params={'Multiplier': 0.00043708834380928874, 'Ip': 0.32927376026224303, 'αPol': 6.16, 'gamma': 4.553837874119919, 'e0': 1.2206672913392613, 'a0': 0.9999853315734386, 'a1': 2.0277399553571427, 'b0': -0.0676178824517498, 'b1': 1.0000904149114374, 'b2': 2.8672059391166016e-06, 'c2': 1.029339031177719, 'p1': 3.500446197421145, 'd1': 2.3495650520879034}\n",
      "current iteration=729\n",
      "residual=1.8117864101764682e-09\n",
      "params={'Multiplier': 0.0004158241736652579, 'Ip': 0.32927376026224303, 'αPol': 6.16, 'gamma': 4.553848735321576, 'e0': 1.2157621376181296, 'a0': 1.0000191938994911, 'a1': 2.0277399553571427, 'b0': -0.07059388586573334, 'b1': 1.0000876615887075, 'b2': 2.6113719664433432e-06, 'c2': 1.0323300155553143, 'p1': 3.500546091126311, 'd1': 2.2962076952673542}\n",
      "current iteration=730\n",
      "residual=1.8552482308078289e-09\n",
      "params={'Multiplier': 0.0004351105654313292, 'Ip': 0.32927376026224303, 'αPol': 6.16, 'gamma': 4.553836046049222, 'e0': 1.2239450515513317, 'a0': 0.9999844313468613, 'a1': 2.0277399553571427, 'b0': -0.06711316361945022, 'b1': 1.000090537287527, 'b2': 2.874655377960167e-06, 'c2': 1.028978560256399, 'p1': 3.5004522070656923, 'd1': 2.3477709549972507}\n",
      "current iteration=731\n",
      "residual=1.8102101768452513e-09\n",
      "params={'Multiplier': 0.00041740444537607946, 'Ip': 0.32927376026224303, 'αPol': 6.16, 'gamma': 4.553846387466376, 'e0': 1.2181495570671173, 'a0': 1.0000144734860152, 'a1': 2.0277399553571427, 'b0': -0.06994849607148979, 'b1': 1.0000880720411027, 'b2': 2.646570342434984e-06, 'c2': 1.0317604543002592, 'p1': 3.5005368596375135, 'd1': 2.3019022111860443}\n",
      "current iteration=732\n",
      "residual=1.863332148609275e-09\n",
      "params={'Multiplier': 0.00043895882498012906, 'Ip': 0.32927376026224303, 'αPol': 6.16, 'gamma': 4.5538330345604505, 'e0': 1.2261868577402315, 'a0': 0.9999770279298614, 'a1': 2.0277399553571427, 'b0': -0.06629380090137929, 'b1': 1.0000911562701518, 'b2': 2.9317315275445566e-06, 'c2': 1.0282420742442566, 'p1': 3.500434067339322, 'd1': 2.358359823489767}\n",
      "current iteration=733\n",
      "residual=1.815441539338092e-09\n",
      "params={'Multiplier': 0.0003880569031632364, 'Ip': 0.32927376026224303, 'αPol': 6.16, 'gamma': 4.553864321578054, 'e0': 1.2079010686847251, 'a0': 1.0000660682423856, 'a1': 2.0277399553571427, 'b0': -0.07486317232533068, 'b1': 1.0000838338970512, 'b2': 2.277041611042918e-06, 'c2': 1.0365651131457316, 'p1': 3.5006812224494714, 'd1': 2.2235486289385396}\n",
      "current iteration=734\n",
      "residual=1.8141641433392968e-09\n",
      "params={'Multiplier': 0.0004292331272844896, 'Ip': 0.32927376026224303, 'αPol': 6.16, 'gamma': 4.553838717153456, 'e0': 1.2228525346900305, 'a0': 0.9999938338286891, 'a1': 2.0277399553571427, 'b0': -0.06788217875439209, 'b1': 1.0000897736951575, 'b2': 2.8009309842591534e-06, 'c2': 1.0298165019271162, 'p1': 3.500481809306784, 'd1': 2.332764703452013}\n",
      "current iteration=735\n",
      "residual=1.8709151098828165e-09\n",
      "params={'Multiplier': 0.00043585481005614657, 'Ip': 0.32927376026224303, 'αPol': 6.16, 'gamma': 4.553837224616327, 'e0': 1.221734328163754, 'a0': 0.9999857813558228, 'a1': 2.0277399553571427, 'b0': -0.06748321681191138, 'b1': 1.0000903919325295, 'b2': 2.86254672365871e-06, 'c2': 1.0293021558862696, 'p1': 3.500451777648578, 'd1': 2.3477329476955755}\n",
      "current iteration=736\n",
      "residual=1.8025417648148916e-09\n",
      "params={'Multiplier': 0.00039703217990838535, 'Ip': 0.32927376026224303, 'αPol': 6.16, 'gamma': 4.553857751710118, 'e0': 1.2124849080482, 'a0': 1.0000487053303242, 'a1': 2.0277399553571427, 'b0': -0.0730553684273175, 'b1': 1.0000852783281762, 'b2': 2.3984287498279855e-06, 'c2': 1.0348497422302727, 'p1': 3.500635747661924, 'd1': 2.2487765342449832}\n",
      "current iteration=737\n",
      "residual=1.8192876300860837e-09\n",
      "params={'Multiplier': 0.00038606690265863275, 'Ip': 0.32927376026224303, 'αPol': 6.16, 'gamma': 4.553865882035585, 'e0': 1.2066680106492242, 'a0': 1.000070173447407, 'a1': 2.0277399553571427, 'b0': -0.07529743178192977, 'b1': 1.0000834828132106, 'b2': 2.2481872501423084e-06, 'c2': 1.0369971679351235, 'p1': 3.50069215361975, 'd1': 2.2177935996098865}\n",
      "current iteration=738\n",
      "residual=1.805954650069223e-09\n",
      "params={'Multiplier': 0.000396317379289024, 'Ip': 0.32927376026224303, 'αPol': 6.16, 'gamma': 4.553859304651073, 'e0': 1.2106171802198284, 'a0': 1.0000515944532007, 'a1': 2.0277399553571427, 'b0': -0.07349590946448163, 'b1': 1.0000850159804195, 'b2': 2.3773902249057954e-06, 'c2': 1.0352410460673083, 'p1': 3.500640749501316, 'd1': 2.2457085495639597}\n",
      "current iteration=739\n",
      "residual=1.8237879436878449e-09\n",
      "params={'Multiplier': 0.0004275095750968516, 'Ip': 0.32927376026224303, 'αPol': 6.16, 'gamma': 4.5538401295701485, 'e0': 1.2217843994657835, 'a0': 0.9999970679158487, 'a1': 2.0277399553571427, 'b0': -0.06825214939656649, 'b1': 1.0000895008147657, 'b2': 2.7766067756118673e-06, 'c2': 1.030147086583311, 'p1': 3.5004893737123717, 'd1': 2.3282724985019168}\n",
      "current iteration=740\n",
      "residual=1.8041536618921955e-09\n",
      "params={'Multiplier': 0.0003977407109397868, 'Ip': 0.32927376026224303, 'αPol': 6.16, 'gamma': 4.553858273575971, 'e0': 1.2113698090798959, 'a0': 1.0000488181611678, 'a1': 2.0277399553571427, 'b0': -0.07321041659313964, 'b1': 1.0000852506265057, 'b2': 2.3972918781201003e-06, 'c2': 1.034958987789272, 'p1': 3.500633260268438, 'd1': 2.24969707496649}\n",
      "current iteration=741\n",
      "residual=1.7915862449788115e-09\n",
      "params={'Multiplier': 0.00040530486486634043, 'Ip': 0.32927376026224303, 'αPol': 6.16, 'gamma': 4.553853517832197, 'e0': 1.2145780261430121, 'a0': 1.000035351772942, 'a1': 2.0277399553571427, 'b0': -0.07187836499945807, 'b1': 1.0000863726109346, 'b2': 2.494570595423795e-06, 'c2': 1.0336442090334008, 'p1': 3.5005960291565925, 'd1': 2.269582763525954}\n",
      "current iteration=742\n",
      "residual=1.7907866304722528e-09\n",
      "params={'Multiplier': 0.00040407567086153673, 'Ip': 0.32927376026224303, 'αPol': 6.16, 'gamma': 4.553854198402085, 'e0': 1.2146271618913564, 'a0': 1.0000373826517044, 'a1': 2.0277399553571427, 'b0': -0.07203461414874252, 'b1': 1.0000862204887955, 'b2': 2.4811111107858608e-06, 'c2': 1.0337765866897157, 'p1': 3.5006018691233765, 'd1': 2.266003827829193}\n",
      "current iteration=743\n",
      "residual=1.8309004179328934e-09\n",
      "params={'Multiplier': 0.00037963821941311426, 'Ip': 0.32927376026224303, 'αPol': 6.16, 'gamma': 4.553870053621414, 'e0': 1.204570724916318, 'a0': 1.0000815177223612, 'a1': 2.0277399553571427, 'b0': -0.07639254002482523, 'b1': 1.0000825651295946, 'b2': 2.1729360986100232e-06, 'c2': 1.0380068588394695, 'p1': 3.5007225810213134, 'd1': 2.2003583400325133}\n",
      "current iteration=744\n",
      "residual=1.7989369223197622e-09\n",
      "params={'Multiplier': 0.00041654852016070887, 'Ip': 0.32927376026224303, 'αPol': 6.16, 'gamma': 4.553846551270264, 'e0': 1.2182784607965313, 'a0': 1.0000157548026545, 'a1': 2.0277399553571427, 'b0': -0.07000976907200038, 'b1': 1.0000879715538091, 'b2': 2.6364689975633127e-06, 'c2': 1.0318614481189592, 'p1': 3.5005420022403597, 'd1': 2.2996115785193862}\n",
      "current iteration=745\n",
      "residual=1.8172038157087247e-09\n",
      "params={'Multiplier': 0.0003866255218999415, 'Ip': 0.32927376026224303, 'αPol': 6.16, 'gamma': 4.553863869299824, 'e0': 1.2092940412941693, 'a0': 1.000066754491132, 'a1': 2.0277399553571427, 'b0': -0.07473139737922763, 'b1': 1.000083800328967, 'b2': 2.2729121356146464e-06, 'c2': 1.036481635204866, 'p1': 3.5006870292919747, 'd1': 2.2208754215777695}\n",
      "current iteration=746\n",
      "residual=1.8008025396168243e-09\n",
      "params={'Multiplier': 0.0004122536386953479, 'Ip': 0.32927376026224303, 'αPol': 6.16, 'gamma': 4.553849849655387, 'e0': 1.2159335909456002, 'a0': 1.0000240311364532, 'a1': 2.0277399553571427, 'b0': -0.07089864635380051, 'b1': 1.000087283086391, 'b2': 2.575743701660471e-06, 'c2': 1.0326879971879699, 'p1': 3.500562858257303, 'd1': 2.2877558109203555}\n",
      "current iteration=747\n",
      "residual=1.8101976144012503e-09\n",
      "params={'Multiplier': 0.00039090258028717795, 'Ip': 0.32927376026224303, 'αPol': 6.16, 'gamma': 4.55386053328557, 'e0': 1.211712298992385, 'a0': 1.0000583180573135, 'a1': 2.0277399553571427, 'b0': -0.07381952628976587, 'b1': 1.000084507045329, 'b2': 2.3310434806855795e-06, 'c2': 1.0356465264578478, 'p1': 3.50066575950404, 'd1': 2.2330279599161775}\n",
      "current iteration=748\n",
      "residual=1.82442418746676e-09\n",
      "params={'Multiplier': 0.0003841877905846891, 'Ip': 0.32927376026224303, 'αPol': 6.16, 'gamma': 4.553865710304734, 'e0': 1.208040140415393, 'a0': 1.0000718073845123, 'a1': 2.0277399553571427, 'b0': -0.07523912212766465, 'b1': 1.0000833835937513, 'b2': 2.2377486585956063e-06, 'c2': 1.0369951702872178, 'p1': 3.500700770962795, 'd1': 2.2135918799176837}\n",
      "current iteration=749\n",
      "residual=1.7991780512677554e-09\n",
      "params={'Multiplier': 0.00040897094012193325, 'Ip': 0.32927376026224303, 'αPol': 6.16, 'gamma': 4.553851218175897, 'e0': 1.2156210934403737, 'a0': 1.000028806960935, 'a1': 2.0277399553571427, 'b0': -0.0712711525855335, 'b1': 1.0000868999292825, 'b2': 2.5411512896145183e-06, 'c2': 1.0330680576301752, 'p1': 3.5005778374712153, 'd1': 2.279801433744929}\n",
      "current iteration=750\n",
      "residual=1.8088185717098289e-09\n",
      "params={'Multiplier': 0.00041413379258947725, 'Ip': 0.32927376026224303, 'αPol': 6.16, 'gamma': 4.553849701463482, 'e0': 1.21525652513016, 'a0': 1.0000220605944772, 'a1': 2.0277399553571427, 'b0': -0.07085841716854208, 'b1': 1.0000874271663438, 'b2': 2.5902588638437862e-06, 'c2': 1.0325915414037765, 'p1': 3.5005542866931028, 'd1': 2.2917871079106926}\n",
      "current iteration=751\n",
      "residual=1.8003417671001627e-09\n",
      "params={'Multiplier': 0.0004082630089264905, 'Ip': 0.32927376026224303, 'αPol': 6.16, 'gamma': 4.553852409418982, 'e0': 1.214370332214708, 'a0': 1.0000311249603009, 'a1': 2.0277399553571427, 'b0': -0.07159869444884802, 'b1': 1.0000866971360969, 'b2': 2.5241741254955485e-06, 'c2': 1.0333549210984043, 'p1': 3.5005821548969305, 'd1': 2.2770870773572987}\n",
      "current iteration=752\n",
      "residual=1.7919280452775858e-09\n",
      "params={'Multiplier': 0.0004128794076664333, 'Ip': 0.32927376026224303, 'αPol': 6.16, 'gamma': 4.553847454297685, 'e0': 1.2189887439674276, 'a0': 1.0000201008465857, 'a1': 2.0277399553571427, 'b0': -0.07022776616480261, 'b1': 1.0000876455171819, 'b2': 2.6054866386626685e-06, 'c2': 1.032110226170174, 'p1': 3.500557592424084, 'd1': 2.291398385288897}\n",
      "current iteration=753\n",
      "residual=1.7898901012707227e-09\n",
      "params={'Multiplier': 0.00041466761525177365, 'Ip': 0.32927376026224303, 'αPol': 6.16, 'gamma': 4.553846831521921, 'e0': 1.2190924348052268, 'a0': 1.0000176266698326, 'a1': 2.0277399553571427, 'b0': -0.07005315819311432, 'b1': 1.0000878455455402, 'b2': 2.6240707049485223e-06, 'c2': 1.0319089013997482, 'p1': 3.5005492821351054, 'd1': 2.295517178568664}\n",
      "current iteration=754\n",
      "residual=1.7885853683160482e-09\n",
      "params={'Multiplier': 0.0004239987454278671, 'Ip': 0.32927376026224303, 'αPol': 6.16, 'gamma': 4.5538405949574585, 'e0': 1.2233331641515273, 'a0': 1.0000006427778967, 'a1': 2.0277399553571427, 'b0': -0.06833178255743066, 'b1': 1.0000892603280744, 'b2': 2.751976216019969e-06, 'c2': 1.0302445855619122, 'p1': 3.500503548449233, 'd1': 2.320450389400672}\n",
      "current iteration=755\n",
      "residual=1.81400563611809e-09\n",
      "params={'Multiplier': 0.00042244940899693884, 'Ip': 0.32927376026224303, 'αPol': 6.16, 'gamma': 4.553845912540872, 'e0': 1.2168573559245175, 'a0': 1.0000092265149123, 'a1': 2.0277399553571427, 'b0': -0.0697946428718601, 'b1': 1.0000884772667038, 'b2': 2.6868313516281717e-06, 'c2': 1.0314583768185042, 'p1': 3.5005143955694487, 'd1': 2.31220050453097}\n",
      "current iteration=756\n",
      "residual=1.7967334390041898e-09\n",
      "params={'Multiplier': 0.00040143155279215303, 'Ip': 0.32927376026224303, 'αPol': 6.16, 'gamma': 4.55385419227493, 'e0': 1.2151619243639926, 'a0': 1.0000398836061473, 'a1': 2.0277399553571427, 'b0': -0.07208664902872877, 'b1': 1.0000860170197279, 'b2': 2.4611047710898504e-06, 'c2': 1.0339517618523986, 'p1': 3.500613814990803, 'd1': 2.261241624741283}\n",
      "current iteration=757\n",
      "residual=1.7895914366551455e-09\n",
      "params={'Multiplier': 0.0004199119451030464, 'Ip': 0.32927376026224303, 'αPol': 6.16, 'gamma': 4.553843774891058, 'e0': 1.2208454991605482, 'a0': 1.0000087240791222, 'a1': 2.0277399553571427, 'b0': -0.06921012384685661, 'b1': 1.000088576856231, 'b2': 2.6904755561218963e-06, 'c2': 1.0310819507409303, 'p1': 3.50052420104251, 'd1': 2.3090789784798136}\n",
      "current iteration=758\n",
      "residual=1.7840578710000162e-09\n",
      "params={'Multiplier': 0.0004186688575150699, 'Ip': 0.32927376026224303, 'αPol': 6.16, 'gamma': 4.553843576838754, 'e0': 1.2216604277493763, 'a0': 1.0000097533010912, 'a1': 2.0277399553571427, 'b0': -0.06915665391403555, 'b1': 1.0000885060225349, 'b2': 2.6822238106127827e-06, 'c2': 1.0311028489303584, 'p1': 3.5005304442646565, 'd1': 2.306563768969876}\n",
      "current iteration=759\n",
      "residual=1.779587516885391e-09\n",
      "params={'Multiplier': 0.00042692015566714314, 'Ip': 0.32927376026224303, 'αPol': 6.16, 'gamma': 4.553837354172223, 'e0': 1.2263594659629447, 'a0': 0.9999939908868489, 'a1': 2.0277399553571427, 'b0': -0.067440851164665, 'b1': 1.0000898270206717, 'b2': 2.801451448153358e-06, 'c2': 1.0295084238639567, 'p1': 3.500490725871565, 'd1': 2.3290292017002145}\n",
      "current iteration=760\n",
      "residual=1.7933601966725286e-09\n",
      "params={'Multiplier': 0.0004302776838481792, 'Ip': 0.32927376026224303, 'αPol': 6.16, 'gamma': 4.5538377677932145, 'e0': 1.2242212309088312, 'a0': 0.9999913832110903, 'a1': 2.0277399553571427, 'b0': -0.06756664144696423, 'b1': 1.0000900014590401, 'b2': 2.821789960583132e-06, 'c2': 1.0294816363691432, 'p1': 3.500475573287268, 'd1': 2.335559273166161}\n",
      "current iteration=761\n",
      "residual=1.7811534963132563e-09\n",
      "params={'Multiplier': 0.0004183079308915927, 'Ip': 0.32927376026224303, 'αPol': 6.16, 'gamma': 4.553843253475319, 'e0': 1.2224270787708695, 'a0': 1.0000095278202936, 'a1': 2.0277399553571427, 'b0': -0.06905696253911396, 'b1': 1.0000885403754047, 'b2': 2.68492287047728e-06, 'c2': 1.0309991136046484, 'p1': 3.5005310057036945, 'd1': 2.306080151531369}\n",
      "current iteration=762\n",
      "residual=1.779414254639238e-09\n",
      "params={'Multiplier': 0.0004243807368570218, 'Ip': 0.32927376026224303, 'αPol': 6.16, 'gamma': 4.553838862523067, 'e0': 1.225604314332219, 'a0': 0.9999981145683562, 'a1': 2.0277399553571427, 'b0': -0.06784856806211963, 'b1': 1.0000894949735453, 'b2': 2.7711678616260116e-06, 'c2': 1.0298621097070497, 'p1': 3.5005014792241496, 'd1': 2.322561981802221}\n",
      "current iteration=763\n",
      "residual=1.7782877827945308e-09\n",
      "params={'Multiplier': 0.00043255681697906834, 'Ip': 0.32927376026224303, 'αPol': 6.16, 'gamma': 4.553832089075245, 'e0': 1.2312267048524452, 'a0': 0.9999816093723469, 'a1': 2.0277399553571427, 'b0': -0.06597350486875544, 'b1': 1.0000908938922433, 'b2': 2.8989873164242397e-06, 'c2': 1.0281176551349636, 'p1': 3.500461141385795, 'd1': 2.345322877279411}\n",
      "current iteration=764\n",
      "residual=1.775491131951687e-09\n",
      "params={'Multiplier': 0.0004284066833634137, 'Ip': 0.32927376026224303, 'αPol': 6.16, 'gamma': 4.553836227946019, 'e0': 1.2274741331491006, 'a0': 0.9999909930500082, 'a1': 2.0277399553571427, 'b0': -0.06711658038207853, 'b1': 1.0000900909729509, 'b2': 2.825952837293144e-06, 'c2': 1.029158897903159, 'p1': 3.500482457432571, 'd1': 2.3329538758358406}\n",
      "current iteration=765\n",
      "residual=1.77380335489263e-09\n",
      "params={'Multiplier': 0.00043829403910555786, 'Ip': 0.32927376026224303, 'αPol': 6.16, 'gamma': 4.553828732831247, 'e0': 1.2334066475099177, 'a0': 0.9999720860945811, 'a1': 2.0277399553571427, 'b0': -0.06503929428035105, 'b1': 1.0000916864947509, 'b2': 2.9740248781440215e-06, 'c2': 1.0272067701288092, 'p1': 3.5004347674105922, 'd1': 2.3595618501606923}\n",
      "current iteration=766\n",
      "residual=1.776724765052663e-09\n",
      "params={'Multiplier': 0.0004250475782213714, 'Ip': 0.32927376026224303, 'αPol': 6.16, 'gamma': 4.553837331163742, 'e0': 1.2278397786457562, 'a0': 0.9999953114667335, 'a1': 2.0277399553571427, 'b0': -0.0673838689372818, 'b1': 1.0000897623366358, 'b2': 2.7942409273062907e-06, 'c2': 1.029433037729337, 'p1': 3.5004968456995456, 'd1': 2.325109960438585}\n",
      "current iteration=767\n",
      "residual=1.7798831341760572e-09\n",
      "params={'Multiplier': 0.00044549092901469134, 'Ip': 0.32927376026224303, 'αPol': 6.16, 'gamma': 4.553826317937212, 'e0': 1.2334994897531817, 'a0': 0.9999622682352803, 'a1': 2.0277399553571427, 'b0': -0.06436643296226399, 'b1': 1.0000924659340054, 'b2': 3.0523222429579278e-06, 'c2': 1.0264448598741778, 'p1': 3.5004016390815, 'd1': 2.3763571668871117}\n",
      "current iteration=768\n",
      "residual=1.7829619586531025e-09\n",
      "params={'Multiplier': 0.00041910100234743286, 'Ip': 0.32927376026224303, 'αPol': 6.16, 'gamma': 4.553840452447313, 'e0': 1.2262855265888404, 'a0': 1.0000049456351738, 'a1': 2.0277399553571427, 'b0': -0.06824639884708852, 'b1': 1.0000889743897847, 'b2': 2.7209041757458863e-06, 'c2': 1.030301135020471, 'p1': 3.500525093953037, 'd1': 2.3100957862653013}\n",
      "current iteration=769\n",
      "residual=1.77089555454059e-09\n",
      "params={'Multiplier': 0.00043790455881909107, 'Ip': 0.32927376026224303, 'αPol': 6.16, 'gamma': 4.553829365572939, 'e0': 1.2329833067705138, 'a0': 0.9999731969574336, 'a1': 2.0277399553571427, 'b0': -0.06518900066570729, 'b1': 1.000091596106128, 'b2': 2.9661645368772582e-06, 'c2': 1.0273133373752845, 'p1': 3.500436575119422, 'd1': 2.3580271118360483}\n",
      "current iteration=770\n",
      "residual=1.7749413041526525e-09\n",
      "params={'Multiplier': 0.0004506936977467513, 'Ip': 0.32927376026224303, 'αPol': 6.16, 'gamma': 4.55382032121081, 'e0': 1.2399888783454585, 'a0': 0.9999497450132492, 'a1': 2.0277399553571427, 'b0': -0.06266961791615963, 'b1': 1.0000935714005477, 'b2': 3.1552682482338668e-06, 'c2': 1.024918618137312, 'p1': 3.500376066463171, 'd1': 2.3913903072540723}\n",
      "current iteration=771\n",
      "residual=1.8054599463373688e-09\n",
      "params={'Multiplier': 0.00045406928024294135, 'Ip': 0.32927376026224303, 'αPol': 6.16, 'gamma': 4.553817654903255, 'e0': 1.2410316006106146, 'a0': 0.9999430780139055, 'a1': 2.0277399553571427, 'b0': -0.06201302998516034, 'b1': 1.0000940962578668, 'b2': 3.2065118416024774e-06, 'c2': 1.0243620264996172, 'p1': 3.5003592396102823, 'd1': 2.401939922630607}\n",
      "current iteration=772\n",
      "residual=1.7781893252746825e-09\n",
      "params={'Multiplier': 0.00041630032550366014, 'Ip': 0.32927376026224303, 'αPol': 6.16, 'gamma': 4.55384506252713, 'e0': 1.2212208463735301, 'a0': 1.0000138064922148, 'a1': 2.0277399553571427, 'b0': -0.06952921810784697, 'b1': 1.0000881894311153, 'b2': 2.6537522255232204e-06, 'c2': 1.0314193854361628, 'p1': 3.5005412117494212, 'd1': 2.2999359275181255}\n",
      "current iteration=773\n",
      "residual=1.7789159148506277e-09\n",
      "params={'Multiplier': 0.00043685565733719844, 'Ip': 0.32927376026224303, 'αPol': 6.16, 'gamma': 4.55382833594095, 'e0': 1.234874221374413, 'a0': 0.9999727530686386, 'a1': 2.0277399553571427, 'b0': -0.06490133913924433, 'b1': 1.0000916624055276, 'b2': 2.9698126555732784e-06, 'c2': 1.0271162471332351, 'p1': 3.5004403098423937, 'd1': 2.3569144957230814}\n",
      "current iteration=774\n",
      "residual=1.7827711889184326e-09\n",
      "params={'Multiplier': 0.0004352892177043044, 'Ip': 0.32927376026224303, 'αPol': 6.16, 'gamma': 4.55382906407119, 'e0': 1.2346926700963783, 'a0': 0.9999752564279774, 'a1': 2.0277399553571427, 'b0': -0.06509359174503299, 'b1': 1.0000914593491865, 'b2': 2.949993383571936e-06, 'c2': 1.0273270994363437, 'p1': 3.5004483147151255, 'd1': 2.352825853629859}\n",
      "current iteration=775\n",
      "residual=1.7747247885022235e-09\n",
      "params={'Multiplier': 0.0004435737733711198, 'Ip': 0.32927376026224303, 'αPol': 6.16, 'gamma': 4.553826928906139, 'e0': 1.2334193260348294, 'a0': 0.9999650157293629, 'a1': 2.0277399553571427, 'b0': -0.06454841403496403, 'b1': 1.000092242279342, 'b2': 3.0295278590219965e-06, 'c2': 1.0266762884028588, 'p1': 3.5004114133617685, 'd1': 2.371748582751194}\n",
      "current iteration=776\n",
      "residual=1.791393537510466e-09\n",
      "params={'Multiplier': 0.00042886581472678653, 'Ip': 0.32927376026224303, 'αPol': 6.16, 'gamma': 4.553837890249194, 'e0': 1.2247589853356642, 'a0': 0.9999926567967002, 'a1': 2.0277399553571427, 'b0': -0.0675921855950058, 'b1': 1.0000899139059918, 'b2': 2.812716905609136e-06, 'c2': 1.0295191810340203, 'p1': 3.500480812331369, 'd1': 2.332775771330576}\n",
      "current iteration=777\n",
      "residual=1.7746570132137165e-09\n",
      "params={'Multiplier': 0.0004336788832158822, 'Ip': 0.32927376026224303, 'αPol': 6.16, 'gamma': 4.553831270615676, 'e0': 1.2322082054201484, 'a0': 0.9999796065201456, 'a1': 2.0277399553571427, 'b0': -0.06571824020752619, 'b1': 1.0000910729883898, 'b2': 2.9153676468496315e-06, 'c2': 1.0278749252509884, 'p1': 3.500456439119258, 'd1': 2.3478122265793706}\n",
      "current iteration=778\n",
      "residual=1.7755984469468138e-09\n",
      "params={'Multiplier': 0.0004492098659388821, 'Ip': 0.32927376026224303, 'αPol': 6.16, 'gamma': 4.553821304273358, 'e0': 1.2389863878257277, 'a0': 0.9999524011447275, 'a1': 2.0277399553571427, 'b0': -0.06296107033460725, 'b1': 1.0000933394023193, 'b2': 3.1324432188117868e-06, 'c2': 1.0252257273302452, 'p1': 3.5003832080218333, 'd1': 2.3879184270529015}\n",
      "current iteration=779\n",
      "residual=1.7863816690658765e-09\n",
      "params={'Multiplier': 0.0004226342780920822, 'Ip': 0.32927376026224303, 'αPol': 6.16, 'gamma': 4.553837237078498, 'e0': 1.2290035483113129, 'a0': 0.9999976873113633, 'a1': 2.0277399553571427, 'b0': -0.06737052738592589, 'b1': 1.000089588537418, 'b2': 2.7752594828900357e-06, 'c2': 1.0295333486795097, 'p1': 3.500508888434105, 'd1': 2.3199256110049666}\n",
      "current iteration=780\n",
      "residual=1.773680896635276e-09\n",
      "params={'Multiplier': 0.00043972024566352186, 'Ip': 0.32927376026224303, 'αPol': 6.16, 'gamma': 4.553829047722511, 'e0': 1.232375291025107, 'a0': 0.9999711230042335, 'a1': 2.0277399553571427, 'b0': -0.06511745656817947, 'b1': 1.0000917465848655, 'b2': 2.981820938607882e-06, 'c2': 1.0272165947765073, 'p1': 3.500428451420403, 'd1': 2.362240580400111}\n",
      "current iteration=781\n",
      "residual=1.7762191407037808e-09\n",
      "params={'Multiplier': 0.000443699269091824, 'Ip': 0.32927376026224303, 'αPol': 6.16, 'gamma': 4.553824539553573, 'e0': 1.2373498632572293, 'a0': 0.9999613910832688, 'a1': 2.0277399553571427, 'b0': -0.06383143026422775, 'b1': 1.0000926113635904, 'b2': 3.061993272268637e-06, 'c2': 1.0260118076890072, 'p1': 3.500407346754564, 'd1': 2.3738880481936726}\n",
      "current iteration=782\n",
      "residual=1.7728840001769007e-09\n",
      "params={'Multiplier': 0.0004350451692397561, 'Ip': 0.32927376026224303, 'αPol': 6.16, 'gamma': 4.553832798507292, 'e0': 1.2293274734118178, 'a0': 0.999980356504249, 'a1': 2.0277399553571427, 'b0': -0.0661569605146451, 'b1': 1.000090965770365, 'b2': 2.9090803470577242e-06, 'c2': 1.0281817861542422, 'p1': 3.500451170167474, 'd1': 2.3493819203479056}\n",
      "current iteration=783\n",
      "residual=1.765699564730525e-09\n",
      "params={'Multiplier': 0.0004398573422436103, 'Ip': 0.32927376026224303, 'αPol': 6.16, 'gamma': 4.553829187259401, 'e0': 1.2325942569618955, 'a0': 0.9999712496269291, 'a1': 2.0277399553571427, 'b0': -0.06512148591431191, 'b1': 1.000091748659273, 'b2': 2.9820733260521592e-06, 'c2': 1.0271931711785611, 'p1': 3.500428344380227, 'd1': 2.3617870488050996}\n",
      "current iteration=784\n",
      "residual=1.7609544374464506e-09\n",
      "params={'Multiplier': 0.0004435305523317057, 'Ip': 0.32927376026224303, 'αPol': 6.16, 'gamma': 4.553827736351486, 'e0': 1.2332781118913392, 'a0': 0.9999660697542474, 'a1': 2.0277399553571427, 'b0': -0.06469547643709014, 'b1': 1.0000921760427854, 'b2': 3.0240565318528922e-06, 'c2': 1.0267310682876927, 'p1': 3.500411945877169, 'd1': 2.370022078401499}\n",
      "current iteration=785\n",
      "residual=1.7857172526361647e-09\n",
      "params={'Multiplier': 0.0004621944176886883, 'Ip': 0.32927376026224303, 'αPol': 6.16, 'gamma': 4.5538127485729465, 'e0': 1.2450288693476925, 'a0': 0.9999295051607566, 'a1': 2.0277399553571427, 'b0': -0.06059902434106905, 'b1': 1.0000952504426128, 'b2': 3.321377383347368e-06, 'c2': 1.022962121239212, 'p1': 3.5003224208335273, 'd1': 2.421304912283103}\n",
      "current iteration=786\n",
      "residual=1.7716484169626993e-09\n",
      "params={'Multiplier': 0.00042754855268178904, 'Ip': 0.32927376026224303, 'αPol': 6.16, 'gamma': 4.55383698403839, 'e0': 1.2271668672517602, 'a0': 0.9999927311589952, 'a1': 2.0277399553571427, 'b0': -0.0672966696661525, 'b1': 1.0000899546840323, 'b2': 2.81364316512267e-06, 'c2': 1.0293021653279815, 'p1': 3.5004865140236037, 'd1': 2.330237873723869}\n",
      "current iteration=787\n",
      "residual=1.7698642969028175e-09\n",
      "params={'Multiplier': 0.00045358620689939233, 'Ip': 0.32927376026224303, 'αPol': 6.16, 'gamma': 4.553820410510889, 'e0': 1.2382624036798977, 'a0': 0.9999474841238454, 'a1': 2.0277399553571427, 'b0': -0.06272693365740836, 'b1': 1.0000937160066494, 'b2': 3.1721717923538506e-06, 'c2': 1.02491676598037, 'p1': 3.5003647205532613, 'd1': 2.397088393834388}\n",
      "current iteration=788\n",
      "residual=1.7750203565634522e-09\n",
      "params={'Multiplier': 0.0004366739353330873, 'Ip': 0.32927376026224303, 'αPol': 6.16, 'gamma': 4.553832376312399, 'e0': 1.2289336691468389, 'a0': 0.9999786231150293, 'a1': 2.0277399553571427, 'b0': -0.06605847300909853, 'b1': 1.00009108790834, 'b2': 2.9208282406045782e-06, 'c2': 1.0281170955793117, 'p1': 3.500445694260905, 'd1': 2.3529130410875783}\n",
      "current iteration=789\n",
      "residual=1.7720387904187372e-09\n",
      "params={'Multiplier': 0.00042877083326942067, 'Ip': 0.32927376026224303, 'αPol': 6.16, 'gamma': 4.553837826000537, 'e0': 1.2252901843844746, 'a0': 0.9999928574478829, 'a1': 2.0277399553571427, 'b0': -0.06754831347361727, 'b1': 1.0000899095707918, 'b2': 2.811865326579621e-06, 'c2': 1.029483070456612, 'p1': 3.500482330239912, 'd1': 2.331902862036498}\n",
      "current iteration=790\n",
      "residual=1.7724655189525394e-09\n",
      "params={'Multiplier': 0.00043959881470445605, 'Ip': 0.32927376026224303, 'αPol': 6.16, 'gamma': 4.553827843898987, 'e0': 1.2346094382712596, 'a0': 0.999969482343868, 'a1': 2.0277399553571427, 'b0': -0.06474887889202974, 'b1': 1.0000919253972889, 'b2': 2.997238241819744e-06, 'c2': 1.02686293817243, 'p1': 3.5004271711983965, 'd1': 2.3626821918422554}\n",
      "current iteration=791\n",
      "residual=1.771532628328207e-09\n",
      "params={'Multiplier': 0.00043194352355258037, 'Ip': 0.32927376026224303, 'αPol': 6.16, 'gamma': 4.553833474303829, 'e0': 1.2303611020684406, 'a0': 0.9999839830524838, 'a1': 2.0277399553571427, 'b0': -0.06629903083757738, 'b1': 1.0000907076498722, 'b2': 2.882804817749829e-06, 'c2': 1.0283412171372968, 'p1': 3.500464603664395, 'd1': 2.3420395981524935}\n",
      "current iteration=792\n",
      "residual=1.7660920983520683e-09\n",
      "params={'Multiplier': 0.00044146807487910333, 'Ip': 0.32927376026224303, 'αPol': 6.16, 'gamma': 4.5538295733319005, 'e0': 1.2312025459881797, 'a0': 0.9999702675681216, 'a1': 2.0277399553571427, 'b0': -0.06524536279102548, 'b1': 1.0000918038731252, 'b2': 2.9897145723545293e-06, 'c2': 1.0272355591604045, 'p1': 3.5004212108162296, 'd1': 2.3648167320635327}\n",
      "current iteration=793\n",
      "residual=1.7624529073882767e-09\n",
      "params={'Multiplier': 0.00043746899976915277, 'Ip': 0.32927376026224303, 'αPol': 6.16, 'gamma': 4.553832279216467, 'e0': 1.229563706064761, 'a0': 0.9999774242883843, 'a1': 2.0277399553571427, 'b0': -0.06596552242033552, 'b1': 1.0000912138424398, 'b2': 2.9340138845146413e-06, 'c2': 1.027909482142125, 'p1': 3.500440171206249, 'd1': 2.354116031028831}\n",
      "current iteration=794\n",
      "residual=1.7643063114176862e-09\n",
      "params={'Multiplier': 0.0004355976358924041, 'Ip': 0.32927376026224303, 'αPol': 6.16, 'gamma': 4.553832610623993, 'e0': 1.2300324606039084, 'a0': 0.9999796476355693, 'a1': 2.0277399553571427, 'b0': -0.0660569733029383, 'b1': 1.0000910472038393, 'b2': 2.9167781219197053e-06, 'c2': 1.0280382563871688, 'p1': 3.5004488311535353, 'd1': 2.3498133789119793}\n",
      "current iteration=795\n",
      "residual=1.7663229865055503e-09\n",
      "params={'Multiplier': 0.0004403868051040538, 'Ip': 0.32927376026224303, 'αPol': 6.16, 'gamma': 4.5538288222625525, 'e0': 1.2332215729046534, 'a0': 0.9999702723618228, 'a1': 2.0277399553571427, 'b0': -0.06499747191413129, 'b1': 1.0000918443050342, 'b2': 2.9911741878940745e-06, 'c2': 1.0270444321662202, 'p1': 3.5004256446036326, 'd1': 2.362758524655608}\n",
      "current iteration=796\n",
      "residual=1.7630150037930578e-09\n",
      "params={'Multiplier': 0.00043598592647475787, 'Ip': 0.32927376026224303, 'αPol': 6.16, 'gamma': 4.5538339725435835, 'e0': 1.2276630516579146, 'a0': 0.9999813045258011, 'a1': 2.0277399553571427, 'b0': -0.06645527214116698, 'b1': 1.0000908684596583, 'b2': 2.90191208929258e-06, 'c2': 1.0283997052030773, 'p1': 3.5004493382537873, 'd1': 2.3494734843804985}\n",
      "current iteration=797\n",
      "residual=1.767926241747857e-09\n",
      "params={'Multiplier': 0.00044837253002649735, 'Ip': 0.32927376026224303, 'αPol': 6.16, 'gamma': 4.553823219750738, 'e0': 1.2374599465250777, 'a0': 0.9999556188375848, 'a1': 2.0277399553571427, 'b0': -0.06343722929308938, 'b1': 1.0000930760639066, 'b2': 3.108941991625258e-06, 'c2': 1.0255644364488419, 'p1': 3.500387580813469, 'd1': 2.3837868523057897}\n",
      "current iteration=798\n",
      "residual=1.759610139514135e-09\n",
      "params={'Multiplier': 0.0004538544456417215, 'Ip': 0.32927376026224303, 'αPol': 6.16, 'gamma': 4.5538213088553725, 'e0': 1.2376406963041138, 'a0': 0.9999483226623288, 'a1': 2.0277399553571427, 'b0': -0.06291698502594154, 'b1': 1.0000936552266317, 'b2': 3.167882656640586e-06, 'c2': 1.0249981738414147, 'p1': 3.5003636103866613, 'd1': 2.396174597254015}\n",
      "current iteration=799\n",
      "residual=1.7591349378040578e-09\n",
      "params={'Multiplier': 0.0004673023423794609, 'Ip': 0.32927376026224303, 'αPol': 6.16, 'gamma': 4.553813471264047, 'e0': 1.2428822151059902, 'a0': 0.9999261184148142, 'a1': 2.0277399553571427, 'b0': -0.06072714270583607, 'b1': 1.0000955054978837, 'b2': 3.3528763485612956e-06, 'c2': 1.0228492161499454, 'p1': 3.50030215856479, 'd1': 2.429189073820184}\n",
      "current iteration=800\n",
      "residual=1.7590205248780845e-09\n",
      "params={'Multiplier': 0.00045644776008268995, 'Ip': 0.32927376026224303, 'αPol': 6.16, 'gamma': 4.553820817981896, 'e0': 1.2369478125401714, 'a0': 0.9999454978410887, 'a1': 2.0277399553571427, 'b0': -0.0628002462281684, 'b1': 1.0000938618304123, 'b2': 3.189812903592326e-06, 'c2': 1.02485941310229, 'p1': 3.500353031727095, 'd1': 2.401788132759736}\n",
      "current iteration=801\n",
      "residual=1.764280464436311e-09\n",
      "params={'Multiplier': 0.0004689537836818358, 'Ip': 0.32927376026224303, 'αPol': 6.16, 'gamma': 4.55381448982105, 'e0': 1.2402429882639492, 'a0': 0.9999262552360588, 'a1': 2.0277399553571427, 'b0': -0.06105085392346393, 'b1': 1.0000954389206473, 'b2': 3.349141070252415e-06, 'c2': 1.023120502683656, 'p1': 3.5002972457557346, 'd1': 2.431700022707995}\n",
      "current iteration=802\n",
      "residual=1.751787722248466e-09\n",
      "params={'Multiplier': 0.00045409094153281426, 'Ip': 0.32927376026224303, 'αPol': 6.16, 'gamma': 4.553823217194512, 'e0': 1.2351173205796968, 'a0': 0.9999507441126375, 'a1': 2.0277399553571427, 'b0': -0.0634325255125307, 'b1': 1.0000934265190298, 'b2': 3.1484291711514345e-06, 'c2': 1.0253955044159846, 'p1': 3.5003643515948704, 'd1': 2.394535357228772}\n",
      "current iteration=803\n",
      "residual=1.7443141112266357e-09\n",
      "params={'Multiplier': 0.00046229445996692764, 'Ip': 0.32927376026224303, 'αPol': 6.16, 'gamma': 4.553820143005326, 'e0': 1.2361845188387606, 'a0': 0.9999395176904545, 'a1': 2.0277399553571427, 'b0': -0.06255428793594242, 'b1': 1.000094341725469, 'b2': 3.2415992947676386e-06, 'c2': 1.0244371915707675, 'p1': 3.500328239831444, 'd1': 2.4128035635674427}\n",
      "current iteration=804\n",
      "residual=1.7569336992987994e-09\n",
      "params={'Multiplier': 0.000440106188479894, 'Ip': 0.32927376026224303, 'αPol': 6.16, 'gamma': 4.553832118755498, 'e0': 1.2294248620004624, 'a0': 0.9999748636595754, 'a1': 2.0277399553571427, 'b0': -0.06586006337653644, 'b1': 1.0000914317622698, 'b2': 2.956524907116176e-06, 'c2': 1.0276965333487602, 'p1': 3.5004289100170656, 'd1': 2.3586156824324833}\n",
      "current iteration=805\n",
      "residual=1.7559820397792346e-09\n",
      "params={'Multiplier': 0.00044361797676695236, 'Ip': 0.32927376026224303, 'αPol': 6.16, 'gamma': 4.55383108931656, 'e0': 1.2286203055391325, 'a0': 0.9999705779100945, 'a1': 2.0277399553571427, 'b0': -0.06563433455754482, 'b1': 1.0000917428446938, 'b2': 2.987857162795038e-06, 'c2': 1.0274747965610238, 'p1': 3.500414315598154, 'd1': 2.366873726893216}\n",
      "current iteration=806\n",
      "residual=1.7559192065684837e-09\n",
      "params={'Multiplier': 0.0004522863444510472, 'Ip': 0.32927376026224303, 'αPol': 6.16, 'gamma': 4.553825940215518, 'e0': 1.2319360819641214, 'a0': 0.9999559854955058, 'a1': 2.0277399553571427, 'b0': -0.06420146446518561, 'b1': 1.0000929543114996, 'b2': 3.10488415911081e-06, 'c2': 1.0260805502561734, 'p1': 3.500373986006561, 'd1': 2.388728113731961}\n",
      "current iteration=807\n",
      "residual=1.74853898124688e-09\n",
      "params={'Multiplier': 0.00045336863094325164, 'Ip': 0.32927376026224303, 'αPol': 6.16, 'gamma': 4.553824462522904, 'e0': 1.2341020231457511, 'a0': 0.9999531338747084, 'a1': 2.0277399553571427, 'b0': -0.06374479392312345, 'b1': 1.0000932248310814, 'b2': 3.1296722904361474e-06, 'c2': 1.0256586068132643, 'p1': 3.5003689748320235, 'd1': 2.3914524463511833}\n",
      "current iteration=808\n",
      "residual=1.7497383193056176e-09\n",
      "params={'Multiplier': 0.00046297798018091196, 'Ip': 0.32927376026224303, 'αPol': 6.16, 'gamma': 4.553819795610669, 'e0': 1.236086886466906, 'a0': 0.999938451055478, 'a1': 2.0277399553571427, 'b0': -0.062470747535247645, 'b1': 1.000094417025792, 'b2': 3.249205881017403e-06, 'c2': 1.0243812763388447, 'p1': 3.500325383228348, 'd1': 2.41481077499108}\n",
      "current iteration=809\n",
      "residual=1.7470870769223958e-09\n",
      "params={'Multiplier': 0.0004680712941685927, 'Ip': 0.32927376026224303, 'αPol': 6.16, 'gamma': 4.553815598304589, 'e0': 1.2401447072947795, 'a0': 0.999928223471554, 'a1': 2.0277399553571427, 'b0': -0.061275543775835106, 'b1': 1.0000953054831787, 'b2': 3.3369215239886785e-06, 'c2': 1.023217752603972, 'p1': 3.5003000851219315, 'd1': 2.4282331965498445}\n",
      "current iteration=810\n",
      "residual=1.7432666525319067e-09\n",
      "params={'Multiplier': 0.0004727716634623791, 'Ip': 0.32927376026224303, 'αPol': 6.16, 'gamma': 4.553813955449329, 'e0': 1.2403590482573965, 'a0': 0.9999222635457434, 'a1': 2.0277399553571427, 'b0': -0.06082729776776652, 'b1': 1.0000957784285418, 'b2': 3.385943913025713e-06, 'c2': 1.022769583623986, 'p1': 3.500281234952233, 'd1': 2.4384207583171786}\n",
      "current iteration=811\n",
      "residual=1.7416269108523894e-09\n",
      "params={'Multiplier': 0.0004909373921185844, 'Ip': 0.32927376026224303, 'αPol': 6.16, 'gamma': 4.553804793566013, 'e0': 1.245761590401612, 'a0': 0.9998946831763783, 'a1': 2.0277399553571427, 'b0': -0.058258185441482035, 'b1': 1.0000980607215186, 'b2': 3.624043192651527e-06, 'c2': 1.020204014382946, 'p1': 3.5002017668206706, 'd1': 2.4806458229605095}\n",
      "current iteration=812\n",
      "residual=1.7428020736987337e-09\n",
      "params={'Multiplier': 0.0004760378041158697, 'Ip': 0.32927376026224303, 'αPol': 6.16, 'gamma': 4.553813909757092, 'e0': 1.2391379416569945, 'a0': 0.9999193407637097, 'a1': 2.0277399553571427, 'b0': -0.060809885551890236, 'b1': 1.0000959931639724, 'b2': 3.4112259408303203e-06, 'c2': 1.022640634827881, 'p1': 3.500267424471616, 'd1': 2.444614229901613}\n",
      "current iteration=813\n",
      "residual=1.7457279966002485e-09\n",
      "params={'Multiplier': 0.0004537535758041278, 'Ip': 0.32927376026224303, 'αPol': 6.16, 'gamma': 4.5538282625431545, 'e0': 1.2287899930439528, 'a0': 0.9999579365724619, 'a1': 2.0277399553571427, 'b0': -0.06479476785235516, 'b1': 1.0000927612421098, 'b2': 3.090629632440667e-06, 'c2': 1.0264803448351487, 'p1': 3.5003702649677018, 'd1': 2.388502790212669}\n",
      "current iteration=814\n",
      "residual=1.7353637920379888e-09\n",
      "params={'Multiplier': 0.0004640319502978718, 'Ip': 0.32927376026224303, 'αPol': 6.16, 'gamma': 4.5538224047374385, 'e0': 1.233087227449527, 'a0': 0.9999410448920729, 'a1': 2.0277399553571427, 'b0': -0.06312056865486018, 'b1': 1.0000941847919398, 'b2': 3.231016448612678e-06, 'c2': 1.0247927516877937, 'p1': 3.5003228384540535, 'd1': 2.4132351734843707}\n",
      "current iteration=815\n",
      "residual=1.7307123934905459e-09\n",
      "params={'Multiplier': 0.0004678475138947258, 'Ip': 0.32927376026224303, 'αPol': 6.16, 'gamma': 4.553823198115211, 'e0': 1.2311575618905701, 'a0': 0.9999388184175757, 'a1': 2.0277399553571427, 'b0': -0.06328072986820607, 'b1': 1.0000943462727032, 'b2': 3.251717375807317e-06, 'c2': 1.0247594217137816, 'p1': 3.500307741817357, 'd1': 2.4189600482979547}\n",
      "current iteration=816\n",
      "residual=1.753486339402497e-09\n",
      "params={'Multiplier': 0.0004865362620868341, 'Ip': 0.32927376026224303, 'αPol': 6.16, 'gamma': 4.553809319836061, 'e0': 1.2409602126153785, 'a0': 0.9999044700271789, 'a1': 2.0277399553571427, 'b0': -0.05954488480482609, 'b1': 1.0000971977620838, 'b2': 3.5374542823873867e-06, 'c2': 1.0213730120015307, 'p1': 3.500222726518345, 'd1': 2.468566092628677}\n",
      "current iteration=817\n",
      "residual=1.736222247313706e-09\n",
      "params={'Multiplier': 0.0004916463941054827, 'Ip': 0.32927376026224303, 'αPol': 6.16, 'gamma': 4.5538059953789585, 'e0': 1.2442361223242333, 'a0': 0.9998955342005291, 'a1': 2.0277399553571427, 'b0': -0.05855272367327395, 'b1': 1.000097977663123, 'b2': 3.6182852678479094e-06, 'c2': 1.0203756577810759, 'p1': 3.5001990031210184, 'd1': 2.4806523102873648}\n",
      "current iteration=818\n",
      "residual=1.730022837020454e-09\n",
      "params={'Multiplier': 0.0004906013746625026, 'Ip': 0.32927376026224303, 'αPol': 6.16, 'gamma': 4.553807155512539, 'e0': 1.2433769070380496, 'a0': 0.9998980363551594, 'a1': 2.0277399553571427, 'b0': -0.05885584560725082, 'b1': 1.0000977708666823, 'b2': 3.5973762451124713e-06, 'c2': 1.0206264424311948, 'p1': 3.500204336137918, 'd1': 2.47714436365165}\n",
      "current iteration=819\n",
      "residual=1.7264304404958455e-09\n",
      "params={'Multiplier': 0.0005103437995593874, 'Ip': 0.32927376026224303, 'αPol': 6.16, 'gamma': 4.553797763161315, 'e0': 1.249102765989909, 'a0': 0.9998690617878921, 'a1': 2.0277399553571427, 'b0': -0.056183036178283435, 'b1': 1.000100179144189, 'b2': 3.857211476665512e-06, 'c2': 1.017904374701993, 'p1': 3.500119511199674, 'd1': 2.521429693532282}\n",
      "current iteration=820\n",
      "residual=1.747505631380075e-09\n",
      "params={'Multiplier': 0.0004607726137467738, 'Ip': 0.32927376026224303, 'αPol': 6.16, 'gamma': 4.5538214645568855, 'e0': 1.235977072078001, 'a0': 0.9999424701741384, 'a1': 2.0277399553571427, 'b0': -0.06284005554230182, 'b1': 1.0000941236925702, 'b2': 3.2204611903896563e-06, 'c2': 1.0246370369636895, 'p1': 3.5003349525650935, 'd1': 2.4078346562472386}\n",
      "current iteration=821\n",
      "residual=1.7296483963394909e-09\n",
      "params={'Multiplier': 0.00048382378534472803, 'Ip': 0.32927376026224303, 'αPol': 6.16, 'gamma': 4.55381132257148, 'e0': 1.2408283639598907, 'a0': 0.9999092929692622, 'a1': 2.0277399553571427, 'b0': -0.05998805441329108, 'b1': 1.0000968457622268, 'b2': 3.5014751418316337e-06, 'c2': 1.0216795183485035, 'p1': 3.500234209722949, 'd1': 2.4601827994738747}\n",
      "current iteration=822\n",
      "residual=1.7296178014648957e-09\n",
      "params={'Multiplier': 0.0005000226817609699, 'Ip': 0.32927376026224303, 'αPol': 6.16, 'gamma': 4.553804027669149, 'e0': 1.2441608836523632, 'a0': 0.999885841970953, 'a1': 2.0277399553571427, 'b0': -0.05796266012344882, 'b1': 1.0000987621431017, 'b2': 3.7060764699337057e-06, 'c2': 1.0196099254351534, 'p1': 3.500163665093605, 'd1': 2.497353984442912}\n",
      "current iteration=823\n",
      "residual=1.7496341320523024e-09\n",
      "params={'Multiplier': 0.0005002887552608692, 'Ip': 0.32927376026224303, 'αPol': 6.16, 'gamma': 4.553803538257567, 'e0': 1.2439214403037262, 'a0': 0.9998851800302778, 'a1': 2.0277399553571427, 'b0': -0.05789191942049984, 'b1': 1.0000987909717425, 'b2': 3.708518789613535e-06, 'c2': 1.0196246867278753, 'p1': 3.500163429867809, 'd1': 2.498853959643652}\n",
      "current iteration=824\n",
      "residual=1.7367276746548317e-09\n",
      "params={'Multiplier': 0.00047049905055318586, 'Ip': 0.32927376026224303, 'αPol': 6.16, 'gamma': 4.553816982981996, 'e0': 1.237962506026467, 'a0': 0.999928147637547, 'a1': 2.0277399553571427, 'b0': -0.061603021511851326, 'b1': 1.0000952905123828, 'b2': 3.3392487190919695e-06, 'c2': 1.023382900135044, 'p1': 3.500292071891908, 'd1': 2.4305687560746083}\n",
      "current iteration=825\n",
      "residual=1.7226060772816875e-09\n",
      "params={'Multiplier': 0.0004932394364330905, 'Ip': 0.32927376026224303, 'αPol': 6.16, 'gamma': 4.553809681445199, 'e0': 1.2393155923872823, 'a0': 0.9998994115647406, 'a1': 2.0277399553571427, 'b0': -0.05952192673416981, 'b1': 1.0000976061870146, 'b2': 3.586171483771494e-06, 'c2': 1.0210746927106003, 'p1': 3.5001966946667604, 'd1': 2.4788849244717377}\n",
      "current iteration=826\n",
      "residual=1.7212791483859045e-09\n",
      "params={'Multiplier': 0.0005060709793495155, 'Ip': 0.32927376026224303, 'αPol': 6.16, 'gamma': 4.553806723015531, 'e0': 1.238901063601035, 'a0': 0.9998850056120794, 'a1': 2.0277399553571427, 'b0': -0.05864511821333718, 'b1': 1.0000987565389132, 'b2': 3.7141626620940116e-06, 'c2': 1.020003933756158, 'p1': 3.5001449994378353, 'd1': 2.504235916096488}\n",
      "current iteration=827\n",
      "residual=1.7316852336353466e-09\n",
      "params={'Multiplier': 0.000518991860399276, 'Ip': 0.32927376026224303, 'αPol': 6.16, 'gamma': 4.553792709301779, 'e0': 1.252709822853865, 'a0': 0.9998551122777528, 'a1': 2.0277399553571427, 'b0': -0.05477277272984615, 'b1': 1.0001013494872666, 'b2': 3.98507010501703e-06, 'c2': 1.016528206898305, 'p1': 3.500081461708191, 'd1': 2.5419075756119125}\n",
      "current iteration=828\n",
      "residual=1.721145556277524e-09\n",
      "params={'Multiplier': 0.0005215703992228482, 'Ip': 0.32927376026224303, 'αPol': 6.16, 'gamma': 4.553795342098542, 'e0': 1.248607707424401, 'a0': 0.9998566500750821, 'a1': 2.0277399553571427, 'b0': -0.055456949605039635, 'b1': 1.000101170556338, 'b2': 3.972058938872536e-06, 'c2': 1.016984267824226, 'p1': 3.5000741312220285, 'd1': 2.5433803177209096}\n",
      "current iteration=829\n",
      "residual=1.732980927587697e-09\n",
      "params={'Multiplier': 0.0005525504757745159, 'Ip': 0.32927376026224303, 'αPol': 6.16, 'gamma': 4.5537829416456175, 'e0': 1.2548256735461072, 'a0': 0.9998152162757353, 'a1': 2.0277399553571427, 'b0': -0.05190828043958823, 'b1': 1.0001045849715977, 'b2': 4.3650976144782305e-06, 'c2': 1.0132672737090358, 'p1': 3.499947076912913, 'd1': 2.6088284216218627}\n",
      "current iteration=830\n",
      "residual=1.7162393676911095e-09\n",
      "params={'Multiplier': 0.0005164060168753037, 'Ip': 0.32927376026224303, 'αPol': 6.16, 'gamma': 4.5537978618148705, 'e0': 1.2475457107056798, 'a0': 0.999864288861489, 'a1': 2.0277399553571427, 'b0': -0.056130764799721705, 'b1': 1.0001005545963768, 'b2': 3.903416844197594e-06, 'c2': 1.0176458035461433, 'p1': 3.5000962879350666, 'd1': 2.5312551817705624}\n",
      "current iteration=831\n",
      "residual=1.7121850608329704e-09\n",
      "params={'Multiplier': 0.0005372068898307214, 'Ip': 0.32927376026224303, 'αPol': 6.16, 'gamma': 4.553789837843954, 'e0': 1.2517525146162112, 'a0': 0.9998367629139739, 'a1': 2.0277399553571427, 'b0': -0.05379120442363744, 'b1': 1.0001028353125012, 'b2': 4.161945845737591e-06, 'c2': 1.0151526378362632, 'p1': 3.5000107196646497, 'd1': 2.574646198922387}\n",
      "current iteration=832\n",
      "residual=1.7126224165548987e-09\n",
      "params={'Multiplier': 0.0005103018945596949, 'Ip': 0.32927376026224303, 'αPol': 6.16, 'gamma': 4.55380398686136, 'e0': 1.242117985594689, 'a0': 0.9998773623936399, 'a1': 2.0277399553571427, 'b0': -0.05778906870656099, 'b1': 1.0000994419570919, 'b2': 3.7878645120503762e-06, 'c2': 1.0190684638119796, 'p1': 3.500123736156961, 'd1': 2.513966120222319}\n",
      "current iteration=833\n",
      "residual=1.7235250583961262e-09\n",
      "params={'Multiplier': 0.0005399018047237414, 'Ip': 0.32927376026224303, 'αPol': 6.16, 'gamma': 4.553789198221676, 'e0': 1.2507526913140894, 'a0': 0.999833740890604, 'a1': 2.0277399553571427, 'b0': -0.05368144207513361, 'b1': 1.0001030424550124, 'b2': 4.187552506751402e-06, 'c2': 1.015035140568289, 'p1': 3.4999997639336793, 'd1': 2.580871007825106}\n",
      "current iteration=834\n",
      "residual=1.7082017788969826e-09\n",
      "params={'Multiplier': 0.0005274457699496748, 'Ip': 0.32927376026224303, 'αPol': 6.16, 'gamma': 4.553796826392877, 'e0': 1.2457775374907105, 'a0': 0.999853995659781, 'a1': 2.0277399553571427, 'b0': -0.05575748359408293, 'b1': 1.0001013682627815, 'b2': 4.001470102155125e-06, 'c2': 1.0169671010116759, 'p1': 3.500052984871088, 'd1': 2.5507092963011107}\n",
      "current iteration=835\n",
      "residual=1.7053931693975274e-09\n",
      "params={'Multiplier': 0.0005458177488507632, 'Ip': 0.32927376026224303, 'αPol': 6.16, 'gamma': 4.5537922418999, 'e0': 1.246548343241396, 'a0': 0.9998332263916567, 'a1': 2.0277399553571427, 'b0': -0.054359863554487436, 'b1': 1.0001030635625672, 'b2': 4.200293197476057e-06, 'c2': 1.0152648124941388, 'p1': 3.4999799757451564, 'd1': 2.58578297752137}\n",
      "current iteration=836\n",
      "residual=1.7157299515534791e-09\n",
      "params={'Multiplier': 0.0005050876641982116, 'Ip': 0.32927376026224303, 'αPol': 6.16, 'gamma': 4.553810018989788, 'e0': 1.2360797729898492, 'a0': 0.9998900404045017, 'a1': 2.0277399553571427, 'b0': -0.059454852702439, 'b1': 1.0000983392537124, 'b2': 3.6745902345369785e-06, 'c2': 1.020562089150781, 'p1': 3.5001502290923474, 'd1': 2.498200438378148}\n",
      "current iteration=837\n",
      "residual=1.730516249100764e-09\n",
      "params={'Multiplier': 0.000566187986701272, 'Ip': 0.32927376026224303, 'αPol': 6.16, 'gamma': 4.553776894352289, 'e0': 1.2586308631051466, 'a0': 0.9997965786789615, 'a1': 2.0277399553571427, 'b0': -0.05018172013092566, 'b1': 1.0001061410641225, 'b2': 4.5482735471225055e-06, 'c2': 1.0115111892272506, 'p1': 3.4998924464305956, 'd1': 2.637306248734616}\n",
      "current iteration=838\n",
      "residual=1.7150777633494727e-09\n",
      "params={'Multiplier': 0.0005407230676687247, 'Ip': 0.32927376026224303, 'αPol': 6.16, 'gamma': 4.553788470292612, 'e0': 1.2517547580907267, 'a0': 0.9998321386067793, 'a1': 2.0277399553571427, 'b0': -0.05345647256524576, 'b1': 1.0001031923663999, 'b2': 4.203788049883528e-06, 'c2': 1.0148157116913794, 'p1': 3.4999962702789404, 'd1': 2.5826105975103184}\n",
      "current iteration=839\n",
      "residual=1.730982067603536e-09\n",
      "params={'Multiplier': 0.000560740598655296, 'Ip': 0.32927376026224303, 'αPol': 6.16, 'gamma': 4.553784199439543, 'e0': 1.2511272443668822, 'a0': 0.9998106732468173, 'a1': 2.0277399553571427, 'b0': -0.052168079216231594, 'b1': 1.0001049108956115, 'b2': 4.412165159006776e-06, 'c2': 1.0132068250887614, 'p1': 3.499918390639594, 'd1': 2.6204390124943795}\n",
      "current iteration=840\n",
      "residual=1.7182128215862187e-09\n",
      "params={'Multiplier': 0.000502520669152795, 'Ip': 0.32927376026224303, 'αPol': 6.16, 'gamma': 4.553804541788356, 'e0': 1.2434019881089666, 'a0': 0.9998846380356466, 'a1': 2.0277399553571427, 'b0': -0.05803306061402621, 'b1': 1.0000988620456341, 'b2': 3.719289875858678e-06, 'c2': 1.0195582759036559, 'p1': 3.5001552549536097, 'd1': 2.5001871771828768}\n",
      "current iteration=841\n",
      "residual=1.7051883225404995e-09\n",
      "params={'Multiplier': 0.0005440977677403369, 'Ip': 0.32927376026224303, 'αPol': 6.16, 'gamma': 4.55379159716542, 'e0': 1.2476403235015199, 'a0': 0.999833883451938, 'a1': 2.0277399553571427, 'b0': -0.054207553604189315, 'b1': 1.000103014495361, 'b2': 4.191465443170728e-06, 'c2': 1.0152600527395315, 'p1': 3.4999872532429688, 'd1': 2.583723390707518}\n",
      "current iteration=842\n",
      "residual=1.7052380052190725e-09\n",
      "params={'Multiplier': 0.0005668340827061913, 'Ip': 0.32927376026224303, 'αPol': 6.16, 'gamma': 4.553785381913673, 'e0': 1.2493805425045745, 'a0': 0.9998079041964156, 'a1': 2.0277399553571427, 'b0': -0.05233000034455956, 'b1': 1.0001051406714214, 'b2': 4.445357584259568e-06, 'c2': 1.0130883823679617, 'p1': 3.4998990473173466, 'd1': 2.62697496728453}\n",
      "current iteration=843\n",
      "residual=1.7103634214694132e-09\n",
      "params={'Multiplier': 0.0005402517337967927, 'Ip': 0.32927376026224303, 'αPol': 6.16, 'gamma': 4.55379662847399, 'e0': 1.2424069355491563, 'a0': 0.9998436279658459, 'a1': 2.0277399553571427, 'b0': -0.05559208103453586, 'b1': 1.0001021645645471, 'b2': 4.101075952167577e-06, 'c2': 1.0164346476948447, 'p1': 3.5000049555461663, 'd1': 2.572073698077744}\n",
      "current iteration=844\n",
      "residual=1.719836701292922e-09\n",
      "params={'Multiplier': 0.0005107520607464666, 'Ip': 0.32927376026224303, 'αPol': 6.16, 'gamma': 4.553806679464261, 'e0': 1.2390906015001302, 'a0': 0.9998809262797238, 'a1': 2.0277399553571427, 'b0': -0.05847580292956616, 'b1': 1.0000991256755996, 'b2': 3.757746815047369e-06, 'c2': 1.0195860996544903, 'p1': 3.5001257411345854, 'd1': 2.51088842278838}\n",
      "current iteration=845\n",
      "residual=1.7128088733818197e-09\n",
      "params={'Multiplier': 0.0005457061973747068, 'Ip': 0.32927376026224303, 'αPol': 6.16, 'gamma': 4.5537891459601525, 'e0': 1.2509804347089033, 'a0': 0.9998288456926807, 'a1': 2.0277399553571427, 'b0': -0.05347826373460837, 'b1': 1.0001034854190163, 'b2': 4.243107638135513e-06, 'c2': 1.0145348882981242, 'p1': 3.4999766539694512, 'd1': 2.588869068153156}\n",
      "current iteration=846\n",
      "residual=1.7212250961576106e-09\n",
      "params={'Multiplier': 0.0005346703487910665, 'Ip': 0.32927376026224303, 'αPol': 6.16, 'gamma': 4.553799287649301, 'e0': 1.2417453649136054, 'a0': 0.9998516403501279, 'a1': 2.0277399553571427, 'b0': -0.05627069516881966, 'b1': 1.0001015343741884, 'b2': 4.029935440685861e-06, 'c2': 1.0170609429993243, 'p1': 3.5000280267353996, 'd1': 2.558776454520146}\n",
      "current iteration=847\n",
      "residual=1.7111441348210877e-09\n",
      "params={'Multiplier': 0.0005248301374657371, 'Ip': 0.32927376026224303, 'αPol': 6.16, 'gamma': 4.553796328486229, 'e0': 1.2468916355393218, 'a0': 0.9998553976438349, 'a1': 2.0277399553571427, 'b0': -0.05566038599598464, 'b1': 1.000101261510801, 'b2': 3.9864888197183035e-06, 'c2': 1.0170034363653309, 'p1': 3.5000626051003882, 'd1': 2.5472288123233153}\n",
      "current iteration=848\n",
      "residual=1.7153015221959863e-09\n",
      "params={'Multiplier': 0.000548632648709968, 'Ip': 0.32927376026224303, 'αPol': 6.16, 'gamma': 4.553785880088208, 'e0': 1.25282701751442, 'a0': 0.9998222584217468, 'a1': 2.0277399553571427, 'b0': -0.05268875845757685, 'b1': 1.0001040064219018, 'b2': 4.2998469289567964e-06, 'c2': 1.0139465580063032, 'p1': 3.499963789615519, 'd1': 2.5985857323809003}\n",
      "current iteration=849\n",
      "residual=1.7075518300058412e-09\n",
      "params={'Multiplier': 0.0005667714987943606, 'Ip': 0.32927376026224303, 'αPol': 6.16, 'gamma': 4.55378428542407, 'e0': 1.2503964398728074, 'a0': 0.9998060707459988, 'a1': 2.0277399553571427, 'b0': -0.05206264034182694, 'b1': 1.0001052989270716, 'b2': 4.462927735593425e-06, 'c2': 1.0128536966112631, 'p1': 3.499895982728503, 'd1': 2.6290247358851384}\n",
      "current iteration=850\n",
      "residual=1.7160523130283153e-09\n",
      "params={'Multiplier': 0.0005767849268732972, 'Ip': 0.32927376026224303, 'αPol': 6.16, 'gamma': 4.553773661510001, 'e0': 1.2605985149066643, 'a0': 0.9997838744512907, 'a1': 2.0277399553571427, 'b0': -0.04916240578129172, 'b1': 1.00010721365356, 'b2': 4.679938924612159e-06, 'c2': 1.0103157844881807, 'p1': 3.499850159317436, 'd1': 2.6572317923199003}\n",
      "current iteration=851\n",
      "residual=1.708911074727798e-09\n",
      "params={'Multiplier': 0.0005225655638251281, 'Ip': 0.32927376026224303, 'αPol': 6.16, 'gamma': 4.55380092961959, 'e0': 1.2422032595184858, 'a0': 0.9998634989121256, 'a1': 2.0277399553571427, 'b0': -0.05688174097215218, 'b1': 1.0001005578537496, 'b2': 3.914544296490519e-06, 'c2': 1.017995980077537, 'p1': 3.5000752116489515, 'd1': 2.5379014496793526}\n",
      "current iteration=852\n",
      "residual=1.7151234608966014e-09\n",
      "params={'Multiplier': 0.0005269286331627265, 'Ip': 0.32927376026224303, 'αPol': 6.16, 'gamma': 4.553800810317294, 'e0': 1.2417133576462258, 'a0': 0.9998599045219312, 'a1': 2.0277399553571427, 'b0': -0.05676709652906894, 'b1': 1.0001008567719194, 'b2': 3.950610363068208e-06, 'c2': 1.0177305951904867, 'p1': 3.5000588832009414, 'd1': 2.5445752763819427}\n",
      "current iteration=853\n",
      "residual=1.7083944790431402e-09\n",
      "params={'Multiplier': 0.0005323135294811321, 'Ip': 0.32927376026224303, 'αPol': 6.16, 'gamma': 4.55379707775998, 'e0': 1.244490498838203, 'a0': 0.9998504929963676, 'a1': 2.0277399553571427, 'b0': -0.05574751201119592, 'b1': 1.0001016441844244, 'b2': 4.0365329891933754e-06, 'c2': 1.0167839675441293, 'p1': 3.500035109804611, 'd1': 2.558071351934054}\n",
      "current iteration=854\n",
      "residual=1.7178561174626295e-09\n",
      "params={'Multiplier': 0.0005330591298225995, 'Ip': 0.32927376026224303, 'αPol': 6.16, 'gamma': 4.553799941606321, 'e0': 1.24133255321814, 'a0': 0.9998536952138761, 'a1': 2.0277399553571427, 'b0': -0.05645759031059004, 'b1': 1.000101361191043, 'b2': 4.010675134669128e-06, 'c2': 1.0172541513804056, 'p1': 3.500034170442687, 'd1': 2.555629533061423}\n",
      "current iteration=855\n",
      "residual=1.7081272570850802e-09\n",
      "params={'Multiplier': 0.0005388019495792262, 'Ip': 0.32927376026224303, 'αPol': 6.16, 'gamma': 4.553791338121014, 'e0': 1.2491480880860633, 'a0': 0.9998375277583805, 'a1': 2.0277399553571427, 'b0': -0.05420675200158183, 'b1': 1.0001027345725637, 'b2': 4.15508415207988e-06, 'c2': 1.0154250645352019, 'p1': 3.5000057453198794, 'd1': 2.5758637054798124}\n",
      "current iteration=856\n",
      "residual=1.7158449467491362e-09\n",
      "params={'Multiplier': 0.0005267724160006315, 'Ip': 0.32927376026224303, 'αPol': 6.16, 'gamma': 4.553799704370945, 'e0': 1.241739914258667, 'a0': 0.9998587245416016, 'a1': 2.0277399553571427, 'b0': -0.056581496794622155, 'b1': 1.0001009179691263, 'b2': 3.955345401651655e-06, 'c2': 1.017713578916772, 'p1': 3.5000596050222206, 'd1': 2.5467770881577376}\n",
      "current iteration=857\n",
      "residual=1.7075628835779119e-09\n",
      "params={'Multiplier': 0.0005409413793714402, 'Ip': 0.32927376026224303, 'αPol': 6.16, 'gamma': 4.553791785562829, 'e0': 1.2486694247617502, 'a0': 0.9998363154045788, 'a1': 2.0277399553571427, 'b0': -0.05425407199961182, 'b1': 1.0001028435565502, 'b2': 4.17021988696753e-06, 'c2': 1.0153291241836693, 'p1': 3.499997391732655, 'd1': 2.5783421155596202}\n",
      "current iteration=858\n",
      "residual=1.7065226325386557e-09\n",
      "params={'Multiplier': 0.0005690939669250605, 'Ip': 0.32927376026224303, 'αPol': 6.16, 'gamma': 4.553782423210231, 'e0': 1.2519131258329632, 'a0': 0.9998019984481027, 'a1': 2.0277399553571427, 'b0': -0.051563692481279705, 'b1': 1.0001056417508523, 'b2': 4.501251827493391e-06, 'c2': 1.0124364786810836, 'p1': 3.499887253949683, 'd1': 2.6346389444421328}\n",
      "current iteration=859\n",
      "residual=1.712565074458282e-09\n",
      "params={'Multiplier': 0.0005477192877715309, 'Ip': 0.32927376026224303, 'αPol': 6.16, 'gamma': 4.5537950893006505, 'e0': 1.2423105154087306, 'a0': 0.999835645028343, 'a1': 2.0277399553571427, 'b0': -0.05511605437573169, 'b1': 1.0001028096832207, 'b2': 4.178264923382358e-06, 'c2': 1.0158035884053132, 'p1': 3.49997557729905, 'd1': 2.585863981987194}\n",
      "current iteration=860\n",
      "residual=1.7070824687589984e-09\n",
      "params={'Multiplier': 0.0005398254298255578, 'Ip': 0.32927376026224303, 'αPol': 6.16, 'gamma': 4.553791150708124, 'e0': 1.2493910971725515, 'a0': 0.9998364834425657, 'a1': 2.0277399553571427, 'b0': -0.054122416911661, 'b1': 1.000102828905181, 'b2': 4.166022621765464e-06, 'c2': 1.0153153571167113, 'p1': 3.500001934073249, 'd1': 2.5774503656523167}\n",
      "current iteration=861\n",
      "residual=1.7062462123427761e-09\n",
      "params={'Multiplier': 0.0005634431738955614, 'Ip': 0.32927376026224303, 'αPol': 6.16, 'gamma': 4.553787563102783, 'e0': 1.2476687996851545, 'a0': 0.9998132274602282, 'a1': 2.0277399553571427, 'b0': -0.052939278986519754, 'b1': 1.000104696963764, 'b2': 4.395055371864132e-06, 'c2': 1.0136165705924332, 'p1': 3.4999115576579833, 'd1': 2.6193583977746226}\n",
      "current iteration=862\n",
      "residual=1.7087159821636379e-09\n",
      "params={'Multiplier': 0.0005523221264843725, 'Ip': 0.32927376026224303, 'αPol': 6.16, 'gamma': 4.553785450040807, 'e0': 1.2532093487977813, 'a0': 0.9998189170357779, 'a1': 2.0277399553571427, 'b0': -0.05247702353836531, 'b1': 1.0001043003898815, 'b2': 4.335607746375203e-06, 'c2': 1.0136212962565834, 'p1': 3.4999505276344482, 'd1': 2.6039435389689647}\n",
      "current iteration=863\n",
      "residual=1.7048673022543293e-09\n",
      "params={'Multiplier': 0.0005766501307168381, 'Ip': 0.32927376026224303, 'αPol': 6.16, 'gamma': 4.5537780529796725, 'e0': 1.255616128244585, 'a0': 0.9997901297198403, 'a1': 2.0277399553571427, 'b0': -0.05030642011399161, 'b1': 1.000106655607813, 'b2': 4.620526979248751e-06, 'c2': 1.0111898895594376, 'p1': 3.4998553347293795, 'd1': 2.6513998302779362}\n",
      "current iteration=864\n",
      "residual=1.7122762980098054e-09\n",
      "params={'Multiplier': 0.0006046918827878889, 'Ip': 0.32927376026224303, 'αPol': 6.16, 'gamma': 4.553766614660115, 'e0': 1.2623299120892444, 'a0': 0.9997534451336718, 'a1': 2.0277399553571427, 'b0': -0.047018759684911315, 'b1': 1.0001097044846976, 'b2': 4.995454141010214e-06, 'c2': 1.0077949864169249, 'p1': 3.4997453962726532, 'd1': 2.7082583262787194}\n",
      "current iteration=865\n",
      "residual=1.7087396103609958e-09\n",
      "params={'Multiplier': 0.0005510326560437262, 'Ip': 0.32927376026224303, 'αPol': 6.16, 'gamma': 4.553792053145962, 'e0': 1.245087989565746, 'a0': 0.9998289541267242, 'a1': 2.0277399553571427, 'b0': -0.054277016862903746, 'b1': 1.0001033841153704, 'b2': 4.240780000941413e-06, 'c2': 1.0150726914860044, 'p1': 3.4999609801620872, 'd1': 2.594767643658738}\n",
      "current iteration=866\n",
      "residual=1.7055099004600028e-09\n",
      "params={'Multiplier': 0.0005519996174551123, 'Ip': 0.32927376026224303, 'αPol': 6.16, 'gamma': 4.553787100817087, 'e0': 1.2511783322257868, 'a0': 0.9998214263084727, 'a1': 2.0277399553571427, 'b0': -0.05292702186949992, 'b1': 1.0001040713212546, 'b2': 4.311802511258733e-06, 'c2': 1.0139840532182847, 'p1': 3.4999531407663573, 'd1': 2.6016493818235054}\n",
      "current iteration=867\n",
      "residual=1.7081036235131162e-09\n",
      "params={'Multiplier': 0.0005754365390407967, 'Ip': 0.32927376026224303, 'αPol': 6.16, 'gamma': 4.55377843003838, 'e0': 1.2551459482053806, 'a0': 0.9997915648326583, 'a1': 2.0277399553571427, 'b0': -0.05044243036173393, 'b1': 1.000106525748128, 'b2': 4.604844957567522e-06, 'c2': 1.0113535295399823, 'p1': 3.499860004184922, 'd1': 2.6494076761317418}\n",
      "current iteration=868\n",
      "residual=1.7045338782491753e-09\n",
      "params={'Multiplier': 0.0005761583592599484, 'Ip': 0.32927376026224303, 'αPol': 6.16, 'gamma': 4.553781588060679, 'e0': 1.2516847349654383, 'a0': 0.9997953374834626, 'a1': 2.0277399553571427, 'b0': -0.051230326043378446, 'b1': 1.0001061935951352, 'b2': 4.571462929092718e-06, 'c2': 1.0118959645114982, 'p1': 3.4998602204425273, 'd1': 2.646302653359992}\n",
      "current iteration=869\n",
      "residual=1.7082069210405735e-09\n",
      "params={'Multiplier': 0.0005953064858462698, 'Ip': 0.32927376026224303, 'αPol': 6.16, 'gamma': 4.553776713030585, 'e0': 1.2529533219203275, 'a0': 0.9997742423493017, 'a1': 2.0277399553571427, 'b0': -0.049742113064276755, 'b1': 1.0001079231063734, 'b2': 4.787106677728303e-06, 'c2': 1.0101336040281617, 'p1': 3.499787458005285, 'd1': 2.6815641082147157}\n",
      "current iteration=870\n",
      "residual=1.7087802509819443e-09\n",
      "params={'Multiplier': 0.0005396401446565724, 'Ip': 0.32927376026224303, 'αPol': 6.16, 'gamma': 4.5537951277478745, 'e0': 1.2449975123153458, 'a0': 0.9998420549403074, 'a1': 2.0277399553571427, 'b0': -0.05515222681955527, 'b1': 1.0001023359889565, 'b2': 4.117050458773974e-06, 'c2': 1.0160772404851528, 'p1': 3.50000600482901, 'd1': 2.572144004258613}\n",
      "current iteration=871\n",
      "residual=1.7048243597306382e-09\n",
      "params={'Multiplier': 0.0005663795778584335, 'Ip': 0.32927376026224303, 'αPol': 6.16, 'gamma': 4.553782604465701, 'e0': 1.2526077842160879, 'a0': 0.9998041873584509, 'a1': 2.0277399553571427, 'b0': -0.05161987947618926, 'b1': 1.0001054783083523, 'b2': 4.480336737611168e-06, 'c2': 1.012533480094298, 'p1': 3.499896504345697, 'd1': 2.630078949026957}\n",
      "current iteration=872\n",
      "residual=1.7095937291073765e-09\n",
      "params={'Multiplier': 0.000579287195855982, 'Ip': 0.32927376026224303, 'αPol': 6.16, 'gamma': 4.553779936003933, 'e0': 1.2522592114113396, 'a0': 0.9997908787587886, 'a1': 2.0277399553571427, 'b0': -0.05081374667699285, 'b1': 1.0001065451309026, 'b2': 4.61280443864176e-06, 'c2': 1.0115416829592547, 'p1': 3.49984843980402, 'd1': 2.6535571899016435}\n",
      "current iteration=873\n",
      "residual=1.7049236464072945e-09\n",
      "params={'Multiplier': 0.0005504046239025451, 'Ip': 0.32927376026224303, 'αPol': 6.16, 'gamma': 4.553788823173079, 'e0': 1.249566739296598, 'a0': 0.9998249562422477, 'a1': 2.0277399553571427, 'b0': -0.05339399066895707, 'b1': 1.0001037689501517, 'b2': 4.278773874766273e-06, 'c2': 1.0143816366512657, 'p1': 3.499960153750286, 'd1': 2.5971336721005547}\n",
      "current iteration=874\n",
      "residual=1.7078034592000418e-09\n",
      "params={'Multiplier': 0.0005499171267430158, 'Ip': 0.32927376026224303, 'αPol': 6.16, 'gamma': 4.553788343692429, 'e0': 1.2503658960052153, 'a0': 0.9998249005146065, 'a1': 2.0277399553571427, 'b0': -0.05327144840020375, 'b1': 1.0001037837650273, 'b2': 4.278619875286438e-06, 'c2': 1.0143212598250417, 'p1': 3.499962683011984, 'd1': 2.596469856185636}\n",
      "current iteration=875\n",
      "residual=1.7048151833676038e-09\n",
      "params={'Multiplier': 0.0005625340330076556, 'Ip': 0.32927376026224303, 'αPol': 6.16, 'gamma': 4.553785299991157, 'e0': 1.2503888038963469, 'a0': 0.9998107781879961, 'a1': 2.0277399553571427, 'b0': -0.052364842356421144, 'b1': 1.0001049201365626, 'b2': 4.416486422798016e-06, 'c2': 1.0132204931416977, 'p1': 3.4999126577993236, 'd1': 2.6208837390704227}\n",
      "current iteration=876\n",
      "residual=1.7071773759618302e-09\n",
      "params={'Multiplier': 0.0005817681299115085, 'Ip': 0.32927376026224303, 'αPol': 6.16, 'gamma': 4.55378030826504, 'e0': 1.2515709216983737, 'a0': 0.9997893467695308, 'a1': 2.0277399553571427, 'b0': -0.05086015691932172, 'b1': 1.0001066720331582, 'b2': 4.631341112393272e-06, 'c2': 1.011442280283804, 'p1': 3.4998388764132002, 'd1': 2.656763975399048}\n",
      "current iteration=877\n",
      "residual=1.7048384305998167e-09\n",
      "params={'Multiplier': 0.0005501638681081333, 'Ip': 0.32927376026224303, 'αPol': 6.16, 'gamma': 4.55378844009733, 'e0': 1.2499360045938421, 'a0': 0.9998246992733533, 'a1': 2.0277399553571427, 'b0': -0.05330685191357618, 'b1': 1.0001037896871898, 'b2': 4.280043262028244e-06, 'c2': 1.0143464318256907, 'p1': 3.49996116965798, 'd1': 2.5972651986098927}\n",
      "current iteration=878\n",
      "residual=1.7070433337723966e-09\n",
      "params={'Multiplier': 0.0005484164762085131, 'Ip': 0.32927376026224303, 'αPol': 6.16, 'gamma': 4.553790239140324, 'e0': 1.2486536528070267, 'a0': 0.9998283719272667, 'a1': 2.0277399553571427, 'b0': -0.05376751323616233, 'b1': 1.0001034887747808, 'b2': 4.247579352245623e-06, 'c2': 1.0147020110350593, 'p1': 3.49996833967779, 'd1': 2.5920751740011565}\n",
      "current iteration=879\n",
      "residual=1.7045048247560313e-09\n",
      "params={'Multiplier': 0.0005638886884019589, 'Ip': 0.32927376026224303, 'αPol': 6.16, 'gamma': 4.553784377192743, 'e0': 1.251098148697941, 'a0': 0.9998085918175887, 'a1': 2.0277399553571427, 'b0': -0.05211464767000036, 'b1': 1.000105103506839, 'b2': 4.4371440148793795e-06, 'c2': 1.013002637020588, 'p1': 3.4999075253816336, 'd1': 2.6239941143749337}\n",
      "current iteration=880\n",
      "residual=1.7074971944702088e-09\n",
      "params={'Multiplier': 0.0005540798633426602, 'Ip': 0.32927376026224303, 'αPol': 6.16, 'gamma': 4.553784462065739, 'e0': 1.253584595012168, 'a0': 0.9998162157858027, 'a1': 2.0277399553571427, 'b0': -0.05222700046761839, 'b1': 1.0001045148704963, 'b2': 4.360350071230812e-06, 'c2': 1.013398525987991, 'p1': 3.4999432295140602, 'd1': 2.6082730002754584}\n",
      "current iteration=881\n",
      "residual=1.7044260352228738e-09\n",
      "params={'Multiplier': 0.0005610949842717039, 'Ip': 0.32927376026224303, 'αPol': 6.16, 'gamma': 4.55378678784352, 'e0': 1.2491473896891954, 'a0': 0.9998139745416179, 'a1': 2.0277399553571427, 'b0': -0.05276120935679442, 'b1': 1.000104651440447, 'b2': 4.386366149633503e-06, 'c2': 1.0135620573606428, 'p1': 3.499919475621992, 'd1': 2.6165867842557375}\n",
      "current iteration=882\n",
      "residual=1.7056926927021934e-09\n",
      "params={'Multiplier': 0.0005673801082329843, 'Ip': 0.32927376026224303, 'αPol': 6.16, 'gamma': 4.553784861756718, 'e0': 1.2496679639880766, 'a0': 0.9998065265844579, 'a1': 2.0277399553571427, 'b0': -0.05220609508209714, 'b1': 1.0001052565368405, 'b2': 4.459155679814586e-06, 'c2': 1.0129467755283985, 'p1': 3.4998949133768926, 'd1': 2.62897344350938}\n",
      "current iteration=883\n",
      "residual=1.7043698772451245e-09\n",
      "params={'Multiplier': 0.0005558249080238609, 'Ip': 0.32927376026224303, 'αPol': 6.16, 'gamma': 4.553786541051994, 'e0': 1.2508007167885893, 'a0': 0.9998177013773728, 'a1': 2.0277399553571427, 'b0': -0.05274679017264923, 'b1': 1.0001043676251524, 'b2': 4.34840870555675e-06, 'c2': 1.0137246867117486, 'p1': 3.499938583918956, 'd1': 2.608478790228273}\n",
      "current iteration=884\n",
      "residual=1.7050174697627212e-09\n",
      "params={'Multiplier': 0.0005757270995766506, 'Ip': 0.32927376026224303, 'αPol': 6.16, 'gamma': 4.553778580504426, 'e0': 1.2551505692761182, 'a0': 0.9997916215003595, 'a1': 2.0277399553571427, 'b0': -0.05045063872074197, 'b1': 1.0001065251080143, 'b2': 4.604723994772186e-06, 'c2': 1.011359805674427, 'p1': 3.4998598000332324, 'd1': 2.6493999009552174}\n",
      "current iteration=885\n",
      "residual=1.7055540424687958e-09\n",
      "params={'Multiplier': 0.0005839394254852914, 'Ip': 0.32927376026224303, 'αPol': 6.16, 'gamma': 4.553776621906728, 'e0': 1.2555603007880904, 'a0': 0.9997825120509785, 'a1': 2.0277399553571427, 'b0': -0.04985156569435063, 'b1': 1.0001072762977332, 'b2': 4.699044272360453e-06, 'c2': 1.0105853619530718, 'p1': 3.4998270318939584, 'd1': 2.664610186389549}\n",
      "current iteration=886\n",
      "residual=1.7042780234879912e-09\n",
      "params={'Multiplier': 0.000553926093049717, 'Ip': 0.32927376026224303, 'αPol': 6.16, 'gamma': 4.553787853350704, 'e0': 1.2496196755064086, 'a0': 0.9998210406005382, 'a1': 2.0277399553571427, 'b0': -0.053118556626729645, 'b1': 1.000104079945972, 'b2': 4.3156411886347e-06, 'c2': 1.0140904222896077, 'p1': 3.499947197905417, 'd1': 2.6039310618894524}\n",
      "current iteration=887\n",
      "residual=1.7051706050116563e-09\n",
      "params={'Multiplier': 0.0005477794625777799, 'Ip': 0.32927376026224303, 'αPol': 6.16, 'gamma': 4.553791493136954, 'e0': 1.2469441317849683, 'a0': 0.9998306578213274, 'a1': 2.0277399553571427, 'b0': -0.0541420641589955, 'b1': 1.00010327665269, 'b2': 4.225009283542747e-06, 'c2': 1.0150308351280668, 'p1': 3.499971964677642, 'd1': 2.5898239431648786}\n",
      "current iteration=888\n",
      "residual=1.7041467523934599e-09\n",
      "params={'Multiplier': 0.0005686749435759308, 'Ip': 0.32927376026224303, 'αPol': 6.16, 'gamma': 4.553781808662526, 'e0': 1.2530982709249336, 'a0': 0.9998013805799153, 'a1': 2.0277399553571427, 'b0': -0.05137349508030535, 'b1': 1.0001057129941937, 'b2': 4.508263747871055e-06, 'c2': 1.0122769714945652, 'p1': 3.4998878411941625, 'd1': 2.634498345610364}\n",
      "current iteration=889\n",
      "residual=1.7057426112593157e-09\n",
      "params={'Multiplier': 0.0005767461262270457, 'Ip': 0.32927376026224303, 'αPol': 6.16, 'gamma': 4.5537798475661475, 'e0': 1.2532327875515903, 'a0': 0.9997926079464932, 'a1': 2.0277399553571427, 'b0': -0.05079461309305007, 'b1': 1.0001064216193694, 'b2': 4.595769419246665e-06, 'c2': 1.0115874564251346, 'p1': 3.499857148449346, 'd1': 2.6495594586799243}\n",
      "current iteration=890\n",
      "residual=1.7041421078530841e-09\n",
      "params={'Multiplier': 0.0005569322247876984, 'Ip': 0.32927376026224303, 'αPol': 6.16, 'gamma': 4.55378657927133, 'e0': 1.2504831137579906, 'a0': 0.9998168691678467, 'a1': 2.0277399553571427, 'b0': -0.05274414627498032, 'b1': 1.000104432117463, 'b2': 4.356960900731011e-06, 'c2': 1.0136827492977487, 'p1': 3.4999344024249224, 'd1': 2.610234233833457}\n",
      "current iteration=891\n",
      "residual=1.705530979058749e-09\n",
      "params={'Multiplier': 0.0005466186934631745, 'Ip': 0.32927376026224303, 'αPol': 6.16, 'gamma': 4.553792323017957, 'e0': 1.2461590848903756, 'a0': 0.99983278235957, 'a1': 2.0277399553571427, 'b0': -0.05436972888021327, 'b1': 1.0001030902636203, 'b2': 4.203777890898763e-06, 'c2': 1.0152789735171641, 'p1': 3.4999777810095196, 'd1': 2.587069944390358}\n",
      "current iteration=892\n",
      "residual=1.7040754849034335e-09\n",
      "params={'Multiplier': 0.0005690669144492455, 'Ip': 0.32927376026224303, 'αPol': 6.16, 'gamma': 4.553781620489205, 'e0': 1.2532509523343514, 'a0': 0.9998007928789536, 'a1': 2.0277399553571427, 'b0': -0.05132224730554703, 'b1': 1.0001057642717774, 'b2': 4.514493503693373e-06, 'c2': 1.0122114266441007, 'p1': 3.4998859462992087, 'd1': 2.6353085371372087}\n",
      "current iteration=893\n",
      "residual=1.7050026531397311e-09\n",
      "params={'Multiplier': 0.000576852597191535, 'Ip': 0.32927376026224303, 'αPol': 6.16, 'gamma': 4.553780571978603, 'e0': 1.2524998956549025, 'a0': 0.9997934315262531, 'a1': 2.0277399553571427, 'b0': -0.05097237615902286, 'b1': 1.0001063511011765, 'b2': 4.589053694159517e-06, 'c2': 1.0116943291085536, 'p1': 3.4998569014090783, 'd1': 2.6488055820178413}\n",
      "current iteration=894\n",
      "residual=1.7041678538883766e-09\n",
      "params={'Multiplier': 0.0005567767351942754, 'Ip': 0.32927376026224303, 'αPol': 6.16, 'gamma': 4.553786473067636, 'e0': 1.250576910046298, 'a0': 0.9998168823361466, 'a1': 2.0277399553571427, 'b0': -0.05272323297493785, 'b1': 1.000104430040693, 'b2': 4.356286228635042e-06, 'c2': 1.0136830978161069, 'p1': 3.4999351025956233, 'd1': 2.610144605460957}\n",
      "current iteration=895\n",
      "residual=1.7044366362848677e-09\n",
      "params={'Multiplier': 0.0005585693537702996, 'Ip': 0.32927376026224303, 'αPol': 6.16, 'gamma': 4.553787181330598, 'e0': 1.2494220599827948, 'a0': 0.9998164824356974, 'a1': 2.0277399553571427, 'b0': -0.052880019296159486, 'b1': 1.0001044528264966, 'b2': 4.3616311982130895e-06, 'c2': 1.0137365473693025, 'p1': 3.4999292863709925, 'd1': 2.6119915352403904}\n",
      "current iteration=896\n",
      "residual=1.7045312021294639e-09\n",
      "params={'Multiplier': 0.000561607368792516, 'Ip': 0.32927376026224303, 'αPol': 6.16, 'gamma': 4.553784862073019, 'e0': 1.2514474225579049, 'a0': 0.9998110324554973, 'a1': 2.0277399553571427, 'b0': -0.05223809180387528, 'b1': 1.0001049175362762, 'b2': 4.4140759989375056e-06, 'c2': 1.0131525611325691, 'p1': 3.4999164586316605, 'd1': 2.619406283136938}\n",
      "current iteration=897\n",
      "residual=1.706159878659469e-09\n",
      "params={'Multiplier': 0.0005453044063122858, 'Ip': 0.32927376026224303, 'αPol': 6.16, 'gamma': 4.5537892288059965, 'e0': 1.2501040700598898, 'a0': 0.9998296121559439, 'a1': 2.0277399553571427, 'b0': -0.05357416126901733, 'b1': 1.0001033888659094, 'b2': 4.231210128935459e-06, 'c2': 1.0147294319296951, 'p1': 3.4999801436267832, 'd1': 2.588628816762472}\n",
      "current iteration=898\n",
      "residual=1.7039020565723885e-09\n",
      "params={'Multiplier': 0.000568365200454557, 'Ip': 0.32927376026224303, 'αPol': 6.16, 'gamma': 4.553783498246998, 'e0': 1.2512895431534208, 'a0': 0.9998039061510587, 'a1': 2.0277399553571427, 'b0': -0.05181628484978817, 'b1': 1.0001054924128365, 'b2': 4.485166284817765e-06, 'c2': 1.0126039792744823, 'p1': 3.499890201238402, 'd1': 2.6318770895217622}\n",
      "current iteration=899\n",
      "residual=1.704843803710378e-09\n",
      "params={'Multiplier': 0.0005609897708583889, 'Ip': 0.32927376026224303, 'αPol': 6.16, 'gamma': 4.553785682028423, 'e0': 1.2503097753581431, 'a0': 0.9998124919216156, 'a1': 2.0277399553571427, 'b0': -0.0524820341177031, 'b1': 1.0001047799001015, 'b2': 4.3994577894057585e-06, 'c2': 1.0133621652220748, 'p1': 3.499918653958538, 'd1': 2.6179999088249297}\n",
      "current iteration=900\n",
      "residual=1.7040198023055038e-09\n",
      "params={'Multiplier': 0.0005614529374252664, 'Ip': 0.32927376026224303, 'αPol': 6.16, 'gamma': 4.553785067061869, 'e0': 1.2511629975034548, 'a0': 0.999811397322026, 'a1': 2.0277399553571427, 'b0': -0.052299077382332235, 'b1': 1.0001048831272326, 'b2': 4.410419173428437e-06, 'c2': 1.0132049602294604, 'p1': 3.49991700746338, 'd1': 2.6190546853227823}\n",
      "current iteration=901\n",
      "residual=1.704817768254654e-09\n",
      "params={'Multiplier': 0.0005582290067774887, 'Ip': 0.32927376026224303, 'αPol': 6.16, 'gamma': 4.553786304882525, 'e0': 1.2506719882373551, 'a0': 0.99981549366047, 'a1': 2.0277399553571427, 'b0': -0.0526423641940444, 'b1': 1.0001045498536167, 'b2': 4.371173359940528e-06, 'c2': 1.0135525872800673, 'p1': 3.499929483624931, 'd1': 2.6124250144683185}\n",
      "current iteration=902\n",
      "residual=1.7040130198261535e-09\n",
      "params={'Multiplier': 0.0005624710892654372, 'Ip': 0.32927376026224303, 'αPol': 6.16, 'gamma': 4.553784859115188, 'e0': 1.250991606722744, 'a0': 0.9998103172782881, 'a1': 2.0277399553571427, 'b0': -0.05224657680101137, 'b1': 1.0001049650935336, 'b2': 4.420605029364921e-06, 'c2': 1.0131401113300145, 'p1': 3.499913014942452, 'd1': 2.6211015528136086}\n",
      "current iteration=903\n",
      "residual=1.704488914120484e-09\n",
      "params={'Multiplier': 0.0005643294488922868, 'Ip': 0.32927376026224303, 'αPol': 6.16, 'gamma': 4.553783036301596, 'e0': 1.2526622940023073, 'a0': 0.9998063700109536, 'a1': 2.0277399553571427, 'b0': -0.05175030406885564, 'b1': 1.000105302987365, 'b2': 4.458645635585512e-06, 'c2': 1.0126994907084779, 'p1': 3.4999044683498703, 'd1': 2.6262500815175565}\n",
      "current iteration=904\n",
      "residual=1.704024870075502e-09\n",
      "params={'Multiplier': 0.0005600066048522256, 'Ip': 0.32927376026224303, 'αPol': 6.16, 'gamma': 4.553786145073344, 'e0': 1.2502320109396288, 'a0': 0.9998139543294665, 'a1': 2.0277399553571427, 'b0': -0.052597590489333525, 'b1': 1.0001046653667145, 'b2': 4.385784767801937e-06, 'c2': 1.0134772360799555, 'p1': 3.4999230818657043, 'd1': 2.615555736063278}\n",
      "current iteration=905\n",
      "residual=1.7048058337773623e-09\n",
      "params={'Multiplier': 0.0005615786374914, 'Ip': 0.32927376026224303, 'αPol': 6.16, 'gamma': 4.5537833012346365, 'e0': 1.2531540735069826, 'a0': 0.999808873862513, 'a1': 2.0277399553571427, 'b0': -0.05183639023472854, 'b1': 1.0001051071586695, 'b2': 4.433590531816023e-06, 'c2': 1.0128569512909344, 'p1': 3.4999150003475936, 'd1': 2.621447582801282}\n",
      "current iteration=906\n",
      "residual=1.7039896107365168e-09\n",
      "params={'Multiplier': 0.0005612158780244902, 'Ip': 0.32927376026224303, 'αPol': 6.16, 'gamma': 4.553785916191297, 'e0': 1.2501488962125493, 'a0': 0.9998126993718301, 'a1': 2.0277399553571427, 'b0': -0.05253000457627795, 'b1': 1.0001047653700028, 'b2': 4.398148540474267e-06, 'c2': 1.0133857590552287, 'p1': 3.4999183568033922, 'd1': 2.6178019332800613}\n",
      "current iteration=907\n",
      "residual=1.703992978652226e-09\n",
      "params={'Multiplier': 0.0005679626427003148, 'Ip': 0.32927376026224303, 'αPol': 6.16, 'gamma': 4.553783423054022, 'e0': 1.2513699436902042, 'a0': 0.9998041466258548, 'a1': 2.0277399553571427, 'b0': -0.05180745229959946, 'b1': 1.0001054705229313, 'b2': 4.481982370352355e-06, 'c2': 1.0126266307409544, 'p1': 3.4998918466275946, 'd1': 2.631423345270195}\n",
      "current iteration=908\n",
      "residual=1.703839595835991e-09\n",
      "params={'Multiplier': 0.0005727185539913249, 'Ip': 0.32927376026224303, 'αPol': 6.16, 'gamma': 4.553781224695995, 'e0': 1.2529013496758425, 'a0': 0.9997974286082394, 'a1': 2.0277399553571427, 'b0': -0.051173464980093, 'b1': 1.000106036317496, 'b2': 4.549144768217772e-06, 'c2': 1.0119685576472814, 'p1': 3.499872162385703, 'd1': 2.6414750112298684}\n",
      "current iteration=909\n",
      "residual=1.7043621948249982e-09\n",
      "params={'Multiplier': 0.0005822324472618545, 'Ip': 0.32927376026224303, 'αPol': 6.16, 'gamma': 4.553777910368675, 'e0': 1.2545426270767202, 'a0': 0.9997856226131282, 'a1': 2.0277399553571427, 'b0': -0.05020091915677467, 'b1': 1.000107014503243, 'b2': 4.668203424706974e-06, 'c2': 1.0109084178443064, 'p1': 3.499834644626227, 'd1': 2.660258897459724}\n",
      "current iteration=910\n",
      "residual=1.7038933588469837e-09\n",
      "params={'Multiplier': 0.0005730345676101534, 'Ip': 0.32927376026224303, 'αPol': 6.16, 'gamma': 4.553781555304724, 'e0': 1.2524087822835424, 'a0': 0.999797696126806, 'a1': 2.0277399553571427, 'b0': -0.051258835032915825, 'b1': 1.0001060074781396, 'b2': 4.546502234026306e-06, 'c2': 1.012032747257491, 'p1': 3.4998716696534578, 'd1': 2.641524900574258}\n",
      "current iteration=911\n",
      "residual=1.7042824850216862e-09\n",
      "params={'Multiplier': 0.0005619553195598259, 'Ip': 0.32927376026224303, 'αPol': 6.16, 'gamma': 4.553786169038271, 'e0': 1.249749757572932, 'a0': 0.9998124609920928, 'a1': 2.0277399553571427, 'b0': -0.05258564091807043, 'b1': 1.0001047834214327, 'b2': 4.401413379762076e-06, 'c2': 1.0133898389939342, 'p1': 3.4999156967466423, 'd1': 2.618571945278622}\n",
      "current iteration=912\n",
      "residual=1.7038693069085418e-09\n",
      "params={'Multiplier': 0.0005669912900420071, 'Ip': 0.32927376026224303, 'αPol': 6.16, 'gamma': 4.553782898756459, 'e0': 1.252261027882846, 'a0': 0.9998041506829038, 'a1': 2.0277399553571427, 'b0': -0.05167653153974662, 'b1': 1.0001054806010043, 'b2': 4.481431019831561e-06, 'c2': 1.0125551339548666, 'p1': 3.4998948050822714, 'd1': 2.630516206511634}\n",
      "current iteration=913\n",
      "residual=1.7041877236137985e-09\n",
      "params={'Multiplier': 0.0005757852953703901, 'Ip': 0.32927376026224303, 'αPol': 6.16, 'gamma': 4.553780662326501, 'e0': 1.2527203335960664, 'a0': 0.9997944287076874, 'a1': 2.0277399553571427, 'b0': -0.05100146677634872, 'b1': 1.0001062739948643, 'b2': 4.5787846336686755e-06, 'c2': 1.0117588628978451, 'p1': 3.4998612160475524, 'd1': 2.646899288907496}\n",
      "current iteration=914\n",
      "residual=1.7038853197541001e-09\n",
      "params={'Multiplier': 0.0005616160451397123, 'Ip': 0.32927376026224303, 'αPol': 6.16, 'gamma': 4.553785100035117, 'e0': 1.2510423674972717, 'a0': 0.9998112590525797, 'a1': 2.0277399553571427, 'b0': -0.05230847640032242, 'b1': 1.0001048925868166, 'b2': 4.411900512035771e-06, 'c2': 1.0132016151518863, 'p1': 3.4999161058305046, 'd1': 2.6193976354879633}\n",
      "current iteration=915\n",
      "residual=1.7043507710668998e-09\n",
      "params={'Multiplier': 0.0005620918624059668, 'Ip': 0.32927376026224303, 'αPol': 6.16, 'gamma': 4.553786317017804, 'e0': 1.2495110547931807, 'a0': 0.9998125982308641, 'a1': 2.0277399553571427, 'b0': -0.052620611564737095, 'b1': 1.000104767503564, 'b2': 4.399728259718572e-06, 'c2': 1.0134279687722416, 'p1': 3.4999157040793447, 'd1': 2.618636737882355}\n",
      "current iteration=916\n",
      "residual=1.7038375216593623e-09\n",
      "params={'Multiplier': 0.0005673191154783597, 'Ip': 0.32927376026224303, 'αPol': 6.16, 'gamma': 4.55378279462135, 'e0': 1.2523158348606596, 'a0': 0.9998037442168678, 'a1': 2.0277399553571427, 'b0': -0.05164683837034455, 'b1': 1.0001055150797251, 'b2': 4.4856636691736895e-06, 'c2': 1.012515497143871, 'p1': 3.4998933857442296, 'd1': 2.631139996927505}\n",
      "current iteration=917\n",
      "residual=1.7040512926181876e-09\n",
      "params={'Multiplier': 0.000572642146873581, 'Ip': 0.32927376026224303, 'αPol': 6.16, 'gamma': 4.553781122343268, 'e0': 1.2529465899093757, 'a0': 0.9997973947580221, 'a1': 2.0277399553571427, 'b0': -0.051155117957152794, 'b1': 1.0001060363512262, 'b2': 4.548846674223839e-06, 'c2': 1.0119699246818206, 'p1': 3.4998726292886286, 'd1': 2.6415089418115856}\n",
      "current iteration=918\n",
      "residual=1.703855857388912e-09\n",
      "params={'Multiplier': 0.0005631522628483099, 'Ip': 0.32927376026224303, 'αPol': 6.16, 'gamma': 4.55378488939082, 'e0': 1.25091058026655, 'a0': 0.9998098144364814, 'a1': 2.0277399553571427, 'b0': -0.05223697235628834, 'b1': 1.0001050081128442, 'b2': 4.426271225987932e-06, 'c2': 1.0131003084419872, 'p1': 3.4999104687213993, 'd1': 2.622042604489323}\n",
      "current iteration=919\n",
      "residual=1.7043833917323344e-09\n",
      "params={'Multiplier': 0.0005715240426923396, 'Ip': 0.32927376026224303, 'αPol': 6.16, 'gamma': 4.553782164820524, 'e0': 1.2519649334218927, 'a0': 0.9997996351881966, 'a1': 2.0277399553571427, 'b0': -0.05144121005894531, 'b1': 1.000105843587833, 'b2': 4.5270367290406455e-06, 'c2': 1.0122211216225123, 'p1': 3.499877395942522, 'd1': 2.6386060365140125}\n",
      "current iteration=920\n",
      "residual=1.7038222126320438e-09\n",
      "params={'Multiplier': 0.000563962313086086, 'Ip': 0.32927376026224303, 'αPol': 6.16, 'gamma': 4.553784341501531, 'e0': 1.2513634749025528, 'a0': 0.9998084567885058, 'a1': 2.0277399553571427, 'b0': -0.0520846105514855, 'b1': 1.0001051232423837, 'b2': 4.439430902891672e-06, 'c2': 1.012958958054596, 'p1': 3.4999071045831425, 'd1': 2.623941710452061}\n",
      "current iteration=921\n",
      "residual=1.7037946930486428e-09\n",
      "params={'Multiplier': 0.0005707979264856222, 'Ip': 0.32927376026224303, 'αPol': 6.16, 'gamma': 4.553782269244474, 'e0': 1.2522107241292568, 'a0': 0.999800343133938, 'a1': 2.0277399553571427, 'b0': -0.051461317390360986, 'b1': 1.0001057932513024, 'b2': 4.520531561302832e-06, 'c2': 1.0122497252134566, 'p1': 3.4998802063915706, 'd1': 2.637126573111216}\n",
      "current iteration=922\n",
      "residual=1.7039859452388704e-09\n",
      "params={'Multiplier': 0.0005749843097228036, 'Ip': 0.32927376026224303, 'αPol': 6.16, 'gamma': 4.553780974309122, 'e0': 1.2528203436225778, 'a0': 0.9997953560619476, 'a1': 2.0277399553571427, 'b0': -0.05106868768503578, 'b1': 1.000106207330184, 'b2': 4.570913630930207e-06, 'c2': 1.011804671704457, 'p1': 3.499863802116202, 'd1': 2.6451412540078723}\n",
      "current iteration=923\n",
      "residual=1.703837710123375e-09\n",
      "params={'Multiplier': 0.0005658577947830201, 'Ip': 0.32927376026224303, 'αPol': 6.16, 'gamma': 4.553783474543726, 'e0': 1.2520005108485472, 'a0': 0.9998057530878591, 'a1': 2.0277399553571427, 'b0': -0.05183121490992522, 'b1': 1.000105352367581, 'b2': 4.466566716265774e-06, 'c2': 1.0126877238049348, 'p1': 3.499899046659178, 'd1': 2.6279439155576}\n",
      "current iteration=924\n",
      "residual=1.7038034484571708e-09\n",
      "params={'Multiplier': 0.0005735685832252146, 'Ip': 0.32927376026224303, 'αPol': 6.16, 'gamma': 4.553780493076953, 'e0': 1.253592222180964, 'a0': 0.9997958110854662, 'a1': 2.0277399553571427, 'b0': -0.05096890469997617, 'b1': 1.0001061749200193, 'b2': 4.56492332223668e-06, 'c2': 1.011789313972328, 'p1': 3.4998686744546466, 'd1': 2.643597753834983}\n",
      "current iteration=925\n",
      "residual=1.7039160507654912e-09\n",
      "params={'Multiplier': 0.0005674234434799308, 'Ip': 0.32927376026224303, 'αPol': 6.16, 'gamma': 4.553782309987229, 'e0': 1.2529118366073924, 'a0': 0.9998029852927391, 'a1': 2.0277399553571427, 'b0': -0.05151314839650354, 'b1': 1.000105584378628, 'b2': 4.493012472073232e-06, 'c2': 1.0124078395406775, 'p1': 3.499892524662773, 'd1': 2.6318626285551896}\n",
      "current iteration=926\n",
      "residual=1.7037877689526015e-09\n",
      "params={'Multiplier': 0.000568129687937291, 'Ip': 0.32927376026224303, 'αPol': 6.16, 'gamma': 4.553783201182055, 'e0': 1.2516950896066863, 'a0': 0.9998036759364785, 'a1': 2.0277399553571427, 'b0': -0.05174050073646701, 'b1': 1.0001055154042844, 'b2': 4.4871271887014785e-06, 'c2': 1.012554942648674, 'p1': 3.4998907820944947, 'd1': 2.6318734742796757}\n",
      "current iteration=927\n",
      "residual=1.7039745380171716e-09\n",
      "params={'Multiplier': 0.0005618032439550502, 'Ip': 0.32927376026224303, 'αPol': 6.16, 'gamma': 4.5537845821049725, 'e0': 1.251649802696492, 'a0': 0.999810391279141, 'a1': 2.0277399553571427, 'b0': -0.052166931354086135, 'b1': 1.0001049708985505, 'b2': 4.420284325901136e-06, 'c2': 1.013083647333439, 'p1': 3.49991487873601, 'd1': 2.6202873122221026}\n",
      "current iteration=928\n",
      "residual=1.7037770728246862e-09\n",
      "params={'Multiplier': 0.0005702163061757082, 'Ip': 0.32927376026224303, 'αPol': 6.16, 'gamma': 4.553782312004785, 'e0': 1.2522190314976394, 'a0': 0.9998008699148153, 'a1': 2.0277399553571427, 'b0': -0.0514858591132084, 'b1': 1.0001057483332434, 'b2': 4.5147811877921384e-06, 'c2': 1.0122954236853523, 'p1': 3.4998824719240655, 'd1': 2.6362145490099365}\n",
      "current iteration=929\n",
      "residual=1.7038189042368347e-09\n",
      "params={'Multiplier': 0.0005749561140316883, 'Ip': 0.32927376026224303, 'αPol': 6.16, 'gamma': 4.553780479768521, 'e0': 1.2532516793778714, 'a0': 0.999794750525978, 'a1': 2.0277399553571427, 'b0': -0.050952766529256746, 'b1': 1.0001062569391563, 'b2': 4.575823340902119e-06, 'c2': 1.0117336844785778, 'p1': 3.4998637157777233, 'd1': 2.6457796393714625}\n",
      "current iteration=930\n",
      "residual=1.7038345512825242e-09\n",
      "params={'Multiplier': 0.0005711352102905076, 'Ip': 0.32927376026224303, 'αPol': 6.16, 'gamma': 4.55378219724958, 'e0': 1.2522310041734004, 'a0': 0.9997999788639256, 'a1': 2.0277399553571427, 'b0': -0.051439958387734575, 'b1': 1.0001058241926042, 'b2': 4.524411803430439e-06, 'c2': 1.0122156146839856, 'p1': 3.4998787986649296, 'd1': 2.6377097897290964}\n",
      "current iteration=931\n",
      "residual=1.703841943852295e-09\n",
      "params={'Multiplier': 0.0005766100865230994, 'Ip': 0.32927376026224303, 'αPol': 6.16, 'gamma': 4.553779668186984, 'e0': 1.2538457926715307, 'a0': 0.9997923479962266, 'a1': 2.0277399553571427, 'b0': -0.05072011477748209, 'b1': 1.0001064598967104, 'b2': 4.600056368042615e-06, 'c2': 1.0114938173017307, 'p1': 3.4998568010146376, 'd1': 2.649321080849987}\n",
      "current iteration=932\n",
      "residual=1.7037635623725944e-09\n",
      "params={'Multiplier': 0.0005732307194034059, 'Ip': 0.32927376026224303, 'αPol': 6.16, 'gamma': 4.553780973487938, 'e0': 1.253111901560426, 'a0': 0.999796714606147, 'a1': 2.0277399553571427, 'b0': -0.05109932917218365, 'b1': 1.000106096950746, 'b2': 4.55629637663435e-06, 'c2': 1.0118953263609232, 'p1': 3.499870217941277, 'd1': 2.642499894242312}\n",
      "current iteration=933\n",
      "residual=1.7038342689271344e-09\n",
      "params={'Multiplier': 0.0005671130864129958, 'Ip': 0.32927376026224303, 'αPol': 6.16, 'gamma': 4.553783282640186, 'e0': 1.2518969235250954, 'a0': 0.9998045910237319, 'a1': 2.0277399553571427, 'b0': -0.05176879499209556, 'b1': 1.0001054438187134, 'b2': 4.4779108916426225e-06, 'c2': 1.012610664676051, 'p1': 3.4998947184613396, 'd1': 2.6300901634354688}\n",
      "current iteration=934\n",
      "residual=1.7038838469792962e-09\n",
      "params={'Multiplier': 0.0005742341785802685, 'Ip': 0.32927376026224303, 'αPol': 6.16, 'gamma': 4.553780994411749, 'e0': 1.2527770328223031, 'a0': 0.9997960341313452, 'a1': 2.0277399553571427, 'b0': -0.05109856107869741, 'b1': 1.0001061460588543, 'b2': 4.56288468764221e-06, 'c2': 1.0118761182638745, 'p1': 3.499866968548323, 'd1': 2.6440513056468435}\n",
      "current iteration=935\n",
      "residual=1.7037618767580929e-09\n",
      "params={'Multiplier': 0.0005679461158488719, 'Ip': 0.32927376026224303, 'αPol': 6.16, 'gamma': 4.553782854510731, 'e0': 1.2521946351798503, 'a0': 0.9998033233486867, 'a1': 2.0277399553571427, 'b0': -0.05164805145211827, 'b1': 1.0001055507903998, 'b2': 4.490549885272088e-06, 'c2': 1.0124847934156627, 'p1': 3.499891027131447, 'd1': 2.6319702150634594}\n",
      "current iteration=936\n",
      "residual=1.7039288369297704e-09\n",
      "params={'Multiplier': 0.0005728899381108876, 'Ip': 0.32927376026224303, 'αPol': 6.16, 'gamma': 4.553781686311998, 'e0': 1.2524374525093052, 'a0': 0.9997979588286255, 'a1': 2.0277399553571427, 'b0': -0.051283180234632825, 'b1': 1.000105990488846, 'b2': 4.544607207002116e-06, 'c2': 1.0120421537629827, 'p1': 3.499872157740689, 'd1': 2.641020374150313}\n",
      "current iteration=937\n",
      "residual=1.7037551828543465e-09\n",
      "params={'Multiplier': 0.0005687092671390337, 'Ip': 0.32927376026224303, 'αPol': 6.16, 'gamma': 4.553782517544012, 'e0': 1.252346239121676, 'a0': 0.9998022978697916, 'a1': 2.0277399553571427, 'b0': -0.05155592383641662, 'b1': 1.0001056339320056, 'b2': 4.50036348365046e-06, 'c2': 1.0123971514317889, 'p1': 3.4998880787433366, 'd1': 2.633609885136335}\n",
      "current iteration=938\n",
      "residual=1.703803805188967e-09\n",
      "params={'Multiplier': 0.000568583249041299, 'Ip': 0.32927376026224303, 'αPol': 6.16, 'gamma': 4.553782347742654, 'e0': 1.2525453327110823, 'a0': 0.999802187982705, 'a1': 2.0277399553571427, 'b0': -0.051513253306979215, 'b1': 1.0001056433238478, 'b2': 4.500967644816001e-06, 'c2': 1.0123783200501995, 'p1': 3.499888600835654, 'd1': 2.6336301408999803}\n",
      "current iteration=939\n",
      "residual=1.7038926336274675e-09\n",
      "params={'Multiplier': 0.0005729058806654974, 'Ip': 0.32927376026224303, 'αPol': 6.16, 'gamma': 4.5537810753725445, 'e0': 1.2530091290284164, 'a0': 0.999797095214763, 'a1': 2.0277399553571427, 'b0': -0.05113330836559494, 'b1': 1.0001060635987644, 'b2': 4.552230115972833e-06, 'c2': 1.0119368559143234, 'p1': 3.4998714575141294, 'd1': 2.641958525173741}\n",
      "current iteration=940\n",
      "residual=1.7037582040163818e-09\n",
      "params={'Multiplier': 0.0005685585229305845, 'Ip': 0.32927376026224303, 'αPol': 6.16, 'gamma': 4.553782730823275, 'e0': 1.2521749622603515, 'a0': 0.9998027170714634, 'a1': 2.0277399553571427, 'b0': -0.0516099233354704, 'b1': 1.0001055987637266, 'b2': 4.496433354317375e-06, 'c2': 1.012442192492503, 'p1': 3.4998889032245275, 'd1': 2.6330569564386264}\n",
      "current iteration=941\n",
      "residual=1.7038816151645403e-09\n",
      "params={'Multiplier': 0.0005770090885562906, 'Ip': 0.32927376026224303, 'αPol': 6.16, 'gamma': 4.5537796943755575, 'e0': 1.2537050036065076, 'a0': 0.9997920815068737, 'a1': 2.0277399553571427, 'b0': -0.05072255536300199, 'b1': 1.0001064792793586, 'b2': 4.602758856719902e-06, 'c2': 1.0114854331479712, 'p1': 3.499855431120712, 'd1': 2.649933361370863}\n",
      "current iteration=942\n",
      "residual=1.7037565347631913e-09\n",
      "params={'Multiplier': 0.0005672100075476694, 'Ip': 0.32927376026224303, 'αPol': 6.16, 'gamma': 4.553783179720034, 'e0': 1.2519488010511464, 'a0': 0.9998043629679731, 'a1': 2.0277399553571427, 'b0': -0.05174409675436462, 'b1': 1.0001054622516292, 'b2': 4.479986291938687e-06, 'c2': 1.012590481215159, 'p1': 3.49989418621749, 'd1': 2.630438196407468}\n",
      "current iteration=943\n",
      "residual=1.7038115010492008e-09\n",
      "params={'Multiplier': 0.0005644543089821097, 'Ip': 0.32927376026224303, 'αPol': 6.16, 'gamma': 4.553784096098866, 'e0': 1.2515561561553712, 'a0': 0.9998077102576861, 'a1': 2.0277399553571427, 'b0': -0.05201266543025232, 'b1': 1.0001051866450819, 'b2': 4.446946707536981e-06, 'c2': 1.012881974115087, 'p1': 3.499904914014042, 'd1': 2.6250259038314128}\n",
      "current iteration=944\n",
      "residual=1.7037582349782294e-09\n",
      "params={'Multiplier': 0.0005670706773978074, 'Ip': 0.32927376026224303, 'αPol': 6.16, 'gamma': 4.553783192016278, 'e0': 1.251980007580073, 'a0': 0.9998044703246813, 'a1': 2.0277399553571427, 'b0': -0.05174769070500342, 'b1': 1.0001054542186016, 'b2': 4.478993282486243e-06, 'c2': 1.0125948436613625, 'p1': 3.4998946144549348, 'd1': 2.6302134271716913}\n",
      "current iteration=945\n",
      "residual=1.7038228719955929e-09\n",
      "params={'Multiplier': 0.0005705007694493114, 'Ip': 0.32927376026224303, 'αPol': 6.16, 'gamma': 4.55378239697945, 'e0': 1.2521493623420379, 'a0': 0.999800729269144, 'a1': 2.0277399553571427, 'b0': -0.05149906613213469, 'b1': 1.0001057624393446, 'b2': 4.516944569044057e-06, 'c2': 1.0122804861261185, 'p1': 3.4998812316798924, 'd1': 2.6364896299420555}\n",
      "current iteration=946\n",
      "residual=1.7037538327975612e-09\n",
      "params={'Multiplier': 0.0005690623262505357, 'Ip': 0.32927376026224303, 'αPol': 6.16, 'gamma': 4.553782360051853, 'e0': 1.2524463385166071, 'a0': 0.9998018233043138, 'a1': 2.0277399553571427, 'b0': -0.05150970651326808, 'b1': 1.000105673102722, 'b2': 4.504959222106919e-06, 'c2': 1.0123538611477259, 'p1': 3.4998867585467126, 'd1': 2.634344995891139}\n",
      "current iteration=947\n",
      "residual=1.7038806794880168e-09\n",
      "params={'Multiplier': 0.0005646325093270343, 'Ip': 0.32927376026224303, 'αPol': 6.16, 'gamma': 4.553784625040141, 'e0': 1.2508735115305871, 'a0': 0.9998083086103605, 'a1': 2.0277399553571427, 'b0': -0.05215157510179613, 'b1': 1.0001051304797104, 'b2': 4.441450512038259e-06, 'c2': 1.0129825828481716, 'p1': 3.4999047748793735, 'd1': 2.624673619497674}\n",
      "current iteration=948\n",
      "residual=1.7037479158723974e-09\n",
      "params={'Multiplier': 0.0005713279814251182, 'Ip': 0.32927376026224303, 'αPol': 6.16, 'gamma': 4.553781526067747, 'e0': 1.2529124689941171, 'a0': 0.9997989354666169, 'a1': 2.0277399553571427, 'b0': -0.05126457230043116, 'b1': 1.000105913809943, 'b2': 4.533896418079664e-06, 'c2': 1.0120875684840733, 'p1': 3.4998776995608063, 'd1': 2.6388659644038617}\n",
      "current iteration=949\n",
      "residual=1.7038030357946286e-09\n",
      "params={'Multiplier': 0.0005674938405068053, 'Ip': 0.32927376026224303, 'αPol': 6.16, 'gamma': 4.553782700237266, 'e0': 1.2523951535306388, 'a0': 0.9998034950282404, 'a1': 2.0277399553571427, 'b0': -0.05161981339342532, 'b1': 1.000105536260158, 'b2': 4.488114236034235e-06, 'c2': 1.0124895766791961, 'p1': 3.4998927415762453, 'd1': 2.631490809684027}\n",
      "current iteration=950\n",
      "residual=1.7037538976648179e-09\n",
      "params={'Multiplier': 0.0005699710050487417, 'Ip': 0.32927376026224303, 'αPol': 6.16, 'gamma': 4.553782376992672, 'e0': 1.2522568311319757, 'a0': 0.999801131107509, 'a1': 2.0277399553571427, 'b0': -0.05150094139112707, 'b1': 1.0001057290035165, 'b2': 4.512416293733779e-06, 'c2': 1.0123096855469995, 'p1': 3.4998833401877363, 'd1': 2.63571756516789}\n",
      "current iteration=951\n",
      "residual=1.7037690820345351e-09\n",
      "params={'Multiplier': 0.0005705292684700103, 'Ip': 0.32927376026224303, 'αPol': 6.16, 'gamma': 4.55378160346181, 'e0': 1.2530231878469493, 'a0': 0.9997996532599152, 'a1': 2.0277399553571427, 'b0': -0.05129271817825132, 'b1': 1.0001058568270225, 'b2': 4.5265937318461624e-06, 'c2': 1.0121353234694386, 'p1': 3.4998806774919675, 'd1': 2.637512739088259}\n",
      "current iteration=952\n",
      "residual=1.7037944888353933e-09\n",
      "params={'Multiplier': 0.0005685045647029208, 'Ip': 0.32927376026224303, 'αPol': 6.16, 'gamma': 4.553782350930485, 'e0': 1.2526600305727436, 'a0': 0.9998022159505789, 'a1': 2.0277399553571427, 'b0': -0.051508731614518515, 'b1': 1.0001056455968194, 'b2': 4.501260643108296e-06, 'c2': 1.0123628004167764, 'p1': 3.499888628775974, 'd1': 2.63343115457242}\n",
      "current iteration=953\n",
      "residual=1.703747032261446e-09\n",
      "params={'Multiplier': 0.0005697881293594831, 'Ip': 0.32927376026224303, 'αPol': 6.16, 'gamma': 4.553782321736209, 'e0': 1.252329279279182, 'a0': 0.9998012064237554, 'a1': 2.0277399553571427, 'b0': -0.05149157723853593, 'b1': 1.0001057226491374, 'b2': 4.511399150697315e-06, 'c2': 1.0123122676683067, 'p1': 3.499884011137042, 'd1': 2.6355186840410614}\n",
      "current iteration=954\n",
      "residual=1.7037817826338762e-09\n",
      "params={'Multiplier': 0.0005680441966967598, 'Ip': 0.32927376026224303, 'αPol': 6.16, 'gamma': 4.55378320312834, 'e0': 1.2517171377969998, 'a0': 0.9998037432382674, 'a1': 2.0277399553571427, 'b0': -0.05174164436153253, 'b1': 1.0001055102674632, 'b2': 4.486452755081416e-06, 'c2': 1.0125583118450576, 'p1': 3.4998910899370905, 'd1': 2.631734314034319}\n",
      "current iteration=955\n",
      "residual=1.703745670737303e-09\n",
      "params={'Multiplier': 0.0005699074915689328, 'Ip': 0.32927376026224303, 'αPol': 6.16, 'gamma': 4.553782003378442, 'e0': 1.25269665790614, 'a0': 0.9998006757544955, 'a1': 2.0277399553571427, 'b0': -0.05140494972407162, 'b1': 1.0001057701871328, 'b2': 4.516541727728196e-06, 'c2': 1.0122410626844047, 'p1': 3.499883280603246, 'd1': 2.6360680623188624}\n",
      "current iteration=956\n",
      "residual=1.7038014956214629e-09\n",
      "params={'Multiplier': 0.0005646941935736338, 'Ip': 0.32927376026224303, 'αPol': 6.16, 'gamma': 4.553784039080316, 'e0': 1.2515454007652238, 'a0': 0.9998074741218403, 'a1': 2.0277399553571427, 'b0': -0.05199615747797779, 'b1': 1.0001052047910148, 'b2': 4.449101477232986e-06, 'c2': 1.0128675557906461, 'p1': 3.4999041620202256, 'd1': 2.6254623845703424}\n",
      "current iteration=957\n",
      "residual=1.7037416456352775e-09\n",
      "params={'Multiplier': 0.0005710905787098541, 'Ip': 0.32927376026224303, 'αPol': 6.16, 'gamma': 4.553781739886031, 'e0': 1.2527202512882623, 'a0': 0.9997994044850165, 'a1': 2.0277399553571427, 'b0': -0.05132353624863219, 'b1': 1.000105873910814, 'b2': 4.529378024642483e-06, 'c2': 1.0121383420933057, 'p1': 3.4998787039609947, 'd1': 2.6382399040112645}\n",
      "current iteration=958\n",
      "residual=1.7037598210157864e-09\n",
      "params={'Multiplier': 0.0005705929805656096, 'Ip': 0.32927376026224303, 'αPol': 6.16, 'gamma': 4.55378193513258, 'e0': 1.2525677261118937, 'a0': 0.9998000816064343, 'a1': 2.0277399553571427, 'b0': -0.05138253215734596, 'b1': 1.0001058155754459, 'b2': 4.522317879285254e-06, 'c2': 1.012208694750265, 'p1': 3.499880888195918, 'd1': 2.6372444992805844}\n",
      "current iteration=959\n",
      "residual=1.7037447195036768e-09\n",
      "params={'Multiplier': 0.0005699306869814125, 'Ip': 0.32927376026224303, 'αPol': 6.16, 'gamma': 4.553782164977117, 'e0': 1.252474451956545, 'a0': 0.9998008920419925, 'a1': 2.0277399553571427, 'b0': -0.05144891198103904, 'b1': 1.0001057493791845, 'b2': 4.514365383068153e-06, 'c2': 1.0122777160598782, 'p1': 3.4998834229297984, 'd1': 2.6359258694834917}\n",
      "current iteration=960\n",
      "residual=1.7037539783533605e-09\n",
      "params={'Multiplier': 0.0005720447752334268, 'Ip': 0.32927376026224303, 'αPol': 6.16, 'gamma': 4.553781392219203, 'e0': 1.252881262852247, 'a0': 0.9997982189739416, 'a1': 2.0277399553571427, 'b0': -0.05122313715966793, 'b1': 1.00010597117936, 'b2': 4.541036661809272e-06, 'c2': 1.0120352499452256, 'p1': 3.499875062567417, 'd1': 2.6401442211979256}\n",
      "current iteration=961\n",
      "residual=1.7037848663486983e-09\n",
      "params={'Multiplier': 0.0005712499859896747, 'Ip': 0.32927376026224303, 'αPol': 6.16, 'gamma': 4.5537815856913895, 'e0': 1.2528275568045495, 'a0': 0.9997990726076202, 'a1': 2.0277399553571427, 'b0': -0.051283547294040444, 'b1': 1.0001059011173623, 'b2': 4.532440023741202e-06, 'c2': 1.0121064869271497, 'p1': 3.499878005666389, 'd1': 2.6387177359227265}\n",
      "current iteration=962\n",
      "residual=1.7037417637836665e-09\n",
      "params={'Multiplier': 0.0005692307923340634, 'Ip': 0.32927376026224303, 'αPol': 6.16, 'gamma': 4.553782444540303, 'e0': 1.2523381065450017, 'a0': 0.9998018059554965, 'a1': 2.0277399553571427, 'b0': -0.051528329325112913, 'b1': 1.0001056743521355, 'b2': 4.50542155983058e-06, 'c2': 1.0123582611378203, 'p1': 3.4998861788349913, 'd1': 2.6344720836666298}\n",
      "current iteration=963\n",
      "residual=1.703770859856504e-09\n",
      "params={'Multiplier': 0.0005730090829406675, 'Ip': 0.32927376026224303, 'αPol': 6.16, 'gamma': 4.553780989758686, 'e0': 1.2531316088255227, 'a0': 0.9997969153086737, 'a1': 2.0277399553571427, 'b0': -0.0511062203892959, 'b1': 1.0001060800495603, 'b2': 4.554103263609832e-06, 'c2': 1.0119117996753872, 'p1': 3.4998711211969473, 'd1': 2.642143929940683}\n",
      "current iteration=964\n",
      "residual=1.7037429252420292e-09\n",
      "params={'Multiplier': 0.0005686570088444531, 'Ip': 0.32927376026224303, 'αPol': 6.16, 'gamma': 4.553782632229696, 'e0': 1.2522444887002138, 'a0': 0.9998025010531224, 'a1': 2.0277399553571427, 'b0': -0.051584627663097446, 'b1': 1.0001056167011122, 'b2': 4.498458528123805e-06, 'c2': 1.012420790544559, 'p1': 3.4998884199623452, 'd1': 2.633364340525136}\n",
      "current iteration=965\n",
      "residual=1.7037451926657811e-09\n",
      "params={'Multiplier': 0.000571493679953794, 'Ip': 0.32927376026224303, 'αPol': 6.16, 'gamma': 4.553781674871843, 'e0': 1.252713785705538, 'a0': 0.9997990210434652, 'a1': 2.0277399553571427, 'b0': -0.05130013407258008, 'b1': 1.0001059049230059, 'b2': 4.533222204061715e-06, 'c2': 1.0121098125241315, 'p1': 3.4998772969148835, 'd1': 2.6389225172092137}\n",
      "current iteration=966\n",
      "residual=1.7037489925078672e-09\n",
      "params={'Multiplier': 0.0005680499177395104, 'Ip': 0.32927376026224303, 'αPol': 6.16, 'gamma': 4.553782856727182, 'e0': 1.252145278629452, 'a0': 0.9998032603532399, 'a1': 2.0277399553571427, 'b0': -0.051648320131911195, 'b1': 1.0001055544243804, 'b2': 4.491029049757955e-06, 'c2': 1.012486642056458, 'p1': 3.4998907599603033, 'd1': 2.6321440599164014}\n",
      "current iteration=967\n",
      "residual=1.7037629861212577e-09\n",
      "params={'Multiplier': 0.0005697356626707117, 'Ip': 0.32927376026224303, 'αPol': 6.16, 'gamma': 4.553781967900613, 'e0': 1.2527473909025173, 'a0': 0.9998007740687844, 'a1': 2.0277399553571427, 'b0': -0.05139999164860887, 'b1': 1.0001057616843974, 'b2': 4.515296708085259e-06, 'c2': 1.0122475721418631, 'p1': 3.4998839662944845, 'd1': 2.6358556221846907}\n",
      "current iteration=968\n",
      "residual=1.7037417462318495e-09\n",
      "params={'Multiplier': 0.0005699121648939931, 'Ip': 0.32927376026224303, 'αPol': 6.16, 'gamma': 4.553782274719657, 'e0': 1.252379468615843, 'a0': 0.9998010418478278, 'a1': 2.0277399553571427, 'b0': -0.05147570395549752, 'b1': 1.0001057371737367, 'b2': 4.513136311112831e-06, 'c2': 1.0122941570257895, 'p1': 3.4998834967144234, 'd1': 2.6357520793818687}\n",
      "current iteration=969\n",
      "residual=1.7037497550612638e-09\n",
      "params={'Multiplier': 0.0005708150324276184, 'Ip': 0.32927376026224303, 'αPol': 6.16, 'gamma': 4.553781967774992, 'e0': 1.2525445031187648, 'a0': 0.9997999255806871, 'a1': 2.0277399553571427, 'b0': -0.05138442601491372, 'b1': 1.0001058303993946, 'b2': 4.524400378125293e-06, 'c2': 1.0121914586327894, 'p1': 3.499879895569053, 'd1': 2.6375096695277134}\n",
      "current iteration=970\n",
      "residual=1.7037410404429468e-09\n",
      "params={'Multiplier': 0.0005703766029981905, 'Ip': 0.32927376026224303, 'αPol': 6.16, 'gamma': 4.553782065844207, 'e0': 1.2525199618697744, 'a0': 0.9998004000115921, 'a1': 2.0277399553571427, 'b0': -0.05141574613950231, 'b1': 1.0001057910752265, 'b2': 4.519536164870885e-06, 'c2': 1.0122320580997477, 'p1': 3.499881611313467, 'd1': 2.6367184799910017}\n",
      "current iteration=971\n",
      "residual=1.7037528226308763e-09\n",
      "params={'Multiplier': 0.0005722964049316159, 'Ip': 0.32927376026224303, 'αPol': 6.16, 'gamma': 4.55378131292307, 'e0': 1.2529205172472375, 'a0': 0.9997979164634656, 'a1': 2.0277399553571427, 'b0': -0.051199297597788844, 'b1': 1.0001059964079049, 'b2': 4.5441063090123635e-06, 'c2': 1.012007787149093, 'p1': 3.4998740644261073, 'd1': 2.6406258733477737}\n",
      "current iteration=972\n",
      "residual=1.7037409205186825e-09\n",
      "params={'Multiplier': 0.0005691100556951545, 'Ip': 0.32927376026224303, 'αPol': 6.16, 'gamma': 4.553782470776153, 'e0': 1.2523390821434868, 'a0': 0.999801924380783, 'a1': 2.0277399553571427, 'b0': -0.05153606449838061, 'b1': 1.0001056649202618, 'b2': 4.504269132787897e-06, 'c2': 1.0123669182300197, 'p1': 3.4998865860767494, 'd1': 2.634264361448801}\n",
      "current iteration=973\n",
      "residual=1.7037535196846637e-09\n",
      "params={'Multiplier': 0.0005685725274570119, 'Ip': 0.32927376026224303, 'αPol': 6.16, 'gamma': 4.553782832524186, 'e0': 1.2520386554614862, 'a0': 0.9998028391329061, 'a1': 2.0277399553571427, 'b0': -0.051637343868858765, 'b1': 1.0001055872444062, 'b2': 4.495278806304626e-06, 'c2': 1.0124627211557298, 'p1': 3.499888902128786, 'd1': 2.632983446828023}\n",
      "current iteration=974\n",
      "residual=1.7037403986356287e-09\n",
      "params={'Multiplier': 0.0005706384929288211, 'Ip': 0.32927376026224303, 'αPol': 6.16, 'gamma': 4.5537818526818565, 'e0': 1.2526940078104434, 'a0': 0.9997999113831821, 'a1': 2.0277399553571427, 'b0': -0.05135776519253806, 'b1': 1.000105832168559, 'b2': 4.5242265307443574e-06, 'c2': 1.0121813504521568, 'p1': 3.499880500202799, 'd1': 2.637395262024131}\n",
      "current iteration=975\n",
      "residual=1.7037456298022317e-09\n",
      "params={'Multiplier': 0.0005702808057962416, 'Ip': 0.32927376026224303, 'αPol': 6.16, 'gamma': 4.553781943044852, 'e0': 1.2526947735768417, 'a0': 0.9998003091676346, 'a1': 2.0277399553571427, 'b0': -0.05138357652155442, 'b1': 1.0001058003090963, 'b2': 4.520301712718222e-06, 'c2': 1.012211822914647, 'p1': 3.499881888365696, 'd1': 2.6367058523065445}\n",
      "current iteration=976\n",
      "residual=1.7037492422415734e-09\n",
      "params={'Multiplier': 0.0005702360741631773, 'Ip': 0.32927376026224303, 'αPol': 6.16, 'gamma': 4.553782249335901, 'e0': 1.2523270181745958, 'a0': 0.9998007665195213, 'a1': 2.0277399553571427, 'b0': -0.0514659293955153, 'b1': 1.0001057587954938, 'b2': 4.51590875161223e-06, 'c2': 1.0122771788188896, 'p1': 3.499882340451981, 'd1': 2.6362840236629905}\n",
      "current iteration=977\n",
      "residual=1.703740010131271e-09\n",
      "params={'Multiplier': 0.0005699896283318795, 'Ip': 0.32927376026224303, 'αPol': 6.16, 'gamma': 4.553782064867807, 'e0': 1.2526042465773908, 'a0': 0.9998006984457519, 'a1': 2.0277399553571427, 'b0': -0.05142019464193254, 'b1': 1.000105767339223, 'b2': 4.516383479424846e-06, 'c2': 1.012250091660568, 'p1': 3.49988304556543, 'd1': 2.636122052556505}\n",
      "current iteration=978\n",
      "residual=1.7037481551344656e-09\n",
      "params={'Multiplier': 0.0005698045545162733, 'Ip': 0.32927376026224303, 'αPol': 6.16, 'gamma': 4.553782334034082, 'e0': 1.252310797678942, 'a0': 0.9998012109620067, 'a1': 2.0277399553571427, 'b0': -0.051494626222108104, 'b1': 1.0001057220795555, 'b2': 4.511367518889031e-06, 'c2': 1.0123140735208858, 'p1': 3.4998839641294786, 'd1': 2.6355294819498125}\n",
      "current iteration=979\n",
      "residual=1.7037401191193648e-09\n",
      "params={'Multiplier': 0.000570161724308238, 'Ip': 0.32927376026224303, 'αPol': 6.16, 'gamma': 4.55378204079216, 'e0': 1.25259877809611, 'a0': 0.9998005346162273, 'a1': 2.0277399553571427, 'b0': -0.051411338946692836, 'b1': 1.000105780751711, 'b2': 4.518067335812503e-06, 'c2': 1.012237385105652, 'p1': 3.4998824073066412, 'd1': 2.6364117567981395}\n",
      "current iteration=980\n",
      "residual=1.7037473929755413e-09\n",
      "params={'Multiplier': 0.0005683276389060188, 'Ip': 0.32927376026224303, 'αPol': 6.16, 'gamma': 4.5537826753911546, 'e0': 1.2522687858058146, 'a0': 0.999802801800747, 'a1': 2.0277399553571427, 'b0': -0.05160030964590501, 'b1': 1.0001055926313867, 'b2': 4.495456875863724e-06, 'c2': 1.0124416112782582, 'p1': 3.4998895776586503, 'd1': 2.6328108862730106}\n",
      "current iteration=981\n",
      "residual=1.703740090730718e-09\n",
      "params={'Multiplier': 0.0005707013444898879, 'Ip': 0.32927376026224303, 'αPol': 6.16, 'gamma': 4.553781925001671, 'e0': 1.2526025337075146, 'a0': 0.999799966232779, 'a1': 2.0277399553571427, 'b0': -0.05137517796591131, 'b1': 1.0001058268501013, 'b2': 4.52376606263627e-06, 'c2': 1.0121927573630694, 'p1': 3.4998803671008227, 'd1': 2.637394530690609}\n",
      "current iteration=982\n",
      "residual=1.7037478237585555e-09\n",
      "params={'Multiplier': 0.0005700425158220446, 'Ip': 0.32927376026224303, 'αPol': 6.16, 'gamma': 4.55378213729079, 'e0': 1.2525337304916495, 'a0': 0.9998007456403587, 'a1': 2.0277399553571427, 'b0': -0.051436784934420485, 'b1': 1.0001057636693917, 'b2': 4.516153540246037e-06, 'c2': 1.0122567028350662, 'p1': 3.499882840477933, 'd1': 2.6361010514734504}\n",
      "current iteration=983\n",
      "residual=1.7037398450674959e-09\n",
      "params={'Multiplier': 0.0005699586431621162, 'Ip': 0.32927376026224303, 'αPol': 6.16, 'gamma': 4.553782158055536, 'e0': 1.25248927155442, 'a0': 0.999800855441584, 'a1': 2.0277399553571427, 'b0': -0.0514458802193844, 'b1': 1.0001057529517363, 'b2': 4.514812389277978e-06, 'c2': 1.0122724627342257, 'p1': 3.4998832773168322, 'd1': 2.6359696649162316}\n",
      "current iteration=984\n",
      "residual=1.703743017536534e-09\n",
      "params={'Multiplier': 0.0005715785614176516, 'Ip': 0.32927376026224303, 'αPol': 6.16, 'gamma': 4.553781575203381, 'e0': 1.252812659815199, 'a0': 0.9997988075069397, 'a1': 2.0277399553571427, 'b0': -0.05127331976361947, 'b1': 1.0001059235975887, 'b2': 4.535372213787525e-06, 'c2': 1.0120839772725778, 'p1': 3.4998768149162895, 'd1': 2.639183852967831}\n",
      "current iteration=985\n",
      "residual=1.7037396970585737e-09\n",
      "params={'Multiplier': 0.0005693866945676307, 'Ip': 0.32927376026224303, 'αPol': 6.16, 'gamma': 4.553782367973117, 'e0': 1.2523865281807534, 'a0': 0.9998015776665704, 'a1': 2.0277399553571427, 'b0': -0.05150680068822795, 'b1': 1.0001056934252315, 'b2': 4.507672808795604e-06, 'c2': 1.0123365822298485, 'p1': 3.4998855187008293, 'd1': 2.6348191471693405}\n",
      "current iteration=986\n",
      "residual=1.7037411597017623e-09\n",
      "params={'Multiplier': 0.0005710348218005423, 'Ip': 0.32927376026224303, 'αPol': 6.16, 'gamma': 4.553781747579336, 'e0': 1.252728721837701, 'a0': 0.9997994569467705, 'a1': 2.0277399553571427, 'b0': -0.051325312374227015, 'b1': 1.0001058697611847, 'b2': 4.528837417971943e-06, 'c2': 1.0121421632530647, 'p1': 3.4998789240168082, 'd1': 2.6381454104959627}\n",
      "current iteration=987\n",
      "residual=1.7037424826803874e-09\n",
      "params={'Multiplier': 0.0005705773073972908, 'Ip': 0.32927376026224303, 'αPol': 6.16, 'gamma': 4.553781811971918, 'e0': 1.2527572101170912, 'a0': 0.9997999040742221, 'a1': 2.0277399553571427, 'b0': -0.0513478594275883, 'b1': 1.0001058334570732, 'b2': 4.524250063475677e-06, 'c2': 1.0121758644194196, 'p1': 3.49988069159785, 'd1': 2.637344013757364}\n",
      "current iteration=988\n",
      "residual=1.7037392981482718e-09\n",
      "params={'Multiplier': 0.0005700784141199344, 'Ip': 0.32927376026224303, 'αPol': 6.16, 'gamma': 4.553782159032722, 'e0': 1.2524739025334388, 'a0': 0.9998007574044258, 'a1': 2.0277399553571427, 'b0': -0.05144374282352021, 'b1': 1.0001057612445707, 'b2': 4.5159134678396384e-06, 'c2': 1.0122645832577533, 'p1': 3.4998827954352802, 'd1': 2.636150057630722}\n",
      "current iteration=989\n",
      "residual=1.7037419547177696e-09\n",
      "params={'Multiplier': 0.0005691972195583928, 'Ip': 0.32927376026224303, 'αPol': 6.16, 'gamma': 4.553782430634882, 'e0': 1.2523671574235218, 'a0': 0.9998018120209216, 'a1': 2.0277399553571427, 'b0': -0.051524068449431235, 'b1': 1.0001056741867471, 'b2': 4.505329401993663e-06, 'c2': 1.012356932026902, 'p1': 3.4998863026461393, 'd1': 2.634438293951326}\n",
      "current iteration=990\n",
      "residual=1.7037393000192418e-09\n",
      "params={'Multiplier': 0.0005706169439269049, 'Ip': 0.32927376026224303, 'αPol': 6.16, 'gamma': 4.5537819125732435, 'e0': 1.2526319765484408, 'a0': 0.99980000636899, 'a1': 2.0277399553571427, 'b0': -0.05137366929883195, 'b1': 1.0001058239797973, 'b2': 4.523359867780741e-06, 'c2': 1.0121929874716584, 'p1': 3.4998806036322794, 'd1': 2.6372894710206833}\n",
      "current iteration=991\n",
      "residual=1.7037419910816902e-09\n",
      "params={'Multiplier': 0.000569169429424865, 'Ip': 0.32927376026224303, 'αPol': 6.16, 'gamma': 4.553782455940359, 'e0': 1.2523393388485986, 'a0': 0.9998018694436117, 'a1': 2.0277399553571427, 'b0': -0.05153196370875741, 'b1': 1.0001056691800991, 'b2': 4.504775610980616e-06, 'c2': 1.0123632762356527, 'p1': 3.4998864185134195, 'd1': 2.6343616042882827}\n",
      "current iteration=992\n",
      "residual=1.70373912471432e-09\n",
      "params={'Multiplier': 0.0005705681873410251, 'Ip': 0.32927376026224303, 'αPol': 6.16, 'gamma': 4.553781924669591, 'e0': 1.252631374541524, 'a0': 0.9998000600709782, 'a1': 2.0277399553571427, 'b0': -0.05137697520785961, 'b1': 1.0001058196159132, 'b2': 4.522815957752613e-06, 'c2': 1.0121974393448447, 'p1': 3.49988079764096, 'd1': 2.6371994287509413}\n",
      "current iteration=993\n",
      "residual=1.7037413700289898e-09\n",
      "params={'Multiplier': 0.000569865246697776, 'Ip': 0.32927376026224303, 'αPol': 6.16, 'gamma': 4.553782109440564, 'e0': 1.2525703772019594, 'a0': 0.9998008583906604, 'a1': 2.0277399553571427, 'b0': -0.05143377575715358, 'b1': 1.0001057535741946, 'b2': 4.514717137027446e-06, 'c2': 1.0122664519158453, 'p1': 3.499883568482257, 'd1': 2.6358846464458545}\n",
      "current iteration=994\n",
      "residual=1.7037391542870652e-09\n",
      "params={'Multiplier': 0.0005702487424045222, 'Ip': 0.32927376026224303, 'αPol': 6.16, 'gamma': 4.553782076743296, 'e0': 1.2525325656768547, 'a0': 0.9998005146063591, 'a1': 2.0277399553571427, 'b0': -0.05142025354391513, 'b1': 1.0001057816999686, 'b2': 4.518331166991629e-06, 'c2': 1.0122406565016608, 'p1': 3.4998821006056646, 'd1': 2.6365100201382274}\n",
      "current iteration=995\n",
      "residual=1.7037420407540667e-09\n",
      "params={'Multiplier': 0.0005713606850513697, 'Ip': 0.32927376026224303, 'αPol': 6.16, 'gamma': 4.553781625702047, 'e0': 1.2527899596056247, 'a0': 0.9997990520665956, 'a1': 2.0277399553571427, 'b0': -0.05129029520738218, 'b1': 1.0001059030851005, 'b2': 4.532820519820291e-06, 'c2': 1.0121063479992467, 'p1': 3.4998776966247616, 'd1': 2.638788018277472}\n",
      "current iteration=996\n",
      "residual=1.7037390493147392e-09\n",
      "params={'Multiplier': 0.0005696722962730272, 'Ip': 0.32927376026224303, 'αPol': 6.16, 'gamma': 4.553782259507627, 'e0': 1.2524517994321633, 'a0': 0.9998012063022323, 'a1': 2.0277399553571427, 'b0': -0.051474622175631, 'b1': 1.0001057244614715, 'b2': 4.511398522977217e-06, 'c2': 1.0123017726814214, 'p1': 3.4998843637137513, 'd1': 2.6353952324867356}\n",
      "current iteration=997\n",
      "residual=1.70374089704591e-09\n",
      "params={'Multiplier': 0.000569638111440729, 'Ip': 0.32927376026224303, 'αPol': 6.16, 'gamma': 4.553782325161498, 'e0': 1.2523865894077875, 'a0': 0.9998013240479987, 'a1': 2.0277399553571427, 'b0': -0.05149196590984332, 'b1': 1.000105714295386, 'b2': 4.510280328107186e-06, 'c2': 1.0123159943884956, 'p1': 3.4998845552008997, 'd1': 2.6352570221500597}\n",
      "current iteration=998\n",
      "residual=1.70373897733998e-09\n",
      "params={'Multiplier': 0.0005703883152029521, 'Ip': 0.32927376026224303, 'αPol': 6.16, 'gamma': 4.553781970801767, 'e0': 1.2526171522443303, 'a0': 0.9998002645493853, 'a1': 2.0277399553571427, 'b0': -0.05139131537186438, 'b1': 1.0001058027002658, 'b2': 4.520737961755117e-06, 'c2': 1.0122150106375853, 'p1': 3.4998815139523236, 'd1': 2.6368606924132303}\n",
      "current iteration=999\n",
      "residual=1.7037406124788251e-09\n",
      "params={'Multiplier': 0.0005701599736392948, 'Ip': 0.32927376026224303, 'αPol': 6.16, 'gamma': 4.553782123053116, 'e0': 1.2524854917000474, 'a0': 0.9998006468015825, 'a1': 2.0277399553571427, 'b0': -0.05143438744072286, 'b1': 1.0001057701019447, 'b2': 4.516968180601211e-06, 'c2': 1.0122554827053072, 'p1': 3.4998824694261925, 'd1': 2.6363302882386144}\n",
      "current iteration=1000\n",
      "residual=1.7037389102978678e-09\n",
      "params={'Multiplier': 0.0005701612866407801, 'Ip': 0.32927376026224303, 'αPol': 6.16, 'gamma': 4.553782061357399, 'e0': 1.2525704563659854, 'a0': 0.9998005626625661, 'a1': 2.0277399553571427, 'b0': -0.05141710107020034, 'b1': 1.0001057780892695, 'b2': 4.517792534297627e-06, 'c2': 1.0122419094911375, 'p1': 3.4998824228365293, 'd1': 2.6363913896442592}\n",
      "current iteration=1001\n",
      "residual=1.7037403060431742e-09\n",
      "params={'Multiplier': 0.0005695126801487094, 'Ip': 0.32927376026224303, 'αPol': 6.16, 'gamma': 4.553782266114751, 'e0': 1.2524753207437165, 'a0': 0.9998013344709908, 'a1': 2.0277399553571427, 'b0': -0.051478933042362195, 'b1': 1.0001057142513883, 'b2': 4.510080368280711e-06, 'c2': 1.012309942593965, 'p1': 3.499884920779154, 'd1': 2.635146917097485}\n",
      "current iteration=1002\n",
      "residual=1.7037389330117013e-09\n",
      "params={'Multiplier': 0.0005704040621271611, 'Ip': 0.32927376026224303, 'αPol': 6.16, 'gamma': 4.5537820102799405, 'e0': 1.2525707303012386, 'a0': 0.999800308292331, 'a1': 2.0277399553571427, 'b0': -0.05140111673502403, 'b1': 1.000105798700423, 'b2': 4.5203426952689085e-06, 'c2': 1.012222053065838, 'p1': 3.4998815055204053, 'd1': 2.6368326166378417}\n",
      "current iteration=1003\n",
      "residual=1.7037408832775497e-09\n",
      "params={'Multiplier': 0.0005703069900563351, 'Ip': 0.32927376026224303, 'αPol': 6.16, 'gamma': 4.553782115331041, 'e0': 1.2524669047283101, 'a0': 0.9998005242273313, 'a1': 2.0277399553571427, 'b0': -0.05143010078495926, 'b1': 1.0001057800345066, 'b2': 4.5182495986839655e-06, 'c2': 1.0122469989289338, 'p1': 3.4998819343055407, 'd1': 2.636561480170636}\n",
      "current iteration=1004\n",
      "residual=1.7037388437250995e-09\n",
      "params={'Multiplier': 0.0005700689604749565, 'Ip': 0.32927376026224303, 'αPol': 6.16, 'gamma': 4.553782077483615, 'e0': 1.2525699109224187, 'a0': 0.9998006548911468, 'a1': 2.0277399553571427, 'b0': -0.051422671177689214, 'b1': 1.0001057705130438, 'b2': 4.5168499731573775e-06, 'c2': 1.012249318477238, 'p1': 3.4998827677504574, 'd1': 2.6362319090527353}\n",
      "current iteration=1005\n",
      "residual=1.7037400805911211e-09\n",
      "params={'Multiplier': 0.0005703600546568266, 'Ip': 0.32927376026224303, 'αPol': 6.16, 'gamma': 4.553782006028928, 'e0': 1.2525980074507084, 'a0': 0.9998003271214122, 'a1': 2.0277399553571427, 'b0': -0.05139977339916836, 'b1': 1.0001057979342547, 'b2': 4.52022899266602e-06, 'c2': 1.012219999355457, 'p1': 3.499881600640864, 'd1': 2.6367663194216426}\n",
      "current iteration=1006\n",
      "residual=1.7037388694847923e-09\n",
      "params={'Multiplier': 0.0005700589827765112, 'Ip': 0.32927376026224303, 'αPol': 6.16, 'gamma': 4.553782120048884, 'e0': 1.2525164554077013, 'a0': 0.9998007233615409, 'a1': 2.0277399553571427, 'b0': -0.051434353514330386, 'b1': 1.0001057641973659, 'b2': 4.516166235646324e-06, 'c2': 1.0122593467682852, 'p1': 3.49988285814784, 'd1': 2.6361688272038846}\n",
      "current iteration=1007\n",
      "residual=1.703740314553636e-09\n",
      "params={'Multiplier': 0.0005710671006141643, 'Ip': 0.32927376026224303, 'αPol': 6.16, 'gamma': 4.5537817465265, 'e0': 1.2527267393801202, 'a0': 0.9997994340354259, 'a1': 2.0277399553571427, 'b0': -0.0513243634955453, 'b1': 1.0001058716151863, 'b2': 4.52908025905252e-06, 'c2': 1.0121404373673757, 'p1': 3.499878827146271, 'd1': 2.6381868391085614}\n",
      "current iteration=1008\n",
      "residual=1.7037387950096018e-09\n",
      "params={'Multiplier': 0.0005698065637446126, 'Ip': 0.32927376026224303, 'αPol': 6.16, 'gamma': 4.553782212611463, 'e0': 1.2524715797981338, 'a0': 0.9998010417587821, 'a1': 2.0277399553571427, 'b0': -0.05146119139005729, 'b1': 1.0001057379727203, 'b2': 4.513019916885241e-06, 'c2': 1.0122875443194534, 'p1': 3.499883845812189, 'd1': 2.63566104623014}\n",
      "current iteration=1009\n",
      "residual=1.7037394068537462e-09\n",
      "params={'Multiplier': 0.0005696743542701332, 'Ip': 0.32927376026224303, 'αPol': 6.16, 'gamma': 4.553782261934018, 'e0': 1.2524492094303374, 'a0': 0.9998012124109608, 'a1': 2.0277399553571427, 'b0': -0.051474999303186365, 'b1': 1.000105723859205, 'b2': 4.511316621602646e-06, 'c2': 1.0123029404220172, 'p1': 3.499884390650801, 'd1': 2.6353907871864224}\n",
      "current iteration=1010\n",
      "residual=1.7037387497617953e-09\n",
      "params={'Multiplier': 0.0005703812234000294, 'Ip': 0.32927376026224303, 'αPol': 6.16, 'gamma': 4.553781999913437, 'e0': 1.2525862844276654, 'a0': 0.999800307879482, 'a1': 2.0277399553571427, 'b0': -0.05139900179992055, 'b1': 1.0001057989496493, 'b2': 4.520347551384418e-06, 'c2': 1.0122204751766521, 'p1': 3.4998815503869096, 'd1': 2.636814792459228}\n",
      "current iteration=1011\n",
      "residual=1.7037393187684286e-09\n",
      "params={'Multiplier': 0.0005702732556226442, 'Ip': 0.32927376026224303, 'αPol': 6.16, 'gamma': 4.553781983650682, 'e0': 1.2526297596154055, 'a0': 0.9998003714705347, 'a1': 2.0277399553571427, 'b0': -0.051395977573778145, 'b1': 1.0001057941354474, 'b2': 4.519646154221846e-06, 'c2': 1.012222521793949, 'p1': 3.4998819498381257, 'd1': 2.636663128419462}\n",
      "current iteration=1012\n",
      "residual=1.7037387562878225e-09\n",
      "params={'Multiplier': 0.0005701271213717218, 'Ip': 0.32927376026224303, 'αPol': 6.16, 'gamma': 4.553782115187212, 'e0': 1.2525128665557674, 'a0': 0.9998006609209529, 'a1': 2.0277399553571427, 'b0': -0.051431801511084695, 'b1': 1.00010576946729, 'b2': 4.516846495050686e-06, 'c2': 1.0122540678138658, 'p1': 3.4998825840359915, 'd1': 2.636278324772675}\n",
      "current iteration=1013\n",
      "residual=1.7037392073100167e-09\n",
      "params={'Multiplier': 0.0005700786015415682, 'Ip': 0.32927376026224303, 'αPol': 6.16, 'gamma': 4.5537820736288905, 'e0': 1.252567156006534, 'a0': 0.9998006435315199, 'a1': 2.0277399553571427, 'b0': -0.05142177644681716, 'b1': 1.000105771233514, 'b2': 4.516931185749584e-06, 'c2': 1.0122491306091286, 'p1': 3.4998827413538067, 'd1': 2.6362568257179784}\n",
      "current iteration=1014\n",
      "residual=1.7037387158634404e-09\n",
      "params={'Multiplier': 0.0005702062048066336, 'Ip': 0.32927376026224303, 'αPol': 6.16, 'gamma': 4.553782075964695, 'e0': 1.252541213247051, 'a0': 0.9998005468376493, 'a1': 2.0277399553571427, 'b0': -0.051420634269640636, 'b1': 1.000105779083355, 'b2': 4.517981151197503e-06, 'c2': 1.0122427750253644, 'p1': 3.4998822607927, 'd1': 2.636446721397953}\n",
      "current iteration=1015\n",
      "residual=1.7037392201714882e-09\n",
      "params={'Multiplier': 0.0005696869395165338, 'Ip': 0.32927376026224303, 'αPol': 6.16, 'gamma': 4.553782255961616, 'e0': 1.2524503158239018, 'a0': 0.9998011954202368, 'a1': 2.0277399553571427, 'b0': -0.05147378659522889, 'b1': 1.0001057252110575, 'b2': 4.511483255198456e-06, 'c2': 1.0123014162788946, 'p1': 3.4998843369488597, 'd1': 2.6354168947627943}\n",
      "current iteration=1016\n",
      "residual=1.7037387015463093e-09\n",
      "params={'Multiplier': 0.0005703478114765792, 'Ip': 0.32927376026224303, 'αPol': 6.16, 'gamma': 4.553782007492598, 'e0': 1.2525861095272193, 'a0': 0.9998003439082922, 'a1': 2.0277399553571427, 'b0': -0.05140117805470193, 'b1': 1.0001057960146993, 'b2': 4.519981449346844e-06, 'c2': 1.0122234331020865, 'p1': 3.499881682467935, 'd1': 2.6367537885525194}\n",
      "current iteration=1017\n",
      "residual=1.7037393609072895e-09\n",
      "params={'Multiplier': 0.0005707180210888785, 'Ip': 0.32927376026224303, 'αPol': 6.16, 'gamma': 4.5537818707205755, 'e0': 1.252656753287273, 'a0': 0.9997998767101954, 'a1': 2.0277399553571427, 'b0': -0.051361450803271695, 'b1': 1.000105834676145, 'b2': 4.524618915757728e-06, 'c2': 1.0121814155840085, 'p1': 3.4998802346269056, 'd1': 2.637492810957251}\n",
      "current iteration=1018\n",
      "residual=1.703738663389932e-09\n",
      "params={'Multiplier': 0.0005699336374972441, 'Ip': 0.32927376026224303, 'αPol': 6.16, 'gamma': 4.553782162310863, 'e0': 1.2525030374668025, 'a0': 0.9998008739042222, 'a1': 2.0277399553571427, 'b0': -0.051446329332541174, 'b1': 1.0001057520151397, 'b2': 4.514701807734056e-06, 'c2': 1.012271682768942, 'p1': 3.4998833314420397, 'd1': 2.6359196178234687}\n",
      "current iteration=1019\n",
      "residual=1.7037391018204296e-09\n",
      "params={'Multiplier': 0.0005699108757869498, 'Ip': 0.32927376026224303, 'αPol': 6.16, 'gamma': 4.553782197728255, 'e0': 1.252468577005291, 'a0': 0.9998009403340081, 'a1': 2.0277399553571427, 'b0': -0.05145576039917367, 'b1': 1.0001057463003253, 'b2': 4.51406864310222e-06, 'c2': 1.0122795108468507, 'p1': 3.4998834478862753, 'd1': 2.6358391172083517}\n",
      "current iteration=1020\n",
      "residual=1.7037386648282853e-09\n",
      "params={'Multiplier': 0.0005702689365910674, 'Ip': 0.32927376026224303, 'αPol': 6.16, 'gamma': 4.553782027533389, 'e0': 1.2525800082090592, 'a0': 0.9998004334955408, 'a1': 2.0277399553571427, 'b0': -0.0514074266286917, 'b1': 1.0001057886002807, 'b2': 4.519070170738715e-06, 'c2': 1.0122311355066276, 'p1': 3.4998819974358115, 'd1': 2.636605296410927}\n",
      "current iteration=1021\n",
      "residual=1.7037388645284131e-09\n",
      "params={'Multiplier': 0.0005698681213593959, 'Ip': 0.32927376026224303, 'αPol': 6.16, 'gamma': 4.55378216170077, 'e0': 1.252516854001172, 'a0': 0.9998009216317043, 'a1': 2.0277399553571427, 'b0': -0.051447221014747545, 'b1': 1.0001057482801397, 'b2': 4.514209281714088e-06, 'c2': 1.0122742847565467, 'p1': 3.4998835547012757, 'd1': 2.635821729205347}\n",
      "current iteration=1022\n",
      "residual=1.7037390886299865e-09\n",
      "params={'Multiplier': 0.0005700521978772022, 'Ip': 0.32927376026224303, 'αPol': 6.16, 'gamma': 4.553782130691987, 'e0': 1.252506407499114, 'a0': 0.9998007390552963, 'a1': 2.0277399553571427, 'b0': -0.05143726066848067, 'b1': 1.0001057629294672, 'b2': 4.516041749003108e-06, 'c2': 1.012260903080944, 'p1': 3.4998828637581005, 'd1': 2.6361490182011065}\n",
      "current iteration=1023\n",
      "residual=1.7037386387875816e-09\n",
      "params={'Multiplier': 0.0005701340134706134, 'Ip': 0.32927376026224303, 'αPol': 6.16, 'gamma': 4.553782078691046, 'e0': 1.2525544441073584, 'a0': 0.9998006067607487, 'a1': 2.0277399553571427, 'b0': -0.05142214096977042, 'b1': 1.000105774299319, 'b2': 4.5173548062216184e-06, 'c2': 1.0122466578726972, 'p1': 3.499882533066922, 'd1': 2.6363307966595597}\n",
      "current iteration=1024\n",
      "residual=1.703738848636558e-09\n",
      "params={'Multiplier': 0.0005701695081336, 'Ip': 0.32927376026224303, 'αPol': 6.16, 'gamma': 4.553782063728934, 'e0': 1.252568006162011, 'a0': 0.999800555036163, 'a1': 2.0277399553571427, 'b0': -0.05141756571543865, 'b1': 1.0001057788417613, 'b2': 4.517905766387997e-06, 'c2': 1.0122409280248124, 'p1': 3.4998823634306064, 'd1': 2.6364039745339745}\n",
      "current iteration=1025\n",
      "residual=1.703739011955618e-09\n",
      "params={'Multiplier': 0.0005704207170816877, 'Ip': 0.32927376026224303, 'αPol': 6.16, 'gamma': 4.55378200248268, 'e0': 1.2525778380322574, 'a0': 0.999800283446892, 'a1': 2.0277399553571427, 'b0': -0.05139876715515972, 'b1': 1.000105800871312, 'b2': 4.520603160251824e-06, 'c2': 1.012219319033906, 'p1': 3.499881428623037, 'd1': 2.636867527969941}\n",
      "current iteration=1026\n",
      "residual=1.7037386305004088e-09\n",
      "params={'Multiplier': 0.0005700062451615695, 'Ip': 0.32927376026224303, 'αPol': 6.16, 'gamma': 4.553782121896248, 'e0': 1.2525320999709493, 'a0': 0.999800762085501, 'a1': 2.0277399553571427, 'b0': -0.05143510754985059, 'b1': 1.0001057614279327, 'b2': 4.515807327187815e-06, 'c2': 1.0122605431927965, 'p1': 3.4998830231817157, 'd1': 2.6360831765894517}\n",
      "current iteration=1027\n",
      "residual=1.7037388421170978e-09\n",
      "params={'Multiplier': 0.0005700866108265812, 'Ip': 0.32927376026224303, 'αPol': 6.16, 'gamma': 4.55378211208798, 'e0': 1.2525195045994977, 'a0': 0.9998006914523003, 'a1': 2.0277399553571427, 'b0': -0.051431930821350974, 'b1': 1.0001057668269244, 'b2': 4.516485891281619e-06, 'c2': 1.0122565984677268, 'p1': 3.499882751843928, 'd1': 2.6362211169660856}\n",
      "current iteration=1028\n",
      "residual=1.7037390000093114e-09\n",
      "params={'Multiplier': 0.000570190690457939, 'Ip': 0.32927376026224303, 'αPol': 6.16, 'gamma': 4.553782105254171, 'e0': 1.2525075186202863, 'a0': 0.9998005989095473, 'a1': 2.0277399553571427, 'b0': -0.051428677287832764, 'b1': 1.0001057744184183, 'b2': 4.51746881902082e-06, 'c2': 1.0122496639819447, 'p1': 3.4998823443427707, 'd1': 2.6363910239801736}\n",
      "current iteration=1029\n",
      "residual=1.7037386251040191e-09\n",
      "params={'Multiplier': 0.0005700993917511221, 'Ip': 0.32927376026224303, 'αPol': 6.16, 'gamma': 4.553782084426254, 'e0': 1.2525543128071166, 'a0': 0.9998006408957469, 'a1': 2.0277399553571427, 'b0': -0.051424172705225105, 'b1': 1.0001057714893875, 'b2': 4.517004680515413e-06, 'c2': 1.0122494048534096, 'p1': 3.499882661898536, 'd1': 2.636271687731192}\n",
      "current iteration=1030\n",
      "residual=1.7037388223770535e-09\n",
      "params={'Multiplier': 0.0005701755948609444, 'Ip': 0.32927376026224303, 'αPol': 6.16, 'gamma': 4.553782065117462, 'e0': 1.2525648865374768, 'a0': 0.9998005522370831, 'a1': 2.0277399553571427, 'b0': -0.05141786602094585, 'b1': 1.0001057790370302, 'b2': 4.517936711412318e-06, 'c2': 1.0122409452999783, 'p1': 3.499882342260222, 'd1': 2.6364119302976174}\n",
      "current iteration=1031\n",
      "residual=1.7037386319297028e-09\n",
      "params={'Multiplier': 0.0005701533482006527, 'Ip': 0.32927376026224303, 'αPol': 6.16, 'gamma': 4.553782076860091, 'e0': 1.2525535410319422, 'a0': 0.9998005870408874, 'a1': 2.0277399553571427, 'b0': -0.05142138222104713, 'b1': 1.0001057759845038, 'b2': 4.5175739844527385e-06, 'c2': 1.0122448585811217, 'p1': 3.4998824446561487, 'd1': 2.6363642268879364}\n",
      "current iteration=1032\n",
      "residual=1.7037389067095029e-09\n",
      "params={'Multiplier': 0.0005705251206550299, 'Ip': 0.32927376026224303, 'αPol': 6.16, 'gamma': 4.553781937443704, 'e0': 1.252629204266607, 'a0': 0.9998001109870235, 'a1': 2.0277399553571427, 'b0': -0.05138064361843749, 'b1': 1.0001058154935911, 'b2': 4.522316048083397e-06, 'c2': 1.0122014632207585, 'p1': 3.4998809680607534, 'd1': 2.637112649884931}\n",
      "current iteration=1033\n",
      "residual=1.7037386157931648e-09\n",
      "params={'Multiplier': 0.000569986160485425, 'Ip': 0.32927376026224303, 'αPol': 6.16, 'gamma': 4.553782143819523, 'e0': 1.252510985661428, 'a0': 0.9998008090658421, 'a1': 2.0277399553571427, 'b0': -0.05144105444715234, 'b1': 1.000105757352938, 'b2': 4.515343053235199e-06, 'c2': 1.0122660237183592, 'p1': 3.49988312637433, 'd1': 2.636023942699041}\n",
      "current iteration=1034\n",
      "residual=1.703738814739694e-09\n",
      "params={'Multiplier': 0.0005701762555553325, 'Ip': 0.32927376026224303, 'αPol': 6.16, 'gamma': 4.553782040594417, 'e0': 1.2525875408035914, 'a0': 0.9998005214538295, 'a1': 2.0277399553571427, 'b0': -0.05141188408462361, 'b1': 1.000105781576151, 'b2': 4.518186390578549e-06, 'c2': 1.012237330052883, 'p1': 3.499882338304618, 'd1': 2.6364444829760827}\n",
      "current iteration=1035\n",
      "residual=1.703738612276388e-09\n",
      "params={'Multiplier': 0.0005701394047189501, 'Ip': 0.32927376026224303, 'αPol': 6.16, 'gamma': 4.553782096539013, 'e0': 1.2525315350607569, 'a0': 0.9998006260541721, 'a1': 2.0277399553571427, 'b0': -0.05142682215446942, 'b1': 1.0001057724945053, 'b2': 4.517181450225394e-06, 'c2': 1.0122498833612787, 'p1': 3.4998825226031482, 'd1': 2.636319864265294}\n",
      "current iteration=1036\n",
      "residual=1.703738812539251e-09\n",
      "params={'Multiplier': 0.0005698738508762569, 'Ip': 0.32927376026224303, 'αPol': 6.16, 'gamma': 4.553782175193307, 'e0': 1.2525031731082334, 'a0': 0.9998009381302388, 'a1': 2.0277399553571427, 'b0': -0.05145024786669753, 'b1': 1.0001057468027628, 'b2': 4.514053259185857e-06, 'c2': 1.012276804699991, 'p1': 3.4998835663969476, 'd1': 2.63580903569888}\n",
      "current iteration=1037\n",
      "residual=1.70373861011675e-09\n",
      "params={'Multiplier': 0.0005702543590847542, 'Ip': 0.32927376026224303, 'αPol': 6.16, 'gamma': 4.5537820437334044, 'e0': 1.2525655065272416, 'a0': 0.999800465442171, 'a1': 2.0277399553571427, 'b0': -0.0514118133166148, 'b1': 1.0001057859129276, 'b2': 4.51877356710817e-06, 'c2': 1.0122345574177065, 'p1': 3.499882054389419, 'd1': 2.6365633511356212}\n",
      "current iteration=1038\n",
      "residual=1.7037387414763937e-09\n",
      "params={'Multiplier': 0.0005700584477762449, 'Ip': 0.32927376026224303, 'αPol': 6.16, 'gamma': 4.553782092695791, 'e0': 1.2525531027566328, 'a0': 0.9998006828929755, 'a1': 2.0277399553571427, 'b0': -0.05142685120637229, 'b1': 1.0001057680349719, 'b2': 4.516577080559969e-06, 'c2': 1.0122528609615715, 'p1': 3.4998828147105012, 'd1': 2.636200427260826}\n",
      "current iteration=1039\n",
      "residual=1.7037386059408808e-09\n",
      "params={'Multiplier': 0.000570169263752418, 'Ip': 0.32927376026224303, 'αPol': 6.16, 'gamma': 4.553782080147469, 'e0': 1.2525441856230022, 'a0': 0.9998005808514808, 'a1': 2.0277399553571427, 'b0': -0.051422188503823546, 'b1': 1.000105776321259, 'b2': 4.517630113332061e-06, 'c2': 1.0122452965049349, 'p1': 3.4998823992721504, 'd1': 2.636385147735722}\n",
      "current iteration=1040\n",
      "residual=1.7037387664750365e-09\n",
      "params={'Multiplier': 0.0005698811787905322, 'Ip': 0.32927376026224303, 'αPol': 6.16, 'gamma': 4.553782175698863, 'e0': 1.2524998219129584, 'a0': 0.9998009332109707, 'a1': 2.0277399553571427, 'b0': -0.05145050951113532, 'b1': 1.0001057471649393, 'b2': 4.514107501130127e-06, 'c2': 1.0122765759151158, 'p1': 3.4998835363961094, 'd1': 2.635819636948668}\n",
      "current iteration=1041\n",
      "residual=1.703738598224652e-09\n",
      "params={'Multiplier': 0.0005702311353857903, 'Ip': 0.32927376026224303, 'αPol': 6.16, 'gamma': 4.553782049544164, 'e0': 1.252564537547591, 'a0': 0.9998004912339616, 'a1': 2.0277399553571427, 'b0': -0.05141351091881027, 'b1': 1.0001057838022593, 'b2': 4.51851260430125e-06, 'c2': 1.0122367186809325, 'p1': 3.4998821459499787, 'd1': 2.6365202488109665}\n",
      "current iteration=1042\n",
      "residual=1.7037387125933477e-09\n",
      "params={'Multiplier': 0.0005699524685408575, 'Ip': 0.32927376026224303, 'αPol': 6.16, 'gamma': 4.553782160060226, 'e0': 1.2525028290684044, 'a0': 0.9998008551714062, 'a1': 2.0277399553571427, 'b0': -0.05144547779516924, 'b1': 1.0001057536197537, 'b2': 4.514906813302133e-06, 'c2': 1.0122699899996033, 'p1': 3.499883251131066, 'd1': 2.635951117176199}\n",
      "current iteration=1043\n",
      "residual=1.7037385911555377e-09\n",
      "params={'Multiplier': 0.0005701898113364967, 'Ip': 0.32927376026224303, 'αPol': 6.16, 'gamma': 4.553782060665098, 'e0': 1.2525607133630428, 'a0': 0.999800538914507, 'a1': 2.0277399553571427, 'b0': -0.051416939420311086, 'b1': 1.000105779855149, 'b2': 4.518029151467928e-06, 'c2': 1.0122408490633672, 'p1': 3.499882310859625, 'd1': 2.636441750699578}\n",
      "current iteration=1044\n",
      "residual=1.7037386777509328e-09\n",
      "params={'Multiplier': 0.0005703390192649538, 'Ip': 0.32927376026224303, 'αPol': 6.16, 'gamma': 4.553782004953598, 'e0': 1.2525913350556515, 'a0': 0.9998003477647818, 'a1': 2.0277399553571427, 'b0': -0.051400697108873766, 'b1': 1.0001057957728965, 'b2': 4.519940983049864e-06, 'c2': 1.0122232761150864, 'p1': 3.4998817130083553, 'd1': 2.6367412240190755}\n",
      "current iteration=1045\n",
      "residual=1.703738593798144e-09\n",
      "params={'Multiplier': 0.0005700349694158779, 'Ip': 0.32927376026224303, 'αPol': 6.16, 'gamma': 4.553782122971548, 'e0': 1.2525251117843657, 'a0': 0.999800742369362, 'a1': 2.0277399553571427, 'b0': -0.05143492127662432, 'b1': 1.0001057629545789, 'b2': 4.51601131667978e-06, 'c2': 1.0122595810022563, 'p1': 3.4998829268336182, 'd1': 2.63612501794845}\n",
      "current iteration=1046\n",
      "residual=1.7037386000364048e-09\n",
      "params={'Multiplier': 0.0005701187976544508, 'Ip': 0.32927376026224303, 'αPol': 6.16, 'gamma': 4.553782097429517, 'e0': 1.25253406174562, 'a0': 0.9998006420299776, 'a1': 2.0277399553571427, 'b0': -0.0514274415330153, 'b1': 1.0001057712197692, 'b2': 4.517018513228166e-06, 'c2': 1.0122508853580148, 'p1': 3.499882590136812, 'd1': 2.636288885568335}\n",
      "current iteration=1047\n",
      "residual=1.7037386565802041e-09\n",
      "params={'Multiplier': 0.0005700925536443746, 'Ip': 0.32927376026224303, 'αPol': 6.16, 'gamma': 4.553782103374356, 'e0': 1.2525310689664337, 'a0': 0.999800672747657, 'a1': 2.0277399553571427, 'b0': -0.051429412144132214, 'b1': 1.0001057685816377, 'b2': 4.5166882609581904e-06, 'c2': 1.0122538900131315, 'p1': 3.4998827076437182, 'd1': 2.6362403871593676}\n",
      "current iteration=1048\n",
      "residual=1.7037385823063181e-09\n",
      "params={'Multiplier': 0.0005701381492574376, 'Ip': 0.32927376026224303, 'αPol': 6.16, 'gamma': 4.553782083488658, 'e0': 1.2525479230104062, 'a0': 0.9998006084675798, 'a1': 2.0277399553571427, 'b0': -0.051423389701818395, 'b1': 1.0001057741337873, 'b2': 4.517352545585496e-06, 'c2': 1.012247116435531, 'p1': 3.499882510403041, 'd1': 2.636333266923445}\n",
      "current iteration=1049\n",
      "residual=1.7037386630129535e-09\n",
      "params={'Multiplier': 0.000570266052832058, 'Ip': 0.32927376026224303, 'αPol': 6.16, 'gamma': 4.5537820506566815, 'e0': 1.2525556746377648, 'a0': 0.9998004669794592, 'a1': 2.0277399553571427, 'b0': -0.05141334324572236, 'b1': 1.0001057856793796, 'b2': 4.518764203709225e-06, 'c2': 1.0122355201204467, 'p1': 3.4998820265624158, 'd1': 2.636571456899387}\n",
      "current iteration=1050\n",
      "residual=1.7037385817877838e-09\n",
      "params={'Multiplier': 0.0005700711915245238, 'Ip': 0.32927376026224303, 'αPol': 6.16, 'gamma': 4.553782104086356, 'e0': 1.2525379936319756, 'a0': 0.9998006883089905, 'a1': 2.0277399553571427, 'b0': -0.05142966647381853, 'b1': 1.0001057674907945, 'b2': 4.516546455501924e-06, 'c2': 1.0122542873971259, 'p1': 3.499882774026891, 'd1': 2.6362052461640286}\n",
      "current iteration=1051\n",
      "residual=1.7037386463154486e-09\n",
      "params={'Multiplier': 0.000570167252150644, 'Ip': 0.32927376026224303, 'αPol': 6.16, 'gamma': 4.553782092058696, 'e0': 1.252530197968368, 'a0': 0.999800597651862, 'a1': 2.0277399553571427, 'b0': -0.05142537684406652, 'b1': 1.000105774818206, 'b2': 4.517474964327306e-06, 'c2': 1.0122476348937508, 'p1': 3.4998824102712667, 'd1': 2.6363696561315875}\n",
      "current iteration=1052\n",
      "residual=1.7037385820216137e-09\n",
      "params={'Multiplier': 0.0005701163564720835, 'Ip': 0.32927376026224303, 'αPol': 6.16, 'gamma': 4.5537820863343645, 'e0': 1.252548284091489, 'a0': 0.9998006300847757, 'a1': 2.0277399553571427, 'b0': -0.05142447373993546, 'b1': 1.000105772321592, 'b2': 4.5171222493589624e-06, 'c2': 1.0122489623633568, 'p1': 3.499882598991719, 'd1': 2.636296179811046}\n",
      "current iteration=1053\n",
      "residual=1.7037386363571924e-09\n",
      "params={'Multiplier': 0.0005703065461527546, 'Ip': 0.32927376026224303, 'αPol': 6.16, 'gamma': 4.553782021168395, 'e0': 1.2525809849294873, 'a0': 0.9998003936855537, 'a1': 2.0277399553571427, 'b0': -0.051405178960695894, 'b1': 1.0001057919483864, 'b2': 4.519492944776715e-06, 'c2': 1.0122276039465872, 'p1': 3.4998818403189507, 'd1': 2.636671851106745}\n",
      "current iteration=1054\n",
      "residual=1.70373857971045e-09\n",
      "params={'Multiplier': 0.0005700662484554586, 'Ip': 0.32927376026224303, 'αPol': 6.16, 'gamma': 4.553782113156741, 'e0': 1.2525284854283854, 'a0': 0.9998007052207699, 'a1': 2.0277399553571427, 'b0': -0.05143208557553823, 'b1': 1.0001057660018, 'b2': 4.516380347263649e-06, 'c2': 1.0122564187103922, 'p1': 3.4998828048604853, 'd1': 2.6361859189154973}\n",
      "current iteration=1055\n",
      "residual=1.7037386171082357e-09\n",
      "params={'Multiplier': 0.000570138647629892, 'Ip': 0.32927376026224303, 'αPol': 6.16, 'gamma': 4.553782071772451, 'e0': 1.2525598254909491, 'a0': 0.9998005925305431, 'a1': 2.0277399553571427, 'b0': -0.05142046393759257, 'b1': 1.0001057755082783, 'b2': 4.517493842559617e-06, 'c2': 1.0122450511991419, 'p1': 3.4998825005415997, 'd1': 2.63634913806098}\n",
      "current iteration=1056\n",
      "residual=1.703738580387152e-09\n",
      "params={'Multiplier': 0.0005701392154467966, 'Ip': 0.32927376026224303, 'αPol': 6.16, 'gamma': 4.553782090347372, 'e0': 1.2525386076601284, 'a0': 0.9998006176732648, 'a1': 2.0277399553571427, 'b0': -0.05142523260025021, 'b1': 1.0001057732479484, 'b2': 4.517259547309749e-06, 'c2': 1.012248675319716, 'p1': 3.499882517087761, 'd1': 2.6363271827124075}\n",
      "current iteration=1057\n",
      "residual=1.7037386100009529e-09\n",
      "params={'Multiplier': 0.0005700006799421731, 'Ip': 0.32927376026224303, 'αPol': 6.16, 'gamma': 4.553782133900853, 'e0': 1.2525204742890108, 'a0': 0.999800783588763, 'a1': 2.0277399553571427, 'b0': -0.05143815663217428, 'b1': 1.0001057595568599, 'b2': 4.515599223209321e-06, 'c2': 1.0122632008254522, 'p1': 3.499883061294997, 'd1': 2.636058419065528}\n",
      "current iteration=1058\n",
      "residual=1.70373858029954e-09\n",
      "params={'Multiplier': 0.0005700640944320545, 'Ip': 0.32927376026224303, 'αPol': 6.16, 'gamma': 4.5537821113589905, 'e0': 1.252531732327851, 'a0': 0.999800704052115, 'a1': 2.0277399553571427, 'b0': -0.05143157080328441, 'b1': 1.0001057661458768, 'b2': 4.516392704712047e-06, 'c2': 1.0122560399373737, 'p1': 3.4998828095686028, 'd1': 2.636184651545249}\n",
      "current iteration=1059\n",
      "residual=1.70373861130149e-09\n",
      "params={'Multiplier': 0.0005700647295833194, 'Ip': 0.32927376026224303, 'αPol': 6.16, 'gamma': 4.553782103729093, 'e0': 1.252539304478426, 'a0': 0.99980069281958, 'a1': 2.0277399553571427, 'b0': -0.05142965790485769, 'b1': 1.0001057671134521, 'b2': 4.516494949147187e-06, 'c2': 1.0122546103372587, 'p1': 3.4998827984715564, 'd1': 2.636196521978979}\n",
      "current iteration=1060\n",
      "residual=1.703738578659637e-09\n",
      "params={'Multiplier': 0.0005701431293109183, 'Ip': 0.32927376026224303, 'αPol': 6.16, 'gamma': 4.553782086042875, 'e0': 1.2525429653366147, 'a0': 0.9998006088435056, 'a1': 2.0277399553571427, 'b0': -0.05142405585408208, 'b1': 1.0001057740193073, 'b2': 4.5173463087966326e-06, 'c2': 1.0122476249591943, 'p1': 3.499882499072002, 'd1': 2.6363379912214873}\n",
      "current iteration=1061\n",
      "residual=1.7037386319394896e-09\n",
      "params={'Multiplier': 0.000570120059560586, 'Ip': 0.32927376026224303, 'αPol': 6.16, 'gamma': 4.5537820841697165, 'e0': 1.2525512090820827, 'a0': 0.9998006250037887, 'a1': 2.0277399553571427, 'b0': -0.05142372773987931, 'b1': 1.0001057727748495, 'b2': 4.517172072615594e-06, 'c2': 1.012248369394804, 'p1': 3.4998825893939327, 'd1': 2.63630260507347}\n",
      "current iteration=1062\n",
      "residual=1.7037385740161265e-09\n",
      "params={'Multiplier': 0.0005701191131307626, 'Ip': 0.32927376026224303, 'αPol': 6.16, 'gamma': 4.553782094114567, 'e0': 1.2525383485767319, 'a0': 0.9998006377734304, 'a1': 2.0277399553571427, 'b0': -0.051426513084731305, 'b1': 1.0001057716085393, 'b2': 4.517056902741956e-06, 'c2': 1.012250256366933, 'p1': 3.499882589951092, 'd1': 2.6362923154442215}\n",
      "current iteration=1063\n",
      "residual=1.703738618883035e-09\n",
      "params={'Multiplier': 0.000569985331842493, 'Ip': 0.32927376026224303, 'αPol': 6.16, 'gamma': 4.55378214096915, 'e0': 1.2525154955492273, 'a0': 0.9998008051076985, 'a1': 2.0277399553571427, 'b0': -0.051440258787268545, 'b1': 1.0001057577536154, 'b2': 4.515387135306526e-06, 'c2': 1.0122652437125987, 'p1': 3.499883122380989, 'd1': 2.636025656657487}\n",
      "current iteration=1064\n",
      "residual=1.7037385747981155e-09\n",
      "params={'Multiplier': 0.0005701696795278322, 'Ip': 0.32927376026224303, 'αPol': 6.16, 'gamma': 4.55378207240041, 'e0': 1.2525522770234292, 'a0': 0.9998005697023958, 'a1': 2.0277399553571427, 'b0': -0.05142019788592484, 'b1': 1.0001057772900983, 'b2': 4.517731135633696e-06, 'c2': 1.012243849903005, 'p1': 3.499882390057731, 'd1': 2.636396600256614}\n",
      "current iteration=1065\n",
      "residual=1.703738588986905e-09\n",
      "params={'Multiplier': 0.0005702084334776591, 'Ip': 0.32927376026224303, 'αPol': 6.16, 'gamma': 4.553782057427539, 'e0': 1.2525603543301655, 'a0': 0.999800519438905, 'a1': 2.0277399553571427, 'b0': -0.0514159037513146, 'b1': 1.0001057814683996, 'b2': 4.518232259220767e-06, 'c2': 1.0122392351267173, 'p1': 3.4998822341421714, 'd1': 2.6364752033268557}\n",
      "current iteration=1066\n",
      "residual=1.7037385843453916e-09\n",
      "params={'Multiplier': 0.0005700573129846509, 'Ip': 0.32927376026224303, 'αPol': 6.16, 'gamma': 4.553782119086477, 'e0': 1.252524680946586, 'a0': 0.9998007189986395, 'a1': 2.0277399553571427, 'b0': -0.051433678473828515, 'b1': 1.0001057648904799, 'b2': 4.516254992203983e-06, 'c2': 1.0122576442613767, 'p1': 3.4998828347726736, 'd1': 2.6361651608181313}\n",
      "current iteration=1067\n",
      "residual=1.703738609623291e-09\n",
      "params={'Multiplier': 0.0005700084721146359, 'Ip': 0.32927376026224303, 'αPol': 6.16, 'gamma': 4.553782134655823, 'e0': 1.2525179053177133, 'a0': 0.9998007783861885, 'a1': 2.0277399553571427, 'b0': -0.0514382690873278, 'b1': 1.0001057599616452, 'b2': 4.515656536252521e-06, 'c2': 1.01226294006082, 'p1': 3.4998830316162284, 'd1': 2.636069700228693}\n",
      "current iteration=1068\n",
      "residual=1.7037385721841441e-09\n",
      "params={'Multiplier': 0.0005701584398464243, 'Ip': 0.32927376026224303, 'αPol': 6.16, 'gamma': 4.55378207673461, 'e0': 1.252549742058644, 'a0': 0.9998005841757258, 'a1': 2.0277399553571427, 'b0': -0.0514214950853179, 'b1': 1.0001057760917111, 'b2': 4.5175882594783445e-06, 'c2': 1.0122451613354893, 'p1': 3.4998824335106855, 'd1': 2.636373827205473}\n",
      "current iteration=1069\n",
      "residual=1.7037385873181043e-09\n",
      "params={'Multiplier': 0.0005701798125982149, 'Ip': 0.32927376026224303, 'αPol': 6.16, 'gamma': 4.553782064526512, 'e0': 1.252558590907674, 'a0': 0.9998005518618712, 'a1': 2.0277399553571427, 'b0': -0.05141805768711176, 'b1': 1.000105778779811, 'b2': 4.517900350720083e-06, 'c2': 1.0122420343047, 'p1': 3.499882350733328, 'd1': 2.6364214754720643}\n",
      "current iteration=1070\n",
      "residual=1.703738572989447e-09\n",
      "params={'Multiplier': 0.0005700879366531408, 'Ip': 0.32927376026224303, 'αPol': 6.16, 'gamma': 4.553782105446485, 'e0': 1.2525331584251105, 'a0': 0.9998006772144474, 'a1': 2.0277399553571427, 'b0': -0.05142977327714933, 'b1': 1.0001057683628127, 'b2': 4.516666303633343e-06, 'c2': 1.0122537417614734, 'p1': 3.4998827137628377, 'd1': 2.6362292393430335}\n",
      "current iteration=1071\n",
      "residual=1.7037385872244685e-09\n",
      "params={'Multiplier': 0.0005700889310163992, 'Ip': 0.32927376026224303, 'αPol': 6.16, 'gamma': 4.553782104515897, 'e0': 1.2525323959019228, 'a0': 0.9998006761423044, 'a1': 2.0277399553571427, 'b0': -0.05142962317418806, 'b1': 1.000105768382309, 'b2': 4.516665486731242e-06, 'c2': 1.0122538871723343, 'p1': 3.49988271577492, 'd1': 2.6362325635349575}\n",
      "current iteration=1072\n",
      "residual=1.7037385722428276e-09\n",
      "params={'Multiplier': 0.0005701258444977819, 'Ip': 0.32927376026224303, 'αPol': 6.16, 'gamma': 4.553782088745468, 'e0': 1.2525440412308226, 'a0': 0.9998006253862609, 'a1': 2.0277399553571427, 'b0': -0.05142494806991081, 'b1': 1.0001057726959177, 'b2': 4.517180775875929e-06, 'c2': 1.0122488091177124, 'p1': 3.499882561746011, 'd1': 2.636308091054932}\n",
      "current iteration=1073\n",
      "residual=1.7037385830386013e-09\n",
      "params={'Multiplier': 0.0005701126208667029, 'Ip': 0.32927376026224303, 'αPol': 6.16, 'gamma': 4.553782102152411, 'e0': 1.2525311862506765, 'a0': 0.9998006535854056, 'a1': 2.0277399553571427, 'b0': -0.051428634002066084, 'b1': 1.0001057702693692, 'b2': 4.5169074762707595e-06, 'c2': 1.0122520105910626, 'p1': 3.499882619737101, 'd1': 2.6362720328413696}\n",
      "current iteration=1074\n",
      "residual=1.7037385724423862e-09\n",
      "params={'Multiplier': 0.0005701154225695726, 'Ip': 0.32927376026224303, 'αPol': 6.16, 'gamma': 4.553782090288876, 'e0': 1.252544009628299, 'a0': 0.9998006359599332, 'a1': 2.0277399553571427, 'b0': -0.051425513805468115, 'b1': 1.0001057718085364, 'b2': 4.517068555420778e-06, 'c2': 1.012249724419874, 'p1': 3.4998826041780644, 'd1': 2.636290143067397}\n",
      "current iteration=1075\n",
      "residual=1.7037385927383213e-09\n",
      "params={'Multiplier': 0.0005701666342007305, 'Ip': 0.32927376026224303, 'αPol': 6.16, 'gamma': 4.553782081640923, 'e0': 1.2525426799019628, 'a0': 0.9998005848913792, 'a1': 2.0277399553571427, 'b0': -0.05142261073451292, 'b1': 1.0001057759637153, 'b2': 4.517587721464267e-06, 'c2': 1.0122457729700174, 'p1': 3.4998824107321633, 'd1': 2.6363799460529873}\n",
      "current iteration=1076\n",
      "residual=1.703738571222709e-09\n",
      "params={'Multiplier': 0.0005700950514438974, 'Ip': 0.32927376026224303, 'αPol': 6.16, 'gamma': 4.553782098474998, 'e0': 1.2525391651992481, 'a0': 0.9998006624545877, 'a1': 2.0277399553571427, 'b0': -0.051427902538992126, 'b1': 1.0001057696090245, 'b2': 4.516806760612724e-06, 'c2': 1.0122521587871551, 'p1': 3.499882683203209, 'd1': 2.6362489210718896}\n",
      "current iteration=1077\n",
      "residual=1.7037385783092267e-09\n",
      "params={'Multiplier': 0.0005700897760186896, 'Ip': 0.32927376026224303, 'αPol': 6.16, 'gamma': 4.553782097005431, 'e0': 1.2525421773813998, 'a0': 0.9998006644833696, 'a1': 2.0277399553571427, 'b0': -0.05142757859582962, 'b1': 1.0001057694787765, 'b2': 4.51678404833622e-06, 'c2': 1.0122520817336924, 'p1': 3.499882700894383, 'd1': 2.6362423570450817}\n",
      "current iteration=1078\n",
      "residual=1.7037385746332506e-09\n",
      "params={'Multiplier': 0.0005701700354524553, 'Ip': 0.32927376026224303, 'αPol': 6.16, 'gamma': 4.553782073123101, 'e0': 1.252551141735204, 'a0': 0.9998005701907703, 'a1': 2.0277399553571427, 'b0': -0.05142044195130445, 'b1': 1.000105777247428, 'b2': 4.517729206954257e-06, 'c2': 1.0122439254926183, 'p1': 3.4998823866786974, 'd1': 2.6363964295432667}\n",
      "current iteration=1079\n",
      "residual=1.7037385786406319e-09\n",
      "params={'Multiplier': 0.0005701886397276867, 'Ip': 0.32927376026224303, 'αPol': 6.16, 'gamma': 4.553782063318623, 'e0': 1.2525589199123655, 'a0': 0.9998005420161155, 'a1': 2.0277399553571427, 'b0': -0.05141759845420388, 'b1': 1.0001057796406303, 'b2': 4.518011362586449e-06, 'c2': 1.0122410480875146, 'p1': 3.4998823077504575, 'd1': 2.6364372644110126}\n",
      "current iteration=1080\n",
      "residual=1.7037385820922353e-09\n",
      "params={'Multiplier': 0.0005701208574883099, 'Ip': 0.32927376026224303, 'αPol': 6.16, 'gamma': 4.553782085887639, 'e0': 1.2525476308924053, 'a0': 0.9998006250279017, 'a1': 2.0277399553571427, 'b0': -0.0514243366956844, 'b1': 1.0001057727473877, 'b2': 4.517178332275051e-06, 'c2': 1.0122485264342038, 'p1': 3.499882575274632, 'd1': 2.6363050463619384}\n",
      "current iteration=1081\n",
      "residual=1.7037385712503437e-09\n",
      "params={'Multiplier': 0.00057013756131441, 'Ip': 0.32927376026224303, 'αPol': 6.16, 'gamma': 4.553782086004066, 'e0': 1.2525441317253403, 'a0': 0.9998006128896046, 'a1': 2.0277399553571427, 'b0': -0.051424126064482656, 'b1': 1.0001057737013275, 'b2': 4.5173043143886815e-06, 'c2': 1.012247850327911, 'p1': 3.4998825181226594, 'd1': 2.636329755004311}\n",
      "current iteration=1082\n",
      "residual=1.703738579197958e-09\n",
      "params={'Multiplier': 0.0005700651349290764, 'Ip': 0.32927376026224303, 'αPol': 6.16, 'gamma': 4.553782113148979, 'e0': 1.2525287187057512, 'a0': 0.9998007060299897, 'a1': 2.0277399553571427, 'b0': -0.051432099617618354, 'b1': 1.000105765938204, 'b2': 4.516371949314646e-06, 'c2': 1.0122564637843199, 'p1': 3.4998828086706166, 'd1': 2.636184271677575}\n",
      "current iteration=1083\n",
      "residual=1.7037385715545989e-09\n",
      "params={'Multiplier': 0.0005701577622728715, 'Ip': 0.32927376026224303, 'αPol': 6.16, 'gamma': 4.553782075776212, 'e0': 1.2525513696013935, 'a0': 0.999800583019584, 'a1': 2.0277399553571427, 'b0': -0.0514212237450575, 'b1': 1.0001057762150236, 'b2': 4.517601481346389e-06, 'c2': 1.0122449020012472, 'p1': 3.499882432980497, 'd1': 2.6363740160926485}\n",
      "current iteration=1084\n",
      "residual=1.70373857936139e-09\n",
      "params={'Multiplier': 0.0005701775943117715, 'Ip': 0.32927376026224303, 'αPol': 6.16, 'gamma': 4.553782075216327, 'e0': 1.252547299656082, 'a0': 0.9998005672699786, 'a1': 2.0277399553571427, 'b0': -0.051420848505838196, 'b1': 1.0001057774473074, 'b2': 4.5177627028269995e-06, 'c2': 1.012243994171484, 'p1': 3.499882361943914, 'd1': 2.636405510648158}\n",
      "current iteration=1085\n",
      "residual=1.7037385711145512e-09\n",
      "params={'Multiplier': 0.0005701117299573566, 'Ip': 0.32927376026224303, 'αPol': 6.16, 'gamma': 4.553782091558156, 'e0': 1.2525434579498023, 'a0': 0.9998006401800218, 'a1': 2.0277399553571427, 'b0': -0.05142589607333177, 'b1': 1.0001057714709092, 'b2': 4.517028702188952e-06, 'c2': 1.0122500598402588, 'p1': 3.4998826161567655, 'd1': 2.636283145389703}\n",
      "current iteration=1086\n",
      "residual=1.7037385701451863e-09\n",
      "params={'Multiplier': 0.0005700861008300917, 'Ip': 0.32927376026224303, 'αPol': 6.16, 'gamma': 4.553782103652898, 'e0': 1.2525354362070247, 'a0': 0.9998006761464774, 'a1': 2.0277399553571427, 'b0': -0.05142936885322436, 'b1': 1.0001057684721477, 'b2': 4.516675135457504e-06, 'c2': 1.0122534679936193, 'p1': 3.4998827180003724, 'd1': 2.636228576483351}\n",
      "current iteration=1087\n",
      "residual=1.7037385800096417e-09\n",
      "params={'Multiplier': 0.0005700443137807154, 'Ip': 0.32927376026224303, 'αPol': 6.16, 'gamma': 4.553782119279141, 'e0': 1.2525270158104118, 'a0': 0.9998007293685182, 'a1': 2.0277399553571427, 'b0': -0.05143395433687413, 'b1': 1.0001057640631723, 'b2': 4.516147181776731e-06, 'c2': 1.0122582770552266, 'p1': 3.4998828819716934, 'd1': 2.6361445648349306}\n",
      "current iteration=1088\n",
      "residual=1.7037385780757844e-09\n",
      "params={'Multiplier': 0.0005700689587543328, 'Ip': 0.32927376026224303, 'αPol': 6.16, 'gamma': 4.553782109036166, 'e0': 1.2525334303905082, 'a0': 0.9998006968492443, 'a1': 2.0277399553571427, 'b0': -0.05143091016822873, 'b1': 1.000105766759762, 'b2': 4.5164662643149e-06, 'c2': 1.0122553009089335, 'p1': 3.4998827876437413, 'd1': 2.636195176660013}\n",
      "current iteration=1089\n",
      "residual=1.7037385697771912e-09\n",
      "params={'Multiplier': 0.0005701447654372638, 'Ip': 0.32927376026224303, 'αPol': 6.16, 'gamma': 4.5537820821013675, 'e0': 1.2525467138958253, 'a0': 0.9998006018553889, 'a1': 2.0277399553571427, 'b0': -0.051423059005535524, 'b1': 1.0001057746255115, 'b2': 4.517413454641073e-06, 'c2': 1.0122467693409969, 'p1': 3.4998824869199585, 'd1': 2.6363461162370205}\n",
      "current iteration=1090\n",
      "residual=1.7037385819437421e-09\n",
      "params={'Multiplier': 0.0005701250092527976, 'Ip': 0.32927376026224303, 'αPol': 6.16, 'gamma': 4.5537820856420606, 'e0': 1.2525478966067687, 'a0': 0.9998006220829759, 'a1': 2.0277399553571427, 'b0': -0.05142414821896272, 'b1': 1.000105773002045, 'b2': 4.5172098346313305e-06, 'c2': 1.0122482726143895, 'p1': 3.49988256376512, 'd1': 2.636310050686546}\n",
      "current iteration=1091\n",
      "residual=1.703738569147976e-09\n",
      "params={'Multiplier': 0.0005701205871583293, 'Ip': 0.32927376026224303, 'αPol': 6.16, 'gamma': 4.553782091996441, 'e0': 1.2525407355833096, 'a0': 0.9998006338508167, 'a1': 2.0277399553571427, 'b0': -0.05142592186828916, 'b1': 1.0001057719569157, 'b2': 4.517095135492255e-06, 'c2': 1.0122497604286238, 'p1': 3.499882583404599, 'd1': 2.636296749254139}\n",
      "current iteration=1092\n",
      "residual=1.703738569147976e-09\n",
      "params={'Multiplier': 0.0005701205871583293, 'Ip': 0.32927376026224303, 'αPol': 6.16, 'gamma': 4.553782091996441, 'e0': 1.2525407355833096, 'a0': 0.9998006338508167, 'a1': 2.0277399553571427, 'b0': -0.05142592186828916, 'b1': 1.0001057719569157, 'b2': 4.517095135492255e-06, 'c2': 1.0122497604286238, 'p1': 3.499882583404599, 'd1': 2.636296749254139}\n",
      "Name           Value      Min      Max   Stderr     Vary     Expr Brute_Step\n",
      "Ip            0.3293   0.2963   0.3622     None    False     None     None\n",
      "Multiplier  0.0005701    1e-06      inf     None     True     None     None\n",
      "a0            0.9998      0.8      1.2     None     True     None     None\n",
      "a1             2.028     -inf      inf     None    False     None     None\n",
      "b0          -0.05143     -inf      inf     None     True     None     None\n",
      "b1                 1      0.9      1.1     None     True     None     None\n",
      "b2          4.517e-06        0      inf     None     True     None     None\n",
      "c2             1.012      0.5        2     None     True     None     None\n",
      "d1             2.636        0      inf     None     True     None     None\n",
      "e0             1.253        0      inf     None     True     None     None\n",
      "gamma          4.554    3.644    5.467     None     True     None     None\n",
      "p1               3.5      2.7      4.3     None     True     None     None\n",
      "αPol            6.16     -inf      inf     None    False     None     None\n"
     ]
    },
    {
     "ename": "IndexError",
     "evalue": "tuple index out of range",
     "output_type": "error",
     "traceback": [
      "\u001b[0;31m---------------------------------------------------------------------------\u001b[0m",
      "\u001b[0;31mIndexError\u001b[0m                                Traceback (most recent call last)",
      "Cell \u001b[0;32mIn[82], line 39\u001b[0m\n\u001b[1;32m     37\u001b[0m fig\u001b[38;5;241m.\u001b[39madd_trace(go\u001b[38;5;241m.\u001b[39mScatter(x\u001b[38;5;241m=\u001b[39mgroup1\u001b[38;5;241m.\u001b[39mwavel, y\u001b[38;5;241m=\u001b[39mgroup1\u001b[38;5;241m.\u001b[39mY, mode\u001b[38;5;241m=\u001b[39m\u001b[38;5;124m'\u001b[39m\u001b[38;5;124mlines+markers\u001b[39m\u001b[38;5;124m'\u001b[39m, name\u001b[38;5;241m=\u001b[39m\u001b[38;5;124m'\u001b[39m\u001b[38;5;124mnumerical data\u001b[39m\u001b[38;5;124m'\u001b[39m, line\u001b[38;5;241m=\u001b[39m\u001b[38;5;28mdict\u001b[39m(color\u001b[38;5;241m=\u001b[39m\u001b[38;5;124m'\u001b[39m\u001b[38;5;124mred\u001b[39m\u001b[38;5;124m'\u001b[39m)))\n\u001b[1;32m     38\u001b[0m fig\u001b[38;5;241m.\u001b[39madd_trace(go\u001b[38;5;241m.\u001b[39mScatter(x\u001b[38;5;241m=\u001b[39mgroup1\u001b[38;5;241m.\u001b[39mwavel, y\u001b[38;5;241m=\u001b[39mmodel_unified(params, group1), mode\u001b[38;5;241m=\u001b[39m\u001b[38;5;124m'\u001b[39m\u001b[38;5;124mlines+markers\u001b[39m\u001b[38;5;124m'\u001b[39m, name\u001b[38;5;241m=\u001b[39m\u001b[38;5;124m'\u001b[39m\u001b[38;5;124mfit\u001b[39m\u001b[38;5;124m'\u001b[39m, line\u001b[38;5;241m=\u001b[39m\u001b[38;5;28mdict\u001b[39m(color\u001b[38;5;241m=\u001b[39m\u001b[38;5;124m'\u001b[39m\u001b[38;5;124mblue\u001b[39m\u001b[38;5;124m'\u001b[39m)))\n\u001b[0;32m---> 39\u001b[0m fig\u001b[38;5;241m.\u001b[39mupdate_layout(title\u001b[38;5;241m=\u001b[39m\u001b[38;5;124mrf\u001b[39m\u001b[38;5;124m'\u001b[39m\u001b[38;5;124mcep=\u001b[39m\u001b[38;5;132;01m{\u001b[39;00mname1[\u001b[38;5;241m1\u001b[39m]\u001b[38;5;241m/\u001b[39mnp\u001b[38;5;241m.\u001b[39mpi\u001b[38;5;241m*\u001b[39m\u001b[38;5;241m180\u001b[39m\u001b[38;5;132;01m:\u001b[39;00m\u001b[38;5;124m.0f\u001b[39m\u001b[38;5;132;01m}\u001b[39;00m\u001b[38;5;124m deg, FWHM_OC=\u001b[39m\u001b[38;5;132;01m{\u001b[39;00mname1[\u001b[38;5;241m2\u001b[39m]\u001b[38;5;132;01m:\u001b[39;00m\u001b[38;5;124m.0f\u001b[39m\u001b[38;5;132;01m}\u001b[39;00m\u001b[38;5;124m'\u001b[39m,\n\u001b[1;32m     40\u001b[0m                             xaxis_title\u001b[38;5;241m=\u001b[39m\u001b[38;5;124m'\u001b[39m\u001b[38;5;124mwavelengths\u001b[39m\u001b[38;5;124m'\u001b[39m,\n\u001b[1;32m     41\u001b[0m                             yaxis_title\u001b[38;5;241m=\u001b[39m\u001b[38;5;124m'\u001b[39m\u001b[38;5;124mionization probability\u001b[39m\u001b[38;5;124m'\u001b[39m)\n\u001b[1;32m     42\u001b[0m fig\u001b[38;5;241m.\u001b[39mshow()\n",
      "\u001b[0;31mIndexError\u001b[0m: tuple index out of range"
     ]
    }
   ],
   "source": [
    "data=SiO2_data\n",
    "data[\"Function_to_fit\"]=\"IonProb\"\n",
    "gas=\"SiO2\"\n",
    "# @Script: kernels.py\n",
    "# add with tuples: (NAME VALUE  VARY   MIN   MAX  EXPR  BRUTE_STEP)\n",
    "params.add('Multiplier',  min=1e-6, value=1)#, min=25, max=27, value=26.44, vary=True, expr=None, brute_step=None)\n",
    "IpInit=IpEV_dict.get(gas)/27.2114\n",
    "# @Last Modified By: Manoram AgarwalpInit*0.9, vary=False, max=IpInit*1.1, expr=None, brute_step=None)\n",
    "# @Last Modified At: 2024-07-23 13:24:16gas), vary=False, expr=None, brute_step=None)\n",
    "gammaInit=3/2/params['Ip'].value\n",
    "params.add('gamma', value=gammaInit, vary=True, min=gammaInit*0.8, max=gammaInit*1.2) \n",
    "# gamma is a common parameter, usually used to simultaneously change all vars\n",
    "# the following variables are all defined via gamma in the funciton residuals. And the fit parameters here act as more precise tuning tool\n",
    "params.add('e0', value=1+params[\"gamma\"]/3, vary=True, expr=None, brute_step=None, min=0)\n",
    "params.add('a0', value=1, vary=True, expr=None, brute_step=None, min=0.8, max=1.2)\n",
    "params.add('a1', value=params[\"gamma\"]/2-0.25, vary=False, expr=None, brute_step=None)#, min=0., max=1.2)\n",
    "params.add('b0', value=-1+4*params['Ip']-5*params['Ip']**2+2*params['Ip']**3, vary=True)\n",
    "params.add('b1', value=1, min=0.9, vary=True, max=1.1, expr=None, brute_step=None)\n",
    "params.add('b2', min=0.)#, value=6.12, vary=True, expr=None, brute_step=None, min=5., max=8)\n",
    "params.add('c2', value=1, vary=True, expr=None, brute_step=None, min=0.5, max=2)\n",
    "params.add('p1', value=3.5, vary=True, expr=None, brute_step=None, min=2.7, max=4.3)\n",
    "params.add('d1', value=1, min=0.)\n",
    "\n",
    "x=np.arange(len(data))\n",
    "uncertainty=0.0001#data.Y*0.01\n",
    "## create array of dictionaries as x\n",
    "def iterator(params, iter, resid, dummy1, dummy2, dummy3):\n",
    "    print(f\"current iteration={iter}\", f\"residual={np.sum((resid*0.01)**2)}\", f\"params={params.valuesdict()}\", sep='\\n')\n",
    "    \n",
    "out = minimize(residuals, params, args=(x, data, uncertainty), nan_policy='omit', iter_cb=iterator, method='nelder')\n",
    "out.params.pretty_print()\n",
    "groups=data.groupby([ \"cep\", \"FWHM_OC\"])\n",
    "for name1, group1 in groups:\n",
    "    # print(name1)\n",
    "    # print(group1.wavel)\n",
    "    fig = go.Figure()\n",
    "    fig.add_trace(go.Scatter(x=group1.wavel, y=group1.Y, mode='lines+markers', name='numerical data', line=dict(color='red')))\n",
    "    fig.add_trace(go.Scatter(x=group1.wavel, y=model_unified(params, group1), mode='lines+markers', name='fit', line=dict(color='blue')))\n",
    "    fig.update_layout(title=rf'cep={name1[1]/np.pi*180:.0f} deg, FWHM_OC={name1[2]:.0f}',\n",
    "                                xaxis_title='wavelengths',\n",
    "                                yaxis_title='ionization probability')\n",
    "    fig.show()\n",
    "#Intensity={name1[0]:.2e} W/cm2, "
   ]
  }
 ],
 "metadata": {
  "kernelspec": {
   "display_name": "base",
   "language": "python",
   "name": "python3"
  },
  "language_info": {
   "codemirror_mode": {
    "name": "ipython",
    "version": 3
   },
   "file_extension": ".py",
   "mimetype": "text/x-python",
   "name": "python",
   "nbconvert_exporter": "python",
   "pygments_lexer": "ipython3",
   "version": "3.10.12"
  }
 },
 "nbformat": 4,
 "nbformat_minor": 2
}
