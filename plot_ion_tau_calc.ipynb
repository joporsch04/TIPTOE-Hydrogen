{
 "cells": [
  {
   "cell_type": "code",
   "execution_count": 1,
   "id": "7b7dc171",
   "metadata": {},
   "outputs": [],
   "source": [
    "import pandas as pd\n",
    "import matplotlib.pyplot as plt\n",
    "import numpy as np\n",
    "import csv\n",
    "import plotly.graph_objects as go\n",
    "\n",
    "\n",
    "from laser_ion_interpol_tRecX_data import process_all_laser_files\n",
    "\n",
    "from __init__ import FourierTransform, InverseFourierTransform, Fourier_filter\n",
    "#from calc_kernnel_johannes import IonProb, IonRate\n",
    "from field_functions import LaserField\n",
    "from kernel import IonProb, IonRate, analyticalRate\n",
    "\n",
    "\n",
    "params={'Multiplier': 24.885006619192506, 'Ip': 0.5, 'αPol': 4.51, 'gamma': 3.0012573529411766, 'e0': 2.000419117647059, 'a0': 1, 'a1': 1.2506286764705883, 'b0': -0.00010482328986949341, 'b1': 1, 'b2': 6.127, 'c2': 0.37339566825214854, 'p1': 3.5, 'd1': 8.156654923237362}\n",
    "\n",
    "\n",
    "\n",
    "# Multiplier=24.885006619192506\n",
    "# αPol = 4.51\n",
    "# Ipot=0.5\n",
    "# dTi = 1\n",
    "# p1 = 3.5\n",
    "# a1 = 1\n",
    "# b2 = 1\n",
    "# gamma= 3/(2*Ipot)\n",
    "# c1=111.927\n",
    "# b3=0.970771\n",
    "# e1 = 1 + 1/Ipot/2\n",
    "# b1 = -0.25 + 0.75/Ipot\n",
    "# a2 = (-7.5 + 30*Ipot - 37.5*Ipot**2 + 15*Ipot**3) / 7.5\n",
    "\n",
    "\n",
    "\n",
    "class AU:\n",
    "    meter = 5.2917720859e-11 # atomic unit of length in meters\n",
    "    nm = 5.2917721e-2 # atomic unit of length in nanometres\n",
    "    second = 2.418884328e-17 # atomic unit of time in seconds\n",
    "    fs = 2.418884328e-2 # atomic unit of time in femtoseconds\n",
    "    Joule = 4.359743935e-18 # atomic unit of energy in Joules\n",
    "    eV = 27.21138383 # atomic unit of energy in electronvolts\n",
    "    Volts_per_meter = 5.142206313e+11 # atomic unit of electric field in V/m\n",
    "    Volts_per_Angstrom = 51.42206313 # atomic unit of electric field in V/Angström\n",
    "    speed_of_light = 137.035999 # vacuum speed of light in atomic units\n",
    "    Coulomb = 1.60217646e-19 # atomic unit of electric charge in Coulombs\n",
    "    PW_per_cm2_au = 0.02849451308 # PW/cm^2 in atomic units\n",
    "AtomicUnits=AU\n",
    "\n",
    "def Vector_potential(t,lam0, I, cep, FWHM, pi=np.pi, N=8): \n",
    "    \"\"\"\" return A(t) for given Full with half maximum and phase with a cos8 envelope  \"\"\"\n",
    "    w0=2*pi*137.035999/(lam0/5.2917721e-2)\n",
    "    A0=np.sqrt(I/1e15*0.02849451308/w0**2)\n",
    "    tau_injection=pi*FWHM/(4*np.arccos(2**(-1/(2*N))))\n",
    "    t=np.asarray(t)\n",
    "    # Field=np.zeros(np.shape(t))\n",
    "    # cond=(abs(t)<=tau_injection)\n",
    "    # t=t[cond]\n",
    "    # Field[cond]=ne.evaluate(\"cos(pi*t/tau_injection/2)**N*sin(i*w0*t-cep)*A0\")\n",
    "    #Field= cos(pi*t/tau_injection/2)**N*sin(w0*t-cep)*A0  \n",
    "    Field=np.where(np.abs(t)<=tau_injection,np.cos(pi*t/tau_injection/2)**N*np.sin(w0*t-cep)*A0,0)\n",
    "    return Field\n",
    "\n",
    "def Electric_Field(t,lam0, I, cep, FWHM, pi=np.pi, N=8): \n",
    "    \"\"\"\" return E(t) for given Full with half maximum and phase with a cos8 envelope  \"\"\"\n",
    "    #print('Electric_Field is deprecated, use Vector_potential instead')\n",
    "    w0=2*pi*137.035999/(lam0/5.2917721e-2)\n",
    "    A0=np.sqrt(I/1e15*0.02849451308/w0**2)\n",
    "    tau_injection=pi*FWHM/(4*np.arccos(2**(-1/(2*N))))\n",
    "    t=np.asarray(t)\n",
    "    Field= np.where(np.abs(t)<=tau_injection,np.cos(pi*t/tau_injection/2)**N*np.cos(w0*t-cep)*w0-(N/2/tau_injection*pi*np.cos(pi*t/tau_injection/2)**(N-1)*np.sin(pi*t/tau_injection/2)*np.sin(w0*t-cep)),0)\n",
    "    return -1*Field*A0\n",
    "\n",
    "def analytical_rate(field, c1, e1, a1, a2, b1, b2, b3, p1, dTi, Ip):\n",
    "    field=field+1e-20\n",
    "    term1 = 1 / (2**(1/4) * (8 * e1**2 * field**2 + Ip)**(1/4) * abs(field)**(9/2)+1e-20)\n",
    "    term2 = np.exp((4 * (np.sqrt(2) * np.sqrt(8 * e1**2 * field**2 + Ip) - 4 * e1 * abs(field)) * \n",
    "                    (-4 * e1**2 * field**2 - Ip + np.sqrt(2) * e1 * np.sqrt(8 * e1**2 * field**2 + Ip) * abs(field))) / \n",
    "                   (3 * abs(field)))\n",
    "    term3 = field**2 * np.sqrt(np.pi)\n",
    "    term4 = (dTi - 4 * e1 + (np.sqrt(2) * np.sqrt(8 * e1**2 * field**2 + Ip)) / abs(field))**-p1\n",
    "    term5 = (a1 * field**4 + 8 * (-b1 * e1 * field**4 + 16 * a2 * e1**2 * field**6 - 256 * b2 * e1**3 * field**6 + \n",
    "                                  1024 * b3 * e1**4 * field**6 + a2 * field**4 * Ip - 24 * b2 * e1 * field**4 * Ip + \n",
    "                                  128 * b3 * e1**2 * field**4 * Ip + 2 * b3 * field**2 * Ip**2) - \n",
    "             16 * np.sqrt(2) * (-b2 + 8 * b3 * e1) * field**2 * (8 * e1**2 * field**2 + Ip)**(3/2) * abs(field) + \n",
    "             2 * np.sqrt(2) * (b1 - 16 * e1 * (a2 + 4 * e1 * (-3 * b2 + 8 * b3 * e1)) * field**2) * \n",
    "             np.sqrt(8 * e1**2 * field**2 + Ip) * abs(field)**3)\n",
    "    \n",
    "    return term1 * c1 * term2 * term3 * term4 * term5\n",
    "\n",
    "def write_csv_rate(filename, time, field_pump, field_probe, ion_nonAdiabatic, ion_analytical):\n",
    "    with open(filename, 'w') as f:\n",
    "        writer = csv.writer(f)\n",
    "        writer.writerow(['time', 'field_pump', 'field_probe', 'ion_nonAdiabatic', 'ion_analytical'])\n",
    "        for i in range(len(time)):\n",
    "            writer.writerow([time[i], field_pump[i], field_probe[i], ion_nonAdiabatic[i], ion_analytical[i]])\n",
    "\n",
    "def write_csv_prob(filename, delay, ion_y, ion_QS, ion_NA):\n",
    "    with open(filename, 'w') as f:\n",
    "        writer = csv.writer(f)\n",
    "        writer.writerow(['delay', 'ion_y', 'ion_QS', 'ion_NA'])\n",
    "        for i in range(len(delay)):\n",
    "            writer.writerow([delay[i], ion_y[i], ion_QS[i], ion_NA[i]])\n",
    "\n",
    "def process_laser_files(base_dir, input_dir, output_interpol, output_ion_prob, output_extract_field):\n",
    "    process_all_laser_files(base_dir, input_dir, output_interpol, output_ion_prob, output_extract_field)\n",
    "\n",
    "def read_ion_Prob_data(file_path):\n",
    "    data = pd.read_csv(file_path, header=None)\n",
    "    delay = pd.to_numeric(data.iloc[2].iloc[2:].values)[:-1]\n",
    "    ion_y = pd.to_numeric(data.iloc[1].iloc[2:].values)[:-1]\n",
    "    return delay, ion_y\n",
    "\n",
    "def calc_time_tau_pump(wavelength):\n",
    "    OptCycPump = wavelength / AU.nm / AU.speed_of_light\n",
    "    tau_pump = np.pi * 1 * OptCycPump / (4 * np.arccos(2**(-1/(2*8)))) + 10\n",
    "    time = np.arange(-int(tau_pump), int(tau_pump) + 1, 1.)\n",
    "    return time, OptCycPump\n",
    "\n",
    "def calc_ion_QS_NA(time, field_pump):\n",
    "    ion_nonAdiabatic = 2 * np.real(IonRate(\n",
    "        time, time, field_pump, c1=111.927, e1=gamma/2*e1, a1=4*gamma*a1, a2=4*gamma**2*a2, \n",
    "        b1=b1, b2=2*gamma*b1*b2, b3=b3, p1=p1, dTi=2*gamma*dTi, Ip=Ipot, e2=1/36, e2n=30, e2d=2, b4=-16/9*b3))\n",
    "    ion_analytical = analytical_rate(\n",
    "        field_pump, c1, e1=gamma/2*e1, a1=4*gamma*a1, a2=4*gamma**2*a2, \n",
    "        b1=b1, b2=2*gamma*b1*b2, b3=b3, p1=p1, dTi=2*gamma*dTi, Ip=Ipot)\n",
    "    return ion_nonAdiabatic, ion_analytical\n",
    "\n",
    "def calc_fieldTotDel(field_pump, field_probe):\n",
    "    return lambda x: field_pump + field_probe(x)\n",
    "\n",
    "def calc_fields_pump_probe(time, wavelength_pump, wavelength_probe, intensity_pump, intensity_probe, OptCycPump, FWHM):\n",
    "    field_pump = Electric_Field(time, wavelength_pump, intensity_pump, 0, 1*OptCycPump, pi=np.pi, N=8)\n",
    "    field_probe = lambda x: Electric_Field(time + x, wavelength_probe, intensity_probe, -np.pi/2, FWHM/AtomicUnits.fs, pi=np.pi, N=8)\n",
    "    return field_pump, field_probe\n",
    "\n",
    "def calc_ion_Prob_QS_NA(time, fieldTotDel):\n",
    "    an_Prob=lambda x : [1-np.exp(-np.trapz(analytical_rate(fieldTotDel(tau), c1, e1=gamma/2*e1, a1=0*4*gamma*a1, a2=4*gamma**2*a2, b1=b1, b2=2*gamma*b1*b2, b3=b3, p1=p1, dTi=2*gamma*dTi, Ip=Ipot),time)) for tau in x]\n",
    "    noAdiabatic_prob=lambda x : [1-np.exp(-IonProb(time, fieldTotDel(tau),c1, e1=gamma/2*e1, a1=4*gamma*a1, a2=4*gamma**2*a2, b1=b1, b2=2*gamma*b1*b2, b3=b3, p1=p1, dTi=2*gamma*dTi, Ip=Ipot,e2=1/36, e2n=30, e2d=2,b4=-16/9*b3)) for tau in x]\n",
    "    return an_Prob, noAdiabatic_prob"
   ]
  },
  {
   "cell_type": "code",
   "execution_count": 19,
   "id": "321ab29d",
   "metadata": {},
   "outputs": [],
   "source": [
    "laser_file_params = [\n",
    "    {\n",
    "        'input_dir': '/home/user/TIPTOE/850nm/350_nm/I_1.25e+14',\n",
    "        'output_ending': '850nm_350nm_1.25e+14'\n",
    "    },\n",
    "    {\n",
    "        'input_dir': '/home/user/TIPTOE/850nm/350_nm/I_7.50e+13',\n",
    "        'output_ending': '850nm_350nm_7.5e+13'\n",
    "    },\n",
    "    {\n",
    "        'input_dir': '/home/user/TIPTOE/900nm/320_nm/I_5.00e+14',\n",
    "        'output_ending': '900nm_320_nm_5e+14'\n",
    "    },\n",
    "    {\n",
    "        'input_dir': '/home/user/TIPTOE/1200nm/320_nm/I_1.00e+14',\n",
    "        'output_ending': '1200nm_320_nm_1e+14'\n",
    "    },\n",
    "    {\n",
    "        'input_dir': '/home/user/TIPTOE/1200nm/320_nm/I_5.00e+14',\n",
    "        'output_ending': '1200nm_320_nm_5e+14'\n",
    "    }\n",
    "]\n",
    "\n",
    "base_dir = '.'\n",
    "output_dir = '/home/user/TIPTOE/process_all_files_output'\n",
    "for params in laser_file_params:\n",
    "    input_dir = params['input_dir']\n",
    "    output_ending = params['output_ending']\n",
    "    output_interpol = f'{output_dir}/output_interpol_{output_ending}.csv'\n",
    "    output_ion_prob = f'{output_dir}/ionProb_{output_ending}.csv'\n",
    "    output_extract_field = f'{output_dir}/output_extract_field_0_{output_ending}.csv'\n",
    "    process_laser_files(base_dir, input_dir, output_interpol, output_ion_prob, output_extract_field)"
   ]
  },
  {
   "cell_type": "code",
   "execution_count": 40,
   "id": "8998da17",
   "metadata": {},
   "outputs": [
    {
     "name": "stdout",
     "output_type": "stream",
     "text": [
      "The autoreload extension is already loaded. To reload it, use:\n",
      "  %reload_ext autoreload\n"
     ]
    },
    {
     "name": "stderr",
     "output_type": "stream",
     "text": [
      "/home/user/TIPTOE/kernel.py:289: RuntimeWarning:\n",
      "\n",
      "divide by zero encountered in divide\n",
      "\n",
      "/home/user/TIPTOE/kernel.py:290: RuntimeWarning:\n",
      "\n",
      "divide by zero encountered in divide\n",
      "\n",
      "/home/user/TIPTOE/kernel.py:289: RuntimeWarning:\n",
      "\n",
      "invalid value encountered in multiply\n",
      "\n",
      "/home/user/TIPTOE/kernel.py:292: RuntimeWarning:\n",
      "\n",
      "divide by zero encountered in divide\n",
      "\n"
     ]
    }
   ],
   "source": [
    "\n",
    "%load_ext autoreload\n",
    "%autoreload\n",
    "# file_params = [\n",
    "#     (\"ionProb_850nm_350nm_1.25e+14.csv\", 850, 350, 1.25e14, 1e10, 0.93),\n",
    "#     # (\"ionProb_850nm_350nm_7.5e+13.csv\", 850, 350, 7.5e13, 6e9, 0.93),\n",
    "#     # (\"ionProb_900nm_320_nm_5e+14.csv\", 900, 320, 5e14, 4e10, 0.75),\n",
    "#     # (\"ionProb_1200nm_320_nm_1e+14.csv\", 1200, 320, 1e14, 4e10, 0.75),\n",
    "#     # (\"ionProb_1200nm_320_nm_5e+14.csv\", 1200, 320, 5e14, 4e10, 0.75)\n",
    "# ]\n",
    "\n",
    "params={'Multiplier': 0.3537672860419956, 'Ip': 0.5, 'αPol': 4.51, 'gamma': 2.2225332077079094, 'e0': 3.7538886827392335, 'a0': 1, 'a1': 1.0, 'b0': 1.0, 'b1': 1, 'b2': 1, 'c2': 2.445215663819714, 'p1': 3.5, 'd1': 0.22496851712539684}\n",
    "\n",
    "\n",
    "\n",
    "gamma=params['gamma']\n",
    "\n",
    "c2=-16/9*params['b2']*params['c2']\n",
    "\n",
    "Multiplier,  e0, a0, a1, b0, b1, b2, p1, d1, Ip, αPol= params['Multiplier'], gamma/2*params['e0'], 4*gamma*params['a0'], params['a1'], 4*gamma**2*params['b0'], 2*gamma*params['b1']*params['a1'], params['b2'], params['p1'], params['d1'], params['Ip'], params['αPol']\n",
    "\n",
    "params={'Multiplier': Multiplier, 'E_g': Ip, 'αPol': αPol, 'e0': e0, 'a0': a0, 'a1': a1, 'b0': b0, 'b1': b1, 'b2': b2, 'p1': p1, 'd1': d1, 'c2': c2}\n",
    "\n",
    "params_qs = {'Multiplier': Multiplier, 'E_g': Ip, 'αPol': αPol, 'e0': e0, 'a0': a0, 'a1': a1, 'b0': b0, 'b1': b1, 'b2': b2, 'p1': p1, 'd1': d1}\n",
    "\n",
    "\n",
    "laser_pulses = LaserField(cache_results=True)\n",
    "\n",
    "# for file_name, wavelength_pump, wavelength_probe, intensity_pump, intensity_probe, FWHM in file_params:\n",
    "#     file_path = f\"/home/user/TIPTOE/process_all_files_output/{file_name}\"\n",
    "#     delay, ion_y = read_ion_Prob_data(file_path)\n",
    "#     time, OptCycPump = calc_time_tau_pump(wavelength_pump)\n",
    "#     field_pump, field_probe = calc_fields_pump_probe(time, wavelength_pump, wavelength_probe, intensity_pump, intensity_probe, OptCycPump, FWHM)\n",
    "#     ion_nonAdiabatic, ion_analytical = calc_ion_QS_NA(time, field_pump)\n",
    "#     output_file = f\"/home/user/TIPTOE/plot_ion_tau_calc_output_data/ion_rate_QS_NA_{wavelength_pump}nm_{wavelength_probe}nm_{intensity_pump:.2e}.csv\"\n",
    "#     write_csv_rate(output_file, time, field_pump, field_probe(0), ion_nonAdiabatic, ion_analytical)\n",
    "\n",
    "\n",
    "\n",
    "\n",
    "# delay, ion_y = read_ion_Prob_data(\"/home/user/TIPTOE/process_all_files_output/ionProb_850nm_350nm_1.25e+14.csv\")\n",
    "delay, ion_y = read_ion_Prob_data(\"/home/user/TIPTOE/process_all_files_output/ionProb_900nm_320_nm_5e+14.csv\")\n",
    "\n",
    "\n",
    "# ion_qs = []\n",
    "# ion_na = []\n",
    "# for tau in delay:\n",
    "#     laser_pulses.add_pulse(850, 1.25e14, 0, 850/ AtomicUnits.nm / AtomicUnits.speed_of_light)\n",
    "#     laser_pulses.add_pulse(350, 1e10, -np.pi/2, 0.93/AtomicUnits.fs, t0=-tau)\n",
    "#     t_min, t_max = laser_pulses.get_time_interval()\n",
    "#     time=np.arange(t_min, t_max+1, 1)\n",
    "#     ion_qs.append(1-np.exp(-np.trapz(analyticalRate(time, laser_pulses, **params_qs), time)))\n",
    "#     ion_na.append(1-np.exp(-IonProb(laser_pulses, **params, dt=2, dT=0.25)))\n",
    "#     ion_na_rate = IonRate(time, laser_pulses, **params, dT=0.25)\n",
    "#     laser_pulses.reset()\n",
    "\n",
    "ion_qs = []\n",
    "ion_na = []\n",
    "for tau in delay:\n",
    "    laser_pulses.add_pulse(900, 5e14, 0, 900/ AtomicUnits.nm / AtomicUnits.speed_of_light)\n",
    "    laser_pulses.add_pulse(320, 4e10, -np.pi/2, 0.75/AtomicUnits.fs, t0=-tau)\n",
    "    t_min, t_max = laser_pulses.get_time_interval()\n",
    "    time=np.arange(t_min, t_max+1, 1)\n",
    "    ion_qs.append(1-np.exp(-np.trapz(analyticalRate(time, laser_pulses, **params_qs), time)))\n",
    "    ion_na.append(1-np.exp(-IonProb(laser_pulses, **params, dt=2, dT=0.25)))\n",
    "    ion_na_rate = IonRate(time, laser_pulses, **params, dT=0.25)\n",
    "    laser_pulses.reset()"
   ]
  },
  {
   "cell_type": "code",
   "execution_count": 27,
   "id": "0ff117d6",
   "metadata": {},
   "outputs": [
    {
     "data": {
      "application/vnd.plotly.v1+json": {
       "config": {
        "plotlyServerURL": "https://plot.ly"
       },
       "data": [
        {
         "mode": "lines",
         "name": "ion_y",
         "type": "scatter",
         "x": [
          481.8,
          444,
          406.2,
          368.39,
          330.59,
          292.79,
          254.99,
          217.18,
          179.38,
          141.58,
          103.77,
          101.27,
          98.77,
          96.27,
          93.77,
          91.27,
          88.77,
          86.27,
          83.77,
          81.27,
          78.77,
          76.27,
          73.77,
          71.27,
          68.77,
          66.26,
          63.76,
          61.26,
          58.76,
          56.26,
          53.76,
          51.26,
          48.76,
          46.26,
          43.76,
          41.26,
          38.76,
          36.26,
          33.76,
          31.26,
          28.76,
          26.26,
          23.76,
          21.25,
          18.75,
          16.25,
          13.75,
          11.25,
          8.75,
          6.25,
          3.75,
          1.25,
          0,
          -1.25,
          -3.75,
          -6.25,
          -8.75,
          -11.25,
          -13.75,
          -16.25,
          -18.75,
          -21.25,
          -23.76,
          -26.26,
          -28.76,
          -31.26,
          -33.76,
          -36.26,
          -38.76,
          -41.26,
          -43.76,
          -46.26,
          -48.76,
          -51.26,
          -53.76,
          -56.26,
          -58.76,
          -61.26,
          -63.76,
          -66.26,
          -68.77,
          -71.27,
          -73.77,
          -76.27,
          -78.77,
          -81.27,
          -83.77,
          -86.27,
          -88.77,
          -91.27,
          -93.77,
          -96.27,
          -98.77,
          -101.27,
          -103.77,
          -141.58,
          -179.38,
          -217.18,
          -254.99,
          -292.79,
          -330.59,
          -368.39,
          -406.2,
          -444,
          -481.8
         ],
         "y": [
          0,
          -9.395000000016196e-8,
          8.628999999954479e-8,
          1.6277000000099184e-7,
          -2.3950000000577676e-8,
          -9.213000000049543e-8,
          1.1974000000032625e-7,
          1.2400000000065137e-7,
          -4.8810000000121256e-8,
          1.4266999999977548e-7,
          0.000016675520000000374,
          0.000020919480000001003,
          0.00002163410999999997,
          0.00001713629999999973,
          0.000006480479999999497,
          -0.000010073309999998961,
          -0.000030751489999999645,
          -0.00005223195999999944,
          -0.00006998002999999975,
          -0.00007899823000000021,
          -0.00007492542999999914,
          -0.000055282480000000064,
          -0.000020544810000000177,
          0.0000253089999999994,
          0.00007503677000000007,
          0.0001193908600000005,
          0.00014825648000000094,
          0.000153988150000001,
          0.00013276868999999997,
          0.00008635669000000082,
          0.00002258903000000069,
          -0.00004549501000000039,
          -0.00010196608999999898,
          -0.00013143273999999955,
          -0.00012287698999999958,
          -0.00007294276999999898,
          0.000012253139999999704,
          0.00011739414000000101,
          0.0002204051700000001,
          0.00029661274000000043,
          0.00032379700999999976,
          0.00028715235000000006,
          0.00018319305999999966,
          0.000021032639999999866,
          -0.00017524862999999946,
          -0.00037386082000000036,
          -0.0005385207100000004,
          -0.0006360636000000003,
          -0.0006434453599999997,
          -0.0005530306800000002,
          -0.0003748332099999998,
          -0.0001350843899999999,
          -0.000003626229999999578,
          0.00012859316000000086,
          0.00037431802000000014,
          0.0005638047500000007,
          0.0006692962099999998,
          0.0006782561999999995,
          0.000595060330000001,
          0.00043952602000000077,
          0.00024266206999999998,
          0.000040467320000001084,
          -0.00013363764999999896,
          -0.00025251806999999904,
          -0.00030405094999999896,
          -0.0002895812300000005,
          -0.00022303815000000032,
          -0.0001266909400000002,
          -0.000025523090000000026,
          0.000058311210000000155,
          0.0001096842700000003,
          0.0001226078699999994,
          0.00010013700000000014,
          0.00005243388000000099,
          -0.000006346949999999629,
          -0.00006157763000000024,
          -0.00010132285999999921,
          -0.00011852983999999928,
          -0.00011187516999999932,
          -0.00008524038999999962,
          -0.000045949610000000154,
          -0.00000331154000000021,
          0.00003449540000000084,
          0.00006142836000000082,
          0.00007457364000000057,
          0.00007418443000000059,
          0.0000630375999999995,
          0.00004537417000000099,
          0.000025735610000000853,
          0.000007976010000000644,
          -0.000005362049999999008,
          -0.00001324416999999925,
          -0.000015967420000000468,
          -0.000014744049999999495,
          -0.000011201799999999151,
          0.000002215770000001116,
          0.000003390009999999777,
          -0.0000015135599999993588,
          -0.0000027449800000002578,
          -1.7369999999981844e-7,
          0.000002826560000000408,
          4.994100000002555e-7,
          -0.0000024921899999998803,
          -1.879400000001641e-7,
          0.000002457529999999597
         ]
        },
        {
         "mode": "lines",
         "name": "ion_na",
         "type": "scatter",
         "x": [
          481.8,
          444,
          406.2,
          368.39,
          330.59,
          292.79,
          254.99,
          217.18,
          179.38,
          141.58,
          103.77,
          101.27,
          98.77,
          96.27,
          93.77,
          91.27,
          88.77,
          86.27,
          83.77,
          81.27,
          78.77,
          76.27,
          73.77,
          71.27,
          68.77,
          66.26,
          63.76,
          61.26,
          58.76,
          56.26,
          53.76,
          51.26,
          48.76,
          46.26,
          43.76,
          41.26,
          38.76,
          36.26,
          33.76,
          31.26,
          28.76,
          26.26,
          23.76,
          21.25,
          18.75,
          16.25,
          13.75,
          11.25,
          8.75,
          6.25,
          3.75,
          1.25,
          0,
          -1.25,
          -3.75,
          -6.25,
          -8.75,
          -11.25,
          -13.75,
          -16.25,
          -18.75,
          -21.25,
          -23.76,
          -26.26,
          -28.76,
          -31.26,
          -33.76,
          -36.26,
          -38.76,
          -41.26,
          -43.76,
          -46.26,
          -48.76,
          -51.26,
          -53.76,
          -56.26,
          -58.76,
          -61.26,
          -63.76,
          -66.26,
          -68.77,
          -71.27,
          -73.77,
          -76.27,
          -78.77,
          -81.27,
          -83.77,
          -86.27,
          -88.77,
          -91.27,
          -93.77,
          -96.27,
          -98.77,
          -101.27,
          -103.77,
          -141.58,
          -179.38,
          -217.18,
          -254.99,
          -292.79,
          -330.59,
          -368.39,
          -406.2,
          -444,
          -481.8
         ],
         "y": [
          0,
          -0.000011351892632571747,
          0.000006171956711376048,
          -0.000013437866838494905,
          0.000007068366019713501,
          -0.000013436736604810484,
          0.0000036732682109352766,
          -0.000008086600261192345,
          -0.000008123329030440551,
          -0.00000784674489451298,
          0.0000025138477383057634,
          0.0000024010606550772806,
          -6.40406033314278e-7,
          -0.0000072109958594301915,
          -0.000017233119526172125,
          -0.00002973358287872152,
          -0.00004278610711727637,
          -0.000053667969426518525,
          -0.00005925660607575267,
          -0.00005665073198468651,
          -0.000043939593228015106,
          -0.0000209690266304019,
          0.000010110260218132439,
          0.000044740573143742246,
          0.00007646520060733408,
          0.00009812498452554941,
          0.00010316261411391636,
          0.00008792496776488523,
          0.00005268301686245369,
          0.000002458190625720391,
          -0.000053283413283367054,
          -0.00010204324909546258,
          -0.00013064754037106496,
          -0.0001281565444609667,
          -0.00008875899093929718,
          -0.000014002337542673438,
          0.00008625116062221938,
          0.00019456991881749985,
          0.00028850655824941285,
          0.0003446561335817,
          0.00034351080051153726,
          0.0002741189423225432,
          0.00013749078681379867,
          -0.000052952393579497326,
          -0.0002693965162876566,
          -0.0004782074498338451,
          -0.0006428260355505477,
          -0.0007311838325942954,
          -0.0007221014030567297,
          -0.0006100061789819922,
          -0.0004068780082714385,
          -0.00014084411492121252,
          0.0000036431283122473346,
          0.00014845422487108628,
          0.00041688066517475697,
          0.0006238149972410678,
          0.0007395240943075532,
          0.0007503868875613495,
          0.0006609247162817633,
          0.0004922718597245579,
          0.0002774832598839705,
          0.000054749556124944476,
          -0.00014066631138986985,
          -0.0002798499694001144,
          -0.0003492493321687329,
          -0.0003485379535265176,
          -0.0002898346185795653,
          -0.00019384207014949695,
          -0.00008481142224170402,
          0.000014513682377814696,
          0.00008697044369043727,
          0.00012339251687953912,
          0.00012310932179693257,
          0.00009269322819971393,
          0.000043464910346235897,
          -0.000011535903718828955,
          -0.00006039731232265755,
          -0.00009444396921054476,
          -0.00010931740660580225,
          -0.00010501771666959758,
          -0.00008500975951242218,
          -0.00005531117025570076,
          -0.000022502422949544076,
          0.000007345834744709734,
          0.000029742668293253338,
          0.00004233501066064349,
          0.00004497050350282805,
          0.00003932140806883755,
          0.00002820732986796859,
          0.000014805883992941027,
          0.000001944634696826597,
          -0.000008378764974170672,
          -0.000015183316742217734,
          -0.00001842228141513136,
          -0.000018721162165724614,
          -0.000008247077869172337,
          -0.00000811930743860323,
          -0.000008151891484176055,
          0.0000036413485480224494,
          -0.000013437246431546868,
          0.000007068296576262512,
          -0.000013437671935956352,
          0.000006172054311415209,
          -0.000011351806816661814,
          7.286493630687119e-11
         ]
        },
        {
         "mode": "lines",
         "name": "ion_qs",
         "type": "scatter",
         "x": [
          481.8,
          444,
          406.2,
          368.39,
          330.59,
          292.79,
          254.99,
          217.18,
          179.38,
          141.58,
          103.77,
          101.27,
          98.77,
          96.27,
          93.77,
          91.27,
          88.77,
          86.27,
          83.77,
          81.27,
          78.77,
          76.27,
          73.77,
          71.27,
          68.77,
          66.26,
          63.76,
          61.26,
          58.76,
          56.26,
          53.76,
          51.26,
          48.76,
          46.26,
          43.76,
          41.26,
          38.76,
          36.26,
          33.76,
          31.26,
          28.76,
          26.26,
          23.76,
          21.25,
          18.75,
          16.25,
          13.75,
          11.25,
          8.75,
          6.25,
          3.75,
          1.25,
          0,
          -1.25,
          -3.75,
          -6.25,
          -8.75,
          -11.25,
          -13.75,
          -16.25,
          -18.75,
          -21.25,
          -23.76,
          -26.26,
          -28.76,
          -31.26,
          -33.76,
          -36.26,
          -38.76,
          -41.26,
          -43.76,
          -46.26,
          -48.76,
          -51.26,
          -53.76,
          -56.26,
          -58.76,
          -61.26,
          -63.76,
          -66.26,
          -68.77,
          -71.27,
          -73.77,
          -76.27,
          -78.77,
          -81.27,
          -83.77,
          -86.27,
          -88.77,
          -91.27,
          -93.77,
          -96.27,
          -98.77,
          -101.27,
          -103.77,
          -141.58,
          -179.38,
          -217.18,
          -254.99,
          -292.79,
          -330.59,
          -368.39,
          -406.2,
          -444,
          -481.8
         ],
         "y": [
          0,
          0,
          -1.1102230246251565e-16,
          -1.1102230246251565e-16,
          0,
          0,
          -1.1102230246251565e-16,
          0,
          1.887379141862766e-14,
          -3.1458513571891444e-9,
          0.0000048722302125048245,
          0.000004112722429505666,
          0.0000019356519799229588,
          -0.0000018503398940827864,
          -0.000007119773810848606,
          -0.000013342208966315994,
          -0.000019569775845940107,
          -0.000024523747369831206,
          -0.000026785542225682413,
          -0.00002507727465983489,
          -0.000018595882160354904,
          -0.000007342185200154283,
          0.000007636676158218059,
          0.000024187251668528198,
          0.00003925774756863287,
          0.00004943734679019318,
          0.00005158440494346106,
          0.000043971703801881645,
          0.000026857205339347878,
          0.000002952509858267227,
          -0.000022701517032208685,
          -0.00004347166021168025,
          -0.000052408957487593,
          -0.000043853712009322976,
          -0.000015055694378429685,
          0.00003255267830304387,
          0.00009277968594145758,
          0.0001550599018633747,
          0.00020590516334928477,
          0.00023129280192146773,
          0.00021960757583361357,
          0.000164548017206112,
          0.00006732589253832799,
          -0.00006299480207949681,
          -0.0002080148805918558,
          -0.00034566225940113604,
          -0.0004519644214076024,
          -0.0005059757458848457,
          -0.0004940461502465077,
          -0.00041296414283908955,
          -0.0002712077436899385,
          -0.00008791513051076283,
          0.000011160389289388561,
          0.00011030159092151326,
          0.0002940752652749179,
          0.0004365642158390415,
          0.0005182136449580765,
          0.0005300501665960189,
          0.0004748876179678785,
          0.0003662637651264955,
          0.00022539634333573755,
          0.00007685072840757368,
          -0.0000566112815224562,
          -0.00015601709001356046,
          -0.00021210890681278016,
          -0.0002238405836789692,
          -0.00019794786442894896,
          -0.00014657167565446105,
          -0.00008417364618629186,
          -0.000024462182097728657,
          0.00002205612731509543,
          0.00004949892688776991,
          0.000056871846405570636,
          0.00004730664561081177,
          0.000026612450950147526,
          0.0000015778777483488327,
          -0.000021563722746642533,
          -0.00003822105010165,
          -0.000045970875386047716,
          -0.00004456232379512759,
          -0.000035481307678497664,
          -0.000021508364858258133,
          -0.000005777739130019555,
          0.000008759716070394497,
          0.000019872440749746367,
          0.000026341752022762677,
          0.000028008732057216434,
          0.00002560048077315802,
          0.00002040819091797541,
          0.000013914390974978375,
          0.000007462819526127262,
          0.0000020357388604841375,
          -0.000001837238529867058,
          -0.000004052611616511825,
          -0.000004826900218191099,
          3.146717331148352e-9,
          -1.887379141862766e-14,
          0,
          0,
          0,
          0,
          0,
          0,
          0,
          0
         ]
        }
       ],
       "layout": {
        "template": {
         "data": {
          "bar": [
           {
            "error_x": {
             "color": "#2a3f5f"
            },
            "error_y": {
             "color": "#2a3f5f"
            },
            "marker": {
             "line": {
              "color": "#E5ECF6",
              "width": 0.5
             },
             "pattern": {
              "fillmode": "overlay",
              "size": 10,
              "solidity": 0.2
             }
            },
            "type": "bar"
           }
          ],
          "barpolar": [
           {
            "marker": {
             "line": {
              "color": "#E5ECF6",
              "width": 0.5
             },
             "pattern": {
              "fillmode": "overlay",
              "size": 10,
              "solidity": 0.2
             }
            },
            "type": "barpolar"
           }
          ],
          "carpet": [
           {
            "aaxis": {
             "endlinecolor": "#2a3f5f",
             "gridcolor": "white",
             "linecolor": "white",
             "minorgridcolor": "white",
             "startlinecolor": "#2a3f5f"
            },
            "baxis": {
             "endlinecolor": "#2a3f5f",
             "gridcolor": "white",
             "linecolor": "white",
             "minorgridcolor": "white",
             "startlinecolor": "#2a3f5f"
            },
            "type": "carpet"
           }
          ],
          "choropleth": [
           {
            "colorbar": {
             "outlinewidth": 0,
             "ticks": ""
            },
            "type": "choropleth"
           }
          ],
          "contour": [
           {
            "colorbar": {
             "outlinewidth": 0,
             "ticks": ""
            },
            "colorscale": [
             [
              0,
              "#0d0887"
             ],
             [
              0.1111111111111111,
              "#46039f"
             ],
             [
              0.2222222222222222,
              "#7201a8"
             ],
             [
              0.3333333333333333,
              "#9c179e"
             ],
             [
              0.4444444444444444,
              "#bd3786"
             ],
             [
              0.5555555555555556,
              "#d8576b"
             ],
             [
              0.6666666666666666,
              "#ed7953"
             ],
             [
              0.7777777777777778,
              "#fb9f3a"
             ],
             [
              0.8888888888888888,
              "#fdca26"
             ],
             [
              1,
              "#f0f921"
             ]
            ],
            "type": "contour"
           }
          ],
          "contourcarpet": [
           {
            "colorbar": {
             "outlinewidth": 0,
             "ticks": ""
            },
            "type": "contourcarpet"
           }
          ],
          "heatmap": [
           {
            "colorbar": {
             "outlinewidth": 0,
             "ticks": ""
            },
            "colorscale": [
             [
              0,
              "#0d0887"
             ],
             [
              0.1111111111111111,
              "#46039f"
             ],
             [
              0.2222222222222222,
              "#7201a8"
             ],
             [
              0.3333333333333333,
              "#9c179e"
             ],
             [
              0.4444444444444444,
              "#bd3786"
             ],
             [
              0.5555555555555556,
              "#d8576b"
             ],
             [
              0.6666666666666666,
              "#ed7953"
             ],
             [
              0.7777777777777778,
              "#fb9f3a"
             ],
             [
              0.8888888888888888,
              "#fdca26"
             ],
             [
              1,
              "#f0f921"
             ]
            ],
            "type": "heatmap"
           }
          ],
          "heatmapgl": [
           {
            "colorbar": {
             "outlinewidth": 0,
             "ticks": ""
            },
            "colorscale": [
             [
              0,
              "#0d0887"
             ],
             [
              0.1111111111111111,
              "#46039f"
             ],
             [
              0.2222222222222222,
              "#7201a8"
             ],
             [
              0.3333333333333333,
              "#9c179e"
             ],
             [
              0.4444444444444444,
              "#bd3786"
             ],
             [
              0.5555555555555556,
              "#d8576b"
             ],
             [
              0.6666666666666666,
              "#ed7953"
             ],
             [
              0.7777777777777778,
              "#fb9f3a"
             ],
             [
              0.8888888888888888,
              "#fdca26"
             ],
             [
              1,
              "#f0f921"
             ]
            ],
            "type": "heatmapgl"
           }
          ],
          "histogram": [
           {
            "marker": {
             "pattern": {
              "fillmode": "overlay",
              "size": 10,
              "solidity": 0.2
             }
            },
            "type": "histogram"
           }
          ],
          "histogram2d": [
           {
            "colorbar": {
             "outlinewidth": 0,
             "ticks": ""
            },
            "colorscale": [
             [
              0,
              "#0d0887"
             ],
             [
              0.1111111111111111,
              "#46039f"
             ],
             [
              0.2222222222222222,
              "#7201a8"
             ],
             [
              0.3333333333333333,
              "#9c179e"
             ],
             [
              0.4444444444444444,
              "#bd3786"
             ],
             [
              0.5555555555555556,
              "#d8576b"
             ],
             [
              0.6666666666666666,
              "#ed7953"
             ],
             [
              0.7777777777777778,
              "#fb9f3a"
             ],
             [
              0.8888888888888888,
              "#fdca26"
             ],
             [
              1,
              "#f0f921"
             ]
            ],
            "type": "histogram2d"
           }
          ],
          "histogram2dcontour": [
           {
            "colorbar": {
             "outlinewidth": 0,
             "ticks": ""
            },
            "colorscale": [
             [
              0,
              "#0d0887"
             ],
             [
              0.1111111111111111,
              "#46039f"
             ],
             [
              0.2222222222222222,
              "#7201a8"
             ],
             [
              0.3333333333333333,
              "#9c179e"
             ],
             [
              0.4444444444444444,
              "#bd3786"
             ],
             [
              0.5555555555555556,
              "#d8576b"
             ],
             [
              0.6666666666666666,
              "#ed7953"
             ],
             [
              0.7777777777777778,
              "#fb9f3a"
             ],
             [
              0.8888888888888888,
              "#fdca26"
             ],
             [
              1,
              "#f0f921"
             ]
            ],
            "type": "histogram2dcontour"
           }
          ],
          "mesh3d": [
           {
            "colorbar": {
             "outlinewidth": 0,
             "ticks": ""
            },
            "type": "mesh3d"
           }
          ],
          "parcoords": [
           {
            "line": {
             "colorbar": {
              "outlinewidth": 0,
              "ticks": ""
             }
            },
            "type": "parcoords"
           }
          ],
          "pie": [
           {
            "automargin": true,
            "type": "pie"
           }
          ],
          "scatter": [
           {
            "fillpattern": {
             "fillmode": "overlay",
             "size": 10,
             "solidity": 0.2
            },
            "type": "scatter"
           }
          ],
          "scatter3d": [
           {
            "line": {
             "colorbar": {
              "outlinewidth": 0,
              "ticks": ""
             }
            },
            "marker": {
             "colorbar": {
              "outlinewidth": 0,
              "ticks": ""
             }
            },
            "type": "scatter3d"
           }
          ],
          "scattercarpet": [
           {
            "marker": {
             "colorbar": {
              "outlinewidth": 0,
              "ticks": ""
             }
            },
            "type": "scattercarpet"
           }
          ],
          "scattergeo": [
           {
            "marker": {
             "colorbar": {
              "outlinewidth": 0,
              "ticks": ""
             }
            },
            "type": "scattergeo"
           }
          ],
          "scattergl": [
           {
            "marker": {
             "colorbar": {
              "outlinewidth": 0,
              "ticks": ""
             }
            },
            "type": "scattergl"
           }
          ],
          "scattermapbox": [
           {
            "marker": {
             "colorbar": {
              "outlinewidth": 0,
              "ticks": ""
             }
            },
            "type": "scattermapbox"
           }
          ],
          "scatterpolar": [
           {
            "marker": {
             "colorbar": {
              "outlinewidth": 0,
              "ticks": ""
             }
            },
            "type": "scatterpolar"
           }
          ],
          "scatterpolargl": [
           {
            "marker": {
             "colorbar": {
              "outlinewidth": 0,
              "ticks": ""
             }
            },
            "type": "scatterpolargl"
           }
          ],
          "scatterternary": [
           {
            "marker": {
             "colorbar": {
              "outlinewidth": 0,
              "ticks": ""
             }
            },
            "type": "scatterternary"
           }
          ],
          "surface": [
           {
            "colorbar": {
             "outlinewidth": 0,
             "ticks": ""
            },
            "colorscale": [
             [
              0,
              "#0d0887"
             ],
             [
              0.1111111111111111,
              "#46039f"
             ],
             [
              0.2222222222222222,
              "#7201a8"
             ],
             [
              0.3333333333333333,
              "#9c179e"
             ],
             [
              0.4444444444444444,
              "#bd3786"
             ],
             [
              0.5555555555555556,
              "#d8576b"
             ],
             [
              0.6666666666666666,
              "#ed7953"
             ],
             [
              0.7777777777777778,
              "#fb9f3a"
             ],
             [
              0.8888888888888888,
              "#fdca26"
             ],
             [
              1,
              "#f0f921"
             ]
            ],
            "type": "surface"
           }
          ],
          "table": [
           {
            "cells": {
             "fill": {
              "color": "#EBF0F8"
             },
             "line": {
              "color": "white"
             }
            },
            "header": {
             "fill": {
              "color": "#C8D4E3"
             },
             "line": {
              "color": "white"
             }
            },
            "type": "table"
           }
          ]
         },
         "layout": {
          "annotationdefaults": {
           "arrowcolor": "#2a3f5f",
           "arrowhead": 0,
           "arrowwidth": 1
          },
          "autotypenumbers": "strict",
          "coloraxis": {
           "colorbar": {
            "outlinewidth": 0,
            "ticks": ""
           }
          },
          "colorscale": {
           "diverging": [
            [
             0,
             "#8e0152"
            ],
            [
             0.1,
             "#c51b7d"
            ],
            [
             0.2,
             "#de77ae"
            ],
            [
             0.3,
             "#f1b6da"
            ],
            [
             0.4,
             "#fde0ef"
            ],
            [
             0.5,
             "#f7f7f7"
            ],
            [
             0.6,
             "#e6f5d0"
            ],
            [
             0.7,
             "#b8e186"
            ],
            [
             0.8,
             "#7fbc41"
            ],
            [
             0.9,
             "#4d9221"
            ],
            [
             1,
             "#276419"
            ]
           ],
           "sequential": [
            [
             0,
             "#0d0887"
            ],
            [
             0.1111111111111111,
             "#46039f"
            ],
            [
             0.2222222222222222,
             "#7201a8"
            ],
            [
             0.3333333333333333,
             "#9c179e"
            ],
            [
             0.4444444444444444,
             "#bd3786"
            ],
            [
             0.5555555555555556,
             "#d8576b"
            ],
            [
             0.6666666666666666,
             "#ed7953"
            ],
            [
             0.7777777777777778,
             "#fb9f3a"
            ],
            [
             0.8888888888888888,
             "#fdca26"
            ],
            [
             1,
             "#f0f921"
            ]
           ],
           "sequentialminus": [
            [
             0,
             "#0d0887"
            ],
            [
             0.1111111111111111,
             "#46039f"
            ],
            [
             0.2222222222222222,
             "#7201a8"
            ],
            [
             0.3333333333333333,
             "#9c179e"
            ],
            [
             0.4444444444444444,
             "#bd3786"
            ],
            [
             0.5555555555555556,
             "#d8576b"
            ],
            [
             0.6666666666666666,
             "#ed7953"
            ],
            [
             0.7777777777777778,
             "#fb9f3a"
            ],
            [
             0.8888888888888888,
             "#fdca26"
            ],
            [
             1,
             "#f0f921"
            ]
           ]
          },
          "colorway": [
           "#636efa",
           "#EF553B",
           "#00cc96",
           "#ab63fa",
           "#FFA15A",
           "#19d3f3",
           "#FF6692",
           "#B6E880",
           "#FF97FF",
           "#FECB52"
          ],
          "font": {
           "color": "#2a3f5f"
          },
          "geo": {
           "bgcolor": "white",
           "lakecolor": "white",
           "landcolor": "#E5ECF6",
           "showlakes": true,
           "showland": true,
           "subunitcolor": "white"
          },
          "hoverlabel": {
           "align": "left"
          },
          "hovermode": "closest",
          "mapbox": {
           "style": "light"
          },
          "paper_bgcolor": "white",
          "plot_bgcolor": "#E5ECF6",
          "polar": {
           "angularaxis": {
            "gridcolor": "white",
            "linecolor": "white",
            "ticks": ""
           },
           "bgcolor": "#E5ECF6",
           "radialaxis": {
            "gridcolor": "white",
            "linecolor": "white",
            "ticks": ""
           }
          },
          "scene": {
           "xaxis": {
            "backgroundcolor": "#E5ECF6",
            "gridcolor": "white",
            "gridwidth": 2,
            "linecolor": "white",
            "showbackground": true,
            "ticks": "",
            "zerolinecolor": "white"
           },
           "yaxis": {
            "backgroundcolor": "#E5ECF6",
            "gridcolor": "white",
            "gridwidth": 2,
            "linecolor": "white",
            "showbackground": true,
            "ticks": "",
            "zerolinecolor": "white"
           },
           "zaxis": {
            "backgroundcolor": "#E5ECF6",
            "gridcolor": "white",
            "gridwidth": 2,
            "linecolor": "white",
            "showbackground": true,
            "ticks": "",
            "zerolinecolor": "white"
           }
          },
          "shapedefaults": {
           "line": {
            "color": "#2a3f5f"
           }
          },
          "ternary": {
           "aaxis": {
            "gridcolor": "white",
            "linecolor": "white",
            "ticks": ""
           },
           "baxis": {
            "gridcolor": "white",
            "linecolor": "white",
            "ticks": ""
           },
           "bgcolor": "#E5ECF6",
           "caxis": {
            "gridcolor": "white",
            "linecolor": "white",
            "ticks": ""
           }
          },
          "title": {
           "x": 0.05
          },
          "xaxis": {
           "automargin": true,
           "gridcolor": "white",
           "linecolor": "white",
           "ticks": "",
           "title": {
            "standoff": 15
           },
           "zerolinecolor": "white",
           "zerolinewidth": 2
          },
          "yaxis": {
           "automargin": true,
           "gridcolor": "white",
           "linecolor": "white",
           "ticks": "",
           "title": {
            "standoff": 15
           },
           "zerolinecolor": "white",
           "zerolinewidth": 2
          }
         }
        }
       }
      }
     },
     "metadata": {},
     "output_type": "display_data"
    }
   ],
   "source": [
    "#output_file = \"/home/user/TIPTOE/plot_ion_tau_calc_output_data/ion_prob_new.csv\"\n",
    "#write_csv_prob(output_file, delay, ion_y, ion_qs, ion_na)\n",
    "\n",
    "\n",
    "\n",
    "fig = go.Figure()\n",
    "fig.add_trace(go.Scatter(x=delay, y=ion_y-ion_y[0], mode='lines', name='ion_y'))\n",
    "fig.add_trace(go.Scatter(x=delay, y=ion_na-ion_na[0], mode='lines', name='ion_na'))\n",
    "fig.add_trace(go.Scatter(x=delay, y=ion_qs-ion_qs[0], mode='lines', name='ion_qs'))\n",
    "fig.show()"
   ]
  },
  {
   "cell_type": "code",
   "execution_count": 39,
   "id": "18345004",
   "metadata": {},
   "outputs": [
    {
     "data": {
      "application/vnd.plotly.v1+json": {
       "config": {
        "plotlyServerURL": "https://plot.ly"
       },
       "data": [
        {
         "mode": "lines+markers",
         "name": "ion_y",
         "type": "scatter",
         "x": [
          481.8,
          444,
          406.2,
          368.39,
          330.59,
          292.79,
          254.99,
          217.18,
          179.38,
          141.58,
          103.77,
          101.27,
          98.77,
          96.27,
          93.77,
          91.27,
          88.77,
          86.27,
          83.77,
          81.27,
          78.77,
          76.27,
          73.77,
          71.27,
          68.77,
          66.26,
          63.76,
          61.26,
          58.76,
          56.26,
          53.76,
          51.26,
          48.76,
          46.26,
          43.76,
          41.26,
          38.76,
          36.26,
          33.76,
          31.26,
          28.76,
          26.26,
          23.76,
          21.25,
          18.75,
          16.25,
          13.75,
          11.25,
          8.75,
          6.25,
          3.75,
          1.25,
          0,
          -1.25,
          -3.75,
          -6.25,
          -8.75,
          -11.25,
          -13.75,
          -16.25,
          -18.75,
          -21.25,
          -23.76,
          -26.26,
          -28.76,
          -31.26,
          -33.76,
          -36.26,
          -38.76,
          -41.26,
          -43.76,
          -46.26,
          -48.76,
          -51.26,
          -53.76,
          -56.26,
          -58.76,
          -61.26,
          -63.76,
          -66.26,
          -68.77,
          -71.27,
          -73.77,
          -76.27,
          -78.77,
          -81.27,
          -83.77,
          -86.27,
          -88.77,
          -91.27,
          -93.77,
          -96.27,
          -98.77,
          -101.27,
          -103.77,
          -141.58,
          -179.38,
          -217.18,
          -254.99,
          -292.79,
          -330.59,
          -368.39,
          -406.2,
          -444,
          -481.8
         ],
         "y": [
          0.01484237932,
          0.01484228537,
          0.01484246561,
          0.01484254209,
          0.01484235537,
          0.01484228719,
          0.01484249906,
          0.01484250332,
          0.01484233051,
          0.01484252199,
          0.01485905484,
          0.0148632988,
          0.01486401343,
          0.01485951562,
          0.0148488598,
          0.01483230601,
          0.01481162783,
          0.01479014736,
          0.01477239929,
          0.01476338109,
          0.01476745389,
          0.01478709684,
          0.01482183451,
          0.01486768832,
          0.01491741609,
          0.01496177018,
          0.0149906358,
          0.01499636747,
          0.01497514801,
          0.01492873601,
          0.01486496835,
          0.01479688431,
          0.01474041323,
          0.01471094658,
          0.01471950233,
          0.01476943655,
          0.01485463246,
          0.01495977346,
          0.01506278449,
          0.01513899206,
          0.01516617633,
          0.01512953167,
          0.01502557238,
          0.01486341196,
          0.01466713069,
          0.0144685185,
          0.01430385861,
          0.01420631572,
          0.01419893396,
          0.01428934864,
          0.01446754611,
          0.01470729493,
          0.01483875309,
          0.01497097248,
          0.01521669734,
          0.01540618407,
          0.01551167553,
          0.01552063552,
          0.01543743965,
          0.01528190534,
          0.01508504139,
          0.01488284664,
          0.01470874167,
          0.01458986125,
          0.01453832837,
          0.01455279809,
          0.01461934117,
          0.01471568838,
          0.01481685623,
          0.01490069053,
          0.01495206359,
          0.01496498719,
          0.01494251632,
          0.0148948132,
          0.01483603237,
          0.01478080169,
          0.01474105646,
          0.01472384948,
          0.01473050415,
          0.01475713893,
          0.01479642971,
          0.01483906778,
          0.01487687472,
          0.01490380768,
          0.01491695296,
          0.01491656375,
          0.01490541692,
          0.01488775349,
          0.01486811493,
          0.01485035533,
          0.01483701727,
          0.01482913515,
          0.0148264119,
          0.01482763527,
          0.01483117752,
          0.01484459509,
          0.01484576933,
          0.01484086576,
          0.01483963434,
          0.01484220562,
          0.01484520588,
          0.01484287873,
          0.01483988713,
          0.01484219138,
          0.01484483685
         ]
        },
        {
         "mode": "lines",
         "name": "ion_na",
         "type": "scatter",
         "x": [
          481.8,
          444,
          406.2,
          368.39,
          330.59,
          292.79,
          254.99,
          217.18,
          179.38,
          141.58,
          103.77,
          101.27,
          98.77,
          96.27,
          93.77,
          91.27,
          88.77,
          86.27,
          83.77,
          81.27,
          78.77,
          76.27,
          73.77,
          71.27,
          68.77,
          66.26,
          63.76,
          61.26,
          58.76,
          56.26,
          53.76,
          51.26,
          48.76,
          46.26,
          43.76,
          41.26,
          38.76,
          36.26,
          33.76,
          31.26,
          28.76,
          26.26,
          23.76,
          21.25,
          18.75,
          16.25,
          13.75,
          11.25,
          8.75,
          6.25,
          3.75,
          1.25,
          0,
          -1.25,
          -3.75,
          -6.25,
          -8.75,
          -11.25,
          -13.75,
          -16.25,
          -18.75,
          -21.25,
          -23.76,
          -26.26,
          -28.76,
          -31.26,
          -33.76,
          -36.26,
          -38.76,
          -41.26,
          -43.76,
          -46.26,
          -48.76,
          -51.26,
          -53.76,
          -56.26,
          -58.76,
          -61.26,
          -63.76,
          -66.26,
          -68.77,
          -71.27,
          -73.77,
          -76.27,
          -78.77,
          -81.27,
          -83.77,
          -86.27,
          -88.77,
          -91.27,
          -93.77,
          -96.27,
          -98.77,
          -101.27,
          -103.77,
          -141.58,
          -179.38,
          -217.18,
          -254.99,
          -292.79,
          -330.59,
          -368.39,
          -406.2,
          -444,
          -481.8
         ],
         "y": [
          0.0148485318224153,
          0.014842072013146579,
          0.014854673045276323,
          0.014841733980676008,
          0.0148556926770671,
          0.014841733259002843,
          0.014851804210536224,
          0.01484287424826325,
          0.01484309957678831,
          0.014843759474570506,
          0.014855058717838321,
          0.014854967478233672,
          0.014851737802034193,
          0.014844796828158313,
          0.014834290652376403,
          0.014821281556469557,
          0.014807780713649854,
          0.014796573956112336,
          0.014790819249559717,
          0.014793427599008369,
          0.01480629761129848,
          0.014829552990707207,
          0.01486100035424498,
          0.014896037567560194,
          0.01492817174856953,
          0.014950218226455703,
          0.01495558808210995,
          0.01494058777791496,
          0.01490543490588081,
          0.014855108802770856,
          0.014799076394468647,
          0.014749899093306262,
          0.014720866397171295,
          0.014723050039991525,
          0.01476236239926243,
          0.014837290822276361,
          0.014937932526674413,
          0.015046756705355713,
          0.015141186780197713,
          0.015197683936559403,
          0.015196617577915683,
          0.015126936827529303,
          0.014989595430057179,
          0.014798024243880104,
          0.01458015901903642,
          0.014369843971684393,
          0.014203921492282556,
          0.014114748358874718,
          0.01412372132662676,
          0.014236499162234906,
          0.014441033983032092,
          0.014708994920690999,
          0.014854551851319231,
          0.015000450395170728,
          0.015270947006384428,
          0.01547957491687002,
          0.015596379587599074,
          0.015607614385832358,
          0.015517787346766121,
          0.015348135477027625,
          0.015131918909912057,
          0.014907601347463273,
          0.01471072776096749,
          0.014570463144611523,
          0.014500486930954959,
          0.014501125988464203,
          0.014560139647307846,
          0.014656629920377973,
          0.014766145865420022,
          0.014865800227280457,
          0.014938372445142512,
          0.01497471673210038,
          0.014974229704027953,
          0.014943563291368589,
          0.014894108757423585,
          0.014838960917955113,
          0.014790071244544567,
          0.014756136954810262,
          0.014741514652589216,
          0.014746173964963694,
          0.014766595867776955,
          0.01479668964437153,
          0.0148298094699717,
          0.014859834223651669,
          0.01488224585272191,
          0.014894687812317287,
          0.014897025259165808,
          0.014890966445865739,
          0.014879382878004055,
          0.01486551511691614,
          0.014852256613265835,
          0.014841664437566737,
          0.014834764748068663,
          0.014831629846661087,
          0.014831635306685298,
          0.014842629214903758,
          0.014843200649388377,
          0.014843470482486354,
          0.014852159304483914,
          0.014841735155594948,
          0.014855692428243139,
          0.014841733682762648,
          0.0148546733184457,
          0.014842072176485699,
          0.01484853197735736
         ]
        },
        {
         "mode": "lines",
         "name": "ion_qs",
         "type": "scatter",
         "x": [
          481.8,
          444,
          406.2,
          368.39,
          330.59,
          292.79,
          254.99,
          217.18,
          179.38,
          141.58,
          103.77,
          101.27,
          98.77,
          96.27,
          93.77,
          91.27,
          88.77,
          86.27,
          83.77,
          81.27,
          78.77,
          76.27,
          73.77,
          71.27,
          68.77,
          66.26,
          63.76,
          61.26,
          58.76,
          56.26,
          53.76,
          51.26,
          48.76,
          46.26,
          43.76,
          41.26,
          38.76,
          36.26,
          33.76,
          31.26,
          28.76,
          26.26,
          23.76,
          21.25,
          18.75,
          16.25,
          13.75,
          11.25,
          8.75,
          6.25,
          3.75,
          1.25,
          0,
          -1.25,
          -3.75,
          -6.25,
          -8.75,
          -11.25,
          -13.75,
          -16.25,
          -18.75,
          -21.25,
          -23.76,
          -26.26,
          -28.76,
          -31.26,
          -33.76,
          -36.26,
          -38.76,
          -41.26,
          -43.76,
          -46.26,
          -48.76,
          -51.26,
          -53.76,
          -56.26,
          -58.76,
          -61.26,
          -63.76,
          -66.26,
          -68.77,
          -71.27,
          -73.77,
          -76.27,
          -78.77,
          -81.27,
          -83.77,
          -86.27,
          -88.77,
          -91.27,
          -93.77,
          -96.27,
          -98.77,
          -101.27,
          -103.77,
          -141.58,
          -179.38,
          -217.18,
          -254.99,
          -292.79,
          -330.59,
          -368.39,
          -406.2,
          -444,
          -481.8
         ],
         "y": [
          0.010953279260361937,
          0.010953279260361937,
          0.010953279260361826,
          0.010953279260361826,
          0.010953279260361937,
          0.010953279260361937,
          0.010953279260361826,
          0.010953279260361937,
          0.01095327926038081,
          0.01095327611451058,
          0.010958151490574441,
          0.010957391982791442,
          0.01095521491234186,
          0.010951428920467854,
          0.010946159486551088,
          0.01093993705139562,
          0.010933709484515997,
          0.010928755512992105,
          0.010926493718136254,
          0.010928201985702102,
          0.010934683378201582,
          0.010945937075161782,
          0.010960915936520155,
          0.010977466512030465,
          0.01099253700793057,
          0.01100271660715213,
          0.011004863665305398,
          0.010997250964163818,
          0.010980136465701285,
          0.010956231770220204,
          0.010930577743329728,
          0.010909807600150256,
          0.010900870302874344,
          0.010909425548352614,
          0.010938223565983507,
          0.01098583193866498,
          0.011046058946303394,
          0.011108339162225311,
          0.011159184423711221,
          0.011184572062283404,
          0.01117288683619555,
          0.011117827277568049,
          0.011020605152900265,
          0.01089028445828244,
          0.01074526437977008,
          0.0106076170009608,
          0.010501314838954334,
          0.010447303514477091,
          0.010459233110115429,
          0.010540315117522847,
          0.010682071516671998,
          0.010865364129851174,
          0.010964439649651325,
          0.01106358085128345,
          0.011247354525636855,
          0.011389843476200978,
          0.011471492905320013,
          0.011483329426957956,
          0.011428166878329815,
          0.011319543025488432,
          0.011178675603697674,
          0.01103012998876951,
          0.01089666797883948,
          0.010797262170348376,
          0.010741170353549157,
          0.010729438676682967,
          0.010755331395932988,
          0.010806707584707476,
          0.010869105614175645,
          0.010928817078264208,
          0.010975335387677032,
          0.011002778187249707,
          0.011010151106767507,
          0.011000585905972748,
          0.010979891711312084,
          0.010954857138110285,
          0.010931715537615294,
          0.010915058210260287,
          0.010907308384975889,
          0.010908716936566809,
          0.010917797952683439,
          0.010931770895503679,
          0.010947501521231917,
          0.010962038976432331,
          0.010973151701111683,
          0.0109796210123847,
          0.010981287992419153,
          0.010978879741135095,
          0.010973687451279912,
          0.010967193651336915,
          0.010960742079888064,
          0.01095531499922242,
          0.01095144202183207,
          0.010949226648745425,
          0.010948452360143746,
          0.010953282407079268,
          0.010953279260343063,
          0.010953279260361937,
          0.010953279260361937,
          0.010953279260361937,
          0.010953279260361937,
          0.010953279260361937,
          0.010953279260361937,
          0.010953279260361937,
          0.010953279260361937
         ]
        }
       ],
       "layout": {
        "template": {
         "data": {
          "bar": [
           {
            "error_x": {
             "color": "#2a3f5f"
            },
            "error_y": {
             "color": "#2a3f5f"
            },
            "marker": {
             "line": {
              "color": "#E5ECF6",
              "width": 0.5
             },
             "pattern": {
              "fillmode": "overlay",
              "size": 10,
              "solidity": 0.2
             }
            },
            "type": "bar"
           }
          ],
          "barpolar": [
           {
            "marker": {
             "line": {
              "color": "#E5ECF6",
              "width": 0.5
             },
             "pattern": {
              "fillmode": "overlay",
              "size": 10,
              "solidity": 0.2
             }
            },
            "type": "barpolar"
           }
          ],
          "carpet": [
           {
            "aaxis": {
             "endlinecolor": "#2a3f5f",
             "gridcolor": "white",
             "linecolor": "white",
             "minorgridcolor": "white",
             "startlinecolor": "#2a3f5f"
            },
            "baxis": {
             "endlinecolor": "#2a3f5f",
             "gridcolor": "white",
             "linecolor": "white",
             "minorgridcolor": "white",
             "startlinecolor": "#2a3f5f"
            },
            "type": "carpet"
           }
          ],
          "choropleth": [
           {
            "colorbar": {
             "outlinewidth": 0,
             "ticks": ""
            },
            "type": "choropleth"
           }
          ],
          "contour": [
           {
            "colorbar": {
             "outlinewidth": 0,
             "ticks": ""
            },
            "colorscale": [
             [
              0,
              "#0d0887"
             ],
             [
              0.1111111111111111,
              "#46039f"
             ],
             [
              0.2222222222222222,
              "#7201a8"
             ],
             [
              0.3333333333333333,
              "#9c179e"
             ],
             [
              0.4444444444444444,
              "#bd3786"
             ],
             [
              0.5555555555555556,
              "#d8576b"
             ],
             [
              0.6666666666666666,
              "#ed7953"
             ],
             [
              0.7777777777777778,
              "#fb9f3a"
             ],
             [
              0.8888888888888888,
              "#fdca26"
             ],
             [
              1,
              "#f0f921"
             ]
            ],
            "type": "contour"
           }
          ],
          "contourcarpet": [
           {
            "colorbar": {
             "outlinewidth": 0,
             "ticks": ""
            },
            "type": "contourcarpet"
           }
          ],
          "heatmap": [
           {
            "colorbar": {
             "outlinewidth": 0,
             "ticks": ""
            },
            "colorscale": [
             [
              0,
              "#0d0887"
             ],
             [
              0.1111111111111111,
              "#46039f"
             ],
             [
              0.2222222222222222,
              "#7201a8"
             ],
             [
              0.3333333333333333,
              "#9c179e"
             ],
             [
              0.4444444444444444,
              "#bd3786"
             ],
             [
              0.5555555555555556,
              "#d8576b"
             ],
             [
              0.6666666666666666,
              "#ed7953"
             ],
             [
              0.7777777777777778,
              "#fb9f3a"
             ],
             [
              0.8888888888888888,
              "#fdca26"
             ],
             [
              1,
              "#f0f921"
             ]
            ],
            "type": "heatmap"
           }
          ],
          "heatmapgl": [
           {
            "colorbar": {
             "outlinewidth": 0,
             "ticks": ""
            },
            "colorscale": [
             [
              0,
              "#0d0887"
             ],
             [
              0.1111111111111111,
              "#46039f"
             ],
             [
              0.2222222222222222,
              "#7201a8"
             ],
             [
              0.3333333333333333,
              "#9c179e"
             ],
             [
              0.4444444444444444,
              "#bd3786"
             ],
             [
              0.5555555555555556,
              "#d8576b"
             ],
             [
              0.6666666666666666,
              "#ed7953"
             ],
             [
              0.7777777777777778,
              "#fb9f3a"
             ],
             [
              0.8888888888888888,
              "#fdca26"
             ],
             [
              1,
              "#f0f921"
             ]
            ],
            "type": "heatmapgl"
           }
          ],
          "histogram": [
           {
            "marker": {
             "pattern": {
              "fillmode": "overlay",
              "size": 10,
              "solidity": 0.2
             }
            },
            "type": "histogram"
           }
          ],
          "histogram2d": [
           {
            "colorbar": {
             "outlinewidth": 0,
             "ticks": ""
            },
            "colorscale": [
             [
              0,
              "#0d0887"
             ],
             [
              0.1111111111111111,
              "#46039f"
             ],
             [
              0.2222222222222222,
              "#7201a8"
             ],
             [
              0.3333333333333333,
              "#9c179e"
             ],
             [
              0.4444444444444444,
              "#bd3786"
             ],
             [
              0.5555555555555556,
              "#d8576b"
             ],
             [
              0.6666666666666666,
              "#ed7953"
             ],
             [
              0.7777777777777778,
              "#fb9f3a"
             ],
             [
              0.8888888888888888,
              "#fdca26"
             ],
             [
              1,
              "#f0f921"
             ]
            ],
            "type": "histogram2d"
           }
          ],
          "histogram2dcontour": [
           {
            "colorbar": {
             "outlinewidth": 0,
             "ticks": ""
            },
            "colorscale": [
             [
              0,
              "#0d0887"
             ],
             [
              0.1111111111111111,
              "#46039f"
             ],
             [
              0.2222222222222222,
              "#7201a8"
             ],
             [
              0.3333333333333333,
              "#9c179e"
             ],
             [
              0.4444444444444444,
              "#bd3786"
             ],
             [
              0.5555555555555556,
              "#d8576b"
             ],
             [
              0.6666666666666666,
              "#ed7953"
             ],
             [
              0.7777777777777778,
              "#fb9f3a"
             ],
             [
              0.8888888888888888,
              "#fdca26"
             ],
             [
              1,
              "#f0f921"
             ]
            ],
            "type": "histogram2dcontour"
           }
          ],
          "mesh3d": [
           {
            "colorbar": {
             "outlinewidth": 0,
             "ticks": ""
            },
            "type": "mesh3d"
           }
          ],
          "parcoords": [
           {
            "line": {
             "colorbar": {
              "outlinewidth": 0,
              "ticks": ""
             }
            },
            "type": "parcoords"
           }
          ],
          "pie": [
           {
            "automargin": true,
            "type": "pie"
           }
          ],
          "scatter": [
           {
            "fillpattern": {
             "fillmode": "overlay",
             "size": 10,
             "solidity": 0.2
            },
            "type": "scatter"
           }
          ],
          "scatter3d": [
           {
            "line": {
             "colorbar": {
              "outlinewidth": 0,
              "ticks": ""
             }
            },
            "marker": {
             "colorbar": {
              "outlinewidth": 0,
              "ticks": ""
             }
            },
            "type": "scatter3d"
           }
          ],
          "scattercarpet": [
           {
            "marker": {
             "colorbar": {
              "outlinewidth": 0,
              "ticks": ""
             }
            },
            "type": "scattercarpet"
           }
          ],
          "scattergeo": [
           {
            "marker": {
             "colorbar": {
              "outlinewidth": 0,
              "ticks": ""
             }
            },
            "type": "scattergeo"
           }
          ],
          "scattergl": [
           {
            "marker": {
             "colorbar": {
              "outlinewidth": 0,
              "ticks": ""
             }
            },
            "type": "scattergl"
           }
          ],
          "scattermapbox": [
           {
            "marker": {
             "colorbar": {
              "outlinewidth": 0,
              "ticks": ""
             }
            },
            "type": "scattermapbox"
           }
          ],
          "scatterpolar": [
           {
            "marker": {
             "colorbar": {
              "outlinewidth": 0,
              "ticks": ""
             }
            },
            "type": "scatterpolar"
           }
          ],
          "scatterpolargl": [
           {
            "marker": {
             "colorbar": {
              "outlinewidth": 0,
              "ticks": ""
             }
            },
            "type": "scatterpolargl"
           }
          ],
          "scatterternary": [
           {
            "marker": {
             "colorbar": {
              "outlinewidth": 0,
              "ticks": ""
             }
            },
            "type": "scatterternary"
           }
          ],
          "surface": [
           {
            "colorbar": {
             "outlinewidth": 0,
             "ticks": ""
            },
            "colorscale": [
             [
              0,
              "#0d0887"
             ],
             [
              0.1111111111111111,
              "#46039f"
             ],
             [
              0.2222222222222222,
              "#7201a8"
             ],
             [
              0.3333333333333333,
              "#9c179e"
             ],
             [
              0.4444444444444444,
              "#bd3786"
             ],
             [
              0.5555555555555556,
              "#d8576b"
             ],
             [
              0.6666666666666666,
              "#ed7953"
             ],
             [
              0.7777777777777778,
              "#fb9f3a"
             ],
             [
              0.8888888888888888,
              "#fdca26"
             ],
             [
              1,
              "#f0f921"
             ]
            ],
            "type": "surface"
           }
          ],
          "table": [
           {
            "cells": {
             "fill": {
              "color": "#EBF0F8"
             },
             "line": {
              "color": "white"
             }
            },
            "header": {
             "fill": {
              "color": "#C8D4E3"
             },
             "line": {
              "color": "white"
             }
            },
            "type": "table"
           }
          ]
         },
         "layout": {
          "annotationdefaults": {
           "arrowcolor": "#2a3f5f",
           "arrowhead": 0,
           "arrowwidth": 1
          },
          "autotypenumbers": "strict",
          "coloraxis": {
           "colorbar": {
            "outlinewidth": 0,
            "ticks": ""
           }
          },
          "colorscale": {
           "diverging": [
            [
             0,
             "#8e0152"
            ],
            [
             0.1,
             "#c51b7d"
            ],
            [
             0.2,
             "#de77ae"
            ],
            [
             0.3,
             "#f1b6da"
            ],
            [
             0.4,
             "#fde0ef"
            ],
            [
             0.5,
             "#f7f7f7"
            ],
            [
             0.6,
             "#e6f5d0"
            ],
            [
             0.7,
             "#b8e186"
            ],
            [
             0.8,
             "#7fbc41"
            ],
            [
             0.9,
             "#4d9221"
            ],
            [
             1,
             "#276419"
            ]
           ],
           "sequential": [
            [
             0,
             "#0d0887"
            ],
            [
             0.1111111111111111,
             "#46039f"
            ],
            [
             0.2222222222222222,
             "#7201a8"
            ],
            [
             0.3333333333333333,
             "#9c179e"
            ],
            [
             0.4444444444444444,
             "#bd3786"
            ],
            [
             0.5555555555555556,
             "#d8576b"
            ],
            [
             0.6666666666666666,
             "#ed7953"
            ],
            [
             0.7777777777777778,
             "#fb9f3a"
            ],
            [
             0.8888888888888888,
             "#fdca26"
            ],
            [
             1,
             "#f0f921"
            ]
           ],
           "sequentialminus": [
            [
             0,
             "#0d0887"
            ],
            [
             0.1111111111111111,
             "#46039f"
            ],
            [
             0.2222222222222222,
             "#7201a8"
            ],
            [
             0.3333333333333333,
             "#9c179e"
            ],
            [
             0.4444444444444444,
             "#bd3786"
            ],
            [
             0.5555555555555556,
             "#d8576b"
            ],
            [
             0.6666666666666666,
             "#ed7953"
            ],
            [
             0.7777777777777778,
             "#fb9f3a"
            ],
            [
             0.8888888888888888,
             "#fdca26"
            ],
            [
             1,
             "#f0f921"
            ]
           ]
          },
          "colorway": [
           "#636efa",
           "#EF553B",
           "#00cc96",
           "#ab63fa",
           "#FFA15A",
           "#19d3f3",
           "#FF6692",
           "#B6E880",
           "#FF97FF",
           "#FECB52"
          ],
          "font": {
           "color": "#2a3f5f"
          },
          "geo": {
           "bgcolor": "white",
           "lakecolor": "white",
           "landcolor": "#E5ECF6",
           "showlakes": true,
           "showland": true,
           "subunitcolor": "white"
          },
          "hoverlabel": {
           "align": "left"
          },
          "hovermode": "closest",
          "mapbox": {
           "style": "light"
          },
          "paper_bgcolor": "white",
          "plot_bgcolor": "#E5ECF6",
          "polar": {
           "angularaxis": {
            "gridcolor": "white",
            "linecolor": "white",
            "ticks": ""
           },
           "bgcolor": "#E5ECF6",
           "radialaxis": {
            "gridcolor": "white",
            "linecolor": "white",
            "ticks": ""
           }
          },
          "scene": {
           "xaxis": {
            "backgroundcolor": "#E5ECF6",
            "gridcolor": "white",
            "gridwidth": 2,
            "linecolor": "white",
            "showbackground": true,
            "ticks": "",
            "zerolinecolor": "white"
           },
           "yaxis": {
            "backgroundcolor": "#E5ECF6",
            "gridcolor": "white",
            "gridwidth": 2,
            "linecolor": "white",
            "showbackground": true,
            "ticks": "",
            "zerolinecolor": "white"
           },
           "zaxis": {
            "backgroundcolor": "#E5ECF6",
            "gridcolor": "white",
            "gridwidth": 2,
            "linecolor": "white",
            "showbackground": true,
            "ticks": "",
            "zerolinecolor": "white"
           }
          },
          "shapedefaults": {
           "line": {
            "color": "#2a3f5f"
           }
          },
          "ternary": {
           "aaxis": {
            "gridcolor": "white",
            "linecolor": "white",
            "ticks": ""
           },
           "baxis": {
            "gridcolor": "white",
            "linecolor": "white",
            "ticks": ""
           },
           "bgcolor": "#E5ECF6",
           "caxis": {
            "gridcolor": "white",
            "linecolor": "white",
            "ticks": ""
           }
          },
          "title": {
           "x": 0.05
          },
          "xaxis": {
           "automargin": true,
           "gridcolor": "white",
           "linecolor": "white",
           "ticks": "",
           "title": {
            "standoff": 15
           },
           "zerolinecolor": "white",
           "zerolinewidth": 2
          },
          "yaxis": {
           "automargin": true,
           "gridcolor": "white",
           "linecolor": "white",
           "ticks": "",
           "title": {
            "standoff": 15
           },
           "zerolinecolor": "white",
           "zerolinewidth": 2
          }
         }
        }
       }
      }
     },
     "metadata": {},
     "output_type": "display_data"
    }
   ],
   "source": [
    "fig = go.Figure()\n",
    "fig.add_trace(go.Scatter(x=delay, y=ion_y, mode='lines+markers', name='ion_y'))\n",
    "fig.add_trace(go.Scatter(x=delay, y=ion_na, mode='lines', name='ion_na'))\n",
    "fig.add_trace(go.Scatter(x=delay, y=ion_qs, mode='lines', name='ion_qs'))\n",
    "fig.show()"
   ]
  },
  {
   "cell_type": "code",
   "execution_count": 8,
   "id": "687c1145",
   "metadata": {},
   "outputs": [],
   "source": [
    "\n",
    "for file_name, wavelength_pump, wavelength_probe, intensity_pump, intensity_probe, FWHM in file_params:\n",
    "    file_path = f\"/home/user/TIPTOE/process_all_files_output/{file_name}\"\n",
    "    delay, ion_y = read_ion_Prob_data(file_path)\n",
    "    time, OptCycPump = calc_time_tau_pump(wavelength_pump)\n",
    "    field_pump, field_probe = calc_fields_pump_probe(time, wavelength_pump, wavelength_probe, intensity_pump, intensity_probe, OptCycPump, FWHM)\n",
    "    fieldTotDel = calc_fieldTotDel(field_pump, field_probe)\n",
    "    ion_qs, ion_na = calc_ion_Prob_QS_NA(time, fieldTotDel)\n",
    "    ion_QS=ion_qs(delay)\n",
    "    ion_NA=ion_na(delay)\n",
    "    output_file = f\"/home/user/TIPTOE/plot_ion_tau_calc_output_data/ion_prob_QS_NA_{wavelength_pump}nm_{wavelength_probe}nm_{intensity_pump:.2e}.csv\"\n",
    "    write_csv_prob(output_file, delay, ion_y, ion_QS, ion_NA)"
   ]
  }
 ],
 "metadata": {
  "jupytext": {
   "cell_metadata_filter": "-all",
   "main_language": "python",
   "notebook_metadata_filter": "-all"
  },
  "kernelspec": {
   "display_name": "Python 3",
   "language": "python",
   "name": "python3"
  },
  "language_info": {
   "codemirror_mode": {
    "name": "ipython",
    "version": 3
   },
   "file_extension": ".py",
   "mimetype": "text/x-python",
   "name": "python",
   "nbconvert_exporter": "python",
   "pygments_lexer": "ipython3",
   "version": "3.10.12"
  }
 },
 "nbformat": 4,
 "nbformat_minor": 5
}
